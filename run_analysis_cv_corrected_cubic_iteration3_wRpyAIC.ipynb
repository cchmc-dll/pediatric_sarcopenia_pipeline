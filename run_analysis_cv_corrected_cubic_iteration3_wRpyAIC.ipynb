{
 "cells": [
  {
   "cell_type": "markdown",
   "metadata": {
    "slideshow": {
     "slide_type": "slide"
    }
   },
   "source": [
    "# Data analysis of skeletal muscle area and SMI for normal patients"
   ]
  },
  {
   "cell_type": "code",
   "execution_count": 1,
   "metadata": {
    "slideshow": {
     "slide_type": "skip"
    }
   },
   "outputs": [
    {
     "data": {
      "text/html": [
       "<script>\n",
       "code_show=false; \n",
       "function code_toggle() {\n",
       " if (code_show){\n",
       " $('div.input').hide();\n",
       " } else {\n",
       " $('div.input').show();\n",
       " }\n",
       " code_show = !code_show\n",
       "} \n",
       "$( document ).ready(code_toggle);\n",
       "</script>\n",
       "<form action=\"javascript:code_toggle()\"><input type=\"submit\" value=\"Click here to toggle on/off the raw code.\"></form>"
      ],
      "text/plain": [
       "<IPython.core.display.HTML object>"
      ]
     },
     "execution_count": 1,
     "metadata": {},
     "output_type": "execute_result"
    }
   ],
   "source": [
    "from IPython.display import HTML\n",
    "\n",
    "HTML('''<script>\n",
    "code_show=false; \n",
    "function code_toggle() {\n",
    " if (code_show){\n",
    " $('div.input').hide();\n",
    " } else {\n",
    " $('div.input').show();\n",
    " }\n",
    " code_show = !code_show\n",
    "} \n",
    "$( document ).ready(code_toggle);\n",
    "</script>\n",
    "<form action=\"javascript:code_toggle()\"><input type=\"submit\" value=\"Click here to toggle on/off the raw code.\"></form>''')"
   ]
  },
  {
   "cell_type": "markdown",
   "metadata": {
    "slideshow": {
     "slide_type": "skip"
    }
   },
   "source": [
    "###### Load libraries and directories"
   ]
  },
  {
   "cell_type": "code",
   "execution_count": 2,
   "metadata": {
    "slideshow": {
     "slide_type": "skip"
    }
   },
   "outputs": [],
   "source": [
    "# from IPython import get_ipython\n",
    "from IPython.display import display, HTML\n",
    "#from tqdm.notebook import tqdm\n",
    "import pickle\n",
    "import os\n",
    "import pprint\n",
    "pp = pprint.PrettyPrinter(indent=1)\n",
    "\n",
    "import pandas as pd\n",
    "import numpy as np\n",
    "\n",
    "import json\n",
    "\n",
    "# Custom functions\n",
    "import pickle\n",
    "def save_object(obj, filename):\n",
    "    with open(filename, 'wb') as output:  # Overwrites any existing file.\n",
    "        pickle.dump(obj, output, pickle.HIGHEST_PROTOCOL)\n",
    "\n",
    "def load_object(filename):        \n",
    "    with open(filename, 'rb') as input:\n",
    "        return pickle.load(input)\n",
    "    "
   ]
  },
  {
   "cell_type": "code",
   "execution_count": 52,
   "metadata": {
    "slideshow": {
     "slide_type": "skip"
    }
   },
   "outputs": [
    {
     "name": "stderr",
     "output_type": "stream",
     "text": [
      "WARNING: pip is being invoked by an old script wrapper. This will fail in a future version of pip.\n",
      "Please see https://github.com/pypa/pip/issues/5599 for advice on fixing the underlying issue.\n",
      "To avoid this problem you can invoke Python with '-m pip' instead of running pip directly.\n"
     ]
    },
    {
     "name": "stdout",
     "output_type": "stream",
     "text": [
      "Defaulting to user installation because normal site-packages is not writeable\n",
      "Collecting sklearn\n",
      "  Downloading sklearn-0.0.tar.gz (1.1 kB)\n",
      "Collecting scikit-learn\n",
      "  Downloading scikit_learn-0.24.2-cp38-cp38-manylinux2010_x86_64.whl (24.9 MB)\n",
      "Collecting threadpoolctl>=2.0.0\n",
      "  Downloading threadpoolctl-2.1.0-py3-none-any.whl (12 kB)\n",
      "Requirement already satisfied: numpy>=1.13.3 in /usr/local/lib/python3.8/dist-packages (from scikit-learn->sklearn) (1.20.2)\n",
      "Requirement already satisfied: scipy>=0.19.1 in /home/jupyteruser/.local/lib/python3.8/site-packages (from scikit-learn->sklearn) (1.7.0)\n",
      "Collecting joblib>=0.11\n",
      "  Downloading joblib-1.0.1-py3-none-any.whl (303 kB)\n",
      "Building wheels for collected packages: sklearn\n",
      "  Building wheel for sklearn (setup.py): started\n",
      "  Building wheel for sklearn (setup.py): finished with status 'done'\n",
      "  Created wheel for sklearn: filename=sklearn-0.0-py2.py3-none-any.whl size=1316 sha256=99ec1a9efe41ee549704991c02bfad5773b0c511bbae061e213c9d76fc9e4558\n",
      "  Stored in directory: /home/jupyteruser/.cache/pip/wheels/22/0b/40/fd3f795caaa1fb4c6cb738bc1f56100be1e57da95849bfc897\n",
      "Successfully built sklearn\n",
      "Installing collected packages: threadpoolctl, joblib, scikit-learn, sklearn\n",
      "Successfully installed joblib-1.0.1 scikit-learn-0.24.2 sklearn-0.0 threadpoolctl-2.1.0\n"
     ]
    },
    {
     "name": "stderr",
     "output_type": "stream",
     "text": [
      "WARNING: You are using pip version 21.0.1; however, version 21.1.3 is available.\n",
      "You should consider upgrading via the '/usr/bin/python3 -m pip install --upgrade pip' command.\n"
     ]
    }
   ],
   "source": [
    "# Install statsmodels if it doesn't exist\n",
    "import pip\n",
    "def import_or_install(package):\n",
    "    try:\n",
    "        return __import__(package)\n",
    "    except ImportError:\n",
    "        pip.main(['install', package]) \n",
    "        \n",
    "packages = ['statsmodels','matplotlib','scipy','pygrowup','sklearn']\n",
    "\n",
    "for package in packages:\n",
    "    import_or_install(package)"
   ]
  },
  {
   "cell_type": "code",
   "execution_count": 4,
   "metadata": {
    "slideshow": {
     "slide_type": "skip"
    }
   },
   "outputs": [
    {
     "name": "stderr",
     "output_type": "stream",
     "text": [
      "No traceback available to show.\n"
     ]
    }
   ],
   "source": [
    "import statsmodels.api as sm\n",
    "import statsmodels.formula.api as smf\n",
    "import matplotlib.pyplot as plt\n",
    "import matplotlib.image as mpimg\n",
    "import scipy.stats as stats\n",
    "get_ipython().run_line_magic('tb', '')"
   ]
  },
  {
   "cell_type": "code",
   "execution_count": 5,
   "metadata": {
    "slideshow": {
     "slide_type": "skip"
    }
   },
   "outputs": [
    {
     "name": "stdout",
     "output_type": "stream",
     "text": [
      "/home/jupyteruser/smipipeline\n"
     ]
    }
   ],
   "source": [
    "cwd = os.getcwd()\n",
    "print(cwd)"
   ]
  },
  {
   "cell_type": "code",
   "execution_count": 6,
   "metadata": {
    "slideshow": {
     "slide_type": "skip"
    }
   },
   "outputs": [],
   "source": [
    "data = '/home/jupyteruser/data'\n",
    "pickles = '/home/jupyteruser/pickles'\n",
    "models = '/home/jupyteruser/models'"
   ]
  },
  {
   "cell_type": "code",
   "execution_count": 7,
   "metadata": {
    "scrolled": true,
    "slideshow": {
     "slide_type": "skip"
    }
   },
   "outputs": [
    {
     "name": "stdout",
     "output_type": "stream",
     "text": [
      "{'l3_finder': {'cache_dir': '/tf/_cache/',\n",
      "               'cache_intermediate_results': True,\n",
      "               'dicom_dir': '/tf/data',\n",
      "               'model_path_dir': '/tf/models/l3/cv_final',\n",
      "               'new_tim_dicom_dir_structure': True,\n",
      "               'output_directory': '/tf/output/cv_poorl3/l3',\n",
      "               'overwrite': True,\n",
      "               'save_plots': True,\n",
      "               'show_plots': False},\n",
      " 'muscle_segmentor': {'model_path_dir': '/tf/models/muscle/cv_final',\n",
      "                      'output_directory': '/tf/output/cv_poorl3/ms'}}\n"
     ]
    }
   ],
   "source": [
    "# Import modules and config file\n",
    "configfile = os.path.join(cwd,'config/debug_ES/run_prediction_CV_poorl3.json')\n",
    "with open(configfile, \"r\") as f:\n",
    "        config = json.load(f)\n",
    "pp.pprint(config)"
   ]
  },
  {
   "cell_type": "code",
   "execution_count": 13,
   "metadata": {},
   "outputs": [
    {
     "name": "stdout",
     "output_type": "stream",
     "text": [
      "{'l3_finder': {'cache_dir': '/home/jupyteruser/_cache/',\n",
      "               'cache_intermediate_results': True,\n",
      "               'dicom_dir': '/home/jupyteruser/data',\n",
      "               'model_path_dir': '/home/jupyteruser/models/l3/cv_final',\n",
      "               'new_tim_dicom_dir_structure': True,\n",
      "               'output_directory': '/home/jupyteruser/output/cv_poorl3/l3',\n",
      "               'overwrite': True,\n",
      "               'save_plots': True,\n",
      "               'show_plots': False},\n",
      " 'muscle_segmentor': {'model_path_dir': '/home/jupyteruser/models/muscle/cv_final',\n",
      "                      'output_directory': '/home/jupyteruser/output/cv_poorl3/ms'}}\n"
     ]
    }
   ],
   "source": [
    "for key in config.keys():\n",
    "    for label, value in config[key].items():\n",
    "        if type(value) is str:\n",
    "            config[key][label] = value.replace('/tf', '/home/jupyteruser')\n",
    "\n",
    "pp.pprint(config)"
   ]
  },
  {
   "cell_type": "markdown",
   "metadata": {
    "slideshow": {
     "slide_type": "slide"
    }
   },
   "source": [
    "## Produce data for analysis using prediction results and preprocessing results"
   ]
  },
  {
   "cell_type": "code",
   "execution_count": 14,
   "metadata": {
    "slideshow": {
     "slide_type": "skip"
    }
   },
   "outputs": [],
   "source": [
    "# Load the area csv\n",
    "filename = 'areas-mm2_by_subject_id_manualarea_for_outliers.csv'\n",
    "#filename = 'areas-mm2_by_subject_id.csv'\n",
    "\n",
    "\n",
    "sma_csv = os.path.join(config[\"muscle_segmentor\"][\"output_directory\"],filename)\n",
    "df_sma = pd.read_csv(sma_csv, index_col=False)"
   ]
  },
  {
   "cell_type": "code",
   "execution_count": 15,
   "metadata": {
    "slideshow": {
     "slide_type": "skip"
    }
   },
   "outputs": [
    {
     "data": {
      "text/html": [
       "<div>\n",
       "<style scoped>\n",
       "    .dataframe tbody tr th:only-of-type {\n",
       "        vertical-align: middle;\n",
       "    }\n",
       "\n",
       "    .dataframe tbody tr th {\n",
       "        vertical-align: top;\n",
       "    }\n",
       "\n",
       "    .dataframe thead th {\n",
       "        text-align: right;\n",
       "    }\n",
       "</style>\n",
       "<table border=\"1\" class=\"dataframe\">\n",
       "  <thead>\n",
       "    <tr style=\"text-align: right;\">\n",
       "      <th></th>\n",
       "      <th>subject_id</th>\n",
       "      <th>area_mm2</th>\n",
       "      <th>% auto mask pixels</th>\n",
       "      <th>% manual mask pixels</th>\n",
       "      <th>area_mm2_Elan</th>\n",
       "      <th>sagittal_series</th>\n",
       "      <th>axial_series</th>\n",
       "    </tr>\n",
       "  </thead>\n",
       "  <tbody>\n",
       "    <tr>\n",
       "      <th>0</th>\n",
       "      <td>Z862651</td>\n",
       "      <td>15337.387500</td>\n",
       "      <td>NaN</td>\n",
       "      <td>NaN</td>\n",
       "      <td>NaN</td>\n",
       "      <td>Z862651-SE-10-Bone_Sagittal_Bone_Bone_3.0</td>\n",
       "      <td>Z862651-SE-5-Std_Axial_Body_Std_5.0</td>\n",
       "    </tr>\n",
       "    <tr>\n",
       "      <th>1</th>\n",
       "      <td>Z1310189</td>\n",
       "      <td>5194.947664</td>\n",
       "      <td>NaN</td>\n",
       "      <td>NaN</td>\n",
       "      <td>NaN</td>\n",
       "      <td>recon from: Z1310189-SE-4-Std_Axial_Body_Std_5.0</td>\n",
       "      <td>Z1310189-SE-4-Std_Axial_Body_Std_5.0</td>\n",
       "    </tr>\n",
       "    <tr>\n",
       "      <th>2</th>\n",
       "      <td>Z1452514</td>\n",
       "      <td>10329.928960</td>\n",
       "      <td>NaN</td>\n",
       "      <td>NaN</td>\n",
       "      <td>NaN</td>\n",
       "      <td>Z1452514-SE-9-Bone_Sagittal_Bone_Bone_3.0</td>\n",
       "      <td>Z1452514-SE-4-Std_Axial_Body_Std_5.0</td>\n",
       "    </tr>\n",
       "    <tr>\n",
       "      <th>3</th>\n",
       "      <td>Z1178360</td>\n",
       "      <td>7812.500000</td>\n",
       "      <td>NaN</td>\n",
       "      <td>NaN</td>\n",
       "      <td>NaN</td>\n",
       "      <td>recon from: Z1178360-SE-4-Body_5.0_CE</td>\n",
       "      <td>Z1178360-SE-4-Body_5.0_CE</td>\n",
       "    </tr>\n",
       "    <tr>\n",
       "      <th>4</th>\n",
       "      <td>Z1244498</td>\n",
       "      <td>4626.782208</td>\n",
       "      <td>NaN</td>\n",
       "      <td>NaN</td>\n",
       "      <td>NaN</td>\n",
       "      <td>Z1244498-SE-7-Bone_Sagittal_3.000</td>\n",
       "      <td>Z1244498-SE-2-Body_5.0</td>\n",
       "    </tr>\n",
       "    <tr>\n",
       "      <th>5</th>\n",
       "      <td>Z514679</td>\n",
       "      <td>15866.068320</td>\n",
       "      <td>NaN</td>\n",
       "      <td>NaN</td>\n",
       "      <td>NaN</td>\n",
       "      <td>Z514679-SE-11-Bone_Sagittal_3.000</td>\n",
       "      <td>Z514679-SE-5-Body__5.0</td>\n",
       "    </tr>\n",
       "    <tr>\n",
       "      <th>6</th>\n",
       "      <td>Z617099</td>\n",
       "      <td>10991.944600</td>\n",
       "      <td>NaN</td>\n",
       "      <td>NaN</td>\n",
       "      <td>NaN</td>\n",
       "      <td>recon from: Z617099-SE-3-Body</td>\n",
       "      <td>Z617099-SE-3-Body</td>\n",
       "    </tr>\n",
       "    <tr>\n",
       "      <th>7</th>\n",
       "      <td>Z437139</td>\n",
       "      <td>9915.643712</td>\n",
       "      <td>NaN</td>\n",
       "      <td>NaN</td>\n",
       "      <td>NaN</td>\n",
       "      <td>recon from: Z437139-SE-3-Pediatric_Std_5.0</td>\n",
       "      <td>Z437139-SE-3-Pediatric_Std_5.0</td>\n",
       "    </tr>\n",
       "    <tr>\n",
       "      <th>8</th>\n",
       "      <td>Z597267</td>\n",
       "      <td>6663.738276</td>\n",
       "      <td>NaN</td>\n",
       "      <td>NaN</td>\n",
       "      <td>NaN</td>\n",
       "      <td>recon from: Z597267-SE-4-Std_Axial_Body_Std_5.0</td>\n",
       "      <td>Z597267-SE-4-Std_Axial_Body_Std_5.0</td>\n",
       "    </tr>\n",
       "    <tr>\n",
       "      <th>9</th>\n",
       "      <td>Z1106026</td>\n",
       "      <td>6036.252768</td>\n",
       "      <td>NaN</td>\n",
       "      <td>NaN</td>\n",
       "      <td>NaN</td>\n",
       "      <td>Z1106026-SE-5-Sagittal_Body</td>\n",
       "      <td>Z1106026-SE-1002-Body_Clarity</td>\n",
       "    </tr>\n",
       "  </tbody>\n",
       "</table>\n",
       "</div>"
      ],
      "text/plain": [
       "  subject_id      area_mm2  % auto mask pixels  % manual mask pixels  \\\n",
       "0    Z862651  15337.387500                 NaN                   NaN   \n",
       "1   Z1310189   5194.947664                 NaN                   NaN   \n",
       "2   Z1452514  10329.928960                 NaN                   NaN   \n",
       "3   Z1178360   7812.500000                 NaN                   NaN   \n",
       "4   Z1244498   4626.782208                 NaN                   NaN   \n",
       "5    Z514679  15866.068320                 NaN                   NaN   \n",
       "6    Z617099  10991.944600                 NaN                   NaN   \n",
       "7    Z437139   9915.643712                 NaN                   NaN   \n",
       "8    Z597267   6663.738276                 NaN                   NaN   \n",
       "9   Z1106026   6036.252768                 NaN                   NaN   \n",
       "\n",
       "   area_mm2_Elan                                   sagittal_series  \\\n",
       "0            NaN         Z862651-SE-10-Bone_Sagittal_Bone_Bone_3.0   \n",
       "1            NaN  recon from: Z1310189-SE-4-Std_Axial_Body_Std_5.0   \n",
       "2            NaN         Z1452514-SE-9-Bone_Sagittal_Bone_Bone_3.0   \n",
       "3            NaN             recon from: Z1178360-SE-4-Body_5.0_CE   \n",
       "4            NaN                 Z1244498-SE-7-Bone_Sagittal_3.000   \n",
       "5            NaN                 Z514679-SE-11-Bone_Sagittal_3.000   \n",
       "6            NaN                     recon from: Z617099-SE-3-Body   \n",
       "7            NaN        recon from: Z437139-SE-3-Pediatric_Std_5.0   \n",
       "8            NaN   recon from: Z597267-SE-4-Std_Axial_Body_Std_5.0   \n",
       "9            NaN                       Z1106026-SE-5-Sagittal_Body   \n",
       "\n",
       "                           axial_series  \n",
       "0   Z862651-SE-5-Std_Axial_Body_Std_5.0  \n",
       "1  Z1310189-SE-4-Std_Axial_Body_Std_5.0  \n",
       "2  Z1452514-SE-4-Std_Axial_Body_Std_5.0  \n",
       "3             Z1178360-SE-4-Body_5.0_CE  \n",
       "4                Z1244498-SE-2-Body_5.0  \n",
       "5                Z514679-SE-5-Body__5.0  \n",
       "6                     Z617099-SE-3-Body  \n",
       "7        Z437139-SE-3-Pediatric_Std_5.0  \n",
       "8   Z597267-SE-4-Std_Axial_Body_Std_5.0  \n",
       "9         Z1106026-SE-1002-Body_Clarity  "
      ]
     },
     "metadata": {},
     "output_type": "display_data"
    },
    {
     "name": "stdout",
     "output_type": "stream",
     "text": [
      "Final patients for analysis:  1362\n"
     ]
    }
   ],
   "source": [
    "if 'outliers' in filename: # MOdified area sheet with manual area calculated for outlier patients\n",
    "    display(df_sma.head(10))\n",
    "    df_sma_manuals = df_sma.loc[~df_sma['area_mm2_Elan'].isnull()]\n",
    "    for i,row in df_sma_manuals.iterrows():\n",
    "        df_sma.loc[df_sma['subject_id']==row['subject_id'],'area_mm2'] = row['area_mm2_Elan']\n",
    "    \n",
    "\n",
    "# Manually identified diseases cases [by Andrew]:\n",
    "man_disease = ['Z832424','Z1256768']\n",
    "\n",
    "df_sma= df_sma.loc[~df_sma['subject_id'].isin(man_disease)]\n",
    "df_sma = df_sma[['subject_id','area_mm2','sagittal_series','axial_series']]\n",
    "print('Final patients for analysis: ',len(df_sma))"
   ]
  },
  {
   "cell_type": "code",
   "execution_count": 16,
   "metadata": {
    "slideshow": {
     "slide_type": "skip"
    }
   },
   "outputs": [],
   "source": [
    "# change subject_id to id\n",
    "df_sma.columns=['ID','area_mm2','sagittals','axials']\n",
    "#display(df_sma.head(2))"
   ]
  },
  {
   "cell_type": "code",
   "execution_count": 17,
   "metadata": {
    "slideshow": {
     "slide_type": "skip"
    }
   },
   "outputs": [],
   "source": [
    "# Load the df_final pickle\n",
    "df_final_d1 = load_object(os.path.join(pickles,'df_final_dump1_processed.pkl'))\n",
    "#print('dump 1 length = ',len(df_final_d1))\n",
    "df_final_d2 = load_object(os.path.join(pickles,'df_final_dump2_processed.pkl'))\n",
    "#print('dump 2 length = ',len(df_final_d2))"
   ]
  },
  {
   "cell_type": "code",
   "execution_count": 18,
   "metadata": {
    "slideshow": {
     "slide_type": "skip"
    }
   },
   "outputs": [
    {
     "name": "stdout",
     "output_type": "stream",
     "text": [
      "Total processed final length =  2367\n"
     ]
    }
   ],
   "source": [
    "# Merge the  2 dumps\n",
    "df_final = df_final_d1.append(df_final_d2)\n",
    "print('Total processed final length = ',len(df_final))"
   ]
  },
  {
   "cell_type": "code",
   "execution_count": 19,
   "metadata": {
    "slideshow": {
     "slide_type": "skip"
    }
   },
   "outputs": [],
   "source": [
    "# Create the dataframe for analysis by merging df_sma with df_final\n",
    "# Replace axial and sagittal series in df_final with df_sma that has \n",
    "# pointers to reconstructed sagittals, preserve the other fields.\n",
    "df_final = df_final.drop(columns=['Axial','Sagittal'])\n",
    "#display(df_final.head(10))"
   ]
  },
  {
   "cell_type": "code",
   "execution_count": 20,
   "metadata": {
    "slideshow": {
     "slide_type": "skip"
    }
   },
   "outputs": [],
   "source": [
    "# Make sure both dfs are equal length\n",
    "#print('Sma len: ', len(df_sma))\n",
    "#print('Final len: ', len(df_final))"
   ]
  },
  {
   "cell_type": "code",
   "execution_count": 21,
   "metadata": {
    "slideshow": {
     "slide_type": "slide"
    }
   },
   "outputs": [
    {
     "name": "stdout",
     "output_type": "stream",
     "text": [
      "No of patients processed successfully:  1362\n"
     ]
    }
   ],
   "source": [
    "# 25 cases failed because of L3 level was out of bound, get rid of those for now:\n",
    "df_final = df_final[df_final['ID'].isin(df_sma['ID'].values)]\n",
    "print('No of patients processed successfully: ', len(df_final))"
   ]
  },
  {
   "cell_type": "code",
   "execution_count": 22,
   "metadata": {
    "slideshow": {
     "slide_type": "skip"
    }
   },
   "outputs": [],
   "source": [
    "# Now merge on ID\n",
    "df_analysis = pd.merge(df_sma,df_final, on=\"ID\")\n",
    "#display(df_analysis.head(10))"
   ]
  },
  {
   "cell_type": "code",
   "execution_count": 23,
   "metadata": {
    "slideshow": {
     "slide_type": "skip"
    }
   },
   "outputs": [],
   "source": [
    "# Load age information from patlist csv\n",
    "# Load normal patient list\n",
    "infile  = 'patlist_with_validBMI_corrected.csv'\n",
    "df_P = pd.read_csv(infile, index_col=False)\n",
    "df_P = df_P.loc[:, ~df_P.columns.str.contains('^Unnamed')]\n",
    "# Keep only columns needed\n",
    "df_P = df_P[['PAT_ID','WEIGHT','HEIGHT','BMI_FOR_AGE_PERCENTILE','BMI_CALCULATED','Age',\n",
    " 'Sex',\n",
    " 'Race',\n",
    " 'AgeGroup']]\n",
    "df_P.columns = ['ID','WEIGHT','HEIGHT','BMI_AGE_P','BMI_CALC','Age','Sex','Race','AgeGroup']\n",
    "#display(df_P.head(10))"
   ]
  },
  {
   "cell_type": "code",
   "execution_count": 24,
   "metadata": {
    "slideshow": {
     "slide_type": "slide"
    }
   },
   "outputs": [
    {
     "name": "stdout",
     "output_type": "stream",
     "text": [
      "Total number of normal patients identified 1459\n",
      "Total number of normal patients with images 1362\n"
     ]
    }
   ],
   "source": [
    "# Get rid of patients not in df_analysis\n",
    "print(\"Total number of normal patients identified\", len(df_P))\n",
    "df_P = df_P[df_P['ID'].isin(df_analysis['ID'].values)]\n",
    "print(\"Total number of normal patients with images\", len(df_P))"
   ]
  },
  {
   "cell_type": "code",
   "execution_count": 25,
   "metadata": {
    "slideshow": {
     "slide_type": "skip"
    }
   },
   "outputs": [
    {
     "name": "stdout",
     "output_type": "stream",
     "text": [
      "Length of final analysis df:  1362\n"
     ]
    }
   ],
   "source": [
    "# Merge the patient fields with df_analysis\n",
    "df_analysis = pd.merge(df_P,df_analysis, on=\"ID\")\n",
    "\n",
    "print('Length of final analysis df: ', len(df_analysis))\n",
    "\n",
    "# Redefine AgeGroup be flooring instead of rounding.\n",
    "df_analysis['AgeGroup'] = np.floor(df_analysis['Age'].values)"
   ]
  },
  {
   "cell_type": "code",
   "execution_count": 26,
   "metadata": {},
   "outputs": [
    {
     "name": "stdout",
     "output_type": "stream",
     "text": [
      "Cases with manually identified L3s:  30\n"
     ]
    }
   ],
   "source": [
    "# Manual L3 check\n",
    "infile  = 'poorl3.csv'\n",
    "df_poorl3 = pd.read_csv(infile, index_col=False)\n",
    "\n",
    "l3_present = df_poorl3.loc[~df_poorl3['L3slice'].isnull(),'ID'].values.tolist()\n",
    "print('Cases with manually identified L3s: ', len(l3_present))"
   ]
  },
  {
   "cell_type": "code",
   "execution_count": 27,
   "metadata": {},
   "outputs": [],
   "source": [
    "# This was used to filter exams for prediction in run_prediction_cv\n",
    "# normal_patients_corrected = df_analysis.ID.values.tolist()\n",
    "# print(len(normal_patients_corrected))\n",
    "# save_object(normal_patients_corrected,os.path.join(pickles,'normal_patients_corrected.pkl'))"
   ]
  },
  {
   "cell_type": "code",
   "execution_count": 28,
   "metadata": {},
   "outputs": [
    {
     "name": "stdout",
     "output_type": "stream",
     "text": [
      "Normal L3s that are valid:  16\n",
      "Z418856\n",
      "Z357478\n",
      "Z670302\n",
      "Z1029886\n",
      "Z1302641\n",
      "Z627309\n",
      "Z1722108\n",
      "Z5745\n",
      "Z489517\n",
      "Z1332420\n",
      "Z1263347\n",
      "Z486791\n",
      "Z320930\n",
      "Z1221549\n",
      "Z1274627\n",
      "Z1119985\n"
     ]
    }
   ],
   "source": [
    "l3_present_analysis = [l3 for l3 in l3_present if l3 in df_analysis.ID.values]\n",
    "print('Normal L3s that are valid: ', len(l3_present_analysis))\n",
    "for l3 in l3_present_analysis:\n",
    "    print(l3)"
   ]
  },
  {
   "cell_type": "code",
   "execution_count": 29,
   "metadata": {
    "slideshow": {
     "slide_type": "slide"
    }
   },
   "outputs": [
    {
     "name": "stdout",
     "output_type": "stream",
     "text": [
      "Patients missing BMI calculated: 152\n",
      "Patients missing BMI age percentile: 0\n",
      "Patients missing Height: 15\n",
      "Patients missing Weight 29\n",
      "Patients missing Age 0\n",
      "Patients missing Race 0\n",
      "Patients missing Sex 0\n"
     ]
    }
   ],
   "source": [
    "# Find missing BMI_CALC\n",
    "print('Patients missing BMI calculated:' ,len(df_analysis[df_analysis['BMI_CALC'].isnull()]))\n",
    "print('Patients missing BMI age percentile:' ,len(df_analysis[df_analysis['BMI_AGE_P'].isnull()]))\n",
    "print('Patients missing Height:' ,len(df_analysis[df_analysis['HEIGHT'].isnull()]))\n",
    "print('Patients missing Weight' ,len(df_analysis[df_analysis['WEIGHT'].isnull()]))\n",
    "print('Patients missing Age' ,len(df_analysis[df_analysis['Age'].isnull()]))\n",
    "print('Patients missing Race' ,len(df_analysis[df_analysis['Race'].isnull()]))\n",
    "print('Patients missing Sex' ,len(df_analysis[df_analysis['Sex'].isnull()]))"
   ]
  },
  {
   "cell_type": "code",
   "execution_count": 30,
   "metadata": {
    "slideshow": {
     "slide_type": "skip"
    }
   },
   "outputs": [],
   "source": [
    "df_analysis = df_analysis.sort_values(by=['AgeGroup'],ascending='False')\n",
    "#print(df_analysis['AgeGroup'].value_counts().sort_values())"
   ]
  },
  {
   "cell_type": "code",
   "execution_count": 31,
   "metadata": {
    "slideshow": {
     "slide_type": "subslide"
    }
   },
   "outputs": [
    {
     "name": "stdout",
     "output_type": "stream",
     "text": [
      "No of Patients > 18 years that are discarded 1\n"
     ]
    }
   ],
   "source": [
    "# Patients > 18\n",
    "print('No of Patients > 18 years that are discarded' ,len(df_analysis[df_analysis['AgeGroup'] > 18]))\n",
    "#print('No of Patients < 2.5 yearas' ,len(df_analysis[df_analysis['Age'] < 2.5]))"
   ]
  },
  {
   "cell_type": "code",
   "execution_count": 32,
   "metadata": {
    "slideshow": {
     "slide_type": "skip"
    }
   },
   "outputs": [],
   "source": [
    "#print('No of boys' ,len(df_analysis[df_analysis['Sex'] == 'Male']))\n",
    "#print('No of girls' ,len(df_analysis[df_analysis['Sex'] == 'Female']))"
   ]
  },
  {
   "cell_type": "code",
   "execution_count": 33,
   "metadata": {
    "slideshow": {
     "slide_type": "slide"
    }
   },
   "outputs": [
    {
     "name": "stdout",
     "output_type": "stream",
     "text": [
      "Length of male df =  666\n",
      "Length of female df =  695\n"
     ]
    }
   ],
   "source": [
    "# Create sex stratified and age filtered dfs\n",
    "\n",
    "df_analysis['area_cm2'] = df_analysis['area_mm2']/100\n",
    "\n",
    "\n",
    "df_analysis['smi'] = df_analysis['area_cm2']/((df_analysis['HEIGHT']/100)**2)\n",
    "\n",
    "df_m = df_analysis[(df_analysis['Sex']=='Male') & (df_analysis['AgeGroup'] <= 18)] #& (df_analysis['Age'] > 3)]\n",
    "print('Length of male df = ',len(df_m))\n",
    "df_f = df_analysis[(df_analysis['Sex']=='Female') & (df_analysis['AgeGroup'] <= 18)] # & (df_analysis['Age'] > 3)]\n",
    "print('Length of female df = ',len(df_f))"
   ]
  },
  {
   "cell_type": "code",
   "execution_count": null,
   "metadata": {},
   "outputs": [],
   "source": [
    "674/699"
   ]
  },
  {
   "cell_type": "markdown",
   "metadata": {
    "slideshow": {
     "slide_type": "slide"
    }
   },
   "source": [
    "## Population statistics in comparison to CDC/WHO data"
   ]
  },
  {
   "cell_type": "code",
   "execution_count": 34,
   "metadata": {
    "slideshow": {
     "slide_type": "skip"
    }
   },
   "outputs": [],
   "source": [
    "#Step3: Loop over each unique date in the studies dataframe df_F\n",
    "def get_agewise_stats(df_in):\n",
    "    uniqueages = df_in.AgeGroup.unique() \n",
    "    column_names = ['AgeGroup','Age_IQR','median_area_cm2','median_SMI','samplesize']\n",
    "    df_C = pd.DataFrame(columns = column_names)\n",
    "    #display(df_C)\n",
    "    for age in uniqueages:\n",
    "        df_l = df_in[df_in['AgeGroup']==age]\n",
    "        #mean_ar = np.mean(df_l['area_cm2'])\n",
    "        median_ar = np.median(df_l['area_cm2'])\n",
    "        median_SMI = np.nanmedian(df_l['smi'])\n",
    "        q75, q25 = np.percentile(df_l['Age'], [75 ,25])\n",
    "        age_iqr = q75 - q25\n",
    "        samplesize = len(df_l)\n",
    "        #print([age,mean_ar,median_ar,samplesize])\n",
    "        df = pd.DataFrame([[age,age_iqr,median_ar,median_SMI,samplesize]],columns=column_names)\n",
    "        #display(df)\n",
    "        df_C = pd.concat([df_C,df])\n",
    "    return df_C"
   ]
  },
  {
   "cell_type": "code",
   "execution_count": 35,
   "metadata": {
    "scrolled": true,
    "slideshow": {
     "slide_type": "slide"
    }
   },
   "outputs": [
    {
     "name": "stdout",
     "output_type": "stream",
     "text": [
      "Count statistics stratified by gender and age group\n",
      "(M - Male) (F-Female)\n"
     ]
    },
    {
     "data": {
      "text/html": [
       "<div>\n",
       "<style scoped>\n",
       "    .dataframe tbody tr th:only-of-type {\n",
       "        vertical-align: middle;\n",
       "    }\n",
       "\n",
       "    .dataframe tbody tr th {\n",
       "        vertical-align: top;\n",
       "    }\n",
       "\n",
       "    .dataframe thead th {\n",
       "        text-align: right;\n",
       "    }\n",
       "</style>\n",
       "<table border=\"1\" class=\"dataframe\">\n",
       "  <thead>\n",
       "    <tr style=\"text-align: right;\">\n",
       "      <th></th>\n",
       "      <th>AgeGroup_F</th>\n",
       "      <th>Age_IQR_F</th>\n",
       "      <th>median_area_cm2_F</th>\n",
       "      <th>median_SMI_F</th>\n",
       "      <th>samplesize_F</th>\n",
       "      <th>AgeGroup_M</th>\n",
       "      <th>Age_IQR_M</th>\n",
       "      <th>median_area_cm2_M</th>\n",
       "      <th>median_SMI_M</th>\n",
       "      <th>samplesize_M</th>\n",
       "    </tr>\n",
       "  </thead>\n",
       "  <tbody>\n",
       "    <tr>\n",
       "      <th>0</th>\n",
       "      <td>0.0</td>\n",
       "      <td>0.000000</td>\n",
       "      <td>14.640480</td>\n",
       "      <td>39.345553</td>\n",
       "      <td>1</td>\n",
       "      <td>0.0</td>\n",
       "      <td>0.626472</td>\n",
       "      <td>19.765578</td>\n",
       "      <td>52.728610</td>\n",
       "      <td>4</td>\n",
       "    </tr>\n",
       "    <tr>\n",
       "      <th>0</th>\n",
       "      <td>1.0</td>\n",
       "      <td>0.455484</td>\n",
       "      <td>29.197116</td>\n",
       "      <td>41.796652</td>\n",
       "      <td>3</td>\n",
       "      <td>1.0</td>\n",
       "      <td>0.000251</td>\n",
       "      <td>32.781918</td>\n",
       "      <td>47.632223</td>\n",
       "      <td>2</td>\n",
       "    </tr>\n",
       "    <tr>\n",
       "      <th>0</th>\n",
       "      <td>2.0</td>\n",
       "      <td>0.428267</td>\n",
       "      <td>32.976198</td>\n",
       "      <td>39.966734</td>\n",
       "      <td>13</td>\n",
       "      <td>2.0</td>\n",
       "      <td>0.484531</td>\n",
       "      <td>34.897644</td>\n",
       "      <td>41.780362</td>\n",
       "      <td>20</td>\n",
       "    </tr>\n",
       "    <tr>\n",
       "      <th>0</th>\n",
       "      <td>3.0</td>\n",
       "      <td>0.253105</td>\n",
       "      <td>38.898695</td>\n",
       "      <td>38.597684</td>\n",
       "      <td>10</td>\n",
       "      <td>3.0</td>\n",
       "      <td>0.397020</td>\n",
       "      <td>39.956490</td>\n",
       "      <td>40.795016</td>\n",
       "      <td>23</td>\n",
       "    </tr>\n",
       "    <tr>\n",
       "      <th>0</th>\n",
       "      <td>4.0</td>\n",
       "      <td>0.197646</td>\n",
       "      <td>36.271138</td>\n",
       "      <td>35.265092</td>\n",
       "      <td>10</td>\n",
       "      <td>4.0</td>\n",
       "      <td>0.427749</td>\n",
       "      <td>46.676156</td>\n",
       "      <td>38.838462</td>\n",
       "      <td>25</td>\n",
       "    </tr>\n",
       "    <tr>\n",
       "      <th>0</th>\n",
       "      <td>5.0</td>\n",
       "      <td>0.492027</td>\n",
       "      <td>47.491601</td>\n",
       "      <td>37.241887</td>\n",
       "      <td>12</td>\n",
       "      <td>5.0</td>\n",
       "      <td>0.479479</td>\n",
       "      <td>49.485522</td>\n",
       "      <td>38.228499</td>\n",
       "      <td>34</td>\n",
       "    </tr>\n",
       "    <tr>\n",
       "      <th>0</th>\n",
       "      <td>6.0</td>\n",
       "      <td>0.364520</td>\n",
       "      <td>46.258039</td>\n",
       "      <td>32.809869</td>\n",
       "      <td>28</td>\n",
       "      <td>6.0</td>\n",
       "      <td>0.456054</td>\n",
       "      <td>51.296368</td>\n",
       "      <td>37.048667</td>\n",
       "      <td>32</td>\n",
       "    </tr>\n",
       "    <tr>\n",
       "      <th>0</th>\n",
       "      <td>7.0</td>\n",
       "      <td>0.503201</td>\n",
       "      <td>51.041177</td>\n",
       "      <td>32.358297</td>\n",
       "      <td>27</td>\n",
       "      <td>7.0</td>\n",
       "      <td>0.585376</td>\n",
       "      <td>58.223413</td>\n",
       "      <td>36.757267</td>\n",
       "      <td>40</td>\n",
       "    </tr>\n",
       "    <tr>\n",
       "      <th>0</th>\n",
       "      <td>8.0</td>\n",
       "      <td>0.519758</td>\n",
       "      <td>55.980416</td>\n",
       "      <td>33.016537</td>\n",
       "      <td>30</td>\n",
       "      <td>8.0</td>\n",
       "      <td>0.485649</td>\n",
       "      <td>61.582427</td>\n",
       "      <td>35.099803</td>\n",
       "      <td>33</td>\n",
       "    </tr>\n",
       "    <tr>\n",
       "      <th>0</th>\n",
       "      <td>9.0</td>\n",
       "      <td>0.590334</td>\n",
       "      <td>62.074857</td>\n",
       "      <td>33.034537</td>\n",
       "      <td>34</td>\n",
       "      <td>9.0</td>\n",
       "      <td>0.453900</td>\n",
       "      <td>70.679467</td>\n",
       "      <td>35.741694</td>\n",
       "      <td>28</td>\n",
       "    </tr>\n",
       "    <tr>\n",
       "      <th>0</th>\n",
       "      <td>10.0</td>\n",
       "      <td>0.499228</td>\n",
       "      <td>69.077539</td>\n",
       "      <td>32.084072</td>\n",
       "      <td>35</td>\n",
       "      <td>10.0</td>\n",
       "      <td>0.419865</td>\n",
       "      <td>74.246130</td>\n",
       "      <td>37.109052</td>\n",
       "      <td>48</td>\n",
       "    </tr>\n",
       "    <tr>\n",
       "      <th>0</th>\n",
       "      <td>11.0</td>\n",
       "      <td>0.378145</td>\n",
       "      <td>79.228325</td>\n",
       "      <td>35.605985</td>\n",
       "      <td>37</td>\n",
       "      <td>11.0</td>\n",
       "      <td>0.461359</td>\n",
       "      <td>79.077231</td>\n",
       "      <td>36.844557</td>\n",
       "      <td>47</td>\n",
       "    </tr>\n",
       "    <tr>\n",
       "      <th>0</th>\n",
       "      <td>12.0</td>\n",
       "      <td>0.491895</td>\n",
       "      <td>86.729167</td>\n",
       "      <td>35.620861</td>\n",
       "      <td>49</td>\n",
       "      <td>12.0</td>\n",
       "      <td>0.556372</td>\n",
       "      <td>88.475176</td>\n",
       "      <td>38.066397</td>\n",
       "      <td>57</td>\n",
       "    </tr>\n",
       "    <tr>\n",
       "      <th>0</th>\n",
       "      <td>13.0</td>\n",
       "      <td>0.460925</td>\n",
       "      <td>91.408633</td>\n",
       "      <td>35.719970</td>\n",
       "      <td>64</td>\n",
       "      <td>13.0</td>\n",
       "      <td>0.591260</td>\n",
       "      <td>104.764511</td>\n",
       "      <td>38.239457</td>\n",
       "      <td>56</td>\n",
       "    </tr>\n",
       "    <tr>\n",
       "      <th>0</th>\n",
       "      <td>14.0</td>\n",
       "      <td>0.414641</td>\n",
       "      <td>93.690899</td>\n",
       "      <td>36.282229</td>\n",
       "      <td>79</td>\n",
       "      <td>14.0</td>\n",
       "      <td>0.604825</td>\n",
       "      <td>119.968750</td>\n",
       "      <td>39.837959</td>\n",
       "      <td>47</td>\n",
       "    </tr>\n",
       "    <tr>\n",
       "      <th>0</th>\n",
       "      <td>15.0</td>\n",
       "      <td>0.488975</td>\n",
       "      <td>98.275568</td>\n",
       "      <td>36.013753</td>\n",
       "      <td>91</td>\n",
       "      <td>15.0</td>\n",
       "      <td>0.410458</td>\n",
       "      <td>135.469806</td>\n",
       "      <td>44.126831</td>\n",
       "      <td>54</td>\n",
       "    </tr>\n",
       "    <tr>\n",
       "      <th>0</th>\n",
       "      <td>16.0</td>\n",
       "      <td>0.481615</td>\n",
       "      <td>98.438147</td>\n",
       "      <td>37.518501</td>\n",
       "      <td>75</td>\n",
       "      <td>16.0</td>\n",
       "      <td>0.415670</td>\n",
       "      <td>136.709540</td>\n",
       "      <td>43.482741</td>\n",
       "      <td>57</td>\n",
       "    </tr>\n",
       "    <tr>\n",
       "      <th>0</th>\n",
       "      <td>17.0</td>\n",
       "      <td>0.424159</td>\n",
       "      <td>104.113539</td>\n",
       "      <td>38.858535</td>\n",
       "      <td>74</td>\n",
       "      <td>17.0</td>\n",
       "      <td>0.505748</td>\n",
       "      <td>140.332373</td>\n",
       "      <td>43.857097</td>\n",
       "      <td>40</td>\n",
       "    </tr>\n",
       "    <tr>\n",
       "      <th>0</th>\n",
       "      <td>18.0</td>\n",
       "      <td>0.424194</td>\n",
       "      <td>96.589584</td>\n",
       "      <td>35.956138</td>\n",
       "      <td>23</td>\n",
       "      <td>18.0</td>\n",
       "      <td>0.367849</td>\n",
       "      <td>141.514103</td>\n",
       "      <td>46.261542</td>\n",
       "      <td>19</td>\n",
       "    </tr>\n",
       "  </tbody>\n",
       "</table>\n",
       "</div>"
      ],
      "text/plain": [
       "   AgeGroup_F  Age_IQR_F  median_area_cm2_F  median_SMI_F samplesize_F  \\\n",
       "0         0.0   0.000000          14.640480     39.345553            1   \n",
       "0         1.0   0.455484          29.197116     41.796652            3   \n",
       "0         2.0   0.428267          32.976198     39.966734           13   \n",
       "0         3.0   0.253105          38.898695     38.597684           10   \n",
       "0         4.0   0.197646          36.271138     35.265092           10   \n",
       "0         5.0   0.492027          47.491601     37.241887           12   \n",
       "0         6.0   0.364520          46.258039     32.809869           28   \n",
       "0         7.0   0.503201          51.041177     32.358297           27   \n",
       "0         8.0   0.519758          55.980416     33.016537           30   \n",
       "0         9.0   0.590334          62.074857     33.034537           34   \n",
       "0        10.0   0.499228          69.077539     32.084072           35   \n",
       "0        11.0   0.378145          79.228325     35.605985           37   \n",
       "0        12.0   0.491895          86.729167     35.620861           49   \n",
       "0        13.0   0.460925          91.408633     35.719970           64   \n",
       "0        14.0   0.414641          93.690899     36.282229           79   \n",
       "0        15.0   0.488975          98.275568     36.013753           91   \n",
       "0        16.0   0.481615          98.438147     37.518501           75   \n",
       "0        17.0   0.424159         104.113539     38.858535           74   \n",
       "0        18.0   0.424194          96.589584     35.956138           23   \n",
       "\n",
       "   AgeGroup_M  Age_IQR_M  median_area_cm2_M  median_SMI_M samplesize_M  \n",
       "0         0.0   0.626472          19.765578     52.728610            4  \n",
       "0         1.0   0.000251          32.781918     47.632223            2  \n",
       "0         2.0   0.484531          34.897644     41.780362           20  \n",
       "0         3.0   0.397020          39.956490     40.795016           23  \n",
       "0         4.0   0.427749          46.676156     38.838462           25  \n",
       "0         5.0   0.479479          49.485522     38.228499           34  \n",
       "0         6.0   0.456054          51.296368     37.048667           32  \n",
       "0         7.0   0.585376          58.223413     36.757267           40  \n",
       "0         8.0   0.485649          61.582427     35.099803           33  \n",
       "0         9.0   0.453900          70.679467     35.741694           28  \n",
       "0        10.0   0.419865          74.246130     37.109052           48  \n",
       "0        11.0   0.461359          79.077231     36.844557           47  \n",
       "0        12.0   0.556372          88.475176     38.066397           57  \n",
       "0        13.0   0.591260         104.764511     38.239457           56  \n",
       "0        14.0   0.604825         119.968750     39.837959           47  \n",
       "0        15.0   0.410458         135.469806     44.126831           54  \n",
       "0        16.0   0.415670         136.709540     43.482741           57  \n",
       "0        17.0   0.505748         140.332373     43.857097           40  \n",
       "0        18.0   0.367849         141.514103     46.261542           19  "
      ]
     },
     "metadata": {},
     "output_type": "display_data"
    }
   ],
   "source": [
    "print('Count statistics stratified by gender and age group')\n",
    "print('(M - Male) (F-Female)')    \n",
    "df_f_agestats = get_agewise_stats(df_f).add_suffix('_F')\n",
    "df_m_agestats = get_agewise_stats(df_m).add_suffix('_M')\n",
    "\n",
    "display(pd.concat([df_f_agestats,df_m_agestats],axis=1))\n",
    "#df_f_agestats.to_csv(output+'/Female_summary.csv',index=False)"
   ]
  },
  {
   "cell_type": "markdown",
   "metadata": {},
   "source": [
    "### Since n for age = 0 and 1 are less than 10, process only ages 2 and above."
   ]
  },
  {
   "cell_type": "code",
   "execution_count": 36,
   "metadata": {},
   "outputs": [],
   "source": [
    "df_f = df_f[df_f['Age'] >= 2]\n",
    "df_m = df_m[df_m['Age'] >= 2]     "
   ]
  },
  {
   "cell_type": "markdown",
   "metadata": {
    "slideshow": {
     "slide_type": "slide"
    }
   },
   "source": [
    "### Calculate Z-scores for bmi, height and weight w.r.t to age from WHO/CDC data"
   ]
  },
  {
   "cell_type": "code",
   "execution_count": 39,
   "metadata": {
    "slideshow": {
     "slide_type": "skip"
    }
   },
   "outputs": [],
   "source": [
    "#pip install pygrowup\n",
    "from pygrowup import Calculator\n",
    "from pygrowup import helpers\n",
    "\n",
    "calculator = Calculator(include_cdc=True)\n",
    "\n",
    "def percentile_for_zscore(zscore):\n",
    "    return stats.norm.cdf(zscore)\n",
    "\n",
    "def zscore_for_percentile(p):\n",
    "    return stats.norm.ppf(p)\n",
    "\n",
    "def add_Z_scores(row):\n",
    "    try:\n",
    "        global calculator\n",
    "        valid_age = row['Age']*12\n",
    "        valid_gender = helpers.get_good_sex(row['Sex'])\n",
    "        if (np.isnan(row['HEIGHT'])):\n",
    "            row['height_age_Zscore'] = row[\"HEIGHT\"]\n",
    "        else:\n",
    "            row['height_age_Zscore'] = float(calculator.lhfa(row['HEIGHT'],valid_age,valid_gender))\n",
    "        \n",
    "        if (np.isnan(row['WEIGHT'])):\n",
    "            row['weight_age_Zscore'] = row[\"WEIGHT\"]\n",
    "        else:\n",
    "            row['weight_age_Zscore'] = float(calculator.wfa(row['WEIGHT'],valid_age,valid_gender))\n",
    "            \n",
    "        if (np.isnan(row['BMI_AGE_P'])):\n",
    "            row['bmi_age_Zscore'] = row['BMI_AGE_P']\n",
    "        else:\n",
    "            row['bmi_age_Zscore'] = zscore_for_percentile(row['BMI_AGE_P']/100)\n",
    "    except:\n",
    "        print(row)\n",
    "        raise\n",
    "    return row\n",
    "\n",
    "\n",
    "def add_Zpercentile_scores(row):\n",
    "    try:\n",
    "        if (np.isnan(row['weight_age_Zscore'])):\n",
    "            row['weight_age_Zpercentile'] = row[\"weight_age_Zscore\"]\n",
    "        else:\n",
    "            row['weight_age_Zpercentile'] = 100*percentile_for_zscore(row[\"weight_age_Zscore\"])\n",
    "        \n",
    "        if (np.isnan(row['height_age_Zscore'])):\n",
    "            row['height_age_Zpercentile'] = row[\"height_age_Zscore\"]\n",
    "        else:\n",
    "            row['height_age_Zpercentile'] = 100*percentile_for_zscore(row[\"height_age_Zscore\"])\n",
    "    except:\n",
    "        print(row)\n",
    "        raise\n",
    "    return row"
   ]
  },
  {
   "cell_type": "code",
   "execution_count": 40,
   "metadata": {
    "slideshow": {
     "slide_type": "skip"
    }
   },
   "outputs": [],
   "source": [
    "df_m = df_m.apply(add_Z_scores,axis=1)\n",
    "df_m = df_m.rename({'BMI_AGE_P':'bmi_age_Zpercentile'},axis=1)\n",
    "#df_m.weight_age_Zscore = df_m.weight_age_Zscore.astype(float)\n",
    "#df_m.height_age_Zscore = df_m.height_age_Zscore.astype(float)\n",
    "#df_m.bmi_age_Zscore = df_m.bmi_age_Zscore.astype(float)\n",
    "df_m = df_m.apply(add_Zpercentile_scores,axis=1)"
   ]
  },
  {
   "cell_type": "code",
   "execution_count": 41,
   "metadata": {
    "slideshow": {
     "slide_type": "skip"
    }
   },
   "outputs": [],
   "source": [
    "df_f = df_f.apply(add_Z_scores,axis=1)\n",
    "df_f = df_f.rename({'BMI_AGE_P':'bmi_age_Zpercentile'},axis=1)\n",
    "#df_m.weight_age_Zscore = df_m.weight_age_Zscore.astype(float)\n",
    "#df_m.height_age_Zscore = df_m.height_age_Zscore.astype(float)\n",
    "#df_m.bmi_age_Zscore = df_m.bmi_age_Zscore.astype(float)\n",
    "df_f = df_f.apply(add_Zpercentile_scores,axis=1)"
   ]
  },
  {
   "cell_type": "code",
   "execution_count": 42,
   "metadata": {
    "slideshow": {
     "slide_type": "skip"
    }
   },
   "outputs": [],
   "source": [
    "# Compute descriptive statistics on the dataframe\n",
    "def calculate_stats(df):\n",
    "    num_list = ['BMI_CALC','WEIGHT','HEIGHT','Age','area_cm2','smi','height_age_Zscore','height_age_Zpercentile',\n",
    "                'weight_age_Zscore','weight_age_Zpercentile','bmi_age_Zscore','bmi_age_Zpercentile']\n",
    "    df_num = df[num_list]\n",
    "    df_d = df_num.describe()\n",
    "    df_whites = df.loc[df['Race']=='White',num_list].describe()\n",
    "    df_blacks = df.loc[df['Race']=='Black or African American',num_list].describe()\n",
    "    df_others = df.loc[(df['Race']!='Black or African American') & (df['Race']!='White'),num_list].describe()\n",
    "    \n",
    "    df_whites = df_whites.add_suffix('_W')\n",
    "    df_blacks = df_blacks.add_suffix('_B')\n",
    "    df_others = df_others.add_suffix('_O')\n",
    "    return pd.concat([df_d, df_whites,df_blacks,df_others], axis=1)"
   ]
  },
  {
   "cell_type": "code",
   "execution_count": 43,
   "metadata": {
    "slideshow": {
     "slide_type": "skip"
    }
   },
   "outputs": [],
   "source": [
    "df_m_stats= calculate_stats(df_m).T.round(decimals=2)\n",
    "df_f_stats = calculate_stats(df_f).T.round(decimals=2)"
   ]
  },
  {
   "cell_type": "code",
   "execution_count": 44,
   "metadata": {
    "slideshow": {
     "slide_type": "slide"
    }
   },
   "outputs": [
    {
     "name": "stdout",
     "output_type": "stream",
     "text": [
      "Population Statistics for Male\n"
     ]
    },
    {
     "data": {
      "text/html": [
       "<div>\n",
       "<style scoped>\n",
       "    .dataframe tbody tr th:only-of-type {\n",
       "        vertical-align: middle;\n",
       "    }\n",
       "\n",
       "    .dataframe tbody tr th {\n",
       "        vertical-align: top;\n",
       "    }\n",
       "\n",
       "    .dataframe thead th {\n",
       "        text-align: right;\n",
       "    }\n",
       "</style>\n",
       "<table border=\"1\" class=\"dataframe\">\n",
       "  <thead>\n",
       "    <tr style=\"text-align: right;\">\n",
       "      <th></th>\n",
       "      <th>count</th>\n",
       "      <th>mean</th>\n",
       "      <th>std</th>\n",
       "      <th>min</th>\n",
       "      <th>25%</th>\n",
       "      <th>50%</th>\n",
       "      <th>75%</th>\n",
       "      <th>max</th>\n",
       "    </tr>\n",
       "  </thead>\n",
       "  <tbody>\n",
       "    <tr>\n",
       "      <th>BMI_CALC</th>\n",
       "      <td>569.0</td>\n",
       "      <td>18.87</td>\n",
       "      <td>3.25</td>\n",
       "      <td>13.59</td>\n",
       "      <td>16.33</td>\n",
       "      <td>18.32</td>\n",
       "      <td>21.00</td>\n",
       "      <td>31.02</td>\n",
       "    </tr>\n",
       "    <tr>\n",
       "      <th>WEIGHT</th>\n",
       "      <td>641.0</td>\n",
       "      <td>44.48</td>\n",
       "      <td>20.41</td>\n",
       "      <td>11.00</td>\n",
       "      <td>26.70</td>\n",
       "      <td>41.30</td>\n",
       "      <td>60.50</td>\n",
       "      <td>99.00</td>\n",
       "    </tr>\n",
       "    <tr>\n",
       "      <th>HEIGHT</th>\n",
       "      <td>654.0</td>\n",
       "      <td>147.71</td>\n",
       "      <td>26.88</td>\n",
       "      <td>82.00</td>\n",
       "      <td>127.12</td>\n",
       "      <td>150.00</td>\n",
       "      <td>170.50</td>\n",
       "      <td>205.74</td>\n",
       "    </tr>\n",
       "    <tr>\n",
       "      <th>Age</th>\n",
       "      <td>660.0</td>\n",
       "      <td>11.36</td>\n",
       "      <td>4.41</td>\n",
       "      <td>2.00</td>\n",
       "      <td>7.79</td>\n",
       "      <td>11.99</td>\n",
       "      <td>15.12</td>\n",
       "      <td>18.78</td>\n",
       "    </tr>\n",
       "    <tr>\n",
       "      <th>area_cm2</th>\n",
       "      <td>660.0</td>\n",
       "      <td>91.70</td>\n",
       "      <td>39.51</td>\n",
       "      <td>22.51</td>\n",
       "      <td>58.86</td>\n",
       "      <td>83.50</td>\n",
       "      <td>122.29</td>\n",
       "      <td>207.83</td>\n",
       "    </tr>\n",
       "    <tr>\n",
       "      <th>smi</th>\n",
       "      <td>654.0</td>\n",
       "      <td>40.04</td>\n",
       "      <td>6.71</td>\n",
       "      <td>15.51</td>\n",
       "      <td>35.45</td>\n",
       "      <td>39.33</td>\n",
       "      <td>44.14</td>\n",
       "      <td>66.63</td>\n",
       "    </tr>\n",
       "    <tr>\n",
       "      <th>height_age_Zscore</th>\n",
       "      <td>654.0</td>\n",
       "      <td>0.30</td>\n",
       "      <td>1.17</td>\n",
       "      <td>-5.62</td>\n",
       "      <td>-0.41</td>\n",
       "      <td>0.34</td>\n",
       "      <td>1.02</td>\n",
       "      <td>4.26</td>\n",
       "    </tr>\n",
       "    <tr>\n",
       "      <th>height_age_Zpercentile</th>\n",
       "      <td>654.0</td>\n",
       "      <td>58.45</td>\n",
       "      <td>29.99</td>\n",
       "      <td>0.00</td>\n",
       "      <td>34.18</td>\n",
       "      <td>63.50</td>\n",
       "      <td>84.55</td>\n",
       "      <td>100.00</td>\n",
       "    </tr>\n",
       "    <tr>\n",
       "      <th>weight_age_Zscore</th>\n",
       "      <td>641.0</td>\n",
       "      <td>0.34</td>\n",
       "      <td>0.96</td>\n",
       "      <td>-7.34</td>\n",
       "      <td>-0.25</td>\n",
       "      <td>0.41</td>\n",
       "      <td>1.04</td>\n",
       "      <td>2.43</td>\n",
       "    </tr>\n",
       "    <tr>\n",
       "      <th>weight_age_Zpercentile</th>\n",
       "      <td>641.0</td>\n",
       "      <td>61.01</td>\n",
       "      <td>27.56</td>\n",
       "      <td>0.00</td>\n",
       "      <td>40.13</td>\n",
       "      <td>65.91</td>\n",
       "      <td>85.08</td>\n",
       "      <td>99.25</td>\n",
       "    </tr>\n",
       "    <tr>\n",
       "      <th>bmi_age_Zscore</th>\n",
       "      <td>660.0</td>\n",
       "      <td>0.33</td>\n",
       "      <td>0.83</td>\n",
       "      <td>-1.62</td>\n",
       "      <td>-0.24</td>\n",
       "      <td>0.44</td>\n",
       "      <td>1.03</td>\n",
       "      <td>1.64</td>\n",
       "    </tr>\n",
       "    <tr>\n",
       "      <th>bmi_age_Zpercentile</th>\n",
       "      <td>660.0</td>\n",
       "      <td>60.60</td>\n",
       "      <td>26.74</td>\n",
       "      <td>5.30</td>\n",
       "      <td>40.64</td>\n",
       "      <td>67.09</td>\n",
       "      <td>84.75</td>\n",
       "      <td>94.99</td>\n",
       "    </tr>\n",
       "  </tbody>\n",
       "</table>\n",
       "</div>"
      ],
      "text/plain": [
       "                        count    mean    std    min     25%     50%     75%  \\\n",
       "BMI_CALC                569.0   18.87   3.25  13.59   16.33   18.32   21.00   \n",
       "WEIGHT                  641.0   44.48  20.41  11.00   26.70   41.30   60.50   \n",
       "HEIGHT                  654.0  147.71  26.88  82.00  127.12  150.00  170.50   \n",
       "Age                     660.0   11.36   4.41   2.00    7.79   11.99   15.12   \n",
       "area_cm2                660.0   91.70  39.51  22.51   58.86   83.50  122.29   \n",
       "smi                     654.0   40.04   6.71  15.51   35.45   39.33   44.14   \n",
       "height_age_Zscore       654.0    0.30   1.17  -5.62   -0.41    0.34    1.02   \n",
       "height_age_Zpercentile  654.0   58.45  29.99   0.00   34.18   63.50   84.55   \n",
       "weight_age_Zscore       641.0    0.34   0.96  -7.34   -0.25    0.41    1.04   \n",
       "weight_age_Zpercentile  641.0   61.01  27.56   0.00   40.13   65.91   85.08   \n",
       "bmi_age_Zscore          660.0    0.33   0.83  -1.62   -0.24    0.44    1.03   \n",
       "bmi_age_Zpercentile     660.0   60.60  26.74   5.30   40.64   67.09   84.75   \n",
       "\n",
       "                           max  \n",
       "BMI_CALC                 31.02  \n",
       "WEIGHT                   99.00  \n",
       "HEIGHT                  205.74  \n",
       "Age                      18.78  \n",
       "area_cm2                207.83  \n",
       "smi                      66.63  \n",
       "height_age_Zscore         4.26  \n",
       "height_age_Zpercentile  100.00  \n",
       "weight_age_Zscore         2.43  \n",
       "weight_age_Zpercentile   99.25  \n",
       "bmi_age_Zscore            1.64  \n",
       "bmi_age_Zpercentile      94.99  "
      ]
     },
     "metadata": {},
     "output_type": "display_data"
    }
   ],
   "source": [
    "print(\"Population Statistics for Male\")\n",
    "display(df_m_stats.head(12))"
   ]
  },
  {
   "cell_type": "code",
   "execution_count": 45,
   "metadata": {
    "slideshow": {
     "slide_type": "slide"
    }
   },
   "outputs": [
    {
     "name": "stdout",
     "output_type": "stream",
     "text": [
      "Population Statistics for Female\n"
     ]
    },
    {
     "data": {
      "text/html": [
       "<div>\n",
       "<style scoped>\n",
       "    .dataframe tbody tr th:only-of-type {\n",
       "        vertical-align: middle;\n",
       "    }\n",
       "\n",
       "    .dataframe tbody tr th {\n",
       "        vertical-align: top;\n",
       "    }\n",
       "\n",
       "    .dataframe thead th {\n",
       "        text-align: right;\n",
       "    }\n",
       "</style>\n",
       "<table border=\"1\" class=\"dataframe\">\n",
       "  <thead>\n",
       "    <tr style=\"text-align: right;\">\n",
       "      <th></th>\n",
       "      <th>count</th>\n",
       "      <th>mean</th>\n",
       "      <th>std</th>\n",
       "      <th>min</th>\n",
       "      <th>25%</th>\n",
       "      <th>50%</th>\n",
       "      <th>75%</th>\n",
       "      <th>max</th>\n",
       "    </tr>\n",
       "  </thead>\n",
       "  <tbody>\n",
       "    <tr>\n",
       "      <th>BMI_CALC</th>\n",
       "      <td>631.0</td>\n",
       "      <td>20.45</td>\n",
       "      <td>3.79</td>\n",
       "      <td>13.13</td>\n",
       "      <td>17.38</td>\n",
       "      <td>20.19</td>\n",
       "      <td>23.14</td>\n",
       "      <td>29.61</td>\n",
       "    </tr>\n",
       "    <tr>\n",
       "      <th>WEIGHT</th>\n",
       "      <td>681.0</td>\n",
       "      <td>48.69</td>\n",
       "      <td>17.32</td>\n",
       "      <td>8.60</td>\n",
       "      <td>35.10</td>\n",
       "      <td>51.30</td>\n",
       "      <td>62.20</td>\n",
       "      <td>89.00</td>\n",
       "    </tr>\n",
       "    <tr>\n",
       "      <th>HEIGHT</th>\n",
       "      <td>683.0</td>\n",
       "      <td>150.34</td>\n",
       "      <td>20.17</td>\n",
       "      <td>74.00</td>\n",
       "      <td>141.00</td>\n",
       "      <td>157.00</td>\n",
       "      <td>164.55</td>\n",
       "      <td>191.00</td>\n",
       "    </tr>\n",
       "    <tr>\n",
       "      <th>Age</th>\n",
       "      <td>691.0</td>\n",
       "      <td>12.93</td>\n",
       "      <td>4.00</td>\n",
       "      <td>2.05</td>\n",
       "      <td>10.28</td>\n",
       "      <td>13.93</td>\n",
       "      <td>16.00</td>\n",
       "      <td>18.94</td>\n",
       "    </tr>\n",
       "    <tr>\n",
       "      <th>area_cm2</th>\n",
       "      <td>691.0</td>\n",
       "      <td>83.32</td>\n",
       "      <td>24.68</td>\n",
       "      <td>22.81</td>\n",
       "      <td>64.55</td>\n",
       "      <td>86.73</td>\n",
       "      <td>102.38</td>\n",
       "      <td>146.42</td>\n",
       "    </tr>\n",
       "    <tr>\n",
       "      <th>smi</th>\n",
       "      <td>683.0</td>\n",
       "      <td>36.19</td>\n",
       "      <td>5.75</td>\n",
       "      <td>13.00</td>\n",
       "      <td>32.65</td>\n",
       "      <td>35.68</td>\n",
       "      <td>39.88</td>\n",
       "      <td>77.72</td>\n",
       "    </tr>\n",
       "    <tr>\n",
       "      <th>height_age_Zscore</th>\n",
       "      <td>683.0</td>\n",
       "      <td>0.11</td>\n",
       "      <td>1.16</td>\n",
       "      <td>-7.65</td>\n",
       "      <td>-0.58</td>\n",
       "      <td>0.12</td>\n",
       "      <td>0.82</td>\n",
       "      <td>5.00</td>\n",
       "    </tr>\n",
       "    <tr>\n",
       "      <th>height_age_Zpercentile</th>\n",
       "      <td>683.0</td>\n",
       "      <td>53.65</td>\n",
       "      <td>30.00</td>\n",
       "      <td>0.00</td>\n",
       "      <td>27.93</td>\n",
       "      <td>54.78</td>\n",
       "      <td>79.25</td>\n",
       "      <td>100.00</td>\n",
       "    </tr>\n",
       "    <tr>\n",
       "      <th>weight_age_Zscore</th>\n",
       "      <td>681.0</td>\n",
       "      <td>0.39</td>\n",
       "      <td>0.91</td>\n",
       "      <td>-3.91</td>\n",
       "      <td>-0.14</td>\n",
       "      <td>0.51</td>\n",
       "      <td>1.05</td>\n",
       "      <td>2.37</td>\n",
       "    </tr>\n",
       "    <tr>\n",
       "      <th>weight_age_Zpercentile</th>\n",
       "      <td>681.0</td>\n",
       "      <td>63.06</td>\n",
       "      <td>26.38</td>\n",
       "      <td>0.00</td>\n",
       "      <td>44.43</td>\n",
       "      <td>69.50</td>\n",
       "      <td>85.31</td>\n",
       "      <td>99.11</td>\n",
       "    </tr>\n",
       "    <tr>\n",
       "      <th>bmi_age_Zscore</th>\n",
       "      <td>691.0</td>\n",
       "      <td>0.43</td>\n",
       "      <td>0.78</td>\n",
       "      <td>-1.64</td>\n",
       "      <td>-0.05</td>\n",
       "      <td>0.49</td>\n",
       "      <td>1.06</td>\n",
       "      <td>1.64</td>\n",
       "    </tr>\n",
       "    <tr>\n",
       "      <th>bmi_age_Zpercentile</th>\n",
       "      <td>691.0</td>\n",
       "      <td>63.78</td>\n",
       "      <td>25.04</td>\n",
       "      <td>5.00</td>\n",
       "      <td>48.12</td>\n",
       "      <td>68.81</td>\n",
       "      <td>85.55</td>\n",
       "      <td>94.99</td>\n",
       "    </tr>\n",
       "  </tbody>\n",
       "</table>\n",
       "</div>"
      ],
      "text/plain": [
       "                        count    mean    std    min     25%     50%     75%  \\\n",
       "BMI_CALC                631.0   20.45   3.79  13.13   17.38   20.19   23.14   \n",
       "WEIGHT                  681.0   48.69  17.32   8.60   35.10   51.30   62.20   \n",
       "HEIGHT                  683.0  150.34  20.17  74.00  141.00  157.00  164.55   \n",
       "Age                     691.0   12.93   4.00   2.05   10.28   13.93   16.00   \n",
       "area_cm2                691.0   83.32  24.68  22.81   64.55   86.73  102.38   \n",
       "smi                     683.0   36.19   5.75  13.00   32.65   35.68   39.88   \n",
       "height_age_Zscore       683.0    0.11   1.16  -7.65   -0.58    0.12    0.82   \n",
       "height_age_Zpercentile  683.0   53.65  30.00   0.00   27.93   54.78   79.25   \n",
       "weight_age_Zscore       681.0    0.39   0.91  -3.91   -0.14    0.51    1.05   \n",
       "weight_age_Zpercentile  681.0   63.06  26.38   0.00   44.43   69.50   85.31   \n",
       "bmi_age_Zscore          691.0    0.43   0.78  -1.64   -0.05    0.49    1.06   \n",
       "bmi_age_Zpercentile     691.0   63.78  25.04   5.00   48.12   68.81   85.55   \n",
       "\n",
       "                           max  \n",
       "BMI_CALC                 29.61  \n",
       "WEIGHT                   89.00  \n",
       "HEIGHT                  191.00  \n",
       "Age                      18.94  \n",
       "area_cm2                146.42  \n",
       "smi                      77.72  \n",
       "height_age_Zscore         5.00  \n",
       "height_age_Zpercentile  100.00  \n",
       "weight_age_Zscore         2.37  \n",
       "weight_age_Zpercentile   99.11  \n",
       "bmi_age_Zscore            1.64  \n",
       "bmi_age_Zpercentile      94.99  "
      ]
     },
     "metadata": {},
     "output_type": "display_data"
    }
   ],
   "source": [
    "print(\"Population Statistics for Female\")\n",
    "display(df_f_stats.head(12))"
   ]
  },
  {
   "cell_type": "markdown",
   "metadata": {
    "slideshow": {
     "slide_type": "slide"
    }
   },
   "source": [
    "## Correlation metrics"
   ]
  },
  {
   "cell_type": "code",
   "execution_count": 46,
   "metadata": {
    "slideshow": {
     "slide_type": "skip"
    }
   },
   "outputs": [],
   "source": [
    "from scipy.stats import pearsonr\n",
    "import pandas as pd\n",
    "\n",
    "def calculate_pvalues(df):\n",
    "    # https://stackoverflow.com/questions/25571882/pandas-columns-correlation-with-statistical-significance\n",
    "    df = df.dropna()._get_numeric_data()\n",
    "    dfcols = pd.DataFrame(columns=df.columns)\n",
    "    pvalues = dfcols.transpose().join(dfcols, how='outer')\n",
    "    for r in df.columns:\n",
    "        for c in df.columns:\n",
    "            pvalues[r][c] = round(pearsonr(df[r], df[c])[1], 9)\n",
    "    return pvalues"
   ]
  },
  {
   "cell_type": "code",
   "execution_count": 47,
   "metadata": {
    "slideshow": {
     "slide_type": "slide"
    }
   },
   "outputs": [
    {
     "name": "stdout",
     "output_type": "stream",
     "text": [
      "Correlation Map Male\n"
     ]
    },
    {
     "data": {
      "text/html": [
       "<div>\n",
       "<style scoped>\n",
       "    .dataframe tbody tr th:only-of-type {\n",
       "        vertical-align: middle;\n",
       "    }\n",
       "\n",
       "    .dataframe tbody tr th {\n",
       "        vertical-align: top;\n",
       "    }\n",
       "\n",
       "    .dataframe thead th {\n",
       "        text-align: right;\n",
       "    }\n",
       "</style>\n",
       "<table border=\"1\" class=\"dataframe\">\n",
       "  <thead>\n",
       "    <tr style=\"text-align: right;\">\n",
       "      <th></th>\n",
       "      <th>WEIGHT</th>\n",
       "      <th>HEIGHT</th>\n",
       "      <th>Age</th>\n",
       "      <th>BMI_CALC</th>\n",
       "      <th>bmi_age_Zpercentile</th>\n",
       "      <th>area_cm2</th>\n",
       "      <th>smi</th>\n",
       "    </tr>\n",
       "  </thead>\n",
       "  <tbody>\n",
       "    <tr>\n",
       "      <th>WEIGHT</th>\n",
       "      <td>1.000</td>\n",
       "      <td>0.936</td>\n",
       "      <td>0.904</td>\n",
       "      <td>0.852</td>\n",
       "      <td>0.190</td>\n",
       "      <td>0.935</td>\n",
       "      <td>0.394</td>\n",
       "    </tr>\n",
       "    <tr>\n",
       "      <th>HEIGHT</th>\n",
       "      <td>0.936</td>\n",
       "      <td>1.000</td>\n",
       "      <td>0.947</td>\n",
       "      <td>0.679</td>\n",
       "      <td>0.016</td>\n",
       "      <td>0.901</td>\n",
       "      <td>0.234</td>\n",
       "    </tr>\n",
       "    <tr>\n",
       "      <th>Age</th>\n",
       "      <td>0.904</td>\n",
       "      <td>0.947</td>\n",
       "      <td>1.000</td>\n",
       "      <td>0.691</td>\n",
       "      <td>-0.027</td>\n",
       "      <td>0.877</td>\n",
       "      <td>0.284</td>\n",
       "    </tr>\n",
       "    <tr>\n",
       "      <th>BMI_CALC</th>\n",
       "      <td>0.852</td>\n",
       "      <td>0.679</td>\n",
       "      <td>0.691</td>\n",
       "      <td>1.000</td>\n",
       "      <td>0.571</td>\n",
       "      <td>0.775</td>\n",
       "      <td>0.525</td>\n",
       "    </tr>\n",
       "    <tr>\n",
       "      <th>bmi_age_Zpercentile</th>\n",
       "      <td>0.190</td>\n",
       "      <td>0.016</td>\n",
       "      <td>-0.027</td>\n",
       "      <td>0.571</td>\n",
       "      <td>1.000</td>\n",
       "      <td>0.135</td>\n",
       "      <td>0.305</td>\n",
       "    </tr>\n",
       "    <tr>\n",
       "      <th>area_cm2</th>\n",
       "      <td>0.935</td>\n",
       "      <td>0.901</td>\n",
       "      <td>0.877</td>\n",
       "      <td>0.775</td>\n",
       "      <td>0.135</td>\n",
       "      <td>1.000</td>\n",
       "      <td>0.611</td>\n",
       "    </tr>\n",
       "    <tr>\n",
       "      <th>smi</th>\n",
       "      <td>0.394</td>\n",
       "      <td>0.234</td>\n",
       "      <td>0.284</td>\n",
       "      <td>0.525</td>\n",
       "      <td>0.305</td>\n",
       "      <td>0.611</td>\n",
       "      <td>1.000</td>\n",
       "    </tr>\n",
       "  </tbody>\n",
       "</table>\n",
       "</div>"
      ],
      "text/plain": [
       "                     WEIGHT  HEIGHT    Age  BMI_CALC  bmi_age_Zpercentile  \\\n",
       "WEIGHT                1.000   0.936  0.904     0.852                0.190   \n",
       "HEIGHT                0.936   1.000  0.947     0.679                0.016   \n",
       "Age                   0.904   0.947  1.000     0.691               -0.027   \n",
       "BMI_CALC              0.852   0.679  0.691     1.000                0.571   \n",
       "bmi_age_Zpercentile   0.190   0.016 -0.027     0.571                1.000   \n",
       "area_cm2              0.935   0.901  0.877     0.775                0.135   \n",
       "smi                   0.394   0.234  0.284     0.525                0.305   \n",
       "\n",
       "                     area_cm2    smi  \n",
       "WEIGHT                  0.935  0.394  \n",
       "HEIGHT                  0.901  0.234  \n",
       "Age                     0.877  0.284  \n",
       "BMI_CALC                0.775  0.525  \n",
       "bmi_age_Zpercentile     0.135  0.305  \n",
       "area_cm2                1.000  0.611  \n",
       "smi                     0.611  1.000  "
      ]
     },
     "metadata": {},
     "output_type": "display_data"
    }
   ],
   "source": [
    "print('Correlation Map Male')\n",
    "display(df_m[['WEIGHT','HEIGHT','Age','BMI_CALC','bmi_age_Zpercentile','area_cm2','smi']].corr().round(3))"
   ]
  },
  {
   "cell_type": "code",
   "execution_count": 48,
   "metadata": {
    "slideshow": {
     "slide_type": "subslide"
    }
   },
   "outputs": [
    {
     "name": "stdout",
     "output_type": "stream",
     "text": [
      "P-values for Correlation map - male, P < 0.05 are statistically significant\n"
     ]
    },
    {
     "data": {
      "text/html": [
       "<div>\n",
       "<style scoped>\n",
       "    .dataframe tbody tr th:only-of-type {\n",
       "        vertical-align: middle;\n",
       "    }\n",
       "\n",
       "    .dataframe tbody tr th {\n",
       "        vertical-align: top;\n",
       "    }\n",
       "\n",
       "    .dataframe thead th {\n",
       "        text-align: right;\n",
       "    }\n",
       "</style>\n",
       "<table border=\"1\" class=\"dataframe\">\n",
       "  <thead>\n",
       "    <tr style=\"text-align: right;\">\n",
       "      <th></th>\n",
       "      <th>WEIGHT</th>\n",
       "      <th>HEIGHT</th>\n",
       "      <th>Age</th>\n",
       "      <th>BMI_CALC</th>\n",
       "      <th>area_cm2</th>\n",
       "      <th>smi</th>\n",
       "    </tr>\n",
       "  </thead>\n",
       "  <tbody>\n",
       "    <tr>\n",
       "      <th>WEIGHT</th>\n",
       "      <td>0.0</td>\n",
       "      <td>0.0</td>\n",
       "      <td>0.0</td>\n",
       "      <td>0.0</td>\n",
       "      <td>0.0</td>\n",
       "      <td>0.0</td>\n",
       "    </tr>\n",
       "    <tr>\n",
       "      <th>HEIGHT</th>\n",
       "      <td>0.0</td>\n",
       "      <td>0.0</td>\n",
       "      <td>0.0</td>\n",
       "      <td>0.0</td>\n",
       "      <td>0.0</td>\n",
       "      <td>0.0</td>\n",
       "    </tr>\n",
       "    <tr>\n",
       "      <th>Age</th>\n",
       "      <td>0.0</td>\n",
       "      <td>0.0</td>\n",
       "      <td>0.0</td>\n",
       "      <td>0.0</td>\n",
       "      <td>0.0</td>\n",
       "      <td>0.0</td>\n",
       "    </tr>\n",
       "    <tr>\n",
       "      <th>BMI_CALC</th>\n",
       "      <td>0.0</td>\n",
       "      <td>0.0</td>\n",
       "      <td>0.0</td>\n",
       "      <td>0.0</td>\n",
       "      <td>0.0</td>\n",
       "      <td>0.0</td>\n",
       "    </tr>\n",
       "    <tr>\n",
       "      <th>area_cm2</th>\n",
       "      <td>0.0</td>\n",
       "      <td>0.0</td>\n",
       "      <td>0.0</td>\n",
       "      <td>0.0</td>\n",
       "      <td>0.0</td>\n",
       "      <td>0.0</td>\n",
       "    </tr>\n",
       "    <tr>\n",
       "      <th>smi</th>\n",
       "      <td>0.0</td>\n",
       "      <td>0.0</td>\n",
       "      <td>0.0</td>\n",
       "      <td>0.0</td>\n",
       "      <td>0.0</td>\n",
       "      <td>0.0</td>\n",
       "    </tr>\n",
       "  </tbody>\n",
       "</table>\n",
       "</div>"
      ],
      "text/plain": [
       "         WEIGHT HEIGHT  Age BMI_CALC area_cm2  smi\n",
       "WEIGHT      0.0    0.0  0.0      0.0      0.0  0.0\n",
       "HEIGHT      0.0    0.0  0.0      0.0      0.0  0.0\n",
       "Age         0.0    0.0  0.0      0.0      0.0  0.0\n",
       "BMI_CALC    0.0    0.0  0.0      0.0      0.0  0.0\n",
       "area_cm2    0.0    0.0  0.0      0.0      0.0  0.0\n",
       "smi         0.0    0.0  0.0      0.0      0.0  0.0"
      ]
     },
     "metadata": {},
     "output_type": "display_data"
    }
   ],
   "source": [
    "print('P-values for Correlation map - male, P < 0.05 are statistically significant')\n",
    "display(calculate_pvalues(df_m[['WEIGHT','HEIGHT','Age','BMI_CALC','area_cm2','smi']]))"
   ]
  },
  {
   "cell_type": "code",
   "execution_count": 49,
   "metadata": {
    "slideshow": {
     "slide_type": "slide"
    }
   },
   "outputs": [
    {
     "name": "stdout",
     "output_type": "stream",
     "text": [
      "Correlation Map Female\n"
     ]
    },
    {
     "data": {
      "text/html": [
       "<div>\n",
       "<style scoped>\n",
       "    .dataframe tbody tr th:only-of-type {\n",
       "        vertical-align: middle;\n",
       "    }\n",
       "\n",
       "    .dataframe tbody tr th {\n",
       "        vertical-align: top;\n",
       "    }\n",
       "\n",
       "    .dataframe thead th {\n",
       "        text-align: right;\n",
       "    }\n",
       "</style>\n",
       "<table border=\"1\" class=\"dataframe\">\n",
       "  <thead>\n",
       "    <tr style=\"text-align: right;\">\n",
       "      <th></th>\n",
       "      <th>WEIGHT</th>\n",
       "      <th>HEIGHT</th>\n",
       "      <th>Age</th>\n",
       "      <th>BMI_CALC</th>\n",
       "      <th>bmi_age_Zpercentile</th>\n",
       "      <th>area_cm2</th>\n",
       "      <th>smi</th>\n",
       "    </tr>\n",
       "  </thead>\n",
       "  <tbody>\n",
       "    <tr>\n",
       "      <th>WEIGHT</th>\n",
       "      <td>1.000</td>\n",
       "      <td>0.891</td>\n",
       "      <td>0.857</td>\n",
       "      <td>0.879</td>\n",
       "      <td>0.450</td>\n",
       "      <td>0.883</td>\n",
       "      <td>0.253</td>\n",
       "    </tr>\n",
       "    <tr>\n",
       "      <th>HEIGHT</th>\n",
       "      <td>0.891</td>\n",
       "      <td>1.000</td>\n",
       "      <td>0.886</td>\n",
       "      <td>0.614</td>\n",
       "      <td>0.158</td>\n",
       "      <td>0.842</td>\n",
       "      <td>0.017</td>\n",
       "    </tr>\n",
       "    <tr>\n",
       "      <th>Age</th>\n",
       "      <td>0.857</td>\n",
       "      <td>0.886</td>\n",
       "      <td>1.000</td>\n",
       "      <td>0.671</td>\n",
       "      <td>0.117</td>\n",
       "      <td>0.817</td>\n",
       "      <td>0.168</td>\n",
       "    </tr>\n",
       "    <tr>\n",
       "      <th>BMI_CALC</th>\n",
       "      <td>0.879</td>\n",
       "      <td>0.614</td>\n",
       "      <td>0.671</td>\n",
       "      <td>1.000</td>\n",
       "      <td>0.726</td>\n",
       "      <td>0.745</td>\n",
       "      <td>0.426</td>\n",
       "    </tr>\n",
       "    <tr>\n",
       "      <th>bmi_age_Zpercentile</th>\n",
       "      <td>0.450</td>\n",
       "      <td>0.158</td>\n",
       "      <td>0.117</td>\n",
       "      <td>0.726</td>\n",
       "      <td>1.000</td>\n",
       "      <td>0.326</td>\n",
       "      <td>0.351</td>\n",
       "    </tr>\n",
       "    <tr>\n",
       "      <th>area_cm2</th>\n",
       "      <td>0.883</td>\n",
       "      <td>0.842</td>\n",
       "      <td>0.817</td>\n",
       "      <td>0.745</td>\n",
       "      <td>0.326</td>\n",
       "      <td>1.000</td>\n",
       "      <td>0.532</td>\n",
       "    </tr>\n",
       "    <tr>\n",
       "      <th>smi</th>\n",
       "      <td>0.253</td>\n",
       "      <td>0.017</td>\n",
       "      <td>0.168</td>\n",
       "      <td>0.426</td>\n",
       "      <td>0.351</td>\n",
       "      <td>0.532</td>\n",
       "      <td>1.000</td>\n",
       "    </tr>\n",
       "  </tbody>\n",
       "</table>\n",
       "</div>"
      ],
      "text/plain": [
       "                     WEIGHT  HEIGHT    Age  BMI_CALC  bmi_age_Zpercentile  \\\n",
       "WEIGHT                1.000   0.891  0.857     0.879                0.450   \n",
       "HEIGHT                0.891   1.000  0.886     0.614                0.158   \n",
       "Age                   0.857   0.886  1.000     0.671                0.117   \n",
       "BMI_CALC              0.879   0.614  0.671     1.000                0.726   \n",
       "bmi_age_Zpercentile   0.450   0.158  0.117     0.726                1.000   \n",
       "area_cm2              0.883   0.842  0.817     0.745                0.326   \n",
       "smi                   0.253   0.017  0.168     0.426                0.351   \n",
       "\n",
       "                     area_cm2    smi  \n",
       "WEIGHT                  0.883  0.253  \n",
       "HEIGHT                  0.842  0.017  \n",
       "Age                     0.817  0.168  \n",
       "BMI_CALC                0.745  0.426  \n",
       "bmi_age_Zpercentile     0.326  0.351  \n",
       "area_cm2                1.000  0.532  \n",
       "smi                     0.532  1.000  "
      ]
     },
     "metadata": {},
     "output_type": "display_data"
    }
   ],
   "source": [
    "print('Correlation Map Female')\n",
    "display(df_f[['WEIGHT','HEIGHT','Age','BMI_CALC','bmi_age_Zpercentile','area_cm2','smi']].corr().round(3))"
   ]
  },
  {
   "cell_type": "code",
   "execution_count": 50,
   "metadata": {
    "slideshow": {
     "slide_type": "subslide"
    }
   },
   "outputs": [
    {
     "name": "stdout",
     "output_type": "stream",
     "text": [
      "P-values for Correlation map - female, P < 0.05 are statistically significant\n"
     ]
    },
    {
     "data": {
      "text/html": [
       "<div>\n",
       "<style scoped>\n",
       "    .dataframe tbody tr th:only-of-type {\n",
       "        vertical-align: middle;\n",
       "    }\n",
       "\n",
       "    .dataframe tbody tr th {\n",
       "        vertical-align: top;\n",
       "    }\n",
       "\n",
       "    .dataframe thead th {\n",
       "        text-align: right;\n",
       "    }\n",
       "</style>\n",
       "<table border=\"1\" class=\"dataframe\">\n",
       "  <thead>\n",
       "    <tr style=\"text-align: right;\">\n",
       "      <th></th>\n",
       "      <th>WEIGHT</th>\n",
       "      <th>HEIGHT</th>\n",
       "      <th>Age</th>\n",
       "      <th>BMI_CALC</th>\n",
       "      <th>area_cm2</th>\n",
       "      <th>smi</th>\n",
       "    </tr>\n",
       "  </thead>\n",
       "  <tbody>\n",
       "    <tr>\n",
       "      <th>WEIGHT</th>\n",
       "      <td>0.0</td>\n",
       "      <td>0.0</td>\n",
       "      <td>0.0</td>\n",
       "      <td>0.0</td>\n",
       "      <td>0.0</td>\n",
       "      <td>0.0</td>\n",
       "    </tr>\n",
       "    <tr>\n",
       "      <th>HEIGHT</th>\n",
       "      <td>0.0</td>\n",
       "      <td>0.0</td>\n",
       "      <td>0.0</td>\n",
       "      <td>0.0</td>\n",
       "      <td>0.0</td>\n",
       "      <td>0.984886</td>\n",
       "    </tr>\n",
       "    <tr>\n",
       "      <th>Age</th>\n",
       "      <td>0.0</td>\n",
       "      <td>0.0</td>\n",
       "      <td>0.0</td>\n",
       "      <td>0.0</td>\n",
       "      <td>0.0</td>\n",
       "      <td>0.000408</td>\n",
       "    </tr>\n",
       "    <tr>\n",
       "      <th>BMI_CALC</th>\n",
       "      <td>0.0</td>\n",
       "      <td>0.0</td>\n",
       "      <td>0.0</td>\n",
       "      <td>0.0</td>\n",
       "      <td>0.0</td>\n",
       "      <td>0.0</td>\n",
       "    </tr>\n",
       "    <tr>\n",
       "      <th>area_cm2</th>\n",
       "      <td>0.0</td>\n",
       "      <td>0.0</td>\n",
       "      <td>0.0</td>\n",
       "      <td>0.0</td>\n",
       "      <td>0.0</td>\n",
       "      <td>0.0</td>\n",
       "    </tr>\n",
       "    <tr>\n",
       "      <th>smi</th>\n",
       "      <td>0.0</td>\n",
       "      <td>0.984886</td>\n",
       "      <td>0.000408</td>\n",
       "      <td>0.0</td>\n",
       "      <td>0.0</td>\n",
       "      <td>0.0</td>\n",
       "    </tr>\n",
       "  </tbody>\n",
       "</table>\n",
       "</div>"
      ],
      "text/plain": [
       "         WEIGHT    HEIGHT       Age BMI_CALC area_cm2       smi\n",
       "WEIGHT      0.0       0.0       0.0      0.0      0.0       0.0\n",
       "HEIGHT      0.0       0.0       0.0      0.0      0.0  0.984886\n",
       "Age         0.0       0.0       0.0      0.0      0.0  0.000408\n",
       "BMI_CALC    0.0       0.0       0.0      0.0      0.0       0.0\n",
       "area_cm2    0.0       0.0       0.0      0.0      0.0       0.0\n",
       "smi         0.0  0.984886  0.000408      0.0      0.0       0.0"
      ]
     },
     "metadata": {},
     "output_type": "display_data"
    }
   ],
   "source": [
    "print('P-values for Correlation map - female, P < 0.05 are statistically significant')\n",
    "display(calculate_pvalues(df_f[['WEIGHT','HEIGHT','Age','BMI_CALC','area_cm2','smi']]))"
   ]
  },
  {
   "cell_type": "markdown",
   "metadata": {
    "slideshow": {
     "slide_type": "slide"
    }
   },
   "source": [
    "## Quantile Regression with Splines"
   ]
  },
  {
   "cell_type": "code",
   "execution_count": 53,
   "metadata": {
    "slideshow": {
     "slide_type": "skip"
    }
   },
   "outputs": [],
   "source": [
    "# Get Restricted Cubic splines by transforming independent variable (age)\n",
    "from statsmodels.regression.quantile_regression import QuantReg as QR\n",
    "# Reference: \n",
    "from patsy import dmatrix\n",
    "from patsy import cr\n",
    "import statsmodels.api as sm\n",
    "import statsmodels.formula.api as smf\n",
    "from sklearn.metrics import mean_squared_error\n",
    "from math import sqrt"
   ]
  },
  {
   "cell_type": "code",
   "execution_count": 252,
   "metadata": {
    "slideshow": {
     "slide_type": "skip"
    }
   },
   "outputs": [],
   "source": [
    "def calculate_aic(model):\n",
    "    # https://www.scribbr.com/statistics/akaike-information-criterion/\n",
    "    K = model.df_model + 2\n",
    "    L = sum(abs(model.resid))/model.nobs# For q=0.5, this should work! verify later using R\n",
    "    AIC = 2*K - 2*np.log(L)\n",
    "    return AIC,L\n",
    "    \n",
    "def get_knots(x,nknots):\n",
    "    # Knot locations are set based on this article\n",
    "    #https://support.sas.com/resources/papers/proceedings16/5621-2016.pdf\n",
    "    if nknots == 3:\n",
    "        return [x.quantile(0.1),x.quantile(0.5),x.quantile(0.9)]\n",
    "    elif nknots == 4:\n",
    "        return [x.quantile(0.05),x.quantile(0.35),x.quantile(0.65),x.quantile(0.95)]\n",
    "    elif nknots == 5:\n",
    "        return [x.quantile(0.05),x.quantile(0.275),x.quantile(0.5),x.quantile(0.725),x.quantile(0.95)]"
   ]
  },
  {
   "cell_type": "code",
   "execution_count": 55,
   "metadata": {
    "slideshow": {
     "slide_type": "skip"
    }
   },
   "outputs": [],
   "source": [
    "def fit_bs_models(model,qlist):\n",
    "    res = [model.fit(q=q) for q in qlist] \n",
    "    return res\n",
    "\n",
    "def get_transformed_x(x,knots,degrees):\n",
    "    transformed_x = dmatrix(\"bs(train, knots=\" + knots +\", degree= \"+ str(degrees) \n",
    "                    +\",include_intercept=False)\", {\"train\": x},return_type='dataframe')\n",
    "    return transformed_x\n",
    "\n",
    "def find_points_above(model,x_data,y_data):\n",
    "    y_m = model.predict(x_data)\n",
    "    points = y_data > y_m\n",
    "    outlier_count = sum(points)\n",
    "    return outlier_count, points\n",
    "\n",
    "def find_points_below(model,x_data,y_data):\n",
    "    y_m = model.predict(x_data)\n",
    "    points = y_data < y_m\n",
    "    outlier_count = sum(points)\n",
    "    return outlier_count, points\n",
    "\n",
    "def plot_bs_qr(dfs,mlist,knots,degrees,sexes=['male','female'],predictor='Age',response='area_cm2'):\n",
    "    x = np.linspace(dfs[0][predictor].values.min(),dfs[0][predictor].values.max(),70)\n",
    "    ymax = max(max(dfs[0][response]),max(dfs[0][response]))\n",
    "    plt.figure(figsize = (14,7),linewidth=2)\n",
    "    \n",
    "        #fig, ax = plt.subplots(figsize=(8, 6))\n",
    "    for n in range(len(mlist)):\n",
    "        df = dfs[n]\n",
    "        models = mlist[n]\n",
    "        \n",
    "        transformed_x = dmatrix(\"bs(train, knots=\" + knots[n] +\", degree= \"+ str(degrees[n]) \n",
    "                                +\",include_intercept=False)\",\n",
    "                                {\"train\": x},return_type='dataframe')\n",
    "        \n",
    "        #transformed_x = transformed_x[1:]\n",
    "        \n",
    "        \n",
    "        ax = plt.subplot(1,2,n+1)\n",
    "        for i in range(len(models)):\n",
    "            y = models[i].predict(transformed_x)\n",
    "            ax.plot(x, y, linestyle='dotted',label='q =' + str(round(models[i].q,2)),linewidth=3)\n",
    "          \n",
    "        \n",
    "        # Plot outliers in red\n",
    "        x_data = df[predictor].values\n",
    "        tr_x_data = get_transformed_x(x_data,knots[n],degrees[n])\n",
    "        y_data = df[response].values\n",
    "        _,outliers_above = find_points_above(models[-1],tr_x_data,y_data)\n",
    "        _,outliers_below = find_points_below(models[0],tr_x_data,y_data)\n",
    "       # print('Number of outliers > 0.90: ', sum(outliers_above))\n",
    "       # print('Number of outliers < 0.10: ', sum(outliers_below))\n",
    "        outliers = outliers_above | outliers_below\n",
    "        print('Total outliers: ', sum(outliers), 'Total points: ', len(outliers))\n",
    "        normals = ~ outliers\n",
    "        ax.scatter(x_data[normals], y_data[normals],facecolor=None, edgecolor = 'k', alpha=.05)\n",
    "        ax.scatter(x_data[outliers], y_data[outliers],facecolor=None, edgecolor = 'r', alpha=.25)\n",
    "        \n",
    "       #ax.scatter(df[predictor], df[response],facecolor=None, edgecolor = 'k', alpha=.1)\n",
    "       # print(np.ceil(max(df[predictor].values)))\n",
    "        ax.set_xlim((0, np.ceil(max(df[predictor].values))),auto=True)\n",
    "        ax.set_ylim(0, ymax,auto=True)\n",
    "        legend = ax.legend()\n",
    "        if np.ceil(max(df[predictor].values)) > 20:\n",
    "            xtick_r = 20\n",
    "        else:\n",
    "            xtick_r = 1\n",
    "        \n",
    "        ax.set_xticks(np.arange(0,np.ceil(max(df[predictor].values)),xtick_r))\n",
    "        \n",
    "        if predictor == \"BMI_CALC\":\n",
    "            ax.set_xlim(10, np.ceil(max(df[predictor].values)),auto=True)\n",
    "            xtick_r = 2\n",
    "            ax.set_xticks(np.arange(10,np.ceil(max(df[predictor].values)),xtick_r))\n",
    "        \n",
    "        ax.set_yticks(np.arange(0,ymax,20))\n",
    "        ax.set_xlabel(predictor, fontsize=16)\n",
    "        ax.set_ylabel(response, fontsize=16)\n",
    "        ax.set_title(sexes[n])\n",
    "        \n",
    "        \n",
    "def plot_bs_qr_wcdc(dfs,mlist,knots,degrees,cdc_df,sexes=['male','female'],predictor='Age',response='area_cm2'):\n",
    "    x = np.linspace(dfs[0][predictor].values.min(),dfs[0][predictor].values.max(),70)\n",
    "    ymax = max(max(dfs[0][response]),max(dfs[0][response]))\n",
    "    plt.figure(figsize = (14,7),linewidth=2)\n",
    "    \n",
    "    colors = ['r','g','c','m','b']\n",
    "    #fig, ax = plt.subplots(figsize=(8, 6))\n",
    "    for n in range(len(mlist)):\n",
    "        df = dfs[n]\n",
    "        models = mlist[n]\n",
    "        \n",
    "        cdc_df_sex = cdc_df[cdc_df['Sex']==n+1]\n",
    "        \n",
    "        transformed_x = dmatrix(\"bs(train, knots=\" + knots[n] +\", degree= \"+ str(degrees[n]) \n",
    "                                +\",include_intercept=False)\",\n",
    "                                {\"train\": x},return_type='dataframe')\n",
    "        #transformed_x = transformed_x.iloc[:,1:]\n",
    "        \n",
    "        ax = plt.subplot(1,2,n+1)\n",
    "        for i in range(len(models)):\n",
    "            y = models[i].predict(transformed_x)\n",
    "            ax.plot(x, y, linestyle='dotted',color=colors[i],label='q =' + str(round(models[i].q,2)),linewidth=3)\n",
    "            ax.plot(cdc_df_sex.iloc[:,1],cdc_df_sex.iloc[:,i+2],color=colors[i],label='cdc, q =' + str(round(models[i].q,2)),linewidth=2)\n",
    "\n",
    "        ax.scatter(df[predictor], df[response],facecolor=None, edgecolor = 'k', alpha=.1)\n",
    "        ax.set_xlim((0, np.ceil(max(df[predictor].values))))\n",
    "        ax.set_ylim(0, ymax,auto=True)\n",
    "        legend = ax.legend()\n",
    "        if np.ceil(max(df[predictor].values)) > 20:\n",
    "            xtick_r = 20\n",
    "        else:\n",
    "            xtick_r = 1\n",
    "        ax.set_xticks(np.arange(0,np.ceil(max(df[predictor].values)),xtick_r))\n",
    "        ax.set_yticks(np.arange(0,ymax,10))\n",
    "        ax.set_xlabel(predictor, fontsize=16)\n",
    "        ax.set_ylabel(response, fontsize=16)\n",
    "        ax.set_title(sexes[n])"
   ]
  },
  {
   "cell_type": "code",
   "execution_count": 58,
   "metadata": {},
   "outputs": [
    {
     "name": "stderr",
     "output_type": "stream",
     "text": [
      "/home/jupyteruser/.local/lib/python3.8/site-packages/statsmodels/regression/quantile_regression.py:190: IterationLimitWarning: Maximum number of iterations (1000) reached.\n",
      "  warnings.warn(\"Maximum number of iterations (\" + str(max_iter) +\n"
     ]
    },
    {
     "name": "stdout",
     "output_type": "stream",
     "text": [
      "Best models is : m1\n",
      "Best models is : m1\n"
     ]
    },
    {
     "name": "stderr",
     "output_type": "stream",
     "text": [
      "/home/jupyteruser/.local/lib/python3.8/site-packages/statsmodels/regression/quantile_regression.py:190: IterationLimitWarning: Maximum number of iterations (1000) reached.\n",
      "  warnings.warn(\"Maximum number of iterations (\" + str(max_iter) +\n"
     ]
    }
   ],
   "source": [
    "# Import cdc data\n",
    "# 2 to 20years\n",
    "#infile  = '/tf/smipipeline/growth_curves/data/csv/wtage220.csv'\n",
    "infile  = '/home/jupyteruser/smipipeline/growth_curves/data/csv/wtage220.csv'\n",
    "df_cdc_wt= pd.read_csv(infile, index_col=False)\n",
    "df_cdc_wt['Age'] = df_cdc_wt['Agemos']/12\n",
    "df_cdc_wt = df_cdc_wt[['Sex','Age','P10','P25','P50','P75','P90']]\n",
    "\n",
    "# infants to 3 years\n",
    "#infile2  = '/tf/smipipeline/growth_curves/data/csv/wtageinf.csv'\n",
    "infile2  = '/home/jupyteruser/smipipeline/growth_curves/data/csv/wtageinf.csv'\n",
    "df_cdc_wt2= pd.read_csv(infile2, index_col=False)\n",
    "df_cdc_wt2['Age'] = df_cdc_wt2['Agemos']/12\n",
    "df_cdc_wt2 = df_cdc_wt2[['Sex','Age','P10','P25','P50','P75','P90']]\n",
    "\n",
    "# keep only till 2 years\n",
    "df_cdc_wt2 = df_cdc_wt2[df_cdc_wt2['Age']<2]\n",
    "\n",
    "# Merge\n",
    "df_cdc_wt = pd.concat([df_cdc_wt,df_cdc_wt2],ignore_index=True)\n",
    "df_cdc_wt = df_cdc_wt.sort_values(by=['Age'])\n",
    "\n",
    "response='WEIGHT'\n",
    "cdc_df = df_cdc_wt\n",
    "# Get optimal model config\n",
    "df_m_nonull = df_m.dropna(subset=[response])\n",
    "df_f_nonull = df_f.dropna(subset=[response])\n",
    "model_m,knots_m,degrees_m = spline_model_optimizer(df_m_nonull, response)\n",
    "model_f,knots_f,degrees_f = spline_model_optimizer(df_f_nonull, response)\n",
    "\n",
    "\n",
    "# Fit the model for different quantiles\n",
    "fit_models_m = fit_bs_models(model_m,qlist=[0.10,0.25,0.50,0.75,0.90])\n",
    "fit_models_f = fit_bs_models(model_f,qlist=[0.10,0.25,0.50,0.75,0.90])"
   ]
  },
  {
   "cell_type": "code",
   "execution_count": 240,
   "metadata": {},
   "outputs": [],
   "source": [
    "import rpy2.robjects as robjects\n",
    "from rpy2.robjects.packages import importr\n",
    "from rpy2.robjects import pandas2ri\n",
    "#Must be activated\n",
    "pandas2ri.activate()\n",
    "utils = importr('utils')\n",
    "utils.chooseCRANmirror(ind=1)\n",
    "utils.install_packages('quantreg')\n",
    "qr_package=importr('quantreg')"
   ]
  },
  {
   "cell_type": "code",
   "execution_count": 287,
   "metadata": {},
   "outputs": [],
   "source": [
    "def calculate_aic(model):\n",
    "    # https://www.scribbr.com/statistics/akaike-information-criterion/\n",
    "    K = model.df_model + 2\n",
    "    L = sum(abs(model.resid))/model.nobs# For q=0.5, this should work! verify later using R\n",
    "    AIC = 2*K - 2*np.log(L)\n",
    "    return AIC,L\n",
    "    \n",
    "def get_knots(x,nknots):\n",
    "    # Knot locations are set based on this article\n",
    "    #https://support.sas.com/resources/papers/proceedings16/5621-2016.pdf\n",
    "    if nknots == 3:\n",
    "        return [x.quantile(0.1),x.quantile(0.5),x.quantile(0.9)]\n",
    "    elif nknots == 4:\n",
    "        return [x.quantile(0.05),x.quantile(0.35),x.quantile(0.65),x.quantile(0.95)]\n",
    "    elif nknots == 5:\n",
    "        return [x.quantile(0.05),x.quantile(0.275),x.quantile(0.5),x.quantile(0.725),x.quantile(0.95)]\n",
    "\n",
    "# Gets design matrix command for restricted cubic splines (RCS)\n",
    "def get_dm_command_RCS(DF,knots):\n",
    "    lb = knots[0]\n",
    "    ub = knots[-1]\n",
    "    internal = knots[1:-1] # Internal knots\n",
    "    \n",
    "    command_head = \"cr(train,df = \" +  str(DF) + \", knots=\"\n",
    "\n",
    "    command_mid  = \"\"\n",
    "    internal_str=  list(map(str,internal))\n",
    "    print(internal_str)\n",
    "    if len(internal_str)==1:\n",
    "        command_mid = internal_str[0]\n",
    "    else:\n",
    "        command_mid = \"(\" + internal_str[0] \n",
    "        for i in internal_str[1:]:\n",
    "            command_mid = command_mid + ',' + i    \n",
    "        command_mid = command_mid + ')'\n",
    "\n",
    "    command_tail = \", lower_bound=\" + str(lb) +\", upper_bound=\" + str(ub) + \") -1\"\n",
    "    command = command_head + command_mid + command_tail\n",
    "    return command\n",
    "\n",
    "def get_aic_rpy2(dm,df,response_var,q=0.5):\n",
    "    # Change colnames\n",
    "    colnames = []\n",
    "    for i in range(len(list(dm))):\n",
    "        ind = i+1\n",
    "        colnames.append('x' + str(ind))\n",
    "        \n",
    "    #print(colnames)    \n",
    "    dm.columns = colnames\n",
    "\n",
    "    # Add Jitter, Required for R QR\n",
    "    df_R = robjects.r['as.matrix'](dm)\n",
    "    df_R  = robjects.r['jitter'](df_R)\n",
    "    dm_jitter = dm.copy()\n",
    "\n",
    "    # Add response var to df for Quantile Reg in Rpy2\n",
    "    dm_jitter.iloc[:,:] = df_R\n",
    "    dm_jitter[response_var] = df[response_var].values\n",
    "\n",
    "\n",
    "    # QR Command\n",
    "    qr_head = response_var + ' ~ '\n",
    "    qr_tail = colnames[0]\n",
    "    for i in colnames[1:]:\n",
    "        qr_tail = qr_tail + '+' + i\n",
    "    qr_command = qr_head + qr_tail\n",
    "    #print('qr_command:', qr_command)\n",
    "\n",
    "    # Perform QR and find AIC\n",
    "    qr_mod = qr_package.rq(qr_command,data=dm_jitter, tau=q)\n",
    "    AIC = qr_package.AIC_rq(qr_mod)[0]\n",
    "\n",
    "    return AIC\n",
    "\n",
    "def spline_model_optimizer_cr(df,response_var,predictor_var='Age',nknots=[3,4,5]):\n",
    "    # Storage parameters\n",
    "    model_dict = {}\n",
    "    \n",
    "    # Akaike defined by Elan\n",
    "    akaike_dict = {}\n",
    "    mean_akaike = {}\n",
    "    akaike_dict_25 = {}\n",
    "    akaike_dict_75 = {}\n",
    "    \n",
    "    # AIC from R for quantreg models\n",
    "    aic_dict = {}\n",
    "    mean_aic = {}\n",
    "    aic_dict_25 = {}\n",
    "    aic_dict_75 = {}\n",
    "\n",
    "    # Maximum Likelihood calculated by Elan\n",
    "    L_dict = {}\n",
    "    L_dict_25 = {}\n",
    "    L_dict_75 = {}\n",
    "    \n",
    "    knots_dict = {} \n",
    "    model_keys = []\n",
    "    \n",
    "    # Knot constraints\n",
    "    min_knot = 3\n",
    "    max_knot = 15 + 1 # [+1 for python]\n",
    "    min_knot_diff = 3\n",
    "    \n",
    "    # Iterate over all knots\n",
    "    for nknot in nknots :\n",
    "        knots = get_knots(np.floor(df[predictor_var]),nknot)\n",
    "\n",
    "        # Book-keeping\n",
    "        mkey = 'nknots_'+ str(nknot)\n",
    "        model_keys.append(mkey)\n",
    "        knots_dict[mkey] = knots\n",
    "\n",
    "        #print('knots: ', knots)\n",
    "        command = get_dm_command_RCS(nknot,knots)\n",
    "        print(command)\n",
    "        transformed_age = dmatrix(command, {\"train\": df[predictor_var].values}, return_type='dataframe')\n",
    "       \n",
    "        # Fit qr model\n",
    "        qr_model = QR(df[response_var].values,transformed_age.values)\n",
    "        fit_qr_mid = qr_model.fit(q=0.50)\n",
    "        fit_qr_mid_25 = qr_model.fit(q=0.25)\n",
    "        fit_qr_mid_75 = qr_model.fit(q=0.75)\n",
    "\n",
    "        model_dict[mkey] = qr_model\n",
    "\n",
    "        # Get AIC\n",
    "        akaike_dict[mkey], L_dict[mkey] = calculate_aic(fit_qr_mid)\n",
    "        akaike_dict_25[mkey], L_dict_25[mkey] = calculate_aic(fit_qr_mid_25)\n",
    "        akaike_dict_75[mkey], L_dict_75[mkey] = calculate_aic(fit_qr_mid_75)\n",
    "\n",
    "        # Calculate mean akaike\n",
    "        mean_akaike[mkey] = (akaike_dict[mkey] + akaike_dict_25[mkey] + akaike_dict_75[mkey])/3\n",
    "\n",
    "        # Calculate AIC from R qr function\n",
    "        aic_dict[mkey] = get_aic_rpy2(transformed_age,df,response_var,q=0.5)\n",
    "        aic_dict_25[mkey] = get_aic_rpy2(transformed_age,df,response_var,q=0.25)\n",
    "        aic_dict_75[mkey] = get_aic_rpy2(transformed_age,df,response_var,q=0.75)\n",
    "        \n",
    "        # Calculate mean aic\n",
    "        mean_aic[mkey] = (aic_dict[mkey] + aic_dict_25[mkey] + aic_dict_75[mkey])/3\n",
    "            \n",
    "    # Find best model\n",
    "    best_model = min(mean_akaike, key=mean_akaike.get)\n",
    "    best_model_raic= min(mean_aic, key=mean_aic.get)\n",
    "    if best_model != best_model_raic:\n",
    "        print('Best models AIC is :', best_model)\n",
    "        print('Best models R AIC is :', best_model_raic)\n",
    "    # for debug\n",
    "    # return model_dict,aic_dict,akaike_dict,L_dict,knots_dict,degrees_dict,model_keys,best_model\n",
    "    # return model_dict,mean_akaike,akaike_dict,mean_aic,aic_dict,knots_dict,model_keys\n",
    "    # for production\n",
    "    return model_dict[best_model],knots_dict[best_model],model_dict[best_model_raic],knots_dict[best_model_raic]\n",
    "\n",
    "def plot_bs_qr_wcdc_cr(dfs,mlist,knots,cdc_df,sexes=['male','female'],predictor='Age',response='area_cm2'):\n",
    "    x = np.linspace(dfs[0][predictor].values.min(),dfs[0][predictor].values.max(),70)\n",
    "    ymax = max(max(dfs[0][response]),max(dfs[0][response]))\n",
    "    plt.figure(figsize = (14,7),linewidth=2)\n",
    "    \n",
    "    colors = ['r','g','c','m','b']\n",
    "    #fig, ax = plt.subplots(figsize=(8, 6))\n",
    "    for n in range(len(mlist)):\n",
    "        df = dfs[n]\n",
    "        models = mlist[n]\n",
    "        \n",
    "        cdc_df_sex = cdc_df[cdc_df['Sex']==n+1]\n",
    "        \n",
    "        command = get_dm_command_RCS(len(knots[n]),knots[n])\n",
    "        print(command)\n",
    "        transformed_x = dmatrix(command, {\"train\": x}, return_type='dataframe')\n",
    "        ax = plt.subplot(1,2,n+1)\n",
    "        \n",
    "        for i in range(len(models)):\n",
    "            y = models[i].predict(transformed_x)\n",
    "            ax.plot(x, y, linestyle='dotted',color=colors[i],label='q =' + str(round(models[i].q,2)),linewidth=3)\n",
    "            ax.plot(cdc_df_sex.iloc[:,1],cdc_df_sex.iloc[:,i+2],color=colors[i],label='cdc, q =' + str(round(models[i].q,2)),linewidth=2)\n",
    "\n",
    "        ax.scatter(df[predictor], df[response],facecolor=None, edgecolor = 'k', alpha=.1)\n",
    "        ax.set_xlim((0, np.ceil(max(df[predictor].values))))\n",
    "        ax.set_ylim(0, ymax,auto=True)\n",
    "        legend = ax.legend()\n",
    "        if np.ceil(max(df[predictor].values)) > 20:\n",
    "            xtick_r = 20\n",
    "        else:\n",
    "            xtick_r = 1\n",
    "        ax.set_xticks(np.arange(0,np.ceil(max(df[predictor].values)),xtick_r))\n",
    "        ax.set_yticks(np.arange(0,ymax,10))\n",
    "        ax.set_xlabel(predictor, fontsize=16)\n",
    "        ax.set_ylabel(response, fontsize=16)\n",
    "        ax.set_title(sexes[n])"
   ]
  },
  {
   "cell_type": "code",
   "execution_count": 288,
   "metadata": {},
   "outputs": [
    {
     "name": "stdout",
     "output_type": "stream",
     "text": [
      "['11.0']\n",
      "cr(train,df = 3, knots=11.0, lower_bound=4.0, upper_bound=16.0) -1\n",
      "['9.0', '13.0']\n",
      "cr(train,df = 4, knots=(9.0,13.0), lower_bound=3.0, upper_bound=17.0) -1\n",
      "['8.0', '11.0', '14.0']\n",
      "cr(train,df = 5, knots=(8.0,11.0,14.0), lower_bound=3.0, upper_bound=17.0) -1\n",
      "Best models AIC is : nknots_3\n",
      "Best models R AIC is : nknots_5\n",
      "['13.0']\n",
      "cr(train,df = 3, knots=13.0, lower_bound=6.0, upper_bound=17.0) -1\n",
      "['12.0', '15.0']\n",
      "cr(train,df = 4, knots=(12.0,15.0), lower_bound=5.0, upper_bound=17.0) -1\n",
      "['10.0', '13.0', '15.0']\n",
      "cr(train,df = 5, knots=(10.0,13.0,15.0), lower_bound=5.0, upper_bound=17.0) -1\n",
      "Best models AIC is : nknots_3\n",
      "Best models R AIC is : nknots_5\n"
     ]
    }
   ],
   "source": [
    "model_m,knots_m,model_m_r,knots_m_r = spline_model_optimizer_cr(df_m_nonull, response)\n",
    "model_f,knots_f,model_f_r,knots_f_r = spline_model_optimizer_cr(df_f_nonull, response)\n",
    "\n",
    "\n",
    "# Fit the model for different quantiles\n",
    "fit_models_m_cr = fit_bs_models(model_m,qlist=[0.10,0.25,0.50,0.75,0.90])\n",
    "fit_models_f_cr = fit_bs_models(model_f,qlist=[0.10,0.25,0.50,0.75,0.90])\n",
    "\n",
    "fit_models_m_r_cr = fit_bs_models(model_m_r,qlist=[0.10,0.25,0.50,0.75,0.90])\n",
    "fit_models_f_r_cr = fit_bs_models(model_f_r,qlist=[0.10,0.25,0.50,0.75,0.90])"
   ]
  },
  {
   "cell_type": "code",
   "execution_count": 289,
   "metadata": {},
   "outputs": [
    {
     "name": "stdout",
     "output_type": "stream",
     "text": [
      "Population comparison to cdc data on WEIGHT using quantile regression\n",
      "['11.0']\n",
      "cr(train,df = 3, knots=11.0, lower_bound=4.0, upper_bound=16.0) -1\n",
      "['13.0']\n",
      "cr(train,df = 3, knots=13.0, lower_bound=6.0, upper_bound=17.0) -1\n"
     ]
    },
    {
     "data": {
      "image/png": "[encoded data removed]",
      "text/plain": [
       "<Figure size 1008x504 with 2 Axes>"
      ]
     },
     "metadata": {
      "needs_background": "light"
     },
     "output_type": "display_data"
    }
   ],
   "source": [
    "# Plot the results\n",
    "print('Population comparison to cdc data on ' + response + ' using quantile regression')\n",
    "plot_bs_qr_wcdc_cr([df_m_nonull,df_f_nonull],\n",
    "           [fit_models_m_cr,fit_models_f_cr],\n",
    "           knots=[knots_m,knots_f],\n",
    "           cdc_df = cdc_df,\n",
    "           response=response)"
   ]
  },
  {
   "cell_type": "code",
   "execution_count": 290,
   "metadata": {},
   "outputs": [
    {
     "name": "stdout",
     "output_type": "stream",
     "text": [
      "Population comparison to cdc data on WEIGHT using quantile regression\n",
      "['8.0', '11.0', '14.0']\n",
      "cr(train,df = 5, knots=(8.0,11.0,14.0), lower_bound=3.0, upper_bound=17.0) -1\n",
      "['10.0', '13.0', '15.0']\n",
      "cr(train,df = 5, knots=(10.0,13.0,15.0), lower_bound=5.0, upper_bound=17.0) -1\n"
     ]
    },
    {
     "data": {
      "image/png": "[encoded data removed]",
      "text/plain": [
       "<Figure size 1008x504 with 2 Axes>"
      ]
     },
     "metadata": {
      "needs_background": "light"
     },
     "output_type": "display_data"
    }
   ],
   "source": [
    "# Plot the results\n",
    "print('Population comparison to cdc data on ' + response + ' using quantile regression')\n",
    "plot_bs_qr_wcdc_cr([df_m_nonull,df_f_nonull],\n",
    "           [fit_models_m_r_cr,fit_models_f_r_cr],\n",
    "           knots=[knots_m_r,knots_f_r],\n",
    "           cdc_df = cdc_df,\n",
    "           response=response)"
   ]
  },
  {
   "cell_type": "code",
   "execution_count": 315,
   "metadata": {},
   "outputs": [
    {
     "name": "stdout",
     "output_type": "stream",
     "text": [
      "Population comparison to cdc data on WEIGHT using quantile regression\n"
     ]
    },
    {
     "data": {
      "image/png": "[encoded data removed]",
      "text/plain": [
       "<Figure size 1008x504 with 2 Axes>"
      ]
     },
     "metadata": {
      "needs_background": "light"
     },
     "output_type": "display_data"
    }
   ],
   "source": [
    "# Plot the results\n",
    "print('Population comparison to cdc data on ' + response + ' using quantile regression')\n",
    "plot_bs_qr_wcdc_cr([df_m_nonull,df_f_nonull],\n",
    "           [fit_models_m_cr,fit_models_f_cr],\n",
    "           knots=[knots_m,knots_f],\n",
    "           degrees=[degrees_m,degrees_f],\n",
    "           cdc_df = cdc_df,\n",
    "           response=response)"
   ]
  },
  {
   "cell_type": "code",
   "execution_count": 218,
   "metadata": {},
   "outputs": [],
   "source": [
    "predictor_var = 'Age'\n",
    "response_var='WEIGHT'\n",
    "df = df_m_nonull\n",
    "deg = 3\n",
    "knots = get_knots(np.floor(df[predictor_var]),3)\n",
    "transformed_age = dmatrix(\"bs(train, knots=\" + knots + \", degree=\" + str(deg) + \n",
    "                                      \", include_intercept=False)\",\n",
    "                                      {\"train\": df[predictor_var].values},return_type='dataframe')\n",
    "\n",
    "transformed_age = transformed_age.iloc[:,1:]\n",
    "\n",
    "transformed_age_2 = dmatrix(\"cr(train,df = 3,knots=11, lower_bound=4, upper_bound=16) -1\", {\"train\": df[predictor_var].values}, return_type='dataframe')\n",
    "#transformed_age_2 = transformed_age_2.iloc[:,1:]\n",
    "\n",
    "# Fit qr model\n",
    "qr_model1 = QR(df[response_var].values,transformed_age.values)\n",
    "fit_qr_mid1 = qr_model1.fit(q=0.50)\n",
    "\n",
    "qr_model2 = QR(df[response_var].values,transformed_age_2.values)\n",
    "fit_qr_mid2 = qr_model2.fit(q=0.50)"
   ]
  },
  {
   "cell_type": "code",
   "execution_count": 233,
   "metadata": {},
   "outputs": [
    {
     "name": "stdout",
     "output_type": "stream",
     "text": [
      "['1', '2', '4']\n"
     ]
    }
   ],
   "source": [
    "knots = [1,2,4]\n",
    "knots_str=  list(map(str, knots))\n",
    "print(knots_str)"
   ]
  },
  {
   "cell_type": "code",
   "execution_count": 237,
   "metadata": {},
   "outputs": [
    {
     "name": "stdout",
     "output_type": "stream",
     "text": [
      "cr(train,df = 3,knots=11, lower_bound=4, upper_bound=16) -1\n",
      "WEIGHT ~ x1+x2+x3\n"
     ]
    },
    {
     "ename": "SyntaxError",
     "evalue": "'return' outside function (<ipython-input-237-cb4a600d1495>, line 62)",
     "output_type": "error",
     "traceback": [
      "\u001b[0;36m  File \u001b[0;32m\"<ipython-input-237-cb4a600d1495>\"\u001b[0;36m, line \u001b[0;32m62\u001b[0m\n\u001b[0;31m    return AIC\u001b[0m\n\u001b[0m    ^\u001b[0m\n\u001b[0;31mSyntaxError\u001b[0m\u001b[0;31m:\u001b[0m 'return' outside function\n"
     ]
    }
   ],
   "source": [
    "df = df_m_nonull\n",
    "predictor_var = 'Age'\n",
    "response_var='WEIGHT'\n",
    "\n",
    "\n",
    "# Compute Design MAtrix\n",
    "DF = 3 # Degrees of Freedom [depends on number of knots]\n",
    "knots = [4,11,16]\n",
    "\n",
    "# Gets design matrix command for restricted cubic splines (RCS)\n",
    "def get_dm_command_RCS(DF,knots)\n",
    "    lb = knots[0]\n",
    "    ub = knots[-1]\n",
    "    internal = knots[1:-1] # Internal knots\n",
    "    \n",
    "    command_head = \"cr(train,df = \" +  str(DF) + \",knots=\"\n",
    "\n",
    "    command_mid  = \"\"\n",
    "    internal_str=  list(map(str,internal))\n",
    "\n",
    "    if len(internal_str)==1:\n",
    "        command_mid = internal_str[0]\n",
    "    else:\n",
    "        command_mid = \"(\" + internal_str[0] \n",
    "        for i in internal_str[1:]:\n",
    "            command_mid = command_mid + ',' + i    \n",
    "        command_mid = command_mid + ')'\n",
    "\n",
    "    command_tail = \", lower_bound=\" + str(lb) +\", upper_bound=\" + str(ub) + \") -1\"\n",
    "    command = command_head + command_mid + command_tail\n",
    "    return command\n",
    "\n",
    "dm= dmatrix(command, {\"train\": df[predictor_var].values}, return_type='dataframe')\n",
    "\n",
    "def get_aic_rpy2(dm,df,response_var)\n",
    "    # Change colnames\n",
    "    colnames = []\n",
    "    for i in range(len(list(dm))):\n",
    "        ind = i+1\n",
    "        colnames.append('x'+str(ind))\n",
    "    dm.columns = colnames\n",
    "\n",
    "    # Add Jitter, Required for R QR\n",
    "    df_R = robjects.r['as.matrix'](dm)\n",
    "    df_R  = robjects.r['jitter'](df_R)\n",
    "    dm_jitter = dm.copy()\n",
    "\n",
    "    # Add response var to df for Quantile Reg in Rpy2\n",
    "    dm_jitter.iloc[:,:] = df_R\n",
    "    dm_jitter[response_var] = df[response_var].values\n",
    "\n",
    "\n",
    "    # QR Command\n",
    "    qr_head = response_var + ' ~ '\n",
    "    qr_tail = colnames[0]\n",
    "    for i in colnames[1:]:\n",
    "        qr_tail = qr_tail + '+' + i\n",
    "    qr_command = qr_head + qr_tail\n",
    "    print(qr_command)\n",
    "\n",
    "    # Perform QR and find AIC\n",
    "    qr_mod = qr_package.rq(qr_command,data=dm_jitter, tau=0.5)\n",
    "    AIC = qr_package.AIC_rq(qr_mod)[0]\n",
    "\n",
    "    return AIC"
   ]
  },
  {
   "cell_type": "code",
   "execution_count": 219,
   "metadata": {},
   "outputs": [],
   "source": [
    "dm= dmatrix(\"cr(train,df = 3,knots=11, lower_bound=4, upper_bound=16) -1\", {\"train\": df[predictor_var].values}, return_type='dataframe')"
   ]
  },
  {
   "cell_type": "code",
   "execution_count": 222,
   "metadata": {},
   "outputs": [
    {
     "name": "stdout",
     "output_type": "stream",
     "text": [
      "['cr(train, df=3, knots=11, lower_bound=4, upper_bound=16)[0]', 'cr(train, df=3, knots=11, lower_bound=4, upper_bound=16)[1]', 'cr(train, df=3, knots=11, lower_bound=4, upper_bound=16)[2]']\n",
      "['x1', 'x2', 'x3']\n"
     ]
    }
   ],
   "source": [
    "print((list(dummy)))\n",
    "\n",
    "colnames = []\n",
    "for i in range(len(list(dm))):\n",
    "    ind = i+1\n",
    "    colnames.append('x'+str(ind))\n",
    "    \n",
    "dm.columns = colnames\n",
    "print((list(dummy)))"
   ]
  },
  {
   "cell_type": "code",
   "execution_count": 223,
   "metadata": {},
   "outputs": [],
   "source": [
    "df_R = robjects.r['as.matrix'](dm)\n",
    "df_R  = robjects.r['jitter'](df_R)"
   ]
  },
  {
   "cell_type": "code",
   "execution_count": 224,
   "metadata": {},
   "outputs": [],
   "source": [
    "dummy_jitter = dummy.copy()\n",
    "dummy_jitter.iloc[:,:] = df_m_w_age_R\n",
    "dummy_jitter['WEIGHT'] = df['WEIGHT'].values"
   ]
  },
  {
   "cell_type": "code",
   "execution_count": 225,
   "metadata": {},
   "outputs": [
    {
     "data": {
      "text/plain": [
       "4519.361827350486"
      ]
     },
     "execution_count": 225,
     "metadata": {},
     "output_type": "execute_result"
    }
   ],
   "source": [
    "qr_mod = qr_package.rq('WEIGHT ~ x1+x2+x3',data=dummy_jitter, tau=0.5)\n",
    "qr_package.AIC_rq(qr_mod)[0]"
   ]
  },
  {
   "cell_type": "code",
   "execution_count": 208,
   "metadata": {},
   "outputs": [],
   "source": [
    "dummy_jitter.to_csv(os.path.join('dmatrix.csv'))"
   ]
  },
  {
   "cell_type": "code",
   "execution_count": null,
   "metadata": {},
   "outputs": [],
   "source": [
    "# debug\n",
    "model_dict,mean_dict,akaike_dict,L_dict,knots_dict,degrees_dict,model_keys,best_model = spline_model_optimizer(df_m_nonull, response)"
   ]
  },
  {
   "cell_type": "code",
   "execution_count": null,
   "metadata": {},
   "outputs": [],
   "source": [
    "#akaike_dict\n",
    "for key,val in akaike_dict.items():\n",
    "    print(key, val)"
   ]
  },
  {
   "cell_type": "code",
   "execution_count": null,
   "metadata": {},
   "outputs": [],
   "source": [
    "mean_dict"
   ]
  },
  {
   "cell_type": "code",
   "execution_count": null,
   "metadata": {},
   "outputs": [],
   "source": [
    "best_model"
   ]
  },
  {
   "cell_type": "code",
   "execution_count": null,
   "metadata": {},
   "outputs": [],
   "source": [
    "knots_dict"
   ]
  },
  {
   "cell_type": "code",
   "execution_count": null,
   "metadata": {},
   "outputs": [],
   "source": [
    "degrees_dict"
   ]
  },
  {
   "cell_type": "code",
   "execution_count": null,
   "metadata": {
    "slideshow": {
     "slide_type": "skip"
    }
   },
   "outputs": [],
   "source": [
    "# Import cdc data\n",
    "# 2 to 20years\n",
    "infile  = '/tf/smipipeline/growth_curves/data/csv/statage220.csv'\n",
    "df_cdc_wt= pd.read_csv(infile, index_col=False)\n",
    "df_cdc_wt['Age'] = df_cdc_wt['Agemos']/12\n",
    "df_cdc_wt = df_cdc_wt[['Sex','Age','P10','P25','P50','P75','P90']]\n",
    "# infants to 3 years\n",
    "infile2  = '/tf/smipipeline/growth_curves/data/csv/lenageinf.csv'\n",
    "df_cdc_wt2= pd.read_csv(infile2, index_col=False)\n",
    "df_cdc_wt2['Age'] = df_cdc_wt2['Agemos']/12\n",
    "df_cdc_wt2 = df_cdc_wt2[['Sex','Age','P10','P25','P50','P75','P90']]\n",
    "\n",
    "# keep only till 2 years\n",
    "df_cdc_wt2 = df_cdc_wt2[df_cdc_wt2['Age']<2]\n",
    "\n",
    "# Merge\n",
    "df_cdc_wt = pd.concat([df_cdc_wt,df_cdc_wt2],ignore_index=True)\n",
    "df_cdc_wt = df_cdc_wt.sort_values(by=['Age'])\n",
    "\n",
    "response='HEIGHT'\n",
    "cdc_df = df_cdc_wt\n",
    "# Get optimal model config\n",
    "df_m_nonull = df_m.dropna(subset=[response])\n",
    "df_f_nonull = df_f.dropna(subset=[response])\n",
    "model_m,knots_m,degrees_m = spline_model_optimizer(df_m_nonull, response)\n",
    "model_f,knots_f,degrees_f = spline_model_optimizer(df_f_nonull, response)\n",
    "\n",
    "\n",
    "# Fit the model for different quantiles\n",
    "fit_models_m = fit_bs_models(model_m,qlist=[0.10,0.25,0.50,0.75,0.90])\n",
    "fit_models_f = fit_bs_models(model_f,qlist=[0.10,0.25,0.50,0.75,0.90])"
   ]
  },
  {
   "cell_type": "code",
   "execution_count": null,
   "metadata": {
    "slideshow": {
     "slide_type": "slide"
    }
   },
   "outputs": [],
   "source": [
    "# Plot the results\n",
    "if cdc_df is not None:\n",
    "    print('Population comparison to cdc data on ' + response + ' using quantile regression')\n",
    "    plot_bs_qr_wcdc([df_m_nonull,df_f_nonull],\n",
    "               [fit_models_m,fit_models_f],\n",
    "               knots=[knots_m,knots_f],\n",
    "               degrees=[degrees_m,degrees_f],\n",
    "               cdc_df = cdc_df,\n",
    "               response=response)"
   ]
  },
  {
   "cell_type": "code",
   "execution_count": null,
   "metadata": {
    "slideshow": {
     "slide_type": "skip"
    }
   },
   "outputs": [],
   "source": [
    "# Import cdc data\n",
    "# 2 to 20years\n",
    "infile  = '/tf/smipipeline/growth_curves/data/csv/bmiage220.csv'\n",
    "df_cdc_wt= pd.read_csv(infile, index_col=False)\n",
    "df_cdc_wt['Age'] = df_cdc_wt['Agemos']/12\n",
    "df_cdc_wt = df_cdc_wt[['Sex','Age','P10','P25','P50','P75','P90']]\n",
    "\n",
    "response='BMI_CALC'\n",
    "cdc_df = df_cdc_wt\n",
    "# Get optimal model config\n",
    "df_m_nonull = df_m.dropna(subset=[response])\n",
    "df_f_nonull = df_f.dropna(subset=[response])\n",
    "model_m,knots_m,degrees_m = spline_model_optimizer(df_m_nonull, response)\n",
    "model_f,knots_f,degrees_f = spline_model_optimizer(df_f_nonull, response)\n",
    "\n",
    "\n",
    "# Fit the model for different quantiles\n",
    "fit_models_m = fit_bs_models(model_m,qlist=[0.10,0.25,0.50,0.75,0.90])\n",
    "fit_models_f = fit_bs_models(model_f,qlist=[0.10,0.25,0.50,0.75,0.90])"
   ]
  },
  {
   "cell_type": "code",
   "execution_count": null,
   "metadata": {
    "scrolled": true,
    "slideshow": {
     "slide_type": "slide"
    }
   },
   "outputs": [],
   "source": [
    "# Plot the results\n",
    "if cdc_df is not None:\n",
    "    print('Population comparison to cdc data on ' + response + ' using quantile regression')\n",
    "    plot_bs_qr_wcdc([df_m_nonull,df_f_nonull],\n",
    "               [fit_models_m,fit_models_f],\n",
    "               knots=[knots_m,knots_f],\n",
    "               degrees=[degrees_m,degrees_f],\n",
    "               cdc_df = cdc_df,\n",
    "               response=response)"
   ]
  },
  {
   "cell_type": "code",
   "execution_count": null,
   "metadata": {
    "slideshow": {
     "slide_type": "skip"
    }
   },
   "outputs": [],
   "source": [
    "response='area_cm2'\n",
    "\n",
    "# Get optimal model config\n",
    "model_m,knots_m,degrees_m = spline_model_optimizer(df_m, response)\n",
    "model_f,knots_f,degrees_f = spline_model_optimizer(df_f, response)\n",
    "\n",
    "\n",
    "# Fit the model for different quantiles\n",
    "fit_models_m = fit_bs_models(model_m,qlist=[0.10,0.25,0.50,0.75,0.90])\n",
    "fit_models_f = fit_bs_models(model_f,qlist=[0.10,0.25,0.50,0.75,0.90])"
   ]
  },
  {
   "cell_type": "code",
   "execution_count": null,
   "metadata": {
    "slideshow": {
     "slide_type": "slide"
    }
   },
   "outputs": [],
   "source": [
    "# Plot the results\n",
    "print('Quantile Regression with Splines for Skeletal Muscle Area (CCHMC data)')\n",
    "plot_bs_qr([df_m,df_f],\n",
    "           [fit_models_m,fit_models_f],\n",
    "           knots=[knots_m,knots_f],\n",
    "           degrees=[degrees_m,degrees_f],\n",
    "           response=response)"
   ]
  },
  {
   "cell_type": "code",
   "execution_count": null,
   "metadata": {
    "slideshow": {
     "slide_type": "skip"
    }
   },
   "outputs": [],
   "source": [
    "import cv2\n",
    "def show_figures(figlist,titlist):\n",
    "    plt.figure(figsize = (15,8))\n",
    "    for n in range(len(figlist)):\n",
    "        im = cv2.imread(figlist[n])\n",
    "        im_resized = cv2.resize(im, (1024, 1024), interpolation=cv2.INTER_LINEAR)\n",
    "        ax = plt.subplot(1,2,n+1)\n",
    "        ax.imshow(cv2.cvtColor(im_resized, cv2.COLOR_BGR2RGB))\n",
    "        ax.set_title(titlist[n])\n",
    "        ax.axis('off')"
   ]
  },
  {
   "cell_type": "code",
   "execution_count": null,
   "metadata": {
    "slideshow": {
     "slide_type": "slide"
    }
   },
   "outputs": [],
   "source": [
    "print(\"Psoas Muscle Results from Metzger.et.al\")\n",
    "f1  = '/tf/smipipeline/growth_curves/data/PMA Metzger Male.png'\n",
    "f2  = '/tf/smipipeline/growth_curves/data/PMA Metzger Female.png'\n",
    "\n",
    "show_figures([f1,f2],['Male','Female'])"
   ]
  },
  {
   "cell_type": "code",
   "execution_count": null,
   "metadata": {
    "slideshow": {
     "slide_type": "slide"
    }
   },
   "outputs": [],
   "source": [
    "print(\"Psoas Muscle Results from Lurz.et.al\")\n",
    "f1  = '/tf/smipipeline/growth_curves/data/Lurz PMA male.png'\n",
    "f2  = '/tf/smipipeline/growth_curves/data/Lurtz PMA female.png'\n",
    "\n",
    "show_figures([f1,f2],['Male','Female'])"
   ]
  },
  {
   "cell_type": "code",
   "execution_count": null,
   "metadata": {
    "slideshow": {
     "slide_type": "skip"
    }
   },
   "outputs": [],
   "source": [
    "response='smi'\n",
    "\n",
    "\n",
    "df_m_nonull = df_m.dropna(subset=[response])\n",
    "df_f_nonull = df_f.dropna(subset=[response])\n",
    "\n",
    "# Get optimal model config\n",
    "model_m,knots_m,degrees_m = spline_model_optimizer(df_m_nonull, response)\n",
    "model_f,knots_f,degrees_f = spline_model_optimizer(df_f_nonull, response)\n",
    "\n",
    "\n",
    "\n",
    "# Fit the model for different quantiles\n",
    "fit_models_m = fit_bs_models(model_m,qlist=[0.10,0.25,0.50,0.75,0.90])\n",
    "fit_models_f = fit_bs_models(model_f,qlist=[0.10,0.25,0.50,0.75,0.90])"
   ]
  },
  {
   "cell_type": "code",
   "execution_count": null,
   "metadata": {
    "slideshow": {
     "slide_type": "slide"
    }
   },
   "outputs": [],
   "source": [
    "# Plot the results\n",
    "print('Quantile Regression with Splines for SMI [CCHMC data]')\n",
    "plot_bs_qr([df_m_nonull,df_f_nonull],\n",
    "           [fit_models_m,fit_models_f],\n",
    "           knots=[knots_m,knots_f],\n",
    "           degrees=[degrees_m,degrees_f],\n",
    "           response=response)"
   ]
  },
  {
   "cell_type": "code",
   "execution_count": null,
   "metadata": {
    "slideshow": {
     "slide_type": "slide"
    }
   },
   "outputs": [],
   "source": [
    "print(\"Psoas Muscle Index Results from Metzger.et.al\")\n",
    "f1  = '/tf/smipipeline/growth_curves/data/Metzger et al pmi male.png'\n",
    "f2  = '/tf/smipipeline/growth_curves/data/Metzger et al pmi female.png'\n",
    "\n",
    "show_figures([f1,f2],['Male','Female'])"
   ]
  },
  {
   "cell_type": "code",
   "execution_count": null,
   "metadata": {
    "slideshow": {
     "slide_type": "skip"
    }
   },
   "outputs": [],
   "source": [
    "response='area_cm2'\n",
    "predictor='WEIGHT'\n",
    "\n",
    "df_m_nonull = df_m.dropna(subset=[response,predictor])\n",
    "df_f_nonull = df_f.dropna(subset=[response,predictor])\n",
    "\n",
    "# Get optimal model config\n",
    "model_m,knots_m,degrees_m = spline_model_optimizer(df_m_nonull, response,predictor_var=predictor)\n",
    "model_f,knots_f,degrees_f = spline_model_optimizer(df_f_nonull, response,predictor_var=predictor)\n",
    "\n",
    "\n",
    "\n",
    "# Fit the model for different quantiles\n",
    "fit_models_m = fit_bs_models(model_m,qlist=[0.10,0.25,0.50,0.75,0.90])\n",
    "fit_models_f = fit_bs_models(model_f,qlist=[0.10,0.25,0.50,0.75,0.90])"
   ]
  },
  {
   "cell_type": "code",
   "execution_count": null,
   "metadata": {
    "slideshow": {
     "slide_type": "slide"
    }
   },
   "outputs": [],
   "source": [
    "# Plot the results\n",
    "print('Quantile Regression with Splines for SMA [CCHMC data] vs Weight')\n",
    "plot_bs_qr([df_m_nonull,df_f_nonull],\n",
    "           [fit_models_m,fit_models_f],\n",
    "           knots=[knots_m,knots_f],\n",
    "           degrees=[degrees_m,degrees_f],\n",
    "           response=response,predictor=predictor)"
   ]
  },
  {
   "cell_type": "code",
   "execution_count": null,
   "metadata": {
    "slideshow": {
     "slide_type": "skip"
    }
   },
   "outputs": [],
   "source": [
    "response='smi'\n",
    "predictor='WEIGHT'\n",
    "\n",
    "df_m_nonull = df_m.dropna(subset=[response,predictor])\n",
    "df_f_nonull = df_f.dropna(subset=[response,predictor])\n",
    "\n",
    "# Get optimal model config\n",
    "model_m,knots_m,degrees_m = spline_model_optimizer(df_m_nonull, response,predictor_var=predictor)\n",
    "model_f,knots_f,degrees_f = spline_model_optimizer(df_f_nonull, response,predictor_var=predictor)\n",
    "\n",
    "\n",
    "\n",
    "# Fit the model for different quantiles\n",
    "fit_models_m = fit_bs_models(model_m,qlist=[0.10,0.25,0.50,0.75,0.90])\n",
    "fit_models_f = fit_bs_models(model_f,qlist=[0.10,0.25,0.50,0.75,0.90])"
   ]
  },
  {
   "cell_type": "code",
   "execution_count": null,
   "metadata": {
    "slideshow": {
     "slide_type": "slide"
    }
   },
   "outputs": [],
   "source": [
    "# Plot the results\n",
    "print('Quantile Regression with Splines for SMI [CCHMC data] vs Weight')\n",
    "plot_bs_qr([df_m_nonull,df_f_nonull],\n",
    "           [fit_models_m,fit_models_f],\n",
    "           knots=[knots_m,knots_f],\n",
    "           degrees=[degrees_m,degrees_f],\n",
    "           response=response,predictor=predictor)"
   ]
  },
  {
   "cell_type": "code",
   "execution_count": null,
   "metadata": {
    "slideshow": {
     "slide_type": "skip"
    }
   },
   "outputs": [],
   "source": [
    "response='area_cm2'\n",
    "predictor='HEIGHT'\n",
    "\n",
    "df_m_nonull = df_m.dropna(subset=[response,predictor])\n",
    "df_f_nonull = df_f.dropna(subset=[response,predictor])\n",
    "\n",
    "# Get optimal model config\n",
    "model_m,knots_m,degrees_m = spline_model_optimizer(df_m_nonull, response,predictor_var=predictor)\n",
    "model_f,knots_f,degrees_f = spline_model_optimizer(df_f_nonull, response,predictor_var=predictor)\n",
    "\n",
    "\n",
    "\n",
    "# Fit the model for different quantiles\n",
    "fit_models_m = fit_bs_models(model_m,qlist=[0.10,0.25,0.50,0.75,0.90])\n",
    "fit_models_f = fit_bs_models(model_f,qlist=[0.10,0.25,0.50,0.75,0.90])"
   ]
  },
  {
   "cell_type": "code",
   "execution_count": null,
   "metadata": {
    "slideshow": {
     "slide_type": "slide"
    }
   },
   "outputs": [],
   "source": [
    "# Plot the results\n",
    "print('Quantile Regression with Splines for SMA [CCHMC data] vs HEIGHT')\n",
    "plot_bs_qr([df_m_nonull,df_f_nonull],\n",
    "           [fit_models_m,fit_models_f],\n",
    "           knots=[knots_m,knots_f],\n",
    "           degrees=[degrees_m,degrees_f],\n",
    "           response=response,predictor=predictor)"
   ]
  },
  {
   "cell_type": "code",
   "execution_count": null,
   "metadata": {
    "slideshow": {
     "slide_type": "skip"
    }
   },
   "outputs": [],
   "source": [
    "response='smi'\n",
    "predictor='HEIGHT'\n",
    "\n",
    "df_m_nonull = df_m.dropna(subset=[response,predictor])\n",
    "df_f_nonull = df_f.dropna(subset=[response,predictor])\n",
    "\n",
    "# Get optimal model config\n",
    "model_m,knots_m,degrees_m = spline_model_optimizer(df_m_nonull, response,predictor_var=predictor)\n",
    "model_f,knots_f,degrees_f = spline_model_optimizer(df_f_nonull, response,predictor_var=predictor)\n",
    "\n",
    "\n",
    "\n",
    "# Fit the model for different quantiles\n",
    "fit_models_m = fit_bs_models(model_m,qlist=[0.10,0.25,0.50,0.75,0.90])\n",
    "fit_models_f = fit_bs_models(model_f,qlist=[0.10,0.25,0.50,0.75,0.90])"
   ]
  },
  {
   "cell_type": "code",
   "execution_count": null,
   "metadata": {
    "slideshow": {
     "slide_type": "slide"
    }
   },
   "outputs": [],
   "source": [
    "# Plot the results\n",
    "print('Quantile Regression with Splines for SMI [CCHMC data] vs HEIGHT')\n",
    "plot_bs_qr([df_m_nonull,df_f_nonull],\n",
    "           [fit_models_m,fit_models_f],\n",
    "           knots=[knots_m,knots_f],\n",
    "           degrees=[degrees_m,degrees_f],\n",
    "           response=response,predictor=predictor)"
   ]
  },
  {
   "cell_type": "code",
   "execution_count": null,
   "metadata": {
    "slideshow": {
     "slide_type": "skip"
    }
   },
   "outputs": [],
   "source": [
    "response='area_cm2'\n",
    "predictor='bmi_age_Zpercentile'\n",
    "\n",
    "df_m_nonull = df_m.dropna(subset=[response,predictor])\n",
    "df_f_nonull = df_f.dropna(subset=[response,predictor])\n",
    "\n",
    "# Get optimal model config\n",
    "model_m,knots_m,degrees_m = spline_model_optimizer(df_m_nonull, response,predictor_var=predictor)\n",
    "model_f,knots_f,degrees_f = spline_model_optimizer(df_f_nonull, response,predictor_var=predictor)\n",
    "\n",
    "\n",
    "\n",
    "# Fit the model for different quantiles\n",
    "fit_models_m = fit_bs_models(model_m,qlist=[0.10,0.25,0.50,0.75,0.90])\n",
    "fit_models_f = fit_bs_models(model_f,qlist=[0.10,0.25,0.50,0.75,0.90])"
   ]
  },
  {
   "cell_type": "code",
   "execution_count": null,
   "metadata": {
    "slideshow": {
     "slide_type": "slide"
    }
   },
   "outputs": [],
   "source": [
    "# Plot the results\n",
    "print('Quantile Regression with Splines for SMA [CCHMC data] vs BMI percentile')\n",
    "plot_bs_qr([df_m_nonull,df_f_nonull],\n",
    "           [fit_models_m,fit_models_f],\n",
    "           knots=[knots_m,knots_f],\n",
    "           degrees=[degrees_m,degrees_f],\n",
    "           response=response,predictor=predictor)"
   ]
  },
  {
   "cell_type": "code",
   "execution_count": null,
   "metadata": {
    "slideshow": {
     "slide_type": "skip"
    }
   },
   "outputs": [],
   "source": [
    "response='smi'\n",
    "predictor='bmi_age_Zpercentile'\n",
    "\n",
    "df_m_nonull = df_m.dropna(subset=[response,predictor])\n",
    "df_f_nonull = df_f.dropna(subset=[response,predictor])\n",
    "\n",
    "# Get optimal model config\n",
    "model_m,knots_m,degrees_m = spline_model_optimizer(df_m_nonull, response,predictor_var=predictor)\n",
    "model_f,knots_f,degrees_f = spline_model_optimizer(df_f_nonull, response,predictor_var=predictor)\n",
    "\n",
    "\n",
    "\n",
    "# Fit the model for different quantiles\n",
    "fit_models_m = fit_bs_models(model_m,qlist=[0.10,0.25,0.50,0.75,0.90])\n",
    "fit_models_f = fit_bs_models(model_f,qlist=[0.10,0.25,0.50,0.75,0.90])"
   ]
  },
  {
   "cell_type": "code",
   "execution_count": null,
   "metadata": {},
   "outputs": [],
   "source": []
  },
  {
   "cell_type": "code",
   "execution_count": null,
   "metadata": {
    "slideshow": {
     "slide_type": "slide"
    }
   },
   "outputs": [],
   "source": [
    "# Plot the results\n",
    "print('Quantile Regression with Splines for SMI [CCHMC data] vs BMI percentile')\n",
    "plot_bs_qr([df_m_nonull,df_f_nonull],\n",
    "           [fit_models_m,fit_models_f],\n",
    "           knots=[knots_m,knots_f],\n",
    "           degrees=[degrees_m,degrees_f],\n",
    "           response=response,predictor=predictor)"
   ]
  },
  {
   "cell_type": "code",
   "execution_count": null,
   "metadata": {
    "slideshow": {
     "slide_type": "skip"
    }
   },
   "outputs": [],
   "source": [
    "response='area_cm2'\n",
    "predictor='BMI_CALC'\n",
    "\n",
    "df_m_nonull = df_m.dropna(subset=[response,predictor])\n",
    "df_f_nonull = df_f.dropna(subset=[response,predictor])\n",
    "\n",
    "# Get optimal model config\n",
    "model_m,knots_m,degrees_m = spline_model_optimizer(df_m_nonull, response,predictor_var=predictor)\n",
    "model_f,knots_f,degrees_f = spline_model_optimizer(df_f_nonull, response,predictor_var=predictor)\n",
    "\n",
    "\n",
    "# Fit the model for different quantiles\n",
    "fit_models_m = fit_bs_models(model_m,qlist=[0.10,0.25,0.50,0.75,0.90])\n",
    "fit_models_f = fit_bs_models(model_f,qlist=[0.10,0.25,0.50,0.75,0.90])"
   ]
  },
  {
   "cell_type": "code",
   "execution_count": null,
   "metadata": {
    "slideshow": {
     "slide_type": "slide"
    }
   },
   "outputs": [],
   "source": [
    "# Plot the results\n",
    "print('Quantile Regression with Splines for Skeletal Muscle Index [CCHMC data] vs BMI')\n",
    "plot_bs_qr([df_m_nonull,df_f_nonull],\n",
    "           [fit_models_m,fit_models_f],\n",
    "           knots=[knots_m,knots_f],\n",
    "           degrees=[degrees_m,degrees_f],\n",
    "           response=response,predictor=predictor)"
   ]
  },
  {
   "cell_type": "code",
   "execution_count": null,
   "metadata": {
    "slideshow": {
     "slide_type": "skip"
    }
   },
   "outputs": [],
   "source": [
    "response='smi'\n",
    "predictor='BMI_CALC'\n",
    "\n",
    "df_m_nonull = df_m.dropna(subset=[response,predictor])\n",
    "df_f_nonull = df_f.dropna(subset=[response,predictor])\n",
    "\n",
    "# Get optimal model config\n",
    "model_m,knots_m,degrees_m = spline_model_optimizer(df_m_nonull, response,predictor_var=predictor)\n",
    "model_f,knots_f,degrees_f = spline_model_optimizer(df_f_nonull, response,predictor_var=predictor)\n",
    "\n",
    "\n",
    "\n",
    "# Fit the model for different quantiles\n",
    "fit_models_m = fit_bs_models(model_m,qlist=[0.10,0.25,0.50,0.75,0.90])\n",
    "fit_models_f = fit_bs_models(model_f,qlist=[0.10,0.25,0.50,0.75,0.90])"
   ]
  },
  {
   "cell_type": "code",
   "execution_count": null,
   "metadata": {
    "slideshow": {
     "slide_type": "slide"
    }
   },
   "outputs": [],
   "source": [
    "# Plot the results\n",
    "print('Quantile Regression with Splines for Skeletal Muscle Index [CCHMC data] vs BMI')\n",
    "plot_bs_qr([df_m_nonull,df_f_nonull],\n",
    "           [fit_models_m,fit_models_f],\n",
    "           knots=[knots_m,knots_f],\n",
    "           degrees=[degrees_m,degrees_f],\n",
    "           response=response,predictor=predictor)"
   ]
  }
 ],
 "metadata": {
  "celltoolbar": "Slideshow",
  "file_extension": ".py",
  "kernelspec": {
   "display_name": "Python 3",
   "language": "python",
   "name": "python3"
  },
  "language_info": {
   "codemirror_mode": {
    "name": "ipython",
    "version": 3
   },
   "file_extension": ".py",
   "mimetype": "text/x-python",
   "name": "python",
   "nbconvert_exporter": "python",
   "pygments_lexer": "ipython3",
   "version": "3.8.5"
  },
  "mimetype": "text/x-python",
  "name": "python",
  "npconvert_exporter": "python",
  "pygments_lexer": "ipython3",
  "version": 3
 },
 "nbformat": 4,
 "nbformat_minor": 4
}
