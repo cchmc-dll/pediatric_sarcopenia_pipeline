{
 "cells": [
  {
   "cell_type": "markdown",
   "metadata": {},
   "source": [
    "# Notebook to calculate sarcopenia area for MRI"
   ]
  },
  {
   "cell_type": "markdown",
   "metadata": {},
   "source": [
    "## Import Libraries and Set directories"
   ]
  },
  {
   "cell_type": "code",
   "execution_count": 1,
   "metadata": {},
   "outputs": [],
   "source": [
    "#Import Libraries\n",
    "import os\n",
    "import SimpleITK as sitk\n",
    "import pandas as pd\n",
    "import numpy as np\n",
    "import re"
   ]
  },
  {
   "cell_type": "code",
   "execution_count": null,
   "metadata": {},
   "outputs": [],
   "source": [
    "# Install if needed\n",
    "#pip install xlrd"
   ]
  },
  {
   "cell_type": "code",
   "execution_count": 38,
   "metadata": {},
   "outputs": [
    {
     "name": "stdout",
     "output_type": "stream",
     "text": [
      "Collecting xlwt\n",
      "\u001b[?25l  Downloading https://files.pythonhosted.org/packages/44/48/def306413b25c3d01753603b1a222a011b8621aed27cd7f89cbc27e6b0f4/xlwt-1.3.0-py2.py3-none-any.whl (99kB)\n",
      "\u001b[K     |████████████████████████████████| 102kB 1.1MB/s ta 0:00:01\n",
      "\u001b[?25hInstalling collected packages: xlwt\n",
      "Successfully installed xlwt-1.3.0\n",
      "Note: you may need to restart the kernel to use updated packages.\n"
     ]
    }
   ],
   "source": [
    "#pip install xlwt"
   ]
  },
  {
   "cell_type": "code",
   "execution_count": 2,
   "metadata": {},
   "outputs": [],
   "source": [
    "import xlwt, xlrd"
   ]
  },
  {
   "cell_type": "code",
   "execution_count": 3,
   "metadata": {},
   "outputs": [
    {
     "name": "stdout",
     "output_type": "stream",
     "text": [
      "/home/jovyan/data\n"
     ]
    }
   ],
   "source": [
    "# Set input/output directories\n",
    "cwd = os.getcwd()\n",
    "dir_nifti ='/home/jovyan/data'\n",
    "print(dir_nifti)"
   ]
  },
  {
   "cell_type": "markdown",
   "metadata": {},
   "source": [
    "## Define some handy functions for creating dicom "
   ]
  },
  {
   "cell_type": "code",
   "execution_count": 4,
   "metadata": {},
   "outputs": [
    {
     "name": "stdout",
     "output_type": "stream",
     "text": [
      "No of patient folders to process:  201\n",
      "Input Excel file:  sarcopenia data_ES_043021_area_calculation_byLisa.xls\n"
     ]
    }
   ],
   "source": [
    "# load nifti list\n",
    "patslist = os.listdir(dir_nifti)\n",
    "pats = [pat for pat in patslist if 'xls' not in pat]\n",
    "in_file = [pat for pat in patslist if 'xls' in pat][0]\n",
    "print('No of patient folders to process: ', len(pats))\n",
    "print('Input Excel file: ', in_file)"
   ]
  },
  {
   "cell_type": "code",
   "execution_count": 5,
   "metadata": {},
   "outputs": [],
   "source": [
    "def get_mask_paths(patpath):\n",
    "    for root, directories, files in os.walk(patpath):\n",
    "        for filename in files:\n",
    "            # join the two strings in order to form the full filepath.\n",
    "            if 'mask' in filename:\n",
    "                filepath = os.path.join(root, filename)\n",
    "                return filepath\n",
    "            \n",
    "        print('Nifti mask not found for this patient:', patpath)    \n",
    "        break"
   ]
  },
  {
   "cell_type": "code",
   "execution_count": 6,
   "metadata": {},
   "outputs": [],
   "source": [
    "def calc_maskarea(path,pat):\n",
    "    patpath = os.path.join(path,pat)\n",
    "\n",
    "    maskfile = get_mask_paths(patpath)\n",
    "    img = sitk.ReadImage(maskfile)\n",
    "    img_arr = sitk.GetArrayFromImage(img)\n",
    "    \n",
    "    # QC1: check there is only 1 2D mask slice in 3d array\n",
    "    mask_slices = np.unique(np.nonzero(img_arr)[0])\n",
    "    if len(mask_slices) > 1:\n",
    "        print('More than 1 axial slice has non zero pixels for pat: ', pat)\n",
    "        return 0,0,0,0\n",
    "    \n",
    "    img_2darr = img_arr[(img_arr!=0).any(axis=(1,2)),:,:]\n",
    "    psoas_pixels = np.count_nonzero(img_2darr == 1)\n",
    "    skmuscle_pixels = np.count_nonzero(img_2darr == 2)\n",
    "    total_pixels = np.count_nonzero(img_2darr != 0)\n",
    "    total_pixels_chk = psoas_pixels + skmuscle_pixels\n",
    "    \n",
    "    if total_pixels != total_pixels_chk:\n",
    "        print('potential unknown mask labels found for pat: ',pat)\n",
    "        return 0,0,0,0\n",
    "        \n",
    "#     print('mask_slice: ', mask_slice)\n",
    "#     print('Psoas: ', psoas_pixels)\n",
    "#     print('skmuscle: ', skmuscle_pixels)\n",
    "#     print('total_pixels: ', total_pixels)\n",
    "#     print('total_pixels_chk: ', total_pixels_chk)\n",
    "#     print(dir(img))\n",
    "#     print('Spacing: ', img.GetSpacing()[0],img.GetSpacing()[1])\n",
    "    psoas_area = psoas_pixels * img.GetSpacing()[0]*img.GetSpacing()[1]\n",
    "    skmuscle_area = skmuscle_pixels * img.GetSpacing()[0]*img.GetSpacing()[1]\n",
    "    total_area = total_pixels * img.GetSpacing()[0]*img.GetSpacing()[1]\n",
    "    \n",
    "    return mask_slices[0]+1,psoas_area,skmuscle_area,total_area\n",
    "    \n",
    "    \n",
    "    #return area    "
   ]
  },
  {
   "cell_type": "code",
   "execution_count": 7,
   "metadata": {},
   "outputs": [],
   "source": [
    "df = pd.read_excel(os.path.join(dir_nifti,in_file))"
   ]
  },
  {
   "cell_type": "code",
   "execution_count": 8,
   "metadata": {},
   "outputs": [
    {
     "data": {
      "text/html": [
       "<div>\n",
       "<style scoped>\n",
       "    .dataframe tbody tr th:only-of-type {\n",
       "        vertical-align: middle;\n",
       "    }\n",
       "\n",
       "    .dataframe tbody tr th {\n",
       "        vertical-align: top;\n",
       "    }\n",
       "\n",
       "    .dataframe thead th {\n",
       "        text-align: right;\n",
       "    }\n",
       "</style>\n",
       "<table border=\"1\" class=\"dataframe\">\n",
       "  <thead>\n",
       "    <tr style=\"text-align: right;\">\n",
       "      <th></th>\n",
       "      <th>patient ID</th>\n",
       "      <th>replacements</th>\n",
       "      <th>race</th>\n",
       "      <th>ethnicity</th>\n",
       "      <th>height (cm)</th>\n",
       "      <th>weight</th>\n",
       "      <th>psoas area (mm2)</th>\n",
       "      <th>corrected psoas area</th>\n",
       "      <th>abd wall area (mm2)</th>\n",
       "      <th>corrected abd wall area</th>\n",
       "      <th>L3 slice no</th>\n",
       "      <th>L3 slice 3D no</th>\n",
       "    </tr>\n",
       "  </thead>\n",
       "  <tbody>\n",
       "    <tr>\n",
       "      <th>0</th>\n",
       "      <td>1</td>\n",
       "      <td>NaN</td>\n",
       "      <td>White</td>\n",
       "      <td>Non-Hispanic</td>\n",
       "      <td>166.1</td>\n",
       "      <td>79.4</td>\n",
       "      <td>5244.73</td>\n",
       "      <td>2622.365</td>\n",
       "      <td>28551.5</td>\n",
       "      <td>14275.75</td>\n",
       "      <td>21</td>\n",
       "      <td>51</td>\n",
       "    </tr>\n",
       "    <tr>\n",
       "      <th>1</th>\n",
       "      <td>2</td>\n",
       "      <td>NaN</td>\n",
       "      <td>White</td>\n",
       "      <td>Non-Hispanic</td>\n",
       "      <td>152.4</td>\n",
       "      <td>51.8</td>\n",
       "      <td>4750.97</td>\n",
       "      <td>2375.485</td>\n",
       "      <td>28078.3</td>\n",
       "      <td>14039.15</td>\n",
       "      <td>14</td>\n",
       "      <td>13</td>\n",
       "    </tr>\n",
       "    <tr>\n",
       "      <th>2</th>\n",
       "      <td>3</td>\n",
       "      <td>NaN</td>\n",
       "      <td>White</td>\n",
       "      <td>Non-Hispanic</td>\n",
       "      <td>158.5</td>\n",
       "      <td>75.3</td>\n",
       "      <td>5362.14</td>\n",
       "      <td>2681.070</td>\n",
       "      <td>31648.7</td>\n",
       "      <td>15824.35</td>\n",
       "      <td>30</td>\n",
       "      <td>50</td>\n",
       "    </tr>\n",
       "    <tr>\n",
       "      <th>3</th>\n",
       "      <td>4</td>\n",
       "      <td>NaN</td>\n",
       "      <td>White</td>\n",
       "      <td>Non-Hispanic</td>\n",
       "      <td>175.3</td>\n",
       "      <td>61.1</td>\n",
       "      <td>4798.54</td>\n",
       "      <td>2399.270</td>\n",
       "      <td>29239.4</td>\n",
       "      <td>14619.70</td>\n",
       "      <td>21</td>\n",
       "      <td>59</td>\n",
       "    </tr>\n",
       "    <tr>\n",
       "      <th>4</th>\n",
       "      <td>5</td>\n",
       "      <td>NaN</td>\n",
       "      <td>White</td>\n",
       "      <td>Non-Hispanic</td>\n",
       "      <td>162.6</td>\n",
       "      <td>95.8</td>\n",
       "      <td>6839.70</td>\n",
       "      <td>3419.850</td>\n",
       "      <td>38763.6</td>\n",
       "      <td>19381.80</td>\n",
       "      <td>18</td>\n",
       "      <td>48</td>\n",
       "    </tr>\n",
       "    <tr>\n",
       "      <th>5</th>\n",
       "      <td>6</td>\n",
       "      <td>NaN</td>\n",
       "      <td>White</td>\n",
       "      <td>Non-Hispanic</td>\n",
       "      <td>167.4</td>\n",
       "      <td>64.9</td>\n",
       "      <td>6427.97</td>\n",
       "      <td>3213.985</td>\n",
       "      <td>28974.6</td>\n",
       "      <td>14487.30</td>\n",
       "      <td>27</td>\n",
       "      <td>43</td>\n",
       "    </tr>\n",
       "    <tr>\n",
       "      <th>6</th>\n",
       "      <td>7</td>\n",
       "      <td>NaN</td>\n",
       "      <td>Unknown</td>\n",
       "      <td>Unknown</td>\n",
       "      <td>169</td>\n",
       "      <td>60.4</td>\n",
       "      <td>4989.17</td>\n",
       "      <td>2494.585</td>\n",
       "      <td>30864.1</td>\n",
       "      <td>15432.05</td>\n",
       "      <td>20</td>\n",
       "      <td>10</td>\n",
       "    </tr>\n",
       "    <tr>\n",
       "      <th>7</th>\n",
       "      <td>8</td>\n",
       "      <td>NaN</td>\n",
       "      <td>White</td>\n",
       "      <td>Non-Hispanic</td>\n",
       "      <td>NaN</td>\n",
       "      <td>49.7</td>\n",
       "      <td>6913.98</td>\n",
       "      <td>3456.990</td>\n",
       "      <td>29394.2</td>\n",
       "      <td>14697.10</td>\n",
       "      <td>25</td>\n",
       "      <td>39</td>\n",
       "    </tr>\n",
       "    <tr>\n",
       "      <th>8</th>\n",
       "      <td>9</td>\n",
       "      <td>b</td>\n",
       "      <td>White</td>\n",
       "      <td>Non-Hispanic</td>\n",
       "      <td>NaN</td>\n",
       "      <td>85.3</td>\n",
       "      <td>5282.13</td>\n",
       "      <td>2641.065</td>\n",
       "      <td>37375.8</td>\n",
       "      <td>18687.90</td>\n",
       "      <td>34</td>\n",
       "      <td>36</td>\n",
       "    </tr>\n",
       "    <tr>\n",
       "      <th>9</th>\n",
       "      <td>10</td>\n",
       "      <td>NaN</td>\n",
       "      <td>White</td>\n",
       "      <td>Non-Hispanic</td>\n",
       "      <td>152.9</td>\n",
       "      <td>45.4</td>\n",
       "      <td>4398.55</td>\n",
       "      <td>2199.275</td>\n",
       "      <td>26192.1</td>\n",
       "      <td>13096.05</td>\n",
       "      <td>24</td>\n",
       "      <td>46</td>\n",
       "    </tr>\n",
       "  </tbody>\n",
       "</table>\n",
       "</div>"
      ],
      "text/plain": [
       "   patient ID replacements     race     ethnicity height (cm)  weight  \\\n",
       "0           1          NaN    White  Non-Hispanic       166.1    79.4   \n",
       "1           2          NaN    White  Non-Hispanic       152.4    51.8   \n",
       "2           3          NaN    White  Non-Hispanic       158.5    75.3   \n",
       "3           4          NaN    White  Non-Hispanic       175.3    61.1   \n",
       "4           5          NaN    White  Non-Hispanic       162.6    95.8   \n",
       "5           6          NaN    White  Non-Hispanic       167.4    64.9   \n",
       "6           7          NaN  Unknown       Unknown         169    60.4   \n",
       "7           8          NaN    White  Non-Hispanic         NaN    49.7   \n",
       "8           9            b    White  Non-Hispanic         NaN    85.3   \n",
       "9          10          NaN    White  Non-Hispanic       152.9    45.4   \n",
       "\n",
       "   psoas area (mm2)  corrected psoas area  abd wall area (mm2)  \\\n",
       "0           5244.73              2622.365              28551.5   \n",
       "1           4750.97              2375.485              28078.3   \n",
       "2           5362.14              2681.070              31648.7   \n",
       "3           4798.54              2399.270              29239.4   \n",
       "4           6839.70              3419.850              38763.6   \n",
       "5           6427.97              3213.985              28974.6   \n",
       "6           4989.17              2494.585              30864.1   \n",
       "7           6913.98              3456.990              29394.2   \n",
       "8           5282.13              2641.065              37375.8   \n",
       "9           4398.55              2199.275              26192.1   \n",
       "\n",
       "   corrected abd wall area  L3 slice no  L3 slice 3D no  \n",
       "0                 14275.75           21              51  \n",
       "1                 14039.15           14              13  \n",
       "2                 15824.35           30              50  \n",
       "3                 14619.70           21              59  \n",
       "4                 19381.80           18              48  \n",
       "5                 14487.30           27              43  \n",
       "6                 15432.05           20              10  \n",
       "7                 14697.10           25              39  \n",
       "8                 18687.90           34              36  \n",
       "9                 13096.05           24              46  "
      ]
     },
     "metadata": {},
     "output_type": "display_data"
    }
   ],
   "source": [
    "display(df.head(10))"
   ]
  },
  {
   "cell_type": "code",
   "execution_count": 9,
   "metadata": {},
   "outputs": [
    {
     "name": "stdout",
     "output_type": "stream",
     "text": [
      "all patient processed\n"
     ]
    }
   ],
   "source": [
    "df['AUTO_sliceloc'] = np.nan\n",
    "df['AUTO_psoasarea_mm2'] = np.nan\n",
    "df['AUTO_skmusclearea_mm2'] = np.nan\n",
    "df['AUTO_totalarea_mm2'] = np.nan\n",
    "for i,pat in enumerate(reversed(pats)):\n",
    "    patname = pat.split(' ')[-1]\n",
    "    patname = int(re.sub('\\D', '', patname))\n",
    "    z_loc,psoas_area,skmuscle_area,total_area = calc_maskarea(dir_nifti,pat)\n",
    "    df.loc[df['patient ID']==patname,'AUTO_sliceloc'] = z_loc\n",
    "    df.loc[df['patient ID']==patname,'AUTO_psoasarea_mm2'] = psoas_area\n",
    "    df.loc[df['patient ID']==patname,'AUTO_skmusclearea_mm2'] = skmuscle_area\n",
    "    df.loc[df['patient ID']==patname,'AUTO_totalarea_mm2'] = total_area\n",
    "\n",
    "print('all patient processed')"
   ]
  },
  {
   "cell_type": "code",
   "execution_count": 10,
   "metadata": {},
   "outputs": [],
   "source": [
    "with pd.ExcelWriter(os.path.join(dir_nifti,'sarcopeniaMR_AUTOareacalculation.xls')) as writer:  \n",
    "    df.to_excel(writer, sheet_name='Sheet_name_1')"
   ]
  },
  {
   "cell_type": "code",
   "execution_count": null,
   "metadata": {},
   "outputs": [],
   "source": []
  }
 ],
 "metadata": {
  "kernelspec": {
   "display_name": "Python 3",
   "language": "python",
   "name": "python3"
  },
  "language_info": {
   "codemirror_mode": {
    "name": "ipython",
    "version": 3
   },
   "file_extension": ".py",
   "mimetype": "text/x-python",
   "name": "python",
   "nbconvert_exporter": "python",
   "pygments_lexer": "ipython3",
   "version": "3.6.9"
  }
 },
 "nbformat": 4,
 "nbformat_minor": 2
}
