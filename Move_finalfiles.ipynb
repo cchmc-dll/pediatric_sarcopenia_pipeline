{
 "cells": [
  {
   "cell_type": "markdown",
   "metadata": {},
   "source": [
    "# Notebook to Move final dcm files selected for processing to Project Folder"
   ]
  },
  {
   "cell_type": "code",
   "execution_count": 1,
   "metadata": {},
   "outputs": [],
   "source": [
    "import shutil\n",
    "import pickle\n",
    "import pandas as pd\n",
    "from l3finder.ingest import *\n",
    "import os\n",
    "import multiprocessing\n",
    "from multiprocessing import get_context\n",
    "from multiprocessing import set_start_method\n",
    "from tqdm.notebook import tqdm\n",
    "from investigate import *\n",
    "\n",
    "# Custom functions\n",
    "def save_object(obj, filename):\n",
    "    with open(filename, 'wb') as output:  # Overwrites any existing file.\n",
    "        pickle.dump(obj, output, pickle.HIGHEST_PROTOCOL)\n",
    "\n",
    "def load_object(filename):        \n",
    "    with open(filename, 'rb') as input:\n",
    "        return pickle.load(input)"
   ]
  },
  {
   "cell_type": "code",
   "execution_count": 2,
   "metadata": {},
   "outputs": [],
   "source": [
    "cwd = os.getcwd()\n",
    "output = '/tf/pickles'\n",
    "data = '/tf/data'\n",
    "target = '/tf/output'\n",
    "dump = 1"
   ]
  },
  {
   "cell_type": "code",
   "execution_count": 3,
   "metadata": {},
   "outputs": [],
   "source": [
    "df_final = load_object(os.path.join(output,'df_final_dump_1.pkl'))\n",
    "subjects = load_object(os.path.join(output,'subjects_final_dump_1.pkl'))"
   ]
  },
  {
   "cell_type": "code",
   "execution_count": 4,
   "metadata": {},
   "outputs": [],
   "source": [
    "file_mover = functools.partial(\n",
    "        move_subject,\n",
    "        df_final=df_final,\n",
    "        target = target)"
   ]
  },
  {
   "cell_type": "code",
   "execution_count": 5,
   "metadata": {},
   "outputs": [
    {
     "name": "stdout",
     "output_type": "stream",
     "text": [
      "Len of df:  2052\n",
      "Len of sub:  2052\n"
     ]
    }
   ],
   "source": [
    "df_final = df_final[df_final['ID'].isin([s.id_ for s in subjects])]\n",
    "print('Len of df: ', len(df_final))\n",
    "print('Len of sub: ', len(subjects))"
   ]
  },
  {
   "cell_type": "code",
   "execution_count": 6,
   "metadata": {},
   "outputs": [
    {
     "name": "stdout",
     "output_type": "stream",
     "text": [
      "Moving valid subjects\n",
      "Filtering series using  10  cores:\n"
     ]
    },
    {
     "data": {
      "application/vnd.jupyter.widget-view+json": {
       "model_id": "6822445cf80744b997aa4026e9e2050b",
       "version_major": 2,
       "version_minor": 0
      },
      "text/plain": [
       "HBox(children=(HTML(value=''), FloatProgress(value=0.0, max=2052.0), HTML(value='')))"
      ]
     },
     "metadata": {},
     "output_type": "display_data"
    },
    {
     "name": "stdout",
     "output_type": "stream",
     "text": [
      "\n"
     ]
    }
   ],
   "source": [
    "if __name__=='__main__':\n",
    "    # Find series images\n",
    "    print(\"Moving valid subjects\")\n",
    "    \n",
    "    def pool_mover(pool, func, candidates):\n",
    "        return [a for a in tqdm(pool.imap_unordered(func, candidates),total=len(candidates))]\n",
    "        \n",
    "    print('Filtering series using ', 10, ' cores:')\n",
    "        \n",
    "    with get_context(\"spawn\").Pool(processes=10) as p:\n",
    "        result_list = pool_mover(p, file_mover,subjects)\n",
    "        p.close()\n",
    "        p.join()\n",
    "        \n",
    "    df_final['Processed'] = result_list"
   ]
  },
  {
   "cell_type": "code",
   "execution_count": 7,
   "metadata": {},
   "outputs": [
    {
     "data": {
      "text/html": [
       "<div>\n",
       "<style scoped>\n",
       "    .dataframe tbody tr th:only-of-type {\n",
       "        vertical-align: middle;\n",
       "    }\n",
       "\n",
       "    .dataframe tbody tr th {\n",
       "        vertical-align: top;\n",
       "    }\n",
       "\n",
       "    .dataframe thead th {\n",
       "        text-align: right;\n",
       "    }\n",
       "</style>\n",
       "<table border=\"1\" class=\"dataframe\">\n",
       "  <thead>\n",
       "    <tr style=\"text-align: right;\">\n",
       "      <th></th>\n",
       "      <th>ID</th>\n",
       "      <th>Axial</th>\n",
       "      <th>Sagittal</th>\n",
       "      <th>Overlap</th>\n",
       "      <th>MissingScore</th>\n",
       "      <th>PairValidity</th>\n",
       "      <th>AxSlices</th>\n",
       "      <th>SagSlices</th>\n",
       "      <th>QC</th>\n",
       "      <th>Processed</th>\n",
       "    </tr>\n",
       "  </thead>\n",
       "  <tbody>\n",
       "    <tr>\n",
       "      <th>2</th>\n",
       "      <td>Z1001265</td>\n",
       "      <td>Z1001265-SE-4-Body_Std._Axial_AIDR_-_H_5.0</td>\n",
       "      <td>Z1001265-SE-7-Body_Std._Axial_AIDR_-_H_Sagitta...</td>\n",
       "      <td>0.998</td>\n",
       "      <td>1.011</td>\n",
       "      <td>2.009</td>\n",
       "      <td>90</td>\n",
       "      <td>99</td>\n",
       "      <td>hq</td>\n",
       "      <td>1</td>\n",
       "    </tr>\n",
       "    <tr>\n",
       "      <th>3</th>\n",
       "      <td>Z1001413</td>\n",
       "      <td>Z1001413-SE-5-Axial_Body_5.0</td>\n",
       "      <td>Z1001413-SE-8-Sagittal_Body_Sagittal_3.000</td>\n",
       "      <td>0.989</td>\n",
       "      <td>1.014</td>\n",
       "      <td>2.003</td>\n",
       "      <td>70</td>\n",
       "      <td>79</td>\n",
       "      <td>hq</td>\n",
       "      <td>1</td>\n",
       "    </tr>\n",
       "    <tr>\n",
       "      <th>4</th>\n",
       "      <td>Z1001998</td>\n",
       "      <td>Z1001998-SE-5-Axial_Body_5.0</td>\n",
       "      <td>Z1001998-SE-8-Sagittal_Body_Sagittal_3.000</td>\n",
       "      <td>0.994</td>\n",
       "      <td>1.014</td>\n",
       "      <td>2.008</td>\n",
       "      <td>68</td>\n",
       "      <td>76</td>\n",
       "      <td>hq</td>\n",
       "      <td>1</td>\n",
       "    </tr>\n",
       "    <tr>\n",
       "      <th>7</th>\n",
       "      <td>Z1003508</td>\n",
       "      <td>Z1003508-SE-2-Stnd_Pediatric_5.0_CE</td>\n",
       "      <td>Z1003508-SE-7-Stnd_Pediatric_3.0_CE</td>\n",
       "      <td>0.994</td>\n",
       "      <td>1.013</td>\n",
       "      <td>2.007</td>\n",
       "      <td>73</td>\n",
       "      <td>86</td>\n",
       "      <td>hq</td>\n",
       "      <td>1</td>\n",
       "    </tr>\n",
       "    <tr>\n",
       "      <th>8</th>\n",
       "      <td>Z1003895</td>\n",
       "      <td>Z1003895-SE-2-Axial_Std_5.0_CE</td>\n",
       "      <td>Z1003895-SE-7-Sagittal_Sagittal_3.0_CE</td>\n",
       "      <td>0.99</td>\n",
       "      <td>1.021</td>\n",
       "      <td>2.011</td>\n",
       "      <td>58</td>\n",
       "      <td>33</td>\n",
       "      <td>hq</td>\n",
       "      <td>1</td>\n",
       "    </tr>\n",
       "    <tr>\n",
       "      <th>9</th>\n",
       "      <td>Z1004285</td>\n",
       "      <td>Z1004285-SE-5-Axial_Body_5.0</td>\n",
       "      <td>Z1004285-SE-8-Sagittal_Body_Sagittal_3.000</td>\n",
       "      <td>0.986</td>\n",
       "      <td>1.014</td>\n",
       "      <td>2</td>\n",
       "      <td>70</td>\n",
       "      <td>80</td>\n",
       "      <td>hq</td>\n",
       "      <td>1</td>\n",
       "    </tr>\n",
       "    <tr>\n",
       "      <th>12</th>\n",
       "      <td>Z1008427</td>\n",
       "      <td>Z1008427-SE-7-Std_Pediatric_5.0_CE</td>\n",
       "      <td>Z1008427-SE-10-Std_Pediatric_3.0_CE</td>\n",
       "      <td>0.997</td>\n",
       "      <td>1.014</td>\n",
       "      <td>2.011</td>\n",
       "      <td>75</td>\n",
       "      <td>67</td>\n",
       "      <td>hq</td>\n",
       "      <td>1</td>\n",
       "    </tr>\n",
       "    <tr>\n",
       "      <th>13</th>\n",
       "      <td>Z1008758</td>\n",
       "      <td>Z1008758-SE-4-Body_Std._Axial_AIDR_-_H_5.0</td>\n",
       "      <td>Z1008758-SE-7-Body_Std._Axial_AIDR_-_H_Sagitta...</td>\n",
       "      <td>0.994</td>\n",
       "      <td>1.013</td>\n",
       "      <td>2.007</td>\n",
       "      <td>70</td>\n",
       "      <td>92</td>\n",
       "      <td>hq</td>\n",
       "      <td>1</td>\n",
       "    </tr>\n",
       "    <tr>\n",
       "      <th>17</th>\n",
       "      <td>Z1009724</td>\n",
       "      <td>Z1009724-SE-4-Axial_Std_3.0</td>\n",
       "      <td>Z1009724-SE-16-Sagittal_Sagittal_3.0_CE</td>\n",
       "      <td>0.528</td>\n",
       "      <td>1.011</td>\n",
       "      <td>1.539</td>\n",
       "      <td>128</td>\n",
       "      <td>54</td>\n",
       "      <td>hq</td>\n",
       "      <td>1</td>\n",
       "    </tr>\n",
       "    <tr>\n",
       "      <th>19</th>\n",
       "      <td>Z1011428</td>\n",
       "      <td>Z1011428-SE-2-Body_Std._Axial_AIDR_-_H_5.0</td>\n",
       "      <td>Z1011428-SE-5-Body_Std._Axial_AIDR_-_H_Sagitta...</td>\n",
       "      <td>0.99</td>\n",
       "      <td>1.012</td>\n",
       "      <td>2.002</td>\n",
       "      <td>80</td>\n",
       "      <td>93</td>\n",
       "      <td>hq</td>\n",
       "      <td>1</td>\n",
       "    </tr>\n",
       "  </tbody>\n",
       "</table>\n",
       "</div>"
      ],
      "text/plain": [
       "          ID                                       Axial  \\\n",
       "2   Z1001265  Z1001265-SE-4-Body_Std._Axial_AIDR_-_H_5.0   \n",
       "3   Z1001413                Z1001413-SE-5-Axial_Body_5.0   \n",
       "4   Z1001998                Z1001998-SE-5-Axial_Body_5.0   \n",
       "7   Z1003508         Z1003508-SE-2-Stnd_Pediatric_5.0_CE   \n",
       "8   Z1003895              Z1003895-SE-2-Axial_Std_5.0_CE   \n",
       "9   Z1004285                Z1004285-SE-5-Axial_Body_5.0   \n",
       "12  Z1008427          Z1008427-SE-7-Std_Pediatric_5.0_CE   \n",
       "13  Z1008758  Z1008758-SE-4-Body_Std._Axial_AIDR_-_H_5.0   \n",
       "17  Z1009724                 Z1009724-SE-4-Axial_Std_3.0   \n",
       "19  Z1011428  Z1011428-SE-2-Body_Std._Axial_AIDR_-_H_5.0   \n",
       "\n",
       "                                             Sagittal Overlap MissingScore  \\\n",
       "2   Z1001265-SE-7-Body_Std._Axial_AIDR_-_H_Sagitta...   0.998        1.011   \n",
       "3          Z1001413-SE-8-Sagittal_Body_Sagittal_3.000   0.989        1.014   \n",
       "4          Z1001998-SE-8-Sagittal_Body_Sagittal_3.000   0.994        1.014   \n",
       "7                 Z1003508-SE-7-Stnd_Pediatric_3.0_CE   0.994        1.013   \n",
       "8              Z1003895-SE-7-Sagittal_Sagittal_3.0_CE    0.99        1.021   \n",
       "9          Z1004285-SE-8-Sagittal_Body_Sagittal_3.000   0.986        1.014   \n",
       "12                Z1008427-SE-10-Std_Pediatric_3.0_CE   0.997        1.014   \n",
       "13  Z1008758-SE-7-Body_Std._Axial_AIDR_-_H_Sagitta...   0.994        1.013   \n",
       "17            Z1009724-SE-16-Sagittal_Sagittal_3.0_CE   0.528        1.011   \n",
       "19  Z1011428-SE-5-Body_Std._Axial_AIDR_-_H_Sagitta...    0.99        1.012   \n",
       "\n",
       "   PairValidity AxSlices SagSlices  QC  Processed  \n",
       "2         2.009       90        99  hq          1  \n",
       "3         2.003       70        79  hq          1  \n",
       "4         2.008       68        76  hq          1  \n",
       "7         2.007       73        86  hq          1  \n",
       "8         2.011       58        33  hq          1  \n",
       "9             2       70        80  hq          1  \n",
       "12        2.011       75        67  hq          1  \n",
       "13        2.007       70        92  hq          1  \n",
       "17        1.539      128        54  hq          1  \n",
       "19        2.002       80        93  hq          1  "
      ]
     },
     "metadata": {},
     "output_type": "display_data"
    }
   ],
   "source": [
    "display(df_final.head(10))"
   ]
  },
  {
   "cell_type": "code",
   "execution_count": 8,
   "metadata": {},
   "outputs": [],
   "source": [
    "save_object(df_final,os.path.join(output,'df_final_dump1_processed.pkl'))"
   ]
  },
  {
   "cell_type": "code",
   "execution_count": null,
   "metadata": {},
   "outputs": [],
   "source": []
  }
 ],
 "metadata": {
  "kernelspec": {
   "display_name": "Python 3",
   "language": "python",
   "name": "python3"
  },
  "language_info": {
   "codemirror_mode": {
    "name": "ipython",
    "version": 3
   },
   "file_extension": ".py",
   "mimetype": "text/x-python",
   "name": "python",
   "nbconvert_exporter": "python",
   "pygments_lexer": "ipython3",
   "version": "3.6.9"
  }
 },
 "nbformat": 4,
 "nbformat_minor": 2
}
