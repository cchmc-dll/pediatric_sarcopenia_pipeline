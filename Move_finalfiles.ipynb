{
 "cells": [
  {
   "cell_type": "markdown",
   "metadata": {},
   "source": [
    "# Notebook to Move final dcm files selected for processing to Project Folder"
   ]
  },
  {
   "cell_type": "code",
   "execution_count": null,
   "metadata": {},
   "outputs": [],
   "source": [
    "import shutil\n",
    "import pickle\n",
    "import pandas as pd\n",
    "from l3finder.ingest import *\n",
    "import os\n",
    "import multiprocessing\n",
    "from multiprocessing import get_context\n",
    "from multiprocessing import set_start_method\n",
    "from tqdm.notebook import tqdm\n",
    "from investigate import *\n",
    "\n",
    "# Custom functions\n",
    "def save_object(obj, filename):\n",
    "    with open(filename, 'wb') as output:  # Overwrites any existing file.\n",
    "        pickle.dump(obj, output, pickle.HIGHEST_PROTOCOL)\n",
    "\n",
    "def load_object(filename):        \n",
    "    with open(filename, 'rb') as input:\n",
    "        return pickle.load(input)"
   ]
  },
  {
   "cell_type": "code",
   "execution_count": null,
   "metadata": {},
   "outputs": [],
   "source": [
    "cwd = os.getcwd()\n",
    "output = '/tf/pickles'\n",
    "data = '/tf/data'\n",
    "target = '/tf/output'\n",
    "dump = 2"
   ]
  },
  {
   "cell_type": "code",
   "execution_count": null,
   "metadata": {},
   "outputs": [],
   "source": [
    "df_final = load_object(os.path.join(output,'df_final_dump_2.pkl'))\n",
    "subjects = load_object(os.path.join(output,'subjects_final_dump_2.pkl'))"
   ]
  },
  {
   "cell_type": "code",
   "execution_count": null,
   "metadata": {},
   "outputs": [],
   "source": [
    "file_mover = functools.partial(\n",
    "        move_subject,\n",
    "        df_final=df_final,\n",
    "        target = target)"
   ]
  },
  {
   "cell_type": "code",
   "execution_count": null,
   "metadata": {},
   "outputs": [],
   "source": [
    "df_final = df_final[df_final['ID'].isin([s.id_ for s in subjects])]\n",
    "print('Len of df: ', len(df_final))\n",
    "print('Len of sub: ', len(subjects))"
   ]
  },
  {
   "cell_type": "code",
   "execution_count": null,
   "metadata": {},
   "outputs": [],
   "source": [
    "if __name__=='__main__':\n",
    "    # Find series images\n",
    "    print(\"Moving valid subjects\")\n",
    "    \n",
    "    def pool_mover(pool, func, candidates):\n",
    "        return [a for a in tqdm(pool.imap_unordered(func, candidates),total=len(candidates))]\n",
    "        \n",
    "    print('Filtering series using ', multiprocessing.cpu_count(), ' cores:')\n",
    "        \n",
    "    with get_context(\"spawn\").Pool(processes=10) as p:\n",
    "        result_list = pool_mover(p, file_mover,subjects)\n",
    "        p.close()\n",
    "        p.join()\n",
    "        \n",
    "    df_final['Processed'] = result_list"
   ]
  },
  {
   "cell_type": "code",
   "execution_count": null,
   "metadata": {},
   "outputs": [],
   "source": [
    "display(df_final.head(10))"
   ]
  },
  {
   "cell_type": "code",
   "execution_count": null,
   "metadata": {},
   "outputs": [],
   "source": [
    "# Single core\n",
    "move_subject(sub,df_final,target)"
   ]
  },
  {
   "cell_type": "code",
   "execution_count": null,
   "metadata": {},
   "outputs": [],
   "source": [
    "sub = [s for s in subjects if s.id_ == 'Z1077868'][0]"
   ]
  },
  {
   "cell_type": "code",
   "execution_count": null,
   "metadata": {},
   "outputs": [],
   "source": [
    "def move_subject(sub,df_final,target):\n",
    "    try:\n",
    "        df_row = df_final[df_final['ID']==sub.id_]\n",
    "        srcpath = str(sub.path)\n",
    "        display(df_row)\n",
    "        # Create Patient folder,\n",
    "        targetpath = os.path.join(target,sub.id_)\n",
    "        try: \n",
    "            os.mkdir(targetpath) \n",
    "        except Exception:\n",
    "            pass\n",
    "            \n",
    "        series = list(sub.find_series())\n",
    "        ax_series = [a for a in series if a.id_ == df_row['Axial'].values[0]]\n",
    "        ##print('Comes here', df_row['Sagittal'].values[0])\n",
    "        try:\n",
    "            shutil.copytree(str(ax_series[0].series_path), os.path.join(targetpath,ax_series[0].id_)) \n",
    "        except:\n",
    "            pass\n",
    "        \n",
    "        if df_row['Sagittal'].values[0]:\n",
    "            sag_series = [a for a in series if a.id_ == df_row['Sagittal'].values[0]]\n",
    "            try:\n",
    "                shutil.copytree(str(sag_series[0].series_path), os.path.join(targetpath,sag_series[0].id_)) \n",
    "            except:\n",
    "                pass\n",
    "        return 1\n",
    "    except Exception as e:\n",
    "        print(e)\n",
    "        return 0"
   ]
  }
 ],
 "metadata": {
  "kernelspec": {
   "display_name": "Python 3",
   "language": "python",
   "name": "python3"
  },
  "language_info": {
   "codemirror_mode": {
    "name": "ipython",
    "version": 3
   },
   "file_extension": ".py",
   "mimetype": "text/x-python",
   "name": "python",
   "nbconvert_exporter": "python",
   "pygments_lexer": "ipython3",
   "version": "3.6.9"
  }
 },
 "nbformat": 4,
 "nbformat_minor": 2
}
