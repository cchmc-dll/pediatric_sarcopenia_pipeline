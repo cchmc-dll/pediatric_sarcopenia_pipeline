{
 "cells": [
  {
   "cell_type": "markdown",
   "metadata": {
    "slideshow": {
     "slide_type": "slide"
    }
   },
   "source": [
    "# Data analysis of skeletal muscle area and SMI for normal patients"
   ]
  },
  {
   "cell_type": "code",
   "execution_count": null,
   "metadata": {
    "slideshow": {
     "slide_type": "skip"
    }
   },
   "outputs": [],
   "source": [
    "from IPython.display import HTML\n",
    "\n",
    "HTML('''<script>\n",
    "code_show=false; \n",
    "function code_toggle() {\n",
    " if (code_show){\n",
    " $('div.input').hide();\n",
    " } else {\n",
    " $('div.input').show();\n",
    " }\n",
    " code_show = !code_show\n",
    "} \n",
    "$( document ).ready(code_toggle);\n",
    "</script>\n",
    "<form action=\"javascript:code_toggle()\"><input type=\"submit\" value=\"Click here to toggle on/off the raw code.\"></form>''')"
   ]
  },
  {
   "cell_type": "markdown",
   "metadata": {
    "slideshow": {
     "slide_type": "skip"
    }
   },
   "source": [
    "###### Load libraries and directories"
   ]
  },
  {
   "cell_type": "code",
   "execution_count": null,
   "metadata": {
    "slideshow": {
     "slide_type": "skip"
    }
   },
   "outputs": [],
   "source": [
    "# from IPython import get_ipython\n",
    "from IPython.display import display, HTML\n",
    "#from tqdm.notebook import tqdm\n",
    "import pickle\n",
    "import os\n",
    "import pprint\n",
    "pp = pprint.PrettyPrinter(indent=1)\n",
    "\n",
    "import pandas as pd\n",
    "import numpy as np\n",
    "\n",
    "import json\n",
    "\n",
    "# Custom functions\n",
    "import pickle\n",
    "def save_object(obj, filename):\n",
    "    with open(filename, 'wb') as output:  # Overwrites any existing file.\n",
    "        pickle.dump(obj, output, pickle.HIGHEST_PROTOCOL)\n",
    "\n",
    "def load_object(filename):        \n",
    "    with open(filename, 'rb') as input:\n",
    "        return pickle.load(input)\n",
    "    "
   ]
  },
  {
   "cell_type": "code",
   "execution_count": null,
   "metadata": {
    "slideshow": {
     "slide_type": "skip"
    }
   },
   "outputs": [],
   "source": [
    "# Install statsmodels if it doesn't exist\n",
    "import pip\n",
    "def import_or_install(package):\n",
    "    try:\n",
    "        return __import__(package)\n",
    "    except ImportError:\n",
    "        pip.main(['install', package]) \n",
    "        \n",
    "packages = ['statsmodels','matplotlib','scipy','pygrowup','sklearn']\n",
    "\n",
    "for package in packages:\n",
    "    import_or_install(package)"
   ]
  },
  {
   "cell_type": "code",
   "execution_count": null,
   "metadata": {
    "slideshow": {
     "slide_type": "skip"
    }
   },
   "outputs": [],
   "source": [
    "import statsmodels.api as sm\n",
    "import statsmodels.formula.api as smf\n",
    "import matplotlib.pyplot as plt\n",
    "import matplotlib.image as mpimg\n",
    "import scipy.stats as stats\n",
    "get_ipython().run_line_magic('tb', '')"
   ]
  },
  {
   "cell_type": "code",
   "execution_count": null,
   "metadata": {
    "slideshow": {
     "slide_type": "skip"
    }
   },
   "outputs": [],
   "source": [
    "cwd = os.getcwd()\n",
    "print(cwd)"
   ]
  },
  {
   "cell_type": "code",
   "execution_count": null,
   "metadata": {
    "slideshow": {
     "slide_type": "skip"
    }
   },
   "outputs": [],
   "source": [
    "data = '/home/jupyteruser/data'\n",
    "pickles = '/home/jupyteruser/pickles'\n",
    "models = '/home/jupyteruser/models'\n",
    "output = '/home/jupyteruser/output/v5_results'"
   ]
  },
  {
   "cell_type": "code",
   "execution_count": null,
   "metadata": {
    "scrolled": true,
    "slideshow": {
     "slide_type": "skip"
    }
   },
   "outputs": [],
   "source": [
    "# Import modules and config file\n",
    "configfile = os.path.join(cwd,'config/debug_ES/v5_run_prediction_CV_poorl3.json')\n",
    "with open(configfile, \"r\") as f:\n",
    "        config = json.load(f)\n",
    "pp.pprint(config)"
   ]
  },
  {
   "cell_type": "code",
   "execution_count": null,
   "metadata": {},
   "outputs": [],
   "source": [
    "for key in config.keys():\n",
    "    for label, value in config[key].items():\n",
    "        if type(value) is str:\n",
    "            config[key][label] = value.replace('/tf', '/home/jupyteruser')\n",
    "\n",
    "pp.pprint(config)"
   ]
  },
  {
   "cell_type": "markdown",
   "metadata": {
    "slideshow": {
     "slide_type": "slide"
    }
   },
   "source": [
    "## Produce data for analysis using prediction results and preprocessing results"
   ]
  },
  {
   "cell_type": "code",
   "execution_count": null,
   "metadata": {
    "slideshow": {
     "slide_type": "skip"
    }
   },
   "outputs": [],
   "source": [
    "# Load the area csv\n",
    "filename = 'areas-mm2_by_subject_id_manual_outliers.csv'\n",
    "#filename = 'areas-mm2_by_subject_id.csv'\n",
    "\n",
    "\n",
    "sma_csv = os.path.join(config[\"muscle_segmentor\"][\"output_directory\"],filename)\n",
    "df_sma = pd.read_csv(sma_csv, index_col=False)\n",
    "print('Total number of patients for analysis before manual eliminations: ', len(df_sma))"
   ]
  },
  {
   "cell_type": "code",
   "execution_count": null,
   "metadata": {},
   "outputs": [],
   "source": [
    "df_man = df_sma[~df_sma['area_mm2_Elan'].isnull()]\n",
    "len(df_man)"
   ]
  },
  {
   "cell_type": "code",
   "execution_count": null,
   "metadata": {},
   "outputs": [],
   "source": [
    "df_man.head(1)"
   ]
  },
  {
   "cell_type": "code",
   "execution_count": null,
   "metadata": {
    "slideshow": {
     "slide_type": "skip"
    }
   },
   "outputs": [],
   "source": [
    "if 'outliers' in filename: # MOdified area sheet with manual area calculated for outlier patient\n",
    "    df_sma_manuals = df_sma.loc[~df_sma['area_mm2_Elan'].isnull()]\n",
    "    for i,row in df_sma_manuals.iterrows():\n",
    "        df_sma.loc[df_sma['subject_id']==row['subject_id'],'area_mm2'] = row['area_mm2_Elan']\n",
    "    \n",
    "\n",
    "# Manually identified diseases cases [by Andrew]:\n",
    "man_disease = ['Z832424','Z1256768']\n",
    "\n",
    "# Manually identified poor L3s [by Elan for v5]:\n",
    "man_poorl3 = ['Z627604','Z1292977','Z1150365','Z1016357','Z1335481','Z567376']\n",
    "\n",
    "man_eliminations = man_disease + man_poorl3\n",
    "\n",
    "df_eliminations = df_sma.loc[df_sma['subject_id'].isin(man_eliminations)]\n",
    "display(df_eliminations)"
   ]
  },
  {
   "cell_type": "code",
   "execution_count": null,
   "metadata": {
    "slideshow": {
     "slide_type": "skip"
    }
   },
   "outputs": [],
   "source": [
    "df_sma= df_sma.loc[~df_sma['subject_id'].isin(man_eliminations)]\n",
    "df_sma = df_sma[['subject_id','area_mm2','sagittal_series','axial_series']]\n",
    "print('Final patients for analysis: ',len(df_sma))"
   ]
  },
  {
   "cell_type": "code",
   "execution_count": null,
   "metadata": {
    "slideshow": {
     "slide_type": "skip"
    }
   },
   "outputs": [],
   "source": [
    "# change subject_id to id\n",
    "df_sma.columns=['ID','area_mm2','sagittals','axials']\n",
    "#display(df_sma.head(2))"
   ]
  },
  {
   "cell_type": "code",
   "execution_count": null,
   "metadata": {
    "slideshow": {
     "slide_type": "skip"
    }
   },
   "outputs": [],
   "source": [
    "# Now merge on ID\n",
    "df_analysis = df_sma\n",
    "#display(df_analysis.head(10))"
   ]
  },
  {
   "cell_type": "code",
   "execution_count": null,
   "metadata": {
    "slideshow": {
     "slide_type": "skip"
    }
   },
   "outputs": [],
   "source": [
    "# Load age information from patlist csv\n",
    "# Load normal patient list\n",
    "infile  = 'patlist_with_validBMI_corrected_v5.csv'\n",
    "df_P = pd.read_csv(infile, index_col=False)\n",
    "df_P = df_P.loc[:, ~df_P.columns.str.contains('^Unnamed')]"
   ]
  },
  {
   "cell_type": "code",
   "execution_count": null,
   "metadata": {
    "slideshow": {
     "slide_type": "skip"
    }
   },
   "outputs": [],
   "source": [
    "# Keep only columns needed\n",
    "df_P = df_P[['PAT_ID','WEIGHT','HEIGHT','BMI_FOR_AGE_PERCENTILE','BMI_CALCULATED','Age',\n",
    " 'Sex',\n",
    " 'Race',\n",
    " 'AgeGroup','STUDYRESULT','IMPRESSION']]\n",
    "df_P.columns = ['ID','WEIGHT','HEIGHT','BMI_AGE_P','BMI_CALC','Age','Sex','Race','AgeGroup','STUDYRESULT','IMPRESSION']\n",
    "#display(df_P.head(10))"
   ]
  },
  {
   "cell_type": "code",
   "execution_count": null,
   "metadata": {
    "slideshow": {
     "slide_type": "slide"
    }
   },
   "outputs": [],
   "source": [
    "# Get rid of patients not in df_analysis\n",
    "print(\"Total number of normal patients identified\", len(df_P))\n",
    "df_P = df_P[df_P['ID'].isin(df_analysis['ID'].values)]\n",
    "print(\"Total number of normal patients with images\", len(df_P))"
   ]
  },
  {
   "cell_type": "code",
   "execution_count": null,
   "metadata": {
    "slideshow": {
     "slide_type": "skip"
    }
   },
   "outputs": [],
   "source": [
    "# Merge the patient fields with df_analysis\n",
    "df_analysis = pd.merge(df_P,df_analysis, on=\"ID\")\n",
    "\n",
    "print('Length of final analysis df: ', len(df_analysis))\n",
    "\n",
    "# Redefine AgeGroup be flooring instead of rounding.\n",
    "df_analysis['AgeGroup'] = np.floor(df_analysis['Age'].values)"
   ]
  },
  {
   "cell_type": "code",
   "execution_count": null,
   "metadata": {},
   "outputs": [],
   "source": [
    "# Manual L3 check\n",
    "infile  = 'poorl3.csv'\n",
    "df_poorl3 = pd.read_csv(infile, index_col=False)\n",
    "\n",
    "l3_present = df_poorl3.loc[~df_poorl3['L3slice'].isnull(),'ID'].values.tolist()\n",
    "print('Cases with manually identified L3s: ', len(l3_present))"
   ]
  },
  {
   "cell_type": "code",
   "execution_count": null,
   "metadata": {},
   "outputs": [],
   "source": [
    "# This was used to filter exams for prediction in run_prediction_cv\n",
    "# normal_patients_corrected = df_analysis.ID.values.tolist()\n",
    "# print(len(normal_patients_corrected))\n",
    "# save_object(normal_patients_corrected,os.path.join(pickles,'normal_patients_corrected.pkl'))"
   ]
  },
  {
   "cell_type": "code",
   "execution_count": null,
   "metadata": {},
   "outputs": [],
   "source": [
    "l3_present_analysis = [l3 for l3 in l3_present if l3 in df_analysis.ID.values]\n",
    "print('Normal L3s that are valid: ', len(l3_present_analysis))\n",
    "for l3 in l3_present_analysis:\n",
    "    print(l3)"
   ]
  },
  {
   "cell_type": "code",
   "execution_count": null,
   "metadata": {
    "slideshow": {
     "slide_type": "slide"
    }
   },
   "outputs": [],
   "source": [
    "# Find missing BMI_CALC\n",
    "print('Patients missing BMI calculated:' ,len(df_analysis[df_analysis['BMI_CALC'].isnull()]))\n",
    "print('Patients missing BMI age percentile:' ,len(df_analysis[df_analysis['BMI_AGE_P'].isnull()]))\n",
    "print('Patients missing Height:' ,len(df_analysis[df_analysis['HEIGHT'].isnull()]))\n",
    "print('Patients missing Weight' ,len(df_analysis[df_analysis['WEIGHT'].isnull()]))\n",
    "print('Patients missing Age' ,len(df_analysis[df_analysis['Age'].isnull()]))\n",
    "print('Patients missing Race' ,len(df_analysis[df_analysis['Race'].isnull()]))\n",
    "print('Patients missing Sex' ,len(df_analysis[df_analysis['Sex'].isnull()]))"
   ]
  },
  {
   "cell_type": "code",
   "execution_count": null,
   "metadata": {
    "slideshow": {
     "slide_type": "skip"
    }
   },
   "outputs": [],
   "source": [
    "df_analysis = df_analysis.sort_values(by=['AgeGroup'],ascending='False')\n",
    "#print(df_analysis['AgeGroup'].value_counts().sort_values())"
   ]
  },
  {
   "cell_type": "code",
   "execution_count": null,
   "metadata": {},
   "outputs": [],
   "source": [
    "list(df_analysis)"
   ]
  },
  {
   "cell_type": "code",
   "execution_count": null,
   "metadata": {},
   "outputs": [],
   "source": [
    "# Handling an outlier that had 2 CT exams, but the exam and EHR data were mismatched. Manually correcting for it.\n",
    "df_analysis.loc[df_analysis['ID']=='Z549850','Age'] = 13.99\n",
    "df_analysis.loc[df_analysis['ID']=='Z549850','WEIGHT'] = np.nan\n",
    "df_analysis.loc[df_analysis['ID']=='Z549850','HEIGHT'] = np.nan\n",
    "df_analysis.loc[df_analysis['ID']=='Z549850','BMI_AGE_P'] = 86.5\n",
    "df_analysis.loc[df_analysis['ID']=='Z549850','BMI_CALC'] = 23.66\n",
    "df_analysis.loc[df_analysis['ID']=='Z549850','AgeGroup'] = 13"
   ]
  },
  {
   "cell_type": "code",
   "execution_count": null,
   "metadata": {},
   "outputs": [],
   "source": [
    "#df_analysis.loc[df_analysis['ID']=='Z549850']"
   ]
  },
  {
   "cell_type": "code",
   "execution_count": null,
   "metadata": {
    "slideshow": {
     "slide_type": "subslide"
    }
   },
   "outputs": [],
   "source": [
    "# Patients > 18\n",
    "print('No of Patients > 18 years that are discarded' ,len(df_analysis[df_analysis['AgeGroup'] > 18]))\n",
    "#print('No of Patients < 2.5 yearas' ,len(df_analysis[df_analysis['Age'] < 2.5]))"
   ]
  },
  {
   "cell_type": "code",
   "execution_count": null,
   "metadata": {
    "slideshow": {
     "slide_type": "skip"
    }
   },
   "outputs": [],
   "source": [
    "#print('No of boys' ,len(df_analysis[df_analysis['Sex'] == 'Male']))\n",
    "#print('No of girls' ,len(df_analysis[df_analysis['Sex'] == 'Female']))"
   ]
  },
  {
   "cell_type": "code",
   "execution_count": null,
   "metadata": {
    "slideshow": {
     "slide_type": "slide"
    }
   },
   "outputs": [],
   "source": [
    "# Create sex stratified and age filtered dfs\n",
    "df_analysis['area_cm2'] = df_analysis['area_mm2']/100\n",
    "\n",
    "df_analysis['smi'] = df_analysis['area_cm2']/((df_analysis['HEIGHT']/100)**2)\n",
    "\n",
    "df_m = df_analysis[(df_analysis['Sex']=='Male') & (df_analysis['AgeGroup'] <= 18)] #& (df_analysis['Age'] > 3)]\n",
    "print('Length of male df = ',len(df_m))\n",
    "df_f = df_analysis[(df_analysis['Sex']=='Female') & (df_analysis['AgeGroup'] <= 18)] # & (df_analysis['Age'] > 3)]\n",
    "print('Length of female df = ',len(df_f))"
   ]
  },
  {
   "cell_type": "code",
   "execution_count": null,
   "metadata": {},
   "outputs": [],
   "source": [
    "1056/1134"
   ]
  },
  {
   "cell_type": "code",
   "execution_count": null,
   "metadata": {
    "scrolled": true,
    "tags": []
   },
   "outputs": [],
   "source": [
    "pd. set_option('display.max_rows', 100) # or 1000\n",
    "pd.set_option('display.max_colwidth', None)"
   ]
  },
  {
   "cell_type": "markdown",
   "metadata": {},
   "source": [
    "### Figuring out distribution of slice thicknesses for AJR"
   ]
  },
  {
   "cell_type": "code",
   "execution_count": null,
   "metadata": {},
   "outputs": [],
   "source": [
    "df_halfmm = df_analysis[df_analysis['axials'].str.contains('_0.5')]\n",
    "df_3mm = df_analysis[df_analysis['axials'].str.contains('_3.0')]\n",
    "df_rest = df_analysis[~(df_analysis['ID'].isin(df_3mm['ID']) | df_analysis['ID'].isin(df_halfmm['ID']))]"
   ]
  },
  {
   "cell_type": "code",
   "execution_count": null,
   "metadata": {},
   "outputs": [],
   "source": [
    "print('0.5 mm studies: ', len(df_halfmm))\n",
    "print('3 mm studies: ', len(df_3mm))\n",
    "print('5 mm studies: ', len(df_rest))"
   ]
  },
  {
   "cell_type": "markdown",
   "metadata": {},
   "source": [
    "### Figuring out reasons for CT examination for the healthy patient dataset as requested by reviewers:"
   ]
  },
  {
   "cell_type": "code",
   "execution_count": null,
   "metadata": {},
   "outputs": [],
   "source": [
    "print(list(df_analysis))"
   ]
  },
  {
   "cell_type": "code",
   "execution_count": null,
   "metadata": {},
   "outputs": [],
   "source": [
    "# Create df with study result alone\n",
    "df_SR = df_analysis[['ID','STUDYRESULT','IMPRESSION']]\n",
    "df_SR.loc[:,'STUDYRESULT'] = df_SR['STUDYRESULT'].str.lower()\n",
    "df_SR.loc[:,'IMPRESSION'] = df_SR['IMPRESSION'].str.lower()\n",
    "\n",
    "df_SR_aps =  df_SR[df_SR['STUDYRESULT'].str.contains('appendicitis')]\n",
    "print('Appendicitis patients: ', len(df_SR_aps))\n",
    "print('Appendicitis patients % of total: ', len(df_SR_aps)*100/len(df_SR))"
   ]
  },
  {
   "cell_type": "code",
   "execution_count": null,
   "metadata": {},
   "outputs": [],
   "source": [
    "df_SR_hyd =  df_SR[df_SR['STUDYRESULT'].str.contains('hydronephrosis')]\n",
    "print('Hydronephrosis patients: ', len(df_SR_hyd))\n",
    "print('Hydronephrosis patients % of total: ', len(df_SR_hyd)*100/len(df_SR))"
   ]
  },
  {
   "cell_type": "code",
   "execution_count": null,
   "metadata": {},
   "outputs": [],
   "source": [
    "#display(df_SR_hyd)"
   ]
  },
  {
   "cell_type": "code",
   "execution_count": null,
   "metadata": {},
   "outputs": [],
   "source": [
    "indiglist = ['vomit','diarrhea','digestive disorder']\n",
    "pattern = '|'.join(indiglist)\n",
    "df_SR_ind = df_SR[df_SR['STUDYRESULT'].str.contains(pattern)]\n",
    "print('Indigestion patients: ', len(df_SR_ind))\n",
    "print('Indigestion patients % of total: ', len(df_SR_ind)*100/len(df_SR))"
   ]
  },
  {
   "cell_type": "code",
   "execution_count": null,
   "metadata": {},
   "outputs": [],
   "source": [
    "traumalist = ['trauma','injury','mvc','mva','accident','bruising','fracture']\n",
    "pattern = '|'.join(traumalist)\n",
    "df_SR_tr = df_SR[df_SR['STUDYRESULT'].str.contains(pattern)]\n",
    "print('Trauma patients: ', len(df_SR_tr))\n",
    "print('Trauma patients % of total: ', len(df_SR_tr)*100/len(df_SR))"
   ]
  },
  {
   "cell_type": "code",
   "execution_count": null,
   "metadata": {},
   "outputs": [],
   "source": [
    "df_SR_pain = df_SR[df_SR['STUDYRESULT'].str.contains('pain')]\n",
    "print('Pain patients: ', len(df_SR_pain))\n",
    "print('Pain patients % of total: ', len(df_SR_pain)*100/len(df_SR))"
   ]
  },
  {
   "cell_type": "code",
   "execution_count": null,
   "metadata": {},
   "outputs": [],
   "source": [
    "df_SR_pain_aps = df_SR_pain[df_SR_pain['ID'].isin(df_SR_aps['ID'])]\n",
    "print('Pain and Appendicitis patients: ', len(df_SR_pain_aps))"
   ]
  },
  {
   "cell_type": "code",
   "execution_count": null,
   "metadata": {},
   "outputs": [],
   "source": [
    "df_SR_pain_tr = df_SR_pain[df_SR_pain['ID'].isin(df_SR_tr['ID'])]\n",
    "print('Pain and Trauma patients: ', len(df_SR_pain_tr))"
   ]
  },
  {
   "cell_type": "code",
   "execution_count": null,
   "metadata": {},
   "outputs": [],
   "source": [
    "df_SR_tr_aps = df_SR_tr[df_SR_tr['ID'].isin(df_SR_aps['ID'])]\n",
    "print('Trauma and Appendicitis patients: ', len(df_SR_tr_aps))"
   ]
  },
  {
   "cell_type": "code",
   "execution_count": null,
   "metadata": {},
   "outputs": [],
   "source": [
    "df_SR_pain_aps_tr = df_SR_pain_aps[df_SR_pain_aps['ID'].isin(df_SR_pain_tr['ID'])]\n",
    "print('Pain, Appendicitis and Trauma patients: ', len(df_SR_pain_aps_tr))"
   ]
  },
  {
   "cell_type": "code",
   "execution_count": null,
   "metadata": {},
   "outputs": [],
   "source": [
    "df_no_pain = df_SR[~df_SR[\"ID\"].isin(df_SR_pain[\"ID\"])]\n",
    "df_no_pain_aps = df_no_pain[~df_no_pain[\"ID\"].isin(df_SR_aps[\"ID\"])]\n",
    "df_no_pain_aps_tr = df_no_pain_aps[~df_no_pain_aps[\"ID\"].isin(df_SR_tr[\"ID\"])]\n",
    "print('Other patients: ', len(df_no_pain_aps_tr))"
   ]
  },
  {
   "cell_type": "code",
   "execution_count": null,
   "metadata": {
    "scrolled": true,
    "tags": []
   },
   "outputs": [],
   "source": [
    "display(df_no_pain_aps_tr)"
   ]
  },
  {
   "cell_type": "code",
   "execution_count": null,
   "metadata": {},
   "outputs": [],
   "source": [
    "accounted = len(df_SR_aps) + len(df_SR_tr) + len(df_SR_pain)\n",
    "unaccounted = len(df_SR) - accounted\n",
    "print('accounted ' , accounted, ' unaccounted: ', unaccounted)"
   ]
  },
  {
   "cell_type": "markdown",
   "metadata": {},
   "source": [
    "### Identify split of patients in the Other Race Group for AJR"
   ]
  },
  {
   "cell_type": "code",
   "execution_count": null,
   "metadata": {},
   "outputs": [],
   "source": [
    "df_analysis_2ab = df_analysis[df_analysis['Age'] >= 2]\n",
    "df_others = df_analysis_2ab.loc[(df_analysis_2ab['Race']!='Black or African American') & (df_analysis_2ab['Race']!='White'),['ID','Race']]"
   ]
  },
  {
   "cell_type": "code",
   "execution_count": null,
   "metadata": {},
   "outputs": [],
   "source": [
    "df_analysis_2ab['Race'].unique()"
   ]
  },
  {
   "cell_type": "code",
   "execution_count": null,
   "metadata": {},
   "outputs": [],
   "source": [
    "df_others.describe()"
   ]
  },
  {
   "cell_type": "code",
   "execution_count": null,
   "metadata": {},
   "outputs": [],
   "source": [
    "# Male proportion # values from Table 1\n",
    "b_m = 190*100/1043\n",
    "o_m = 61*100/1043\n",
    "w_m  = 792*100/1043\n",
    "print('Male split -  Black: ', b_m ,'% Others: ', o_m,'% White: ',w_m)\n",
    "# female proportion\n",
    "b_f = 137*100/1125\n",
    "o_f = 76*100/1125\n",
    "w_f  = 912*100/1125\n",
    "print('FeMale split -  Black: ', b_f ,'% Others: ', o_f,'% White: ',w_f)"
   ]
  },
  {
   "cell_type": "markdown",
   "metadata": {},
   "source": [
    "### Total mean age and std age for AJR"
   ]
  },
  {
   "cell_type": "code",
   "execution_count": null,
   "metadata": {},
   "outputs": [],
   "source": [
    "df_m['Age'].describe()"
   ]
  },
  {
   "cell_type": "code",
   "execution_count": null,
   "metadata": {},
   "outputs": [],
   "source": [
    "df_f['Age'].describe()"
   ]
  },
  {
   "cell_type": "code",
   "execution_count": null,
   "metadata": {},
   "outputs": [],
   "source": [
    "df_analysis_2ab['Age'].describe()"
   ]
  },
  {
   "cell_type": "markdown",
   "metadata": {
    "slideshow": {
     "slide_type": "slide"
    }
   },
   "source": [
    "## Population statistics in comparison to CDC/WHO data"
   ]
  },
  {
   "cell_type": "code",
   "execution_count": null,
   "metadata": {
    "slideshow": {
     "slide_type": "skip"
    }
   },
   "outputs": [],
   "source": [
    "#Step3: Loop over each unique date in the studies dataframe df_F\n",
    "def get_agewise_stats(df_in):\n",
    "    uniqueages = df_in.AgeGroup.unique() \n",
    "    column_names = ['AgeGroup','Age_IQR','median_area_cm2','median_SMI','samplesize']\n",
    "    df_C = pd.DataFrame(columns = column_names)\n",
    "    #display(df_C)\n",
    "    for age in uniqueages:\n",
    "        df_l = df_in[df_in['AgeGroup']==age]\n",
    "        #mean_ar = np.mean(df_l['area_cm2'])\n",
    "        median_ar = np.median(df_l['area_cm2'])\n",
    "        median_SMI = np.nanmedian(df_l['smi'])\n",
    "        q75, q25 = np.percentile(df_l['Age'], [75 ,25])\n",
    "        age_iqr = q75 - q25\n",
    "        samplesize = len(df_l)\n",
    "        #print([age,mean_ar,median_ar,samplesize])\n",
    "        df = pd.DataFrame([[age,age_iqr,median_ar,median_SMI,samplesize]],columns=column_names)\n",
    "        #display(df)\n",
    "        df_C = pd.concat([df_C,df])\n",
    "    return df_C"
   ]
  },
  {
   "cell_type": "code",
   "execution_count": null,
   "metadata": {
    "scrolled": true,
    "slideshow": {
     "slide_type": "slide"
    }
   },
   "outputs": [],
   "source": [
    "print('Count statistics stratified by gender and age group')\n",
    "print('(M - Male) (F-Female)')    \n",
    "df_f_agestats = get_agewise_stats(df_f).add_suffix('_F')\n",
    "df_m_agestats = get_agewise_stats(df_m).add_suffix('_M')\n",
    "\n",
    "display(pd.concat([df_f_agestats,df_m_agestats],axis=1))\n",
    "df_f_agestats.to_csv(output+'/Female_summary.csv',index=False)\n",
    "df_m_agestats.to_csv(output+'/Male_summary.csv',index=False)"
   ]
  },
  {
   "cell_type": "markdown",
   "metadata": {},
   "source": [
    "### Since n for age = 0 and 1 are less than 10, process only ages 2 and above."
   ]
  },
  {
   "cell_type": "code",
   "execution_count": null,
   "metadata": {},
   "outputs": [],
   "source": [
    "print('NO of Females before filtering pats < 2yrs: ', len(df_f))\n",
    "print('NO of Males before filtering pats < 2yrs: ', len(df_m))"
   ]
  },
  {
   "cell_type": "code",
   "execution_count": null,
   "metadata": {},
   "outputs": [],
   "source": [
    "df_f = df_f[df_f['Age'] >= 2]\n",
    "df_m = df_m[df_m['Age'] >= 2]     "
   ]
  },
  {
   "cell_type": "code",
   "execution_count": null,
   "metadata": {},
   "outputs": [],
   "source": [
    "print('NO of Females after filtering pats < 2yrs: ', len(df_f))\n",
    "print('NO of Males after filtering pats < 2yrs: ', len(df_m))"
   ]
  },
  {
   "cell_type": "markdown",
   "metadata": {},
   "source": [
    "### race split for table 1"
   ]
  },
  {
   "cell_type": "code",
   "execution_count": null,
   "metadata": {},
   "outputs": [],
   "source": [
    "df_f['Race'].unique()"
   ]
  },
  {
   "cell_type": "code",
   "execution_count": null,
   "metadata": {},
   "outputs": [],
   "source": [
    "print('Female whites: ', len(df_f[df_f['Race'].str.contains('White')]))\n",
    "print('Female blacks: ', len(df_f[df_f['Race'].str.contains('Black')]))\n",
    "print('Female Asians: ', len(df_f[df_f['Race'].str.contains('Asian')]))\n",
    "print('Female Hawaiian: ', len(df_f[df_f['Race'].str.contains('Hawaiian')]))\n",
    "print('Female Alaskan: ', len(df_f[df_f['Race'].str.contains('Alaska')]))\n",
    "print('Female Others: ', len(df_f[df_f['Race'].str.contains('Other')]))\n",
    "print('Female MEs: ', len(df_f[df_f['Race'].str.contains('Middle')]))\n",
    "print('Female unknowns: ', len(df_f[df_f['Race'].str.contains('Unknown')]))\n",
    "print('Female hispanics: ', len(df_f[df_f['Race'].str.contains('Hispanic')]))\n",
    "print('Female refused: ', len(df_f[df_f['Race'].str.contains('Refused')]))"
   ]
  },
  {
   "cell_type": "code",
   "execution_count": null,
   "metadata": {},
   "outputs": [],
   "source": [
    "print('male whites: ', len(df_m[df_m['Race'].str.contains('White')]))\n",
    "print('male blacks: ', len(df_m[df_m['Race'].str.contains('Black')]))\n",
    "print('male Asians: ', len(df_m[df_m['Race'].str.contains('Asian')]))\n",
    "print('male Hawaiian: ', len(df_m[df_m['Race'].str.contains('Hawaiian')]))\n",
    "print('male Alaskan: ', len(df_m[df_m['Race'].str.contains('Alaska')]))\n",
    "print('male Others: ', len(df_m[df_m['Race'].str.contains('Other')]))\n",
    "print('male MEs: ', len(df_m[df_m['Race'].str.contains('Middle')]))\n",
    "print('male unknowns: ', len(df_m[df_m['Race'].str.contains('Unknown')]))\n",
    "print('male hispanics: ', len(df_m[df_m['Race'].str.contains('Hispanic')]))\n",
    "print('male refused: ', len(df_m[df_m['Race'].str.contains('Refused')]))"
   ]
  },
  {
   "cell_type": "markdown",
   "metadata": {},
   "source": [
    "## Sample Patients for Manuscript Figures"
   ]
  },
  {
   "cell_type": "code",
   "execution_count": null,
   "metadata": {},
   "outputs": [],
   "source": [
    "def oddeven(x):\n",
    "    if x & 1:\n",
    "        return 'odd'\n",
    "    else:\n",
    "        return 'even'"
   ]
  },
  {
   "cell_type": "code",
   "execution_count": null,
   "metadata": {},
   "outputs": [],
   "source": [
    "# Sample 3 year old male with median sma\n",
    "med_sma = 39.73 # From Table above\n",
    "df_3_m = df_m[(df_m['AgeGroup']==3) & (df_m['area_cm2'].between(np.floor(med_sma),np.ceil(med_sma)))].sort_values(by = 'area_cm2',ascending = True)\n",
    "patid = df_3_m.loc[df_3_m['area_cm2']==df_3_m['area_cm2'].median()]['ID'].iloc[0]\n",
    "sma  = df_3_m.loc[df_3_m['area_cm2']==df_3_m['area_cm2'].median()]['area_cm2'].iloc[0]\n",
    "smi  = df_3_m.loc[df_3_m['area_cm2']==df_3_m['area_cm2'].median()]['smi'].iloc[0]\n",
    "print('Median Male patient 3 year old: ', patid, ' with SMA: ', round(sma,2), ' and SMI: ', round(smi,2))"
   ]
  },
  {
   "cell_type": "code",
   "execution_count": null,
   "metadata": {},
   "outputs": [],
   "source": [
    "# Sample 7 year old female with median sma\n",
    "med_sma = 51.91 # From Table above\n",
    "df_7_f = df_f[(df_f['AgeGroup']==7) & (df_f['area_cm2'].between(np.floor(med_sma),np.ceil(med_sma)))].sort_values(by = 'area_cm2',ascending = True)\n",
    "if len(df_7_f) > 2:\n",
    "    patid = df_7_f.loc[df_7_f['area_cm2']==df_7_f['area_cm2'].median()]['ID'].iloc[0]\n",
    "    sma  = df_7_f.loc[df_7_f['area_cm2']==df_7_f['area_cm2'].median()]['area_cm2'].iloc[0]\n",
    "    smi  = df_7_f.loc[df_7_f['area_cm2']==df_7_f['area_cm2'].median()]['smi'].iloc[0]\n",
    "else:\n",
    "    patid = df_7_f['ID'].iloc[0]\n",
    "    sma  = df_7_f['area_cm2'].iloc[0]\n",
    "    smi  = df_7_f['smi'].iloc[0]\n",
    "print('Median FeMale patient 7 year old: ', patid, ' with SMA: ', round(sma,2), ' and SMI: ', round(smi,2))"
   ]
  },
  {
   "cell_type": "code",
   "execution_count": null,
   "metadata": {},
   "outputs": [],
   "source": [
    "# Sample 11 year old male with median sma\n",
    "med_sma_l = 91\n",
    "med_sma_h = 93 # From Table above\n",
    "df_11_m = df_m[(df_m['AgeGroup']==11) & (df_m['area_cm2'].between(np.floor(med_sma_l),np.ceil(med_sma_h)))].sort_values(by = 'area_cm2',ascending = True)\n",
    "#display(df_11_m)\n",
    "ind = int(np.floor(np.median(list(range(0,len(df_11_m))))))\n",
    "patid = df_11_m['ID'].iloc[ind]\n",
    "sma  = df_11_m['area_cm2'].iloc[ind]\n",
    "smi  = df_11_m['smi'].iloc[ind]\n",
    "print('Median Male patient 11 year old: ', patid, ' with SMA: ', round(sma,2), ' and SMI: ', round(smi,2))"
   ]
  },
  {
   "cell_type": "code",
   "execution_count": null,
   "metadata": {},
   "outputs": [],
   "source": [
    "# Sample  16 year old female with median sma\n",
    "med_sma_l = 98\n",
    "med_sma_h = 99 # From Table above\n",
    "df_16_f = df_f[(df_f['AgeGroup']==16) & (df_f['area_cm2'].between(np.floor(med_sma_l),np.ceil(med_sma_h)))].sort_values(by = 'area_cm2',ascending = True)\n",
    "#display(df_16_f)\n",
    "ind = int(np.floor(np.median(list(range(0,len(df_16_f))))))\n",
    "patid = df_16_f['ID'].iloc[ind]\n",
    "sma  = df_16_f['area_cm2'].iloc[ind]\n",
    "smi  = df_16_f['smi'].iloc[ind]\n",
    "print('Median Female patient 16 year old: ', patid, ' with SMA: ', round(sma,2), ' and SMI: ', round(smi,2))"
   ]
  },
  {
   "cell_type": "code",
   "execution_count": null,
   "metadata": {},
   "outputs": [],
   "source": [
    "# Sample 10 year old male at 0.05, 0.25, 0.75 and 0.95 sma\n",
    "q05 = 54.627\n",
    "q05_l = 54\n",
    "q05_h = 57\n",
    "df_tmp = df_m[(df_m['AgeGroup']==10) & (df_m['area_cm2'].between(np.floor(q05_l),np.ceil(q05_h)))].sort_values(by = 'area_cm2',ascending = True)\n",
    "print(len(df_tmp))\n",
    "ind = int(np.floor(np.min(list(range(0,len(df_tmp))))))\n",
    "patid = df_tmp['ID'].iloc[ind]\n",
    "sma  = df_tmp['area_cm2'].iloc[ind]\n",
    "smi  = df_tmp['smi'].iloc[ind]\n",
    "print('Q 0.05 Male patient 10 year old: ', patid, ' with SMA: ', round(sma,2), ' and SMI: ', round(smi,2))\n",
    "\n",
    "q25 = 62.832310335898384\n",
    "df_tmp = df_m[(df_m['AgeGroup']==10) & (df_m['area_cm2'].between(np.floor(q25),np.ceil(q25)))].sort_values(by = 'area_cm2',ascending = True)\n",
    "ind = int(np.floor(np.median(list(range(0,len(df_tmp))))))\n",
    "patid = df_tmp['ID'].iloc[ind]\n",
    "sma  = df_tmp['area_cm2'].iloc[ind]\n",
    "smi  = df_tmp['smi'].iloc[ind]\n",
    "print('Q 0.25 Male patient 10 year old: ', patid, ' with SMA: ', round(sma,2), ' and SMI: ', round(smi,2))\n",
    "\n",
    "q50 = 69.98443148678662\n",
    "df_tmp = df_m[(df_m['AgeGroup']==10) & (df_m['area_cm2'].between(np.floor(q50),np.ceil(q50)))].sort_values(by = 'area_cm2',ascending = True)\n",
    "ind = int(np.floor(np.median(list(range(0,len(df_tmp))))))\n",
    "patid = df_tmp['ID'].iloc[ind]\n",
    "sma  = df_tmp['area_cm2'].iloc[ind]\n",
    "smi  = df_tmp['smi'].iloc[ind]\n",
    "print('Q 0.50 Male patient 10 year old: ', patid, ' with SMA: ', round(sma,2), ' and SMI: ', round(smi,2))\n",
    "\n",
    "q75 = 76.36021542634919\n",
    "df_tmp = df_m[(df_m['AgeGroup']==10) & (df_m['area_cm2'].between(np.floor(q75),np.ceil(q75)))].sort_values(by = 'area_cm2',ascending = True)\n",
    "ind = int(np.floor(np.median(list(range(0,len(df_tmp))))))\n",
    "patid = df_tmp['ID'].iloc[ind]\n",
    "sma  = df_tmp['area_cm2'].iloc[ind]\n",
    "smi  = df_tmp['smi'].iloc[ind]\n",
    "print('Q 0.75 Male patient 10 year old: ', patid, ' with SMA: ', round(sma,2), ' and SMI: ', round(smi,2))\n",
    "\n",
    "q95 = 91.43285125961786\n",
    "q95_l = 90\n",
    "q95_h = 92\n",
    "df_tmp = df_m[(df_m['AgeGroup']==10) & (df_m['area_cm2'].between(np.floor(q95_l),np.ceil(q95_h)))].sort_values(by = 'area_cm2',ascending = True)\n",
    "ind = int(np.floor(np.max(list(range(0,len(df_tmp))))))\n",
    "patid = df_tmp['ID'].iloc[ind]\n",
    "sma  = df_tmp['area_cm2'].iloc[ind]\n",
    "smi  = df_tmp['smi'].iloc[ind]\n",
    "print('Q 0.95 Male patient 10 year old: ', patid, ' with SMA: ', round(sma,2), ' and SMI: ', round(smi,2))"
   ]
  },
  {
   "cell_type": "code",
   "execution_count": null,
   "metadata": {},
   "outputs": [],
   "source": [
    "# Sample 2 patients with manual correction from df_man, minor and major variations.\n",
    "df_man['relativearea_diff'] = abs(df_man['area_mm2'] - df_man['area_mm2_Elan'])/df_man['area_mm2']\n",
    "df_man = df_man.sort_values(by=['relativearea_diff'],ascending=True)\n",
    "#display(df_man)\n",
    "\n",
    "# manual1 Z1762020\n",
    "# manual2 Z981182\n",
    "display(df_analysis[df_analysis['ID']=='Z1762020'])\n",
    "display(df_analysis[df_analysis['ID']=='Z5745'])"
   ]
  },
  {
   "cell_type": "markdown",
   "metadata": {
    "slideshow": {
     "slide_type": "slide"
    }
   },
   "source": [
    "### Calculate Z-scores for bmi, height and weight w.r.t to age from WHO/CDC data"
   ]
  },
  {
   "cell_type": "code",
   "execution_count": null,
   "metadata": {},
   "outputs": [],
   "source": [
    "1125+1043"
   ]
  },
  {
   "cell_type": "code",
   "execution_count": null,
   "metadata": {
    "slideshow": {
     "slide_type": "skip"
    }
   },
   "outputs": [],
   "source": [
    "#pip install pygrowup\n",
    "from pygrowup import Calculator\n",
    "from pygrowup import helpers\n",
    "\n",
    "calculator = Calculator(include_cdc=True)\n",
    "\n",
    "def percentile_for_zscore(zscore):\n",
    "    return stats.norm.cdf(zscore)\n",
    "\n",
    "def zscore_for_percentile(p):\n",
    "    return stats.norm.ppf(p)\n",
    "\n",
    "def add_Z_scores(row):\n",
    "    try:\n",
    "        global calculator\n",
    "        valid_age = row['Age']*12\n",
    "        valid_gender = helpers.get_good_sex(row['Sex'])\n",
    "        if (np.isnan(row['HEIGHT'])):\n",
    "            row['height_age_Zscore'] = row[\"HEIGHT\"]\n",
    "        else:\n",
    "            row['height_age_Zscore'] = float(calculator.lhfa(row['HEIGHT'],valid_age,valid_gender))\n",
    "        \n",
    "        if (np.isnan(row['WEIGHT'])):\n",
    "            row['weight_age_Zscore'] = row[\"WEIGHT\"]\n",
    "        else:\n",
    "            row['weight_age_Zscore'] = float(calculator.wfa(row['WEIGHT'],valid_age,valid_gender))\n",
    "            \n",
    "        if (np.isnan(row['BMI_AGE_P'])):\n",
    "            row['bmi_age_Zscore'] = row['BMI_AGE_P']\n",
    "        else:\n",
    "            row['bmi_age_Zscore'] = zscore_for_percentile(row['BMI_AGE_P']/100)\n",
    "    except:\n",
    "        print(row)\n",
    "        raise\n",
    "    return row\n",
    "\n",
    "\n",
    "def add_Zpercentile_scores(row):\n",
    "    try:\n",
    "        if (np.isnan(row['weight_age_Zscore'])):\n",
    "            row['weight_age_Zpercentile'] = row[\"weight_age_Zscore\"]\n",
    "        else:\n",
    "            row['weight_age_Zpercentile'] = 100*percentile_for_zscore(row[\"weight_age_Zscore\"])\n",
    "        \n",
    "        if (np.isnan(row['height_age_Zscore'])):\n",
    "            row['height_age_Zpercentile'] = row[\"height_age_Zscore\"]\n",
    "        else:\n",
    "            row['height_age_Zpercentile'] = 100*percentile_for_zscore(row[\"height_age_Zscore\"])\n",
    "    except:\n",
    "        print(row)\n",
    "        raise\n",
    "    return row"
   ]
  },
  {
   "cell_type": "code",
   "execution_count": null,
   "metadata": {
    "slideshow": {
     "slide_type": "skip"
    }
   },
   "outputs": [],
   "source": [
    "df_m = df_m.apply(add_Z_scores,axis=1)\n",
    "df_m = df_m.rename({'BMI_AGE_P':'bmi_age_Zpercentile'},axis=1)\n",
    "#df_m.weight_age_Zscore = df_m.weight_age_Zscore.astype(float)\n",
    "#df_m.height_age_Zscore = df_m.height_age_Zscore.astype(float)\n",
    "#df_m.bmi_age_Zscore = df_m.bmi_age_Zscore.astype(float)\n",
    "df_m = df_m.apply(add_Zpercentile_scores,axis=1)"
   ]
  },
  {
   "cell_type": "code",
   "execution_count": null,
   "metadata": {
    "slideshow": {
     "slide_type": "skip"
    }
   },
   "outputs": [],
   "source": [
    "df_f = df_f.apply(add_Z_scores,axis=1)\n",
    "df_f = df_f.rename({'BMI_AGE_P':'bmi_age_Zpercentile'},axis=1)\n",
    "#df_m.weight_age_Zscore = df_m.weight_age_Zscore.astype(float)\n",
    "#df_m.height_age_Zscore = df_m.height_age_Zscore.astype(float)\n",
    "#df_m.bmi_age_Zscore = df_m.bmi_age_Zscore.astype(float)\n",
    "df_f = df_f.apply(add_Zpercentile_scores,axis=1)"
   ]
  },
  {
   "cell_type": "code",
   "execution_count": null,
   "metadata": {
    "slideshow": {
     "slide_type": "skip"
    }
   },
   "outputs": [],
   "source": [
    "# Compute descriptive statistics on the dataframe\n",
    "def calculate_stats(df):\n",
    "    num_list = ['BMI_CALC','WEIGHT','HEIGHT','Age','area_cm2','smi','height_age_Zscore','height_age_Zpercentile',\n",
    "                'weight_age_Zscore','weight_age_Zpercentile','bmi_age_Zscore','bmi_age_Zpercentile']\n",
    "    df_num = df[num_list]\n",
    "    df_d = df_num.describe()\n",
    "    df_whites = df.loc[df['Race']=='White',num_list].describe()\n",
    "    df_blacks = df.loc[df['Race']=='Black or African American',num_list].describe()\n",
    "    df_others = df.loc[(df['Race']!='Black or African American') & (df['Race']!='White'),num_list].describe()\n",
    "    \n",
    "    df_whites = df_whites.add_suffix('_W')\n",
    "    df_blacks = df_blacks.add_suffix('_B')\n",
    "    df_others = df_others.add_suffix('_O')\n",
    "    return pd.concat([df_d, df_whites,df_blacks,df_others], axis=1)"
   ]
  },
  {
   "cell_type": "code",
   "execution_count": null,
   "metadata": {
    "slideshow": {
     "slide_type": "skip"
    }
   },
   "outputs": [],
   "source": [
    "df_m_stats= calculate_stats(df_m).T.round(decimals=2)\n",
    "df_f_stats = calculate_stats(df_f).T.round(decimals=2)"
   ]
  },
  {
   "cell_type": "code",
   "execution_count": null,
   "metadata": {
    "slideshow": {
     "slide_type": "slide"
    }
   },
   "outputs": [],
   "source": [
    "print(\"Population Statistics for Male\")\n",
    "display(df_m_stats.head(12))\n",
    "df_f_stats.to_csv(output+'/Female_summary_statistics.csv',index=True)\n",
    "df_m_stats.to_csv(output+'/Male_summary_statistics.csv',index=True)"
   ]
  },
  {
   "cell_type": "code",
   "execution_count": null,
   "metadata": {
    "slideshow": {
     "slide_type": "slide"
    }
   },
   "outputs": [],
   "source": [
    "print(\"Population Statistics for Female\")\n",
    "display(df_f_stats.head(12))"
   ]
  },
  {
   "cell_type": "markdown",
   "metadata": {
    "slideshow": {
     "slide_type": "slide"
    }
   },
   "source": [
    "## Correlation metrics"
   ]
  },
  {
   "cell_type": "code",
   "execution_count": null,
   "metadata": {
    "slideshow": {
     "slide_type": "skip"
    }
   },
   "outputs": [],
   "source": [
    "from scipy.stats import pearsonr\n",
    "import pandas as pd\n",
    "\n",
    "def calculate_pvalues(df):\n",
    "    # https://stackoverflow.com/questions/25571882/pandas-columns-correlation-with-statistical-significance\n",
    "    df = df.dropna()._get_numeric_data()\n",
    "    dfcols = pd.DataFrame(columns=df.columns)\n",
    "    pvalues = dfcols.transpose().join(dfcols, how='outer')\n",
    "    for r in df.columns:\n",
    "        for c in df.columns:\n",
    "            pvalues[r][c] = round(pearsonr(df[r], df[c])[1], 9)\n",
    "    return pvalues\n",
    "\n",
    "# Function to calculate Pearson's correlation coefficient (r) with confidence intervals in python!\n",
    "# https://zhiyzuo.github.io/Pearson-Correlation-CI-in-Python/\n",
    "from scipy import stats\n",
    "def pearsonr_ci(x,y,alpha=0.05):\n",
    "    ''' calculate Pearson correlation along with the confidence interval using scipy and numpy\n",
    "    Parameters\n",
    "    ----------\n",
    "    x, y : iterable object such as a list or np.array\n",
    "      Input for correlation calculation\n",
    "    alpha : float\n",
    "      Significance level. 0.05 by default\n",
    "    Returns\n",
    "    -------\n",
    "    r : float\n",
    "      Pearson's correlation coefficient\n",
    "    pval : float\n",
    "      The corresponding p value\n",
    "    lo, hi : float\n",
    "      The lower and upper bound of confidence intervals\n",
    "    '''\n",
    "\n",
    "    r, p = stats.pearsonr(x,y)\n",
    "    r_z = np.arctanh(r)\n",
    "    se = 1/np.sqrt(x.size-3)\n",
    "    z = stats.norm.ppf(1-alpha/2)\n",
    "    lo_z, hi_z = r_z-z*se, r_z+z*se\n",
    "    lo, hi = np.tanh((lo_z, hi_z))\n",
    "    return r, p, lo, hi\n",
    "\n",
    "def calculate_pearsonr_with_ci_pval(df):\n",
    "    # https://stackoverflow.com/questions/25571882/pandas-columns-correlation-with-statistical-significance\n",
    "    df = df.dropna()._get_numeric_data()\n",
    "    dfcols = pd.DataFrame(columns=df.columns)\n",
    "    pearson_r = dfcols.transpose().join(dfcols, how='outer')\n",
    "    for r in df.columns:\n",
    "        for c in df.columns:\n",
    "            cor, p, lo, hi = pearsonr_ci(df[r],df[c])\n",
    "            pearson_r[r][c] = str(round(cor,2)) + \" (\" + str(round(lo,2)) + \" - \" + str(round(hi,2)) + \"), p = \" + '{:0.2e}'.format(p)\n",
    "    return pearson_r"
   ]
  },
  {
   "cell_type": "code",
   "execution_count": null,
   "metadata": {},
   "outputs": [],
   "source": [
    "print('Pearson with CI and P-values')\n",
    "df_m_cor_p = calculate_pearsonr_with_ci_pval(df_m[['WEIGHT','HEIGHT','Age','BMI_CALC','bmi_age_Zpercentile','area_cm2','smi']])\n",
    "display(df_m_cor_p)\n",
    "df_m_cor_p.to_csv(output+'/Male_pearsonr_with_ci.csv',index=True)"
   ]
  },
  {
   "cell_type": "code",
   "execution_count": null,
   "metadata": {
    "slideshow": {
     "slide_type": "slide"
    }
   },
   "outputs": [],
   "source": [
    "print('Correlation Map Male')\n",
    "display(df_m[['WEIGHT','HEIGHT','Age','BMI_CALC','bmi_age_Zpercentile','area_cm2','smi']].corr().round(3))\n",
    "df_m_cor = df_m[['WEIGHT','HEIGHT','Age','BMI_CALC','bmi_age_Zpercentile','area_cm2','smi']].corr().round(3)\n",
    "df_m_cor.to_csv(output+'/Male_correlation_statistics.csv',index=True)"
   ]
  },
  {
   "cell_type": "code",
   "execution_count": null,
   "metadata": {
    "slideshow": {
     "slide_type": "subslide"
    }
   },
   "outputs": [],
   "source": [
    "print('P-values for Correlation map - male, P < 0.05 are statistically significant')\n",
    "df_m_cor_p = calculate_pvalues(df_m[['WEIGHT','HEIGHT','Age','BMI_CALC','area_cm2','smi']])\n",
    "display(df_m_cor_p)\n",
    "df_m_cor_p.to_csv(output+'/Male_correlation_pvalues.csv',index=True)"
   ]
  },
  {
   "cell_type": "code",
   "execution_count": null,
   "metadata": {},
   "outputs": [],
   "source": [
    "print('Pearson with CI and P-values')\n",
    "df_f_cor_p = calculate_pearsonr_with_ci_pval(df_f[['WEIGHT','HEIGHT','Age','BMI_CALC','bmi_age_Zpercentile','area_cm2','smi']])\n",
    "display(df_f_cor_p)\n",
    "df_f_cor_p.to_csv(output+'/Female_pearsonr_with_ci.csv',index=True)"
   ]
  },
  {
   "cell_type": "code",
   "execution_count": null,
   "metadata": {
    "slideshow": {
     "slide_type": "slide"
    }
   },
   "outputs": [],
   "source": [
    "print('Correlation Map Female')\n",
    "display(df_f[['WEIGHT','HEIGHT','Age','BMI_CALC','bmi_age_Zpercentile','area_cm2','smi']].corr().round(3))\n",
    "df_f_cor = df_f[['WEIGHT','HEIGHT','Age','BMI_CALC','bmi_age_Zpercentile','area_cm2','smi']].corr().round(3)\n",
    "df_f_cor.to_csv(output+'/Female_correlation_statistics.csv',index=True)"
   ]
  },
  {
   "cell_type": "code",
   "execution_count": null,
   "metadata": {
    "slideshow": {
     "slide_type": "subslide"
    }
   },
   "outputs": [],
   "source": [
    "print('P-values for Correlation map - female, P < 0.05 are statistically significant')\n",
    "df_f_cor_p = calculate_pvalues(df_f[['WEIGHT','HEIGHT','Age','BMI_CALC','area_cm2','smi']])\n",
    "display(df_f_cor_p)\n",
    "df_f_cor_p.to_csv(output+'/Female_correlation_pvalues.csv',index=True)"
   ]
  },
  {
   "cell_type": "markdown",
   "metadata": {
    "slideshow": {
     "slide_type": "slide"
    }
   },
   "source": [
    "## Quantile Regression with Splines"
   ]
  },
  {
   "cell_type": "code",
   "execution_count": null,
   "metadata": {
    "slideshow": {
     "slide_type": "skip"
    }
   },
   "outputs": [],
   "source": [
    "# Get Restricted Cubic splines by transforming independent variable (age)\n",
    "from statsmodels.regression.quantile_regression import QuantReg as QR\n",
    "# Reference: \n",
    "from patsy import dmatrix\n",
    "from patsy import cr\n",
    "import statsmodels.api as sm\n",
    "import statsmodels.formula.api as smf\n",
    "from sklearn.metrics import mean_squared_error\n",
    "from math import sqrt"
   ]
  },
  {
   "cell_type": "code",
   "execution_count": null,
   "metadata": {},
   "outputs": [],
   "source": [
    "import rpy2.robjects as robjects\n",
    "from rpy2.robjects.packages import importr\n",
    "from rpy2.robjects import pandas2ri\n",
    "#Must be activated\n",
    "pandas2ri.activate()\n",
    "utils = importr('utils')\n",
    "#utils.chooseCRANmirror(ind=1)\n",
    "#utils.install_packages('quantreg')\n",
    "qr_package=importr('quantreg')"
   ]
  },
  {
   "cell_type": "code",
   "execution_count": null,
   "metadata": {
    "slideshow": {
     "slide_type": "skip"
    }
   },
   "outputs": [],
   "source": [
    "def get_knots(x,nknots):\n",
    "    # Knot locations are set based on this article\n",
    "    #https://support.sas.com/resources/papers/proceedings16/5621-2016.pdf\n",
    "    if nknots == 3:\n",
    "        return [x.quantile(0.1),x.quantile(0.5),x.quantile(0.9)]\n",
    "    elif nknots == 4:\n",
    "        return [x.quantile(0.05),x.quantile(0.35),x.quantile(0.65),x.quantile(0.95)]\n",
    "    elif nknots == 5:\n",
    "        return [x.quantile(0.05),x.quantile(0.275),x.quantile(0.5),x.quantile(0.725),x.quantile(0.95)]"
   ]
  },
  {
   "cell_type": "code",
   "execution_count": null,
   "metadata": {
    "slideshow": {
     "slide_type": "skip"
    }
   },
   "outputs": [],
   "source": [
    "def fit_bs_models(model,qlist):\n",
    "    res = [model.fit(q=q) for q in qlist] \n",
    "    return res\n",
    "\n",
    "def get_transformed_x(x,knots,degrees):\n",
    "    transformed_x = dmatrix(\"bs(train, knots=\" + knots +\", degree= \"+ str(degrees) \n",
    "                    +\",include_intercept=False)\", {\"train\": x},return_type='dataframe')\n",
    "    return transformed_x\n",
    "\n",
    "def find_points_above(model,x_data,y_data):\n",
    "    y_m = model.predict(x_data)\n",
    "    points = y_data > y_m\n",
    "    outlier_count = sum(points)\n",
    "    return outlier_count, points\n",
    "\n",
    "def find_points_below(model,x_data,y_data):\n",
    "    y_m = model.predict(x_data)\n",
    "    points = y_data < y_m\n",
    "    outlier_count = sum(points)\n",
    "    return outlier_count, points"
   ]
  },
  {
   "cell_type": "code",
   "execution_count": null,
   "metadata": {},
   "outputs": [],
   "source": [
    "units_dict = {'WEIGHT':'Weight (Kg)','Age':'Age (Years)', 'HEIGHT': 'Height (cm)', 'area_cm2': 'SMA (cm^2)', 'smi': 'SMI (cm^2/m^2)',\n",
    "             'BMI_CALC': ' BMI', 'bmi_age_Zpercentile': 'BMI for Age (Z-percentile)'}\n",
    "\n",
    "# Gets design matrix command for restricted cubic splines (RCS)\n",
    "def get_dm_command_RCS(DF,knots):\n",
    "    lb = knots[0]\n",
    "    ub = knots[-1]\n",
    "    internal = knots[1:-1] # Internal knots\n",
    "    \n",
    "    command_head = \"cr(train,df = \" +  str(DF) + \", knots=\"\n",
    "\n",
    "    command_mid  = \"\"\n",
    "    internal_str=  list(map(str,internal))\n",
    "    #print(internal_str)\n",
    "    if len(internal_str)==1:\n",
    "        command_mid = internal_str[0]\n",
    "    else:\n",
    "        command_mid = \"(\" + internal_str[0] \n",
    "        for i in internal_str[1:]:\n",
    "            command_mid = command_mid + ',' + i    \n",
    "        command_mid = command_mid + ')'\n",
    "\n",
    "    command_tail = \", lower_bound=\" + str(lb) +\", upper_bound=\" + str(ub) + \") -1\"\n",
    "    command = command_head + command_mid + command_tail\n",
    "    return command\n",
    "\n",
    "def get_aic_rpy2(dm,df,response_var,q=0.5):\n",
    "    # Change colnames\n",
    "    colnames = []\n",
    "    for i in range(len(list(dm))):\n",
    "        ind = i+1\n",
    "        colnames.append('x' + str(ind))\n",
    "        \n",
    "    #print(colnames)    \n",
    "    dm.columns = colnames\n",
    "\n",
    "    # Add Jitter, Required for R QR\n",
    "    df_R = robjects.r['as.matrix'](dm)\n",
    "    df_R  = robjects.r['jitter'](df_R)\n",
    "    dm_jitter = dm.copy()\n",
    "\n",
    "    # Add response var to df for Quantile Reg in Rpy2\n",
    "    dm_jitter.iloc[:,:] = df_R\n",
    "    dm_jitter[response_var] = df[response_var].values\n",
    "\n",
    "\n",
    "    # QR Command\n",
    "    qr_head = response_var + ' ~ '\n",
    "    qr_tail = colnames[0]\n",
    "    for i in colnames[1:]:\n",
    "        qr_tail = qr_tail + '+' + i\n",
    "    qr_command = qr_head + qr_tail\n",
    "    #print('qr_command:', qr_command)\n",
    "\n",
    "    # Perform QR and find AIC\n",
    "    qr_mod = qr_package.rq(qr_command,data=dm_jitter, tau=q)\n",
    "    AIC = qr_package.AIC_rq(qr_mod)[0]\n",
    "\n",
    "    return AIC\n",
    "\n",
    "def spline_model_optimizer_cr(df,response_var,predictor_var='Age',nknots=[3,4,5]):\n",
    "    # Storage parameters\n",
    "    model_dict = {}\n",
    "    \n",
    "    # Akaike defined by Elan\n",
    "    akaike_dict = {}\n",
    "    mean_akaike = {}\n",
    "    akaike_dict_25 = {}\n",
    "    akaike_dict_75 = {}\n",
    "    \n",
    "    # AIC from R for quantreg models\n",
    "    aic_dict = {}\n",
    "    mean_aic = {}\n",
    "    aic_dict_25 = {}\n",
    "    aic_dict_75 = {}\n",
    "\n",
    "    # Maximum Likelihood calculated by Elan\n",
    "    L_dict = {}\n",
    "    L_dict_25 = {}\n",
    "    L_dict_75 = {}\n",
    "    \n",
    "    knots_dict = {} \n",
    "    model_keys = []\n",
    "    \n",
    "    # Knot constraints\n",
    "    min_knot = 3\n",
    "    max_knot = 15 + 1 # [+1 for python]\n",
    "    min_knot_diff = 3\n",
    "    \n",
    "    # Iterate over all knots\n",
    "    for nknot in nknots :\n",
    "        knots = get_knots(np.floor(df[predictor_var]),nknot)\n",
    "\n",
    "        # Book-keeping\n",
    "        mkey = 'nknots_'+ str(nknot)\n",
    "        model_keys.append(mkey)\n",
    "        knots_dict[mkey] = knots\n",
    "\n",
    "        #print('knots: ', knots)\n",
    "        command = get_dm_command_RCS(nknot,knots)\n",
    "       # print(command)\n",
    "        transformed_age = dmatrix(command, {\"train\": df[predictor_var].values}, return_type='dataframe')\n",
    "       \n",
    "        # Fit qr model\n",
    "        qr_model = QR(df[response_var].values,transformed_age.values)\n",
    "        model_dict[mkey] = qr_model\n",
    "        \n",
    "        # Calculate AIC from R qr function\n",
    "        aic_dict[mkey] = get_aic_rpy2(transformed_age,df,response_var,q=0.5)\n",
    "        aic_dict_25[mkey] = get_aic_rpy2(transformed_age,df,response_var,q=0.25)\n",
    "        aic_dict_75[mkey] = get_aic_rpy2(transformed_age,df,response_var,q=0.75)\n",
    "        \n",
    "        # Calculate mean aic\n",
    "        mean_aic[mkey] = (aic_dict[mkey] + aic_dict_25[mkey] + aic_dict_75[mkey])/3\n",
    "            \n",
    "    # Find best model\n",
    "    best_model_raic= min(mean_aic, key=mean_aic.get)\n",
    "    return model_dict[best_model_raic],knots_dict[best_model_raic]\n",
    "\n",
    "def plot_bs_qr_cr(dfs,mlist,knots,sexes=['Male','Female'],predictor='Age',response='area_cm2',xstart=0, ystart = 0):\n",
    "    x = np.linspace(dfs[0][predictor].values.min(),dfs[0][predictor].values.max(),70)\n",
    "    #age_range = dfs[0][predictor].values.max() - dfs[0][predictor].values.min()\n",
    "    #x_df = np.linspace(dfs[0][predictor].values.min(),dfs[0][predictor].values.max(),int(age_range*2))\n",
    "    x_df = np.arange(2.0, 19.5, 0.5)\n",
    "    ymax = max(max(dfs[0][response]),max(dfs[0][response]))\n",
    "    plt.figure(figsize = (14,7),linewidth=2)\n",
    "    \n",
    "    results_df = pd.DataFrame(columns = ['Age','0.05','0.25','0.50','0.75','0.95','0.05','0.25','0.50','0.75','0.95'])\n",
    "    results_df['Age'] =  x_df\n",
    "        #fig, ax = plt.subplots(figsize=(8, 6))\n",
    "    for n in range(len(mlist)):\n",
    "        df = dfs[n]\n",
    "        models = mlist[n]\n",
    "        \n",
    "        command = get_dm_command_RCS(len(knots[n]),knots[n])\n",
    "        transformed_x = dmatrix(command, {\"train\": x}, return_type='dataframe') \n",
    "        transformed_x_df = dmatrix(command, {\"train\": x_df}, return_type='dataframe') \n",
    "        \n",
    "        ax = plt.subplot(1,2,n+1)\n",
    "        for i in range(len(models)):\n",
    "            y = models[i].predict(transformed_x)\n",
    "            y_df = models[i].predict(transformed_x_df)\n",
    "            if n == 0:\n",
    "                results_df.iloc[:,i+1] = y_df\n",
    "            else:\n",
    "                results_df.iloc[:,i+6] = y_df\n",
    "                \n",
    "            ax.plot(x, y, linestyle='dotted',label='q =' + str(round(models[i].q,2)),linewidth=3)\n",
    "          \n",
    "        # Plot outliers in red\n",
    "        x_data = df[predictor].values\n",
    "        tr_x_data = dmatrix(command, {\"train\": x_data}, return_type='dataframe')\n",
    "        y_data = df[response].values\n",
    "        _,outliers_above = find_points_above(models[-1],tr_x_data,y_data)\n",
    "        _,outliers_below = find_points_below(models[0],tr_x_data,y_data)\n",
    "       # print('Number of outliers > 0.90: ', sum(outliers_above))\n",
    "       # print('Number of outliers < 0.10: ', sum(outliers_below))\n",
    "        outliers = outliers_above | outliers_below\n",
    "        \n",
    "        print('Total outliers: ', sum(outliers), 'Total points: ', len(outliers))\n",
    "        \n",
    "        normals = ~ outliers\n",
    "        ax.scatter(x_data[normals], y_data[normals],facecolor=None, edgecolor = 'k', alpha=.05)\n",
    "        ax.scatter(x_data[outliers], y_data[outliers],facecolor=None, edgecolor = 'r', alpha=.25)\n",
    "        \n",
    "       #ax.scatter(df[predictor], df[response],facecolor=None, edgecolor = 'k', alpha=.1)\n",
    "       # print(np.ceil(max(df[predictor].values)))\n",
    "        ax.set_xlim((xstart, np.ceil(max(df[predictor].values))),auto=True)\n",
    "        \n",
    "        print('xstart: ',xstart)\n",
    "        print('ystart: ',ystart)\n",
    "        ax.set_ylim(ystart, ymax,auto=True)\n",
    "        legend = ax.legend()\n",
    "        if np.ceil(max(df[predictor].values)) > 20:\n",
    "            xtick_r = 20\n",
    "        else:\n",
    "            xtick_r = 1\n",
    "        \n",
    "        ax.set_xticks(np.arange(xstart,np.ceil(max(df[predictor].values)),xtick_r))\n",
    "        \n",
    "        if predictor == \"BMI_CALC\":\n",
    "            ax.set_xlim(xstart, np.ceil(max(df[predictor].values)),auto=True)\n",
    "            xtick_r = 2\n",
    "            ax.set_xticks(np.arange(xstart,np.ceil(max(df[predictor].values)),xtick_r))\n",
    "        \n",
    "        ax.set_yticks(np.arange(ystart,ymax,20))\n",
    "        ax.set_xlabel(units_dict[predictor], fontsize=18)\n",
    "        ax.set_ylabel(units_dict[response], fontsize=18)\n",
    "        ax.set_title(sexes[n], fontsize=18)\n",
    "    title = response +'_vs_'+predictor+'.png'\n",
    "    plt.tight_layout()\n",
    "    plt.savefig(os.path.join(output,title), dpi = 300)\n",
    "    \n",
    "    \n",
    "    return results_df\n",
    "\n",
    "def plot_bs_qr_wcdc_cr(dfs,mlist,knots,cdc_df,sexes=['Male','Female'],predictor='Age',response='area_cm2',xstart=0, ystart=0):\n",
    "    x = np.linspace(dfs[0][predictor].values.min(),dfs[0][predictor].values.max(),70)\n",
    "    ymax = max(max(dfs[0][response]),max(dfs[0][response]))\n",
    "    plt.figure(figsize = (14,7),linewidth=2)\n",
    "    \n",
    "    colors = ['r','g','c','m','b']\n",
    "    #fig, ax = plt.subplots(figsize=(8, 6))\n",
    "    for n in range(len(mlist)):\n",
    "        df = dfs[n]\n",
    "        models = mlist[n]\n",
    "        \n",
    "        cdc_df_sex = cdc_df[cdc_df['Sex']==n+1]\n",
    "        \n",
    "        command = get_dm_command_RCS(len(knots[n]),knots[n])\n",
    "        # print(command)\n",
    "        transformed_x = dmatrix(command, {\"train\": x}, return_type='dataframe')\n",
    "        ax = plt.subplot(1,2,n+1)\n",
    "        \n",
    "        for i in range(len(models)):\n",
    "            y = models[i].predict(transformed_x)\n",
    "            ax.plot(x, y, linestyle='dotted',color=colors[i],label='q =' + str(round(models[i].q,2)),linewidth=3)\n",
    "            ax.plot(cdc_df_sex.iloc[:,1],cdc_df_sex.iloc[:,i+2],color=colors[i],label='cdc, q =' + str(round(models[i].q,2)),linewidth=2)\n",
    "\n",
    "        ax.scatter(df[predictor], df[response],facecolor=None, edgecolor = 'k', alpha=.1)\n",
    "        ax.set_xlim((xstart, np.ceil(max(df[predictor].values))))\n",
    "        print('xstart: ',xstart)\n",
    "        print('ystart: ',ystart)\n",
    "        ax.set_ylim(ystart, ymax,auto=True)\n",
    "        legend = ax.legend()\n",
    "        if np.ceil(max(df[predictor].values)) > 20:\n",
    "            xtick_r = 20\n",
    "        else:\n",
    "            xtick_r = 1\n",
    "        ax.set_xticks(np.arange(xstart,np.ceil(max(df[predictor].values)),xtick_r))\n",
    "        ax.set_yticks(np.arange(ystart,ymax,10))\n",
    "        ax.set_xlabel(units_dict[predictor], fontsize=18)\n",
    "        ax.set_ylabel(units_dict[response], fontsize=18)\n",
    "        ax.set_title(sexes[n], fontsize=18)\n",
    "    title = response +'_vs_'+predictor+'.png'\n",
    "    plt.tight_layout()\n",
    "    plt.savefig(os.path.join(output,title), dpi = 300)  "
   ]
  },
  {
   "cell_type": "code",
   "execution_count": null,
   "metadata": {},
   "outputs": [],
   "source": [
    "# Import cdc data\n",
    "# 2 to 20years\n",
    "#infile  = '/tf/smipipeline/growth_curves/data/csv/wtage220.csv'\n",
    "infile  = '/home/jupyteruser/smipipeline/growth_curves/data/csv/wtage220.csv'\n",
    "df_cdc_wt= pd.read_csv(infile, index_col=False)\n",
    "df_cdc_wt['Age'] = df_cdc_wt['Agemos']/12\n",
    "df_cdc_wt = df_cdc_wt[['Sex','Age','P10','P25','P50','P75','P90']]\n",
    "\n",
    "# infants to 3 years\n",
    "#infile2  = '/tf/smipipeline/growth_curves/data/csv/wtageinf.csv'\n",
    "infile2  = '/home/jupyteruser/smipipeline/growth_curves/data/csv/wtageinf.csv'\n",
    "df_cdc_wt2= pd.read_csv(infile2, index_col=False)\n",
    "df_cdc_wt2['Age'] = df_cdc_wt2['Agemos']/12\n",
    "df_cdc_wt2 = df_cdc_wt2[['Sex','Age','P10','P25','P50','P75','P90']]\n",
    "\n",
    "# keep only till 2 years\n",
    "df_cdc_wt2 = df_cdc_wt2[df_cdc_wt2['Age']<2]\n",
    "\n",
    "# Merge\n",
    "df_cdc_wt = pd.concat([df_cdc_wt,df_cdc_wt2],ignore_index=True)\n",
    "df_cdc_wt = df_cdc_wt.sort_values(by=['Age'])\n",
    "\n",
    "response='WEIGHT'\n",
    "cdc_df = df_cdc_wt\n",
    "# Get optimal model config\n",
    "df_m_nonull = df_m.dropna(subset=[response])\n",
    "df_f_nonull = df_f.dropna(subset=[response])\n",
    "model_m,knots_m= spline_model_optimizer_cr(df_m_nonull, response)\n",
    "model_f,knots_f = spline_model_optimizer_cr(df_f_nonull, response)\n",
    "\n",
    "\n",
    "# Fit the model for different quantiles\n",
    "fit_models_m = fit_bs_models(model_m,qlist=[0.05,0.25,0.50,0.75,0.95])\n",
    "fit_models_f = fit_bs_models(model_f,qlist=[0.05,0.25,0.50,0.75,0.95])"
   ]
  },
  {
   "cell_type": "code",
   "execution_count": null,
   "metadata": {},
   "outputs": [],
   "source": [
    "# Plot the results\n",
    "print('Population comparison to cdc data on ' + response + ' using quantile regression')\n",
    "\n",
    "cdc_df = cdc_df[cdc_df['Age']>=2]\n",
    "\n",
    "plot_bs_qr_wcdc_cr([df_m_nonull,df_f_nonull],\n",
    "           [fit_models_m,fit_models_f],\n",
    "           knots=[knots_m,knots_f],\n",
    "           cdc_df = cdc_df,\n",
    "           response=response)"
   ]
  },
  {
   "cell_type": "code",
   "execution_count": null,
   "metadata": {
    "slideshow": {
     "slide_type": "skip"
    }
   },
   "outputs": [],
   "source": [
    "# Import cdc data\n",
    "# 2 to 20years\n",
    "infile  = '/home/jupyteruser/smipipeline/growth_curves/data/csv/statage220.csv'\n",
    "df_cdc_wt= pd.read_csv(infile, index_col=False)\n",
    "df_cdc_wt['Age'] = df_cdc_wt['Agemos']/12\n",
    "df_cdc_wt = df_cdc_wt[['Sex','Age','P10','P25','P50','P75','P90']]\n",
    "# infants to 3 years\n",
    "infile2  = '/home/jupyteruser/smipipeline/growth_curves/data/csv/lenageinf.csv'\n",
    "df_cdc_wt2= pd.read_csv(infile2, index_col=False)\n",
    "df_cdc_wt2['Age'] = df_cdc_wt2['Agemos']/12\n",
    "df_cdc_wt2 = df_cdc_wt2[['Sex','Age','P10','P25','P50','P75','P90']]\n",
    "\n",
    "# keep only till 2 years\n",
    "df_cdc_wt2 = df_cdc_wt2[df_cdc_wt2['Age']<2]\n",
    "\n",
    "# Merge\n",
    "df_cdc_wt = pd.concat([df_cdc_wt,df_cdc_wt2],ignore_index=True)\n",
    "df_cdc_wt = df_cdc_wt.sort_values(by=['Age'])\n",
    "\n",
    "response='HEIGHT'\n",
    "cdc_df = df_cdc_wt\n",
    "# Get optimal model config\n",
    "df_m_nonull = df_m.dropna(subset=[response])\n",
    "df_f_nonull = df_f.dropna(subset=[response])\n",
    "model_m,knots_m = spline_model_optimizer_cr(df_m_nonull, response)\n",
    "model_f,knots_f = spline_model_optimizer_cr(df_f_nonull, response)\n",
    "\n",
    "\n",
    "# Fit the model for different quantiles\n",
    "fit_models_m = fit_bs_models(model_m,qlist=[0.05,0.25,0.50,0.75,0.95])\n",
    "fit_models_f = fit_bs_models(model_f,qlist=[0.05,0.25,0.50,0.75,0.95])"
   ]
  },
  {
   "cell_type": "code",
   "execution_count": null,
   "metadata": {
    "slideshow": {
     "slide_type": "slide"
    }
   },
   "outputs": [],
   "source": [
    "# Plot the results\n",
    "if cdc_df is not None:\n",
    "    print('Population comparison to cdc data on ' + response + ' using quantile regression')\n",
    "    cdc_df = cdc_df[cdc_df['Age']>=2]\n",
    "    \n",
    "    plot_bs_qr_wcdc_cr([df_m_nonull,df_f_nonull],\n",
    "               [fit_models_m,fit_models_f],\n",
    "               knots=[knots_m,knots_f],\n",
    "               cdc_df = cdc_df,\n",
    "               response=response, ystart=60)"
   ]
  },
  {
   "cell_type": "code",
   "execution_count": null,
   "metadata": {
    "slideshow": {
     "slide_type": "skip"
    }
   },
   "outputs": [],
   "source": [
    "# Import cdc data\n",
    "# 2 to 20years\n",
    "infile  = '/home/jupyteruser/smipipeline/growth_curves/data/csv/bmiage220.csv'\n",
    "df_cdc_wt= pd.read_csv(infile, index_col=False)\n",
    "df_cdc_wt['Age'] = df_cdc_wt['Agemos']/12\n",
    "df_cdc_wt = df_cdc_wt[['Sex','Age','P10','P25','P50','P75','P90']]\n",
    "\n",
    "response='BMI_CALC'\n",
    "cdc_df = df_cdc_wt\n",
    "# Get optimal model config\n",
    "df_m_nonull = df_m.dropna(subset=[response])\n",
    "df_f_nonull = df_f.dropna(subset=[response])\n",
    "model_m,knots_m = spline_model_optimizer_cr(df_m_nonull, response)\n",
    "model_f,knots_f = spline_model_optimizer_cr(df_f_nonull, response)\n",
    "\n",
    "# Fit the model for different quantiles\n",
    "fit_models_m = fit_bs_models(model_m,qlist=[0.05,0.25,0.50,0.75,0.95])\n",
    "fit_models_f = fit_bs_models(model_f,qlist=[0.05,0.25,0.50,0.75,0.95])"
   ]
  },
  {
   "cell_type": "code",
   "execution_count": null,
   "metadata": {
    "scrolled": true,
    "slideshow": {
     "slide_type": "slide"
    }
   },
   "outputs": [],
   "source": [
    "# Plot the results\n",
    "if cdc_df is not None:\n",
    "    cdc_df = cdc_df[cdc_df['Age']>=2]\n",
    "    print('Population comparison to cdc data on ' + response + ' using quantile regression')\n",
    "    plot_bs_qr_wcdc_cr([df_m_nonull,df_f_nonull],\n",
    "               [fit_models_m,fit_models_f],\n",
    "               knots=[knots_m,knots_f],\n",
    "               cdc_df = cdc_df,\n",
    "               response=response, ystart=10)"
   ]
  },
  {
   "cell_type": "code",
   "execution_count": null,
   "metadata": {
    "slideshow": {
     "slide_type": "skip"
    }
   },
   "outputs": [],
   "source": [
    "response='area_cm2'\n",
    "\n",
    "# Get optimal model config\n",
    "model_m,knots_m = spline_model_optimizer_cr(df_m, response)\n",
    "model_f,knots_f = spline_model_optimizer_cr(df_f, response)\n",
    "\n",
    "\n",
    "# Fit the model for different quantiles\n",
    "fit_models_m = fit_bs_models(model_m,qlist=[0.05,0.25,0.50,0.75,0.95])\n",
    "fit_models_f = fit_bs_models(model_f,qlist=[0.05,0.25,0.50,0.75,0.95])"
   ]
  },
  {
   "cell_type": "code",
   "execution_count": null,
   "metadata": {},
   "outputs": [],
   "source": [
    "knots_m"
   ]
  },
  {
   "cell_type": "code",
   "execution_count": null,
   "metadata": {},
   "outputs": [],
   "source": [
    "knots_f"
   ]
  },
  {
   "cell_type": "code",
   "execution_count": null,
   "metadata": {
    "slideshow": {
     "slide_type": "slide"
    }
   },
   "outputs": [],
   "source": [
    "# Plot the results\n",
    "print('Quantile Regression with Splines for Skeletal Muscle Area (CCHMC data)')\n",
    "results_df = plot_bs_qr_cr([df_m,df_f],\n",
    "           [fit_models_m,fit_models_f],\n",
    "           knots=[knots_m,knots_f],\n",
    "           response=response)\n",
    "results_df.to_csv(os.path.join(output,'age_sma_table.csv'))"
   ]
  },
  {
   "cell_type": "code",
   "execution_count": null,
   "metadata": {
    "slideshow": {
     "slide_type": "skip"
    }
   },
   "outputs": [],
   "source": [
    "response='smi'\n",
    "\n",
    "df_m_nonull = df_m.dropna(subset=[response])\n",
    "df_f_nonull = df_f.dropna(subset=[response])\n",
    "\n",
    "# Get optimal model config\n",
    "model_m,knots_m = spline_model_optimizer_cr(df_m_nonull, response)\n",
    "model_f,knots_f = spline_model_optimizer_cr(df_f_nonull, response)\n",
    "\n",
    "# Fit the model for different quantiles\n",
    "fit_models_m = fit_bs_models(model_m,qlist=[0.05,0.25,0.50,0.75,0.95])\n",
    "fit_models_f = fit_bs_models(model_f,qlist=[0.05,0.25,0.50,0.75,0.95])"
   ]
  },
  {
   "cell_type": "code",
   "execution_count": null,
   "metadata": {},
   "outputs": [],
   "source": [
    "knots_m"
   ]
  },
  {
   "cell_type": "code",
   "execution_count": null,
   "metadata": {},
   "outputs": [],
   "source": [
    "knots_f"
   ]
  },
  {
   "cell_type": "code",
   "execution_count": null,
   "metadata": {
    "slideshow": {
     "slide_type": "slide"
    }
   },
   "outputs": [],
   "source": [
    "# Plot the results\n",
    "print('Quantile Regression with Splines for SMI [CCHMC data]')\n",
    "results_df = plot_bs_qr_cr([df_m_nonull,df_f_nonull],\n",
    "           [fit_models_m,fit_models_f],\n",
    "           knots=[knots_m,knots_f],\n",
    "           response=response)\n",
    "results_df.to_csv(os.path.join(output,'age_smi_table.csv'))"
   ]
  },
  {
   "cell_type": "code",
   "execution_count": null,
   "metadata": {
    "slideshow": {
     "slide_type": "skip"
    }
   },
   "outputs": [],
   "source": [
    "response='area_cm2'\n",
    "predictor='WEIGHT'\n",
    "\n",
    "df_m_nonull = df_m.dropna(subset=[response,predictor])\n",
    "df_f_nonull = df_f.dropna(subset=[response,predictor])\n",
    "\n",
    "# Get optimal model config\n",
    "model_m,knots_m = spline_model_optimizer_cr(df_m_nonull,response,predictor_var=predictor)\n",
    "model_f,knots_f = spline_model_optimizer_cr(df_f_nonull,response,predictor_var=predictor)\n",
    "\n",
    "# Fit the model for different quantiles\n",
    "fit_models_m = fit_bs_models(model_m,qlist=[0.05,0.25,0.50,0.75,0.95])\n",
    "fit_models_f = fit_bs_models(model_f,qlist=[0.05,0.25,0.50,0.75,0.95])"
   ]
  },
  {
   "cell_type": "code",
   "execution_count": null,
   "metadata": {
    "slideshow": {
     "slide_type": "slide"
    }
   },
   "outputs": [],
   "source": [
    "# Plot the results\n",
    "print('Quantile Regression with Splines for SMA [CCHMC data] vs Weight')\n",
    "plot_bs_qr_cr([df_m_nonull,df_f_nonull],\n",
    "           [fit_models_m,fit_models_f],\n",
    "           knots=[knots_m,knots_f],\n",
    "           response=response, predictor=predictor,xstart=10)"
   ]
  },
  {
   "cell_type": "code",
   "execution_count": null,
   "metadata": {
    "slideshow": {
     "slide_type": "skip"
    }
   },
   "outputs": [],
   "source": [
    "response='smi'\n",
    "predictor='WEIGHT'\n",
    "\n",
    "df_m_nonull = df_m.dropna(subset=[response,predictor])\n",
    "df_f_nonull = df_f.dropna(subset=[response,predictor])\n",
    "\n",
    "# Get optimal model config\n",
    "model_m,knots_m = spline_model_optimizer_cr(df_m_nonull,response, predictor_var=predictor)\n",
    "model_f,knots_f = spline_model_optimizer_cr(df_f_nonull,response, predictor_var=predictor)\n",
    "\n",
    "# Fit the model for different quantiles\n",
    "fit_models_m = fit_bs_models(model_m,qlist=[0.05,0.25,0.50,0.75,0.95])\n",
    "fit_models_f = fit_bs_models(model_f,qlist=[0.05,0.25,0.50,0.75,0.95])"
   ]
  },
  {
   "cell_type": "code",
   "execution_count": null,
   "metadata": {
    "slideshow": {
     "slide_type": "slide"
    }
   },
   "outputs": [],
   "source": [
    "# Plot the results\n",
    "print('Quantile Regression with Splines for SMI [CCHMC data] vs Weight')\n",
    "plot_bs_qr_cr([df_m_nonull, df_f_nonull],\n",
    "           [fit_models_m, fit_models_f],\n",
    "           knots=[knots_m, knots_f],\n",
    "           response=response, predictor=predictor, xstart = 10)"
   ]
  },
  {
   "cell_type": "code",
   "execution_count": null,
   "metadata": {
    "slideshow": {
     "slide_type": "skip"
    }
   },
   "outputs": [],
   "source": [
    "response='area_cm2'\n",
    "predictor='HEIGHT'\n",
    "\n",
    "df_m_nonull = df_m.dropna(subset=[response,predictor])\n",
    "df_f_nonull = df_f.dropna(subset=[response,predictor])\n",
    "\n",
    "# Get optimal model config\n",
    "model_m,knots_m = spline_model_optimizer_cr(df_m_nonull, response, predictor_var=predictor)\n",
    "model_f,knots_f = spline_model_optimizer_cr(df_f_nonull, response, predictor_var=predictor)\n",
    "\n",
    "# Fit the model for different quantiles\n",
    "fit_models_m = fit_bs_models(model_m,qlist=[0.05,0.25,0.50,0.75,0.95])\n",
    "fit_models_f = fit_bs_models(model_f,qlist=[0.05,0.25,0.50,0.75,0.95])"
   ]
  },
  {
   "cell_type": "code",
   "execution_count": null,
   "metadata": {
    "slideshow": {
     "slide_type": "slide"
    }
   },
   "outputs": [],
   "source": [
    "# Plot the results\n",
    "print('Quantile Regression with Splines for SMA [CCHMC data] vs HEIGHT')\n",
    "plot_bs_qr_cr([df_m_nonull,df_f_nonull],\n",
    "           [fit_models_m,fit_models_f],\n",
    "           knots=[knots_m,knots_f],\n",
    "           response=response,predictor=predictor, xstart=80)"
   ]
  },
  {
   "cell_type": "code",
   "execution_count": null,
   "metadata": {
    "slideshow": {
     "slide_type": "skip"
    }
   },
   "outputs": [],
   "source": [
    "response='smi'\n",
    "predictor='HEIGHT'\n",
    "\n",
    "df_m_nonull = df_m.dropna(subset=[response,predictor])\n",
    "df_f_nonull = df_f.dropna(subset=[response,predictor])\n",
    "\n",
    "# Get optimal model config\n",
    "model_m,knots_m = spline_model_optimizer_cr(df_m_nonull, response,predictor_var=predictor)\n",
    "model_f,knots_f = spline_model_optimizer_cr(df_f_nonull, response,predictor_var=predictor)\n",
    "\n",
    "# Fit the model for different quantiles\n",
    "fit_models_m = fit_bs_models(model_m,qlist=[0.05,0.25,0.50,0.75,0.95])\n",
    "fit_models_f = fit_bs_models(model_f,qlist=[0.05,0.25,0.50,0.75,0.95])"
   ]
  },
  {
   "cell_type": "code",
   "execution_count": null,
   "metadata": {
    "slideshow": {
     "slide_type": "slide"
    }
   },
   "outputs": [],
   "source": [
    "# Plot the results\n",
    "print('Quantile Regression with Splines for SMI [CCHMC data] vs HEIGHT')\n",
    "plot_bs_qr_cr([df_m_nonull,df_f_nonull],\n",
    "           [fit_models_m,fit_models_f],\n",
    "           knots=[knots_m,knots_f],\n",
    "           response=response, predictor=predictor, xstart=80)"
   ]
  },
  {
   "cell_type": "code",
   "execution_count": null,
   "metadata": {
    "slideshow": {
     "slide_type": "skip"
    }
   },
   "outputs": [],
   "source": [
    "response='area_cm2'\n",
    "predictor='bmi_age_Zpercentile'\n",
    "\n",
    "df_m_nonull = df_m.dropna(subset=[response,predictor])\n",
    "df_f_nonull = df_f.dropna(subset=[response,predictor])\n",
    "\n",
    "# Get optimal model config\n",
    "model_m,knots_m = spline_model_optimizer_cr(df_m_nonull,response, predictor_var=predictor)\n",
    "model_f,knots_f = spline_model_optimizer_cr(df_f_nonull,response, predictor_var=predictor)\n",
    "\n",
    "# Fit the model for different quantiles\n",
    "fit_models_m = fit_bs_models(model_m,qlist=[0.05,0.25,0.50,0.75,0.95])\n",
    "fit_models_f = fit_bs_models(model_f,qlist=[0.05,0.25,0.50,0.75,0.95])"
   ]
  },
  {
   "cell_type": "code",
   "execution_count": null,
   "metadata": {
    "slideshow": {
     "slide_type": "slide"
    }
   },
   "outputs": [],
   "source": [
    "# Plot the results\n",
    "print('Quantile Regression with Splines for SMA [CCHMC data] vs BMI percentile')\n",
    "plot_bs_qr_cr([df_m_nonull, df_f_nonull],\n",
    "           [fit_models_m, fit_models_f],\n",
    "           knots=[knots_m, knots_f],\n",
    "           response=response, predictor=predictor)"
   ]
  },
  {
   "cell_type": "code",
   "execution_count": null,
   "metadata": {
    "slideshow": {
     "slide_type": "skip"
    }
   },
   "outputs": [],
   "source": [
    "response='smi'\n",
    "predictor='bmi_age_Zpercentile'\n",
    "\n",
    "df_m_nonull = df_m.dropna(subset=[response,predictor])\n",
    "df_f_nonull = df_f.dropna(subset=[response,predictor])\n",
    "\n",
    "# Get optimal model config\n",
    "model_m,knots_m = spline_model_optimizer_cr(df_m_nonull, response,predictor_var=predictor)\n",
    "model_f,knots_f = spline_model_optimizer_cr(df_f_nonull, response,predictor_var=predictor)\n",
    "\n",
    "# Fit the model for different quantiles\n",
    "fit_models_m = fit_bs_models(model_m,qlist=[0.05,0.25,0.50,0.75,0.95])\n",
    "fit_models_f = fit_bs_models(model_f,qlist=[0.05,0.25,0.50,0.75,0.95])"
   ]
  },
  {
   "cell_type": "code",
   "execution_count": null,
   "metadata": {},
   "outputs": [],
   "source": [
    "knots_f"
   ]
  },
  {
   "cell_type": "code",
   "execution_count": null,
   "metadata": {
    "slideshow": {
     "slide_type": "slide"
    }
   },
   "outputs": [],
   "source": [
    "# Plot the results\n",
    "print('Quantile Regression with Splines for SMI [CCHMC data] vs BMI percentile')\n",
    "plot_bs_qr_cr([df_m_nonull, df_f_nonull],\n",
    "           [fit_models_m, fit_models_f],\n",
    "           knots=[knots_m, knots_f],\n",
    "           response=response, predictor=predictor, ystart = 10)"
   ]
  },
  {
   "cell_type": "code",
   "execution_count": null,
   "metadata": {
    "slideshow": {
     "slide_type": "skip"
    }
   },
   "outputs": [],
   "source": [
    "response='area_cm2'\n",
    "predictor='BMI_CALC'\n",
    "\n",
    "df_m_nonull = df_m.dropna(subset=[response,predictor])\n",
    "df_f_nonull = df_f.dropna(subset=[response,predictor])\n",
    "\n",
    "# Get optimal model config\n",
    "model_m,knots_m = spline_model_optimizer_cr(df_m_nonull, response,predictor_var=predictor)\n",
    "model_f,knots_f = spline_model_optimizer_cr(df_f_nonull, response,predictor_var=predictor)\n",
    "\n",
    "# Fit the model for different quantiles\n",
    "fit_models_m = fit_bs_models(model_m, qlist=[0.05,0.25,0.50,0.75,0.95])\n",
    "fit_models_f = fit_bs_models(model_f, qlist=[0.05,0.25,0.50,0.75,0.95])"
   ]
  },
  {
   "cell_type": "code",
   "execution_count": null,
   "metadata": {
    "slideshow": {
     "slide_type": "slide"
    }
   },
   "outputs": [],
   "source": [
    "# Plot the results\n",
    "print('Quantile Regression with Splines for Skeletal Muscle Index [CCHMC data] vs BMI')\n",
    "plot_bs_qr_cr([df_m_nonull, df_f_nonull],\n",
    "           [fit_models_m,fit_models_f],\n",
    "           knots=[knots_m, knots_f],\n",
    "           response=response, predictor=predictor, xstart=12)"
   ]
  },
  {
   "cell_type": "code",
   "execution_count": null,
   "metadata": {
    "slideshow": {
     "slide_type": "skip"
    }
   },
   "outputs": [],
   "source": [
    "response='smi'\n",
    "predictor='BMI_CALC'\n",
    "\n",
    "df_m_nonull = df_m.dropna(subset=[response,predictor])\n",
    "df_f_nonull = df_f.dropna(subset=[response,predictor])\n",
    "\n",
    "# Get optimal model config\n",
    "model_m,knots_m = spline_model_optimizer_cr(df_m_nonull, response,predictor_var=predictor)\n",
    "model_f,knots_f = spline_model_optimizer_cr(df_f_nonull, response,predictor_var=predictor)\n",
    "\n",
    "# Fit the model for different quantiles\n",
    "fit_models_m = fit_bs_models(model_m,qlist=[0.05,0.25,0.50,0.75,0.95])\n",
    "fit_models_f = fit_bs_models(model_f,qlist=[0.05,0.25,0.50,0.75,0.95])"
   ]
  },
  {
   "cell_type": "code",
   "execution_count": null,
   "metadata": {
    "slideshow": {
     "slide_type": "slide"
    }
   },
   "outputs": [],
   "source": [
    "# Plot the results\n",
    "print('Quantile Regression with Splines for Skeletal Muscle Index [CCHMC data] vs BMI')\n",
    "plot_bs_qr_cr([df_m_nonull,df_f_nonull],\n",
    "           [fit_models_m, fit_models_f],\n",
    "           knots=[knots_m, knots_f],\n",
    "           response=response,predictor=predictor, xstart=12, ystart=10)"
   ]
  },
  {
   "cell_type": "code",
   "execution_count": null,
   "metadata": {},
   "outputs": [],
   "source": []
  }
 ],
 "metadata": {
  "celltoolbar": "Slideshow",
  "file_extension": ".py",
  "kernelspec": {
   "display_name": "Python 3",
   "language": "python",
   "name": "python3"
  },
  "language_info": {
   "codemirror_mode": {
    "name": "ipython",
    "version": 3
   },
   "file_extension": ".py",
   "mimetype": "text/x-python",
   "name": "python",
   "nbconvert_exporter": "python",
   "pygments_lexer": "ipython3",
   "version": "3.8.5"
  },
  "mimetype": "text/x-python",
  "name": "python",
  "npconvert_exporter": "python",
  "pygments_lexer": "ipython3",
  "version": 3
 },
 "nbformat": 4,
 "nbformat_minor": 4
}
