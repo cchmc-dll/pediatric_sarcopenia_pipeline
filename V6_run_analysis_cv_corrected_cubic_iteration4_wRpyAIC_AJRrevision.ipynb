{
 "cells": [
  {
   "cell_type": "markdown",
   "metadata": {
    "slideshow": {
     "slide_type": "slide"
    }
   },
   "source": [
    "# Data analysis of skeletal muscle area and SMI for normal patients"
   ]
  },
  {
   "cell_type": "code",
   "execution_count": 113,
   "metadata": {
    "slideshow": {
     "slide_type": "skip"
    }
   },
   "outputs": [
    {
     "data": {
      "text/html": [
       "<script>\n",
       "code_show=false; \n",
       "function code_toggle() {\n",
       " if (code_show){\n",
       " $('div.input').hide();\n",
       " } else {\n",
       " $('div.input').show();\n",
       " }\n",
       " code_show = !code_show\n",
       "} \n",
       "$( document ).ready(code_toggle);\n",
       "</script>\n",
       "<form action=\"javascript:code_toggle()\"><input type=\"submit\" value=\"Click here to toggle on/off the raw code.\"></form>"
      ],
      "text/plain": [
       "<IPython.core.display.HTML object>"
      ]
     },
     "execution_count": 113,
     "metadata": {},
     "output_type": "execute_result"
    }
   ],
   "source": [
    "from IPython.display import HTML\n",
    "\n",
    "HTML('''<script>\n",
    "code_show=false; \n",
    "function code_toggle() {\n",
    " if (code_show){\n",
    " $('div.input').hide();\n",
    " } else {\n",
    " $('div.input').show();\n",
    " }\n",
    " code_show = !code_show\n",
    "} \n",
    "$( document ).ready(code_toggle);\n",
    "</script>\n",
    "<form action=\"javascript:code_toggle()\"><input type=\"submit\" value=\"Click here to toggle on/off the raw code.\"></form>''')"
   ]
  },
  {
   "cell_type": "markdown",
   "metadata": {
    "slideshow": {
     "slide_type": "skip"
    }
   },
   "source": [
    "###### Load libraries and directories"
   ]
  },
  {
   "cell_type": "code",
   "execution_count": 114,
   "metadata": {
    "slideshow": {
     "slide_type": "skip"
    }
   },
   "outputs": [],
   "source": [
    "# from IPython import get_ipython\n",
    "from IPython.display import display, HTML\n",
    "#from tqdm.notebook import tqdm\n",
    "import pickle\n",
    "import os\n",
    "import pprint\n",
    "pp = pprint.PrettyPrinter(indent=1)\n",
    "\n",
    "import pandas as pd\n",
    "import numpy as np\n",
    "\n",
    "import json\n",
    "\n",
    "# Custom functions\n",
    "import pickle\n",
    "def save_object(obj, filename):\n",
    "    with open(filename, 'wb') as output:  # Overwrites any existing file.\n",
    "        pickle.dump(obj, output, pickle.HIGHEST_PROTOCOL)\n",
    "\n",
    "def load_object(filename):        \n",
    "    with open(filename, 'rb') as input:\n",
    "        return pickle.load(input)\n",
    "    "
   ]
  },
  {
   "cell_type": "code",
   "execution_count": 115,
   "metadata": {
    "slideshow": {
     "slide_type": "skip"
    }
   },
   "outputs": [],
   "source": [
    "# Install statsmodels if it doesn't exist\n",
    "import pip\n",
    "def import_or_install(package):\n",
    "    try:\n",
    "        return __import__(package)\n",
    "    except ImportError:\n",
    "        pip.main(['install', package]) \n",
    "        \n",
    "packages = ['statsmodels','matplotlib','scipy','pygrowup','sklearn']\n",
    "\n",
    "for package in packages:\n",
    "    import_or_install(package)"
   ]
  },
  {
   "cell_type": "code",
   "execution_count": 116,
   "metadata": {
    "slideshow": {
     "slide_type": "skip"
    }
   },
   "outputs": [
    {
     "ename": "AttributeError",
     "evalue": "'DataFrame' object has no attribute 'summary'",
     "output_type": "error",
     "traceback": [
      "\u001b[0;31m---------------------------------------------------------------------------\u001b[0m",
      "\u001b[0;31mAttributeError\u001b[0m                            Traceback (most recent call last)",
      "\u001b[0;32m<ipython-input-107-2290d4d96d84>\u001b[0m in \u001b[0;36m<module>\u001b[0;34m\u001b[0m\n\u001b[0;32m----> 1\u001b[0;31m \u001b[0mdf_others\u001b[0m\u001b[0;34m.\u001b[0m\u001b[0msummary\u001b[0m\u001b[0;34m(\u001b[0m\u001b[0;34m)\u001b[0m\u001b[0;34m\u001b[0m\u001b[0;34m\u001b[0m\u001b[0m\n\u001b[0m",
      "\u001b[0;32m/usr/local/lib/python3.8/dist-packages/pandas/core/generic.py\u001b[0m in \u001b[0;36m__getattr__\u001b[0;34m(self, name)\u001b[0m\n\u001b[1;32m   5463\u001b[0m             \u001b[0;32mif\u001b[0m \u001b[0mself\u001b[0m\u001b[0;34m.\u001b[0m\u001b[0m_info_axis\u001b[0m\u001b[0;34m.\u001b[0m\u001b[0m_can_hold_identifiers_and_holds_name\u001b[0m\u001b[0;34m(\u001b[0m\u001b[0mname\u001b[0m\u001b[0;34m)\u001b[0m\u001b[0;34m:\u001b[0m\u001b[0;34m\u001b[0m\u001b[0;34m\u001b[0m\u001b[0m\n\u001b[1;32m   5464\u001b[0m                 \u001b[0;32mreturn\u001b[0m \u001b[0mself\u001b[0m\u001b[0;34m[\u001b[0m\u001b[0mname\u001b[0m\u001b[0;34m]\u001b[0m\u001b[0;34m\u001b[0m\u001b[0;34m\u001b[0m\u001b[0m\n\u001b[0;32m-> 5465\u001b[0;31m             \u001b[0;32mreturn\u001b[0m \u001b[0mobject\u001b[0m\u001b[0;34m.\u001b[0m\u001b[0m__getattribute__\u001b[0m\u001b[0;34m(\u001b[0m\u001b[0mself\u001b[0m\u001b[0;34m,\u001b[0m \u001b[0mname\u001b[0m\u001b[0;34m)\u001b[0m\u001b[0;34m\u001b[0m\u001b[0;34m\u001b[0m\u001b[0m\n\u001b[0m\u001b[1;32m   5466\u001b[0m \u001b[0;34m\u001b[0m\u001b[0m\n\u001b[1;32m   5467\u001b[0m     \u001b[0;32mdef\u001b[0m \u001b[0m__setattr__\u001b[0m\u001b[0;34m(\u001b[0m\u001b[0mself\u001b[0m\u001b[0;34m,\u001b[0m \u001b[0mname\u001b[0m\u001b[0;34m:\u001b[0m \u001b[0mstr\u001b[0m\u001b[0;34m,\u001b[0m \u001b[0mvalue\u001b[0m\u001b[0;34m)\u001b[0m \u001b[0;34m->\u001b[0m \u001b[0;32mNone\u001b[0m\u001b[0;34m:\u001b[0m\u001b[0;34m\u001b[0m\u001b[0;34m\u001b[0m\u001b[0m\n",
      "\u001b[0;31mAttributeError\u001b[0m: 'DataFrame' object has no attribute 'summary'"
     ]
    }
   ],
   "source": [
    "import statsmodels.api as sm\n",
    "import statsmodels.formula.api as smf\n",
    "import matplotlib.pyplot as plt\n",
    "import matplotlib.image as mpimg\n",
    "import scipy.stats as stats\n",
    "get_ipython().run_line_magic('tb', '')"
   ]
  },
  {
   "cell_type": "code",
   "execution_count": 117,
   "metadata": {
    "slideshow": {
     "slide_type": "skip"
    }
   },
   "outputs": [
    {
     "name": "stdout",
     "output_type": "stream",
     "text": [
      "/home/jupyteruser/smipipeline\n"
     ]
    }
   ],
   "source": [
    "cwd = os.getcwd()\n",
    "print(cwd)"
   ]
  },
  {
   "cell_type": "code",
   "execution_count": 118,
   "metadata": {
    "slideshow": {
     "slide_type": "skip"
    }
   },
   "outputs": [],
   "source": [
    "data = '/home/jupyteruser/data'\n",
    "pickles = '/home/jupyteruser/pickles'\n",
    "models = '/home/jupyteruser/models'\n",
    "output = '/home/jupyteruser/output/v5_results'"
   ]
  },
  {
   "cell_type": "code",
   "execution_count": 119,
   "metadata": {
    "scrolled": true,
    "slideshow": {
     "slide_type": "skip"
    }
   },
   "outputs": [
    {
     "name": "stdout",
     "output_type": "stream",
     "text": [
      "{'l3_finder': {'cache_dir': '/tf/_cache/',\n",
      "               'cache_intermediate_results': True,\n",
      "               'dicom_dir': '/tf/data',\n",
      "               'model_path_dir': '/tf/models/l3/cv_final',\n",
      "               'new_tim_dicom_dir_structure': True,\n",
      "               'output_directory': '/tf/output/v5_cv_poorl3/l3',\n",
      "               'overwrite': True,\n",
      "               'save_plots': True,\n",
      "               'show_plots': False},\n",
      " 'muscle_segmentor': {'model_path_dir': '/tf/models/muscle/cv_final',\n",
      "                      'output_directory': '/tf/output/v5_cv_poorl3/ms'}}\n"
     ]
    }
   ],
   "source": [
    "# Import modules and config file\n",
    "configfile = os.path.join(cwd,'config/debug_ES/v5_run_prediction_CV_poorl3.json')\n",
    "with open(configfile, \"r\") as f:\n",
    "        config = json.load(f)\n",
    "pp.pprint(config)"
   ]
  },
  {
   "cell_type": "code",
   "execution_count": 120,
   "metadata": {},
   "outputs": [
    {
     "name": "stdout",
     "output_type": "stream",
     "text": [
      "{'l3_finder': {'cache_dir': '/home/jupyteruser/_cache/',\n",
      "               'cache_intermediate_results': True,\n",
      "               'dicom_dir': '/home/jupyteruser/data',\n",
      "               'model_path_dir': '/home/jupyteruser/models/l3/cv_final',\n",
      "               'new_tim_dicom_dir_structure': True,\n",
      "               'output_directory': '/home/jupyteruser/output/v5_cv_poorl3/l3',\n",
      "               'overwrite': True,\n",
      "               'save_plots': True,\n",
      "               'show_plots': False},\n",
      " 'muscle_segmentor': {'model_path_dir': '/home/jupyteruser/models/muscle/cv_final',\n",
      "                      'output_directory': '/home/jupyteruser/output/v5_cv_poorl3/ms'}}\n"
     ]
    }
   ],
   "source": [
    "for key in config.keys():\n",
    "    for label, value in config[key].items():\n",
    "        if type(value) is str:\n",
    "            config[key][label] = value.replace('/tf', '/home/jupyteruser')\n",
    "\n",
    "pp.pprint(config)"
   ]
  },
  {
   "cell_type": "markdown",
   "metadata": {
    "slideshow": {
     "slide_type": "slide"
    }
   },
   "source": [
    "## Produce data for analysis using prediction results and preprocessing results"
   ]
  },
  {
   "cell_type": "code",
   "execution_count": 121,
   "metadata": {
    "slideshow": {
     "slide_type": "skip"
    }
   },
   "outputs": [
    {
     "name": "stdout",
     "output_type": "stream",
     "text": [
      "Total number of patients for analysis before manual eliminations:  2197\n"
     ]
    }
   ],
   "source": [
    "# Load the area csv\n",
    "filename = 'areas-mm2_by_subject_id_manual_outliers.csv'\n",
    "#filename = 'areas-mm2_by_subject_id.csv'\n",
    "\n",
    "\n",
    "sma_csv = os.path.join(config[\"muscle_segmentor\"][\"output_directory\"],filename)\n",
    "df_sma = pd.read_csv(sma_csv, index_col=False)\n",
    "print('Total number of patients for analysis before manual eliminations: ', len(df_sma))"
   ]
  },
  {
   "cell_type": "code",
   "execution_count": 122,
   "metadata": {},
   "outputs": [
    {
     "data": {
      "text/plain": [
       "43"
      ]
     },
     "execution_count": 122,
     "metadata": {},
     "output_type": "execute_result"
    }
   ],
   "source": [
    "df_man = df_sma[~df_sma['area_mm2_Elan'].isnull()]\n",
    "len(df_man)"
   ]
  },
  {
   "cell_type": "code",
   "execution_count": 123,
   "metadata": {},
   "outputs": [
    {
     "data": {
      "text/html": [
       "<div>\n",
       "<style scoped>\n",
       "    .dataframe tbody tr th:only-of-type {\n",
       "        vertical-align: middle;\n",
       "    }\n",
       "\n",
       "    .dataframe tbody tr th {\n",
       "        vertical-align: top;\n",
       "    }\n",
       "\n",
       "    .dataframe thead th {\n",
       "        text-align: right;\n",
       "    }\n",
       "</style>\n",
       "<table border=\"1\" class=\"dataframe\">\n",
       "  <thead>\n",
       "    <tr style=\"text-align: right;\">\n",
       "      <th></th>\n",
       "      <th>subject_id</th>\n",
       "      <th>area_mm2</th>\n",
       "      <th>%auto mask pixels</th>\n",
       "      <th>% manual mask pixels</th>\n",
       "      <th>area_mm2_Elan</th>\n",
       "      <th>sagittal_series</th>\n",
       "      <th>axial_series</th>\n",
       "    </tr>\n",
       "  </thead>\n",
       "  <tbody>\n",
       "    <tr>\n",
       "      <th>45</th>\n",
       "      <td>Z1756629</td>\n",
       "      <td>3590.897184</td>\n",
       "      <td>7.043</td>\n",
       "      <td>7.444</td>\n",
       "      <td>3795.34838</td>\n",
       "      <td>Z1756629-SE-8-Body_Std._Axial_AIDR_-_H_Sagittal_3.000</td>\n",
       "      <td>Z1756629-SE-2-Body_Std._Axial_AIDR_-_H__5.0</td>\n",
       "    </tr>\n",
       "  </tbody>\n",
       "</table>\n",
       "</div>"
      ],
      "text/plain": [
       "   subject_id     area_mm2  %auto mask pixels  % manual mask pixels  \\\n",
       "45   Z1756629  3590.897184              7.043                 7.444   \n",
       "\n",
       "    area_mm2_Elan                                        sagittal_series  \\\n",
       "45     3795.34838  Z1756629-SE-8-Body_Std._Axial_AIDR_-_H_Sagittal_3.000   \n",
       "\n",
       "                                   axial_series  \n",
       "45  Z1756629-SE-2-Body_Std._Axial_AIDR_-_H__5.0  "
      ]
     },
     "execution_count": 123,
     "metadata": {},
     "output_type": "execute_result"
    }
   ],
   "source": [
    "df_man.head(1)"
   ]
  },
  {
   "cell_type": "code",
   "execution_count": 124,
   "metadata": {
    "slideshow": {
     "slide_type": "skip"
    }
   },
   "outputs": [
    {
     "data": {
      "text/html": [
       "<div>\n",
       "<style scoped>\n",
       "    .dataframe tbody tr th:only-of-type {\n",
       "        vertical-align: middle;\n",
       "    }\n",
       "\n",
       "    .dataframe tbody tr th {\n",
       "        vertical-align: top;\n",
       "    }\n",
       "\n",
       "    .dataframe thead th {\n",
       "        text-align: right;\n",
       "    }\n",
       "</style>\n",
       "<table border=\"1\" class=\"dataframe\">\n",
       "  <thead>\n",
       "    <tr style=\"text-align: right;\">\n",
       "      <th></th>\n",
       "      <th>subject_id</th>\n",
       "      <th>area_mm2</th>\n",
       "      <th>%auto mask pixels</th>\n",
       "      <th>% manual mask pixels</th>\n",
       "      <th>area_mm2_Elan</th>\n",
       "      <th>sagittal_series</th>\n",
       "      <th>axial_series</th>\n",
       "    </tr>\n",
       "  </thead>\n",
       "  <tbody>\n",
       "    <tr>\n",
       "      <th>635</th>\n",
       "      <td>Z1292977</td>\n",
       "      <td>6910.657248</td>\n",
       "      <td>NaN</td>\n",
       "      <td>NaN</td>\n",
       "      <td>NaN</td>\n",
       "      <td>recon from: Z1292977-SE-9-_ORAL_CONTRAST;ISOVUE_300_FC12_ORG_</td>\n",
       "      <td>Z1292977-SE-9-_ORAL_CONTRAST;ISOVUE_300_FC12_ORG_</td>\n",
       "    </tr>\n",
       "    <tr>\n",
       "      <th>941</th>\n",
       "      <td>Z627604</td>\n",
       "      <td>11793.750000</td>\n",
       "      <td>NaN</td>\n",
       "      <td>NaN</td>\n",
       "      <td>NaN</td>\n",
       "      <td>Z627604-SE-9-Sagittal_Bone_Sagittal_3.000</td>\n",
       "      <td>Z627604-SE-4-Axial_Body_5.0</td>\n",
       "    </tr>\n",
       "    <tr>\n",
       "      <th>1007</th>\n",
       "      <td>Z1016357</td>\n",
       "      <td>4313.282220</td>\n",
       "      <td>NaN</td>\n",
       "      <td>NaN</td>\n",
       "      <td>NaN</td>\n",
       "      <td>recon from: Z1016357-SE-8-Ax-MIP_Lung_Ax-MIP_8.0</td>\n",
       "      <td>Z1016357-SE-8-Ax-MIP_Lung_Ax-MIP_8.0</td>\n",
       "    </tr>\n",
       "    <tr>\n",
       "      <th>1038</th>\n",
       "      <td>Z1335481</td>\n",
       "      <td>10616.937800</td>\n",
       "      <td>NaN</td>\n",
       "      <td>NaN</td>\n",
       "      <td>NaN</td>\n",
       "      <td>recon from: Z1335481-SE-10-Standard_Axial</td>\n",
       "      <td>Z1335481-SE-10-Standard_Axial</td>\n",
       "    </tr>\n",
       "    <tr>\n",
       "      <th>1100</th>\n",
       "      <td>Z1150365</td>\n",
       "      <td>12304.901810</td>\n",
       "      <td>NaN</td>\n",
       "      <td>NaN</td>\n",
       "      <td>NaN</td>\n",
       "      <td>recon from: Z1150365-SE-4-Axial_Body_5.0</td>\n",
       "      <td>Z1150365-SE-4-Axial_Body_5.0</td>\n",
       "    </tr>\n",
       "    <tr>\n",
       "      <th>2188</th>\n",
       "      <td>Z567376</td>\n",
       "      <td>7402.861004</td>\n",
       "      <td>NaN</td>\n",
       "      <td>NaN</td>\n",
       "      <td>NaN</td>\n",
       "      <td>recon from: Z567376-SE-2-Body_Std._Axial_AIDR_-_H__5.0</td>\n",
       "      <td>Z567376-SE-2-Body_Std._Axial_AIDR_-_H__5.0</td>\n",
       "    </tr>\n",
       "  </tbody>\n",
       "</table>\n",
       "</div>"
      ],
      "text/plain": [
       "     subject_id      area_mm2  %auto mask pixels  % manual mask pixels  \\\n",
       "635    Z1292977   6910.657248                NaN                   NaN   \n",
       "941     Z627604  11793.750000                NaN                   NaN   \n",
       "1007   Z1016357   4313.282220                NaN                   NaN   \n",
       "1038   Z1335481  10616.937800                NaN                   NaN   \n",
       "1100   Z1150365  12304.901810                NaN                   NaN   \n",
       "2188    Z567376   7402.861004                NaN                   NaN   \n",
       "\n",
       "      area_mm2_Elan  \\\n",
       "635             NaN   \n",
       "941             NaN   \n",
       "1007            NaN   \n",
       "1038            NaN   \n",
       "1100            NaN   \n",
       "2188            NaN   \n",
       "\n",
       "                                                    sagittal_series  \\\n",
       "635   recon from: Z1292977-SE-9-_ORAL_CONTRAST;ISOVUE_300_FC12_ORG_   \n",
       "941                       Z627604-SE-9-Sagittal_Bone_Sagittal_3.000   \n",
       "1007               recon from: Z1016357-SE-8-Ax-MIP_Lung_Ax-MIP_8.0   \n",
       "1038                      recon from: Z1335481-SE-10-Standard_Axial   \n",
       "1100                       recon from: Z1150365-SE-4-Axial_Body_5.0   \n",
       "2188         recon from: Z567376-SE-2-Body_Std._Axial_AIDR_-_H__5.0   \n",
       "\n",
       "                                           axial_series  \n",
       "635   Z1292977-SE-9-_ORAL_CONTRAST;ISOVUE_300_FC12_ORG_  \n",
       "941                         Z627604-SE-4-Axial_Body_5.0  \n",
       "1007               Z1016357-SE-8-Ax-MIP_Lung_Ax-MIP_8.0  \n",
       "1038                      Z1335481-SE-10-Standard_Axial  \n",
       "1100                       Z1150365-SE-4-Axial_Body_5.0  \n",
       "2188         Z567376-SE-2-Body_Std._Axial_AIDR_-_H__5.0  "
      ]
     },
     "metadata": {},
     "output_type": "display_data"
    }
   ],
   "source": [
    "if 'outliers' in filename: # MOdified area sheet with manual area calculated for outlier patient\n",
    "    df_sma_manuals = df_sma.loc[~df_sma['area_mm2_Elan'].isnull()]\n",
    "    for i,row in df_sma_manuals.iterrows():\n",
    "        df_sma.loc[df_sma['subject_id']==row['subject_id'],'area_mm2'] = row['area_mm2_Elan']\n",
    "    \n",
    "\n",
    "# Manually identified diseases cases [by Andrew]:\n",
    "man_disease = ['Z832424','Z1256768']\n",
    "\n",
    "# Manually identified poor L3s [by Elan for v5]:\n",
    "man_poorl3 = ['Z627604','Z1292977','Z1150365','Z1016357','Z1335481','Z567376']\n",
    "\n",
    "man_eliminations = man_disease + man_poorl3\n",
    "\n",
    "df_eliminations = df_sma.loc[df_sma['subject_id'].isin(man_eliminations)]\n",
    "display(df_eliminations)"
   ]
  },
  {
   "cell_type": "code",
   "execution_count": 125,
   "metadata": {
    "slideshow": {
     "slide_type": "skip"
    }
   },
   "outputs": [
    {
     "name": "stdout",
     "output_type": "stream",
     "text": [
      "Final patients for analysis:  2191\n"
     ]
    }
   ],
   "source": [
    "df_sma= df_sma.loc[~df_sma['subject_id'].isin(man_eliminations)]\n",
    "df_sma = df_sma[['subject_id','area_mm2','sagittal_series','axial_series']]\n",
    "print('Final patients for analysis: ',len(df_sma))"
   ]
  },
  {
   "cell_type": "code",
   "execution_count": 126,
   "metadata": {
    "slideshow": {
     "slide_type": "skip"
    }
   },
   "outputs": [],
   "source": [
    "# change subject_id to id\n",
    "df_sma.columns=['ID','area_mm2','sagittals','axials']\n",
    "#display(df_sma.head(2))"
   ]
  },
  {
   "cell_type": "code",
   "execution_count": 127,
   "metadata": {
    "slideshow": {
     "slide_type": "skip"
    }
   },
   "outputs": [],
   "source": [
    "# Now merge on ID\n",
    "df_analysis = df_sma\n",
    "#display(df_analysis.head(10))"
   ]
  },
  {
   "cell_type": "code",
   "execution_count": 128,
   "metadata": {
    "slideshow": {
     "slide_type": "skip"
    }
   },
   "outputs": [],
   "source": [
    "# Load age information from patlist csv\n",
    "# Load normal patient list\n",
    "infile  = 'patlist_with_validBMI_corrected_v5.csv'\n",
    "df_P = pd.read_csv(infile, index_col=False)\n",
    "df_P = df_P.loc[:, ~df_P.columns.str.contains('^Unnamed')]"
   ]
  },
  {
   "cell_type": "code",
   "execution_count": 129,
   "metadata": {
    "slideshow": {
     "slide_type": "skip"
    }
   },
   "outputs": [],
   "source": [
    "# Keep only columns needed\n",
    "df_P = df_P[['PAT_ID','WEIGHT','HEIGHT','BMI_FOR_AGE_PERCENTILE','BMI_CALCULATED','Age',\n",
    " 'Sex',\n",
    " 'Race',\n",
    " 'AgeGroup','STUDYRESULT','IMPRESSION']]\n",
    "df_P.columns = ['ID','WEIGHT','HEIGHT','BMI_AGE_P','BMI_CALC','Age','Sex','Race','AgeGroup','STUDYRESULT','IMPRESSION']\n",
    "#display(df_P.head(10))"
   ]
  },
  {
   "cell_type": "code",
   "execution_count": 130,
   "metadata": {
    "slideshow": {
     "slide_type": "slide"
    }
   },
   "outputs": [
    {
     "name": "stdout",
     "output_type": "stream",
     "text": [
      "Total number of normal patients identified 2238\n",
      "Total number of normal patients with images 2191\n"
     ]
    }
   ],
   "source": [
    "# Get rid of patients not in df_analysis\n",
    "print(\"Total number of normal patients identified\", len(df_P))\n",
    "df_P = df_P[df_P['ID'].isin(df_analysis['ID'].values)]\n",
    "print(\"Total number of normal patients with images\", len(df_P))"
   ]
  },
  {
   "cell_type": "code",
   "execution_count": 131,
   "metadata": {
    "slideshow": {
     "slide_type": "skip"
    }
   },
   "outputs": [
    {
     "name": "stdout",
     "output_type": "stream",
     "text": [
      "Length of final analysis df:  2191\n"
     ]
    }
   ],
   "source": [
    "# Merge the patient fields with df_analysis\n",
    "df_analysis = pd.merge(df_P,df_analysis, on=\"ID\")\n",
    "\n",
    "print('Length of final analysis df: ', len(df_analysis))\n",
    "\n",
    "# Redefine AgeGroup be flooring instead of rounding.\n",
    "df_analysis['AgeGroup'] = np.floor(df_analysis['Age'].values)"
   ]
  },
  {
   "cell_type": "code",
   "execution_count": 132,
   "metadata": {},
   "outputs": [
    {
     "name": "stdout",
     "output_type": "stream",
     "text": [
      "Cases with manually identified L3s:  30\n"
     ]
    }
   ],
   "source": [
    "# Manual L3 check\n",
    "infile  = 'poorl3.csv'\n",
    "df_poorl3 = pd.read_csv(infile, index_col=False)\n",
    "\n",
    "l3_present = df_poorl3.loc[~df_poorl3['L3slice'].isnull(),'ID'].values.tolist()\n",
    "print('Cases with manually identified L3s: ', len(l3_present))"
   ]
  },
  {
   "cell_type": "code",
   "execution_count": 133,
   "metadata": {},
   "outputs": [],
   "source": [
    "# This was used to filter exams for prediction in run_prediction_cv\n",
    "# normal_patients_corrected = df_analysis.ID.values.tolist()\n",
    "# print(len(normal_patients_corrected))\n",
    "# save_object(normal_patients_corrected,os.path.join(pickles,'normal_patients_corrected.pkl'))"
   ]
  },
  {
   "cell_type": "code",
   "execution_count": 134,
   "metadata": {},
   "outputs": [
    {
     "name": "stdout",
     "output_type": "stream",
     "text": [
      "Normal L3s that are valid:  26\n",
      "Z1762020\n",
      "Z418856\n",
      "Z357478\n",
      "Z670302\n",
      "Z1211258\n",
      "Z717870\n",
      "Z890238\n",
      "Z1302641\n",
      "Z627309\n",
      "Z1041413\n",
      "Z511402\n",
      "Z1722108\n",
      "Z837620\n",
      "Z441830\n",
      "Z5745\n",
      "Z489517\n",
      "Z1332420\n",
      "Z1263347\n",
      "Z486791\n",
      "Z320930\n",
      "Z678707\n",
      "Z1221549\n",
      "Z1274627\n",
      "Z1119985\n",
      "Z1000800\n",
      "Z362374\n"
     ]
    }
   ],
   "source": [
    "l3_present_analysis = [l3 for l3 in l3_present if l3 in df_analysis.ID.values]\n",
    "print('Normal L3s that are valid: ', len(l3_present_analysis))\n",
    "for l3 in l3_present_analysis:\n",
    "    print(l3)"
   ]
  },
  {
   "cell_type": "code",
   "execution_count": 135,
   "metadata": {
    "slideshow": {
     "slide_type": "slide"
    }
   },
   "outputs": [
    {
     "name": "stdout",
     "output_type": "stream",
     "text": [
      "Patients missing BMI calculated: 251\n",
      "Patients missing BMI age percentile: 0\n",
      "Patients missing Height: 11\n",
      "Patients missing Weight 27\n",
      "Patients missing Age 0\n",
      "Patients missing Race 0\n",
      "Patients missing Sex 0\n"
     ]
    }
   ],
   "source": [
    "# Find missing BMI_CALC\n",
    "print('Patients missing BMI calculated:' ,len(df_analysis[df_analysis['BMI_CALC'].isnull()]))\n",
    "print('Patients missing BMI age percentile:' ,len(df_analysis[df_analysis['BMI_AGE_P'].isnull()]))\n",
    "print('Patients missing Height:' ,len(df_analysis[df_analysis['HEIGHT'].isnull()]))\n",
    "print('Patients missing Weight' ,len(df_analysis[df_analysis['WEIGHT'].isnull()]))\n",
    "print('Patients missing Age' ,len(df_analysis[df_analysis['Age'].isnull()]))\n",
    "print('Patients missing Race' ,len(df_analysis[df_analysis['Race'].isnull()]))\n",
    "print('Patients missing Sex' ,len(df_analysis[df_analysis['Sex'].isnull()]))"
   ]
  },
  {
   "cell_type": "code",
   "execution_count": 136,
   "metadata": {
    "slideshow": {
     "slide_type": "skip"
    }
   },
   "outputs": [],
   "source": [
    "df_analysis = df_analysis.sort_values(by=['AgeGroup'],ascending='False')\n",
    "#print(df_analysis['AgeGroup'].value_counts().sort_values())"
   ]
  },
  {
   "cell_type": "code",
   "execution_count": 137,
   "metadata": {},
   "outputs": [
    {
     "data": {
      "text/plain": [
       "['ID',\n",
       " 'WEIGHT',\n",
       " 'HEIGHT',\n",
       " 'BMI_AGE_P',\n",
       " 'BMI_CALC',\n",
       " 'Age',\n",
       " 'Sex',\n",
       " 'Race',\n",
       " 'AgeGroup',\n",
       " 'STUDYRESULT',\n",
       " 'IMPRESSION',\n",
       " 'area_mm2',\n",
       " 'sagittals',\n",
       " 'axials']"
      ]
     },
     "execution_count": 137,
     "metadata": {},
     "output_type": "execute_result"
    }
   ],
   "source": [
    "list(df_analysis)"
   ]
  },
  {
   "cell_type": "code",
   "execution_count": 138,
   "metadata": {},
   "outputs": [],
   "source": [
    "# Handling an outlier that had 2 CT exams, but the exam and EHR data were mismatched. Manually correcting for it.\n",
    "df_analysis.loc[df_analysis['ID']=='Z549850','Age'] = 13.99\n",
    "df_analysis.loc[df_analysis['ID']=='Z549850','WEIGHT'] = np.nan\n",
    "df_analysis.loc[df_analysis['ID']=='Z549850','HEIGHT'] = np.nan\n",
    "df_analysis.loc[df_analysis['ID']=='Z549850','BMI_AGE_P'] = 86.5\n",
    "df_analysis.loc[df_analysis['ID']=='Z549850','BMI_CALC'] = 23.66\n",
    "df_analysis.loc[df_analysis['ID']=='Z549850','AgeGroup'] = 13"
   ]
  },
  {
   "cell_type": "code",
   "execution_count": 178,
   "metadata": {},
   "outputs": [],
   "source": [
    "#df_analysis.loc[df_analysis['ID']=='Z549850']"
   ]
  },
  {
   "cell_type": "code",
   "execution_count": 140,
   "metadata": {
    "slideshow": {
     "slide_type": "subslide"
    }
   },
   "outputs": [
    {
     "name": "stdout",
     "output_type": "stream",
     "text": [
      "No of Patients > 18 years that are discarded 1\n"
     ]
    }
   ],
   "source": [
    "# Patients > 18\n",
    "print('No of Patients > 18 years that are discarded' ,len(df_analysis[df_analysis['AgeGroup'] > 18]))\n",
    "#print('No of Patients < 2.5 yearas' ,len(df_analysis[df_analysis['Age'] < 2.5]))"
   ]
  },
  {
   "cell_type": "code",
   "execution_count": 141,
   "metadata": {
    "slideshow": {
     "slide_type": "skip"
    }
   },
   "outputs": [],
   "source": [
    "#print('No of boys' ,len(df_analysis[df_analysis['Sex'] == 'Male']))\n",
    "#print('No of girls' ,len(df_analysis[df_analysis['Sex'] == 'Female']))"
   ]
  },
  {
   "cell_type": "code",
   "execution_count": 142,
   "metadata": {
    "slideshow": {
     "slide_type": "slide"
    }
   },
   "outputs": [
    {
     "name": "stdout",
     "output_type": "stream",
     "text": [
      "Length of male df =  1056\n",
      "Length of female df =  1134\n"
     ]
    }
   ],
   "source": [
    "# Create sex stratified and age filtered dfs\n",
    "df_analysis['area_cm2'] = df_analysis['area_mm2']/100\n",
    "\n",
    "df_analysis['smi'] = df_analysis['area_cm2']/((df_analysis['HEIGHT']/100)**2)\n",
    "\n",
    "df_m = df_analysis[(df_analysis['Sex']=='Male') & (df_analysis['AgeGroup'] <= 18)] #& (df_analysis['Age'] > 3)]\n",
    "print('Length of male df = ',len(df_m))\n",
    "df_f = df_analysis[(df_analysis['Sex']=='Female') & (df_analysis['AgeGroup'] <= 18)] # & (df_analysis['Age'] > 3)]\n",
    "print('Length of female df = ',len(df_f))"
   ]
  },
  {
   "cell_type": "code",
   "execution_count": 143,
   "metadata": {},
   "outputs": [
    {
     "data": {
      "text/plain": [
       "0.9312169312169312"
      ]
     },
     "execution_count": 143,
     "metadata": {},
     "output_type": "execute_result"
    }
   ],
   "source": [
    "1056/1134"
   ]
  },
  {
   "cell_type": "code",
   "execution_count": 144,
   "metadata": {
    "scrolled": true,
    "tags": []
   },
   "outputs": [],
   "source": [
    "pd. set_option('display.max_rows', 100) # or 1000\n",
    "pd.set_option('display.max_colwidth', None)"
   ]
  },
  {
   "cell_type": "markdown",
   "metadata": {},
   "source": [
    "### Figuring out distribution of slice thicknesses for AJR"
   ]
  },
  {
   "cell_type": "code",
   "execution_count": 145,
   "metadata": {},
   "outputs": [],
   "source": [
    "df_halfmm = df_analysis[df_analysis['axials'].str.contains('_0.5')]\n",
    "df_3mm = df_analysis[df_analysis['axials'].str.contains('_3.0')]\n",
    "df_rest = df_analysis[~(df_analysis['ID'].isin(df_3mm['ID']) | df_analysis['ID'].isin(df_halfmm['ID']))]"
   ]
  },
  {
   "cell_type": "code",
   "execution_count": 146,
   "metadata": {},
   "outputs": [
    {
     "name": "stdout",
     "output_type": "stream",
     "text": [
      "0.5 mm studies:  88\n",
      "3 mm studies:  50\n",
      "5 mm studies:  2053\n"
     ]
    }
   ],
   "source": [
    "print('0.5 mm studies: ', len(df_halfmm))\n",
    "print('3 mm studies: ', len(df_3mm))\n",
    "print('5 mm studies: ', len(df_rest))"
   ]
  },
  {
   "cell_type": "markdown",
   "metadata": {},
   "source": [
    "### Figuring out reasons for CT examination for the healthy patient dataset as requested by reviewers:"
   ]
  },
  {
   "cell_type": "code",
   "execution_count": 147,
   "metadata": {},
   "outputs": [
    {
     "name": "stdout",
     "output_type": "stream",
     "text": [
      "['ID', 'WEIGHT', 'HEIGHT', 'BMI_AGE_P', 'BMI_CALC', 'Age', 'Sex', 'Race', 'AgeGroup', 'STUDYRESULT', 'IMPRESSION', 'area_mm2', 'sagittals', 'axials', 'area_cm2', 'smi']\n"
     ]
    }
   ],
   "source": [
    "print(list(df_analysis))"
   ]
  },
  {
   "cell_type": "code",
   "execution_count": 148,
   "metadata": {},
   "outputs": [
    {
     "name": "stdout",
     "output_type": "stream",
     "text": [
      "Appendicitis patients:  302\n",
      "Appendicitis patients % of total:  13.783660429027842\n"
     ]
    },
    {
     "name": "stderr",
     "output_type": "stream",
     "text": [
      "/usr/local/lib/python3.8/dist-packages/pandas/core/indexing.py:1843: SettingWithCopyWarning: \n",
      "A value is trying to be set on a copy of a slice from a DataFrame.\n",
      "Try using .loc[row_indexer,col_indexer] = value instead\n",
      "\n",
      "See the caveats in the documentation: https://pandas.pydata.org/pandas-docs/stable/user_guide/indexing.html#returning-a-view-versus-a-copy\n",
      "  self.obj[item_labels[indexer[info_axis]]] = value\n"
     ]
    }
   ],
   "source": [
    "# Create df with study result alone\n",
    "df_SR = df_analysis[['ID','STUDYRESULT','IMPRESSION']]\n",
    "df_SR.loc[:,'STUDYRESULT'] = df_SR['STUDYRESULT'].str.lower()\n",
    "df_SR.loc[:,'IMPRESSION'] = df_SR['IMPRESSION'].str.lower()\n",
    "\n",
    "df_SR_aps =  df_SR[df_SR['STUDYRESULT'].str.contains('appendicitis')]\n",
    "print('Appendicitis patients: ', len(df_SR_aps))\n",
    "print('Appendicitis patients % of total: ', len(df_SR_aps)*100/len(df_SR))"
   ]
  },
  {
   "cell_type": "code",
   "execution_count": 149,
   "metadata": {},
   "outputs": [
    {
     "name": "stdout",
     "output_type": "stream",
     "text": [
      "Hydronephrosis patients:  79\n",
      "Hydronephrosis patients % of total:  3.605659516202647\n"
     ]
    }
   ],
   "source": [
    "df_SR_hyd =  df_SR[df_SR['STUDYRESULT'].str.contains('hydronephrosis')]\n",
    "print('Hydronephrosis patients: ', len(df_SR_hyd))\n",
    "print('Hydronephrosis patients % of total: ', len(df_SR_hyd)*100/len(df_SR))"
   ]
  },
  {
   "cell_type": "code",
   "execution_count": 179,
   "metadata": {},
   "outputs": [],
   "source": [
    "#display(df_SR_hyd)"
   ]
  },
  {
   "cell_type": "code",
   "execution_count": 151,
   "metadata": {},
   "outputs": [
    {
     "name": "stdout",
     "output_type": "stream",
     "text": [
      "Indigestion patients:  280\n",
      "Indigestion patients % of total:  12.779552715654953\n"
     ]
    }
   ],
   "source": [
    "indiglist = ['vomit','diarrhea','digestive disorder']\n",
    "pattern = '|'.join(indiglist)\n",
    "df_SR_ind = df_SR[df_SR['STUDYRESULT'].str.contains(pattern)]\n",
    "print('Indigestion patients: ', len(df_SR_ind))\n",
    "print('Indigestion patients % of total: ', len(df_SR_ind)*100/len(df_SR))"
   ]
  },
  {
   "cell_type": "code",
   "execution_count": 152,
   "metadata": {},
   "outputs": [
    {
     "name": "stdout",
     "output_type": "stream",
     "text": [
      "Trauma patients:  579\n",
      "Trauma patients % of total:  26.42628936558649\n"
     ]
    }
   ],
   "source": [
    "traumalist = ['trauma','injury','mvc','mva','accident','bruising','fracture']\n",
    "pattern = '|'.join(traumalist)\n",
    "df_SR_tr = df_SR[df_SR['STUDYRESULT'].str.contains(pattern)]\n",
    "print('Trauma patients: ', len(df_SR_tr))\n",
    "print('Trauma patients % of total: ', len(df_SR_tr)*100/len(df_SR))"
   ]
  },
  {
   "cell_type": "code",
   "execution_count": 153,
   "metadata": {},
   "outputs": [
    {
     "name": "stdout",
     "output_type": "stream",
     "text": [
      "Pain patients:  1469\n",
      "Pain patients % of total:  67.04701049748974\n"
     ]
    }
   ],
   "source": [
    "df_SR_pain = df_SR[df_SR['STUDYRESULT'].str.contains('pain')]\n",
    "print('Pain patients: ', len(df_SR_pain))\n",
    "print('Pain patients % of total: ', len(df_SR_pain)*100/len(df_SR))"
   ]
  },
  {
   "cell_type": "code",
   "execution_count": 154,
   "metadata": {},
   "outputs": [
    {
     "name": "stdout",
     "output_type": "stream",
     "text": [
      "Pain and Appendicitis patients:  230\n"
     ]
    }
   ],
   "source": [
    "df_SR_pain_aps = df_SR_pain[df_SR_pain['ID'].isin(df_SR_aps['ID'])]\n",
    "print('Pain and Appendicitis patients: ', len(df_SR_pain_aps))"
   ]
  },
  {
   "cell_type": "code",
   "execution_count": 155,
   "metadata": {},
   "outputs": [
    {
     "name": "stdout",
     "output_type": "stream",
     "text": [
      "Pain and Trauma patients:  233\n"
     ]
    }
   ],
   "source": [
    "df_SR_pain_tr = df_SR_pain[df_SR_pain['ID'].isin(df_SR_tr['ID'])]\n",
    "print('Pain and Trauma patients: ', len(df_SR_pain_tr))"
   ]
  },
  {
   "cell_type": "code",
   "execution_count": 156,
   "metadata": {},
   "outputs": [
    {
     "name": "stdout",
     "output_type": "stream",
     "text": [
      "Trauma and Appendicitis patients:  10\n"
     ]
    }
   ],
   "source": [
    "df_SR_tr_aps = df_SR_tr[df_SR_tr['ID'].isin(df_SR_aps['ID'])]\n",
    "print('Trauma and Appendicitis patients: ', len(df_SR_tr_aps))"
   ]
  },
  {
   "cell_type": "code",
   "execution_count": 157,
   "metadata": {},
   "outputs": [
    {
     "name": "stdout",
     "output_type": "stream",
     "text": [
      "Pain, Appendicitis and Trauma patients:  7\n"
     ]
    }
   ],
   "source": [
    "df_SR_pain_aps_tr = df_SR_pain_aps[df_SR_pain_aps['ID'].isin(df_SR_pain_tr['ID'])]\n",
    "print('Pain, Appendicitis and Trauma patients: ', len(df_SR_pain_aps_tr))"
   ]
  },
  {
   "cell_type": "code",
   "execution_count": 158,
   "metadata": {},
   "outputs": [
    {
     "name": "stdout",
     "output_type": "stream",
     "text": [
      "Other patients:  307\n"
     ]
    }
   ],
   "source": [
    "df_no_pain = df_SR[~df_SR[\"ID\"].isin(df_SR_pain[\"ID\"])]\n",
    "df_no_pain_aps = df_no_pain[~df_no_pain[\"ID\"].isin(df_SR_aps[\"ID\"])]\n",
    "df_no_pain_aps_tr = df_no_pain_aps[~df_no_pain_aps[\"ID\"].isin(df_SR_tr[\"ID\"])]\n",
    "print('Other patients: ', len(df_no_pain_aps_tr))"
   ]
  },
  {
   "cell_type": "code",
   "execution_count": 159,
   "metadata": {
    "scrolled": true,
    "tags": []
   },
   "outputs": [
    {
     "data": {
      "text/html": [
       "<div>\n",
       "<style scoped>\n",
       "    .dataframe tbody tr th:only-of-type {\n",
       "        vertical-align: middle;\n",
       "    }\n",
       "\n",
       "    .dataframe tbody tr th {\n",
       "        vertical-align: top;\n",
       "    }\n",
       "\n",
       "    .dataframe thead th {\n",
       "        text-align: right;\n",
       "    }\n",
       "</style>\n",
       "<table border=\"1\" class=\"dataframe\">\n",
       "  <thead>\n",
       "    <tr style=\"text-align: right;\">\n",
       "      <th></th>\n",
       "      <th>ID</th>\n",
       "      <th>STUDYRESULT</th>\n",
       "      <th>IMPRESSION</th>\n",
       "    </tr>\n",
       "  </thead>\n",
       "  <tbody>\n",
       "    <tr>\n",
       "      <th>1989</th>\n",
       "      <td>Z1929867</td>\n",
       "      <td>clinical history: 2-month-old, ropa. comparison: skeletal survey 1/20/2018 procedure comments: ct of the abdomen and pelvis was performed with intravenous contrast. findings: lower thorax: diffuse groundglass opacities at the lung bases . liver and biliary system: normal. spleen: normal. pancreas: not well visualized. no gross abnormalities. adrenal glands: normal. kidneys, ureters, and bladder: normal. increased medullary pyramidal enhancement bilaterally  bowel: normal. appendix: the appendix is not identified. peritoneal cavity: no free fluid. uterus and ovaries: no gross abnormality. vasculature: normal. lymph nodes: normal. abdominal wall: normal. osseous structures: normal.</td>\n",
       "      <td>1.  dense medullary pyramids. this may relate reflect pooling of contrast versus nephrocalcinosis.  the former is favored. 2.  no traumatic abnormality.</td>\n",
       "    </tr>\n",
       "    <tr>\n",
       "      <th>1995</th>\n",
       "      <td>Z1929500</td>\n",
       "      <td>clinical history: 2-month-old male with portal venous gas seen on doppler ultrasound of liver, also  with hematochezia. ct was performed to assess the intestinal wall and to evaluate for an av  malformation. comparison: ultrasound and radiographs of the abdomen 1/12/2018 procedure comments: ct of the abdomen and pelvis was performed with intravenous contrast. findings: lower thorax: mild dependent changes are seen at the lung bases. mild lobular air trapping in both  lower lobes. liver and biliary system: normal. no portal venous gas is noted. spleen: normal. pancreas: normal. adrenal glands: a punctate calcification is seen in the right adrenal gland. kidneys, ureters, and bladder: the right kidney appears to be a non-dilated duplex system. bowel: normal. i see no findings to suggest bowel ischemia. appendix: the appendix is identified and is normal. peritoneal cavity: no free fluid. vasculature: normal. lymph nodes: normal. abdominal wall: normal. osseous structures: normal.</td>\n",
       "      <td>1.  there is no evidence of portal venous gas. 2.  no findings to suggest an arteriovenous malformation. 3.  punctate calcification in the right adrenal gland is likely due to the sequela of neonatal  hemorrhage. 4.  suspected duplex right renal collecting system without pelvocaliectasis or ureterectasis. radiology fellow yinan li discussed the above findings with dr. asai on 1/13/2018 11:54 am in  person.</td>\n",
       "    </tr>\n",
       "    <tr>\n",
       "      <th>1795</th>\n",
       "      <td>Z1947621</td>\n",
       "      <td>clinical history: 1 day of brown vomit and nonbloody diarrhea, distended colon on axr, guarding on  abd exam, ill appearing.  history in epic confirmed with mom. comparison: upper gi 3/1/2018 procedure comments: ct of the abdomen and pelvis was performed with intravenous contrast. findings: examination is mildly degraded by patient motion. lower thorax: normal. liver and biliary system: normal. spleen: normal. pancreas: normal. adrenal glands: normal. kidneys, ureters, and bladder: normal. motion artifact particularly limits evaluation of the left  kidney, but it appears grossly normal. bowel: multiple dilated, fluid-filled loops of small bowel favored to represent distal jejunum and  proximal ileum are seen in the mid abdomen. the most prominent loop of small bowel is seen in the  upper right and mid abdomen and likely corresponds to a previously noted distended small bowel loop  on the upper gi series from march 2018. there is a relatively smooth transition from this most  likely related loop of bowel to normal caliber ileum in the right upper quadrant. no findings of  closed loop obstruction. bowel wall enhances normally. the colon is normal in appearance. a moderate  amount of stool seen throughout the colon and rectum.  appendix: the appendix is identified and is normal. peritoneal cavity: no free fluid. vasculature: normal. lymph nodes: normal. abdominal wall: normal. osseous structures: normal.</td>\n",
       "      <td>1.  dilated fluid-filled mid small bowel corresponding with previously noted distended small bowel  loops on upper gi series from march 2018. given persistent appearance, findings may be secondary to  ileal stenosis, congenital band, or dysfunctional bowel resulting in partial or functional  obstruction.  2.  normal colon with moderate stool throughout. 3.  normal appendix in the right lower quadrant.</td>\n",
       "    </tr>\n",
       "    <tr>\n",
       "      <th>1794</th>\n",
       "      <td>Z1973497</td>\n",
       "      <td>clinical history: 5m with elevated lfts after fall down 17 stairs.  per mom, fall down stairs today. comparison: none. procedure comments: ct of the abdomen and pelvis was performed with intravenous contrast. findings: lower thorax: normal. liver and biliary system: normal. spleen: normal. pancreas: normal. adrenal glands: normal. kidneys, ureters, and bladder: normal. bowel: normal. appendix: the appendix is not identified. peritoneal cavity: no free fluid. vasculature: normal. lymph nodes: normal. abdominal wall: normal. osseous structures: normal.</td>\n",
       "      <td>normal ct of the abdomen and pelvis.</td>\n",
       "    </tr>\n",
       "    <tr>\n",
       "      <th>1731</th>\n",
       "      <td>Z1864582</td>\n",
       "      <td>clinical history: 22 mo male with recurrent ileo colic intussusception.  history in epic confirmed  with anes nurse eric. comparison: none procedure comments: ct of the abdomen and pelvis was performed with intravenous contrast. findings: lower thorax: dependent atelectasis lung bases. liver and biliary system: normal. spleen: normal. pancreas: normal. adrenal glands: normal. kidneys, ureters, and bladder: normal. bowel: there is thickening of the terminal presently 6 in meters in length. moderate stool is  visible in the colon. appendix: the appendix is identified and is normal. peritoneal cavity: no free fluid. vasculature: normal. lymph nodes: there numerous lymph nodes in the right lower quadrant measuring up to 6 mm in short  axis diameter. abdominal wall: normal. osseous structures: normal.</td>\n",
       "      <td>findings suggest ileitis with right lower quadrant likely reactive lymphadenopathy.</td>\n",
       "    </tr>\n",
       "    <tr>\n",
       "      <th>...</th>\n",
       "      <td>...</td>\n",
       "      <td>...</td>\n",
       "      <td>...</td>\n",
       "    </tr>\n",
       "    <tr>\n",
       "      <th>950</th>\n",
       "      <td>Z627309</td>\n",
       "      <td>clinical history: 18-year-old with moderate hydronephrosis.  outside read. comparison: 6/1/2007. procedure comments: ct of the abdomen was performed with intravenous and oral contrast.  examination  was performed at adams county regional medical center on 11/19/2010 and is submitted for  interpretation on 12/2/2010. findings: lower thorax: normal. liver and biliary system: normal. spleen: the spleen is surgically absent.  numerous small splenules are noted in the left upper  quadrant. pancreas: normal adrenal glands: the right adrenal gland is normal.  the left adrenal gland is not seen. kidneys and ureters: the left kidney is surgically absent.  there is mild dilation of the right  renal pelvis which appears similar to prior examinations.  the renal parenchyma enhances normally.   there is no perinephric stranding or fluid collection. bowel: normal. appendix: normal peritoneal cavity: no free fluid. vasculature: normal. lymph nodes: normal. abdominal wall: diastasis of the musculature at the midline anterior abdominal wall is noted,  related to prior surgery.  there is ill-defined soft tissue density within the subcutaneous fat at  the right inferior aspect of the defect, best seen on image 48 of series 3.  no oral contrast is  seen extending into this region. loops of small bowel are present abutting the diastatic abdominal  wall, though there is no frank herniation.   osseous structures: normal.</td>\n",
       "      <td>impression: 1.  post operative findings from left nephrectomy and splenectomy related to prior trauma. 2.  postoperative diastasis of the abdominal wall without bowel herniation. 3.  ill-defined soft tissue density in the right anterior subcutaneous fat.  findings are  nonspecific and could be postsurgical scarring versus infectious/inflammatory in etiology. 4.  moderate pelvocaliectasis of the right kidney which is similar to prior exams.</td>\n",
       "    </tr>\n",
       "    <tr>\n",
       "      <th>1797</th>\n",
       "      <td>Z1058129</td>\n",
       "      <td>clinical history: 18 yo m with peritoneal signs on belly exam diffusely and hx urethral strictures  and repairs. renal and bladder u/s with only mild r urothelial thickening yesterday in ed..  comparison: same day abdominal radiograph and renal ultrasound 9/20/2018 procedure comments: ct of the abdomen and pelvis was performed with intravenous contrast. findings: lower thorax: normal. liver and biliary system: normal. spleen: normal. pancreas: normal. adrenal glands: normal. kidneys, ureters, and bladder: the kidneys are normal with no evidence of hydronephrosis or  obstruction. delayed phase images demonstrate symmetric opacification of the renal collecting  systems and bilateral ureters throughout their course with no evidence of a defect or obstruction.  the bladder is normal.. bowel: there may be a tiny hiatal hernia. there is a moderate amount of stool seen throughout the  colon and fecalized small bowel contents within the lower abdomen. appendix: the appendix is identified and is normal. peritoneal cavity: no free fluid or free fluid. a calcification is seen within the deep left pelvis,  likely representing a phlebolith.  vasculature: normal. lymph nodes: scattered nonenlarged mesenteric lymph nodes are seen. abdominal wall: normal. osseous structures: there are multilevel schmorl's nodes throughout the lower thoracic and lumbar  spine.</td>\n",
       "      <td>essentially normal ct of the abdomen and pelvis.</td>\n",
       "    </tr>\n",
       "    <tr>\n",
       "      <th>787</th>\n",
       "      <td>Z283402</td>\n",
       "      <td>clinical history: 18 yo male with continued weight loss.. comparison: none procedure comments: ct of the abdomen and pelvis was performed with intravenous and oral contrast. findings: lower thorax: normal. liver and biliary system: normal. spleen: normal. pancreas: normal. adrenal glands: normal. kidneys, ureters, and bladder: normal. bowel: normal. appendix: the appendix is identified and is normal. peritoneal cavity: no free fluid. vasculature: normal. lymph nodes: normal. abdominal wall: normal. osseous structures: normal.</td>\n",
       "      <td>impression: normal ct of the abdomen and pelvis.</td>\n",
       "    </tr>\n",
       "    <tr>\n",
       "      <th>1271</th>\n",
       "      <td>Z855060</td>\n",
       "      <td>clinical history: 18-year-old with one week of nausea and vomiting. comparison: none procedure comments: ct of the abdomen and pelvis was performed with intravenous contrast. patient  was not able to tolerate oral contrast. findings: lower thorax: normal. liver and biliary system: normal. gallbladder is normal. spleen: normal. pancreas: normal. adrenal glands: normal. kidneys, ureters, and bladder: normal. bowel: normal. appendix: the appendix is identified and is normal. peritoneal cavity: no free fluid. vasculature: normal. lymph nodes: normal. abdominal wall: normal. osseous structures: normal.</td>\n",
       "      <td>impression: normal ct of the abdomen and pelvis. specifically, the appendix is normal and no alternative  etiology for patient's symptoms identified</td>\n",
       "    </tr>\n",
       "    <tr>\n",
       "      <th>781</th>\n",
       "      <td>Z906949</td>\n",
       "      <td>clinical history: 18-year-old with abdominal tenderness status post being punched today. comparison: same day chest radiograph. procedure comments: ct of the abdomen and pelvis was performed with intravenous contrast. findings: lower thorax: there is a 1.4 cm partially calcified nodule within the left lower lobe. liver and biliary system: normal. spleen: calcified granulomata.  pancreas: normal. adrenal glands: normal. kidneys, ureters, and bladder: there is a small amount of fluid near the lower pole of the left  kidney. no parenchymal defect is identified. the right kidney is normal. bowel: normal. appendix: the appendix is not identified.  peritoneal cavity: no free fluid. vasculature: normal. lymph nodes: normal. abdominal wall: normal. osseous structures: normal.</td>\n",
       "      <td>impression: 1.  small amount of fluid near the lower pole of the left kidney. in the setting of trauma, this is  concerning for a grade 1 left kidney injury.  2.  partially calcified left lower lobe nodule is also visible on same day radiograph and may  represent a prior granulomatous disease 3.  sequela of prior granulomatous disease of the spleen.</td>\n",
       "    </tr>\n",
       "  </tbody>\n",
       "</table>\n",
       "<p>307 rows × 3 columns</p>\n",
       "</div>"
      ],
      "text/plain": [
       "            ID  \\\n",
       "1989  Z1929867   \n",
       "1995  Z1929500   \n",
       "1795  Z1947621   \n",
       "1794  Z1973497   \n",
       "1731  Z1864582   \n",
       "...        ...   \n",
       "950    Z627309   \n",
       "1797  Z1058129   \n",
       "787    Z283402   \n",
       "1271   Z855060   \n",
       "781    Z906949   \n",
       "\n",
       "                                                                                                                                                                                                                                                                                                                                                                                                                                                                                                                                                                                                                                                                                                                                                                                                                                                                                                                                                                                                                                                                                                                                                                                                                                                                                                                                                                                                                                                                           STUDYRESULT  \\\n",
       "1989                                                                                                                                                                                                                                                                                                                                                                                                                                                                                                                                                                                                                                                                                                                                                                  clinical history: 2-month-old, ropa. comparison: skeletal survey 1/20/2018 procedure comments: ct of the abdomen and pelvis was performed with intravenous contrast. findings: lower thorax: diffuse groundglass opacities at the lung bases . liver and biliary system: normal. spleen: normal. pancreas: not well visualized. no gross abnormalities. adrenal glands: normal. kidneys, ureters, and bladder: normal. increased medullary pyramidal enhancement bilaterally  bowel: normal. appendix: the appendix is not identified. peritoneal cavity: no free fluid. uterus and ovaries: no gross abnormality. vasculature: normal. lymph nodes: normal. abdominal wall: normal. osseous structures: normal.   \n",
       "1995                                                                                                                                                                                                                                                                                                                                                                                                                                                   clinical history: 2-month-old male with portal venous gas seen on doppler ultrasound of liver, also  with hematochezia. ct was performed to assess the intestinal wall and to evaluate for an av  malformation. comparison: ultrasound and radiographs of the abdomen 1/12/2018 procedure comments: ct of the abdomen and pelvis was performed with intravenous contrast. findings: lower thorax: mild dependent changes are seen at the lung bases. mild lobular air trapping in both  lower lobes. liver and biliary system: normal. no portal venous gas is noted. spleen: normal. pancreas: normal. adrenal glands: a punctate calcification is seen in the right adrenal gland. kidneys, ureters, and bladder: the right kidney appears to be a non-dilated duplex system. bowel: normal. i see no findings to suggest bowel ischemia. appendix: the appendix is identified and is normal. peritoneal cavity: no free fluid. vasculature: normal. lymph nodes: normal. abdominal wall: normal. osseous structures: normal.   \n",
       "1795  clinical history: 1 day of brown vomit and nonbloody diarrhea, distended colon on axr, guarding on  abd exam, ill appearing.  history in epic confirmed with mom. comparison: upper gi 3/1/2018 procedure comments: ct of the abdomen and pelvis was performed with intravenous contrast. findings: examination is mildly degraded by patient motion. lower thorax: normal. liver and biliary system: normal. spleen: normal. pancreas: normal. adrenal glands: normal. kidneys, ureters, and bladder: normal. motion artifact particularly limits evaluation of the left  kidney, but it appears grossly normal. bowel: multiple dilated, fluid-filled loops of small bowel favored to represent distal jejunum and  proximal ileum are seen in the mid abdomen. the most prominent loop of small bowel is seen in the  upper right and mid abdomen and likely corresponds to a previously noted distended small bowel loop  on the upper gi series from march 2018. there is a relatively smooth transition from this most  likely related loop of bowel to normal caliber ileum in the right upper quadrant. no findings of  closed loop obstruction. bowel wall enhances normally. the colon is normal in appearance. a moderate  amount of stool seen throughout the colon and rectum.  appendix: the appendix is identified and is normal. peritoneal cavity: no free fluid. vasculature: normal. lymph nodes: normal. abdominal wall: normal. osseous structures: normal.   \n",
       "1794                                                                                                                                                                                                                                                                                                                                                                                                                                                                                                                                                                                                                                                                                                                                                                                                                                                                                                      clinical history: 5m with elevated lfts after fall down 17 stairs.  per mom, fall down stairs today. comparison: none. procedure comments: ct of the abdomen and pelvis was performed with intravenous contrast. findings: lower thorax: normal. liver and biliary system: normal. spleen: normal. pancreas: normal. adrenal glands: normal. kidneys, ureters, and bladder: normal. bowel: normal. appendix: the appendix is not identified. peritoneal cavity: no free fluid. vasculature: normal. lymph nodes: normal. abdominal wall: normal. osseous structures: normal.   \n",
       "1731                                                                                                                                                                                                                                                                                                                                                                                                                                                                                                                                                                                                                                           clinical history: 22 mo male with recurrent ileo colic intussusception.  history in epic confirmed  with anes nurse eric. comparison: none procedure comments: ct of the abdomen and pelvis was performed with intravenous contrast. findings: lower thorax: dependent atelectasis lung bases. liver and biliary system: normal. spleen: normal. pancreas: normal. adrenal glands: normal. kidneys, ureters, and bladder: normal. bowel: there is thickening of the terminal presently 6 in meters in length. moderate stool is  visible in the colon. appendix: the appendix is identified and is normal. peritoneal cavity: no free fluid. vasculature: normal. lymph nodes: there numerous lymph nodes in the right lower quadrant measuring up to 6 mm in short  axis diameter. abdominal wall: normal. osseous structures: normal.   \n",
       "...                                                                                                                                                                                                                                                                                                                                                                                                                                                                                                                                                                                                                                                                                                                                                                                                                                                                                                                                                                                                                                                                                                                                                                                                                                                                                                                                                                                                                                                                                ...   \n",
       "950      clinical history: 18-year-old with moderate hydronephrosis.  outside read. comparison: 6/1/2007. procedure comments: ct of the abdomen was performed with intravenous and oral contrast.  examination  was performed at adams county regional medical center on 11/19/2010 and is submitted for  interpretation on 12/2/2010. findings: lower thorax: normal. liver and biliary system: normal. spleen: the spleen is surgically absent.  numerous small splenules are noted in the left upper  quadrant. pancreas: normal adrenal glands: the right adrenal gland is normal.  the left adrenal gland is not seen. kidneys and ureters: the left kidney is surgically absent.  there is mild dilation of the right  renal pelvis which appears similar to prior examinations.  the renal parenchyma enhances normally.   there is no perinephric stranding or fluid collection. bowel: normal. appendix: normal peritoneal cavity: no free fluid. vasculature: normal. lymph nodes: normal. abdominal wall: diastasis of the musculature at the midline anterior abdominal wall is noted,  related to prior surgery.  there is ill-defined soft tissue density within the subcutaneous fat at  the right inferior aspect of the defect, best seen on image 48 of series 3.  no oral contrast is  seen extending into this region. loops of small bowel are present abutting the diastatic abdominal  wall, though there is no frank herniation.   osseous structures: normal.   \n",
       "1797                                                             clinical history: 18 yo m with peritoneal signs on belly exam diffusely and hx urethral strictures  and repairs. renal and bladder u/s with only mild r urothelial thickening yesterday in ed..  comparison: same day abdominal radiograph and renal ultrasound 9/20/2018 procedure comments: ct of the abdomen and pelvis was performed with intravenous contrast. findings: lower thorax: normal. liver and biliary system: normal. spleen: normal. pancreas: normal. adrenal glands: normal. kidneys, ureters, and bladder: the kidneys are normal with no evidence of hydronephrosis or  obstruction. delayed phase images demonstrate symmetric opacification of the renal collecting  systems and bilateral ureters throughout their course with no evidence of a defect or obstruction.  the bladder is normal.. bowel: there may be a tiny hiatal hernia. there is a moderate amount of stool seen throughout the  colon and fecalized small bowel contents within the lower abdomen. appendix: the appendix is identified and is normal. peritoneal cavity: no free fluid or free fluid. a calcification is seen within the deep left pelvis,  likely representing a phlebolith.  vasculature: normal. lymph nodes: scattered nonenlarged mesenteric lymph nodes are seen. abdominal wall: normal. osseous structures: there are multilevel schmorl's nodes throughout the lower thoracic and lumbar  spine.   \n",
       "787                                                                                                                                                                                                                                                                                                                                                                                                                                                                                                                                                                                                                                                                                                                                                                                                                                                                                                                                clinical history: 18 yo male with continued weight loss.. comparison: none procedure comments: ct of the abdomen and pelvis was performed with intravenous and oral contrast. findings: lower thorax: normal. liver and biliary system: normal. spleen: normal. pancreas: normal. adrenal glands: normal. kidneys, ureters, and bladder: normal. bowel: normal. appendix: the appendix is identified and is normal. peritoneal cavity: no free fluid. vasculature: normal. lymph nodes: normal. abdominal wall: normal. osseous structures: normal.   \n",
       "1271                                                                                                                                                                                                                                                                                                                                                                                                                                                                                                                                                                                                                                                                                                                                                                                                                                                      clinical history: 18-year-old with one week of nausea and vomiting. comparison: none procedure comments: ct of the abdomen and pelvis was performed with intravenous contrast. patient  was not able to tolerate oral contrast. findings: lower thorax: normal. liver and biliary system: normal. gallbladder is normal. spleen: normal. pancreas: normal. adrenal glands: normal. kidneys, ureters, and bladder: normal. bowel: normal. appendix: the appendix is identified and is normal. peritoneal cavity: no free fluid. vasculature: normal. lymph nodes: normal. abdominal wall: normal. osseous structures: normal.   \n",
       "781                                                                                                                                                                                                                                                                                                                                                                                                                                                                                                                                                                                                                                                                         clinical history: 18-year-old with abdominal tenderness status post being punched today. comparison: same day chest radiograph. procedure comments: ct of the abdomen and pelvis was performed with intravenous contrast. findings: lower thorax: there is a 1.4 cm partially calcified nodule within the left lower lobe. liver and biliary system: normal. spleen: calcified granulomata.  pancreas: normal. adrenal glands: normal. kidneys, ureters, and bladder: there is a small amount of fluid near the lower pole of the left  kidney. no parenchymal defect is identified. the right kidney is normal. bowel: normal. appendix: the appendix is not identified.  peritoneal cavity: no free fluid. vasculature: normal. lymph nodes: normal. abdominal wall: normal. osseous structures: normal.   \n",
       "\n",
       "                                                                                                                                                                                                                                                                                                                                                                                                                                                       IMPRESSION  \n",
       "1989                                                                                                                                                                                                                                                                                                     1.  dense medullary pyramids. this may relate reflect pooling of contrast versus nephrocalcinosis.  the former is favored. 2.  no traumatic abnormality.  \n",
       "1995                                    1.  there is no evidence of portal venous gas. 2.  no findings to suggest an arteriovenous malformation. 3.  punctate calcification in the right adrenal gland is likely due to the sequela of neonatal  hemorrhage. 4.  suspected duplex right renal collecting system without pelvocaliectasis or ureterectasis. radiology fellow yinan li discussed the above findings with dr. asai on 1/13/2018 11:54 am in  person.  \n",
       "1795                                         1.  dilated fluid-filled mid small bowel corresponding with previously noted distended small bowel  loops on upper gi series from march 2018. given persistent appearance, findings may be secondary to  ileal stenosis, congenital band, or dysfunctional bowel resulting in partial or functional  obstruction.  2.  normal colon with moderate stool throughout. 3.  normal appendix in the right lower quadrant.  \n",
       "1794                                                                                                                                                                                                                                                                                                                                                                                                                         normal ct of the abdomen and pelvis.  \n",
       "1731                                                                                                                                                                                                                                                                                                                                                                          findings suggest ileitis with right lower quadrant likely reactive lymphadenopathy.  \n",
       "...                                                                                                                                                                                                                                                                                                                                                                                                                                                           ...  \n",
       "950   impression: 1.  post operative findings from left nephrectomy and splenectomy related to prior trauma. 2.  postoperative diastasis of the abdominal wall without bowel herniation. 3.  ill-defined soft tissue density in the right anterior subcutaneous fat.  findings are  nonspecific and could be postsurgical scarring versus infectious/inflammatory in etiology. 4.  moderate pelvocaliectasis of the right kidney which is similar to prior exams.  \n",
       "1797                                                                                                                                                                                                                                                                                                                                                                                                             essentially normal ct of the abdomen and pelvis.  \n",
       "787                                                                                                                                                                                                                                                                                                                                                                                                              impression: normal ct of the abdomen and pelvis.  \n",
       "1271                                                                                                                                                                                                                                                                                                         impression: normal ct of the abdomen and pelvis. specifically, the appendix is normal and no alternative  etiology for patient's symptoms identified  \n",
       "781                                                                                               impression: 1.  small amount of fluid near the lower pole of the left kidney. in the setting of trauma, this is  concerning for a grade 1 left kidney injury.  2.  partially calcified left lower lobe nodule is also visible on same day radiograph and may  represent a prior granulomatous disease 3.  sequela of prior granulomatous disease of the spleen.  \n",
       "\n",
       "[307 rows x 3 columns]"
      ]
     },
     "metadata": {},
     "output_type": "display_data"
    }
   ],
   "source": [
    "display(df_no_pain_aps_tr)"
   ]
  },
  {
   "cell_type": "code",
   "execution_count": 160,
   "metadata": {},
   "outputs": [
    {
     "name": "stdout",
     "output_type": "stream",
     "text": [
      "accounted  2350  unaccounted:  -159\n"
     ]
    }
   ],
   "source": [
    "accounted = len(df_SR_aps) + len(df_SR_tr) + len(df_SR_pain)\n",
    "unaccounted = len(df_SR) - accounted\n",
    "print('accounted ' , accounted, ' unaccounted: ', unaccounted)"
   ]
  },
  {
   "cell_type": "markdown",
   "metadata": {},
   "source": [
    "### Identify split of patients in the Other Race Group for AJR"
   ]
  },
  {
   "cell_type": "code",
   "execution_count": 161,
   "metadata": {},
   "outputs": [],
   "source": [
    "df_analysis_2ab = df_analysis[df_analysis['Age'] >= 2]\n",
    "df_others = df_analysis_2ab.loc[(df_analysis_2ab['Race']!='Black or African American') & (df_analysis_2ab['Race']!='White'),['ID','Race']]"
   ]
  },
  {
   "cell_type": "code",
   "execution_count": 162,
   "metadata": {},
   "outputs": [
    {
     "data": {
      "text/plain": [
       "array(['White', 'Black or African American', 'Hispanic/Latino', 'Asian',\n",
       "       'Unknown', 'Patient Refused', 'American Indian and Alaska Native',\n",
       "       'Other', 'Native Hawaiian and Other Pacific Islander',\n",
       "       'Middle Eastern'], dtype=object)"
      ]
     },
     "execution_count": 162,
     "metadata": {},
     "output_type": "execute_result"
    }
   ],
   "source": [
    "df_analysis_2ab['Race'].unique()"
   ]
  },
  {
   "cell_type": "code",
   "execution_count": 163,
   "metadata": {},
   "outputs": [
    {
     "data": {
      "text/html": [
       "<div>\n",
       "<style scoped>\n",
       "    .dataframe tbody tr th:only-of-type {\n",
       "        vertical-align: middle;\n",
       "    }\n",
       "\n",
       "    .dataframe tbody tr th {\n",
       "        vertical-align: top;\n",
       "    }\n",
       "\n",
       "    .dataframe thead th {\n",
       "        text-align: right;\n",
       "    }\n",
       "</style>\n",
       "<table border=\"1\" class=\"dataframe\">\n",
       "  <thead>\n",
       "    <tr style=\"text-align: right;\">\n",
       "      <th></th>\n",
       "      <th>ID</th>\n",
       "      <th>Race</th>\n",
       "    </tr>\n",
       "  </thead>\n",
       "  <tbody>\n",
       "    <tr>\n",
       "      <th>count</th>\n",
       "      <td>137</td>\n",
       "      <td>137</td>\n",
       "    </tr>\n",
       "    <tr>\n",
       "      <th>unique</th>\n",
       "      <td>137</td>\n",
       "      <td>8</td>\n",
       "    </tr>\n",
       "    <tr>\n",
       "      <th>top</th>\n",
       "      <td>Z841643</td>\n",
       "      <td>Other</td>\n",
       "    </tr>\n",
       "    <tr>\n",
       "      <th>freq</th>\n",
       "      <td>1</td>\n",
       "      <td>60</td>\n",
       "    </tr>\n",
       "  </tbody>\n",
       "</table>\n",
       "</div>"
      ],
      "text/plain": [
       "             ID   Race\n",
       "count       137    137\n",
       "unique      137      8\n",
       "top     Z841643  Other\n",
       "freq          1     60"
      ]
     },
     "execution_count": 163,
     "metadata": {},
     "output_type": "execute_result"
    }
   ],
   "source": [
    "df_others.describe()"
   ]
  },
  {
   "cell_type": "code",
   "execution_count": 164,
   "metadata": {},
   "outputs": [
    {
     "name": "stdout",
     "output_type": "stream",
     "text": [
      "Male split -  Black:  18.21668264621285 % Others:  5.848513902205178 % White:  75.93480345158197\n",
      "FeMale split -  Black:  12.177777777777777 % Others:  6.7555555555555555 % White:  81.06666666666666\n"
     ]
    }
   ],
   "source": [
    "# Male proportion # values from Table 1\n",
    "b_m = 190*100/1043\n",
    "o_m = 61*100/1043\n",
    "w_m  = 792*100/1043\n",
    "print('Male split -  Black: ', b_m ,'% Others: ', o_m,'% White: ',w_m)\n",
    "# female proportion\n",
    "b_f = 137*100/1125\n",
    "o_f = 76*100/1125\n",
    "w_f  = 912*100/1125\n",
    "print('FeMale split -  Black: ', b_f ,'% Others: ', o_f,'% White: ',w_f)"
   ]
  },
  {
   "cell_type": "markdown",
   "metadata": {},
   "source": [
    "### Total mean age and std age for AJR"
   ]
  },
  {
   "cell_type": "code",
   "execution_count": 187,
   "metadata": {},
   "outputs": [
    {
     "data": {
      "text/plain": [
       "count    1043.000000\n",
       "mean       11.516991\n",
       "std         4.450749\n",
       "min         2.002243\n",
       "25%         7.894481\n",
       "50%        12.163706\n",
       "75%        15.274682\n",
       "max        18.901457\n",
       "Name: Age, dtype: float64"
      ]
     },
     "execution_count": 187,
     "metadata": {},
     "output_type": "execute_result"
    }
   ],
   "source": [
    "df_m['Age'].describe()"
   ]
  },
  {
   "cell_type": "code",
   "execution_count": 186,
   "metadata": {},
   "outputs": [
    {
     "data": {
      "text/plain": [
       "count    1125.000000\n",
       "mean       12.997769\n",
       "std         4.073768\n",
       "min         2.046210\n",
       "25%        10.451020\n",
       "50%        14.125752\n",
       "75%        16.172369\n",
       "max        18.944104\n",
       "Name: Age, dtype: float64"
      ]
     },
     "execution_count": 186,
     "metadata": {},
     "output_type": "execute_result"
    }
   ],
   "source": [
    "df_f['Age'].describe()"
   ]
  },
  {
   "cell_type": "code",
   "execution_count": 185,
   "metadata": {},
   "outputs": [
    {
     "data": {
      "text/plain": [
       "count    2169.000000\n",
       "mean       12.288486\n",
       "std         4.323549\n",
       "min         2.002243\n",
       "25%         9.126282\n",
       "50%        13.223206\n",
       "75%        15.832188\n",
       "max        19.013558\n",
       "Name: Age, dtype: float64"
      ]
     },
     "execution_count": 185,
     "metadata": {},
     "output_type": "execute_result"
    }
   ],
   "source": [
    "df_analysis_2ab['Age'].describe()"
   ]
  },
  {
   "cell_type": "markdown",
   "metadata": {
    "slideshow": {
     "slide_type": "slide"
    }
   },
   "source": [
    "## Population statistics in comparison to CDC/WHO data"
   ]
  },
  {
   "cell_type": "code",
   "execution_count": 165,
   "metadata": {
    "slideshow": {
     "slide_type": "skip"
    }
   },
   "outputs": [],
   "source": [
    "#Step3: Loop over each unique date in the studies dataframe df_F\n",
    "def get_agewise_stats(df_in):\n",
    "    uniqueages = df_in.AgeGroup.unique() \n",
    "    column_names = ['AgeGroup','Age_IQR','median_area_cm2','median_SMI','samplesize']\n",
    "    df_C = pd.DataFrame(columns = column_names)\n",
    "    #display(df_C)\n",
    "    for age in uniqueages:\n",
    "        df_l = df_in[df_in['AgeGroup']==age]\n",
    "        #mean_ar = np.mean(df_l['area_cm2'])\n",
    "        median_ar = np.median(df_l['area_cm2'])\n",
    "        median_SMI = np.nanmedian(df_l['smi'])\n",
    "        q75, q25 = np.percentile(df_l['Age'], [75 ,25])\n",
    "        age_iqr = q75 - q25\n",
    "        samplesize = len(df_l)\n",
    "        #print([age,mean_ar,median_ar,samplesize])\n",
    "        df = pd.DataFrame([[age,age_iqr,median_ar,median_SMI,samplesize]],columns=column_names)\n",
    "        #display(df)\n",
    "        df_C = pd.concat([df_C,df])\n",
    "    return df_C"
   ]
  },
  {
   "cell_type": "code",
   "execution_count": 166,
   "metadata": {
    "scrolled": true,
    "slideshow": {
     "slide_type": "slide"
    }
   },
   "outputs": [
    {
     "name": "stdout",
     "output_type": "stream",
     "text": [
      "Count statistics stratified by gender and age group\n",
      "(M - Male) (F-Female)\n"
     ]
    },
    {
     "data": {
      "text/html": [
       "<div>\n",
       "<style scoped>\n",
       "    .dataframe tbody tr th:only-of-type {\n",
       "        vertical-align: middle;\n",
       "    }\n",
       "\n",
       "    .dataframe tbody tr th {\n",
       "        vertical-align: top;\n",
       "    }\n",
       "\n",
       "    .dataframe thead th {\n",
       "        text-align: right;\n",
       "    }\n",
       "</style>\n",
       "<table border=\"1\" class=\"dataframe\">\n",
       "  <thead>\n",
       "    <tr style=\"text-align: right;\">\n",
       "      <th></th>\n",
       "      <th>AgeGroup_F</th>\n",
       "      <th>Age_IQR_F</th>\n",
       "      <th>median_area_cm2_F</th>\n",
       "      <th>median_SMI_F</th>\n",
       "      <th>samplesize_F</th>\n",
       "      <th>AgeGroup_M</th>\n",
       "      <th>Age_IQR_M</th>\n",
       "      <th>median_area_cm2_M</th>\n",
       "      <th>median_SMI_M</th>\n",
       "      <th>samplesize_M</th>\n",
       "    </tr>\n",
       "  </thead>\n",
       "  <tbody>\n",
       "    <tr>\n",
       "      <th>0</th>\n",
       "      <td>0.0</td>\n",
       "      <td>0.084796</td>\n",
       "      <td>18.652997</td>\n",
       "      <td>57.867612</td>\n",
       "      <td>6</td>\n",
       "      <td>0.0</td>\n",
       "      <td>0.206801</td>\n",
       "      <td>19.839620</td>\n",
       "      <td>57.837493</td>\n",
       "      <td>11</td>\n",
       "    </tr>\n",
       "    <tr>\n",
       "      <th>0</th>\n",
       "      <td>1.0</td>\n",
       "      <td>0.455484</td>\n",
       "      <td>29.410056</td>\n",
       "      <td>41.829557</td>\n",
       "      <td>3</td>\n",
       "      <td>1.0</td>\n",
       "      <td>0.000251</td>\n",
       "      <td>32.862968</td>\n",
       "      <td>47.651174</td>\n",
       "      <td>2</td>\n",
       "    </tr>\n",
       "    <tr>\n",
       "      <th>0</th>\n",
       "      <td>2.0</td>\n",
       "      <td>0.421892</td>\n",
       "      <td>33.671110</td>\n",
       "      <td>40.082557</td>\n",
       "      <td>19</td>\n",
       "      <td>2.0</td>\n",
       "      <td>0.299689</td>\n",
       "      <td>35.466114</td>\n",
       "      <td>42.537933</td>\n",
       "      <td>35</td>\n",
       "    </tr>\n",
       "    <tr>\n",
       "      <th>0</th>\n",
       "      <td>3.0</td>\n",
       "      <td>0.312682</td>\n",
       "      <td>38.022487</td>\n",
       "      <td>38.678640</td>\n",
       "      <td>22</td>\n",
       "      <td>3.0</td>\n",
       "      <td>0.525317</td>\n",
       "      <td>39.725392</td>\n",
       "      <td>40.104204</td>\n",
       "      <td>39</td>\n",
       "    </tr>\n",
       "    <tr>\n",
       "      <th>0</th>\n",
       "      <td>4.0</td>\n",
       "      <td>0.404026</td>\n",
       "      <td>39.722193</td>\n",
       "      <td>35.444461</td>\n",
       "      <td>17</td>\n",
       "      <td>4.0</td>\n",
       "      <td>0.408744</td>\n",
       "      <td>47.247928</td>\n",
       "      <td>39.364745</td>\n",
       "      <td>34</td>\n",
       "    </tr>\n",
       "    <tr>\n",
       "      <th>0</th>\n",
       "      <td>5.0</td>\n",
       "      <td>0.561457</td>\n",
       "      <td>46.824046</td>\n",
       "      <td>35.704454</td>\n",
       "      <td>27</td>\n",
       "      <td>5.0</td>\n",
       "      <td>0.517024</td>\n",
       "      <td>51.085545</td>\n",
       "      <td>39.372846</td>\n",
       "      <td>45</td>\n",
       "    </tr>\n",
       "    <tr>\n",
       "      <th>0</th>\n",
       "      <td>6.0</td>\n",
       "      <td>0.325437</td>\n",
       "      <td>46.835100</td>\n",
       "      <td>33.450946</td>\n",
       "      <td>39</td>\n",
       "      <td>6.0</td>\n",
       "      <td>0.445364</td>\n",
       "      <td>51.776582</td>\n",
       "      <td>36.786229</td>\n",
       "      <td>52</td>\n",
       "    </tr>\n",
       "    <tr>\n",
       "      <th>0</th>\n",
       "      <td>13.0</td>\n",
       "      <td>0.496507</td>\n",
       "      <td>92.737925</td>\n",
       "      <td>36.146844</td>\n",
       "      <td>102</td>\n",
       "      <td>7.0</td>\n",
       "      <td>0.553034</td>\n",
       "      <td>58.549062</td>\n",
       "      <td>36.833798</td>\n",
       "      <td>60</td>\n",
       "    </tr>\n",
       "    <tr>\n",
       "      <th>0</th>\n",
       "      <td>7.0</td>\n",
       "      <td>0.568820</td>\n",
       "      <td>51.911274</td>\n",
       "      <td>33.515501</td>\n",
       "      <td>38</td>\n",
       "      <td>8.0</td>\n",
       "      <td>0.423236</td>\n",
       "      <td>63.356002</td>\n",
       "      <td>36.107026</td>\n",
       "      <td>49</td>\n",
       "    </tr>\n",
       "    <tr>\n",
       "      <th>0</th>\n",
       "      <td>8.0</td>\n",
       "      <td>0.620310</td>\n",
       "      <td>56.929601</td>\n",
       "      <td>33.441124</td>\n",
       "      <td>48</td>\n",
       "      <td>9.0</td>\n",
       "      <td>0.500686</td>\n",
       "      <td>70.845328</td>\n",
       "      <td>36.812588</td>\n",
       "      <td>44</td>\n",
       "    </tr>\n",
       "    <tr>\n",
       "      <th>0</th>\n",
       "      <td>9.0</td>\n",
       "      <td>0.593586</td>\n",
       "      <td>63.244336</td>\n",
       "      <td>33.415565</td>\n",
       "      <td>55</td>\n",
       "      <td>10.0</td>\n",
       "      <td>0.464915</td>\n",
       "      <td>73.235791</td>\n",
       "      <td>35.975422</td>\n",
       "      <td>72</td>\n",
       "    </tr>\n",
       "    <tr>\n",
       "      <th>0</th>\n",
       "      <td>10.0</td>\n",
       "      <td>0.375952</td>\n",
       "      <td>70.235886</td>\n",
       "      <td>32.733807</td>\n",
       "      <td>58</td>\n",
       "      <td>11.0</td>\n",
       "      <td>0.545677</td>\n",
       "      <td>79.997675</td>\n",
       "      <td>37.844209</td>\n",
       "      <td>74</td>\n",
       "    </tr>\n",
       "    <tr>\n",
       "      <th>0</th>\n",
       "      <td>11.0</td>\n",
       "      <td>0.344476</td>\n",
       "      <td>80.278160</td>\n",
       "      <td>35.283296</td>\n",
       "      <td>55</td>\n",
       "      <td>12.0</td>\n",
       "      <td>0.558441</td>\n",
       "      <td>92.000000</td>\n",
       "      <td>38.154163</td>\n",
       "      <td>87</td>\n",
       "    </tr>\n",
       "    <tr>\n",
       "      <th>0</th>\n",
       "      <td>12.0</td>\n",
       "      <td>0.458375</td>\n",
       "      <td>87.620923</td>\n",
       "      <td>35.994908</td>\n",
       "      <td>71</td>\n",
       "      <td>13.0</td>\n",
       "      <td>0.541863</td>\n",
       "      <td>103.890853</td>\n",
       "      <td>38.467696</td>\n",
       "      <td>80</td>\n",
       "    </tr>\n",
       "    <tr>\n",
       "      <th>0</th>\n",
       "      <td>14.0</td>\n",
       "      <td>0.481889</td>\n",
       "      <td>97.863360</td>\n",
       "      <td>37.057049</td>\n",
       "      <td>124</td>\n",
       "      <td>14.0</td>\n",
       "      <td>0.559671</td>\n",
       "      <td>124.143986</td>\n",
       "      <td>42.386098</td>\n",
       "      <td>82</td>\n",
       "    </tr>\n",
       "    <tr>\n",
       "      <th>0</th>\n",
       "      <td>15.0</td>\n",
       "      <td>0.506728</td>\n",
       "      <td>98.561848</td>\n",
       "      <td>36.072887</td>\n",
       "      <td>143</td>\n",
       "      <td>15.0</td>\n",
       "      <td>0.471271</td>\n",
       "      <td>136.132177</td>\n",
       "      <td>45.220736</td>\n",
       "      <td>97</td>\n",
       "    </tr>\n",
       "    <tr>\n",
       "      <th>0</th>\n",
       "      <td>16.0</td>\n",
       "      <td>0.452327</td>\n",
       "      <td>98.760957</td>\n",
       "      <td>37.176037</td>\n",
       "      <td>137</td>\n",
       "      <td>16.0</td>\n",
       "      <td>0.493245</td>\n",
       "      <td>141.359514</td>\n",
       "      <td>44.839421</td>\n",
       "      <td>91</td>\n",
       "    </tr>\n",
       "    <tr>\n",
       "      <th>0</th>\n",
       "      <td>17.0</td>\n",
       "      <td>0.448998</td>\n",
       "      <td>103.212870</td>\n",
       "      <td>38.537745</td>\n",
       "      <td>127</td>\n",
       "      <td>17.0</td>\n",
       "      <td>0.451440</td>\n",
       "      <td>146.998736</td>\n",
       "      <td>45.851819</td>\n",
       "      <td>73</td>\n",
       "    </tr>\n",
       "    <tr>\n",
       "      <th>0</th>\n",
       "      <td>18.0</td>\n",
       "      <td>0.515312</td>\n",
       "      <td>98.087708</td>\n",
       "      <td>37.014503</td>\n",
       "      <td>43</td>\n",
       "      <td>18.0</td>\n",
       "      <td>0.399669</td>\n",
       "      <td>143.719749</td>\n",
       "      <td>46.775195</td>\n",
       "      <td>29</td>\n",
       "    </tr>\n",
       "  </tbody>\n",
       "</table>\n",
       "</div>"
      ],
      "text/plain": [
       "   AgeGroup_F  Age_IQR_F  median_area_cm2_F  median_SMI_F samplesize_F  \\\n",
       "0         0.0   0.084796          18.652997     57.867612            6   \n",
       "0         1.0   0.455484          29.410056     41.829557            3   \n",
       "0         2.0   0.421892          33.671110     40.082557           19   \n",
       "0         3.0   0.312682          38.022487     38.678640           22   \n",
       "0         4.0   0.404026          39.722193     35.444461           17   \n",
       "0         5.0   0.561457          46.824046     35.704454           27   \n",
       "0         6.0   0.325437          46.835100     33.450946           39   \n",
       "0        13.0   0.496507          92.737925     36.146844          102   \n",
       "0         7.0   0.568820          51.911274     33.515501           38   \n",
       "0         8.0   0.620310          56.929601     33.441124           48   \n",
       "0         9.0   0.593586          63.244336     33.415565           55   \n",
       "0        10.0   0.375952          70.235886     32.733807           58   \n",
       "0        11.0   0.344476          80.278160     35.283296           55   \n",
       "0        12.0   0.458375          87.620923     35.994908           71   \n",
       "0        14.0   0.481889          97.863360     37.057049          124   \n",
       "0        15.0   0.506728          98.561848     36.072887          143   \n",
       "0        16.0   0.452327          98.760957     37.176037          137   \n",
       "0        17.0   0.448998         103.212870     38.537745          127   \n",
       "0        18.0   0.515312          98.087708     37.014503           43   \n",
       "\n",
       "   AgeGroup_M  Age_IQR_M  median_area_cm2_M  median_SMI_M samplesize_M  \n",
       "0         0.0   0.206801          19.839620     57.837493           11  \n",
       "0         1.0   0.000251          32.862968     47.651174            2  \n",
       "0         2.0   0.299689          35.466114     42.537933           35  \n",
       "0         3.0   0.525317          39.725392     40.104204           39  \n",
       "0         4.0   0.408744          47.247928     39.364745           34  \n",
       "0         5.0   0.517024          51.085545     39.372846           45  \n",
       "0         6.0   0.445364          51.776582     36.786229           52  \n",
       "0         7.0   0.553034          58.549062     36.833798           60  \n",
       "0         8.0   0.423236          63.356002     36.107026           49  \n",
       "0         9.0   0.500686          70.845328     36.812588           44  \n",
       "0        10.0   0.464915          73.235791     35.975422           72  \n",
       "0        11.0   0.545677          79.997675     37.844209           74  \n",
       "0        12.0   0.558441          92.000000     38.154163           87  \n",
       "0        13.0   0.541863         103.890853     38.467696           80  \n",
       "0        14.0   0.559671         124.143986     42.386098           82  \n",
       "0        15.0   0.471271         136.132177     45.220736           97  \n",
       "0        16.0   0.493245         141.359514     44.839421           91  \n",
       "0        17.0   0.451440         146.998736     45.851819           73  \n",
       "0        18.0   0.399669         143.719749     46.775195           29  "
      ]
     },
     "metadata": {},
     "output_type": "display_data"
    }
   ],
   "source": [
    "print('Count statistics stratified by gender and age group')\n",
    "print('(M - Male) (F-Female)')    \n",
    "df_f_agestats = get_agewise_stats(df_f).add_suffix('_F')\n",
    "df_m_agestats = get_agewise_stats(df_m).add_suffix('_M')\n",
    "\n",
    "display(pd.concat([df_f_agestats,df_m_agestats],axis=1))\n",
    "df_f_agestats.to_csv(output+'/Female_summary.csv',index=False)\n",
    "df_m_agestats.to_csv(output+'/Male_summary.csv',index=False)"
   ]
  },
  {
   "cell_type": "markdown",
   "metadata": {},
   "source": [
    "### Since n for age = 0 and 1 are less than 10, process only ages 2 and above."
   ]
  },
  {
   "cell_type": "code",
   "execution_count": 167,
   "metadata": {},
   "outputs": [
    {
     "name": "stdout",
     "output_type": "stream",
     "text": [
      "NO of Females before filtering pats < 2yrs:  1134\n",
      "NO of Males before filtering pats < 2yrs:  1056\n"
     ]
    }
   ],
   "source": [
    "print('NO of Females before filtering pats < 2yrs: ', len(df_f))\n",
    "print('NO of Males before filtering pats < 2yrs: ', len(df_m))"
   ]
  },
  {
   "cell_type": "code",
   "execution_count": 168,
   "metadata": {},
   "outputs": [],
   "source": [
    "df_f = df_f[df_f['Age'] >= 2]\n",
    "df_m = df_m[df_m['Age'] >= 2]     "
   ]
  },
  {
   "cell_type": "code",
   "execution_count": 169,
   "metadata": {},
   "outputs": [
    {
     "name": "stdout",
     "output_type": "stream",
     "text": [
      "NO of Females after filtering pats < 2yrs:  1125\n",
      "NO of Males after filtering pats < 2yrs:  1043\n"
     ]
    }
   ],
   "source": [
    "print('NO of Females after filtering pats < 2yrs: ', len(df_f))\n",
    "print('NO of Males after filtering pats < 2yrs: ', len(df_m))"
   ]
  },
  {
   "cell_type": "markdown",
   "metadata": {},
   "source": [
    "### race split for table 1"
   ]
  },
  {
   "cell_type": "code",
   "execution_count": 171,
   "metadata": {},
   "outputs": [
    {
     "data": {
      "text/plain": [
       "array(['White', 'Black or African American', 'Hispanic/Latino',\n",
       "       'Patient Refused', 'American Indian and Alaska Native', 'Unknown',\n",
       "       'Other', 'Asian', 'Native Hawaiian and Other Pacific Islander',\n",
       "       'Middle Eastern'], dtype=object)"
      ]
     },
     "execution_count": 171,
     "metadata": {},
     "output_type": "execute_result"
    }
   ],
   "source": [
    "df_f['Race'].unique()"
   ]
  },
  {
   "cell_type": "code",
   "execution_count": 180,
   "metadata": {},
   "outputs": [
    {
     "name": "stdout",
     "output_type": "stream",
     "text": [
      "Female whites:  912\n",
      "Female blacks:  137\n",
      "Female Asians:  9\n",
      "Female Hawaiian:  3\n",
      "Female Alaskan:  4\n",
      "Female Others:  35\n",
      "Female MEs:  1\n",
      "Female unknowns:  12\n",
      "Female hispanics:  14\n",
      "Female refused:  1\n"
     ]
    }
   ],
   "source": [
    "print('Female whites: ', len(df_f[df_f['Race'].str.contains('White')]))\n",
    "print('Female blacks: ', len(df_f[df_f['Race'].str.contains('Black')]))\n",
    "print('Female Asians: ', len(df_f[df_f['Race'].str.contains('Asian')]))\n",
    "print('Female Hawaiian: ', len(df_f[df_f['Race'].str.contains('Hawaiian')]))\n",
    "print('Female Alaskan: ', len(df_f[df_f['Race'].str.contains('Alaska')]))\n",
    "print('Female Others: ', len(df_f[df_f['Race'].str.contains('Other')]))\n",
    "print('Female MEs: ', len(df_f[df_f['Race'].str.contains('Middle')]))\n",
    "print('Female unknowns: ', len(df_f[df_f['Race'].str.contains('Unknown')]))\n",
    "print('Female hispanics: ', len(df_f[df_f['Race'].str.contains('Hispanic')]))\n",
    "print('Female refused: ', len(df_f[df_f['Race'].str.contains('Refused')]))"
   ]
  },
  {
   "cell_type": "code",
   "execution_count": 182,
   "metadata": {},
   "outputs": [
    {
     "name": "stdout",
     "output_type": "stream",
     "text": [
      "male whites:  792\n",
      "male blacks:  190\n",
      "male Asians:  11\n",
      "male Hawaiian:  2\n",
      "male Alaskan:  2\n",
      "male Others:  30\n",
      "male MEs:  0\n",
      "male unknowns:  10\n",
      "male hispanics:  6\n",
      "male refused:  2\n"
     ]
    }
   ],
   "source": [
    "print('male whites: ', len(df_m[df_m['Race'].str.contains('White')]))\n",
    "print('male blacks: ', len(df_m[df_m['Race'].str.contains('Black')]))\n",
    "print('male Asians: ', len(df_m[df_m['Race'].str.contains('Asian')]))\n",
    "print('male Hawaiian: ', len(df_m[df_m['Race'].str.contains('Hawaiian')]))\n",
    "print('male Alaskan: ', len(df_m[df_m['Race'].str.contains('Alaska')]))\n",
    "print('male Others: ', len(df_m[df_m['Race'].str.contains('Other')]))\n",
    "print('male MEs: ', len(df_m[df_m['Race'].str.contains('Middle')]))\n",
    "print('male unknowns: ', len(df_m[df_m['Race'].str.contains('Unknown')]))\n",
    "print('male hispanics: ', len(df_m[df_m['Race'].str.contains('Hispanic')]))\n",
    "print('male refused: ', len(df_m[df_m['Race'].str.contains('Refused')]))"
   ]
  },
  {
   "cell_type": "markdown",
   "metadata": {},
   "source": [
    "## Sample Patients for Manuscript Figures"
   ]
  },
  {
   "cell_type": "code",
   "execution_count": null,
   "metadata": {},
   "outputs": [],
   "source": [
    "def oddeven(x):\n",
    "    if x & 1:\n",
    "        return 'odd'\n",
    "    else:\n",
    "        return 'even'"
   ]
  },
  {
   "cell_type": "code",
   "execution_count": null,
   "metadata": {},
   "outputs": [],
   "source": [
    "# Sample 3 year old male with median sma\n",
    "med_sma = 39.73 # From Table above\n",
    "df_3_m = df_m[(df_m['AgeGroup']==3) & (df_m['area_cm2'].between(np.floor(med_sma),np.ceil(med_sma)))].sort_values(by = 'area_cm2',ascending = True)\n",
    "patid = df_3_m.loc[df_3_m['area_cm2']==df_3_m['area_cm2'].median()]['ID'].iloc[0]\n",
    "sma  = df_3_m.loc[df_3_m['area_cm2']==df_3_m['area_cm2'].median()]['area_cm2'].iloc[0]\n",
    "smi  = df_3_m.loc[df_3_m['area_cm2']==df_3_m['area_cm2'].median()]['smi'].iloc[0]\n",
    "print('Median Male patient 3 year old: ', patid, ' with SMA: ', round(sma,2), ' and SMI: ', round(smi,2))"
   ]
  },
  {
   "cell_type": "code",
   "execution_count": null,
   "metadata": {},
   "outputs": [],
   "source": [
    "# Sample 7 year old female with median sma\n",
    "med_sma = 51.91 # From Table above\n",
    "df_7_f = df_f[(df_f['AgeGroup']==7) & (df_f['area_cm2'].between(np.floor(med_sma),np.ceil(med_sma)))].sort_values(by = 'area_cm2',ascending = True)\n",
    "if len(df_7_f) > 2:\n",
    "    patid = df_7_f.loc[df_7_f['area_cm2']==df_7_f['area_cm2'].median()]['ID'].iloc[0]\n",
    "    sma  = df_7_f.loc[df_7_f['area_cm2']==df_7_f['area_cm2'].median()]['area_cm2'].iloc[0]\n",
    "    smi  = df_7_f.loc[df_7_f['area_cm2']==df_7_f['area_cm2'].median()]['smi'].iloc[0]\n",
    "else:\n",
    "    patid = df_7_f['ID'].iloc[0]\n",
    "    sma  = df_7_f['area_cm2'].iloc[0]\n",
    "    smi  = df_7_f['smi'].iloc[0]\n",
    "print('Median FeMale patient 7 year old: ', patid, ' with SMA: ', round(sma,2), ' and SMI: ', round(smi,2))"
   ]
  },
  {
   "cell_type": "code",
   "execution_count": null,
   "metadata": {},
   "outputs": [],
   "source": [
    "# Sample 11 year old male with median sma\n",
    "med_sma_l = 91\n",
    "med_sma_h = 93 # From Table above\n",
    "df_11_m = df_m[(df_m['AgeGroup']==11) & (df_m['area_cm2'].between(np.floor(med_sma_l),np.ceil(med_sma_h)))].sort_values(by = 'area_cm2',ascending = True)\n",
    "#display(df_11_m)\n",
    "ind = int(np.floor(np.median(list(range(0,len(df_11_m))))))\n",
    "patid = df_11_m['ID'].iloc[ind]\n",
    "sma  = df_11_m['area_cm2'].iloc[ind]\n",
    "smi  = df_11_m['smi'].iloc[ind]\n",
    "print('Median Male patient 11 year old: ', patid, ' with SMA: ', round(sma,2), ' and SMI: ', round(smi,2))"
   ]
  },
  {
   "cell_type": "code",
   "execution_count": null,
   "metadata": {},
   "outputs": [],
   "source": [
    "# Sample  16 year old female with median sma\n",
    "med_sma_l = 98\n",
    "med_sma_h = 99 # From Table above\n",
    "df_16_f = df_f[(df_f['AgeGroup']==16) & (df_f['area_cm2'].between(np.floor(med_sma_l),np.ceil(med_sma_h)))].sort_values(by = 'area_cm2',ascending = True)\n",
    "#display(df_16_f)\n",
    "ind = int(np.floor(np.median(list(range(0,len(df_16_f))))))\n",
    "patid = df_16_f['ID'].iloc[ind]\n",
    "sma  = df_16_f['area_cm2'].iloc[ind]\n",
    "smi  = df_16_f['smi'].iloc[ind]\n",
    "print('Median Female patient 16 year old: ', patid, ' with SMA: ', round(sma,2), ' and SMI: ', round(smi,2))"
   ]
  },
  {
   "cell_type": "code",
   "execution_count": null,
   "metadata": {},
   "outputs": [],
   "source": [
    "# Sample 10 year old male at 0.05, 0.25, 0.75 and 0.95 sma\n",
    "q05 = 54.627\n",
    "q05_l = 54\n",
    "q05_h = 57\n",
    "df_tmp = df_m[(df_m['AgeGroup']==10) & (df_m['area_cm2'].between(np.floor(q05_l),np.ceil(q05_h)))].sort_values(by = 'area_cm2',ascending = True)\n",
    "print(len(df_tmp))\n",
    "ind = int(np.floor(np.min(list(range(0,len(df_tmp))))))\n",
    "patid = df_tmp['ID'].iloc[ind]\n",
    "sma  = df_tmp['area_cm2'].iloc[ind]\n",
    "smi  = df_tmp['smi'].iloc[ind]\n",
    "print('Q 0.05 Male patient 10 year old: ', patid, ' with SMA: ', round(sma,2), ' and SMI: ', round(smi,2))\n",
    "\n",
    "q25 = 62.832310335898384\n",
    "df_tmp = df_m[(df_m['AgeGroup']==10) & (df_m['area_cm2'].between(np.floor(q25),np.ceil(q25)))].sort_values(by = 'area_cm2',ascending = True)\n",
    "ind = int(np.floor(np.median(list(range(0,len(df_tmp))))))\n",
    "patid = df_tmp['ID'].iloc[ind]\n",
    "sma  = df_tmp['area_cm2'].iloc[ind]\n",
    "smi  = df_tmp['smi'].iloc[ind]\n",
    "print('Q 0.25 Male patient 10 year old: ', patid, ' with SMA: ', round(sma,2), ' and SMI: ', round(smi,2))\n",
    "\n",
    "q50 = 69.98443148678662\n",
    "df_tmp = df_m[(df_m['AgeGroup']==10) & (df_m['area_cm2'].between(np.floor(q50),np.ceil(q50)))].sort_values(by = 'area_cm2',ascending = True)\n",
    "ind = int(np.floor(np.median(list(range(0,len(df_tmp))))))\n",
    "patid = df_tmp['ID'].iloc[ind]\n",
    "sma  = df_tmp['area_cm2'].iloc[ind]\n",
    "smi  = df_tmp['smi'].iloc[ind]\n",
    "print('Q 0.50 Male patient 10 year old: ', patid, ' with SMA: ', round(sma,2), ' and SMI: ', round(smi,2))\n",
    "\n",
    "q75 = 76.36021542634919\n",
    "df_tmp = df_m[(df_m['AgeGroup']==10) & (df_m['area_cm2'].between(np.floor(q75),np.ceil(q75)))].sort_values(by = 'area_cm2',ascending = True)\n",
    "ind = int(np.floor(np.median(list(range(0,len(df_tmp))))))\n",
    "patid = df_tmp['ID'].iloc[ind]\n",
    "sma  = df_tmp['area_cm2'].iloc[ind]\n",
    "smi  = df_tmp['smi'].iloc[ind]\n",
    "print('Q 0.75 Male patient 10 year old: ', patid, ' with SMA: ', round(sma,2), ' and SMI: ', round(smi,2))\n",
    "\n",
    "q95 = 91.43285125961786\n",
    "q95_l = 90\n",
    "q95_h = 92\n",
    "df_tmp = df_m[(df_m['AgeGroup']==10) & (df_m['area_cm2'].between(np.floor(q95_l),np.ceil(q95_h)))].sort_values(by = 'area_cm2',ascending = True)\n",
    "ind = int(np.floor(np.max(list(range(0,len(df_tmp))))))\n",
    "patid = df_tmp['ID'].iloc[ind]\n",
    "sma  = df_tmp['area_cm2'].iloc[ind]\n",
    "smi  = df_tmp['smi'].iloc[ind]\n",
    "print('Q 0.95 Male patient 10 year old: ', patid, ' with SMA: ', round(sma,2), ' and SMI: ', round(smi,2))"
   ]
  },
  {
   "cell_type": "code",
   "execution_count": null,
   "metadata": {},
   "outputs": [],
   "source": [
    "# Sample 2 patients with manual correction from df_man, minor and major variations.\n",
    "df_man['relativearea_diff'] = abs(df_man['area_mm2'] - df_man['area_mm2_Elan'])/df_man['area_mm2']\n",
    "df_man = df_man.sort_values(by=['relativearea_diff'],ascending=True)\n",
    "#display(df_man)\n",
    "\n",
    "# manual1 Z1762020\n",
    "# manual2 Z981182\n",
    "display(df_analysis[df_analysis['ID']=='Z1762020'])\n",
    "display(df_analysis[df_analysis['ID']=='Z5745'])"
   ]
  },
  {
   "cell_type": "markdown",
   "metadata": {
    "slideshow": {
     "slide_type": "slide"
    }
   },
   "source": [
    "### Calculate Z-scores for bmi, height and weight w.r.t to age from WHO/CDC data"
   ]
  },
  {
   "cell_type": "code",
   "execution_count": 97,
   "metadata": {},
   "outputs": [
    {
     "data": {
      "text/plain": [
       "2168"
      ]
     },
     "execution_count": 97,
     "metadata": {},
     "output_type": "execute_result"
    }
   ],
   "source": [
    "1125+1043"
   ]
  },
  {
   "cell_type": "code",
   "execution_count": null,
   "metadata": {
    "slideshow": {
     "slide_type": "skip"
    }
   },
   "outputs": [],
   "source": [
    "#pip install pygrowup\n",
    "from pygrowup import Calculator\n",
    "from pygrowup import helpers\n",
    "\n",
    "calculator = Calculator(include_cdc=True)\n",
    "\n",
    "def percentile_for_zscore(zscore):\n",
    "    return stats.norm.cdf(zscore)\n",
    "\n",
    "def zscore_for_percentile(p):\n",
    "    return stats.norm.ppf(p)\n",
    "\n",
    "def add_Z_scores(row):\n",
    "    try:\n",
    "        global calculator\n",
    "        valid_age = row['Age']*12\n",
    "        valid_gender = helpers.get_good_sex(row['Sex'])\n",
    "        if (np.isnan(row['HEIGHT'])):\n",
    "            row['height_age_Zscore'] = row[\"HEIGHT\"]\n",
    "        else:\n",
    "            row['height_age_Zscore'] = float(calculator.lhfa(row['HEIGHT'],valid_age,valid_gender))\n",
    "        \n",
    "        if (np.isnan(row['WEIGHT'])):\n",
    "            row['weight_age_Zscore'] = row[\"WEIGHT\"]\n",
    "        else:\n",
    "            row['weight_age_Zscore'] = float(calculator.wfa(row['WEIGHT'],valid_age,valid_gender))\n",
    "            \n",
    "        if (np.isnan(row['BMI_AGE_P'])):\n",
    "            row['bmi_age_Zscore'] = row['BMI_AGE_P']\n",
    "        else:\n",
    "            row['bmi_age_Zscore'] = zscore_for_percentile(row['BMI_AGE_P']/100)\n",
    "    except:\n",
    "        print(row)\n",
    "        raise\n",
    "    return row\n",
    "\n",
    "\n",
    "def add_Zpercentile_scores(row):\n",
    "    try:\n",
    "        if (np.isnan(row['weight_age_Zscore'])):\n",
    "            row['weight_age_Zpercentile'] = row[\"weight_age_Zscore\"]\n",
    "        else:\n",
    "            row['weight_age_Zpercentile'] = 100*percentile_for_zscore(row[\"weight_age_Zscore\"])\n",
    "        \n",
    "        if (np.isnan(row['height_age_Zscore'])):\n",
    "            row['height_age_Zpercentile'] = row[\"height_age_Zscore\"]\n",
    "        else:\n",
    "            row['height_age_Zpercentile'] = 100*percentile_for_zscore(row[\"height_age_Zscore\"])\n",
    "    except:\n",
    "        print(row)\n",
    "        raise\n",
    "    return row"
   ]
  },
  {
   "cell_type": "code",
   "execution_count": null,
   "metadata": {
    "slideshow": {
     "slide_type": "skip"
    }
   },
   "outputs": [],
   "source": [
    "df_m = df_m.apply(add_Z_scores,axis=1)\n",
    "df_m = df_m.rename({'BMI_AGE_P':'bmi_age_Zpercentile'},axis=1)\n",
    "#df_m.weight_age_Zscore = df_m.weight_age_Zscore.astype(float)\n",
    "#df_m.height_age_Zscore = df_m.height_age_Zscore.astype(float)\n",
    "#df_m.bmi_age_Zscore = df_m.bmi_age_Zscore.astype(float)\n",
    "df_m = df_m.apply(add_Zpercentile_scores,axis=1)"
   ]
  },
  {
   "cell_type": "code",
   "execution_count": null,
   "metadata": {
    "slideshow": {
     "slide_type": "skip"
    }
   },
   "outputs": [],
   "source": [
    "df_f = df_f.apply(add_Z_scores,axis=1)\n",
    "df_f = df_f.rename({'BMI_AGE_P':'bmi_age_Zpercentile'},axis=1)\n",
    "#df_m.weight_age_Zscore = df_m.weight_age_Zscore.astype(float)\n",
    "#df_m.height_age_Zscore = df_m.height_age_Zscore.astype(float)\n",
    "#df_m.bmi_age_Zscore = df_m.bmi_age_Zscore.astype(float)\n",
    "df_f = df_f.apply(add_Zpercentile_scores,axis=1)"
   ]
  },
  {
   "cell_type": "code",
   "execution_count": null,
   "metadata": {
    "slideshow": {
     "slide_type": "skip"
    }
   },
   "outputs": [],
   "source": [
    "# Compute descriptive statistics on the dataframe\n",
    "def calculate_stats(df):\n",
    "    num_list = ['BMI_CALC','WEIGHT','HEIGHT','Age','area_cm2','smi','height_age_Zscore','height_age_Zpercentile',\n",
    "                'weight_age_Zscore','weight_age_Zpercentile','bmi_age_Zscore','bmi_age_Zpercentile']\n",
    "    df_num = df[num_list]\n",
    "    df_d = df_num.describe()\n",
    "    df_whites = df.loc[df['Race']=='White',num_list].describe()\n",
    "    df_blacks = df.loc[df['Race']=='Black or African American',num_list].describe()\n",
    "    df_others = df.loc[(df['Race']!='Black or African American') & (df['Race']!='White'),num_list].describe()\n",
    "    \n",
    "    df_whites = df_whites.add_suffix('_W')\n",
    "    df_blacks = df_blacks.add_suffix('_B')\n",
    "    df_others = df_others.add_suffix('_O')\n",
    "    return pd.concat([df_d, df_whites,df_blacks,df_others], axis=1)"
   ]
  },
  {
   "cell_type": "code",
   "execution_count": null,
   "metadata": {
    "slideshow": {
     "slide_type": "skip"
    }
   },
   "outputs": [],
   "source": [
    "df_m_stats= calculate_stats(df_m).T.round(decimals=2)\n",
    "df_f_stats = calculate_stats(df_f).T.round(decimals=2)"
   ]
  },
  {
   "cell_type": "code",
   "execution_count": null,
   "metadata": {
    "slideshow": {
     "slide_type": "slide"
    }
   },
   "outputs": [],
   "source": [
    "print(\"Population Statistics for Male\")\n",
    "display(df_m_stats.head(12))\n",
    "df_f_stats.to_csv(output+'/Female_summary_statistics.csv',index=True)\n",
    "df_m_stats.to_csv(output+'/Male_summary_statistics.csv',index=True)"
   ]
  },
  {
   "cell_type": "code",
   "execution_count": null,
   "metadata": {
    "slideshow": {
     "slide_type": "slide"
    }
   },
   "outputs": [],
   "source": [
    "print(\"Population Statistics for Female\")\n",
    "display(df_f_stats.head(12))"
   ]
  },
  {
   "cell_type": "markdown",
   "metadata": {
    "slideshow": {
     "slide_type": "slide"
    }
   },
   "source": [
    "## Correlation metrics"
   ]
  },
  {
   "cell_type": "code",
   "execution_count": null,
   "metadata": {
    "slideshow": {
     "slide_type": "skip"
    }
   },
   "outputs": [],
   "source": [
    "from scipy.stats import pearsonr\n",
    "import pandas as pd\n",
    "\n",
    "def calculate_pvalues(df):\n",
    "    # https://stackoverflow.com/questions/25571882/pandas-columns-correlation-with-statistical-significance\n",
    "    df = df.dropna()._get_numeric_data()\n",
    "    dfcols = pd.DataFrame(columns=df.columns)\n",
    "    pvalues = dfcols.transpose().join(dfcols, how='outer')\n",
    "    for r in df.columns:\n",
    "        for c in df.columns:\n",
    "            pvalues[r][c] = round(pearsonr(df[r], df[c])[1], 9)\n",
    "    return pvalues\n",
    "\n",
    "# Function to calculate Pearson's correlation coefficient (r) with confidence intervals in python!\n",
    "# https://zhiyzuo.github.io/Pearson-Correlation-CI-in-Python/\n",
    "from scipy import stats\n",
    "def pearsonr_ci(x,y,alpha=0.05):\n",
    "    ''' calculate Pearson correlation along with the confidence interval using scipy and numpy\n",
    "    Parameters\n",
    "    ----------\n",
    "    x, y : iterable object such as a list or np.array\n",
    "      Input for correlation calculation\n",
    "    alpha : float\n",
    "      Significance level. 0.05 by default\n",
    "    Returns\n",
    "    -------\n",
    "    r : float\n",
    "      Pearson's correlation coefficient\n",
    "    pval : float\n",
    "      The corresponding p value\n",
    "    lo, hi : float\n",
    "      The lower and upper bound of confidence intervals\n",
    "    '''\n",
    "\n",
    "    r, p = stats.pearsonr(x,y)\n",
    "    r_z = np.arctanh(r)\n",
    "    se = 1/np.sqrt(x.size-3)\n",
    "    z = stats.norm.ppf(1-alpha/2)\n",
    "    lo_z, hi_z = r_z-z*se, r_z+z*se\n",
    "    lo, hi = np.tanh((lo_z, hi_z))\n",
    "    return r, p, lo, hi\n",
    "\n",
    "def calculate_pearsonr_with_ci_pval(df):\n",
    "    # https://stackoverflow.com/questions/25571882/pandas-columns-correlation-with-statistical-significance\n",
    "    df = df.dropna()._get_numeric_data()\n",
    "    dfcols = pd.DataFrame(columns=df.columns)\n",
    "    pearson_r = dfcols.transpose().join(dfcols, how='outer')\n",
    "    for r in df.columns:\n",
    "        for c in df.columns:\n",
    "            cor, p, lo, hi = pearsonr_ci(df[r],df[c])\n",
    "            pearson_r[r][c] = str(round(cor,2)) + \" (\" + str(round(lo,2)) + \" - \" + str(round(hi,2)) + \"), p = \" + '{:0.2e}'.format(p)\n",
    "    return pearson_r"
   ]
  },
  {
   "cell_type": "code",
   "execution_count": null,
   "metadata": {},
   "outputs": [],
   "source": [
    "print('Pearson with CI and P-values')\n",
    "df_m_cor_p = calculate_pearsonr_with_ci_pval(df_m[['WEIGHT','HEIGHT','Age','BMI_CALC','bmi_age_Zpercentile','area_cm2','smi']])\n",
    "display(df_m_cor_p)\n",
    "df_m_cor_p.to_csv(output+'/Male_pearsonr_with_ci.csv',index=True)"
   ]
  },
  {
   "cell_type": "code",
   "execution_count": null,
   "metadata": {
    "slideshow": {
     "slide_type": "slide"
    }
   },
   "outputs": [],
   "source": [
    "print('Correlation Map Male')\n",
    "display(df_m[['WEIGHT','HEIGHT','Age','BMI_CALC','bmi_age_Zpercentile','area_cm2','smi']].corr().round(3))\n",
    "df_m_cor = df_m[['WEIGHT','HEIGHT','Age','BMI_CALC','bmi_age_Zpercentile','area_cm2','smi']].corr().round(3)\n",
    "df_m_cor.to_csv(output+'/Male_correlation_statistics.csv',index=True)"
   ]
  },
  {
   "cell_type": "code",
   "execution_count": null,
   "metadata": {
    "slideshow": {
     "slide_type": "subslide"
    }
   },
   "outputs": [],
   "source": [
    "print('P-values for Correlation map - male, P < 0.05 are statistically significant')\n",
    "df_m_cor_p = calculate_pvalues(df_m[['WEIGHT','HEIGHT','Age','BMI_CALC','area_cm2','smi']])\n",
    "display(df_m_cor_p)\n",
    "df_m_cor_p.to_csv(output+'/Male_correlation_pvalues.csv',index=True)"
   ]
  },
  {
   "cell_type": "code",
   "execution_count": null,
   "metadata": {},
   "outputs": [],
   "source": [
    "print('Pearson with CI and P-values')\n",
    "df_f_cor_p = calculate_pearsonr_with_ci_pval(df_f[['WEIGHT','HEIGHT','Age','BMI_CALC','bmi_age_Zpercentile','area_cm2','smi']])\n",
    "display(df_f_cor_p)\n",
    "df_f_cor_p.to_csv(output+'/Female_pearsonr_with_ci.csv',index=True)"
   ]
  },
  {
   "cell_type": "code",
   "execution_count": null,
   "metadata": {
    "slideshow": {
     "slide_type": "slide"
    }
   },
   "outputs": [],
   "source": [
    "print('Correlation Map Female')\n",
    "display(df_f[['WEIGHT','HEIGHT','Age','BMI_CALC','bmi_age_Zpercentile','area_cm2','smi']].corr().round(3))\n",
    "df_f_cor = df_f[['WEIGHT','HEIGHT','Age','BMI_CALC','bmi_age_Zpercentile','area_cm2','smi']].corr().round(3)\n",
    "df_f_cor.to_csv(output+'/Female_correlation_statistics.csv',index=True)"
   ]
  },
  {
   "cell_type": "code",
   "execution_count": null,
   "metadata": {
    "slideshow": {
     "slide_type": "subslide"
    }
   },
   "outputs": [],
   "source": [
    "print('P-values for Correlation map - female, P < 0.05 are statistically significant')\n",
    "df_f_cor_p = calculate_pvalues(df_f[['WEIGHT','HEIGHT','Age','BMI_CALC','area_cm2','smi']])\n",
    "display(df_f_cor_p)\n",
    "df_f_cor_p.to_csv(output+'/Female_correlation_pvalues.csv',index=True)"
   ]
  },
  {
   "cell_type": "markdown",
   "metadata": {
    "slideshow": {
     "slide_type": "slide"
    }
   },
   "source": [
    "## Quantile Regression with Splines"
   ]
  },
  {
   "cell_type": "code",
   "execution_count": null,
   "metadata": {
    "slideshow": {
     "slide_type": "skip"
    }
   },
   "outputs": [],
   "source": [
    "# Get Restricted Cubic splines by transforming independent variable (age)\n",
    "from statsmodels.regression.quantile_regression import QuantReg as QR\n",
    "# Reference: \n",
    "from patsy import dmatrix\n",
    "from patsy import cr\n",
    "import statsmodels.api as sm\n",
    "import statsmodels.formula.api as smf\n",
    "from sklearn.metrics import mean_squared_error\n",
    "from math import sqrt"
   ]
  },
  {
   "cell_type": "code",
   "execution_count": null,
   "metadata": {},
   "outputs": [],
   "source": [
    "import rpy2.robjects as robjects\n",
    "from rpy2.robjects.packages import importr\n",
    "from rpy2.robjects import pandas2ri\n",
    "#Must be activated\n",
    "pandas2ri.activate()\n",
    "utils = importr('utils')\n",
    "#utils.chooseCRANmirror(ind=1)\n",
    "#utils.install_packages('quantreg')\n",
    "qr_package=importr('quantreg')"
   ]
  },
  {
   "cell_type": "code",
   "execution_count": null,
   "metadata": {
    "slideshow": {
     "slide_type": "skip"
    }
   },
   "outputs": [],
   "source": [
    "def get_knots(x,nknots):\n",
    "    # Knot locations are set based on this article\n",
    "    #https://support.sas.com/resources/papers/proceedings16/5621-2016.pdf\n",
    "    if nknots == 3:\n",
    "        return [x.quantile(0.1),x.quantile(0.5),x.quantile(0.9)]\n",
    "    elif nknots == 4:\n",
    "        return [x.quantile(0.05),x.quantile(0.35),x.quantile(0.65),x.quantile(0.95)]\n",
    "    elif nknots == 5:\n",
    "        return [x.quantile(0.05),x.quantile(0.275),x.quantile(0.5),x.quantile(0.725),x.quantile(0.95)]"
   ]
  },
  {
   "cell_type": "code",
   "execution_count": null,
   "metadata": {
    "slideshow": {
     "slide_type": "skip"
    }
   },
   "outputs": [],
   "source": [
    "def fit_bs_models(model,qlist):\n",
    "    res = [model.fit(q=q) for q in qlist] \n",
    "    return res\n",
    "\n",
    "def get_transformed_x(x,knots,degrees):\n",
    "    transformed_x = dmatrix(\"bs(train, knots=\" + knots +\", degree= \"+ str(degrees) \n",
    "                    +\",include_intercept=False)\", {\"train\": x},return_type='dataframe')\n",
    "    return transformed_x\n",
    "\n",
    "def find_points_above(model,x_data,y_data):\n",
    "    y_m = model.predict(x_data)\n",
    "    points = y_data > y_m\n",
    "    outlier_count = sum(points)\n",
    "    return outlier_count, points\n",
    "\n",
    "def find_points_below(model,x_data,y_data):\n",
    "    y_m = model.predict(x_data)\n",
    "    points = y_data < y_m\n",
    "    outlier_count = sum(points)\n",
    "    return outlier_count, points"
   ]
  },
  {
   "cell_type": "code",
   "execution_count": null,
   "metadata": {},
   "outputs": [],
   "source": [
    "units_dict = {'WEIGHT':'Weight (Kg)','Age':'Age (Years)', 'HEIGHT': 'Height (cm)', 'area_cm2': 'SMA (cm^2)', 'smi': 'SMI (cm^2/m^2)',\n",
    "             'BMI_CALC': ' BMI', 'bmi_age_Zpercentile': 'BMI for Age (Z-percentile)'}\n",
    "\n",
    "# Gets design matrix command for restricted cubic splines (RCS)\n",
    "def get_dm_command_RCS(DF,knots):\n",
    "    lb = knots[0]\n",
    "    ub = knots[-1]\n",
    "    internal = knots[1:-1] # Internal knots\n",
    "    \n",
    "    command_head = \"cr(train,df = \" +  str(DF) + \", knots=\"\n",
    "\n",
    "    command_mid  = \"\"\n",
    "    internal_str=  list(map(str,internal))\n",
    "    #print(internal_str)\n",
    "    if len(internal_str)==1:\n",
    "        command_mid = internal_str[0]\n",
    "    else:\n",
    "        command_mid = \"(\" + internal_str[0] \n",
    "        for i in internal_str[1:]:\n",
    "            command_mid = command_mid + ',' + i    \n",
    "        command_mid = command_mid + ')'\n",
    "\n",
    "    command_tail = \", lower_bound=\" + str(lb) +\", upper_bound=\" + str(ub) + \") -1\"\n",
    "    command = command_head + command_mid + command_tail\n",
    "    return command\n",
    "\n",
    "def get_aic_rpy2(dm,df,response_var,q=0.5):\n",
    "    # Change colnames\n",
    "    colnames = []\n",
    "    for i in range(len(list(dm))):\n",
    "        ind = i+1\n",
    "        colnames.append('x' + str(ind))\n",
    "        \n",
    "    #print(colnames)    \n",
    "    dm.columns = colnames\n",
    "\n",
    "    # Add Jitter, Required for R QR\n",
    "    df_R = robjects.r['as.matrix'](dm)\n",
    "    df_R  = robjects.r['jitter'](df_R)\n",
    "    dm_jitter = dm.copy()\n",
    "\n",
    "    # Add response var to df for Quantile Reg in Rpy2\n",
    "    dm_jitter.iloc[:,:] = df_R\n",
    "    dm_jitter[response_var] = df[response_var].values\n",
    "\n",
    "\n",
    "    # QR Command\n",
    "    qr_head = response_var + ' ~ '\n",
    "    qr_tail = colnames[0]\n",
    "    for i in colnames[1:]:\n",
    "        qr_tail = qr_tail + '+' + i\n",
    "    qr_command = qr_head + qr_tail\n",
    "    #print('qr_command:', qr_command)\n",
    "\n",
    "    # Perform QR and find AIC\n",
    "    qr_mod = qr_package.rq(qr_command,data=dm_jitter, tau=q)\n",
    "    AIC = qr_package.AIC_rq(qr_mod)[0]\n",
    "\n",
    "    return AIC\n",
    "\n",
    "def spline_model_optimizer_cr(df,response_var,predictor_var='Age',nknots=[3,4,5]):\n",
    "    # Storage parameters\n",
    "    model_dict = {}\n",
    "    \n",
    "    # Akaike defined by Elan\n",
    "    akaike_dict = {}\n",
    "    mean_akaike = {}\n",
    "    akaike_dict_25 = {}\n",
    "    akaike_dict_75 = {}\n",
    "    \n",
    "    # AIC from R for quantreg models\n",
    "    aic_dict = {}\n",
    "    mean_aic = {}\n",
    "    aic_dict_25 = {}\n",
    "    aic_dict_75 = {}\n",
    "\n",
    "    # Maximum Likelihood calculated by Elan\n",
    "    L_dict = {}\n",
    "    L_dict_25 = {}\n",
    "    L_dict_75 = {}\n",
    "    \n",
    "    knots_dict = {} \n",
    "    model_keys = []\n",
    "    \n",
    "    # Knot constraints\n",
    "    min_knot = 3\n",
    "    max_knot = 15 + 1 # [+1 for python]\n",
    "    min_knot_diff = 3\n",
    "    \n",
    "    # Iterate over all knots\n",
    "    for nknot in nknots :\n",
    "        knots = get_knots(np.floor(df[predictor_var]),nknot)\n",
    "\n",
    "        # Book-keeping\n",
    "        mkey = 'nknots_'+ str(nknot)\n",
    "        model_keys.append(mkey)\n",
    "        knots_dict[mkey] = knots\n",
    "\n",
    "        #print('knots: ', knots)\n",
    "        command = get_dm_command_RCS(nknot,knots)\n",
    "       # print(command)\n",
    "        transformed_age = dmatrix(command, {\"train\": df[predictor_var].values}, return_type='dataframe')\n",
    "       \n",
    "        # Fit qr model\n",
    "        qr_model = QR(df[response_var].values,transformed_age.values)\n",
    "        model_dict[mkey] = qr_model\n",
    "        \n",
    "        # Calculate AIC from R qr function\n",
    "        aic_dict[mkey] = get_aic_rpy2(transformed_age,df,response_var,q=0.5)\n",
    "        aic_dict_25[mkey] = get_aic_rpy2(transformed_age,df,response_var,q=0.25)\n",
    "        aic_dict_75[mkey] = get_aic_rpy2(transformed_age,df,response_var,q=0.75)\n",
    "        \n",
    "        # Calculate mean aic\n",
    "        mean_aic[mkey] = (aic_dict[mkey] + aic_dict_25[mkey] + aic_dict_75[mkey])/3\n",
    "            \n",
    "    # Find best model\n",
    "    best_model_raic= min(mean_aic, key=mean_aic.get)\n",
    "    return model_dict[best_model_raic],knots_dict[best_model_raic]\n",
    "\n",
    "def plot_bs_qr_cr(dfs,mlist,knots,sexes=['Male','Female'],predictor='Age',response='area_cm2',xstart=0, ystart = 0):\n",
    "    x = np.linspace(dfs[0][predictor].values.min(),dfs[0][predictor].values.max(),70)\n",
    "    #age_range = dfs[0][predictor].values.max() - dfs[0][predictor].values.min()\n",
    "    #x_df = np.linspace(dfs[0][predictor].values.min(),dfs[0][predictor].values.max(),int(age_range*2))\n",
    "    x_df = np.arange(2.0, 19.5, 0.5)\n",
    "    ymax = max(max(dfs[0][response]),max(dfs[0][response]))\n",
    "    plt.figure(figsize = (14,7),linewidth=2)\n",
    "    \n",
    "    results_df = pd.DataFrame(columns = ['Age','0.05','0.25','0.50','0.75','0.95','0.05','0.25','0.50','0.75','0.95'])\n",
    "    results_df['Age'] =  x_df\n",
    "        #fig, ax = plt.subplots(figsize=(8, 6))\n",
    "    for n in range(len(mlist)):\n",
    "        df = dfs[n]\n",
    "        models = mlist[n]\n",
    "        \n",
    "        command = get_dm_command_RCS(len(knots[n]),knots[n])\n",
    "        transformed_x = dmatrix(command, {\"train\": x}, return_type='dataframe') \n",
    "        transformed_x_df = dmatrix(command, {\"train\": x_df}, return_type='dataframe') \n",
    "        \n",
    "        ax = plt.subplot(1,2,n+1)\n",
    "        for i in range(len(models)):\n",
    "            y = models[i].predict(transformed_x)\n",
    "            y_df = models[i].predict(transformed_x_df)\n",
    "            if n == 0:\n",
    "                results_df.iloc[:,i+1] = y_df\n",
    "            else:\n",
    "                results_df.iloc[:,i+6] = y_df\n",
    "                \n",
    "            ax.plot(x, y, linestyle='dotted',label='q =' + str(round(models[i].q,2)),linewidth=3)\n",
    "          \n",
    "        # Plot outliers in red\n",
    "        x_data = df[predictor].values\n",
    "        tr_x_data = dmatrix(command, {\"train\": x_data}, return_type='dataframe')\n",
    "        y_data = df[response].values\n",
    "        _,outliers_above = find_points_above(models[-1],tr_x_data,y_data)\n",
    "        _,outliers_below = find_points_below(models[0],tr_x_data,y_data)\n",
    "       # print('Number of outliers > 0.90: ', sum(outliers_above))\n",
    "       # print('Number of outliers < 0.10: ', sum(outliers_below))\n",
    "        outliers = outliers_above | outliers_below\n",
    "        \n",
    "        print('Total outliers: ', sum(outliers), 'Total points: ', len(outliers))\n",
    "        \n",
    "        normals = ~ outliers\n",
    "        ax.scatter(x_data[normals], y_data[normals],facecolor=None, edgecolor = 'k', alpha=.05)\n",
    "        ax.scatter(x_data[outliers], y_data[outliers],facecolor=None, edgecolor = 'r', alpha=.25)\n",
    "        \n",
    "       #ax.scatter(df[predictor], df[response],facecolor=None, edgecolor = 'k', alpha=.1)\n",
    "       # print(np.ceil(max(df[predictor].values)))\n",
    "        ax.set_xlim((xstart, np.ceil(max(df[predictor].values))),auto=True)\n",
    "        \n",
    "        print('xstart: ',xstart)\n",
    "        print('ystart: ',ystart)\n",
    "        ax.set_ylim(ystart, ymax,auto=True)\n",
    "        legend = ax.legend()\n",
    "        if np.ceil(max(df[predictor].values)) > 20:\n",
    "            xtick_r = 20\n",
    "        else:\n",
    "            xtick_r = 1\n",
    "        \n",
    "        ax.set_xticks(np.arange(xstart,np.ceil(max(df[predictor].values)),xtick_r))\n",
    "        \n",
    "        if predictor == \"BMI_CALC\":\n",
    "            ax.set_xlim(xstart, np.ceil(max(df[predictor].values)),auto=True)\n",
    "            xtick_r = 2\n",
    "            ax.set_xticks(np.arange(xstart,np.ceil(max(df[predictor].values)),xtick_r))\n",
    "        \n",
    "        ax.set_yticks(np.arange(ystart,ymax,20))\n",
    "        ax.set_xlabel(units_dict[predictor], fontsize=18)\n",
    "        ax.set_ylabel(units_dict[response], fontsize=18)\n",
    "        ax.set_title(sexes[n], fontsize=18)\n",
    "    title = response +'_vs_'+predictor+'.png'\n",
    "    plt.tight_layout()\n",
    "    plt.savefig(os.path.join(output,title), dpi = 300)\n",
    "    \n",
    "    \n",
    "    return results_df\n",
    "\n",
    "def plot_bs_qr_wcdc_cr(dfs,mlist,knots,cdc_df,sexes=['Male','Female'],predictor='Age',response='area_cm2',xstart=0, ystart=0):\n",
    "    x = np.linspace(dfs[0][predictor].values.min(),dfs[0][predictor].values.max(),70)\n",
    "    ymax = max(max(dfs[0][response]),max(dfs[0][response]))\n",
    "    plt.figure(figsize = (14,7),linewidth=2)\n",
    "    \n",
    "    colors = ['r','g','c','m','b']\n",
    "    #fig, ax = plt.subplots(figsize=(8, 6))\n",
    "    for n in range(len(mlist)):\n",
    "        df = dfs[n]\n",
    "        models = mlist[n]\n",
    "        \n",
    "        cdc_df_sex = cdc_df[cdc_df['Sex']==n+1]\n",
    "        \n",
    "        command = get_dm_command_RCS(len(knots[n]),knots[n])\n",
    "        # print(command)\n",
    "        transformed_x = dmatrix(command, {\"train\": x}, return_type='dataframe')\n",
    "        ax = plt.subplot(1,2,n+1)\n",
    "        \n",
    "        for i in range(len(models)):\n",
    "            y = models[i].predict(transformed_x)\n",
    "            ax.plot(x, y, linestyle='dotted',color=colors[i],label='q =' + str(round(models[i].q,2)),linewidth=3)\n",
    "            ax.plot(cdc_df_sex.iloc[:,1],cdc_df_sex.iloc[:,i+2],color=colors[i],label='cdc, q =' + str(round(models[i].q,2)),linewidth=2)\n",
    "\n",
    "        ax.scatter(df[predictor], df[response],facecolor=None, edgecolor = 'k', alpha=.1)\n",
    "        ax.set_xlim((xstart, np.ceil(max(df[predictor].values))))\n",
    "        print('xstart: ',xstart)\n",
    "        print('ystart: ',ystart)\n",
    "        ax.set_ylim(ystart, ymax,auto=True)\n",
    "        legend = ax.legend()\n",
    "        if np.ceil(max(df[predictor].values)) > 20:\n",
    "            xtick_r = 20\n",
    "        else:\n",
    "            xtick_r = 1\n",
    "        ax.set_xticks(np.arange(xstart,np.ceil(max(df[predictor].values)),xtick_r))\n",
    "        ax.set_yticks(np.arange(ystart,ymax,10))\n",
    "        ax.set_xlabel(units_dict[predictor], fontsize=18)\n",
    "        ax.set_ylabel(units_dict[response], fontsize=18)\n",
    "        ax.set_title(sexes[n], fontsize=18)\n",
    "    title = response +'_vs_'+predictor+'.png'\n",
    "    plt.tight_layout()\n",
    "    plt.savefig(os.path.join(output,title), dpi = 300)  "
   ]
  },
  {
   "cell_type": "code",
   "execution_count": null,
   "metadata": {},
   "outputs": [],
   "source": [
    "# Import cdc data\n",
    "# 2 to 20years\n",
    "#infile  = '/tf/smipipeline/growth_curves/data/csv/wtage220.csv'\n",
    "infile  = '/home/jupyteruser/smipipeline/growth_curves/data/csv/wtage220.csv'\n",
    "df_cdc_wt= pd.read_csv(infile, index_col=False)\n",
    "df_cdc_wt['Age'] = df_cdc_wt['Agemos']/12\n",
    "df_cdc_wt = df_cdc_wt[['Sex','Age','P10','P25','P50','P75','P90']]\n",
    "\n",
    "# infants to 3 years\n",
    "#infile2  = '/tf/smipipeline/growth_curves/data/csv/wtageinf.csv'\n",
    "infile2  = '/home/jupyteruser/smipipeline/growth_curves/data/csv/wtageinf.csv'\n",
    "df_cdc_wt2= pd.read_csv(infile2, index_col=False)\n",
    "df_cdc_wt2['Age'] = df_cdc_wt2['Agemos']/12\n",
    "df_cdc_wt2 = df_cdc_wt2[['Sex','Age','P10','P25','P50','P75','P90']]\n",
    "\n",
    "# keep only till 2 years\n",
    "df_cdc_wt2 = df_cdc_wt2[df_cdc_wt2['Age']<2]\n",
    "\n",
    "# Merge\n",
    "df_cdc_wt = pd.concat([df_cdc_wt,df_cdc_wt2],ignore_index=True)\n",
    "df_cdc_wt = df_cdc_wt.sort_values(by=['Age'])\n",
    "\n",
    "response='WEIGHT'\n",
    "cdc_df = df_cdc_wt\n",
    "# Get optimal model config\n",
    "df_m_nonull = df_m.dropna(subset=[response])\n",
    "df_f_nonull = df_f.dropna(subset=[response])\n",
    "model_m,knots_m= spline_model_optimizer_cr(df_m_nonull, response)\n",
    "model_f,knots_f = spline_model_optimizer_cr(df_f_nonull, response)\n",
    "\n",
    "\n",
    "# Fit the model for different quantiles\n",
    "fit_models_m = fit_bs_models(model_m,qlist=[0.05,0.25,0.50,0.75,0.95])\n",
    "fit_models_f = fit_bs_models(model_f,qlist=[0.05,0.25,0.50,0.75,0.95])"
   ]
  },
  {
   "cell_type": "code",
   "execution_count": null,
   "metadata": {},
   "outputs": [],
   "source": [
    "# Plot the results\n",
    "print('Population comparison to cdc data on ' + response + ' using quantile regression')\n",
    "\n",
    "cdc_df = cdc_df[cdc_df['Age']>=2]\n",
    "\n",
    "plot_bs_qr_wcdc_cr([df_m_nonull,df_f_nonull],\n",
    "           [fit_models_m,fit_models_f],\n",
    "           knots=[knots_m,knots_f],\n",
    "           cdc_df = cdc_df,\n",
    "           response=response)"
   ]
  },
  {
   "cell_type": "code",
   "execution_count": null,
   "metadata": {
    "slideshow": {
     "slide_type": "skip"
    }
   },
   "outputs": [],
   "source": [
    "# Import cdc data\n",
    "# 2 to 20years\n",
    "infile  = '/home/jupyteruser/smipipeline/growth_curves/data/csv/statage220.csv'\n",
    "df_cdc_wt= pd.read_csv(infile, index_col=False)\n",
    "df_cdc_wt['Age'] = df_cdc_wt['Agemos']/12\n",
    "df_cdc_wt = df_cdc_wt[['Sex','Age','P10','P25','P50','P75','P90']]\n",
    "# infants to 3 years\n",
    "infile2  = '/home/jupyteruser/smipipeline/growth_curves/data/csv/lenageinf.csv'\n",
    "df_cdc_wt2= pd.read_csv(infile2, index_col=False)\n",
    "df_cdc_wt2['Age'] = df_cdc_wt2['Agemos']/12\n",
    "df_cdc_wt2 = df_cdc_wt2[['Sex','Age','P10','P25','P50','P75','P90']]\n",
    "\n",
    "# keep only till 2 years\n",
    "df_cdc_wt2 = df_cdc_wt2[df_cdc_wt2['Age']<2]\n",
    "\n",
    "# Merge\n",
    "df_cdc_wt = pd.concat([df_cdc_wt,df_cdc_wt2],ignore_index=True)\n",
    "df_cdc_wt = df_cdc_wt.sort_values(by=['Age'])\n",
    "\n",
    "response='HEIGHT'\n",
    "cdc_df = df_cdc_wt\n",
    "# Get optimal model config\n",
    "df_m_nonull = df_m.dropna(subset=[response])\n",
    "df_f_nonull = df_f.dropna(subset=[response])\n",
    "model_m,knots_m = spline_model_optimizer_cr(df_m_nonull, response)\n",
    "model_f,knots_f = spline_model_optimizer_cr(df_f_nonull, response)\n",
    "\n",
    "\n",
    "# Fit the model for different quantiles\n",
    "fit_models_m = fit_bs_models(model_m,qlist=[0.05,0.25,0.50,0.75,0.95])\n",
    "fit_models_f = fit_bs_models(model_f,qlist=[0.05,0.25,0.50,0.75,0.95])"
   ]
  },
  {
   "cell_type": "code",
   "execution_count": null,
   "metadata": {
    "slideshow": {
     "slide_type": "slide"
    }
   },
   "outputs": [],
   "source": [
    "# Plot the results\n",
    "if cdc_df is not None:\n",
    "    print('Population comparison to cdc data on ' + response + ' using quantile regression')\n",
    "    cdc_df = cdc_df[cdc_df['Age']>=2]\n",
    "    \n",
    "    plot_bs_qr_wcdc_cr([df_m_nonull,df_f_nonull],\n",
    "               [fit_models_m,fit_models_f],\n",
    "               knots=[knots_m,knots_f],\n",
    "               cdc_df = cdc_df,\n",
    "               response=response, ystart=60)"
   ]
  },
  {
   "cell_type": "code",
   "execution_count": null,
   "metadata": {
    "slideshow": {
     "slide_type": "skip"
    }
   },
   "outputs": [],
   "source": [
    "# Import cdc data\n",
    "# 2 to 20years\n",
    "infile  = '/home/jupyteruser/smipipeline/growth_curves/data/csv/bmiage220.csv'\n",
    "df_cdc_wt= pd.read_csv(infile, index_col=False)\n",
    "df_cdc_wt['Age'] = df_cdc_wt['Agemos']/12\n",
    "df_cdc_wt = df_cdc_wt[['Sex','Age','P10','P25','P50','P75','P90']]\n",
    "\n",
    "response='BMI_CALC'\n",
    "cdc_df = df_cdc_wt\n",
    "# Get optimal model config\n",
    "df_m_nonull = df_m.dropna(subset=[response])\n",
    "df_f_nonull = df_f.dropna(subset=[response])\n",
    "model_m,knots_m = spline_model_optimizer_cr(df_m_nonull, response)\n",
    "model_f,knots_f = spline_model_optimizer_cr(df_f_nonull, response)\n",
    "\n",
    "# Fit the model for different quantiles\n",
    "fit_models_m = fit_bs_models(model_m,qlist=[0.05,0.25,0.50,0.75,0.95])\n",
    "fit_models_f = fit_bs_models(model_f,qlist=[0.05,0.25,0.50,0.75,0.95])"
   ]
  },
  {
   "cell_type": "code",
   "execution_count": null,
   "metadata": {
    "scrolled": true,
    "slideshow": {
     "slide_type": "slide"
    }
   },
   "outputs": [],
   "source": [
    "# Plot the results\n",
    "if cdc_df is not None:\n",
    "    cdc_df = cdc_df[cdc_df['Age']>=2]\n",
    "    print('Population comparison to cdc data on ' + response + ' using quantile regression')\n",
    "    plot_bs_qr_wcdc_cr([df_m_nonull,df_f_nonull],\n",
    "               [fit_models_m,fit_models_f],\n",
    "               knots=[knots_m,knots_f],\n",
    "               cdc_df = cdc_df,\n",
    "               response=response, ystart=10)"
   ]
  },
  {
   "cell_type": "code",
   "execution_count": null,
   "metadata": {
    "slideshow": {
     "slide_type": "skip"
    }
   },
   "outputs": [],
   "source": [
    "response='area_cm2'\n",
    "\n",
    "# Get optimal model config\n",
    "model_m,knots_m = spline_model_optimizer_cr(df_m, response)\n",
    "model_f,knots_f = spline_model_optimizer_cr(df_f, response)\n",
    "\n",
    "\n",
    "# Fit the model for different quantiles\n",
    "fit_models_m = fit_bs_models(model_m,qlist=[0.05,0.25,0.50,0.75,0.95])\n",
    "fit_models_f = fit_bs_models(model_f,qlist=[0.05,0.25,0.50,0.75,0.95])"
   ]
  },
  {
   "cell_type": "code",
   "execution_count": null,
   "metadata": {},
   "outputs": [],
   "source": [
    "knots_m"
   ]
  },
  {
   "cell_type": "code",
   "execution_count": null,
   "metadata": {},
   "outputs": [],
   "source": [
    "knots_f"
   ]
  },
  {
   "cell_type": "code",
   "execution_count": null,
   "metadata": {
    "slideshow": {
     "slide_type": "slide"
    }
   },
   "outputs": [],
   "source": [
    "# Plot the results\n",
    "print('Quantile Regression with Splines for Skeletal Muscle Area (CCHMC data)')\n",
    "results_df = plot_bs_qr_cr([df_m,df_f],\n",
    "           [fit_models_m,fit_models_f],\n",
    "           knots=[knots_m,knots_f],\n",
    "           response=response)\n",
    "results_df.to_csv(os.path.join(output,'age_sma_table.csv'))"
   ]
  },
  {
   "cell_type": "code",
   "execution_count": null,
   "metadata": {
    "slideshow": {
     "slide_type": "skip"
    }
   },
   "outputs": [],
   "source": [
    "response='smi'\n",
    "\n",
    "df_m_nonull = df_m.dropna(subset=[response])\n",
    "df_f_nonull = df_f.dropna(subset=[response])\n",
    "\n",
    "# Get optimal model config\n",
    "model_m,knots_m = spline_model_optimizer_cr(df_m_nonull, response)\n",
    "model_f,knots_f = spline_model_optimizer_cr(df_f_nonull, response)\n",
    "\n",
    "# Fit the model for different quantiles\n",
    "fit_models_m = fit_bs_models(model_m,qlist=[0.05,0.25,0.50,0.75,0.95])\n",
    "fit_models_f = fit_bs_models(model_f,qlist=[0.05,0.25,0.50,0.75,0.95])"
   ]
  },
  {
   "cell_type": "code",
   "execution_count": null,
   "metadata": {},
   "outputs": [],
   "source": [
    "knots_m"
   ]
  },
  {
   "cell_type": "code",
   "execution_count": null,
   "metadata": {},
   "outputs": [],
   "source": [
    "knots_f"
   ]
  },
  {
   "cell_type": "code",
   "execution_count": null,
   "metadata": {
    "slideshow": {
     "slide_type": "slide"
    }
   },
   "outputs": [],
   "source": [
    "# Plot the results\n",
    "print('Quantile Regression with Splines for SMI [CCHMC data]')\n",
    "results_df = plot_bs_qr_cr([df_m_nonull,df_f_nonull],\n",
    "           [fit_models_m,fit_models_f],\n",
    "           knots=[knots_m,knots_f],\n",
    "           response=response)\n",
    "results_df.to_csv(os.path.join(output,'age_smi_table.csv'))"
   ]
  },
  {
   "cell_type": "code",
   "execution_count": null,
   "metadata": {
    "slideshow": {
     "slide_type": "skip"
    }
   },
   "outputs": [],
   "source": [
    "response='area_cm2'\n",
    "predictor='WEIGHT'\n",
    "\n",
    "df_m_nonull = df_m.dropna(subset=[response,predictor])\n",
    "df_f_nonull = df_f.dropna(subset=[response,predictor])\n",
    "\n",
    "# Get optimal model config\n",
    "model_m,knots_m = spline_model_optimizer_cr(df_m_nonull,response,predictor_var=predictor)\n",
    "model_f,knots_f = spline_model_optimizer_cr(df_f_nonull,response,predictor_var=predictor)\n",
    "\n",
    "# Fit the model for different quantiles\n",
    "fit_models_m = fit_bs_models(model_m,qlist=[0.05,0.25,0.50,0.75,0.95])\n",
    "fit_models_f = fit_bs_models(model_f,qlist=[0.05,0.25,0.50,0.75,0.95])"
   ]
  },
  {
   "cell_type": "code",
   "execution_count": null,
   "metadata": {
    "slideshow": {
     "slide_type": "slide"
    }
   },
   "outputs": [],
   "source": [
    "# Plot the results\n",
    "print('Quantile Regression with Splines for SMA [CCHMC data] vs Weight')\n",
    "plot_bs_qr_cr([df_m_nonull,df_f_nonull],\n",
    "           [fit_models_m,fit_models_f],\n",
    "           knots=[knots_m,knots_f],\n",
    "           response=response, predictor=predictor,xstart=10)"
   ]
  },
  {
   "cell_type": "code",
   "execution_count": null,
   "metadata": {
    "slideshow": {
     "slide_type": "skip"
    }
   },
   "outputs": [],
   "source": [
    "response='smi'\n",
    "predictor='WEIGHT'\n",
    "\n",
    "df_m_nonull = df_m.dropna(subset=[response,predictor])\n",
    "df_f_nonull = df_f.dropna(subset=[response,predictor])\n",
    "\n",
    "# Get optimal model config\n",
    "model_m,knots_m = spline_model_optimizer_cr(df_m_nonull,response, predictor_var=predictor)\n",
    "model_f,knots_f = spline_model_optimizer_cr(df_f_nonull,response, predictor_var=predictor)\n",
    "\n",
    "# Fit the model for different quantiles\n",
    "fit_models_m = fit_bs_models(model_m,qlist=[0.05,0.25,0.50,0.75,0.95])\n",
    "fit_models_f = fit_bs_models(model_f,qlist=[0.05,0.25,0.50,0.75,0.95])"
   ]
  },
  {
   "cell_type": "code",
   "execution_count": null,
   "metadata": {
    "slideshow": {
     "slide_type": "slide"
    }
   },
   "outputs": [],
   "source": [
    "# Plot the results\n",
    "print('Quantile Regression with Splines for SMI [CCHMC data] vs Weight')\n",
    "plot_bs_qr_cr([df_m_nonull, df_f_nonull],\n",
    "           [fit_models_m, fit_models_f],\n",
    "           knots=[knots_m, knots_f],\n",
    "           response=response, predictor=predictor, xstart = 10)"
   ]
  },
  {
   "cell_type": "code",
   "execution_count": null,
   "metadata": {
    "slideshow": {
     "slide_type": "skip"
    }
   },
   "outputs": [],
   "source": [
    "response='area_cm2'\n",
    "predictor='HEIGHT'\n",
    "\n",
    "df_m_nonull = df_m.dropna(subset=[response,predictor])\n",
    "df_f_nonull = df_f.dropna(subset=[response,predictor])\n",
    "\n",
    "# Get optimal model config\n",
    "model_m,knots_m = spline_model_optimizer_cr(df_m_nonull, response, predictor_var=predictor)\n",
    "model_f,knots_f = spline_model_optimizer_cr(df_f_nonull, response, predictor_var=predictor)\n",
    "\n",
    "# Fit the model for different quantiles\n",
    "fit_models_m = fit_bs_models(model_m,qlist=[0.05,0.25,0.50,0.75,0.95])\n",
    "fit_models_f = fit_bs_models(model_f,qlist=[0.05,0.25,0.50,0.75,0.95])"
   ]
  },
  {
   "cell_type": "code",
   "execution_count": null,
   "metadata": {
    "slideshow": {
     "slide_type": "slide"
    }
   },
   "outputs": [],
   "source": [
    "# Plot the results\n",
    "print('Quantile Regression with Splines for SMA [CCHMC data] vs HEIGHT')\n",
    "plot_bs_qr_cr([df_m_nonull,df_f_nonull],\n",
    "           [fit_models_m,fit_models_f],\n",
    "           knots=[knots_m,knots_f],\n",
    "           response=response,predictor=predictor, xstart=80)"
   ]
  },
  {
   "cell_type": "code",
   "execution_count": null,
   "metadata": {
    "slideshow": {
     "slide_type": "skip"
    }
   },
   "outputs": [],
   "source": [
    "response='smi'\n",
    "predictor='HEIGHT'\n",
    "\n",
    "df_m_nonull = df_m.dropna(subset=[response,predictor])\n",
    "df_f_nonull = df_f.dropna(subset=[response,predictor])\n",
    "\n",
    "# Get optimal model config\n",
    "model_m,knots_m = spline_model_optimizer_cr(df_m_nonull, response,predictor_var=predictor)\n",
    "model_f,knots_f = spline_model_optimizer_cr(df_f_nonull, response,predictor_var=predictor)\n",
    "\n",
    "# Fit the model for different quantiles\n",
    "fit_models_m = fit_bs_models(model_m,qlist=[0.05,0.25,0.50,0.75,0.95])\n",
    "fit_models_f = fit_bs_models(model_f,qlist=[0.05,0.25,0.50,0.75,0.95])"
   ]
  },
  {
   "cell_type": "code",
   "execution_count": null,
   "metadata": {
    "slideshow": {
     "slide_type": "slide"
    }
   },
   "outputs": [],
   "source": [
    "# Plot the results\n",
    "print('Quantile Regression with Splines for SMI [CCHMC data] vs HEIGHT')\n",
    "plot_bs_qr_cr([df_m_nonull,df_f_nonull],\n",
    "           [fit_models_m,fit_models_f],\n",
    "           knots=[knots_m,knots_f],\n",
    "           response=response, predictor=predictor, xstart=80)"
   ]
  },
  {
   "cell_type": "code",
   "execution_count": null,
   "metadata": {
    "slideshow": {
     "slide_type": "skip"
    }
   },
   "outputs": [],
   "source": [
    "response='area_cm2'\n",
    "predictor='bmi_age_Zpercentile'\n",
    "\n",
    "df_m_nonull = df_m.dropna(subset=[response,predictor])\n",
    "df_f_nonull = df_f.dropna(subset=[response,predictor])\n",
    "\n",
    "# Get optimal model config\n",
    "model_m,knots_m = spline_model_optimizer_cr(df_m_nonull,response, predictor_var=predictor)\n",
    "model_f,knots_f = spline_model_optimizer_cr(df_f_nonull,response, predictor_var=predictor)\n",
    "\n",
    "# Fit the model for different quantiles\n",
    "fit_models_m = fit_bs_models(model_m,qlist=[0.05,0.25,0.50,0.75,0.95])\n",
    "fit_models_f = fit_bs_models(model_f,qlist=[0.05,0.25,0.50,0.75,0.95])"
   ]
  },
  {
   "cell_type": "code",
   "execution_count": null,
   "metadata": {
    "slideshow": {
     "slide_type": "slide"
    }
   },
   "outputs": [],
   "source": [
    "# Plot the results\n",
    "print('Quantile Regression with Splines for SMA [CCHMC data] vs BMI percentile')\n",
    "plot_bs_qr_cr([df_m_nonull, df_f_nonull],\n",
    "           [fit_models_m, fit_models_f],\n",
    "           knots=[knots_m, knots_f],\n",
    "           response=response, predictor=predictor)"
   ]
  },
  {
   "cell_type": "code",
   "execution_count": null,
   "metadata": {
    "slideshow": {
     "slide_type": "skip"
    }
   },
   "outputs": [],
   "source": [
    "response='smi'\n",
    "predictor='bmi_age_Zpercentile'\n",
    "\n",
    "df_m_nonull = df_m.dropna(subset=[response,predictor])\n",
    "df_f_nonull = df_f.dropna(subset=[response,predictor])\n",
    "\n",
    "# Get optimal model config\n",
    "model_m,knots_m = spline_model_optimizer_cr(df_m_nonull, response,predictor_var=predictor)\n",
    "model_f,knots_f = spline_model_optimizer_cr(df_f_nonull, response,predictor_var=predictor)\n",
    "\n",
    "# Fit the model for different quantiles\n",
    "fit_models_m = fit_bs_models(model_m,qlist=[0.05,0.25,0.50,0.75,0.95])\n",
    "fit_models_f = fit_bs_models(model_f,qlist=[0.05,0.25,0.50,0.75,0.95])"
   ]
  },
  {
   "cell_type": "code",
   "execution_count": null,
   "metadata": {},
   "outputs": [],
   "source": [
    "knots_f"
   ]
  },
  {
   "cell_type": "code",
   "execution_count": null,
   "metadata": {
    "slideshow": {
     "slide_type": "slide"
    }
   },
   "outputs": [],
   "source": [
    "# Plot the results\n",
    "print('Quantile Regression with Splines for SMI [CCHMC data] vs BMI percentile')\n",
    "plot_bs_qr_cr([df_m_nonull, df_f_nonull],\n",
    "           [fit_models_m, fit_models_f],\n",
    "           knots=[knots_m, knots_f],\n",
    "           response=response, predictor=predictor, ystart = 10)"
   ]
  },
  {
   "cell_type": "code",
   "execution_count": null,
   "metadata": {
    "slideshow": {
     "slide_type": "skip"
    }
   },
   "outputs": [],
   "source": [
    "response='area_cm2'\n",
    "predictor='BMI_CALC'\n",
    "\n",
    "df_m_nonull = df_m.dropna(subset=[response,predictor])\n",
    "df_f_nonull = df_f.dropna(subset=[response,predictor])\n",
    "\n",
    "# Get optimal model config\n",
    "model_m,knots_m = spline_model_optimizer_cr(df_m_nonull, response,predictor_var=predictor)\n",
    "model_f,knots_f = spline_model_optimizer_cr(df_f_nonull, response,predictor_var=predictor)\n",
    "\n",
    "# Fit the model for different quantiles\n",
    "fit_models_m = fit_bs_models(model_m, qlist=[0.05,0.25,0.50,0.75,0.95])\n",
    "fit_models_f = fit_bs_models(model_f, qlist=[0.05,0.25,0.50,0.75,0.95])"
   ]
  },
  {
   "cell_type": "code",
   "execution_count": null,
   "metadata": {
    "slideshow": {
     "slide_type": "slide"
    }
   },
   "outputs": [],
   "source": [
    "# Plot the results\n",
    "print('Quantile Regression with Splines for Skeletal Muscle Index [CCHMC data] vs BMI')\n",
    "plot_bs_qr_cr([df_m_nonull, df_f_nonull],\n",
    "           [fit_models_m,fit_models_f],\n",
    "           knots=[knots_m, knots_f],\n",
    "           response=response, predictor=predictor, xstart=12)"
   ]
  },
  {
   "cell_type": "code",
   "execution_count": null,
   "metadata": {
    "slideshow": {
     "slide_type": "skip"
    }
   },
   "outputs": [],
   "source": [
    "response='smi'\n",
    "predictor='BMI_CALC'\n",
    "\n",
    "df_m_nonull = df_m.dropna(subset=[response,predictor])\n",
    "df_f_nonull = df_f.dropna(subset=[response,predictor])\n",
    "\n",
    "# Get optimal model config\n",
    "model_m,knots_m = spline_model_optimizer_cr(df_m_nonull, response,predictor_var=predictor)\n",
    "model_f,knots_f = spline_model_optimizer_cr(df_f_nonull, response,predictor_var=predictor)\n",
    "\n",
    "# Fit the model for different quantiles\n",
    "fit_models_m = fit_bs_models(model_m,qlist=[0.05,0.25,0.50,0.75,0.95])\n",
    "fit_models_f = fit_bs_models(model_f,qlist=[0.05,0.25,0.50,0.75,0.95])"
   ]
  },
  {
   "cell_type": "code",
   "execution_count": null,
   "metadata": {
    "slideshow": {
     "slide_type": "slide"
    }
   },
   "outputs": [],
   "source": [
    "# Plot the results\n",
    "print('Quantile Regression with Splines for Skeletal Muscle Index [CCHMC data] vs BMI')\n",
    "plot_bs_qr_cr([df_m_nonull,df_f_nonull],\n",
    "           [fit_models_m, fit_models_f],\n",
    "           knots=[knots_m, knots_f],\n",
    "           response=response,predictor=predictor, xstart=12, ystart=10)"
   ]
  },
  {
   "cell_type": "code",
   "execution_count": null,
   "metadata": {},
   "outputs": [],
   "source": []
  }
 ],
 "metadata": {
  "celltoolbar": "Slideshow",
  "file_extension": ".py",
  "kernelspec": {
   "display_name": "Python 3",
   "language": "python",
   "name": "python3"
  },
  "language_info": {
   "codemirror_mode": {
    "name": "ipython",
    "version": 3
   },
   "file_extension": ".py",
   "mimetype": "text/x-python",
   "name": "python",
   "nbconvert_exporter": "python",
   "pygments_lexer": "ipython3",
   "version": "3.8.5"
  },
  "mimetype": "text/x-python",
  "name": "python",
  "npconvert_exporter": "python",
  "pygments_lexer": "ipython3",
  "version": 3
 },
 "nbformat": 4,
 "nbformat_minor": 4
}
