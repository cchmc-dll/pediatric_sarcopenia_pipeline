{
 "cells": [
  {
   "cell_type": "code",
   "execution_count": null,
   "metadata": {
    "slideshow": {
     "slide_type": "notes"
    }
   },
   "outputs": [],
   "source": [
    "import os\n",
    "import pandas as pd\n",
    "import numpy as np\n",
    "import scipy\n",
    "\n",
    "from datetime import timedelta as dt\n",
    "pd.set_option(\"display.max_rows\",None)\n",
    "#os.chdir('C:\\\\Users\\\\somd7w\\\\Desktop\\\\DL_Projects\\\\preproc_cntr')\n",
    "cwd = os.getcwd()\n",
    "data =cwd+'/data'\n",
    "output=cwd+'/output'"
   ]
  },
  {
   "cell_type": "code",
   "execution_count": null,
   "metadata": {
    "slideshow": {
     "slide_type": "notes"
    }
   },
   "outputs": [],
   "source": [
    "def find_csv_filenames( path_to_dir, suffix=\".csv\" ):\n",
    "    filenames = os.listdir(path_to_dir)\n",
    "    return [ filename for filename in filenames if filename.endswith( suffix ) ]"
   ]
  },
  {
   "cell_type": "code",
   "execution_count": null,
   "metadata": {
    "slideshow": {
     "slide_type": "notes"
    }
   },
   "outputs": [],
   "source": [
    "def read_sheet(a):\n",
    "    try:\n",
    "        df = pd.read_csv(csv_dict[str(a)], index_col=False)\n",
    "    except:\n",
    "        try:\n",
    "            df = pd.read_csv(csv_dict[str(a)],index_col=False,encoding='latin-1')\n",
    "        except:\n",
    "            print('Error Opening CSV File')\n",
    "    print(\"Columns of sheet: \",a)\n",
    "    print(list(df))\n",
    "    return df\n",
    "\n",
    "def get_df_stats(df,drop_cols):\n",
    "    # Drop rows if values are NaN in PAT_ID, CT_SCAN_DATE\n",
    "    df = df.dropna(subset=drop_cols)\n",
    "    # Unique PAT_IDs and Given_MRN:\n",
    "    print(\"Number of rows in sheet = \",len(df))\n",
    "    pat_ids = df.PAT_ID.unique()\n",
    "    print(\"Number of unique PAT_IDs = \",len(pat_ids))\n",
    "    mrns = df.GIVEN_MRN.unique()\n",
    "    print(\"Number of unique MRNs = \",len(mrns))\n",
    "   # accs = df.ACC.unique()\n",
    "   # print(\"Number of unique ACC = \",len(accs))\n",
    "    return(df)\n",
    "    \n",
    "def filter_duplicates(df,filter_col,sort_order):\n",
    "    if sort_order == 'ascending':\n",
    "     #   print('Sorting by ascending order and returning largest value')\n",
    "        df = df.sort_values(by=[filter_col])\n",
    "    else:\n",
    "      #  print('Sorting by descending order and returning smallest value')\n",
    "        df = df.sort_values(by=[filter_col],ascending=False)\n",
    "    \n",
    "    df = df.drop_duplicates('ACC', keep='last')\n",
    "    return(df)"
   ]
  },
  {
   "cell_type": "markdown",
   "metadata": {
    "slideshow": {
     "slide_type": "slide"
    }
   },
   "source": [
    "# Read CSV files from EPIC query, print and store as Dictionary"
   ]
  },
  {
   "cell_type": "code",
   "execution_count": null,
   "metadata": {
    "slideshow": {
     "slide_type": "slide"
    }
   },
   "outputs": [],
   "source": [
    "csv_list = find_csv_filenames(data)\n",
    "csv_dict = {}\n",
    "print(\"List of Files from EPIC Query:\")\n",
    "for i,csv in enumerate(csv_list):\n",
    "    print(i+1,': ',csv)\n",
    "    csv_dict[str(i+1)] = os.path.join(data,csv)"
   ]
  },
  {
   "cell_type": "code",
   "execution_count": null,
   "metadata": {
    "scrolled": true,
    "slideshow": {
     "slide_type": "subslide"
    }
   },
   "outputs": [],
   "source": [
    "print(csv_dict)"
   ]
  },
  {
   "cell_type": "code",
   "execution_count": null,
   "metadata": {
    "scrolled": true
   },
   "outputs": [],
   "source": [
    "# Read age file\n",
    "df_age = read_sheet('11')"
   ]
  },
  {
   "cell_type": "code",
   "execution_count": null,
   "metadata": {},
   "outputs": [],
   "source": [
    "# Read Valid Patients Data \n",
    "validfile = output+'/corrected_whoosh_data_validpatients_v5.csv'\n",
    "df_V = pd.read_csv(validfile, index_col=False)\n",
    "df_V['CT_SCAN_DATE'] = pd.to_datetime(df_V.CT_SCAN_DATE)\n",
    "print(pd.unique(df_V['PROBLEM_GROUP']))"
   ]
  },
  {
   "cell_type": "code",
   "execution_count": null,
   "metadata": {},
   "outputs": [],
   "source": [
    "len(df_V)"
   ]
  },
  {
   "cell_type": "code",
   "execution_count": null,
   "metadata": {},
   "outputs": [],
   "source": [
    "display(df_age.head(100))"
   ]
  },
  {
   "cell_type": "code",
   "execution_count": null,
   "metadata": {},
   "outputs": [],
   "source": [
    "print(list(df_V))\n",
    "display(df_V.head(100))"
   ]
  },
  {
   "cell_type": "code",
   "execution_count": null,
   "metadata": {},
   "outputs": [],
   "source": [
    "# Find number of patients in both the sheets\n",
    "print(\"Number of valid patients: \")\n",
    "print(len(df_V))\n",
    "print(\"Number of patients in Age sheet: \")\n",
    "print(len(df_age))\n",
    "\n",
    "df_age.rename(columns={'Accession Number': 'ACC'}, inplace=True)\n",
    "df_age.rename(columns={'Age (At Exam)': 'Age'}, inplace=True)\n",
    "\n",
    "print(\"Before dropping duplicates: \", len(df_age))\n",
    "df_age = filter_duplicates(df_age,'ACC','ascending')\n",
    "\n",
    "print(\"After dropping duplicates: \", len(df_age))\n",
    "acc_age = [acc for acc in df_V.ACC.values if acc in df_age.ACC.values]\n",
    "print(\"Number of valid patients with age info: \",len(acc_age))"
   ]
  },
  {
   "cell_type": "code",
   "execution_count": null,
   "metadata": {},
   "outputs": [],
   "source": [
    "print(list(df_age))"
   ]
  },
  {
   "cell_type": "code",
   "execution_count": null,
   "metadata": {},
   "outputs": [],
   "source": [
    "df_age = df_age[['ACC','Age','Sex','Race']]\n",
    "df_V = pd.merge(df_V, df_age, on='ACC', how='inner')\n",
    "print(len(df_V))\n",
    "print(list(df_V))\n",
    "df_V['AgeGroup'] = round(df_V[['Age']])\n",
    "print(list(df_V))"
   ]
  },
  {
   "cell_type": "code",
   "execution_count": null,
   "metadata": {},
   "outputs": [],
   "source": [
    "display(df_V.head(10))"
   ]
  },
  {
   "cell_type": "code",
   "execution_count": null,
   "metadata": {},
   "outputs": [],
   "source": [
    "pd.to_numeric(df_V['Age'], downcast='integer',errors='ignore')\n",
    "pd.options.display.float_format = '{:,.1f}'.format\n",
    "#df_V['Age'] = df_V['Age'].astype('Int64')\n",
    "\n",
    "# Sory by Age\n",
    "#df_V = df_V.sort_values(by='Age',ascending=False)\n",
    "#display(df_V['AgeGroup'].head(10))\n",
    "\n",
    "\n",
    "print('Valid Exams', len(df_V))\n",
    "\n",
    "pats_agelt20  = len(df_V[df_V['Age'] < 20])\n",
    "pats_agegt20 = len(df_V[df_V['Age'] >= 20])\n",
    "pats_noage = len(df_V[df_V['Age'].isin([np.nan])])\n",
    "\n",
    "print('Valid Exams with age >= 20', pats_agegt20)\n",
    "print('Valid Exams with age < 20', pats_agelt20)\n",
    "print('Valid Exams with no age', pats_noage)"
   ]
  },
  {
   "cell_type": "code",
   "execution_count": null,
   "metadata": {},
   "outputs": [],
   "source": [
    "print(pd.unique(df_V['AgeGroup']))\n",
    "# drop patients above 19\n",
    "df_V = df_V[df_V['Age'] < 20]\n",
    "print(pd.unique(df_V['AgeGroup']))"
   ]
  },
  {
   "cell_type": "code",
   "execution_count": null,
   "metadata": {},
   "outputs": [],
   "source": [
    "print(list(df_V))"
   ]
  },
  {
   "cell_type": "code",
   "execution_count": null,
   "metadata": {},
   "outputs": [],
   "source": [
    "df_V_bmi = df_V.dropna(subset=['BMI_CALCULATED'])\n",
    "print('Exams with BMI: ', len(df_V_bmi))\n",
    "df_V_bmi2 = df_V.dropna(subset=['BMI_FOR_AGE_PERCENTILE'])\n",
    "print('Exams with BMI: ', len(df_V_bmi2))\n",
    "df_V_bmi3 = df_V.dropna(subset=['BMI_CALCULATED','BMI_FOR_AGE_PERCENTILE'])\n",
    "print('Exams with BMI: ', len(df_V_bmi3))"
   ]
  },
  {
   "cell_type": "code",
   "execution_count": null,
   "metadata": {},
   "outputs": [],
   "source": [
    "# Length of all exams\n",
    "print('All valid exams: ', len(df_V))\n",
    "\n",
    "# Calculate exams with BMI,\n",
    "df_V_bmi = df_V.dropna(subset=['BMI_FOR_AGE_PERCENTILE'])\n",
    "df_V_bmi.to_csv(output+'/corrected_finaldata_wAgeRace_wbmi.csv')\n",
    "print('Exams with BMI: ', len(df_V_bmi))\n",
    "\n",
    "# Calculate exams without BMI,\n",
    "df_V_nobmi = df_V[df_V['BMI_FOR_AGE_PERCENTILE'].isna()]\n",
    "df_V_nobmi.to_csv(output+'/corrected_finaldata_nobmi.csv')\n",
    "print('Exams without BMI: ', len(df_V_nobmi))\n",
    "\n",
    "# Calculate exams with Height and Weight but no BMI\n",
    "df_V_H_W_nobmi = df_V_nobmi[(df_V_nobmi['HEIGHT'].notna()) & (df_V_nobmi['WEIGHT'].notna())]\n",
    "print('Exams with H and W, no bmi:', len(df_V_H_W_nobmi))\n",
    "\n",
    "# Calculate exams with Height alone but no BMI, Weight\n",
    "df_V_H_noW_nobmi = df_V_nobmi[(df_V_nobmi['HEIGHT'].notna()) & (df_V_nobmi['WEIGHT'].isna())]\n",
    "print('Exams with H, no W, no bmi:',len(df_V_H_noW_nobmi))\n",
    "\n",
    "# Caculate exams with Weight alone but no BMI, Height\n",
    "df_V_noH_W_nobmi = df_V_nobmi[(df_V_nobmi['HEIGHT'].isna()) & (df_V_nobmi['WEIGHT'].notna())]\n",
    "print('Exams with  W, no H, no bmi:',len(df_V_noH_W_nobmi))\n",
    "\n",
    "# Caculate exams with no Weight, no BMI, no Height\n",
    "df_V_noH_noW_nobmi = df_V_nobmi[(df_V_nobmi['HEIGHT'].isna()) & (df_V_nobmi['WEIGHT'].isna())]\n",
    "print('Exams with  no W, no H, no bmi:',len(df_V_noH_noW_nobmi))"
   ]
  },
  {
   "cell_type": "code",
   "execution_count": null,
   "metadata": {},
   "outputs": [],
   "source": [
    "# deleting dataframes without weight and bmi:\n",
    "del df_V_noH_noW_nobmi\n",
    "del df_V_H_noW_nobmi"
   ]
  },
  {
   "cell_type": "code",
   "execution_count": null,
   "metadata": {},
   "outputs": [],
   "source": [
    "# Calculate bmi for cases with heigh and weight, but no BMI\n",
    "# Invoke Jimmy's bmi calculator routines\n",
    "from height_age_weight_percentiles import *\n",
    "\n",
    "wt_rec_len_table = build_cdc_stats_table(data+'/weight_for_recumbent_length.csv')\n",
    "bmi_age_table = build_cdc_stats_table(data+'/bmi_for_age.csv')\n",
    "\n",
    "def bmi_percentile_per_row(row):\n",
    "    \"\"\"This function is applied to each row, it calculates the Z-score for a given age in months, height, and weight\"\"\"\n",
    "    \n",
    "    # Loads data from spreadsheet, uses age in months, weight in kg, and length (height) in cm.\n",
    "    weight_kg = row['WEIGHT'] #/ POUNDS_TO_KG\n",
    "    length_cm = row['HEIGHT'] #* INCHES_TO_CM\n",
    "    sex = 1 if row['Sex'] == 'Male' else 2\n",
    "    age_months = age_in_years_to_months(row['Age'])\n",
    "    \n",
    "    # handles blanks\n",
    "    if length_cm < 0 or weight_kg < 0:\n",
    "        print(\"Neg Error: Height {} Weight {} Sex {}\".format(length_cm,weight_kg,sex))\n",
    "        return np.nan\n",
    "    \n",
    "    # if less than 2 years old, use weight for recumbent length instead of height\n",
    "    # (infants can't stand up so they measure them laying down)\n",
    "    if  age_months < 24:\n",
    "        try:\n",
    "            # the variables_for functions return the normal distribution (I think) variables for the \n",
    "            v = wt_rec_len_table.variables_for(sex, factor=length_cm)\n",
    "        except KeyError:\n",
    "            print(\"Error: ACC {} Age {} Height {} Weight {} Sex {}\".format(row['ACC'],row['Age'],length_cm,weight_kg,sex))\n",
    "            return np.nan\n",
    "        \n",
    "        return float(zscore_for_measurement(weight_kg, v.L, v.M, v.S))\n",
    "    \n",
    "    # otherwise, just calculate the standard bmi zscore\n",
    "    else:\n",
    "        height_m = length_cm / 100\n",
    "        bmi = weight_kg / (height_m**2)\n",
    "        \n",
    "        v = bmi_age_table.variables_for(sex, factor=age_months)\n",
    "        return (1-scipy.stats.norm.sf(abs(float(zscore_for_measurement(bmi, v.L, v.M, v.S)))))*100"
   ]
  },
  {
   "cell_type": "code",
   "execution_count": null,
   "metadata": {},
   "outputs": [],
   "source": [
    "bmi_percentile = df_V_H_W_nobmi.apply(bmi_percentile_per_row, axis=1)\n",
    "df_V_H_W_nobmi['BMI_FOR_AGE_PERCENTILE'] = bmi_percentile\n",
    "print(\"Number of exams for which BMI percentile is missing, but Height and weight are present: \",len(df_V_H_W_nobmi))\n",
    "df_V_H_W_nobmi = df_V_H_W_nobmi.dropna(subset=['BMI_FOR_AGE_PERCENTILE'])\n",
    "print(\"Number of exams for which BMI percentile was calculated: \",len(df_V_H_W_nobmi))"
   ]
  },
  {
   "cell_type": "code",
   "execution_count": null,
   "metadata": {},
   "outputs": [],
   "source": [
    "df_V_final = pd.concat([df_V_H_W_nobmi,df_V_bmi],axis=0)"
   ]
  },
  {
   "cell_type": "code",
   "execution_count": null,
   "metadata": {},
   "outputs": [],
   "source": [
    "len(df_V_final)"
   ]
  },
  {
   "cell_type": "code",
   "execution_count": null,
   "metadata": {},
   "outputs": [],
   "source": [
    "df_V.to_csv(output+'/corrected_finaldata_forquery.csv')\n",
    "df_V_H_W_nobmi.to_csv(output+'/corrected_finaldata_withcalculatedbmi.csv')\n",
    "df_V_final.to_csv(output+'/corrected_finaldata_withbmionly_v5.csv')"
   ]
  },
  {
   "cell_type": "code",
   "execution_count": null,
   "metadata": {},
   "outputs": [],
   "source": [
    "# Visualize age histogram\n",
    "import matplotlib.pyplot as plt\n",
    "#d = np.random.laplace(loc=15, scale=3, size=500)\n",
    "\n",
    "fig = plt.figure(figsize=(15,7), dpi=300)\n",
    "\n",
    "# Pie chart, where the slices will be ordered and plotted counter-clockwise:\n",
    "ax1 = plt.subplot2grid((1,2),(0,0))\n",
    "\n",
    "agebins = [0, 1, 2, 3, 4, 5, 6, 7, 8, 9, 10, 11, 12, 13, 14, 15, 16, 17, 18]\n",
    "male = df_V_final[df_V_final['Sex']=='Male']['AgeGroup']\n",
    "female = df_V_final[df_V_final['Sex']=='Female']['AgeGroup']\n",
    "\n",
    "n, bins, patches = plt.hist(x=[male,female], bins = agebins, stacked=True,color=[\"blue\", \"red\"],\n",
    "                            alpha=0.7, rwidth=0.85)\n",
    "plt.grid(axis='y', alpha=0.75)\n",
    "plt.ylabel('Number of Exams')\n",
    "plt.xlabel('Age (Yrs)')\n",
    "plt.title('Age wise distribution of normal patients with bmi')\n",
    "plt.xlim(xmax=18,xmin=0)\n",
    "plt.xticks(range(0,19))\n",
    "plt.legend({'Male': \"blue\", 'Female': \"red\"})\n",
    "#plt.text(23, 45, r'$\\mu=15, b=3$')\n",
    "maxfreq = max([n[0].max(),n[1].max()])\n",
    "# Set a clean upper y-axis limit.\n",
    "plt.ylim(ymax=np.ceil(maxfreq / 10) * 10 if maxfreq % 10 else maxfreq + 10)\n",
    "# Set x-axis limits.\n",
    "ax1 = plt.subplot2grid((1,2),(0,1))\n",
    "male = df_V[df_V['Sex']=='Male']['AgeGroup']\n",
    "female = df_V[df_V['Sex']=='Female']['AgeGroup']\n",
    "n, bins, patches = plt.hist(x=[male,female], bins = agebins, stacked=True,color=[\"blue\", \"red\"],\n",
    "                            alpha=0.7, rwidth=0.85)\n",
    "plt.grid(axis='y', alpha=0.75)\n",
    "plt.ylabel('Number of Exams')\n",
    "plt.xlabel('Age (Yrs)')\n",
    "plt.title('Age wise distribution of normal patients with age and weight')\n",
    "plt.xlim(xmax=18,xmin=0)\n",
    "plt.xticks(range(0,19))\n",
    "plt.legend({'Male': \"blue\", 'Female': \"red\"})\n",
    "\n",
    "#plt.savefig(output+'hist.png')"
   ]
  },
  {
   "cell_type": "code",
   "execution_count": null,
   "metadata": {
    "scrolled": true
   },
   "outputs": [],
   "source": []
  },
  {
   "cell_type": "code",
   "execution_count": null,
   "metadata": {},
   "outputs": [],
   "source": [
    "plt.savefig(output+'hist.png')"
   ]
  },
  {
   "cell_type": "code",
   "execution_count": null,
   "metadata": {},
   "outputs": [],
   "source": [
    "print(output)"
   ]
  },
  {
   "cell_type": "code",
   "execution_count": null,
   "metadata": {},
   "outputs": [],
   "source": []
  }
 ],
 "metadata": {
  "celltoolbar": "Slideshow",
  "kernelspec": {
   "display_name": "Python 3",
   "language": "python",
   "name": "python3"
  },
  "language_info": {
   "codemirror_mode": {
    "name": "ipython",
    "version": 3
   },
   "file_extension": ".py",
   "mimetype": "text/x-python",
   "name": "python",
   "nbconvert_exporter": "python",
   "pygments_lexer": "ipython3",
   "version": "3.7.3"
  }
 },
 "nbformat": 4,
 "nbformat_minor": 2
}
