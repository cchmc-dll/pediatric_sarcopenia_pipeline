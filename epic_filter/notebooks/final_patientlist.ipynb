{
 "cells": [
  {
   "cell_type": "code",
   "execution_count": 8,
   "metadata": {},
   "outputs": [],
   "source": [
    "from matplotlib import pyplot as plt\n",
    "import os\n",
    "import numpy as np\n",
    "import pandas as pd\n",
    "from matplotlib_venn import venn2, venn3, venn3_circles\n",
    "import scipy\n",
    "\n",
    "from datetime import timedelta as dt\n",
    "pd.set_option(\"display.max_rows\",None)\n",
    "#os.chdir('C:\\\\Users\\\\somd7w\\\\Desktop\\\\DL_Projects\\\\preproc_cntr')\n",
    "cwd = os.getcwd()\n",
    "data = cwd + '/data'\n",
    "output = cwd+ '/output'"
   ]
  },
  {
   "cell_type": "code",
   "execution_count": 10,
   "metadata": {},
   "outputs": [
    {
     "name": "stdout",
     "output_type": "stream",
     "text": [
      "Length of df_M:  3220\n",
      "Length of df_N:  2238\n"
     ]
    }
   ],
   "source": [
    "# Import Final Patients List\n",
    "infile  = output+'/corrected_finaldata_withbmionly_v5.csv'\n",
    "# Have to figure out the difference between v2 and v4\n",
    "#infile  = output+'/corrected_finaldata_withbmionly_v4.csv'\n",
    "df_M = pd.read_csv(infile, index_col=False)\n",
    "df_M['CT_SCAN_DATE'] = pd.to_datetime(df_M.CT_SCAN_DATE)\n",
    "df_M = df_M.loc[:, ~df_M.columns.str.contains('^Unnamed')]\n",
    "#print('Columns of df_M: ', list(df_M))\n",
    "print('Length of df_M: ', len(df_M))\n",
    "\n",
    "df_N = df_M[(df_M['BMI_FOR_AGE_PERCENTILE'] >= 5) & (df_M['BMI_FOR_AGE_PERCENTILE'] <= 95)]\n",
    "normal_pats = len(df_N)\n",
    "\n",
    "print('Length of df_N: ', len(df_N))"
   ]
  },
  {
   "cell_type": "code",
   "execution_count": 12,
   "metadata": {},
   "outputs": [],
   "source": [
    "df_N.to_csv(output+'/patlist_with_validBMI_corrected_v5.csv')"
   ]
  }
 ],
 "metadata": {
  "kernelspec": {
   "display_name": "Python 3",
   "language": "python",
   "name": "python3"
  },
  "language_info": {
   "codemirror_mode": {
    "name": "ipython",
    "version": 3
   },
   "file_extension": ".py",
   "mimetype": "text/x-python",
   "name": "python",
   "nbconvert_exporter": "python",
   "pygments_lexer": "ipython3",
   "version": "3.7.3"
  }
 },
 "nbformat": 4,
 "nbformat_minor": 2
}
