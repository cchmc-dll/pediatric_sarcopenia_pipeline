{
 "cells": [
  {
   "cell_type": "code",
   "execution_count": 14,
   "metadata": {},
   "outputs": [],
   "source": [
    "from matplotlib import pyplot as plt\n",
    "import os\n",
    "import numpy as np\n",
    "import pandas as pd\n",
    "from matplotlib_venn import venn2, venn3, venn3_circles\n",
    "import scipy\n",
    "\n",
    "from datetime import timedelta as dt\n",
    "pd.set_option(\"display.max_rows\",None)\n",
    "#os.chdir('C:\\\\Users\\\\somd7w\\\\Desktop\\\\DL_Projects\\\\preproc_cntr')\n",
    "cwd = os.getcwd()\n",
    "data = cwd + '/data'\n",
    "output = cwd+ '/output'"
   ]
  },
  {
   "cell_type": "code",
   "execution_count": 15,
   "metadata": {},
   "outputs": [],
   "source": [
    "# Define Variables\n",
    "pats_imaging = 8817\n",
    "\n",
    "pats_wWeight = 7923\n",
    "\n",
    "pats_problems = 6642\n",
    "pats_cancers = 724\n",
    "pats_autoimmune=58\n",
    "pats_congenital_disorders=267\n",
    "pats_malabsorptive = 2\n",
    "pats_neuromuscular=469\n",
    "pats_endocrine = 1159\n",
    "pats_transplant = 28\n",
    "pats_unknownproblems = 3935\n",
    "\n",
    "pats_meds=2624\n",
    "pats_steroids=2385\n",
    "pats_throid=559\n",
    "pats_non_parenteral_nutrition=380\n",
    "pats_antineoplastics=3590\n",
    "\n",
    "pats_LDA = 7732\n",
    "pats_miscLDA = 1633\n",
    "pats_enteric_tubes = 1052\n",
    "\n",
    "pats_surgeries = 4762\n",
    "pats_surghistory=4952"
   ]
  },
  {
   "cell_type": "code",
   "execution_count": 17,
   "metadata": {},
   "outputs": [
    {
     "name": "stdout",
     "output_type": "stream",
     "text": [
      "Length of df_M:  3450\n",
      "Length of df_N:  2399\n"
     ]
    }
   ],
   "source": [
    "# Import Final Patients List\n",
    "infile  = output+'/finaldata_withbmionly.csv'\n",
    "df_M = pd.read_csv(infile, index_col=False)\n",
    "df_M['CT_SCAN_DATE'] = pd.to_datetime(df_M.CT_SCAN_DATE)\n",
    "df_M = df_M.loc[:, ~df_M.columns.str.contains('^Unnamed')]\n",
    "#print('Columns of df_M: ', list(df_M))\n",
    "print('Length of df_M: ', len(df_M))\n",
    "\n",
    "df_N = df_M[(df_M['BMI_FOR_AGE_PERCENTILE'] >= 5) & (df_M['BMI_FOR_AGE_PERCENTILE'] <= 95)]\n",
    "normal_pats = len(df_N)\n",
    "\n",
    "print('Length of df_N: ', len(df_N))"
   ]
  },
  {
   "cell_type": "code",
   "execution_count": 19,
   "metadata": {},
   "outputs": [
    {
     "name": "stdout",
     "output_type": "stream",
     "text": [
      "2399\n",
      "2314\n"
     ]
    },
    {
     "data": {
      "text/html": [
       "<div>\n",
       "<style scoped>\n",
       "    .dataframe tbody tr th:only-of-type {\n",
       "        vertical-align: middle;\n",
       "    }\n",
       "\n",
       "    .dataframe tbody tr th {\n",
       "        vertical-align: top;\n",
       "    }\n",
       "\n",
       "    .dataframe thead th {\n",
       "        text-align: right;\n",
       "    }\n",
       "</style>\n",
       "<table border=\"1\" class=\"dataframe\">\n",
       "  <thead>\n",
       "    <tr style=\"text-align: right;\">\n",
       "      <th></th>\n",
       "      <th>GIVEN_MRN</th>\n",
       "      <th>NEW_MRN</th>\n",
       "      <th>PAT_ID</th>\n",
       "      <th>CT_SCAN_DATE</th>\n",
       "      <th>ACC</th>\n",
       "      <th>STUDYRESULT</th>\n",
       "      <th>IMPRESSION</th>\n",
       "      <th>WEIGHT</th>\n",
       "      <th>HEIGHT</th>\n",
       "      <th>BMI_FOR_AGE_PERCENTILE</th>\n",
       "      <th>...</th>\n",
       "      <th>LDA_GROUP</th>\n",
       "      <th>LDA_ID</th>\n",
       "      <th>LDAS</th>\n",
       "      <th>SURGERY</th>\n",
       "      <th>SURGERY_to_Imaging_days</th>\n",
       "      <th>ValidPatient</th>\n",
       "      <th>Age</th>\n",
       "      <th>Sex</th>\n",
       "      <th>Race</th>\n",
       "      <th>AgeGroup</th>\n",
       "    </tr>\n",
       "  </thead>\n",
       "  <tbody>\n",
       "    <tr>\n",
       "      <th>0</th>\n",
       "      <td>1343508</td>\n",
       "      <td>NaN</td>\n",
       "      <td>Z704566</td>\n",
       "      <td>2014-06-12 16:40:00</td>\n",
       "      <td>8018969</td>\n",
       "      <td>CLINICAL HISTORY: SBO.  Pt has had severe abd ...</td>\n",
       "      <td>IMPRESSION: Findings concerning for a small bo...</td>\n",
       "      <td>23.15</td>\n",
       "      <td>125.0</td>\n",
       "      <td>72.284778</td>\n",
       "      <td>...</td>\n",
       "      <td>unknown_ldas</td>\n",
       "      <td>NaN</td>\n",
       "      <td>NaN</td>\n",
       "      <td>surgery</td>\n",
       "      <td>&gt; 30</td>\n",
       "      <td>1</td>\n",
       "      <td>7.429290</td>\n",
       "      <td>Male</td>\n",
       "      <td>White</td>\n",
       "      <td>7.0</td>\n",
       "    </tr>\n",
       "    <tr>\n",
       "      <th>1</th>\n",
       "      <td>11699446</td>\n",
       "      <td>NaN</td>\n",
       "      <td>Z1931299</td>\n",
       "      <td>2017-11-05 00:38:00</td>\n",
       "      <td>8842054</td>\n",
       "      <td>CLINICAL HISTORY: 2 yr old male with history o...</td>\n",
       "      <td>1.  No acute traumatic abnormality in the abdo...</td>\n",
       "      <td>10.80</td>\n",
       "      <td>84.0</td>\n",
       "      <td>84.492605</td>\n",
       "      <td>...</td>\n",
       "      <td>unknown_ldas</td>\n",
       "      <td>NaN</td>\n",
       "      <td>NaN</td>\n",
       "      <td>no_surgery</td>\n",
       "      <td>NaN</td>\n",
       "      <td>1</td>\n",
       "      <td>2.137059</td>\n",
       "      <td>Male</td>\n",
       "      <td>Black or African American</td>\n",
       "      <td>2.0</td>\n",
       "    </tr>\n",
       "    <tr>\n",
       "      <th>2</th>\n",
       "      <td>1299521</td>\n",
       "      <td>NaN</td>\n",
       "      <td>Z664930</td>\n",
       "      <td>2014-06-23 01:06:00</td>\n",
       "      <td>8024856</td>\n",
       "      <td>CLINICAL HISTORY: [8-year-old with abdominal p...</td>\n",
       "      <td>IMPRESSION: Grade 3 splenic laceration with as...</td>\n",
       "      <td>23.70</td>\n",
       "      <td>118.0</td>\n",
       "      <td>72.637945</td>\n",
       "      <td>...</td>\n",
       "      <td>unknown_ldas</td>\n",
       "      <td>NaN</td>\n",
       "      <td>NaN</td>\n",
       "      <td>no_surgery</td>\n",
       "      <td>NaN</td>\n",
       "      <td>1</td>\n",
       "      <td>8.260371</td>\n",
       "      <td>Male</td>\n",
       "      <td>Black or African American</td>\n",
       "      <td>8.0</td>\n",
       "    </tr>\n",
       "    <tr>\n",
       "      <th>4</th>\n",
       "      <td>11437502</td>\n",
       "      <td>NaN</td>\n",
       "      <td>Z1465933</td>\n",
       "      <td>2014-05-14 23:49:00</td>\n",
       "      <td>8000527</td>\n",
       "      <td>CLINICAL HISTORY: 9 yo F with blunt trauma to ...</td>\n",
       "      <td>IMPRESSION: 1.  Left grade V renal injury with...</td>\n",
       "      <td>30.80</td>\n",
       "      <td>124.0</td>\n",
       "      <td>87.314049</td>\n",
       "      <td>...</td>\n",
       "      <td>unknown_ldas</td>\n",
       "      <td>NaN</td>\n",
       "      <td>NaN</td>\n",
       "      <td>no_surgery</td>\n",
       "      <td>NaN</td>\n",
       "      <td>1</td>\n",
       "      <td>9.627373</td>\n",
       "      <td>Female</td>\n",
       "      <td>White</td>\n",
       "      <td>10.0</td>\n",
       "    </tr>\n",
       "    <tr>\n",
       "      <th>8</th>\n",
       "      <td>11063680</td>\n",
       "      <td>NaN</td>\n",
       "      <td>Z1091411</td>\n",
       "      <td>2014-05-24 02:02:00</td>\n",
       "      <td>8006713</td>\n",
       "      <td>CLINICAL HISTORY: 5-year-old, s/p MVC with ele...</td>\n",
       "      <td>IMPRESSION: No traumatic injury of the abdomen...</td>\n",
       "      <td>20.75</td>\n",
       "      <td>111.0</td>\n",
       "      <td>84.833169</td>\n",
       "      <td>...</td>\n",
       "      <td>unknown_ldas</td>\n",
       "      <td>NaN</td>\n",
       "      <td>NaN</td>\n",
       "      <td>surgery</td>\n",
       "      <td>&gt; 30</td>\n",
       "      <td>1</td>\n",
       "      <td>5.197492</td>\n",
       "      <td>Male</td>\n",
       "      <td>White</td>\n",
       "      <td>5.0</td>\n",
       "    </tr>\n",
       "  </tbody>\n",
       "</table>\n",
       "<p>5 rows × 27 columns</p>\n",
       "</div>"
      ],
      "text/plain": [
       "   GIVEN_MRN  NEW_MRN    PAT_ID        CT_SCAN_DATE      ACC  \\\n",
       "0    1343508      NaN   Z704566 2014-06-12 16:40:00  8018969   \n",
       "1   11699446      NaN  Z1931299 2017-11-05 00:38:00  8842054   \n",
       "2    1299521      NaN   Z664930 2014-06-23 01:06:00  8024856   \n",
       "4   11437502      NaN  Z1465933 2014-05-14 23:49:00  8000527   \n",
       "8   11063680      NaN  Z1091411 2014-05-24 02:02:00  8006713   \n",
       "\n",
       "                                         STUDYRESULT  \\\n",
       "0  CLINICAL HISTORY: SBO.  Pt has had severe abd ...   \n",
       "1  CLINICAL HISTORY: 2 yr old male with history o...   \n",
       "2  CLINICAL HISTORY: [8-year-old with abdominal p...   \n",
       "4  CLINICAL HISTORY: 9 yo F with blunt trauma to ...   \n",
       "8  CLINICAL HISTORY: 5-year-old, s/p MVC with ele...   \n",
       "\n",
       "                                          IMPRESSION  WEIGHT  HEIGHT  \\\n",
       "0  IMPRESSION: Findings concerning for a small bo...   23.15   125.0   \n",
       "1  1.  No acute traumatic abnormality in the abdo...   10.80    84.0   \n",
       "2  IMPRESSION: Grade 3 splenic laceration with as...   23.70   118.0   \n",
       "4  IMPRESSION: 1.  Left grade V renal injury with...   30.80   124.0   \n",
       "8  IMPRESSION: No traumatic injury of the abdomen...   20.75   111.0   \n",
       "\n",
       "   BMI_FOR_AGE_PERCENTILE  ...     LDA_GROUP LDA_ID  LDAS     SURGERY  \\\n",
       "0               72.284778  ...  unknown_ldas    NaN   NaN     surgery   \n",
       "1               84.492605  ...  unknown_ldas    NaN   NaN  no_surgery   \n",
       "2               72.637945  ...  unknown_ldas    NaN   NaN  no_surgery   \n",
       "4               87.314049  ...  unknown_ldas    NaN   NaN  no_surgery   \n",
       "8               84.833169  ...  unknown_ldas    NaN   NaN     surgery   \n",
       "\n",
       "  SURGERY_to_Imaging_days  ValidPatient       Age     Sex  \\\n",
       "0                    > 30             1  7.429290    Male   \n",
       "1                     NaN             1  2.137059    Male   \n",
       "2                     NaN             1  8.260371    Male   \n",
       "4                     NaN             1  9.627373  Female   \n",
       "8                    > 30             1  5.197492    Male   \n",
       "\n",
       "                        Race  AgeGroup  \n",
       "0                      White       7.0  \n",
       "1  Black or African American       2.0  \n",
       "2  Black or African American       8.0  \n",
       "4                      White      10.0  \n",
       "8                      White       5.0  \n",
       "\n",
       "[5 rows x 27 columns]"
      ]
     },
     "metadata": {},
     "output_type": "display_data"
    }
   ],
   "source": [
    "df_N_age = df_N[df_N['Age'] >= 3]\n",
    "print(len(df_N))\n",
    "print(len(df_N_age))\n",
    "display(df_N.head(5))"
   ]
  },
  {
   "cell_type": "code",
   "execution_count": 20,
   "metadata": {},
   "outputs": [],
   "source": [
    "df_N.to_csv(output+'/patlist_with_validBMI.csv')\n",
    "df_N_age.to_csv(output+'/patlist_with_validBMI_age3nabove.csv')"
   ]
  },
  {
   "cell_type": "code",
   "execution_count": 8,
   "metadata": {},
   "outputs": [
    {
     "name": "stdout",
     "output_type": "stream",
     "text": [
      "Columns of df_P:  ['subject_id', 'area_mm2', 'sagittal_series', 'axial_series']\n",
      "Length of df_P:  7158\n",
      "# of Unique patients:  4969\n"
     ]
    }
   ],
   "source": [
    "infile  = output+'/predictions_v1.csv'\n",
    "df_P = pd.read_csv(infile, index_col=False)\n",
    "print('Columns of df_P: ', list(df_P))\n",
    "print('Length of df_P: ', len(df_P))\n",
    "print('# of Unique patients: ', len(df_P.subject_id.unique()))"
   ]
  },
  {
   "cell_type": "code",
   "execution_count": 21,
   "metadata": {},
   "outputs": [
    {
     "name": "stdout",
     "output_type": "stream",
     "text": [
      "Length of df_missing: 409\n",
      "Length of df_N: 1990\n"
     ]
    }
   ],
   "source": [
    "# Filter df_M to match the unique patients in df_P\n",
    "unique_pats = df_P.subject_id.unique()\n",
    "df_missing = df_N[~df_N['PAT_ID'].isin(unique_pats)]\n",
    "print('Length of df_missing:', len(df_missing))\n",
    "\n",
    "df_missing.to_csv(output+'/missingCT.csv')\n",
    "\n",
    "df_N = df_N[df_N['PAT_ID'].isin(unique_pats)]\n",
    "print('Length of df_N:', len(df_N))"
   ]
  },
  {
   "cell_type": "code",
   "execution_count": 293,
   "metadata": {
    "scrolled": true
   },
   "outputs": [
    {
     "name": "stdout",
     "output_type": "stream",
     "text": [
      "Length of df_P after dropping equal area duplicates:  5831\n",
      "Length of df_P_duplicates: 1355\n",
      "# unique pats with dupliates:  493\n"
     ]
    }
   ],
   "source": [
    "# Handle patients with more than one image series and hence more than one predicted muscle area.\n",
    "df_P = df_P.sort_values(by=['subject_id'])\n",
    "\n",
    "#Drop patients with multiple predictions but same area\n",
    "df_P = df_P.drop_duplicates(['subject_id','area_mm2'], keep='last')\n",
    "print('Length of df_P after dropping equal area duplicates: ', len(df_P))\n",
    "\n",
    "df_P_duplicates = df_P[df_P.duplicated('subject_id',keep=False)==True]\n",
    "print('Length of df_P_duplicates:', len(df_P_duplicates))\n",
    "\n",
    "duplicate_pats = df_P_duplicates.subject_id.unique()\n",
    "print('# unique pats with dupliates: ', len(df_P_duplicates.subject_id.unique()))\n",
    "\n",
    "df_P_unique =  df_P.drop_duplicates(['subject_id'], keep='last')"
   ]
  },
  {
   "cell_type": "code",
   "execution_count": 294,
   "metadata": {},
   "outputs": [
    {
     "name": "stdout",
     "output_type": "stream",
     "text": [
      "Total number of area predictions:  5831\n",
      "Number of unique patients with area prediction:  4969\n",
      "Number of patients with multiple area predictions:  493\n"
     ]
    }
   ],
   "source": [
    "# Stats:\n",
    "print(\"Total number of area predictions: \", len(df_P))\n",
    "print(\"Number of unique patients with area prediction: \", len(unique_pats))\n",
    "print(\"Number of patients with multiple area predictions: \", len(duplicate_pats))"
   ]
  },
  {
   "cell_type": "markdown",
   "metadata": {},
   "source": [
    "# ANALYSIS"
   ]
  },
  {
   "cell_type": "code",
   "execution_count": 298,
   "metadata": {
    "scrolled": true
   },
   "outputs": [
    {
     "name": "stdout",
     "output_type": "stream",
     "text": [
      "4476\n",
      "['PAT_ID', 'area_mm2', 'sagittal_series', 'axial_series']\n",
      "['PAT_ID', 'area_mm2', 'sagittal_series', 'axial_series']\n"
     ]
    },
    {
     "name": "stderr",
     "output_type": "stream",
     "text": [
      "/opt/conda/lib/python3.7/site-packages/pandas/core/frame.py:4025: SettingWithCopyWarning: \n",
      "A value is trying to be set on a copy of a slice from a DataFrame\n",
      "\n",
      "See the caveats in the documentation: http://pandas.pydata.org/pandas-docs/stable/indexing.html#indexing-view-versus-copy\n",
      "  return super(DataFrame, self).rename(**kwargs)\n"
     ]
    }
   ],
   "source": [
    "# no duplicate dataframe\n",
    "df_P_noduplicates = df_P[~df_P['subject_id'].isin(duplicate_pats)]\n",
    "print(len(df_P_noduplicates))\n",
    "\n",
    "df_P_noduplicates.rename(columns={'subject_id': 'PAT_ID'}, inplace=True)\n",
    "print(list(df_P_noduplicates))\n",
    "\n",
    "\n",
    "# no duplicate dataframe\n",
    "df_P_unique.rename(columns={'subject_id': 'PAT_ID'}, inplace=True)\n",
    "print(list(df_P_unique))"
   ]
  },
  {
   "cell_type": "code",
   "execution_count": 203,
   "metadata": {},
   "outputs": [
    {
     "name": "stdout",
     "output_type": "stream",
     "text": [
      "Number of normal unique patients with studies:  1990\n",
      "Number of normal patients without duplicate studies:  1772\n",
      "Total number of normal patients in dataset:  2399\n",
      "Number of normal patients with studies missing:  409\n"
     ]
    }
   ],
   "source": [
    "df_PN = pd.merge(df_P_noduplicates, df_N, on='PAT_ID', how='inner')\n",
    "df_PNunique = pd.merge(df_P_unique, df_N, on='PAT_ID', how='inner')\n",
    "\n",
    "print(\"Number of normal unique patients with studies: \", len(df_PNunique))\n",
    "print(\"Number of normal patients without duplicate studies: \", len(df_PN))\n",
    "print(\"Total number of normal patients in dataset: \", normal_pats)\n",
    "print(\"Number of normal patients with studies missing: \", normal_pats - len(df_N))"
   ]
  }
 ],
 "metadata": {
  "kernelspec": {
   "display_name": "Python 3",
   "language": "python",
   "name": "python3"
  },
  "language_info": {
   "codemirror_mode": {
    "name": "ipython",
    "version": 3
   },
   "file_extension": ".py",
   "mimetype": "text/x-python",
   "name": "python",
   "nbconvert_exporter": "python",
   "pygments_lexer": "ipython3",
   "version": "3.6.9"
  }
 },
 "nbformat": 4,
 "nbformat_minor": 2
}
