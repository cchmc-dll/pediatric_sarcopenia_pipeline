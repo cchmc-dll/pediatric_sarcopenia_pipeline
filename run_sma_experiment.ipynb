{
 "cells": [
  {
   "cell_type": "markdown",
   "metadata": {},
   "source": [
    "# Load libraries and directories"
   ]
  },
  {
   "cell_type": "code",
   "execution_count": 97,
   "metadata": {},
   "outputs": [],
   "source": [
    "from IPython.display import display, HTML"
   ]
  },
  {
   "cell_type": "code",
   "execution_count": 98,
   "metadata": {},
   "outputs": [],
   "source": [
    "# from IPython import get_ipython\n",
    "from tqdm.notebook import tqdm\n",
    "import pickle\n",
    "import os\n",
    "import pprint\n",
    "pp = pprint.PrettyPrinter(indent=1)\n",
    "\n",
    "# Custom modules for debugging\n",
    "from SliceViewer import ImageSliceViewer3D, ImageSliceViewer3D_1view,ImageSliceViewer3D_2views\n",
    "from investigate import *\n",
    "\n",
    "#pd.set_option(\"display.max_rows\", 10)\n",
    "      \n",
    "import json\n",
    "from run_sma_experiment import find_l3_images,output_images\n",
    "import pprint\n",
    "from L3_finder import *\n",
    "\n",
    "# Custom functions\n",
    "def save_object(obj, filename):\n",
    "    with open(filename, 'wb') as output:  # Overwrites any existing file.\n",
    "        pickle.dump(obj, output, pickle.HIGHEST_PROTOCOL)\n",
    "\n",
    "def load_object(filename):        \n",
    "    with open(filename, 'rb') as input:\n",
    "        return pickle.load(input)"
   ]
  },
  {
   "cell_type": "code",
   "execution_count": 99,
   "metadata": {},
   "outputs": [
    {
     "ename": "NameError",
     "evalue": "name 'dump' is not defined",
     "output_type": "error",
     "traceback": [
      "\u001b[0;31m---------------------------------------------------------------------------\u001b[0m",
      "\u001b[0;31mNameError\u001b[0m                                 Traceback (most recent call last)",
      "\u001b[0;32m<ipython-input-95-f50f82cced73>\u001b[0m in \u001b[0;36m<module>\u001b[0;34m\u001b[0m\n\u001b[1;32m      1\u001b[0m \u001b[0;31m# Get final\u001b[0m\u001b[0;34m\u001b[0m\u001b[0;34m\u001b[0m\u001b[0;34m\u001b[0m\u001b[0m\n\u001b[0;32m----> 2\u001b[0;31m \u001b[0mfinal_df_file\u001b[0m \u001b[0;34m=\u001b[0m \u001b[0;34m'df_final_dump_'\u001b[0m\u001b[0;34m+\u001b[0m\u001b[0mstr\u001b[0m\u001b[0;34m(\u001b[0m\u001b[0mdump\u001b[0m\u001b[0;34m)\u001b[0m\u001b[0;34m+\u001b[0m\u001b[0;34m'.pkl'\u001b[0m\u001b[0;34m\u001b[0m\u001b[0;34m\u001b[0m\u001b[0m\n\u001b[0m\u001b[1;32m      3\u001b[0m \u001b[0mfinal_subs_file\u001b[0m \u001b[0;34m=\u001b[0m \u001b[0;34m'subjects_final_dump_'\u001b[0m\u001b[0;34m+\u001b[0m\u001b[0mstr\u001b[0m\u001b[0;34m(\u001b[0m\u001b[0mdump\u001b[0m\u001b[0;34m)\u001b[0m\u001b[0;34m+\u001b[0m\u001b[0;34m'.pkl'\u001b[0m\u001b[0;34m\u001b[0m\u001b[0;34m\u001b[0m\u001b[0m\n\u001b[1;32m      4\u001b[0m \u001b[0;34m\u001b[0m\u001b[0m\n\u001b[1;32m      5\u001b[0m \u001b[0msave_object\u001b[0m\u001b[0;34m(\u001b[0m\u001b[0mdf_final\u001b[0m\u001b[0;34m,\u001b[0m \u001b[0mos\u001b[0m\u001b[0;34m.\u001b[0m\u001b[0mpath\u001b[0m\u001b[0;34m.\u001b[0m\u001b[0mjoin\u001b[0m\u001b[0;34m(\u001b[0m\u001b[0moutput\u001b[0m\u001b[0;34m,\u001b[0m\u001b[0mfinal_df_file\u001b[0m\u001b[0;34m)\u001b[0m\u001b[0;34m)\u001b[0m\u001b[0;34m\u001b[0m\u001b[0;34m\u001b[0m\u001b[0m\n",
      "\u001b[0;31mNameError\u001b[0m: name 'dump' is not defined"
     ]
    }
   ],
   "source": [
    "get_ipython().run_line_magic('tb', '')"
   ]
  },
  {
   "cell_type": "markdown",
   "metadata": {},
   "source": [
    "### In CCHMC's workflow, there were two dicom dumps, with different folder structures and naming convention:\n",
    "<br>\n",
    "Folder structure: <br>\n",
    "Dump-1: Project_folder/Patient_folder/Series_Folder/dicom_files <br>\n",
    "Dump-2: Project_folder/Patient_folder/Study_folder/Series_Folder/dicom_files<br> \n",
    "<br>\n",
    "Naming Convention for patient folder: <br>\n",
    "Dump-1: PATID-GMRN-PATID-STUDYNAME <br>\n",
    "Dump-2: PT-PATID-PATID "
   ]
  },
  {
   "cell_type": "code",
   "execution_count": 100,
   "metadata": {},
   "outputs": [],
   "source": [
    "#Select which dump you are processing here [dump1: 1, dump2: 2]\n",
    "dump = 2"
   ]
  },
  {
   "cell_type": "code",
   "execution_count": 101,
   "metadata": {},
   "outputs": [],
   "source": [
    "cwd = os.getcwd()\n",
    "data = '/tf/data'\n",
    "output = '/tf/pickles'"
   ]
  },
  {
   "cell_type": "markdown",
   "metadata": {},
   "source": [
    "## Section 1 - Load list of normal patients filtered from Epic data and select those patients from the DICOM dump of all patients"
   ]
  },
  {
   "cell_type": "code",
   "execution_count": 5,
   "metadata": {
    "scrolled": false
   },
   "outputs": [
    {
     "name": "stdout",
     "output_type": "stream",
     "text": [
      "Columns of df_P:  ['GIVEN_MRN', 'PAT_ID', 'ACC']\n",
      "Length of df_P:  2399\n"
     ]
    },
    {
     "data": {
      "text/html": [
       "<div>\n",
       "<style scoped>\n",
       "    .dataframe tbody tr th:only-of-type {\n",
       "        vertical-align: middle;\n",
       "    }\n",
       "\n",
       "    .dataframe tbody tr th {\n",
       "        vertical-align: top;\n",
       "    }\n",
       "\n",
       "    .dataframe thead th {\n",
       "        text-align: right;\n",
       "    }\n",
       "</style>\n",
       "<table border=\"1\" class=\"dataframe\">\n",
       "  <thead>\n",
       "    <tr style=\"text-align: right;\">\n",
       "      <th></th>\n",
       "      <th>GIVEN_MRN</th>\n",
       "      <th>PAT_ID</th>\n",
       "      <th>ACC</th>\n",
       "    </tr>\n",
       "  </thead>\n",
       "  <tbody>\n",
       "    <tr>\n",
       "      <th>0</th>\n",
       "      <td>1343508</td>\n",
       "      <td>Z704566</td>\n",
       "      <td>8018969</td>\n",
       "    </tr>\n",
       "    <tr>\n",
       "      <th>1</th>\n",
       "      <td>11699446</td>\n",
       "      <td>Z1931299</td>\n",
       "      <td>8842054</td>\n",
       "    </tr>\n",
       "    <tr>\n",
       "      <th>2</th>\n",
       "      <td>1299521</td>\n",
       "      <td>Z664930</td>\n",
       "      <td>8024856</td>\n",
       "    </tr>\n",
       "    <tr>\n",
       "      <th>3</th>\n",
       "      <td>11437502</td>\n",
       "      <td>Z1465933</td>\n",
       "      <td>8000527</td>\n",
       "    </tr>\n",
       "    <tr>\n",
       "      <th>4</th>\n",
       "      <td>11063680</td>\n",
       "      <td>Z1091411</td>\n",
       "      <td>8006713</td>\n",
       "    </tr>\n",
       "    <tr>\n",
       "      <th>5</th>\n",
       "      <td>1212646</td>\n",
       "      <td>Z585709</td>\n",
       "      <td>8051250</td>\n",
       "    </tr>\n",
       "    <tr>\n",
       "      <th>6</th>\n",
       "      <td>11133354</td>\n",
       "      <td>Z1161168</td>\n",
       "      <td>8833553</td>\n",
       "    </tr>\n",
       "    <tr>\n",
       "      <th>7</th>\n",
       "      <td>11109370</td>\n",
       "      <td>Z1137138</td>\n",
       "      <td>8831692</td>\n",
       "    </tr>\n",
       "    <tr>\n",
       "      <th>8</th>\n",
       "      <td>11301610</td>\n",
       "      <td>Z1329744</td>\n",
       "      <td>8057737</td>\n",
       "    </tr>\n",
       "    <tr>\n",
       "      <th>9</th>\n",
       "      <td>11451698</td>\n",
       "      <td>Z1683576</td>\n",
       "      <td>8046105</td>\n",
       "    </tr>\n",
       "  </tbody>\n",
       "</table>\n",
       "</div>"
      ],
      "text/plain": [
       "   GIVEN_MRN    PAT_ID      ACC\n",
       "0    1343508   Z704566  8018969\n",
       "1   11699446  Z1931299  8842054\n",
       "2    1299521   Z664930  8024856\n",
       "3   11437502  Z1465933  8000527\n",
       "4   11063680  Z1091411  8006713\n",
       "5    1212646   Z585709  8051250\n",
       "6   11133354  Z1161168  8833553\n",
       "7   11109370  Z1137138  8831692\n",
       "8   11301610  Z1329744  8057737\n",
       "9   11451698  Z1683576  8046105"
      ]
     },
     "metadata": {},
     "output_type": "display_data"
    }
   ],
   "source": [
    "# Load normal patient list\n",
    "infile  = 'patlist_with_validBMI.csv'\n",
    "df_P = pd.read_csv(infile, index_col=False)\n",
    "df_P = df_P.loc[:, ~df_P.columns.str.contains('^Unnamed')]\n",
    "df_P = df_P[['GIVEN_MRN','PAT_ID','ACC']]\n",
    "print('Columns of df_P: ', list(df_P))\n",
    "print('Length of df_P: ', len(df_P))\n",
    "display(df_P.head(10))\n",
    "#print('# of Unique patients: ', len(df_P.subject_id.unique()))"
   ]
  },
  {
   "cell_type": "code",
   "execution_count": 6,
   "metadata": {},
   "outputs": [
    {
     "name": "stdout",
     "output_type": "stream",
     "text": [
      "Total patient folders in data dir:  383\n"
     ]
    }
   ],
   "source": [
    "pats = next(os.walk(data))[1]\n",
    "print('Total patient folders in data dir: ',len(pats))"
   ]
  },
  {
   "cell_type": "code",
   "execution_count": 8,
   "metadata": {},
   "outputs": [],
   "source": [
    "if dump == 1:\n",
    "    patids = [pat.split('-')[0] for pat in pats]\n",
    "elif dump == 2:\n",
    "    patids = [pat.split('-')[-1] for pat in pats]\n",
    "\n",
    "valid_ids = [valid_id for valid_id,valid_dir in zip(patids,pats) if valid_id in df_P.PAT_ID.values]\n",
    "\n",
    "valid_ids = set(valid_ids)"
   ]
  },
  {
   "cell_type": "code",
   "execution_count": 9,
   "metadata": {},
   "outputs": [
    {
     "name": "stdout",
     "output_type": "stream",
     "text": [
      "valid ids:  381\n"
     ]
    }
   ],
   "source": [
    "print('valid ids: ',len(valid_ids))"
   ]
  },
  {
   "cell_type": "markdown",
   "metadata": {},
   "source": [
    "## Section 2 - Load each study into subject object\n",
    "<br>\n",
    "Subject object defined in L3finder.ingest"
   ]
  },
  {
   "cell_type": "code",
   "execution_count": 10,
   "metadata": {
    "scrolled": true
   },
   "outputs": [
    {
     "name": "stdout",
     "output_type": "stream",
     "text": [
      "Current config dict: \n",
      "{'dicom_dir': '/tf/data',\n",
      " 'model_path': 'None',\n",
      " 'output_directory': '/tf/output',\n",
      " 'overwrite': True,\n",
      " 'save_plots': True,\n",
      " 'series_to_skip_pickle_file': '/tf/output/broken_sagittal_and_axial_series.pkl',\n",
      " 'show_plots': False}\n"
     ]
    }
   ],
   "source": [
    "# Import modules and config file\n",
    "configfile = os.path.join(cwd,'config/debug_ES/series_filter_ds1.json')\n",
    "with open(configfile, \"r\") as f:\n",
    "        config = json.load(f)\n",
    "\n",
    "config = config[\"series_filter\"]        \n",
    "print('Current config dict: ')\n",
    "pp.pprint(config)"
   ]
  },
  {
   "cell_type": "code",
   "execution_count": 11,
   "metadata": {},
   "outputs": [],
   "source": [
    "if dump==2:\n",
    "    config[\"new_tim_dicom_dir_structure\"] = False\n",
    "elif dump==1:\n",
    "    config[\"new_tim_dicom_dir_structure\"] = True"
   ]
  },
  {
   "cell_type": "code",
   "execution_count": 12,
   "metadata": {
    "scrolled": true
   },
   "outputs": [
    {
     "name": "stdout",
     "output_type": "stream",
     "text": [
      "Finding subjects\n",
      "Subjects found:  383\n"
     ]
    }
   ],
   "source": [
    "# Debug\n",
    "print(\"Finding subjects\")\n",
    "\n",
    "subjects = list(\n",
    "    find_subjects(\n",
    "        config[\"dicom_dir\"],\n",
    "        new_tim_dir_structure=config[\"new_tim_dicom_dir_structure\"]\n",
    "    )\n",
    ")\n",
    "\n",
    "print('Subjects found: ', len(subjects))"
   ]
  },
  {
   "cell_type": "markdown",
   "metadata": {},
   "source": [
    "## Section-3 - check if there are subjects with multiple folders (studies)"
   ]
  },
  {
   "cell_type": "code",
   "execution_count": 14,
   "metadata": {},
   "outputs": [
    {
     "name": "stdout",
     "output_type": "stream",
     "text": [
      "Subjects found:  381\n",
      "Valid Subjects:  381\n"
     ]
    }
   ],
   "source": [
    "subjects = [subject for subject in subjects if subject.id_ in valid_ids]\n",
    "print('Subjects found: ', len(subjects))\n",
    "print('Valid Subjects: ', len(valid_ids))"
   ]
  },
  {
   "cell_type": "code",
   "execution_count": 15,
   "metadata": {},
   "outputs": [
    {
     "name": "stdout",
     "output_type": "stream",
     "text": [
      "[]\n"
     ]
    }
   ],
   "source": [
    "# Find Duplicate Subjects\n",
    "unique_subjects = []\n",
    "duplicate_subjects = []\n",
    "for subject in subjects:\n",
    "    if subject.id_ not in unique_subjects:\n",
    "        unique_subjects.append(subject.id_)\n",
    "    else:\n",
    "        duplicate_subjects.append(subject.id_)\n",
    "\n",
    "print(duplicate_subjects)           "
   ]
  },
  {
   "cell_type": "code",
   "execution_count": null,
   "metadata": {},
   "outputs": [],
   "source": [
    "# Use these for interactive investigation of subject/studies\n",
    "print_subject_paths(subjects)"
   ]
  },
  {
   "cell_type": "code",
   "execution_count": null,
   "metadata": {},
   "outputs": [],
   "source": [
    "print_subject_series('Z619766','/tf/data/Z619766-19070630-Z619766-_')"
   ]
  },
  {
   "cell_type": "markdown",
   "metadata": {},
   "source": [
    "#### DICOM Visualizer to select correct study for subjects with more than 1 study"
   ]
  },
  {
   "cell_type": "code",
   "execution_count": null,
   "metadata": {},
   "outputs": [],
   "source": [
    "imseries = get_subject_series('Z619766','Z619766-SE-1-2.0')\n",
    "print(imseries.orientation,' ' , imseries.slice_thickness)\n",
    "imdata = imseries.pixel_data"
   ]
  },
  {
   "cell_type": "code",
   "execution_count": null,
   "metadata": {
    "scrolled": true
   },
   "outputs": [],
   "source": [
    "%matplotlib inline\n",
    "print(imdata.shape)\n",
    "ImageSliceViewer3D(imdata)"
   ]
  },
  {
   "cell_type": "code",
   "execution_count": 16,
   "metadata": {},
   "outputs": [],
   "source": [
    "## Save subjects without duplicates\n",
    "save_object(subjects, os.path.join(output,'subjects_noduplicates.pkl'))"
   ]
  },
  {
   "cell_type": "markdown",
   "metadata": {},
   "source": [
    "## Section 4 - Load each series into series object and keep only axials and sagittals"
   ]
  },
  {
   "cell_type": "code",
   "execution_count": 17,
   "metadata": {},
   "outputs": [],
   "source": [
    "subjects = load_object(os.path.join(output,'subjects_noduplicates.pkl'))"
   ]
  },
  {
   "cell_type": "code",
   "execution_count": 19,
   "metadata": {},
   "outputs": [
    {
     "data": {
      "text/plain": [
       "381"
      ]
     },
     "execution_count": 19,
     "metadata": {},
     "output_type": "execute_result"
    }
   ],
   "source": [
    "len(subjects)"
   ]
  },
  {
   "cell_type": "code",
   "execution_count": 29,
   "metadata": {},
   "outputs": [
    {
     "name": "stdout",
     "output_type": "stream",
     "text": [
      "Finding series\n"
     ]
    },
    {
     "data": {
      "application/vnd.jupyter.widget-view+json": {
       "model_id": "ecc4ecbf82334deea871ce56729186d9",
       "version_major": 2,
       "version_minor": 0
      },
      "text/plain": [
       "HBox(children=(HTML(value=''), FloatProgress(value=0.0, max=381.0), HTML(value='')))"
      ]
     },
     "metadata": {},
     "output_type": "display_data"
    },
    {
     "name": "stdout",
     "output_type": "stream",
     "text": [
      "\n",
      "Total number of series found:  3301\n",
      "CPU times: user 98 ms, sys: 27.1 ms, total: 125 ms\n",
      "Wall time: 112 ms\n"
     ]
    }
   ],
   "source": [
    "%%time\n",
    "# Find series images\n",
    "print(\"Finding series\")\n",
    "series = list(flatten(tqdm((s.find_series() for s in subjects),total=len(subjects))))\n",
    "print(\"Total number of series found: \", len(series))"
   ]
  },
  {
   "cell_type": "code",
   "execution_count": 31,
   "metadata": {},
   "outputs": [
    {
     "name": "stdout",
     "output_type": "stream",
     "text": [
      "Filtering series\n",
      "CPU times: user 1.41 s, sys: 692 ms, total: 2.11 s\n",
      "Wall time: 11.9 s\n"
     ]
    }
   ],
   "source": [
    "%%time\n",
    "sagittal_series, axial_series, excluded_series = separate_series(series)"
   ]
  },
  {
   "cell_type": "code",
   "execution_count": 32,
   "metadata": {},
   "outputs": [
    {
     "name": "stdout",
     "output_type": "stream",
     "text": [
      "Length of valid pats:  381\n",
      "Length of sagittal series 362\n",
      "Length of axial series 802\n"
     ]
    }
   ],
   "source": [
    "print(\"Length of valid pats: \", len(subjects))\n",
    "print(\"Length of sagittal series\", len(sagittal_series))\n",
    "print(\"Length of axial series\", len(axial_series))\n",
    "#print(\"Length of excluded series\", len(excluded_series))\n",
    "#print(\"Length of all series in dataset\", len(series))"
   ]
  },
  {
   "cell_type": "code",
   "execution_count": 33,
   "metadata": {},
   "outputs": [],
   "source": [
    "# Save required objects\n",
    "save_object(axial_series, os.path.join(output,'axial_series.pkl'))\n",
    "save_object(sagittal_series, os.path.join(output,'sagittal_series.pkl'))"
   ]
  },
  {
   "cell_type": "markdown",
   "metadata": {},
   "source": [
    "## Start from here tomorrow"
   ]
  },
  {
   "cell_type": "markdown",
   "metadata": {},
   "source": [
    "## Section 5 - Investigate subjects and series using pandas"
   ]
  },
  {
   "cell_type": "code",
   "execution_count": 34,
   "metadata": {},
   "outputs": [],
   "source": [
    "axial_series = load_object(os.path.join(output,'axial_series.pkl'))\n",
    "sagittal_series = load_object(os.path.join(output,'sagittal_series.pkl'))\n",
    "subjects = load_object(os.path.join(output,'subjects_noduplicates.pkl'))"
   ]
  },
  {
   "cell_type": "code",
   "execution_count": 35,
   "metadata": {},
   "outputs": [],
   "source": [
    "df_a = get_summary_dfs(axial_series,sagittal_series,subjects)\n",
    "save_object(df_a, os.path.join(output,'df_a.pkl'))"
   ]
  },
  {
   "cell_type": "code",
   "execution_count": 40,
   "metadata": {},
   "outputs": [
    {
     "data": {
      "text/html": [
       "<div>\n",
       "<style scoped>\n",
       "    .dataframe tbody tr th:only-of-type {\n",
       "        vertical-align: middle;\n",
       "    }\n",
       "\n",
       "    .dataframe tbody tr th {\n",
       "        vertical-align: top;\n",
       "    }\n",
       "\n",
       "    .dataframe thead th {\n",
       "        text-align: right;\n",
       "    }\n",
       "</style>\n",
       "<table border=\"1\" class=\"dataframe\">\n",
       "  <thead>\n",
       "    <tr style=\"text-align: right;\">\n",
       "      <th></th>\n",
       "      <th>ID</th>\n",
       "      <th>Axials</th>\n",
       "      <th>Sagittals</th>\n",
       "    </tr>\n",
       "  </thead>\n",
       "  <tbody>\n",
       "    <tr>\n",
       "      <th>0</th>\n",
       "      <td>Z911879</td>\n",
       "      <td>2</td>\n",
       "      <td>0</td>\n",
       "    </tr>\n",
       "    <tr>\n",
       "      <th>1</th>\n",
       "      <td>Z667765</td>\n",
       "      <td>2</td>\n",
       "      <td>3</td>\n",
       "    </tr>\n",
       "    <tr>\n",
       "      <th>2</th>\n",
       "      <td>Z720947</td>\n",
       "      <td>2</td>\n",
       "      <td>1</td>\n",
       "    </tr>\n",
       "    <tr>\n",
       "      <th>3</th>\n",
       "      <td>Z1396897</td>\n",
       "      <td>0</td>\n",
       "      <td>0</td>\n",
       "    </tr>\n",
       "    <tr>\n",
       "      <th>4</th>\n",
       "      <td>Z1041413</td>\n",
       "      <td>2</td>\n",
       "      <td>3</td>\n",
       "    </tr>\n",
       "    <tr>\n",
       "      <th>5</th>\n",
       "      <td>Z1268454</td>\n",
       "      <td>2</td>\n",
       "      <td>1</td>\n",
       "    </tr>\n",
       "    <tr>\n",
       "      <th>6</th>\n",
       "      <td>Z1467058</td>\n",
       "      <td>2</td>\n",
       "      <td>2</td>\n",
       "    </tr>\n",
       "    <tr>\n",
       "      <th>7</th>\n",
       "      <td>Z604607</td>\n",
       "      <td>2</td>\n",
       "      <td>0</td>\n",
       "    </tr>\n",
       "    <tr>\n",
       "      <th>8</th>\n",
       "      <td>Z1230777</td>\n",
       "      <td>2</td>\n",
       "      <td>0</td>\n",
       "    </tr>\n",
       "    <tr>\n",
       "      <th>9</th>\n",
       "      <td>Z697015</td>\n",
       "      <td>2</td>\n",
       "      <td>0</td>\n",
       "    </tr>\n",
       "  </tbody>\n",
       "</table>\n",
       "</div>"
      ],
      "text/plain": [
       "         ID Axials Sagittals\n",
       "0   Z911879      2         0\n",
       "1   Z667765      2         3\n",
       "2   Z720947      2         1\n",
       "3  Z1396897      0         0\n",
       "4  Z1041413      2         3\n",
       "5  Z1268454      2         1\n",
       "6  Z1467058      2         2\n",
       "7   Z604607      2         0\n",
       "8  Z1230777      2         0\n",
       "9   Z697015      2         0"
      ]
     },
     "metadata": {},
     "output_type": "display_data"
    }
   ],
   "source": [
    "display(df_a.head(10))"
   ]
  },
  {
   "cell_type": "code",
   "execution_count": 36,
   "metadata": {
    "scrolled": true
   },
   "outputs": [],
   "source": [
    "df_a_axials = get_summary_by_serieslength(axial_series)\n",
    "df_a_sags = get_summary_by_serieslength(sagittal_series)\n",
    "save_object(df_a_axials, os.path.join(output,'df_a_axials.pkl'))\n",
    "save_object(df_a_sags, os.path.join(output,'df_a_sags.pkl'))"
   ]
  },
  {
   "cell_type": "code",
   "execution_count": 37,
   "metadata": {},
   "outputs": [
    {
     "name": "stdout",
     "output_type": "stream",
     "text": [
      "Length of subjects with atleast 1 axial or sagittal series:  381\n",
      "Length of subjects with atleast 1 axial series:  377\n",
      "Length of subjects with atleast 1 sagittal series:  242\n"
     ]
    }
   ],
   "source": [
    "print(\"Length of subjects with atleast 1 axial or sagittal series: \", len(df_a))\n",
    "print(\"Length of subjects with atleast 1 axial series: \", len(df_a_axials['ID'].unique()))\n",
    "print(\"Length of subjects with atleast 1 sagittal series: \", len(df_a_sags['ID'].unique()))"
   ]
  },
  {
   "cell_type": "code",
   "execution_count": 38,
   "metadata": {},
   "outputs": [
    {
     "name": "stdout",
     "output_type": "stream",
     "text": [
      "4\n",
      "['Z1396897', 'Z1041077', 'Z441008', 'Z525377']\n"
     ]
    }
   ],
   "source": [
    "# Patients without Axial\n",
    "pats = [pat for pat in df_a['ID'].values if pat not in df_a_axials['ID'].values]\n",
    "print(len(pats))\n",
    "print(pats)"
   ]
  },
  {
   "cell_type": "code",
   "execution_count": 39,
   "metadata": {},
   "outputs": [
    {
     "name": "stdout",
     "output_type": "stream",
     "text": [
      "139\n"
     ]
    }
   ],
   "source": [
    "# Patients without Sagittal\n",
    "pats = [pat for pat in df_a['ID'].values if pat not in df_a_sags['ID'].values]\n",
    "print(len(pats))"
   ]
  },
  {
   "cell_type": "code",
   "execution_count": null,
   "metadata": {},
   "outputs": [],
   "source": [
    "imseries = get_subject_series('Z837620','Z837620-SE-6-Vol_Body_Vol._0.5',subjects)\n",
    "print(imseries.orientation,' ' , imseries.slice_thickness)\n",
    "imdata = imseries.pixel_data"
   ]
  },
  {
   "cell_type": "code",
   "execution_count": null,
   "metadata": {},
   "outputs": [],
   "source": [
    "%matplotlib inline\n",
    "print(imdata.shape)\n",
    "ImageSliceViewer3D(imdata)"
   ]
  },
  {
   "cell_type": "code",
   "execution_count": null,
   "metadata": {},
   "outputs": [],
   "source": [
    "print_summary_by_serieslength(df_a_axials)"
   ]
  },
  {
   "cell_type": "code",
   "execution_count": null,
   "metadata": {},
   "outputs": [],
   "source": [
    "print_summary_by_serieslength(df_a_sags)"
   ]
  },
  {
   "cell_type": "markdown",
   "metadata": {},
   "source": [
    "## Section 6 - Create dataframe of optimal axial sagittal pairs\n",
    "\n",
    "The function filter_finalpairs in investigate.py is used"
   ]
  },
  {
   "cell_type": "code",
   "execution_count": 7,
   "metadata": {},
   "outputs": [],
   "source": [
    "axial_series = load_object(os.path.join(output,'axial_series.pkl'))\n",
    "sagittal_series = load_object(os.path.join(output,'sagittal_series.pkl'))\n",
    "subjects = load_object(os.path.join(output,'subjects_noduplicates.pkl'))\n",
    "\n",
    "df_a_axials = load_object(os.path.join(output,'df_a_axials.pkl'))\n",
    "df_a_sags = load_object(os.path.join(output,'df_a_sags.pkl'))\n",
    "df_a = load_object(os.path.join(output,'df_a.pkl'))"
   ]
  },
  {
   "cell_type": "code",
   "execution_count": 8,
   "metadata": {},
   "outputs": [
    {
     "name": "stdout",
     "output_type": "stream",
     "text": [
      "Finding IDs\n",
      "Filtering series using  48  cores:\n"
     ]
    },
    {
     "data": {
      "application/vnd.jupyter.widget-view+json": {
       "model_id": "fa9deaeb60ae4f10879bad65c365e92c",
       "version_major": 2,
       "version_minor": 0
      },
      "text/plain": [
       "HBox(children=(HTML(value=''), FloatProgress(value=0.0, max=381.0), HTML(value='')))"
      ]
     },
     "metadata": {},
     "output_type": "display_data"
    },
    {
     "name": "stdout",
     "output_type": "stream",
     "text": [
      "\n",
      "parallel processing over\n",
      "Processed\n",
      "CPU times: user 5.73 s, sys: 1.89 s, total: 7.62 s\n",
      "Wall time: 4min 37s\n",
      "Compiler : 138 ms\n"
     ]
    }
   ],
   "source": [
    "%%time\n",
    "from L3_finder import *\n",
    "from l3finder.ingest import *\n",
    "from multiprocessing import get_context\n",
    "from multiprocessing import set_start_method\n",
    "#set_start_method(\"spawn\")\n",
    "df_filt = None\n",
    "\n",
    "if __name__=='__main__':\n",
    "    # Find series images\n",
    "    print(\"Finding IDs\")\n",
    "    \n",
    "    IDs = [s.id_ for s in subjects]\n",
    "    pair_filter = functools.partial(\n",
    "        filter_finalpairs,\n",
    "        df_ax=df_a_axials,\n",
    "        df_sag=df_a_sags,\n",
    "        subjects=subjects\n",
    "    )\n",
    "    \n",
    "    def pool_filter(pool, func, candidates):\n",
    "        arg1 = [a for a in tqdm(pool.imap_unordered(func, candidates),total=len(candidates))]\n",
    "        return arg1\n",
    "        \n",
    "    print('Filtering series using ', multiprocessing.cpu_count(), ' cores:')\n",
    "        \n",
    "    with get_context(\"spawn\").Pool(processes=40) as p:\n",
    "        result_list = pool_filter(p, pair_filter, IDs)\n",
    "        p.close()\n",
    "        p.join()\n",
    "    \n",
    "    print('parallel processing over')\n",
    "     # Start from here\n",
    "    df_filt  = pd.DataFrame(columns=['ID','Axial','Sagittal','Overlap','MissingScore','PairValidity', \n",
    "                                'AxSlices','SagSlices','AxThick','SagThick'])\n",
    "    for i,op in enumerate(result_list):\n",
    "        df_filt.loc[i] = op\n",
    "    \n",
    "\n",
    "    print(\"Processed\")"
   ]
  },
  {
   "cell_type": "code",
   "execution_count": 9,
   "metadata": {},
   "outputs": [],
   "source": [
    "save_object(df_filt, os.path.join(output,'df_filteredpairs.pkl'))"
   ]
  },
  {
   "cell_type": "markdown",
   "metadata": {},
   "source": [
    "## Section 7: Investigate the dataframe for missing and low quality pairs"
   ]
  },
  {
   "cell_type": "code",
   "execution_count": 11,
   "metadata": {
    "scrolled": true
   },
   "outputs": [],
   "source": [
    "# Load all params\n",
    "df_filt = load_object(os.path.join(output,'df_filteredpairs.pkl'))\n",
    "axial_series = load_object(os.path.join(output,'axial_series.pkl'))\n",
    "sagittal_series = load_object(os.path.join(output,'sagittal_series.pkl'))\n",
    "subjects = load_object(os.path.join(output,'subjects_noduplicates.pkl'))\n",
    "\n",
    "df_a_axials = load_object(os.path.join(output,'df_a_axials.pkl'))\n",
    "df_a_sags = load_object(os.path.join(output,'df_a_sags.pkl'))\n",
    "df_a = load_object(os.path.join(output,'df_a.pkl'))"
   ]
  },
  {
   "cell_type": "code",
   "execution_count": 12,
   "metadata": {},
   "outputs": [
    {
     "name": "stdout",
     "output_type": "stream",
     "text": [
      "Length of filtered df:  381\n",
      "Length of subjects:  381\n"
     ]
    }
   ],
   "source": [
    "# Make sure filtered df and subjects are equal length\n",
    "print('Length of filtered df: ',len(df_filt))\n",
    "print('Length of subjects: ',len(subjects))"
   ]
  },
  {
   "cell_type": "code",
   "execution_count": 13,
   "metadata": {},
   "outputs": [
    {
     "name": "stdout",
     "output_type": "stream",
     "text": [
      "Number of subjects without Axials:  4\n"
     ]
    },
    {
     "data": {
      "text/html": [
       "<div>\n",
       "<style scoped>\n",
       "    .dataframe tbody tr th:only-of-type {\n",
       "        vertical-align: middle;\n",
       "    }\n",
       "\n",
       "    .dataframe tbody tr th {\n",
       "        vertical-align: top;\n",
       "    }\n",
       "\n",
       "    .dataframe thead th {\n",
       "        text-align: right;\n",
       "    }\n",
       "</style>\n",
       "<table border=\"1\" class=\"dataframe\">\n",
       "  <thead>\n",
       "    <tr style=\"text-align: right;\">\n",
       "      <th></th>\n",
       "      <th>ID</th>\n",
       "      <th>Axial</th>\n",
       "      <th>Sagittal</th>\n",
       "      <th>Overlap</th>\n",
       "      <th>MissingScore</th>\n",
       "      <th>PairValidity</th>\n",
       "      <th>AxSlices</th>\n",
       "      <th>SagSlices</th>\n",
       "      <th>AxThick</th>\n",
       "      <th>SagThick</th>\n",
       "    </tr>\n",
       "  </thead>\n",
       "  <tbody>\n",
       "    <tr>\n",
       "      <th>0</th>\n",
       "      <td>Z1396897</td>\n",
       "      <td>None</td>\n",
       "      <td>None</td>\n",
       "      <td>None</td>\n",
       "      <td>NaN</td>\n",
       "      <td>None</td>\n",
       "      <td>None</td>\n",
       "      <td>None</td>\n",
       "      <td>NaN</td>\n",
       "      <td>None</td>\n",
       "    </tr>\n",
       "    <tr>\n",
       "      <th>1</th>\n",
       "      <td>Z1041077</td>\n",
       "      <td>None</td>\n",
       "      <td>None</td>\n",
       "      <td>None</td>\n",
       "      <td>NaN</td>\n",
       "      <td>None</td>\n",
       "      <td>None</td>\n",
       "      <td>None</td>\n",
       "      <td>NaN</td>\n",
       "      <td>None</td>\n",
       "    </tr>\n",
       "    <tr>\n",
       "      <th>114</th>\n",
       "      <td>Z441008</td>\n",
       "      <td>None</td>\n",
       "      <td>None</td>\n",
       "      <td>None</td>\n",
       "      <td>NaN</td>\n",
       "      <td>None</td>\n",
       "      <td>None</td>\n",
       "      <td>None</td>\n",
       "      <td>NaN</td>\n",
       "      <td>None</td>\n",
       "    </tr>\n",
       "    <tr>\n",
       "      <th>304</th>\n",
       "      <td>Z525377</td>\n",
       "      <td>None</td>\n",
       "      <td>None</td>\n",
       "      <td>None</td>\n",
       "      <td>NaN</td>\n",
       "      <td>None</td>\n",
       "      <td>None</td>\n",
       "      <td>None</td>\n",
       "      <td>NaN</td>\n",
       "      <td>None</td>\n",
       "    </tr>\n",
       "  </tbody>\n",
       "</table>\n",
       "</div>"
      ],
      "text/plain": [
       "           ID Axial Sagittal Overlap  MissingScore PairValidity AxSlices  \\\n",
       "0    Z1396897  None     None    None           NaN         None     None   \n",
       "1    Z1041077  None     None    None           NaN         None     None   \n",
       "114   Z441008  None     None    None           NaN         None     None   \n",
       "304   Z525377  None     None    None           NaN         None     None   \n",
       "\n",
       "    SagSlices  AxThick SagThick  \n",
       "0        None      NaN     None  \n",
       "1        None      NaN     None  \n",
       "114      None      NaN     None  \n",
       "304      None      NaN     None  "
      ]
     },
     "metadata": {},
     "output_type": "display_data"
    }
   ],
   "source": [
    "# View and Remove subjects without axial series\n",
    "df_noaxials =  df_filt[df_filt['Axial'].isnull()]\n",
    "print('Number of subjects without Axials: ', len(df_noaxials))\n",
    "display(df_noaxials)"
   ]
  },
  {
   "cell_type": "code",
   "execution_count": 14,
   "metadata": {},
   "outputs": [
    {
     "name": "stdout",
     "output_type": "stream",
     "text": [
      "Length of subjects with axials:  377\n"
     ]
    }
   ],
   "source": [
    "# Remove subjects without axials from subjects list:\n",
    "subjects = [s for s in subjects if s.id_ not in df_noaxials.ID.values]\n",
    "print('Length of subjects with axials: ',len(subjects))\n"
   ]
  },
  {
   "cell_type": "code",
   "execution_count": 16,
   "metadata": {},
   "outputs": [
    {
     "name": "stdout",
     "output_type": "stream",
     "text": [
      "Number of cases without sagittals:  139\n"
     ]
    }
   ],
   "source": [
    "# Print cases that don't have sagittals\n",
    "df_nosags = df_filt[df_filt['Sagittal'].isnull()]\n",
    "print(\"Number of cases without sagittals: \", len(df_nosags))"
   ]
  },
  {
   "cell_type": "code",
   "execution_count": 22,
   "metadata": {},
   "outputs": [
    {
     "name": "stdout",
     "output_type": "stream",
     "text": [
      "Cases with overlap < 0.7:  18\n"
     ]
    }
   ],
   "source": [
    "# Investigate cases with less than 0.7 overlap and  < 0.9 Missing Score [Tracks Slices missing from stack]\n",
    "df_pooroverlap = df_filt[(df_filt['Overlap'] < 0.7) | (df_filt['MissingScore'] < 0.9)]\n",
    "print('Cases with overlap < 0.7: ', len(df_pooroverlap))"
   ]
  },
  {
   "cell_type": "code",
   "execution_count": 69,
   "metadata": {
    "scrolled": true
   },
   "outputs": [
    {
     "data": {
      "text/html": [
       "<div>\n",
       "<style scoped>\n",
       "    .dataframe tbody tr th:only-of-type {\n",
       "        vertical-align: middle;\n",
       "    }\n",
       "\n",
       "    .dataframe tbody tr th {\n",
       "        vertical-align: top;\n",
       "    }\n",
       "\n",
       "    .dataframe thead th {\n",
       "        text-align: right;\n",
       "    }\n",
       "</style>\n",
       "<table border=\"1\" class=\"dataframe\">\n",
       "  <thead>\n",
       "    <tr style=\"text-align: right;\">\n",
       "      <th></th>\n",
       "      <th>ID</th>\n",
       "      <th>Axial</th>\n",
       "      <th>Sagittal</th>\n",
       "      <th>Overlap</th>\n",
       "      <th>MissingScore</th>\n",
       "      <th>PairValidity</th>\n",
       "      <th>AxSlices</th>\n",
       "      <th>SagSlices</th>\n",
       "      <th>AxThick</th>\n",
       "      <th>SagThick</th>\n",
       "    </tr>\n",
       "  </thead>\n",
       "  <tbody>\n",
       "    <tr>\n",
       "      <th>203</th>\n",
       "      <td>Z505334</td>\n",
       "      <td>Z505334-SE-2-ABD_PELVIS</td>\n",
       "      <td>Z505334-SE-602-Sagital_Abdomen</td>\n",
       "      <td>0</td>\n",
       "      <td>0.615</td>\n",
       "      <td>0.615</td>\n",
       "      <td>175</td>\n",
       "      <td>72</td>\n",
       "      <td>2.50</td>\n",
       "      <td>0.703125</td>\n",
       "    </tr>\n",
       "    <tr>\n",
       "      <th>308</th>\n",
       "      <td>Z854069</td>\n",
       "      <td>Z854069-SE-5-Venous_Phase_Standard_Axial</td>\n",
       "      <td>Z854069-SE-500-Venous_Phase_Standard_Vol_Vol</td>\n",
       "      <td>0.352</td>\n",
       "      <td>0.755</td>\n",
       "      <td>1.107</td>\n",
       "      <td>93</td>\n",
       "      <td>513</td>\n",
       "      <td>5.00</td>\n",
       "      <td>0.5</td>\n",
       "    </tr>\n",
       "    <tr>\n",
       "      <th>311</th>\n",
       "      <td>Z1248225</td>\n",
       "      <td>Z1248225-SE-2-Trauma_C_A_P</td>\n",
       "      <td>Z1248225-SE-401-SAGITTAL</td>\n",
       "      <td>False</td>\n",
       "      <td>0.759</td>\n",
       "      <td>0.759</td>\n",
       "      <td>129</td>\n",
       "      <td>59</td>\n",
       "      <td>5.00</td>\n",
       "      <td>2.5</td>\n",
       "    </tr>\n",
       "    <tr>\n",
       "      <th>85</th>\n",
       "      <td>Z1014113</td>\n",
       "      <td>Z1014113-SE-2-Axial_Stnd</td>\n",
       "      <td>Z1014113-SE-501-SAG</td>\n",
       "      <td>0.155</td>\n",
       "      <td>0.772</td>\n",
       "      <td>0.927</td>\n",
       "      <td>125</td>\n",
       "      <td>68</td>\n",
       "      <td>5.00</td>\n",
       "      <td>2.52</td>\n",
       "    </tr>\n",
       "    <tr>\n",
       "      <th>109</th>\n",
       "      <td>Z1165230</td>\n",
       "      <td>Z1165230-SE-2-</td>\n",
       "      <td>Z1165230-SE-1001-Vitrea_Snapshot__Vol._Vol</td>\n",
       "      <td>0.419</td>\n",
       "      <td>0.923</td>\n",
       "      <td>1.342</td>\n",
       "      <td>55</td>\n",
       "      <td>108</td>\n",
       "      <td>5.00</td>\n",
       "      <td>0.5</td>\n",
       "    </tr>\n",
       "    <tr>\n",
       "      <th>271</th>\n",
       "      <td>Z1429940</td>\n",
       "      <td>Z1429940-SE-6-ABDOMEN</td>\n",
       "      <td>Z1429940-SE-600-Reformatted</td>\n",
       "      <td>0.503</td>\n",
       "      <td>0.966</td>\n",
       "      <td>1.469</td>\n",
       "      <td>288</td>\n",
       "      <td>42</td>\n",
       "      <td>1.25</td>\n",
       "      <td>5</td>\n",
       "    </tr>\n",
       "    <tr>\n",
       "      <th>287</th>\n",
       "      <td>Z1017392</td>\n",
       "      <td>Z1017392-SE-4-Axial_Body__5.0</td>\n",
       "      <td>Z1017392-SE-12-Sagittal_Bone_Sagittal_3.000</td>\n",
       "      <td>False</td>\n",
       "      <td>1.000</td>\n",
       "      <td>1</td>\n",
       "      <td>67</td>\n",
       "      <td>79</td>\n",
       "      <td>5.00</td>\n",
       "      <td>3</td>\n",
       "    </tr>\n",
       "    <tr>\n",
       "      <th>247</th>\n",
       "      <td>Z1194146</td>\n",
       "      <td>Z1194146-SE-4-Pediatric_3.0__CE</td>\n",
       "      <td>Z1194146-SE-7-Pediatric_3.0_Sagittal_CE</td>\n",
       "      <td>0</td>\n",
       "      <td>1.000</td>\n",
       "      <td>1</td>\n",
       "      <td>126</td>\n",
       "      <td>96</td>\n",
       "      <td>3.00</td>\n",
       "      <td>3</td>\n",
       "    </tr>\n",
       "    <tr>\n",
       "      <th>221</th>\n",
       "      <td>Z700667</td>\n",
       "      <td>Z700667-SE-4-Axial_Body__5.0</td>\n",
       "      <td>Z700667-SE-11-Sagittal__Sagittal_1.0</td>\n",
       "      <td>0.5</td>\n",
       "      <td>1.000</td>\n",
       "      <td>1.5</td>\n",
       "      <td>101</td>\n",
       "      <td>204</td>\n",
       "      <td>5.00</td>\n",
       "      <td>1</td>\n",
       "    </tr>\n",
       "    <tr>\n",
       "      <th>219</th>\n",
       "      <td>Z342284</td>\n",
       "      <td>Z342284-SE-4-</td>\n",
       "      <td>Z342284-SE-13-Vol._Sagittal</td>\n",
       "      <td>0.486</td>\n",
       "      <td>1.000</td>\n",
       "      <td>1.486</td>\n",
       "      <td>113</td>\n",
       "      <td>136</td>\n",
       "      <td>5.00</td>\n",
       "      <td>1</td>\n",
       "    </tr>\n",
       "    <tr>\n",
       "      <th>40</th>\n",
       "      <td>Z1041413</td>\n",
       "      <td>Z1041413-SE-4-Stnd_Pediatric_2.0_CE</td>\n",
       "      <td>Z1041413-SE-9-Stnd_Pediatric_2.0_CE</td>\n",
       "      <td>0.662</td>\n",
       "      <td>1.000</td>\n",
       "      <td>1.662</td>\n",
       "      <td>213</td>\n",
       "      <td>135</td>\n",
       "      <td>2.00</td>\n",
       "      <td>2</td>\n",
       "    </tr>\n",
       "    <tr>\n",
       "      <th>201</th>\n",
       "      <td>Z867082</td>\n",
       "      <td>Z867082-SE-2-ABD_PELVIS</td>\n",
       "      <td>Z867082-SE-602-L_Spine_Sagittal_2mmx2mm</td>\n",
       "      <td>0</td>\n",
       "      <td>1.000</td>\n",
       "      <td>1</td>\n",
       "      <td>155</td>\n",
       "      <td>153</td>\n",
       "      <td>2.50</td>\n",
       "      <td>2</td>\n",
       "    </tr>\n",
       "    <tr>\n",
       "      <th>196</th>\n",
       "      <td>Z1140026</td>\n",
       "      <td>Z1140026-SE-2-ABD_PELVIS</td>\n",
       "      <td>Z1140026-SE-602-L_Spine_Sagittal_2mmx2mm</td>\n",
       "      <td>0</td>\n",
       "      <td>1.000</td>\n",
       "      <td>1</td>\n",
       "      <td>144</td>\n",
       "      <td>167</td>\n",
       "      <td>2.50</td>\n",
       "      <td>2</td>\n",
       "    </tr>\n",
       "    <tr>\n",
       "      <th>148</th>\n",
       "      <td>Z1302641</td>\n",
       "      <td>Z1302641-SE-2-2MM_ID_4</td>\n",
       "      <td>Z1302641-SE-80325-MPR__SAGITTAL__Sagittal</td>\n",
       "      <td>0.003</td>\n",
       "      <td>1.000</td>\n",
       "      <td>1.003</td>\n",
       "      <td>376</td>\n",
       "      <td>128</td>\n",
       "      <td>2.00</td>\n",
       "      <td>3</td>\n",
       "    </tr>\n",
       "    <tr>\n",
       "      <th>121</th>\n",
       "      <td>Z846542</td>\n",
       "      <td>Z846542-SE-2-ABD_PELVIS</td>\n",
       "      <td>Z846542-SE-602-L_Spine_Sagittal_2mmx2mm</td>\n",
       "      <td>0</td>\n",
       "      <td>1.000</td>\n",
       "      <td>1</td>\n",
       "      <td>168</td>\n",
       "      <td>184</td>\n",
       "      <td>2.50</td>\n",
       "      <td>2</td>\n",
       "    </tr>\n",
       "    <tr>\n",
       "      <th>92</th>\n",
       "      <td>Z649357</td>\n",
       "      <td>Z649357-SE-2-Abd_Pelvis</td>\n",
       "      <td>Z649357-SE-5-Sagittal</td>\n",
       "      <td>False</td>\n",
       "      <td>1.000</td>\n",
       "      <td>1</td>\n",
       "      <td>86</td>\n",
       "      <td>61</td>\n",
       "      <td>5.00</td>\n",
       "      <td>5</td>\n",
       "    </tr>\n",
       "    <tr>\n",
       "      <th>216</th>\n",
       "      <td>Z1688987</td>\n",
       "      <td>Z1688987-SE-5-Axial_Body__5.0</td>\n",
       "      <td>Z1688987-SE-11-Sagittal_Body_Sagittal_3.000</td>\n",
       "      <td>0</td>\n",
       "      <td>1.000</td>\n",
       "      <td>1</td>\n",
       "      <td>96</td>\n",
       "      <td>53</td>\n",
       "      <td>5.00</td>\n",
       "      <td>3</td>\n",
       "    </tr>\n",
       "    <tr>\n",
       "      <th>358</th>\n",
       "      <td>Z567376</td>\n",
       "      <td>Z567376-SE-2-Body_Std._Axial_AIDR_-_H__5.0</td>\n",
       "      <td>Z567376-SE-7-Bone_Sharp_Sagittal_3.000</td>\n",
       "      <td>0.209</td>\n",
       "      <td>1.000</td>\n",
       "      <td>1.209</td>\n",
       "      <td>154</td>\n",
       "      <td>233</td>\n",
       "      <td>5.00</td>\n",
       "      <td>3</td>\n",
       "    </tr>\n",
       "  </tbody>\n",
       "</table>\n",
       "</div>"
      ],
      "text/plain": [
       "           ID                                       Axial  \\\n",
       "203   Z505334                     Z505334-SE-2-ABD_PELVIS   \n",
       "308   Z854069    Z854069-SE-5-Venous_Phase_Standard_Axial   \n",
       "311  Z1248225                  Z1248225-SE-2-Trauma_C_A_P   \n",
       "85   Z1014113                    Z1014113-SE-2-Axial_Stnd   \n",
       "109  Z1165230                              Z1165230-SE-2-   \n",
       "271  Z1429940                       Z1429940-SE-6-ABDOMEN   \n",
       "287  Z1017392               Z1017392-SE-4-Axial_Body__5.0   \n",
       "247  Z1194146             Z1194146-SE-4-Pediatric_3.0__CE   \n",
       "221   Z700667                Z700667-SE-4-Axial_Body__5.0   \n",
       "219   Z342284                               Z342284-SE-4-   \n",
       "40   Z1041413         Z1041413-SE-4-Stnd_Pediatric_2.0_CE   \n",
       "201   Z867082                     Z867082-SE-2-ABD_PELVIS   \n",
       "196  Z1140026                    Z1140026-SE-2-ABD_PELVIS   \n",
       "148  Z1302641                      Z1302641-SE-2-2MM_ID_4   \n",
       "121   Z846542                     Z846542-SE-2-ABD_PELVIS   \n",
       "92    Z649357                     Z649357-SE-2-Abd_Pelvis   \n",
       "216  Z1688987               Z1688987-SE-5-Axial_Body__5.0   \n",
       "358   Z567376  Z567376-SE-2-Body_Std._Axial_AIDR_-_H__5.0   \n",
       "\n",
       "                                         Sagittal Overlap  MissingScore  \\\n",
       "203                Z505334-SE-602-Sagital_Abdomen       0         0.615   \n",
       "308  Z854069-SE-500-Venous_Phase_Standard_Vol_Vol   0.352         0.755   \n",
       "311                      Z1248225-SE-401-SAGITTAL   False         0.759   \n",
       "85                            Z1014113-SE-501-SAG   0.155         0.772   \n",
       "109    Z1165230-SE-1001-Vitrea_Snapshot__Vol._Vol   0.419         0.923   \n",
       "271                   Z1429940-SE-600-Reformatted   0.503         0.966   \n",
       "287   Z1017392-SE-12-Sagittal_Bone_Sagittal_3.000   False         1.000   \n",
       "247       Z1194146-SE-7-Pediatric_3.0_Sagittal_CE       0         1.000   \n",
       "221          Z700667-SE-11-Sagittal__Sagittal_1.0     0.5         1.000   \n",
       "219                   Z342284-SE-13-Vol._Sagittal   0.486         1.000   \n",
       "40            Z1041413-SE-9-Stnd_Pediatric_2.0_CE   0.662         1.000   \n",
       "201       Z867082-SE-602-L_Spine_Sagittal_2mmx2mm       0         1.000   \n",
       "196      Z1140026-SE-602-L_Spine_Sagittal_2mmx2mm       0         1.000   \n",
       "148     Z1302641-SE-80325-MPR__SAGITTAL__Sagittal   0.003         1.000   \n",
       "121       Z846542-SE-602-L_Spine_Sagittal_2mmx2mm       0         1.000   \n",
       "92                          Z649357-SE-5-Sagittal   False         1.000   \n",
       "216   Z1688987-SE-11-Sagittal_Body_Sagittal_3.000       0         1.000   \n",
       "358        Z567376-SE-7-Bone_Sharp_Sagittal_3.000   0.209         1.000   \n",
       "\n",
       "    PairValidity AxSlices SagSlices  AxThick  SagThick  \n",
       "203        0.615      175        72     2.50  0.703125  \n",
       "308        1.107       93       513     5.00       0.5  \n",
       "311        0.759      129        59     5.00       2.5  \n",
       "85         0.927      125        68     5.00      2.52  \n",
       "109        1.342       55       108     5.00       0.5  \n",
       "271        1.469      288        42     1.25         5  \n",
       "287            1       67        79     5.00         3  \n",
       "247            1      126        96     3.00         3  \n",
       "221          1.5      101       204     5.00         1  \n",
       "219        1.486      113       136     5.00         1  \n",
       "40         1.662      213       135     2.00         2  \n",
       "201            1      155       153     2.50         2  \n",
       "196            1      144       167     2.50         2  \n",
       "148        1.003      376       128     2.00         3  \n",
       "121            1      168       184     2.50         2  \n",
       "92             1       86        61     5.00         5  \n",
       "216            1       96        53     5.00         3  \n",
       "358        1.209      154       233     5.00         3  "
      ]
     },
     "metadata": {},
     "output_type": "display_data"
    }
   ],
   "source": [
    "display(df_pooroverlap.sort_values(by=['MissingScore'],ascending=[True]))"
   ]
  },
  {
   "cell_type": "code",
   "execution_count": 53,
   "metadata": {},
   "outputs": [],
   "source": [
    "# Handy Functions to investigate the poor pairs\n",
    "def get_ax_sag(df,ind):\n",
    "    global subjects\n",
    "    subid = df.loc[ind,'ID']\n",
    "    axid = df.loc[ind,'Axial']\n",
    "    sagid = df.loc[ind,'Sagittal']\n",
    "    ax = get_subject_series(subid,axid,subjects)\n",
    "    sag = get_subject_series(subid,sagid,subjects)\n",
    "    return ax,sag"
   ]
  },
  {
   "cell_type": "code",
   "execution_count": 89,
   "metadata": {},
   "outputs": [
    {
     "data": {
      "text/plain": [
       "0.423"
      ]
     },
     "execution_count": 89,
     "metadata": {},
     "output_type": "execute_result"
    }
   ],
   "source": [
    "calculate_missing_slices_sagittals(get_ax_sag(df_pooroverlap,85)[1]),verbose=True)"
   ]
  },
  {
   "cell_type": "code",
   "execution_count": 82,
   "metadata": {},
   "outputs": [
    {
     "data": {
      "text/plain": [
       "374"
      ]
     },
     "execution_count": 82,
     "metadata": {},
     "output_type": "execute_result"
    }
   ],
   "source": [
    "calculate_series_overlap(*get_ax_sag(df_pooroverlap,85),verbose=True)"
   ]
  },
  {
   "cell_type": "markdown",
   "metadata": {},
   "source": [
    "### Based on investigation, eliminate series and subjects not eligible and create final df"
   ]
  },
  {
   "cell_type": "code",
   "execution_count": 93,
   "metadata": {},
   "outputs": [],
   "source": [
    "# Keep Sagittals only when overlap > 0.7\n",
    "df_final = df_filt.copy()\n",
    "for ind,row in df_final.iterrows():\n",
    "    if (not row['Overlap']) or (row['Overlap'] < 0.7):\n",
    "            df_final.loc[ind,'Sagittal'] = None"
   ]
  },
  {
   "cell_type": "code",
   "execution_count": 94,
   "metadata": {},
   "outputs": [
    {
     "name": "stdout",
     "output_type": "stream",
     "text": [
      "Number of cases without sagittals in filter df:  139\n",
      "Number of cases without sagittals in final df:  157\n"
     ]
    }
   ],
   "source": [
    "# Print cases that don't have sagittals\n",
    "print(\"Number of cases without sagittals in filter df: \", len(df_nosags))\n",
    "df_nosags2 = df_final[df_final['Sagittal'].isnull()]\n",
    "print(\"Number of cases without sagittals in final df: \", len(df_nosags2))"
   ]
  },
  {
   "cell_type": "code",
   "execution_count": 103,
   "metadata": {},
   "outputs": [],
   "source": [
    "# Get final \n",
    "final_df_file = 'df_final_dump_'+str(dump)+'.pkl'\n",
    "final_subs_file = 'subjects_final_dump_'+str(dump)+'.pkl'\n",
    "\n",
    "save_object(df_final, os.path.join(output,final_df_file))\n",
    "save_object(subjects, os.path.join(output,final_subs_file))"
   ]
  },
  {
   "cell_type": "code",
   "execution_count": 104,
   "metadata": {},
   "outputs": [
    {
     "data": {
      "text/plain": [
       "ImageSeries(subject=Subject(path=PosixPath('/tf/data/PT-Z911879-Z911879')), series_path=PosixPath('/tf/data/PT-Z911879-Z911879/ST-10231915-Z911879-CT_ABDOMEN_PELVIS_W_CONTRAST/SE-5-Stnd__Pediatric_Vol_Stnd'), accession_path=PosixPath('/tf/data/PT-Z911879-Z911879/ST-10231915-Z911879-CT_ABDOMEN_PELVIS_W_CONTRAST/SE-5-Stnd__Pediatric_Vol_Stnd'))"
      ]
     },
     "execution_count": 104,
     "metadata": {},
     "output_type": "execute_result"
    }
   ],
   "source": [
    "axial_series[0]"
   ]
  },
  {
   "cell_type": "code",
   "execution_count": 107,
   "metadata": {},
   "outputs": [
    {
     "data": {
      "text/plain": [
       "PosixPath('/tf/data/PT-Z911879-Z911879/ST-10231915-Z911879-CT_ABDOMEN_PELVIS_W_CONTRAST/SE-5-Stnd__Pediatric_Vol_Stnd')"
      ]
     },
     "execution_count": 107,
     "metadata": {},
     "output_type": "execute_result"
    }
   ],
   "source": [
    "axial_series[0].series_path"
   ]
  },
  {
   "cell_type": "code",
   "execution_count": 108,
   "metadata": {},
   "outputs": [
    {
     "data": {
      "text/plain": [
       "PosixPath('/tf/data/PT-Z911879-Z911879/ST-10231915-Z911879-CT_ABDOMEN_PELVIS_W_CONTRAST/SE-5-Stnd__Pediatric_Vol_Stnd')"
      ]
     },
     "execution_count": 108,
     "metadata": {},
     "output_type": "execute_result"
    }
   ],
   "source": [
    "axial_series[0].accession_path"
   ]
  },
  {
   "cell_type": "code",
   "execution_count": null,
   "metadata": {},
   "outputs": [],
   "source": []
  }
 ],
 "metadata": {
  "file_extension": ".py",
  "kernelspec": {
   "display_name": "Python 3",
   "language": "python",
   "name": "python3"
  },
  "language_info": {
   "codemirror_mode": {
    "name": "ipython",
    "version": 3
   },
   "file_extension": ".py",
   "mimetype": "text/x-python",
   "name": "python",
   "nbconvert_exporter": "python",
   "pygments_lexer": "ipython3",
   "version": "3.6.9"
  },
  "mimetype": "text/x-python",
  "name": "python",
  "npconvert_exporter": "python",
  "pygments_lexer": "ipython3",
  "version": 3
 },
 "nbformat": 4,
 "nbformat_minor": 2
}
