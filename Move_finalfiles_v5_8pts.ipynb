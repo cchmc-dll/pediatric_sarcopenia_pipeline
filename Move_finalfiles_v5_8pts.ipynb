{
 "cells": [
  {
   "cell_type": "markdown",
   "metadata": {},
   "source": [
    "# Notebook to Move final dcm files selected for processing to Project Folder"
   ]
  },
  {
   "cell_type": "code",
   "execution_count": 2,
   "metadata": {},
   "outputs": [],
   "source": [
    "import shutil\n",
    "import pickle\n",
    "import pandas as pd\n",
    "from l3finder.ingest import *\n",
    "import os\n",
    "import multiprocessing\n",
    "from multiprocessing import get_context\n",
    "from multiprocessing import set_start_method\n",
    "from tqdm.notebook import tqdm\n",
    "from investigate import *\n",
    "\n",
    "# Custom functions\n",
    "def save_object(obj, filename):\n",
    "    with open(filename, 'wb') as output:  # Overwrites any existing file.\n",
    "        pickle.dump(obj, output, pickle.HIGHEST_PROTOCOL)\n",
    "\n",
    "def load_object(filename):        \n",
    "    with open(filename, 'rb') as input:\n",
    "        return pickle.load(input)"
   ]
  },
  {
   "cell_type": "code",
   "execution_count": 3,
   "metadata": {},
   "outputs": [],
   "source": [
    "cwd = os.getcwd()\n",
    "output = '/tf/pickles/v5_8pts'\n",
    "data = '/tf/data'\n",
    "target = '/tf/output'\n",
    "dump=1"
   ]
  },
  {
   "cell_type": "markdown",
   "metadata": {},
   "source": [
    "### Open final df and reduce it to only the dump you are processing"
   ]
  },
  {
   "cell_type": "code",
   "execution_count": 5,
   "metadata": {},
   "outputs": [],
   "source": [
    "df_final = load_object(os.path.join(output,'df_final_dump_1_8pats.pkl'))\n",
    "subjects = load_object(os.path.join(output,'subjects_final_dump_1_8pats.pkl'))"
   ]
  },
  {
   "cell_type": "code",
   "execution_count": 7,
   "metadata": {},
   "outputs": [
    {
     "name": "stdout",
     "output_type": "stream",
     "text": [
      "Len of df_final for this dump:   8\n",
      "Len of subjects for this dump:   8\n"
     ]
    }
   ],
   "source": [
    "#df_final = df_final[df_final['dump']==dump]\n",
    "#subjects = [s for s in subjects if s.id_ in df_final['ID'].values]\n",
    "\n",
    "print('Len of df_final for this dump:  ', len(df_final))\n",
    "print('Len of subjects for this dump:  ', len(subjects))"
   ]
  },
  {
   "cell_type": "markdown",
   "metadata": {},
   "source": [
    "# File Mover"
   ]
  },
  {
   "cell_type": "code",
   "execution_count": 8,
   "metadata": {},
   "outputs": [],
   "source": [
    "file_mover = functools.partial(\n",
    "        move_subject,\n",
    "        df_final=df_final,\n",
    "        target = target)"
   ]
  },
  {
   "cell_type": "code",
   "execution_count": 9,
   "metadata": {},
   "outputs": [
    {
     "name": "stdout",
     "output_type": "stream",
     "text": [
      "Len of df:  8\n",
      "Len of sub:  8\n"
     ]
    }
   ],
   "source": [
    "df_final = df_final[df_final['ID'].isin([s.id_ for s in subjects])]\n",
    "print('Len of df: ', len(df_final))\n",
    "print('Len of sub: ', len(subjects))"
   ]
  },
  {
   "cell_type": "code",
   "execution_count": 10,
   "metadata": {},
   "outputs": [
    {
     "name": "stdout",
     "output_type": "stream",
     "text": [
      "Moving valid subjects\n",
      "Filtering series using  10  cores:\n"
     ]
    },
    {
     "data": {
      "application/vnd.jupyter.widget-view+json": {
       "model_id": "11d6fc1bd2134ddbb47d85f0e8e6d551",
       "version_major": 2,
       "version_minor": 0
      },
      "text/plain": [
       "HBox(children=(HTML(value=''), FloatProgress(value=0.0, max=8.0), HTML(value='')))"
      ]
     },
     "metadata": {},
     "output_type": "display_data"
    },
    {
     "name": "stdout",
     "output_type": "stream",
     "text": [
      "\n"
     ]
    }
   ],
   "source": [
    "if __name__=='__main__':\n",
    "    # Find series images\n",
    "    print(\"Moving valid subjects\")\n",
    "    \n",
    "    def pool_mover(pool, func, candidates):\n",
    "        return [a for a in tqdm(pool.imap_unordered(func, candidates),total=len(candidates))]\n",
    "        \n",
    "    print('Filtering series using ', 10, ' cores:')\n",
    "        \n",
    "    with get_context(\"spawn\").Pool(processes=10) as p:\n",
    "        result_list = pool_mover(p, file_mover,subjects)\n",
    "        p.close()\n",
    "        p.join()\n",
    "        \n",
    "    df_final['Processed'] = result_list"
   ]
  },
  {
   "cell_type": "code",
   "execution_count": 11,
   "metadata": {},
   "outputs": [
    {
     "data": {
      "text/html": [
       "<div>\n",
       "<style scoped>\n",
       "    .dataframe tbody tr th:only-of-type {\n",
       "        vertical-align: middle;\n",
       "    }\n",
       "\n",
       "    .dataframe tbody tr th {\n",
       "        vertical-align: top;\n",
       "    }\n",
       "\n",
       "    .dataframe thead th {\n",
       "        text-align: right;\n",
       "    }\n",
       "</style>\n",
       "<table border=\"1\" class=\"dataframe\">\n",
       "  <thead>\n",
       "    <tr style=\"text-align: right;\">\n",
       "      <th></th>\n",
       "      <th>ID</th>\n",
       "      <th>Axial</th>\n",
       "      <th>Sagittal</th>\n",
       "      <th>Overlap</th>\n",
       "      <th>MissingScore</th>\n",
       "      <th>PairValidity</th>\n",
       "      <th>AxSlices</th>\n",
       "      <th>SagSlices</th>\n",
       "      <th>AxThick</th>\n",
       "      <th>SagThick</th>\n",
       "      <th>Processed</th>\n",
       "    </tr>\n",
       "  </thead>\n",
       "  <tbody>\n",
       "    <tr>\n",
       "      <th>0</th>\n",
       "      <td>Z923887</td>\n",
       "      <td>Z923887-SE-4-Axial_Body_5.0</td>\n",
       "      <td>None</td>\n",
       "      <td>None</td>\n",
       "      <td>1.0</td>\n",
       "      <td>None</td>\n",
       "      <td>84</td>\n",
       "      <td>None</td>\n",
       "      <td>5.0</td>\n",
       "      <td>None</td>\n",
       "      <td>1</td>\n",
       "    </tr>\n",
       "    <tr>\n",
       "      <th>1</th>\n",
       "      <td>Z1107859</td>\n",
       "      <td>Z1107859-SE-4-Axial_Std_3.0</td>\n",
       "      <td>None</td>\n",
       "      <td>None</td>\n",
       "      <td>1.0</td>\n",
       "      <td>None</td>\n",
       "      <td>86</td>\n",
       "      <td>None</td>\n",
       "      <td>3.0</td>\n",
       "      <td>None</td>\n",
       "      <td>1</td>\n",
       "    </tr>\n",
       "    <tr>\n",
       "      <th>2</th>\n",
       "      <td>Z1312350</td>\n",
       "      <td>Z1312350-SE-5-Axial_Body_5.0</td>\n",
       "      <td>None</td>\n",
       "      <td>None</td>\n",
       "      <td>1.0</td>\n",
       "      <td>None</td>\n",
       "      <td>51</td>\n",
       "      <td>None</td>\n",
       "      <td>5.0</td>\n",
       "      <td>None</td>\n",
       "      <td>1</td>\n",
       "    </tr>\n",
       "    <tr>\n",
       "      <th>3</th>\n",
       "      <td>Z934614</td>\n",
       "      <td>Z934614-SE-4-Standard_Axial</td>\n",
       "      <td>None</td>\n",
       "      <td>None</td>\n",
       "      <td>1.0</td>\n",
       "      <td>None</td>\n",
       "      <td>74</td>\n",
       "      <td>None</td>\n",
       "      <td>5.0</td>\n",
       "      <td>None</td>\n",
       "      <td>1</td>\n",
       "    </tr>\n",
       "    <tr>\n",
       "      <th>4</th>\n",
       "      <td>Z1146560</td>\n",
       "      <td>Z1146560-SE-2-Stnd_Pediatric_Axial_Stnd</td>\n",
       "      <td>None</td>\n",
       "      <td>None</td>\n",
       "      <td>1.0</td>\n",
       "      <td>None</td>\n",
       "      <td>72</td>\n",
       "      <td>None</td>\n",
       "      <td>5.0</td>\n",
       "      <td>None</td>\n",
       "      <td>1</td>\n",
       "    </tr>\n",
       "    <tr>\n",
       "      <th>5</th>\n",
       "      <td>Z719159</td>\n",
       "      <td>Z719159-SE-4-Std_Axial_Body_Std_5.0</td>\n",
       "      <td>None</td>\n",
       "      <td>None</td>\n",
       "      <td>1.0</td>\n",
       "      <td>None</td>\n",
       "      <td>70</td>\n",
       "      <td>None</td>\n",
       "      <td>5.0</td>\n",
       "      <td>None</td>\n",
       "      <td>1</td>\n",
       "    </tr>\n",
       "    <tr>\n",
       "      <th>6</th>\n",
       "      <td>Z1141194</td>\n",
       "      <td>Z1141194-SE-2-Stnd_Pediatric_5.0_CE</td>\n",
       "      <td>Z1141194-SE-5-Stnd_Pediatric_3.0_CE</td>\n",
       "      <td>1</td>\n",
       "      <td>1.0</td>\n",
       "      <td>2</td>\n",
       "      <td>86</td>\n",
       "      <td>107</td>\n",
       "      <td>5.0</td>\n",
       "      <td>3</td>\n",
       "      <td>1</td>\n",
       "    </tr>\n",
       "    <tr>\n",
       "      <th>7</th>\n",
       "      <td>Z1199636</td>\n",
       "      <td>Z1199636-SE-2-Body_Std._Axial_AIDR_-_H_5.0</td>\n",
       "      <td>None</td>\n",
       "      <td>None</td>\n",
       "      <td>1.0</td>\n",
       "      <td>None</td>\n",
       "      <td>76</td>\n",
       "      <td>None</td>\n",
       "      <td>5.0</td>\n",
       "      <td>None</td>\n",
       "      <td>1</td>\n",
       "    </tr>\n",
       "  </tbody>\n",
       "</table>\n",
       "</div>"
      ],
      "text/plain": [
       "         ID                                       Axial  \\\n",
       "0   Z923887                 Z923887-SE-4-Axial_Body_5.0   \n",
       "1  Z1107859                 Z1107859-SE-4-Axial_Std_3.0   \n",
       "2  Z1312350                Z1312350-SE-5-Axial_Body_5.0   \n",
       "3   Z934614                 Z934614-SE-4-Standard_Axial   \n",
       "4  Z1146560     Z1146560-SE-2-Stnd_Pediatric_Axial_Stnd   \n",
       "5   Z719159         Z719159-SE-4-Std_Axial_Body_Std_5.0   \n",
       "6  Z1141194         Z1141194-SE-2-Stnd_Pediatric_5.0_CE   \n",
       "7  Z1199636  Z1199636-SE-2-Body_Std._Axial_AIDR_-_H_5.0   \n",
       "\n",
       "                              Sagittal Overlap  MissingScore PairValidity  \\\n",
       "0                                 None    None           1.0         None   \n",
       "1                                 None    None           1.0         None   \n",
       "2                                 None    None           1.0         None   \n",
       "3                                 None    None           1.0         None   \n",
       "4                                 None    None           1.0         None   \n",
       "5                                 None    None           1.0         None   \n",
       "6  Z1141194-SE-5-Stnd_Pediatric_3.0_CE       1           1.0            2   \n",
       "7                                 None    None           1.0         None   \n",
       "\n",
       "  AxSlices SagSlices  AxThick SagThick  Processed  \n",
       "0       84      None      5.0     None          1  \n",
       "1       86      None      3.0     None          1  \n",
       "2       51      None      5.0     None          1  \n",
       "3       74      None      5.0     None          1  \n",
       "4       72      None      5.0     None          1  \n",
       "5       70      None      5.0     None          1  \n",
       "6       86       107      5.0        3          1  \n",
       "7       76      None      5.0     None          1  "
      ]
     },
     "metadata": {},
     "output_type": "display_data"
    }
   ],
   "source": [
    "display(df_final.head(10))"
   ]
  },
  {
   "cell_type": "code",
   "execution_count": 12,
   "metadata": {},
   "outputs": [],
   "source": [
    "save_object(df_final,os.path.join(output,'df_final_v5_8pts_processed.pkl'))"
   ]
  },
  {
   "cell_type": "code",
   "execution_count": null,
   "metadata": {},
   "outputs": [],
   "source": []
  }
 ],
 "metadata": {
  "kernelspec": {
   "display_name": "Python 3",
   "language": "python",
   "name": "python3"
  },
  "language_info": {
   "codemirror_mode": {
    "name": "ipython",
    "version": 3
   },
   "file_extension": ".py",
   "mimetype": "text/x-python",
   "name": "python",
   "nbconvert_exporter": "python",
   "pygments_lexer": "ipython3",
   "version": "3.6.9"
  }
 },
 "nbformat": 4,
 "nbformat_minor": 2
}
