{
 "cells": [
  {
   "cell_type": "markdown",
   "metadata": {},
   "source": [
    "# Notebook to Segment Skeletal Muscle Area from MRI images (TIFs)"
   ]
  },
  {
   "cell_type": "markdown",
   "metadata": {},
   "source": [
    "###### Load libraries and directories"
   ]
  },
  {
   "cell_type": "code",
   "execution_count": 1,
   "metadata": {},
   "outputs": [
    {
     "name": "stdout",
     "output_type": "stream",
     "text": [
      "/tf/smipipeline\n"
     ]
    }
   ],
   "source": [
    "import os\n",
    "os.getcwd()\n",
    "os.chdir('/tf/smipipeline')\n",
    "print(os.getcwd())"
   ]
  },
  {
   "cell_type": "code",
   "execution_count": 2,
   "metadata": {},
   "outputs": [],
   "source": [
    "from IPython.display import display, HTML"
   ]
  },
  {
   "cell_type": "code",
   "execution_count": 3,
   "metadata": {},
   "outputs": [
    {
     "name": "stderr",
     "output_type": "stream",
     "text": [
      "Using TensorFlow backend.\n"
     ]
    }
   ],
   "source": [
    "# from IPython import get_ipython\n",
    "from tqdm.notebook import tqdm\n",
    "import pickle\n",
    "import pprint\n",
    "pp = pprint.PrettyPrinter(indent=1)\n",
    "\n",
    "# Custom modules for debugging\n",
    "from SliceViewer import ImageSliceViewer3D, ImageSliceViewer3D_1view,ImageSliceViewer3D_2views\n",
    "from investigate import *\n",
    "\n",
    "#pd.set_option(\"display.max_rows\", 10)\n",
    "      \n",
    "import json\n",
    "from run_sma_experiment import find_l3_images,output_images\n",
    "import pprint\n",
    "from L3_finder import *\n",
    "\n",
    "# Custom functions\n",
    "import pickle\n",
    "def save_object(obj, filename):\n",
    "    with open(filename, 'wb') as output:  # Overwrites any existing file.\n",
    "        pickle.dump(obj, output, pickle.HIGHEST_PROTOCOL)\n",
    "\n",
    "def load_object(filename):        \n",
    "    with open(filename, 'rb') as input:\n",
    "        return pickle.load(input)"
   ]
  },
  {
   "cell_type": "code",
   "execution_count": 4,
   "metadata": {},
   "outputs": [],
   "source": [
    "import csv\n",
    "import sys\n",
    "from collections import defaultdict\n",
    "from pathlib import Path\n",
    "import tables"
   ]
  },
  {
   "cell_type": "code",
   "execution_count": 5,
   "metadata": {},
   "outputs": [
    {
     "name": "stderr",
     "output_type": "stream",
     "text": [
      "No traceback available to show.\n"
     ]
    }
   ],
   "source": [
    "get_ipython().run_line_magic('tb', '')"
   ]
  },
  {
   "cell_type": "code",
   "execution_count": 6,
   "metadata": {},
   "outputs": [
    {
     "name": "stdout",
     "output_type": "stream",
     "text": [
      "/tf/smipipeline\n"
     ]
    }
   ],
   "source": [
    "cwd = os.getcwd()\n",
    "print(cwd)\n",
    "data = '/tf/data'\n",
    "pickles = '/tf/pickles'\n",
    "models = '/tf/models'"
   ]
  },
  {
   "cell_type": "code",
   "execution_count": 7,
   "metadata": {
    "scrolled": true
   },
   "outputs": [
    {
     "name": "stdout",
     "output_type": "stream",
     "text": [
      "{'CPU': 8,\n",
      " 'GPU': 1,\n",
      " 'all_modalities': ['MR'],\n",
      " 'batch_size': 4,\n",
      " 'data_file': '/tf/data/sarcopeniaMR_L3_h5/mri.h5',\n",
      " 'data_split': [0.7, 0.1, 0.2],\n",
      " 'image_masks': ['truth'],\n",
      " 'image_shape': [256, 256],\n",
      " 'input_shape': [1, 256, 256],\n",
      " 'input_type': 'Image',\n",
      " 'labels': ['1'],\n",
      " 'monitor': 'output',\n",
      " 'n_channels': 1,\n",
      " 'n_epochs': 100,\n",
      " 'n_labels': 1,\n",
      " 'output_dir': '/tf/models/muscle/mri/',\n",
      " 'overwrite': 1,\n",
      " 'problem_type': 'Segmentation',\n",
      " 'show_plots': False,\n",
      " 'skip_blank': False,\n",
      " 'testing_split': '/tf/pickles/mri/test_0.2.pkl',\n",
      " 'training_modalities': ['MR'],\n",
      " 'training_model_name': 'ct_mri_invert_retrain.h5',\n",
      " 'training_split': '/tf/pickles/mri/train_0.7.pkl',\n",
      " 'transfer_learning_model': '/tf/models/muscle/cv_final/combined_2020-02-18_dice_fold_0.h5',\n",
      " 'validation_split': '/tf/pickles/mri/validation_0.1.pkl'}\n"
     ]
    }
   ],
   "source": [
    "# Import modules and config file\n",
    "configfile = os.path.join(cwd,'config/mri/sma_mri_retrain.json')\n",
    "with open(configfile, \"r\") as f:\n",
    "        config = json.load(f)\n",
    "pp.pprint(config)"
   ]
  },
  {
   "cell_type": "markdown",
   "metadata": {},
   "source": [
    "### Segment L3 Axial Images and Calculate Muscle Area"
   ]
  },
  {
   "cell_type": "code",
   "execution_count": 8,
   "metadata": {},
   "outputs": [],
   "source": [
    "# debug\n",
    "#with open(f'/tf/smipipeline/config/mri/sma_mri_retrain.json', \"w\") as outfile:\n",
    "#    json.dump(config, outfile)"
   ]
  },
  {
   "cell_type": "code",
   "execution_count": 9,
   "metadata": {},
   "outputs": [
    {
     "name": "stderr",
     "output_type": "stream",
     "text": [
      "/usr/local/lib/python3.6/dist-packages/sklearn/externals/joblib/__init__.py:15: DeprecationWarning: sklearn.externals.joblib is deprecated in 0.21 and will be removed in 0.23. Please import this functionality directly from joblib, which can be installed with: pip install joblib. If this warning is raised when loading pickled models, you may need to re-serialize those models with scikit-learn 0.21+.\n",
      "  warnings.warn(msg, category=DeprecationWarning)\n"
     ]
    }
   ],
   "source": [
    "# Import functions from run_training.py\n",
    "# The cells below will also be based on code in run_training.py\n",
    "from run_training import *"
   ]
  },
  {
   "cell_type": "code",
   "execution_count": 10,
   "metadata": {},
   "outputs": [],
   "source": [
    "# Step 1: Check if training type is defined\n",
    "try:\n",
    "    input_type = config[\"input_type\"]\n",
    "except:\n",
    "    raise Exception(\"Error: Input type not defined | \\t Set  config[\\\"input_type\\\"] to \\\"Image\\\", \\\"Clinical\\\" or \\\"Both\\\" \\n\")\n",
    "\n",
    "try:\n",
    "    problem_type = config[\"problem_type\"]\n",
    "except:\n",
    "    raise Exception(\"Error: Problem type not defined | \\t Set  config[\\\"problem_type\\\"] to \\\"Classification\\\", \\\"Segmentation\\\" or \\\"Regression\\\" \\n\")"
   ]
  },
  {
   "cell_type": "code",
   "execution_count": 11,
   "metadata": {},
   "outputs": [
    {
     "name": "stdout",
     "output_type": "stream",
     "text": [
      "/tf/data/sarcopeniaMR_L3_h5/mri.h5\n"
     ]
    }
   ],
   "source": [
    "print(config['data_file'])"
   ]
  },
  {
   "cell_type": "code",
   "execution_count": 12,
   "metadata": {},
   "outputs": [],
   "source": [
    "# Step 2: Check if the Data File is defined and open it\n",
    "try:\n",
    "    data_file = tables.open_file(config[\"data_file\"], mode='r')\n",
    "except:\n",
    "    raise Exception(\"Error: Could not open data file, check if config[\\\"data_file\\\"] is defined \\n\")"
   ]
  },
  {
   "cell_type": "code",
   "execution_count": 13,
   "metadata": {},
   "outputs": [],
   "source": [
    "# Step 3: LOAD DATA\n",
    "training_file = os.path.abspath(config['training_split'])\n",
    "validation_file = os.path.abspath(config['validation_split'])\n",
    "if 'testing_split' in config:\n",
    "    testing_file = os.path.abspath(config['testing_split'])"
   ]
  },
  {
   "cell_type": "code",
   "execution_count": 14,
   "metadata": {},
   "outputs": [
    {
     "name": "stdout",
     "output_type": "stream",
     "text": [
      "training pickles:  /tf/pickles/mri/train_0.7.pkl\n",
      "validation pickles:  /tf/pickles/mri/validation_0.1.pkl\n",
      "testing pickles:  /tf/pickles/mri/test_0.2.pkl\n"
     ]
    }
   ],
   "source": [
    "print(\"training pickles: \", training_file)\n",
    "print(\"validation pickles: \", validation_file)\n",
    "print(\"testing pickles: \", testing_file)"
   ]
  },
  {
   "cell_type": "code",
   "execution_count": 15,
   "metadata": {},
   "outputs": [
    {
     "name": "stdout",
     "output_type": "stream",
     "text": [
      "0.7\n",
      "0.3333333333333333\n"
     ]
    }
   ],
   "source": [
    "# Create train_test_valid splits from data_split configuration which is a ratio list for [train,valid,test].\n",
    "data_split = config['data_split']\n",
    "train_valid_split = data_split[0]\n",
    "print(train_valid_split)\n",
    "valid_test_split = data_split[1]/(data_split[1] + data_split[2] )\n",
    "print(valid_test_split)"
   ]
  },
  {
   "cell_type": "code",
   "execution_count": 16,
   "metadata": {},
   "outputs": [
    {
     "name": "stdout",
     "output_type": "stream",
     "text": [
      "Loading previous validation split...\n",
      "No of training samples:  140\n",
      "No of validation samples:  20\n"
     ]
    }
   ],
   "source": [
    "# For imaging data alone\n",
    "if config[\"input_type\"] == \"Image\" and data_file.__contains__('/imdata'):\n",
    "    training_list, validation_list =  create_validation_split(config[\"problem_type\"],\n",
    "                                                              data_file.root.truth,\n",
    "                                                              training_file, \n",
    "                                                              validation_file,\n",
    "                                                              train_valid_split,\n",
    "                                                              testing_file,valid_test_split,\n",
    "                                                              overwrite=0)\n",
    "    print('No of training samples: ', len(training_list))\n",
    "    print('No of validation samples: ', len(validation_list))"
   ]
  },
  {
   "cell_type": "code",
   "execution_count": 17,
   "metadata": {},
   "outputs": [
    {
     "name": "stdout",
     "output_type": "stream",
     "text": [
      "num_training_steps:  35\n",
      "num_validation_steps:  5\n"
     ]
    }
   ],
   "source": [
    "# Step 4: Define Data Generators\n",
    "Ngpus = config['GPU']\n",
    "Ncpus = config['CPU']\n",
    "batch_size = config['batch_size']*Ngpus\n",
    "\n",
    "config['validation_batch_size'] = batch_size\n",
    "n_epochs = config['n_epochs']\n",
    "num_validation_steps = None\n",
    "num_training_steps = None\n",
    "\n",
    "num_validation_patches,all_patches,validation_list_valid = get_number_of_patches(data_file, validation_list)\n",
    "num_training_patches,all_patches,training_list_valid =   get_number_of_patches(data_file, training_list)\n",
    "num_validation_steps = get_number_of_steps(num_validation_patches,config[\"validation_batch_size\"])\n",
    "num_training_steps =  get_number_of_steps(num_training_patches, batch_size)\n",
    "\n",
    "print(\"num_training_steps: \", num_training_steps)\n",
    "print(\"num_validation_steps: \", num_validation_steps)\n",
    "\n",
    "training_generator = DataGenerator_2D_Segmentation(data_file, training_list_valid,\n",
    "                            batch_size=config['batch_size'],\n",
    "                            n_labels=config['n_labels'],\n",
    "                            labels = config['labels'],\n",
    "                            shuffle_index_list=True)\n",
    "validation_generator = DataGenerator_2D_Segmentation(data_file, validation_list_valid,\n",
    "                            batch_size=config['batch_size'],\n",
    "                            n_labels=config['n_labels'],\n",
    "                            labels = config['labels'],\n",
    "                            shuffle_index_list=True)"
   ]
  },
  {
   "cell_type": "code",
   "execution_count": 18,
   "metadata": {},
   "outputs": [
    {
     "name": "stdout",
     "output_type": "stream",
     "text": [
      "Loading transfer learning at: /tf/models/muscle/cv_final/combined_2020-02-18_dice_fold_0.h5\n"
     ]
    }
   ],
   "source": [
    "# Step 5: Load Model\n",
    "from run_sma_experiment import configure_and_load_model # Function to load pre-trained models from CT SMA project\n",
    "model = None\n",
    "model1 = None\n",
    "if 'transfer_learning_model' in config:\n",
    "    print('Loading transfer learning at:',config['transfer_learning_model'])\n",
    "    model1 = configure_and_load_model(config['transfer_learning_model'])\n",
    "else:\n",
    "    if input_type == \"Image\":        \n",
    "        # create the MLP and CNN models\n",
    "        model1 = Unet2D_BN_MOD.build(config['input_shape'],config[\"n_labels\"])\n",
    "        print(\"Fresh model ready\")\n",
    "        # plot_model(model1, to_file=\"Unet-2D.png\", show_shapes=True)\n",
    "        # Step 6: Train Model\n",
    "\n",
    "# Paths for Monitoring\n",
    "figPath = os.path.sep.join([config[\"monitor\"], \"{}.png\".format(os.getpid())])\n",
    "jsonPath = None\n",
    "\n",
    "# OPTIMIZER\n",
    "#opt = SGD(lr=1e-4, momentum=0.9) # Continuous Learning Rate Decay\n",
    "opt = Adam(lr = 1e-3)\n",
    "loss_func = weighted_dice_coefficient_loss_2D #\"binary_crossentropy\" #  #  dice_coefficient_loss\n",
    "# class_weight = {0: 1.,1: 50.}\n",
    "\n",
    "## Make Model MultiGPU\n",
    "if Ngpus > 1:\n",
    "    model = multi_gpu_model(model1, gpus=Ngpus)\n",
    "    model1.compile(loss=loss_func, optimizer=opt,metrics=[\"accuracy\",dice_coefficient_monitor])\n",
    "else:\n",
    "    model = model1\n",
    "\n",
    "\n",
    "model.compile(loss=loss_func, optimizer=opt,metrics=[\"accuracy\",dice_coefficient_monitor])"
   ]
  },
  {
   "cell_type": "code",
   "execution_count": 19,
   "metadata": {},
   "outputs": [
    {
     "name": "stdout",
     "output_type": "stream",
     "text": [
      "Current training model is saved at:  /tf/models/muscle/mri/ct_mri_invert_retrain.h5\n"
     ]
    }
   ],
   "source": [
    "# Define Callbacks\n",
    "config[\"training_model\"] = os.path.join(config['output_dir'],config['training_model_name'])\n",
    "print('Current training model is saved at: ', config['training_model'])\n",
    "earlystop = EarlyStopping(monitor='val_loss', min_delta=0.0001, patience=20, verbose=0, mode='auto')\n",
    "checkpoint = ModelCheckpoint(config[\"training_model\"], monitor=\"val_loss\",save_best_only=True, verbose=1)\n",
    "#callbacks = [TrainingMonitor(figPath,jsonPath=jsonPath)]\n",
    "tensorboard = TensorBoard(log_dir=os.path.join(config['monitor'], str(time())))\n",
    "callbacks = [LearningRateScheduler(step_decay),tensorboard,checkpoint,earlystop]"
   ]
  },
  {
   "cell_type": "code",
   "execution_count": null,
   "metadata": {},
   "outputs": [],
   "source": [
    "# print Model Summary\n",
    "print('GPU of Training Model')\n",
    "print(model.summary())"
   ]
  },
  {
   "cell_type": "code",
   "execution_count": 21,
   "metadata": {},
   "outputs": [
    {
     "name": "stdout",
     "output_type": "stream",
     "text": [
      "[INFO] training network...\n",
      "Epoch 1/100\n",
      " 1/35 [..............................] - ETA: 0s - loss: -0.3441 - accuracy: 0.1250 - dice_coefficient_monitor: 0.3341WARNING:tensorflow:From /usr/local/lib/python3.6/dist-packages/tensorflow/python/ops/summary_ops_v2.py:1277: stop (from tensorflow.python.eager.profiler) is deprecated and will be removed after 2020-07-01.\n",
      "Instructions for updating:\n",
      "use `tf.profiler.experimental.stop` instead.\n",
      " 2/35 [>.............................] - ETA: 2s - loss: -0.5417 - accuracy: 0.0679 - dice_coefficient_monitor: 0.5388WARNING:tensorflow:Callbacks method `on_train_batch_end` is slow compared to the batch time (batch time: 0.0385s vs `on_train_batch_end` time: 0.1277s). Check your callbacks.\n",
      "34/35 [============================>.] - ETA: 0s - loss: -0.7933 - accuracy: 0.0210 - dice_coefficient_monitor: 0.8005\n",
      "Epoch 00001: val_loss improved from inf to -0.81783, saving model to /tf/models/muscle/mri/ct_mri_invert_retrain.h5\n",
      "35/35 [==============================] - 3s 86ms/step - loss: -0.7927 - accuracy: 0.0208 - dice_coefficient_monitor: 0.8000 - val_loss: -0.8178 - val_accuracy: 0.2293 - val_dice_coefficient_monitor: 0.8279\n",
      "Epoch 2/100\n",
      "35/35 [==============================] - ETA: 0s - loss: -0.8388 - accuracy: 0.0189 - dice_coefficient_monitor: 0.8444\n",
      "Epoch 00002: val_loss did not improve from -0.81783\n",
      "35/35 [==============================] - 1s 41ms/step - loss: -0.8388 - accuracy: 0.0189 - dice_coefficient_monitor: 0.8444 - val_loss: -0.7975 - val_accuracy: 0.1436 - val_dice_coefficient_monitor: 0.8068\n",
      "Epoch 3/100\n",
      "35/35 [==============================] - ETA: 0s - loss: -0.8395 - accuracy: 0.0329 - dice_coefficient_monitor: 0.8467\n",
      "Epoch 00003: val_loss improved from -0.81783 to -0.86223, saving model to /tf/models/muscle/mri/ct_mri_invert_retrain.h5\n",
      "35/35 [==============================] - 2s 61ms/step - loss: -0.8395 - accuracy: 0.0329 - dice_coefficient_monitor: 0.8467 - val_loss: -0.8622 - val_accuracy: 0.2039 - val_dice_coefficient_monitor: 0.8711\n",
      "Epoch 4/100\n",
      "35/35 [==============================] - ETA: 0s - loss: -0.8631 - accuracy: 0.0287 - dice_coefficient_monitor: 0.8711\n",
      "Epoch 00004: val_loss improved from -0.86223 to -0.87252, saving model to /tf/models/muscle/mri/ct_mri_invert_retrain.h5\n",
      "35/35 [==============================] - 2s 60ms/step - loss: -0.8631 - accuracy: 0.0287 - dice_coefficient_monitor: 0.8711 - val_loss: -0.8725 - val_accuracy: 0.1576 - val_dice_coefficient_monitor: 0.8753\n",
      "Epoch 5/100\n",
      "35/35 [==============================] - ETA: 0s - loss: -0.8670 - accuracy: 0.0331 - dice_coefficient_monitor: 0.8728\n",
      "Epoch 00005: val_loss did not improve from -0.87252\n",
      "35/35 [==============================] - 1s 41ms/step - loss: -0.8670 - accuracy: 0.0331 - dice_coefficient_monitor: 0.8728 - val_loss: -0.8609 - val_accuracy: 0.1801 - val_dice_coefficient_monitor: 0.8654\n",
      "Epoch 6/100\n",
      "35/35 [==============================] - ETA: 0s - loss: -0.8754 - accuracy: 0.0466 - dice_coefficient_monitor: 0.8815\n",
      "Epoch 00006: val_loss improved from -0.87252 to -0.88097, saving model to /tf/models/muscle/mri/ct_mri_invert_retrain.h5\n",
      "35/35 [==============================] - 2s 56ms/step - loss: -0.8754 - accuracy: 0.0466 - dice_coefficient_monitor: 0.8815 - val_loss: -0.8810 - val_accuracy: 0.1363 - val_dice_coefficient_monitor: 0.8851\n",
      "Epoch 7/100\n",
      "35/35 [==============================] - ETA: 0s - loss: -0.8575 - accuracy: 0.0837 - dice_coefficient_monitor: 0.8636\n",
      "Epoch 00007: val_loss did not improve from -0.88097\n",
      "35/35 [==============================] - 1s 41ms/step - loss: -0.8575 - accuracy: 0.0837 - dice_coefficient_monitor: 0.8636 - val_loss: -0.8594 - val_accuracy: 0.1129 - val_dice_coefficient_monitor: 0.8628\n",
      "Epoch 8/100\n",
      "35/35 [==============================] - ETA: 0s - loss: -0.8813 - accuracy: 0.0297 - dice_coefficient_monitor: 0.8880\n",
      "Epoch 00008: val_loss improved from -0.88097 to -0.88125, saving model to /tf/models/muscle/mri/ct_mri_invert_retrain.h5\n",
      "35/35 [==============================] - 2s 55ms/step - loss: -0.8813 - accuracy: 0.0297 - dice_coefficient_monitor: 0.8880 - val_loss: -0.8813 - val_accuracy: 0.0883 - val_dice_coefficient_monitor: 0.8840\n",
      "Epoch 9/100\n",
      "35/35 [==============================] - ETA: 0s - loss: -0.8942 - accuracy: 0.0233 - dice_coefficient_monitor: 0.9006\n",
      "Epoch 00009: val_loss did not improve from -0.88125\n",
      "35/35 [==============================] - 1s 40ms/step - loss: -0.8942 - accuracy: 0.0233 - dice_coefficient_monitor: 0.9006 - val_loss: -0.8695 - val_accuracy: 0.0270 - val_dice_coefficient_monitor: 0.8724\n",
      "Epoch 10/100\n",
      "35/35 [==============================] - ETA: 0s - loss: -0.8983 - accuracy: 0.0285 - dice_coefficient_monitor: 0.9047\n",
      "Epoch 00010: val_loss improved from -0.88125 to -0.89534, saving model to /tf/models/muscle/mri/ct_mri_invert_retrain.h5\n",
      "35/35 [==============================] - 2s 57ms/step - loss: -0.8983 - accuracy: 0.0285 - dice_coefficient_monitor: 0.9047 - val_loss: -0.8953 - val_accuracy: 0.0289 - val_dice_coefficient_monitor: 0.9014\n",
      "Epoch 11/100\n",
      "35/35 [==============================] - ETA: 0s - loss: -0.9023 - accuracy: 0.0255 - dice_coefficient_monitor: 0.9079\n",
      "Epoch 00011: val_loss did not improve from -0.89534\n",
      "35/35 [==============================] - 1s 39ms/step - loss: -0.9023 - accuracy: 0.0255 - dice_coefficient_monitor: 0.9079 - val_loss: -0.8815 - val_accuracy: 0.0426 - val_dice_coefficient_monitor: 0.8879\n",
      "Epoch 12/100\n",
      "35/35 [==============================] - ETA: 0s - loss: -0.9037 - accuracy: 0.0261 - dice_coefficient_monitor: 0.9095\n",
      "Epoch 00012: val_loss did not improve from -0.89534\n",
      "35/35 [==============================] - 1s 40ms/step - loss: -0.9037 - accuracy: 0.0261 - dice_coefficient_monitor: 0.9095 - val_loss: -0.8919 - val_accuracy: 0.0320 - val_dice_coefficient_monitor: 0.8976\n",
      "Epoch 13/100\n",
      "35/35 [==============================] - ETA: 0s - loss: -0.9036 - accuracy: 0.0268 - dice_coefficient_monitor: 0.9098\n",
      "Epoch 00013: val_loss did not improve from -0.89534\n",
      "35/35 [==============================] - 1s 42ms/step - loss: -0.9036 - accuracy: 0.0268 - dice_coefficient_monitor: 0.9098 - val_loss: -0.8935 - val_accuracy: 0.0223 - val_dice_coefficient_monitor: 0.8969\n",
      "Epoch 14/100\n",
      "35/35 [==============================] - ETA: 0s - loss: -0.9046 - accuracy: 0.0257 - dice_coefficient_monitor: 0.9093\n",
      "Epoch 00014: val_loss improved from -0.89534 to -0.89883, saving model to /tf/models/muscle/mri/ct_mri_invert_retrain.h5\n",
      "35/35 [==============================] - 2s 57ms/step - loss: -0.9046 - accuracy: 0.0257 - dice_coefficient_monitor: 0.9093 - val_loss: -0.8988 - val_accuracy: 0.0291 - val_dice_coefficient_monitor: 0.9043\n",
      "Epoch 15/100\n",
      "35/35 [==============================] - ETA: 0s - loss: -0.9078 - accuracy: 0.0284 - dice_coefficient_monitor: 0.9133\n",
      "Epoch 00015: val_loss did not improve from -0.89883\n",
      "35/35 [==============================] - 1s 41ms/step - loss: -0.9078 - accuracy: 0.0284 - dice_coefficient_monitor: 0.9133 - val_loss: -0.8981 - val_accuracy: 0.0322 - val_dice_coefficient_monitor: 0.9008\n",
      "Epoch 16/100\n",
      "35/35 [==============================] - ETA: 0s - loss: -0.9068 - accuracy: 0.0352 - dice_coefficient_monitor: 0.9122\n",
      "Epoch 00016: val_loss improved from -0.89883 to -0.90401, saving model to /tf/models/muscle/mri/ct_mri_invert_retrain.h5\n",
      "35/35 [==============================] - 2s 61ms/step - loss: -0.9068 - accuracy: 0.0352 - dice_coefficient_monitor: 0.9122 - val_loss: -0.9040 - val_accuracy: 0.0297 - val_dice_coefficient_monitor: 0.9093\n",
      "Epoch 17/100\n",
      "35/35 [==============================] - ETA: 0s - loss: -0.9067 - accuracy: 0.0475 - dice_coefficient_monitor: 0.9120\n",
      "Epoch 00017: val_loss did not improve from -0.90401\n",
      "35/35 [==============================] - 1s 42ms/step - loss: -0.9067 - accuracy: 0.0475 - dice_coefficient_monitor: 0.9120 - val_loss: -0.8927 - val_accuracy: 0.0512 - val_dice_coefficient_monitor: 0.8997\n",
      "Epoch 18/100\n",
      "35/35 [==============================] - ETA: 0s - loss: -0.9086 - accuracy: 0.0459 - dice_coefficient_monitor: 0.9133\n",
      "Epoch 00018: val_loss improved from -0.90401 to -0.90518, saving model to /tf/models/muscle/mri/ct_mri_invert_retrain.h5\n",
      "35/35 [==============================] - 2s 57ms/step - loss: -0.9086 - accuracy: 0.0459 - dice_coefficient_monitor: 0.9133 - val_loss: -0.9052 - val_accuracy: 0.0697 - val_dice_coefficient_monitor: 0.9110\n"
     ]
    },
    {
     "name": "stdout",
     "output_type": "stream",
     "text": [
      "Epoch 19/100\n",
      "35/35 [==============================] - ETA: 0s - loss: -0.9127 - accuracy: 0.0343 - dice_coefficient_monitor: 0.9177\n",
      "Epoch 00019: val_loss did not improve from -0.90518\n",
      "35/35 [==============================] - 1s 41ms/step - loss: -0.9127 - accuracy: 0.0343 - dice_coefficient_monitor: 0.9177 - val_loss: -0.9000 - val_accuracy: 0.0348 - val_dice_coefficient_monitor: 0.9054\n",
      "Epoch 20/100\n",
      "34/35 [============================>.] - ETA: 0s - loss: -0.9135 - accuracy: 0.0424 - dice_coefficient_monitor: 0.9175\n",
      "Epoch 00020: val_loss did not improve from -0.90518\n",
      "35/35 [==============================] - 1s 42ms/step - loss: -0.9143 - accuracy: 0.0417 - dice_coefficient_monitor: 0.9182 - val_loss: -0.9011 - val_accuracy: 0.0398 - val_dice_coefficient_monitor: 0.9069\n",
      "Epoch 21/100\n",
      "35/35 [==============================] - ETA: 0s - loss: -0.9150 - accuracy: 0.0372 - dice_coefficient_monitor: 0.9192\n",
      "Epoch 00021: val_loss improved from -0.90518 to -0.90602, saving model to /tf/models/muscle/mri/ct_mri_invert_retrain.h5\n",
      "35/35 [==============================] - 2s 60ms/step - loss: -0.9150 - accuracy: 0.0372 - dice_coefficient_monitor: 0.9192 - val_loss: -0.9060 - val_accuracy: 0.0441 - val_dice_coefficient_monitor: 0.9113\n",
      "Epoch 22/100\n",
      "35/35 [==============================] - ETA: 0s - loss: -0.9159 - accuracy: 0.0364 - dice_coefficient_monitor: 0.9195\n",
      "Epoch 00022: val_loss improved from -0.90602 to -0.90729, saving model to /tf/models/muscle/mri/ct_mri_invert_retrain.h5\n",
      "35/35 [==============================] - 2s 59ms/step - loss: -0.9159 - accuracy: 0.0364 - dice_coefficient_monitor: 0.9195 - val_loss: -0.9073 - val_accuracy: 0.0598 - val_dice_coefficient_monitor: 0.9132\n",
      "Epoch 23/100\n",
      "35/35 [==============================] - ETA: 0s - loss: -0.9173 - accuracy: 0.0336 - dice_coefficient_monitor: 0.9214\n",
      "Epoch 00023: val_loss did not improve from -0.90729\n",
      "35/35 [==============================] - 1s 42ms/step - loss: -0.9173 - accuracy: 0.0336 - dice_coefficient_monitor: 0.9214 - val_loss: -0.9059 - val_accuracy: 0.0471 - val_dice_coefficient_monitor: 0.9113\n",
      "Epoch 24/100\n",
      "35/35 [==============================] - ETA: 0s - loss: -0.9176 - accuracy: 0.0359 - dice_coefficient_monitor: 0.9213\n",
      "Epoch 00024: val_loss improved from -0.90729 to -0.90815, saving model to /tf/models/muscle/mri/ct_mri_invert_retrain.h5\n",
      "35/35 [==============================] - 2s 62ms/step - loss: -0.9176 - accuracy: 0.0359 - dice_coefficient_monitor: 0.9213 - val_loss: -0.9081 - val_accuracy: 0.0371 - val_dice_coefficient_monitor: 0.9120\n",
      "Epoch 25/100\n",
      "35/35 [==============================] - ETA: 0s - loss: -0.9162 - accuracy: 0.0349 - dice_coefficient_monitor: 0.9192\n",
      "Epoch 00025: val_loss improved from -0.90815 to -0.91086, saving model to /tf/models/muscle/mri/ct_mri_invert_retrain.h5\n",
      "35/35 [==============================] - 2s 59ms/step - loss: -0.9162 - accuracy: 0.0349 - dice_coefficient_monitor: 0.9192 - val_loss: -0.9109 - val_accuracy: 0.0514 - val_dice_coefficient_monitor: 0.9151\n",
      "Epoch 26/100\n",
      "35/35 [==============================] - ETA: 0s - loss: -0.9181 - accuracy: 0.0377 - dice_coefficient_monitor: 0.9218\n",
      "Epoch 00026: val_loss did not improve from -0.91086\n",
      "35/35 [==============================] - 1s 42ms/step - loss: -0.9181 - accuracy: 0.0377 - dice_coefficient_monitor: 0.9218 - val_loss: -0.9087 - val_accuracy: 0.0520 - val_dice_coefficient_monitor: 0.9141\n",
      "Epoch 27/100\n",
      "35/35 [==============================] - ETA: 0s - loss: -0.9198 - accuracy: 0.0375 - dice_coefficient_monitor: 0.9244\n",
      "Epoch 00027: val_loss did not improve from -0.91086\n",
      "35/35 [==============================] - 2s 44ms/step - loss: -0.9198 - accuracy: 0.0375 - dice_coefficient_monitor: 0.9244 - val_loss: -0.9092 - val_accuracy: 0.0346 - val_dice_coefficient_monitor: 0.9133\n",
      "Epoch 28/100\n",
      "35/35 [==============================] - ETA: 0s - loss: -0.9189 - accuracy: 0.0450 - dice_coefficient_monitor: 0.9221\n",
      "Epoch 00028: val_loss did not improve from -0.91086\n",
      "35/35 [==============================] - 1s 41ms/step - loss: -0.9189 - accuracy: 0.0450 - dice_coefficient_monitor: 0.9221 - val_loss: -0.9049 - val_accuracy: 0.0426 - val_dice_coefficient_monitor: 0.9085\n",
      "Epoch 29/100\n",
      "35/35 [==============================] - ETA: 0s - loss: -0.9200 - accuracy: 0.0426 - dice_coefficient_monitor: 0.9231\n",
      "Epoch 00029: val_loss did not improve from -0.91086\n",
      "35/35 [==============================] - 1s 41ms/step - loss: -0.9200 - accuracy: 0.0426 - dice_coefficient_monitor: 0.9231 - val_loss: -0.9070 - val_accuracy: 0.0441 - val_dice_coefficient_monitor: 0.9116\n",
      "Epoch 30/100\n",
      "34/35 [============================>.] - ETA: 0s - loss: -0.9209 - accuracy: 0.0406 - dice_coefficient_monitor: 0.9246\n",
      "Epoch 00030: val_loss did not improve from -0.91086\n",
      "35/35 [==============================] - 2s 43ms/step - loss: -0.9210 - accuracy: 0.0404 - dice_coefficient_monitor: 0.9247 - val_loss: -0.9077 - val_accuracy: 0.0385 - val_dice_coefficient_monitor: 0.9123\n",
      "Epoch 31/100\n",
      "35/35 [==============================] - ETA: 0s - loss: -0.9209 - accuracy: 0.0429 - dice_coefficient_monitor: 0.9242\n",
      "Epoch 00031: val_loss did not improve from -0.91086\n",
      "35/35 [==============================] - 1s 42ms/step - loss: -0.9209 - accuracy: 0.0429 - dice_coefficient_monitor: 0.9242 - val_loss: -0.9088 - val_accuracy: 0.0473 - val_dice_coefficient_monitor: 0.9141\n",
      "Epoch 32/100\n",
      "35/35 [==============================] - ETA: 0s - loss: -0.9223 - accuracy: 0.0430 - dice_coefficient_monitor: 0.9252\n",
      "Epoch 00032: val_loss did not improve from -0.91086\n",
      "35/35 [==============================] - 1s 41ms/step - loss: -0.9223 - accuracy: 0.0430 - dice_coefficient_monitor: 0.9252 - val_loss: -0.9105 - val_accuracy: 0.0422 - val_dice_coefficient_monitor: 0.9149\n",
      "Epoch 33/100\n",
      "35/35 [==============================] - ETA: 0s - loss: -0.9229 - accuracy: 0.0431 - dice_coefficient_monitor: 0.9259\n",
      "Epoch 00033: val_loss improved from -0.91086 to -0.91226, saving model to /tf/models/muscle/mri/ct_mri_invert_retrain.h5\n",
      "35/35 [==============================] - 2s 60ms/step - loss: -0.9229 - accuracy: 0.0431 - dice_coefficient_monitor: 0.9259 - val_loss: -0.9123 - val_accuracy: 0.0439 - val_dice_coefficient_monitor: 0.9166\n",
      "Epoch 34/100\n",
      "35/35 [==============================] - ETA: 0s - loss: -0.9224 - accuracy: 0.0446 - dice_coefficient_monitor: 0.9258\n",
      "Epoch 00034: val_loss did not improve from -0.91226\n",
      "35/35 [==============================] - 2s 43ms/step - loss: -0.9224 - accuracy: 0.0446 - dice_coefficient_monitor: 0.9258 - val_loss: -0.9090 - val_accuracy: 0.0414 - val_dice_coefficient_monitor: 0.9130\n",
      "Epoch 35/100\n",
      "35/35 [==============================] - ETA: 0s - loss: -0.9233 - accuracy: 0.0453 - dice_coefficient_monitor: 0.9269\n",
      "Epoch 00035: val_loss did not improve from -0.91226\n",
      "35/35 [==============================] - 1s 41ms/step - loss: -0.9233 - accuracy: 0.0453 - dice_coefficient_monitor: 0.9269 - val_loss: -0.9110 - val_accuracy: 0.0426 - val_dice_coefficient_monitor: 0.9168\n",
      "Epoch 36/100\n",
      "35/35 [==============================] - ETA: 0s - loss: -0.9224 - accuracy: 0.0480 - dice_coefficient_monitor: 0.9255\n",
      "Epoch 00036: val_loss did not improve from -0.91226\n",
      "35/35 [==============================] - 1s 42ms/step - loss: -0.9224 - accuracy: 0.0480 - dice_coefficient_monitor: 0.9255 - val_loss: -0.9102 - val_accuracy: 0.0418 - val_dice_coefficient_monitor: 0.9136\n",
      "Epoch 37/100\n",
      "35/35 [==============================] - ETA: 0s - loss: -0.9240 - accuracy: 0.0418 - dice_coefficient_monitor: 0.9268\n",
      "Epoch 00037: val_loss improved from -0.91226 to -0.91391, saving model to /tf/models/muscle/mri/ct_mri_invert_retrain.h5\n",
      "35/35 [==============================] - 2s 61ms/step - loss: -0.9240 - accuracy: 0.0418 - dice_coefficient_monitor: 0.9268 - val_loss: -0.9139 - val_accuracy: 0.0502 - val_dice_coefficient_monitor: 0.9169\n",
      "Epoch 38/100\n",
      "35/35 [==============================] - ETA: 0s - loss: -0.9233 - accuracy: 0.0430 - dice_coefficient_monitor: 0.9263\n",
      "Epoch 00038: val_loss did not improve from -0.91391\n",
      "35/35 [==============================] - 1s 43ms/step - loss: -0.9233 - accuracy: 0.0430 - dice_coefficient_monitor: 0.9263 - val_loss: -0.9110 - val_accuracy: 0.0449 - val_dice_coefficient_monitor: 0.9158\n"
     ]
    },
    {
     "name": "stdout",
     "output_type": "stream",
     "text": [
      "Epoch 39/100\n",
      "35/35 [==============================] - ETA: 0s - loss: -0.9239 - accuracy: 0.0496 - dice_coefficient_monitor: 0.9267\n",
      "Epoch 00039: val_loss did not improve from -0.91391\n",
      "35/35 [==============================] - 2s 43ms/step - loss: -0.9239 - accuracy: 0.0496 - dice_coefficient_monitor: 0.9267 - val_loss: -0.9110 - val_accuracy: 0.0391 - val_dice_coefficient_monitor: 0.9153\n",
      "Epoch 40/100\n",
      "35/35 [==============================] - ETA: 0s - loss: -0.9240 - accuracy: 0.0445 - dice_coefficient_monitor: 0.9271\n",
      "Epoch 00040: val_loss did not improve from -0.91391\n",
      "35/35 [==============================] - 2s 43ms/step - loss: -0.9240 - accuracy: 0.0445 - dice_coefficient_monitor: 0.9271 - val_loss: -0.9102 - val_accuracy: 0.0469 - val_dice_coefficient_monitor: 0.9141\n",
      "Epoch 41/100\n",
      "35/35 [==============================] - ETA: 0s - loss: -0.9251 - accuracy: 0.0444 - dice_coefficient_monitor: 0.9277\n",
      "Epoch 00041: val_loss did not improve from -0.91391\n",
      "35/35 [==============================] - 1s 43ms/step - loss: -0.9251 - accuracy: 0.0444 - dice_coefficient_monitor: 0.9277 - val_loss: -0.9108 - val_accuracy: 0.0525 - val_dice_coefficient_monitor: 0.9137\n",
      "Epoch 42/100\n",
      "35/35 [==============================] - ETA: 0s - loss: -0.9251 - accuracy: 0.0430 - dice_coefficient_monitor: 0.9280\n",
      "Epoch 00042: val_loss did not improve from -0.91391\n",
      "35/35 [==============================] - 1s 40ms/step - loss: -0.9251 - accuracy: 0.0430 - dice_coefficient_monitor: 0.9280 - val_loss: -0.9105 - val_accuracy: 0.0418 - val_dice_coefficient_monitor: 0.9150\n",
      "Epoch 43/100\n",
      "34/35 [============================>.] - ETA: 0s - loss: -0.9247 - accuracy: 0.0430 - dice_coefficient_monitor: 0.9272\n",
      "Epoch 00043: val_loss did not improve from -0.91391\n",
      "35/35 [==============================] - 1s 42ms/step - loss: -0.9246 - accuracy: 0.0430 - dice_coefficient_monitor: 0.9273 - val_loss: -0.9071 - val_accuracy: 0.0521 - val_dice_coefficient_monitor: 0.9111\n",
      "Epoch 44/100\n",
      "35/35 [==============================] - ETA: 0s - loss: -0.9253 - accuracy: 0.0482 - dice_coefficient_monitor: 0.9285\n",
      "Epoch 00044: val_loss did not improve from -0.91391\n",
      "35/35 [==============================] - 2s 43ms/step - loss: -0.9253 - accuracy: 0.0482 - dice_coefficient_monitor: 0.9285 - val_loss: -0.9113 - val_accuracy: 0.0432 - val_dice_coefficient_monitor: 0.9145\n",
      "Epoch 45/100\n",
      "35/35 [==============================] - ETA: 0s - loss: -0.9245 - accuracy: 0.0447 - dice_coefficient_monitor: 0.9280\n",
      "Epoch 00045: val_loss did not improve from -0.91391\n",
      "35/35 [==============================] - 2s 44ms/step - loss: -0.9245 - accuracy: 0.0447 - dice_coefficient_monitor: 0.9280 - val_loss: -0.9115 - val_accuracy: 0.0426 - val_dice_coefficient_monitor: 0.9156\n",
      "Epoch 46/100\n",
      "35/35 [==============================] - ETA: 0s - loss: -0.9249 - accuracy: 0.0451 - dice_coefficient_monitor: 0.9278\n",
      "Epoch 00046: val_loss did not improve from -0.91391\n",
      "35/35 [==============================] - 1s 41ms/step - loss: -0.9249 - accuracy: 0.0451 - dice_coefficient_monitor: 0.9278 - val_loss: -0.9111 - val_accuracy: 0.0463 - val_dice_coefficient_monitor: 0.9141\n",
      "Epoch 47/100\n",
      "35/35 [==============================] - ETA: 0s - loss: -0.9253 - accuracy: 0.0482 - dice_coefficient_monitor: 0.9286\n",
      "Epoch 00047: val_loss did not improve from -0.91391\n",
      "35/35 [==============================] - 1s 40ms/step - loss: -0.9253 - accuracy: 0.0482 - dice_coefficient_monitor: 0.9286 - val_loss: -0.9128 - val_accuracy: 0.0457 - val_dice_coefficient_monitor: 0.9158\n",
      "Epoch 48/100\n",
      "35/35 [==============================] - ETA: 0s - loss: -0.9253 - accuracy: 0.0460 - dice_coefficient_monitor: 0.9278\n",
      "Epoch 00048: val_loss did not improve from -0.91391\n",
      "35/35 [==============================] - 1s 42ms/step - loss: -0.9253 - accuracy: 0.0460 - dice_coefficient_monitor: 0.9278 - val_loss: -0.9133 - val_accuracy: 0.0432 - val_dice_coefficient_monitor: 0.9169\n",
      "Epoch 49/100\n",
      "35/35 [==============================] - ETA: 0s - loss: -0.9252 - accuracy: 0.0467 - dice_coefficient_monitor: 0.9280\n",
      "Epoch 00049: val_loss did not improve from -0.91391\n",
      "35/35 [==============================] - 1s 43ms/step - loss: -0.9252 - accuracy: 0.0467 - dice_coefficient_monitor: 0.9280 - val_loss: -0.9105 - val_accuracy: 0.0537 - val_dice_coefficient_monitor: 0.9137\n",
      "Epoch 50/100\n",
      "35/35 [==============================] - ETA: 0s - loss: -0.9257 - accuracy: 0.0491 - dice_coefficient_monitor: 0.9288\n",
      "Epoch 00050: val_loss did not improve from -0.91391\n",
      "35/35 [==============================] - 2s 43ms/step - loss: -0.9257 - accuracy: 0.0491 - dice_coefficient_monitor: 0.9288 - val_loss: -0.9131 - val_accuracy: 0.0496 - val_dice_coefficient_monitor: 0.9158\n",
      "Epoch 51/100\n",
      "35/35 [==============================] - ETA: 0s - loss: -0.9268 - accuracy: 0.0468 - dice_coefficient_monitor: 0.9294\n",
      "Epoch 00051: val_loss did not improve from -0.91391\n",
      "35/35 [==============================] - 1s 41ms/step - loss: -0.9268 - accuracy: 0.0468 - dice_coefficient_monitor: 0.9294 - val_loss: -0.9120 - val_accuracy: 0.0537 - val_dice_coefficient_monitor: 0.9161\n",
      "Epoch 52/100\n",
      "35/35 [==============================] - ETA: 0s - loss: -0.9267 - accuracy: 0.0484 - dice_coefficient_monitor: 0.9292\n",
      "Epoch 00052: val_loss did not improve from -0.91391\n",
      "35/35 [==============================] - 1s 42ms/step - loss: -0.9267 - accuracy: 0.0484 - dice_coefficient_monitor: 0.9292 - val_loss: -0.9133 - val_accuracy: 0.0463 - val_dice_coefficient_monitor: 0.9182\n",
      "Epoch 53/100\n",
      "35/35 [==============================] - ETA: 0s - loss: -0.9274 - accuracy: 0.0495 - dice_coefficient_monitor: 0.9303\n",
      "Epoch 00053: val_loss did not improve from -0.91391\n",
      "35/35 [==============================] - 1s 42ms/step - loss: -0.9274 - accuracy: 0.0495 - dice_coefficient_monitor: 0.9303 - val_loss: -0.9126 - val_accuracy: 0.0477 - val_dice_coefficient_monitor: 0.9161\n",
      "Epoch 54/100\n",
      "35/35 [==============================] - ETA: 0s - loss: -0.9264 - accuracy: 0.0482 - dice_coefficient_monitor: 0.9292\n",
      "Epoch 00054: val_loss improved from -0.91391 to -0.91413, saving model to /tf/models/muscle/mri/ct_mri_invert_retrain.h5\n",
      "35/35 [==============================] - 2s 60ms/step - loss: -0.9264 - accuracy: 0.0482 - dice_coefficient_monitor: 0.9292 - val_loss: -0.9141 - val_accuracy: 0.0527 - val_dice_coefficient_monitor: 0.9183\n",
      "Epoch 55/100\n",
      "35/35 [==============================] - ETA: 0s - loss: -0.9270 - accuracy: 0.0479 - dice_coefficient_monitor: 0.9297\n",
      "Epoch 00055: val_loss improved from -0.91413 to -0.91511, saving model to /tf/models/muscle/mri/ct_mri_invert_retrain.h5\n",
      "35/35 [==============================] - 2s 61ms/step - loss: -0.9270 - accuracy: 0.0479 - dice_coefficient_monitor: 0.9297 - val_loss: -0.9151 - val_accuracy: 0.0469 - val_dice_coefficient_monitor: 0.9196\n",
      "Epoch 56/100\n",
      "35/35 [==============================] - ETA: 0s - loss: -0.9267 - accuracy: 0.0449 - dice_coefficient_monitor: 0.9296\n",
      "Epoch 00056: val_loss did not improve from -0.91511\n",
      "35/35 [==============================] - 2s 43ms/step - loss: -0.9267 - accuracy: 0.0449 - dice_coefficient_monitor: 0.9296 - val_loss: -0.9139 - val_accuracy: 0.0506 - val_dice_coefficient_monitor: 0.9185\n",
      "Epoch 57/100\n",
      "35/35 [==============================] - ETA: 0s - loss: -0.9273 - accuracy: 0.0499 - dice_coefficient_monitor: 0.9301\n",
      "Epoch 00057: val_loss did not improve from -0.91511\n",
      "35/35 [==============================] - 2s 43ms/step - loss: -0.9273 - accuracy: 0.0499 - dice_coefficient_monitor: 0.9301 - val_loss: -0.9131 - val_accuracy: 0.0437 - val_dice_coefficient_monitor: 0.9164\n",
      "Epoch 58/100\n",
      "35/35 [==============================] - ETA: 0s - loss: -0.9262 - accuracy: 0.0506 - dice_coefficient_monitor: 0.9290\n",
      "Epoch 00058: val_loss did not improve from -0.91511\n",
      "35/35 [==============================] - 1s 42ms/step - loss: -0.9262 - accuracy: 0.0506 - dice_coefficient_monitor: 0.9290 - val_loss: -0.9105 - val_accuracy: 0.0480 - val_dice_coefficient_monitor: 0.9133\n",
      "Epoch 59/100\n",
      "35/35 [==============================] - ETA: 0s - loss: -0.9272 - accuracy: 0.0495 - dice_coefficient_monitor: 0.9303\n",
      "Epoch 00059: val_loss did not improve from -0.91511\n",
      "35/35 [==============================] - 1s 42ms/step - loss: -0.9272 - accuracy: 0.0495 - dice_coefficient_monitor: 0.9303 - val_loss: -0.9092 - val_accuracy: 0.0559 - val_dice_coefficient_monitor: 0.9136\n"
     ]
    },
    {
     "name": "stdout",
     "output_type": "stream",
     "text": [
      "Epoch 60/100\n",
      "35/35 [==============================] - ETA: 0s - loss: -0.9276 - accuracy: 0.0494 - dice_coefficient_monitor: 0.9303\n",
      "Epoch 00060: val_loss did not improve from -0.91511\n",
      "35/35 [==============================] - 1s 41ms/step - loss: -0.9276 - accuracy: 0.0494 - dice_coefficient_monitor: 0.9303 - val_loss: -0.9117 - val_accuracy: 0.0549 - val_dice_coefficient_monitor: 0.9140\n",
      "Epoch 61/100\n",
      "35/35 [==============================] - ETA: 0s - loss: -0.9264 - accuracy: 0.0494 - dice_coefficient_monitor: 0.9292\n",
      "Epoch 00061: val_loss did not improve from -0.91511\n",
      "35/35 [==============================] - 1s 41ms/step - loss: -0.9264 - accuracy: 0.0494 - dice_coefficient_monitor: 0.9292 - val_loss: -0.9130 - val_accuracy: 0.0541 - val_dice_coefficient_monitor: 0.9149\n",
      "Epoch 62/100\n",
      "35/35 [==============================] - ETA: 0s - loss: -0.9272 - accuracy: 0.0484 - dice_coefficient_monitor: 0.9297\n",
      "Epoch 00062: val_loss did not improve from -0.91511\n",
      "35/35 [==============================] - 1s 39ms/step - loss: -0.9272 - accuracy: 0.0484 - dice_coefficient_monitor: 0.9297 - val_loss: -0.9133 - val_accuracy: 0.0531 - val_dice_coefficient_monitor: 0.9165\n",
      "Epoch 63/100\n",
      "35/35 [==============================] - ETA: 0s - loss: -0.9275 - accuracy: 0.0510 - dice_coefficient_monitor: 0.9302\n",
      "Epoch 00063: val_loss did not improve from -0.91511\n",
      "35/35 [==============================] - 1s 40ms/step - loss: -0.9275 - accuracy: 0.0510 - dice_coefficient_monitor: 0.9302 - val_loss: -0.9119 - val_accuracy: 0.0533 - val_dice_coefficient_monitor: 0.9157\n",
      "Epoch 64/100\n",
      "35/35 [==============================] - ETA: 0s - loss: -0.9277 - accuracy: 0.0477 - dice_coefficient_monitor: 0.9307\n",
      "Epoch 00064: val_loss did not improve from -0.91511\n",
      "35/35 [==============================] - 1s 41ms/step - loss: -0.9277 - accuracy: 0.0477 - dice_coefficient_monitor: 0.9307 - val_loss: -0.9118 - val_accuracy: 0.0508 - val_dice_coefficient_monitor: 0.9140\n",
      "Epoch 65/100\n",
      "35/35 [==============================] - ETA: 0s - loss: -0.9278 - accuracy: 0.0487 - dice_coefficient_monitor: 0.9305\n",
      "Epoch 00065: val_loss did not improve from -0.91511\n",
      "35/35 [==============================] - 1s 41ms/step - loss: -0.9278 - accuracy: 0.0487 - dice_coefficient_monitor: 0.9305 - val_loss: -0.9122 - val_accuracy: 0.0551 - val_dice_coefficient_monitor: 0.9167\n",
      "Epoch 66/100\n",
      "35/35 [==============================] - ETA: 0s - loss: -0.9281 - accuracy: 0.0497 - dice_coefficient_monitor: 0.9306\n",
      "Epoch 00066: val_loss did not improve from -0.91511\n",
      "35/35 [==============================] - 1s 41ms/step - loss: -0.9281 - accuracy: 0.0497 - dice_coefficient_monitor: 0.9306 - val_loss: -0.9140 - val_accuracy: 0.0539 - val_dice_coefficient_monitor: 0.9168\n",
      "Epoch 67/100\n",
      "35/35 [==============================] - ETA: 0s - loss: -0.9282 - accuracy: 0.0469 - dice_coefficient_monitor: 0.9308\n",
      "Epoch 00067: val_loss did not improve from -0.91511\n",
      "35/35 [==============================] - 1s 41ms/step - loss: -0.9282 - accuracy: 0.0469 - dice_coefficient_monitor: 0.9308 - val_loss: -0.9136 - val_accuracy: 0.0543 - val_dice_coefficient_monitor: 0.9158\n",
      "Epoch 68/100\n",
      "35/35 [==============================] - ETA: 0s - loss: -0.9269 - accuracy: 0.0517 - dice_coefficient_monitor: 0.9293\n",
      "Epoch 00068: val_loss did not improve from -0.91511\n",
      "35/35 [==============================] - 1s 42ms/step - loss: -0.9269 - accuracy: 0.0517 - dice_coefficient_monitor: 0.9293 - val_loss: -0.9139 - val_accuracy: 0.0525 - val_dice_coefficient_monitor: 0.9175\n",
      "Epoch 69/100\n",
      "35/35 [==============================] - ETA: 0s - loss: -0.9280 - accuracy: 0.0519 - dice_coefficient_monitor: 0.9306\n",
      "Epoch 00069: val_loss did not improve from -0.91511\n",
      "35/35 [==============================] - 1s 41ms/step - loss: -0.9280 - accuracy: 0.0519 - dice_coefficient_monitor: 0.9306 - val_loss: -0.9139 - val_accuracy: 0.0545 - val_dice_coefficient_monitor: 0.9175\n",
      "Epoch 70/100\n",
      "35/35 [==============================] - ETA: 0s - loss: -0.9270 - accuracy: 0.0484 - dice_coefficient_monitor: 0.9295\n",
      "Epoch 00070: val_loss did not improve from -0.91511\n",
      "35/35 [==============================] - 1s 42ms/step - loss: -0.9270 - accuracy: 0.0484 - dice_coefficient_monitor: 0.9295 - val_loss: -0.9138 - val_accuracy: 0.0541 - val_dice_coefficient_monitor: 0.9174\n",
      "Epoch 71/100\n",
      "35/35 [==============================] - ETA: 0s - loss: -0.9284 - accuracy: 0.0487 - dice_coefficient_monitor: 0.9309\n",
      "Epoch 00071: val_loss did not improve from -0.91511\n",
      "35/35 [==============================] - 1s 42ms/step - loss: -0.9284 - accuracy: 0.0487 - dice_coefficient_monitor: 0.9309 - val_loss: -0.9136 - val_accuracy: 0.0535 - val_dice_coefficient_monitor: 0.9172\n",
      "Epoch 72/100\n",
      "35/35 [==============================] - ETA: 0s - loss: -0.9273 - accuracy: 0.0480 - dice_coefficient_monitor: 0.9304\n",
      "Epoch 00072: val_loss did not improve from -0.91511\n",
      "35/35 [==============================] - 1s 41ms/step - loss: -0.9273 - accuracy: 0.0480 - dice_coefficient_monitor: 0.9304 - val_loss: -0.9137 - val_accuracy: 0.0547 - val_dice_coefficient_monitor: 0.9184\n",
      "Epoch 73/100\n",
      "35/35 [==============================] - ETA: 0s - loss: -0.9279 - accuracy: 0.0489 - dice_coefficient_monitor: 0.9303\n",
      "Epoch 00073: val_loss did not improve from -0.91511\n",
      "35/35 [==============================] - 1s 41ms/step - loss: -0.9279 - accuracy: 0.0489 - dice_coefficient_monitor: 0.9303 - val_loss: -0.9139 - val_accuracy: 0.0533 - val_dice_coefficient_monitor: 0.9176\n",
      "Epoch 74/100\n",
      "35/35 [==============================] - ETA: 0s - loss: -0.9279 - accuracy: 0.0478 - dice_coefficient_monitor: 0.9304\n",
      "Epoch 00074: val_loss did not improve from -0.91511\n",
      "35/35 [==============================] - 1s 41ms/step - loss: -0.9279 - accuracy: 0.0478 - dice_coefficient_monitor: 0.9304 - val_loss: -0.9137 - val_accuracy: 0.0520 - val_dice_coefficient_monitor: 0.9160\n",
      "Epoch 75/100\n",
      "35/35 [==============================] - ETA: 0s - loss: -0.9274 - accuracy: 0.0490 - dice_coefficient_monitor: 0.9302\n",
      "Epoch 00075: val_loss did not improve from -0.91511\n",
      "35/35 [==============================] - 1s 42ms/step - loss: -0.9274 - accuracy: 0.0490 - dice_coefficient_monitor: 0.9302 - val_loss: -0.9137 - val_accuracy: 0.0520 - val_dice_coefficient_monitor: 0.9167\n"
     ]
    }
   ],
   "source": [
    "# train the network\n",
    "if __name__ == \"__main__\":\n",
    "    print(\"[INFO] training network...\")\n",
    "    H = model.fit(x=training_generator,\n",
    "                        steps_per_epoch=num_training_steps,\n",
    "                        epochs=n_epochs,\n",
    "                        validation_data=validation_generator,\n",
    "                        validation_steps=num_validation_steps,\n",
    "                        callbacks=callbacks,\n",
    "                        use_multiprocessing=False, workers=Ncpus)"
   ]
  },
  {
   "cell_type": "code",
   "execution_count": 22,
   "metadata": {},
   "outputs": [
    {
     "data": {
      "image/png": "[encoded data removed]",
      "text/plain": [
       "<Figure size 432x288 with 1 Axes>"
      ]
     },
     "metadata": {},
     "output_type": "display_data"
    },
    {
     "data": {
      "image/png": "[encoded data removed]",
      "text/plain": [
       "<Figure size 432x288 with 1 Axes>"
      ]
     },
     "metadata": {},
     "output_type": "display_data"
    }
   ],
   "source": [
    "# Step 7: Print Output\n",
    "# plot the training + testing loss and accuracy\n",
    "Fepochs = len(H.history['loss'])\n",
    "plt.style.use(\"ggplot\")\n",
    "plt.figure()\n",
    "plt.plot(np.arange(0, Fepochs), H.history[\"loss\"], label=\"train_loss\")\n",
    "plt.plot(np.arange(0, Fepochs), H.history[\"val_loss\"], label=\"val_loss\")\n",
    "plt.title(\"Training Loss\")\n",
    "plt.xlabel(\"Epoch #\")\n",
    "plt.ylabel(\"Loss\")\n",
    "plt.legend()\n",
    "figpath_final = os.path.join(config['output_dir'], config['input_type'] + \"_loss.png\")\n",
    "plt.savefig(figpath_final)\n",
    "if config['show_plots']:\n",
    "    plt.show()\n",
    "\n",
    "plt.figure()\n",
    "plt.plot(np.arange(0, Fepochs), H.history[\"dice_coefficient_monitor\"], label=\"train_DSC\")\n",
    "plt.plot(np.arange(0, Fepochs), H.history[\"val_dice_coefficient_monitor\"], label=\"val_DSC\")\n",
    "plt.title(\"Training DSC\")\n",
    "plt.xlabel(\"Epoch #\")\n",
    "plt.ylabel(\"DSC\")\n",
    "plt.legend()\n",
    "figpath_final = os.path.join(config['output_dir'], config[\"input_type\"] + '_DSC.png')\n",
    "plt.savefig(figpath_final)\n",
    "if config['show_plots']:\n",
    "    plt.show()"
   ]
  },
  {
   "cell_type": "code",
   "execution_count": null,
   "metadata": {},
   "outputs": [],
   "source": []
  }
 ],
 "metadata": {
  "file_extension": ".py",
  "kernelspec": {
   "display_name": "Python 3",
   "language": "python",
   "name": "python3"
  },
  "language_info": {
   "codemirror_mode": {
    "name": "ipython",
    "version": 3
   },
   "file_extension": ".py",
   "mimetype": "text/x-python",
   "name": "python",
   "nbconvert_exporter": "python",
   "pygments_lexer": "ipython3",
   "version": "3.6.9"
  },
  "mimetype": "text/x-python",
  "name": "python",
  "npconvert_exporter": "python",
  "pygments_lexer": "ipython3",
  "version": 3
 },
 "nbformat": 4,
 "nbformat_minor": 2
}
