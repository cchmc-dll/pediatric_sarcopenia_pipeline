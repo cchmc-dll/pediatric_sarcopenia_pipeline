{
 "cells": [
  {
   "cell_type": "markdown",
   "metadata": {},
   "source": [
    "# Notebook to Segment Skeletal Muscle Area from MRI images (TIFs)"
   ]
  },
  {
   "cell_type": "markdown",
   "metadata": {},
   "source": [
    "###### Load libraries and directories"
   ]
  },
  {
   "cell_type": "code",
   "execution_count": 3,
   "metadata": {},
   "outputs": [
    {
     "name": "stdout",
     "output_type": "stream",
     "text": [
      "/tf/smipipeline\n"
     ]
    }
   ],
   "source": [
    "import os\n",
    "os.getcwd()\n",
    "os.chdir('/tf/smipipeline')\n",
    "print(os.getcwd())"
   ]
  },
  {
   "cell_type": "code",
   "execution_count": 4,
   "metadata": {},
   "outputs": [],
   "source": [
    "from IPython.display import display, HTML"
   ]
  },
  {
   "cell_type": "code",
   "execution_count": 5,
   "metadata": {},
   "outputs": [
    {
     "name": "stderr",
     "output_type": "stream",
     "text": [
      "Using TensorFlow backend.\n"
     ]
    }
   ],
   "source": [
    "# from IPython import get_ipython\n",
    "from tqdm.notebook import tqdm\n",
    "import pickle\n",
    "import pprint\n",
    "pp = pprint.PrettyPrinter(indent=1)\n",
    "\n",
    "# Custom modules for debugging\n",
    "from SliceViewer import ImageSliceViewer3D, ImageSliceViewer3D_1view,ImageSliceViewer3D_2views\n",
    "from investigate import *\n",
    "\n",
    "#pd.set_option(\"display.max_rows\", 10)\n",
    "      \n",
    "import json\n",
    "from run_sma_experiment import find_l3_images,output_images\n",
    "import pprint\n",
    "from L3_finder import *\n",
    "\n",
    "# Custom functions\n",
    "import pickle\n",
    "def save_object(obj, filename):\n",
    "    with open(filename, 'wb') as output:  # Overwrites any existing file.\n",
    "        pickle.dump(obj, output, pickle.HIGHEST_PROTOCOL)\n",
    "\n",
    "def load_object(filename):        \n",
    "    with open(filename, 'rb') as input:\n",
    "        return pickle.load(input)"
   ]
  },
  {
   "cell_type": "code",
   "execution_count": 6,
   "metadata": {},
   "outputs": [
    {
     "ename": "ModuleNotFoundError",
     "evalue": "No module named 'SliceViewer'",
     "output_type": "error",
     "traceback": [
      "\u001b[0;31m---------------------------------------------------------------------------\u001b[0m",
      "\u001b[0;31mModuleNotFoundError\u001b[0m                       Traceback (most recent call last)",
      "\u001b[0;32m<ipython-input-2-cd69c1b5720e>\u001b[0m in \u001b[0;36m<module>\u001b[0;34m\u001b[0m\n\u001b[1;32m      7\u001b[0m \u001b[0;34m\u001b[0m\u001b[0m\n\u001b[1;32m      8\u001b[0m \u001b[0;31m# Custom modules for debugging\u001b[0m\u001b[0;34m\u001b[0m\u001b[0;34m\u001b[0m\u001b[0;34m\u001b[0m\u001b[0m\n\u001b[0;32m----> 9\u001b[0;31m \u001b[0;32mfrom\u001b[0m \u001b[0mSliceViewer\u001b[0m \u001b[0;32mimport\u001b[0m \u001b[0mImageSliceViewer3D\u001b[0m\u001b[0;34m,\u001b[0m \u001b[0mImageSliceViewer3D_1view\u001b[0m\u001b[0;34m,\u001b[0m\u001b[0mImageSliceViewer3D_2views\u001b[0m\u001b[0;34m\u001b[0m\u001b[0;34m\u001b[0m\u001b[0m\n\u001b[0m\u001b[1;32m     10\u001b[0m \u001b[0;32mfrom\u001b[0m \u001b[0minvestigate\u001b[0m \u001b[0;32mimport\u001b[0m \u001b[0;34m*\u001b[0m\u001b[0;34m\u001b[0m\u001b[0;34m\u001b[0m\u001b[0m\n\u001b[1;32m     11\u001b[0m \u001b[0;34m\u001b[0m\u001b[0m\n",
      "\u001b[0;31mModuleNotFoundError\u001b[0m: No module named 'SliceViewer'"
     ]
    }
   ],
   "source": [
    "get_ipython().run_line_magic('tb', '')"
   ]
  },
  {
   "cell_type": "code",
   "execution_count": 7,
   "metadata": {},
   "outputs": [
    {
     "name": "stdout",
     "output_type": "stream",
     "text": [
      "/tf/smipipeline\n"
     ]
    }
   ],
   "source": [
    "cwd = os.getcwd()\n",
    "print(cwd)\n",
    "data = '/tf/data'\n",
    "pickles = '/tf/pickles'\n",
    "models = '/tf/models'"
   ]
  },
  {
   "cell_type": "code",
   "execution_count": 10,
   "metadata": {
    "scrolled": true
   },
   "outputs": [
    {
     "name": "stdout",
     "output_type": "stream",
     "text": [
      "{'l3_finder': {'cache_dir': '/tf/_cache/',\n",
      "               'cache_intermediate_results': True,\n",
      "               'model_path_dir': '/tf/models/l3/cv_final',\n",
      "               'new_tim_dicom_dir_structure': True,\n",
      "               'output_directory': '/tf/output/cv_poorl3/l3',\n",
      "               'overwrite': True,\n",
      "               'save_plots': True,\n",
      "               'show_plots': False,\n",
      "               'tif_dir': '/tf/data/sarcopeniaMR_L3_TIF'},\n",
      " 'muscle_segmentor': {'model_path_dir': '/tf/models/muscle/cv_final',\n",
      "                      'output_directory': '/tf/output/mri_ms_tif_inverted'}}\n"
     ]
    }
   ],
   "source": [
    "# Import modules and config file\n",
    "configfile = os.path.join(cwd,'config/mri/run_prediction_CV_mri_tif_inverted.json')\n",
    "with open(configfile, \"r\") as f:\n",
    "        config = json.load(f)\n",
    "pp.pprint(config)"
   ]
  },
  {
   "cell_type": "code",
   "execution_count": 11,
   "metadata": {},
   "outputs": [],
   "source": [
    "import csv\n",
    "import sys\n",
    "from collections import defaultdict\n",
    "from pathlib import Path\n",
    "\n",
    "from L3_finder import L3Image\n",
    "from l3finder import ingest\n",
    "\n",
    "from compare_best_to_manual_l3_and_seg import MinimalPrediction, MinimalResult\n",
    "\n",
    "import SimpleITK as sitk\n",
    "import multiprocessing\n",
    "import run_sma_experiment\n",
    "from myshow import myshow"
   ]
  },
  {
   "cell_type": "markdown",
   "metadata": {},
   "source": [
    "### Segment L3 Axial Images and Calculate Muscle Area"
   ]
  },
  {
   "cell_type": "code",
   "execution_count": 14,
   "metadata": {},
   "outputs": [
    {
     "data": {
      "text/html": [
       "<div>\n",
       "<style scoped>\n",
       "    .dataframe tbody tr th:only-of-type {\n",
       "        vertical-align: middle;\n",
       "    }\n",
       "\n",
       "    .dataframe tbody tr th {\n",
       "        vertical-align: top;\n",
       "    }\n",
       "\n",
       "    .dataframe thead th {\n",
       "        text-align: right;\n",
       "    }\n",
       "</style>\n",
       "<table border=\"1\" class=\"dataframe\">\n",
       "  <thead>\n",
       "    <tr style=\"text-align: right;\">\n",
       "      <th></th>\n",
       "      <th>pats</th>\n",
       "      <th>slice_no</th>\n",
       "      <th>orig_size</th>\n",
       "      <th>orig_spacing</th>\n",
       "      <th>orig_pixelarea</th>\n",
       "      <th>new_size</th>\n",
       "      <th>new_spacing</th>\n",
       "      <th>new_pixelarea</th>\n",
       "    </tr>\n",
       "  </thead>\n",
       "  <tbody>\n",
       "    <tr>\n",
       "      <th>0</th>\n",
       "      <td>exam 9b</td>\n",
       "      <td>36</td>\n",
       "      <td>512</td>\n",
       "      <td>0.7813</td>\n",
       "      <td>0.610430</td>\n",
       "      <td>256</td>\n",
       "      <td>1.5626</td>\n",
       "      <td>2.441719</td>\n",
       "    </tr>\n",
       "    <tr>\n",
       "      <th>1</th>\n",
       "      <td>exam 99</td>\n",
       "      <td>10</td>\n",
       "      <td>512</td>\n",
       "      <td>0.6641</td>\n",
       "      <td>0.441029</td>\n",
       "      <td>256</td>\n",
       "      <td>1.3282</td>\n",
       "      <td>1.764115</td>\n",
       "    </tr>\n",
       "  </tbody>\n",
       "</table>\n",
       "</div>"
      ],
      "text/plain": [
       "      pats  slice_no  orig_size  orig_spacing  orig_pixelarea  new_size  \\\n",
       "0  exam 9b        36        512        0.7813        0.610430       256   \n",
       "1  exam 99        10        512        0.6641        0.441029       256   \n",
       "\n",
       "   new_spacing  new_pixelarea  \n",
       "0       1.5626       2.441719  \n",
       "1       1.3282       1.764115  "
      ]
     },
     "metadata": {},
     "output_type": "display_data"
    }
   ],
   "source": [
    "# Load Image statistics dataframe for TIFs to calculate area\n",
    "csvdir = '/tf/data'\n",
    "csvname = [f for f in os.listdir(csvdir) if '.csv' in f][0]\n",
    "infile  = os.path.join(csvdir,csvname)\n",
    "df_imstats = pd.read_csv(infile, index_col=False)\n",
    "display(df_imstats.head(2))"
   ]
  },
  {
   "cell_type": "code",
   "execution_count": 15,
   "metadata": {},
   "outputs": [],
   "source": [
    "from compare_best_to_manual_l3_and_seg import seg_model_configs"
   ]
  },
  {
   "cell_type": "code",
   "execution_count": 16,
   "metadata": {},
   "outputs": [],
   "source": [
    "def normalize_image(image):\n",
    "    image = sitk.GetArrayFromImage(image)\n",
    "    mean = image.mean()\n",
    "    std = image.std()\n",
    "    #print(\"orig im mean: \", mean,\"orig im std: \", std)\n",
    "    norm_im = (image - mean) / std\n",
    "    #print(\"norm im mean: \", norm_im.mean(),\"norm im std: \", norm_im.std())\n",
    "    return sitk.GetImageFromArray(norm_im)\n",
    "\n",
    "def normalize_images(images):\n",
    "    mean = images.mean()\n",
    "    std = images.std()\n",
    "    return (images - mean) / std\n",
    "\n",
    "# v1: def invertimage_excluding_background(MR_nda,l_thresh=-0.5,h_thresh=1.7,seed=[128, 128]):\n",
    "#v2 def invertimage_excluding_background(MR_nda,l_thresh_p=5,h_thresh_p=32,seed=[128, 128]): \n",
    "def invertimage_excluding_background(MR_nda,l_thresh_p=5,h_thresh_p=85,seed=[128, 128]): #v3\n",
    "    MR = normalize_image(MR_nda)\n",
    "    \n",
    "    #** Only for V2 and above\n",
    "    MR_range = max(MR) - min(MR)\n",
    "#     print('MR min', min(MR))\n",
    "#     print('MR max', max(MR))\n",
    "\n",
    "    l_thresh = MR_range*l_thresh_p/100 + min(MR)\n",
    "    h_thresh = MR_range*h_thresh_p/100 + min(MR)\n",
    "#     print(\"new l_thresh: \", l_thresh)\n",
    "#     print(\"new h_thresh: \", h_thresh)\n",
    "    #**\n",
    "    \n",
    "    #\n",
    "    # Blur using CurvatureFlowImageFilter\n",
    "    #\n",
    "    blurFilter = sitk.CurvatureFlowImageFilter()\n",
    "    blurFilter.SetNumberOfIterations(5)\n",
    "    blurFilter.SetTimeStep(0.125)\n",
    "    image = blurFilter.Execute(MR)\n",
    "\n",
    "    #\n",
    "    # Set up ConneMRedThresholdImageFilter for segmentation\n",
    "    #\n",
    "    segmentationFilter = sitk.ConnectedThresholdImageFilter()\n",
    "    segmentationFilter.SetLower(float(l_thresh))\n",
    "    segmentationFilter.SetUpper(float(h_thresh))\n",
    "    segmentationFilter.SetReplaceValue(1)\n",
    "    segmentationFilter.AddSeed(seed)\n",
    "    segmentationFilter.AddSeed([64,128]) # Adding additional seeds for safety\n",
    "    segmentationFilter.AddSeed([128,64])\n",
    "    # Run the segmentation filter\n",
    "    image = segmentationFilter.Execute(image)\n",
    "    image[seed] = 1\n",
    "    \n",
    "\n",
    "    # Fill holes\n",
    "    image = sitk.BinaryFillhole(image);\n",
    "\n",
    "    # Intensity Invert FIlter\n",
    "    invertfilter = sitk.InvertIntensityImageFilter()\n",
    "    MR_invert = normalize_image(invertfilter.Execute(MR))\n",
    "#     print(\"MR_invert min: \", min(MR_invert))\n",
    "#     print(\"MR_invert max: \", max(MR_invert))\n",
    "    \n",
    "    # Masking FIlter\n",
    "    maskingFilter = sitk.MaskImageFilter()\n",
    "    background_value = min(MR_invert)-0.5\n",
    "    maskingFilter.SetOutsideValue(background_value)\n",
    "#     print(\"Name: \", maskingFilter.GetName())\n",
    "#     print(\"Masking Value: \", maskingFilter.GetMaskingValue())\n",
    "#     print(\"Outside Value: \", maskingFilter.GetOutsideValue())\n",
    "    MR_noTable = maskingFilter.Execute(MR_invert,image)\n",
    "#     print(\"MR_noTable min: \", min(MR_noTable))\n",
    "    return MR_noTable, image"
   ]
  },
  {
   "cell_type": "code",
   "execution_count": 17,
   "metadata": {},
   "outputs": [],
   "source": [
    "def _load_l3_tif(imagepath):\n",
    "    return sitk.GetArrayFromImage(sitk.ReadImage(imagepath))\n",
    "\n",
    "def _load_l3_tif_invert(imagepath):\n",
    "    img = sitk.ReadImage(imagepath)\n",
    "    desired_img, mask = invertimage_excluding_background(img)\n",
    "    return sitk.GetArrayFromImage(desired_img) #, mask, img"
   ]
  },
  {
   "cell_type": "code",
   "execution_count": 18,
   "metadata": {},
   "outputs": [],
   "source": [
    "# DEBUG ONLY\n",
    "debugpath = \"/tf/data/sarcopeniaMR_L3_TIF/exam 97b/MR.tif\"\n",
    "# debugpath = \"/tf/data/sarcopeniaMR_L3_TIF/exam 116/MR.tif\"\n",
    "#debugpath = \"/tf/data/sarcopeniaMR_L3_TIF/exam 83/MR.tif\"\n",
    "#debugpath = \"/tf/data/sarcopeniaMR_L3_TIF/exam 9b/MR.tif\"\n",
    "#debugpath = \"/tf/data/sarcopeniaMR_L3_TIF/exam 202/MR.tif\"\n",
    "#debugpath = \"/tf/data/sarcopeniaMR_L3_TIF/exam 145/MR.tif\"\n",
    "# image, mask, orig = _load_l3_tif_invert(debugpath)\n",
    "# myshow(sitk.GetImageFromArray(image))\n",
    "# myshow(mask)\n",
    "# myshow(orig)"
   ]
  },
  {
   "cell_type": "code",
   "execution_count": 21,
   "metadata": {},
   "outputs": [],
   "source": [
    "from skimage import io"
   ]
  },
  {
   "cell_type": "code",
   "execution_count": 22,
   "metadata": {},
   "outputs": [],
   "source": [
    "sitkimg = _load_l3_tif(debugpath)"
   ]
  },
  {
   "cell_type": "code",
   "execution_count": 26,
   "metadata": {},
   "outputs": [],
   "source": [
    "pilimg = io.imread(debugpath,plugin='pil')"
   ]
  },
  {
   "cell_type": "code",
   "execution_count": 32,
   "metadata": {},
   "outputs": [
    {
     "data": {
      "text/plain": [
       "numpy.ndarray"
      ]
     },
     "execution_count": 32,
     "metadata": {},
     "output_type": "execute_result"
    }
   ],
   "source": [
    "type(sitkimg)"
   ]
  },
  {
   "cell_type": "code",
   "execution_count": 332,
   "metadata": {},
   "outputs": [],
   "source": [
    "def load_l3_tifs(input_dir, tifname='MR.tif', invert = False):\n",
    "    print('Loading tifs for all patients in directory: ', input_dir)\n",
    "    infiles = []\n",
    "    patnames = []\n",
    "    for root, directories, files in os.walk(input_dir):\n",
    "        for folder in directories:\n",
    "            # join the two strings in order to form the full filepath.\n",
    "            filepath = os.path.join(root,folder,tifname)\n",
    "            if  os.path.isfile(filepath):\n",
    "                infiles.append(filepath)\n",
    "                patnames.append(folder)\n",
    "            else:\n",
    "                print('input file not found in ', folder)\n",
    "            \n",
    "    print('Number of patient images found: ', len(infiles))\n",
    "    print('Loading images in parallel into numpy arrays')\n",
    "    \n",
    "    with multiprocessing.Pool(multiprocessing.cpu_count()) as pool:\n",
    "        if invert:\n",
    "            ndas = list(tqdm(pool.imap(_load_l3_tif_invert, infiles)))\n",
    "        else:\n",
    "            ndas = list(tqdm(pool.imap(_load_l3_tif, infiles)))\n",
    "        pool.close()\n",
    "        pool.join()\n",
    "        print('Parallel loading complete,list of arrays of length ', len(ndas), ' is returned')\n",
    "        return ndas, patnames\n",
    "    \n",
    "def calculate_maskarea(pixelarea,mask):\n",
    "    muscle_pixels = np.count_nonzero(mask == 1)\n",
    "    return muscle_pixels*pixelarea\n",
    "\n",
    "def get_manual_maskarea(input_dir, df_imstats, tifname='MASK.tif'):\n",
    "    manual_smas = []\n",
    "    infiles = []\n",
    "    patnames = []\n",
    "    for root, directories, files in os.walk(input_dir):\n",
    "        for folder in directories:\n",
    "            # join the two strings in order to form the full filepath.\n",
    "            filepath = os.path.join(root,folder,tifname)\n",
    "            if  os.path.isfile(filepath):\n",
    "                infiles.append(filepath)\n",
    "                patnames.append(folder)\n",
    "            else:\n",
    "                print('input file not found in ', folder)\n",
    "            \n",
    "    print('Number of patient mask images found: ', len(infiles))\n",
    "    print('Loading masks in parallel into numpy arrays')\n",
    "    with multiprocessing.Pool(multiprocessing.cpu_count()) as pool:\n",
    "        masks = list(tqdm(pool.imap(_load_l3_tif, infiles)))\n",
    "        pool.close()\n",
    "        pool.join()\n",
    "        print('Parallel loading complete,list of arrays of length ', len(masks), ' is returned')\n",
    "    \n",
    "    for mask,patname in zip(masks,patnames):\n",
    "        muscle_pixels = np.count_nonzero(mask == 1)\n",
    "        pixelarea = df_imstats.loc[df_imstats['pats']==patname,'new_pixelarea'].values[0]\n",
    "        manual_smas.append(muscle_pixels*pixelarea)\n",
    "    \n",
    "    return manual_smas,masks"
   ]
  },
  {
   "cell_type": "code",
   "execution_count": 333,
   "metadata": {},
   "outputs": [],
   "source": [
    "def do_segmentation_cv_mri_tifs(seg_model_config,l3_ndas, patnames, df_imstats):\n",
    "    l3_ndas = np.array(l3_ndas)\n",
    "    print(\"- Normalizing images\")\n",
    "    normalized_images = run_sma_experiment.normalize_images(l3_ndas)\n",
    "    print(\"- Resizing images\")\n",
    "    resized_images = run_sma_experiment.resize_images(normalized_images)\n",
    "    xs = run_sma_experiment.reshape_for_model(resized_images)\n",
    "    reshaped_masks_list = []\n",
    "    print(' Segmenting using all model configs')\n",
    "    for config in seg_model_config:\n",
    "        print(\"segmenting for model\", config)\n",
    "        model = run_sma_experiment.configure_and_load_model(config[\"model_path\"])\n",
    "        ys = model.predict(xs)\n",
    "        masks = run_sma_experiment.convert_to_images(ys)        \n",
    "        reshaped_masks = run_sma_experiment.reshape_masks(masks)\n",
    "        reshaped_masks_list.append(reshaped_masks)\n",
    "    average_masks = []\n",
    "    print(\"Finding Average Masks\")\n",
    "    for one_subjects_masks in zip(*reshaped_masks_list):\n",
    "        sitk_images = [sitk.Cast(sitk.GetImageFromArray(mask), sitk.sitkUInt8)\n",
    "                       for mask in one_subjects_masks]\n",
    "        result = sitk.LabelVoting(sitk_images, 1)\n",
    "        arr = sitk.GetArrayFromImage(result)\n",
    "        average_masks.append(arr)\n",
    "    print(\"Finding sma\")\n",
    "    smas = []\n",
    "    for patname, mask in zip(patnames,average_masks):\n",
    "        smas.append(calculate_maskarea(df_imstats.loc[df_imstats['pats']==patname,'new_pixelarea'].values[0], mask))\n",
    "    return smas,average_masks"
   ]
  },
  {
   "cell_type": "code",
   "execution_count": 334,
   "metadata": {
    "scrolled": true
   },
   "outputs": [
    {
     "name": "stdout",
     "output_type": "stream",
     "text": [
      "Loading tifs for all patients in directory:  /tf/data/sarcopeniaMR_L3_TIF\n",
      "Number of patient images found:  201\n",
      "Loading images in parallel into numpy arrays\n"
     ]
    },
    {
     "data": {
      "application/vnd.jupyter.widget-view+json": {
       "model_id": "a0fcb96ead8a4b909a55894aaa083e44",
       "version_major": 2,
       "version_minor": 0
      },
      "text/plain": [
       "HBox(children=(HTML(value=''), FloatProgress(value=1.0, bar_style='info', layout=Layout(width='20px'), max=1.0…"
      ]
     },
     "metadata": {},
     "output_type": "display_data"
    },
    {
     "name": "stdout",
     "output_type": "stream",
     "text": [
      "\n",
      "Parallel loading complete,list of arrays of length  201  is returned\n",
      "- Normalizing images\n",
      "- Resizing images\n",
      " Segmenting using all model configs\n",
      "segmenting for model {'model_path': '/tf/models/muscle/cv_final/combined_2020-02-18_dice_fold_0.h5'}\n",
      "segmenting for model {'model_path': '/tf/models/muscle/cv_final/combined_2020-02-18_dice_fold_1.h5'}\n",
      "segmenting for model {'model_path': '/tf/models/muscle/cv_final/combined_2020-02-18_dice_fold_2.h5'}\n",
      "segmenting for model {'model_path': '/tf/models/muscle/cv_final/combined_2020-02-18_dice_fold_3.h5'}\n",
      "segmenting for model {'model_path': '/tf/models/muscle/cv_final/combined_2020-02-18_dice_fold_4.h5'}\n",
      "Finding Average Masks\n",
      "Finding sma\n",
      "Number of patient mask images found:  201\n",
      "Loading masks in parallel into numpy arrays\n"
     ]
    },
    {
     "data": {
      "application/vnd.jupyter.widget-view+json": {
       "model_id": "0ff36961053b482ca2c949508b508ba4",
       "version_major": 2,
       "version_minor": 0
      },
      "text/plain": [
       "HBox(children=(HTML(value=''), FloatProgress(value=1.0, bar_style='info', layout=Layout(width='20px'), max=1.0…"
      ]
     },
     "metadata": {},
     "output_type": "display_data"
    },
    {
     "name": "stdout",
     "output_type": "stream",
     "text": [
      "\n",
      "Parallel loading complete,list of arrays of length  201  is returned\n",
      "Length of smas normals:  201\n",
      "Length of average_masks normals:  201\n",
      "Done\n"
     ]
    }
   ],
   "source": [
    "if __name__ == \"__main__\":\n",
    "    l3_ndas, patnames = load_l3_tifs(config[\"l3_finder\"][\"tif_dir\"], invert=True)\n",
    "    configs = seg_model_configs(config[\"muscle_segmentor\"]['model_path_dir'])\n",
    "    smas, average_masks = do_segmentation_cv_mri_tifs(configs, l3_ndas, patnames, df_imstats)\n",
    "    manual_smas, manual_masks = get_manual_maskarea(config[\"l3_finder\"][\"tif_dir\"], df_imstats)\n",
    "    print('Length of smas normals: ',len(smas))\n",
    "    print('Length of average_masks normals: ',len(average_masks))\n",
    "    print(\"Done\")"
   ]
  },
  {
   "cell_type": "code",
   "execution_count": 335,
   "metadata": {},
   "outputs": [],
   "source": [
    "from imageio import imsave\n",
    "import csv\n",
    "\n",
    "def output_sma_results_tifs(output_dir, mrs, average_masks, smas, manual_masks, manual_smas, patnames):\n",
    "    os.makedirs(output_dir, exist_ok=True)\n",
    "    csv_filename = os.path.join(output_dir, \"areas_by_subject_id.csv\")\n",
    "    with open(csv_filename, \"w\") as csvfile:\n",
    "        csv_writer = csv.writer(csvfile)\n",
    "        csv_writer.writerow([\"subject_id\", \"area\", \"manual_area\", \"relative_diff\"])\n",
    "        print('Saving Segmentation Results in ', output_dir)\n",
    "        index = 0    \n",
    "        for mask, mr, sma, manual_mask, manual_sma,pat in zip(average_masks, mrs, smas, manual_masks, manual_smas, patnames):\n",
    "            index += 1\n",
    "            base = os.path.join(output_dir, str(index) + \"_\" + pat)\n",
    "            imsave(base + \"_MR.tif\", mr.astype(np.float32))\n",
    "            imsave(base + \"_muscle.tif\", mask * np.iinfo(np.uint8).max)\n",
    "            imsave(base + \"_truth.tif\", manual_mask * np.iinfo(np.uint8).max)\n",
    "            rel_diff = abs(manual_sma - sma)/manual_sma\n",
    "            row = [\n",
    "                pat,\n",
    "                sma,\n",
    "                manual_sma,\n",
    "                rel_diff,\n",
    "            ]\n",
    "            csv_writer.writerow(row)\n",
    "        print('Total exams outputted: ', index)"
   ]
  },
  {
   "cell_type": "code",
   "execution_count": 336,
   "metadata": {
    "scrolled": true
   },
   "outputs": [
    {
     "name": "stdout",
     "output_type": "stream",
     "text": [
      "Saving Segmentation Results in  /tf/output/mri_ms_tif_inverted\n",
      "Total exams outputted:  201\n"
     ]
    }
   ],
   "source": [
    "output_sma_results_tifs(config[\"muscle_segmentor\"]['output_directory'], l3_ndas, average_masks, smas, manual_masks, manual_smas, patnames)"
   ]
  },
  {
   "cell_type": "code",
   "execution_count": null,
   "metadata": {},
   "outputs": [],
   "source": []
  }
 ],
 "metadata": {
  "file_extension": ".py",
  "kernelspec": {
   "display_name": "Python 3",
   "language": "python",
   "name": "python3"
  },
  "language_info": {
   "codemirror_mode": {
    "name": "ipython",
    "version": 3
   },
   "file_extension": ".py",
   "mimetype": "text/x-python",
   "name": "python",
   "nbconvert_exporter": "python",
   "pygments_lexer": "ipython3",
   "version": "3.6.9"
  },
  "mimetype": "text/x-python",
  "name": "python",
  "npconvert_exporter": "python",
  "pygments_lexer": "ipython3",
  "version": 3
 },
 "nbformat": 4,
 "nbformat_minor": 2
}
