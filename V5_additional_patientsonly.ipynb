{
 "cells": [
  {
   "cell_type": "markdown",
   "metadata": {},
   "source": [
    "# Load libraries and directories"
   ]
  },
  {
   "cell_type": "code",
   "execution_count": 10,
   "metadata": {},
   "outputs": [],
   "source": [
    "from IPython.display import display, HTML"
   ]
  },
  {
   "cell_type": "code",
   "execution_count": 11,
   "metadata": {},
   "outputs": [],
   "source": [
    "# from IPython import get_ipython\n",
    "from tqdm.notebook import tqdm\n",
    "import pickle\n",
    "import os\n",
    "import pprint\n",
    "import pandas as pd"
   ]
  },
  {
   "cell_type": "code",
   "execution_count": 12,
   "metadata": {},
   "outputs": [
    {
     "name": "stderr",
     "output_type": "stream",
     "text": [
      "No traceback available to show.\n"
     ]
    }
   ],
   "source": [
    "get_ipython().run_line_magic('tb', '')"
   ]
  },
  {
   "cell_type": "code",
   "execution_count": 13,
   "metadata": {},
   "outputs": [],
   "source": [
    "cwd = os.getcwd()\n",
    "data = '/tf/data'\n",
    "output = '/tf/pickles'"
   ]
  },
  {
   "cell_type": "markdown",
   "metadata": {},
   "source": [
    "## Section 1 - Load list of normal patients filtered from Epic data and select those patients from the DICOM dump of all patients"
   ]
  },
  {
   "cell_type": "code",
   "execution_count": 14,
   "metadata": {},
   "outputs": [
    {
     "name": "stdout",
     "output_type": "stream",
     "text": [
      "Columns of df_P:  ['GIVEN_MRN', 'PAT_ID', 'ACC']\n",
      "Length of df_P:  2399\n"
     ]
    },
    {
     "data": {
      "text/html": [
       "<div>\n",
       "<style scoped>\n",
       "    .dataframe tbody tr th:only-of-type {\n",
       "        vertical-align: middle;\n",
       "    }\n",
       "\n",
       "    .dataframe tbody tr th {\n",
       "        vertical-align: top;\n",
       "    }\n",
       "\n",
       "    .dataframe thead th {\n",
       "        text-align: right;\n",
       "    }\n",
       "</style>\n",
       "<table border=\"1\" class=\"dataframe\">\n",
       "  <thead>\n",
       "    <tr style=\"text-align: right;\">\n",
       "      <th></th>\n",
       "      <th>GIVEN_MRN</th>\n",
       "      <th>PAT_ID</th>\n",
       "      <th>ACC</th>\n",
       "    </tr>\n",
       "  </thead>\n",
       "  <tbody>\n",
       "    <tr>\n",
       "      <th>0</th>\n",
       "      <td>1343508</td>\n",
       "      <td>Z704566</td>\n",
       "      <td>8018969</td>\n",
       "    </tr>\n",
       "    <tr>\n",
       "      <th>1</th>\n",
       "      <td>11699446</td>\n",
       "      <td>Z1931299</td>\n",
       "      <td>8842054</td>\n",
       "    </tr>\n",
       "    <tr>\n",
       "      <th>2</th>\n",
       "      <td>1299521</td>\n",
       "      <td>Z664930</td>\n",
       "      <td>8024856</td>\n",
       "    </tr>\n",
       "    <tr>\n",
       "      <th>3</th>\n",
       "      <td>11437502</td>\n",
       "      <td>Z1465933</td>\n",
       "      <td>8000527</td>\n",
       "    </tr>\n",
       "    <tr>\n",
       "      <th>4</th>\n",
       "      <td>11063680</td>\n",
       "      <td>Z1091411</td>\n",
       "      <td>8006713</td>\n",
       "    </tr>\n",
       "    <tr>\n",
       "      <th>5</th>\n",
       "      <td>1212646</td>\n",
       "      <td>Z585709</td>\n",
       "      <td>8051250</td>\n",
       "    </tr>\n",
       "    <tr>\n",
       "      <th>6</th>\n",
       "      <td>11133354</td>\n",
       "      <td>Z1161168</td>\n",
       "      <td>8833553</td>\n",
       "    </tr>\n",
       "    <tr>\n",
       "      <th>7</th>\n",
       "      <td>11109370</td>\n",
       "      <td>Z1137138</td>\n",
       "      <td>8831692</td>\n",
       "    </tr>\n",
       "    <tr>\n",
       "      <th>8</th>\n",
       "      <td>11301610</td>\n",
       "      <td>Z1329744</td>\n",
       "      <td>8057737</td>\n",
       "    </tr>\n",
       "    <tr>\n",
       "      <th>9</th>\n",
       "      <td>11451698</td>\n",
       "      <td>Z1683576</td>\n",
       "      <td>8046105</td>\n",
       "    </tr>\n",
       "  </tbody>\n",
       "</table>\n",
       "</div>"
      ],
      "text/plain": [
       "   GIVEN_MRN    PAT_ID      ACC\n",
       "0    1343508   Z704566  8018969\n",
       "1   11699446  Z1931299  8842054\n",
       "2    1299521   Z664930  8024856\n",
       "3   11437502  Z1465933  8000527\n",
       "4   11063680  Z1091411  8006713\n",
       "5    1212646   Z585709  8051250\n",
       "6   11133354  Z1161168  8833553\n",
       "7   11109370  Z1137138  8831692\n",
       "8   11301610  Z1329744  8057737\n",
       "9   11451698  Z1683576  8046105"
      ]
     },
     "metadata": {},
     "output_type": "display_data"
    }
   ],
   "source": [
    "# Load normal patient list\n",
    "infile  = 'patlist_with_validBMI.csv'\n",
    "df_P = pd.read_csv(infile, index_col=False)\n",
    "df_P = df_P.loc[:, ~df_P.columns.str.contains('^Unnamed')]\n",
    "df_P = df_P[['GIVEN_MRN','PAT_ID','ACC']]\n",
    "print('Columns of df_P: ', list(df_P))\n",
    "print('Length of df_P: ', len(df_P))\n",
    "display(df_P.head(10))\n",
    "#print('# of Unique patients: ', len(df_P.subject_id.unique()))"
   ]
  },
  {
   "cell_type": "code",
   "execution_count": 15,
   "metadata": {},
   "outputs": [
    {
     "name": "stdout",
     "output_type": "stream",
     "text": [
      "Columns of df_P:  ['GIVEN_MRN', 'PAT_ID', 'ACC']\n",
      "Length of df_P:  2238\n"
     ]
    },
    {
     "data": {
      "text/html": [
       "<div>\n",
       "<style scoped>\n",
       "    .dataframe tbody tr th:only-of-type {\n",
       "        vertical-align: middle;\n",
       "    }\n",
       "\n",
       "    .dataframe tbody tr th {\n",
       "        vertical-align: top;\n",
       "    }\n",
       "\n",
       "    .dataframe thead th {\n",
       "        text-align: right;\n",
       "    }\n",
       "</style>\n",
       "<table border=\"1\" class=\"dataframe\">\n",
       "  <thead>\n",
       "    <tr style=\"text-align: right;\">\n",
       "      <th></th>\n",
       "      <th>GIVEN_MRN</th>\n",
       "      <th>PAT_ID</th>\n",
       "      <th>ACC</th>\n",
       "    </tr>\n",
       "  </thead>\n",
       "  <tbody>\n",
       "    <tr>\n",
       "      <th>0</th>\n",
       "      <td>807126</td>\n",
       "      <td>Z857672</td>\n",
       "      <td>7443683</td>\n",
       "    </tr>\n",
       "    <tr>\n",
       "      <th>1</th>\n",
       "      <td>11176208</td>\n",
       "      <td>Z1204112</td>\n",
       "      <td>7442667</td>\n",
       "    </tr>\n",
       "    <tr>\n",
       "      <th>2</th>\n",
       "      <td>834056</td>\n",
       "      <td>Z870530</td>\n",
       "      <td>7219002</td>\n",
       "    </tr>\n",
       "    <tr>\n",
       "      <th>3</th>\n",
       "      <td>1412716</td>\n",
       "      <td>Z1009393</td>\n",
       "      <td>7437949</td>\n",
       "    </tr>\n",
       "    <tr>\n",
       "      <th>4</th>\n",
       "      <td>1051399</td>\n",
       "      <td>Z441477</td>\n",
       "      <td>7449601</td>\n",
       "    </tr>\n",
       "    <tr>\n",
       "      <th>5</th>\n",
       "      <td>11277072</td>\n",
       "      <td>Z1305152</td>\n",
       "      <td>7476367</td>\n",
       "    </tr>\n",
       "    <tr>\n",
       "      <th>6</th>\n",
       "      <td>11021437</td>\n",
       "      <td>Z1049116</td>\n",
       "      <td>7476123</td>\n",
       "    </tr>\n",
       "    <tr>\n",
       "      <th>7</th>\n",
       "      <td>855379</td>\n",
       "      <td>Z881264</td>\n",
       "      <td>7207613</td>\n",
       "    </tr>\n",
       "    <tr>\n",
       "      <th>8</th>\n",
       "      <td>1004812</td>\n",
       "      <td>Z413629</td>\n",
       "      <td>7206650</td>\n",
       "    </tr>\n",
       "    <tr>\n",
       "      <th>9</th>\n",
       "      <td>742506</td>\n",
       "      <td>Z828131</td>\n",
       "      <td>7206442</td>\n",
       "    </tr>\n",
       "  </tbody>\n",
       "</table>\n",
       "</div>"
      ],
      "text/plain": [
       "   GIVEN_MRN    PAT_ID      ACC\n",
       "0     807126   Z857672  7443683\n",
       "1   11176208  Z1204112  7442667\n",
       "2     834056   Z870530  7219002\n",
       "3    1412716  Z1009393  7437949\n",
       "4    1051399   Z441477  7449601\n",
       "5   11277072  Z1305152  7476367\n",
       "6   11021437  Z1049116  7476123\n",
       "7     855379   Z881264  7207613\n",
       "8    1004812   Z413629  7206650\n",
       "9     742506   Z828131  7206442"
      ]
     },
     "metadata": {},
     "output_type": "display_data"
    }
   ],
   "source": [
    "# Load normal patient list\n",
    "infile  = 'patlist_with_validBMI_corrected_v5.csv'\n",
    "df_P_v5 = pd.read_csv(infile, index_col=False)\n",
    "df_P_v5 = df_P_v5.loc[:, ~df_P_v5.columns.str.contains('^Unnamed')]\n",
    "df_P_v5 = df_P_v5[['GIVEN_MRN','PAT_ID','ACC']]\n",
    "print('Columns of df_P: ', list(df_P_v5))\n",
    "print('Length of df_P: ', len(df_P_v5))\n",
    "display(df_P_v5.head(10))"
   ]
  },
  {
   "cell_type": "code",
   "execution_count": 16,
   "metadata": {},
   "outputs": [
    {
     "name": "stdout",
     "output_type": "stream",
     "text": [
      "Length of df_additional:  9\n"
     ]
    }
   ],
   "source": [
    "# Additional patients that need to be processed for V5\n",
    "df_additional = df_P_v5[~df_P_v5['PAT_ID'].isin(df_P['PAT_ID'].values)]\n",
    "print('Length of df_additional: ', len(df_additional))"
   ]
  },
  {
   "cell_type": "code",
   "execution_count": 17,
   "metadata": {},
   "outputs": [
    {
     "name": "stdout",
     "output_type": "stream",
     "text": [
      "Columns of df_P:  ['GIVEN_MRN', 'PAT_ID', 'ACC']\n",
      "Length of df_P:  1459\n"
     ]
    }
   ],
   "source": [
    "# Load normal patient list\n",
    "infile  = 'patlist_with_validBMI_corrected.csv'\n",
    "df_P_v1 = pd.read_csv(infile, index_col=False)\n",
    "df_P_v1 = df_P_v1.loc[:, ~df_P_v1.columns.str.contains('^Unnamed')]\n",
    "df_P_v1 = df_P_v1[['GIVEN_MRN','PAT_ID','ACC']]\n",
    "print('Columns of df_P: ', list(df_P_v1))\n",
    "print('Length of df_P: ', len(df_P_v1))\n",
    "#display(df_P_v5.head(10))"
   ]
  },
  {
   "cell_type": "code",
   "execution_count": 18,
   "metadata": {},
   "outputs": [
    {
     "name": "stdout",
     "output_type": "stream",
     "text": [
      "Length of df_additional:  67\n"
     ]
    }
   ],
   "source": [
    "df_additional = df_P_v1[~df_P_v1['PAT_ID'].isin(df_P['PAT_ID'].values)]\n",
    "print('Length of df_additional: ', len(df_additional))"
   ]
  },
  {
   "cell_type": "code",
   "execution_count": null,
   "metadata": {},
   "outputs": [],
   "source": []
  }
 ],
 "metadata": {
  "file_extension": ".py",
  "kernelspec": {
   "display_name": "Python 3",
   "language": "python",
   "name": "python3"
  },
  "language_info": {
   "codemirror_mode": {
    "name": "ipython",
    "version": 3
   },
   "file_extension": ".py",
   "mimetype": "text/x-python",
   "name": "python",
   "nbconvert_exporter": "python",
   "pygments_lexer": "ipython3",
   "version": "3.6.9"
  },
  "mimetype": "text/x-python",
  "name": "python",
  "npconvert_exporter": "python",
  "pygments_lexer": "ipython3",
  "version": 3
 },
 "nbformat": 4,
 "nbformat_minor": 4
}
