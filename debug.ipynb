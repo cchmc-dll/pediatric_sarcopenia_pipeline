{
 "cells": [
  {
   "cell_type": "markdown",
   "metadata": {},
   "source": [
    "# Setup"
   ]
  },
  {
   "cell_type": "code",
   "execution_count": 1,
   "metadata": {},
   "outputs": [],
   "source": [
    "from IPython import get_ipython\n",
    "from tqdm.notebook import tqdm\n",
    "import pickle\n",
    "import os\n",
    "\n",
    "# Custom modules/\n",
    "from SliceViewer import ImageSliceViewer3D\n",
    "from investigate import *\n",
    "\n",
    "# Custom functions\n",
    "def save_object(obj, filename):\n",
    "    with open(filename, 'wb') as output:  # Overwrites any existing file.\n",
    "        pickle.dump(obj, output, pickle.HIGHEST_PROTOCOL)\n",
    "\n",
    "def load_object(filename):        \n",
    "    with open(filename, 'rb') as input:\n",
    "        return pickle.load(input)"
   ]
  },
  {
   "cell_type": "code",
   "execution_count": 2,
   "metadata": {},
   "outputs": [
    {
     "name": "stderr",
     "output_type": "stream",
     "text": [
      "No traceback available to show.\n"
     ]
    }
   ],
   "source": [
    "get_ipython().run_line_magic('tb', '')"
   ]
  },
  {
   "cell_type": "code",
   "execution_count": 3,
   "metadata": {},
   "outputs": [],
   "source": [
    "cwd = os.getcwd()\n",
    "data = '/tf/data'\n",
    "output = '/tf/output'"
   ]
  },
  {
   "cell_type": "markdown",
   "metadata": {},
   "source": [
    "## Section 1"
   ]
  },
  {
   "cell_type": "code",
   "execution_count": null,
   "metadata": {
    "scrolled": false
   },
   "outputs": [],
   "source": [
    "# Load valid patient list\n",
    "infile  = 'patlist_with_validBMI.csv'\n",
    "df_P = pd.read_csv(infile, index_col=False)\n",
    "df_P = df_P.loc[:, ~df_P.columns.str.contains('^Unnamed')]\n",
    "df_P = df_P[['GIVEN_MRN','PAT_ID','ACC']]\n",
    "print('Columns of df_P: ', list(df_P))\n",
    "print('Length of df_P: ', len(df_P))\n",
    "display(df_P.head(10))\n",
    "#print('# of Unique patients: ', len(df_P.subject_id.unique()))"
   ]
  },
  {
   "cell_type": "code",
   "execution_count": null,
   "metadata": {},
   "outputs": [],
   "source": [
    "pats = next(os.walk(data))[1]\n",
    "print('Total patient folders in data dir: ',len(pats))"
   ]
  },
  {
   "cell_type": "code",
   "execution_count": null,
   "metadata": {},
   "outputs": [],
   "source": [
    "patids = [pat.split('-')[0] for pat in pats]\n",
    "\n",
    "valid_ids = [valid_id for valid_id,valid_dir in zip(patids,pats) if valid_id in df_P.PAT_ID.values]\n",
    "valid_dirs = [os.path.join(data,valid_dir) for valid_id,valid_dir in zip(patids,pats) if valid_id in df_P.PAT_ID.values]\n",
    "\n",
    "valid_ids = set(valid_ids)\n",
    "valid_dirs = set(valid_dirs)"
   ]
  },
  {
   "cell_type": "code",
   "execution_count": null,
   "metadata": {},
   "outputs": [],
   "source": [
    "print('valid ids: ',len(valid_ids))"
   ]
  },
  {
   "cell_type": "code",
   "execution_count": null,
   "metadata": {
    "scrolled": true
   },
   "outputs": [],
   "source": [
    "# Import modules and config file\n",
    "import json\n",
    "from run_sma_experiment import find_l3_images,output_images\n",
    "import pprint\n",
    "pp = pprint.PrettyPrinter(indent=1)\n",
    "\n",
    "\n",
    "configfile = os.path.join(cwd,'config/debug_ES/series_filter_ds1.json')\n",
    "with open(configfile, \"r\") as f:\n",
    "        config = json.load(f)\n",
    "\n",
    "print('Current config dict: ')\n",
    "pp.pprint(config)"
   ]
  },
  {
   "cell_type": "code",
   "execution_count": null,
   "metadata": {},
   "outputs": [],
   "source": [
    "config = config[\"series_filter\"]\n",
    "config[\"new_tim_dicom_dir_structure\"] = True\n",
    "config[\"valid_ids\"] = valid_ids"
   ]
  },
  {
   "cell_type": "code",
   "execution_count": null,
   "metadata": {},
   "outputs": [],
   "source": [
    "# Debug\n",
    "from L3_finder import *"
   ]
  },
  {
   "cell_type": "code",
   "execution_count": null,
   "metadata": {
    "scrolled": true
   },
   "outputs": [],
   "source": [
    "# Debug\n",
    "print(\"Finding subjects\")\n",
    "\n",
    "subjects = list(\n",
    "    find_subjects(\n",
    "        config[\"dicom_dir\"],\n",
    "        new_tim_dir_structure=config[\"new_tim_dicom_dir_structure\"]\n",
    "    )\n",
    ")\n",
    "\n",
    "print('Subjects found: ', len(subjects))"
   ]
  },
  {
   "cell_type": "code",
   "execution_count": null,
   "metadata": {},
   "outputs": [],
   "source": [
    "subjects = [subject for subject in subjects if subject.id_ in valid_ids]\n",
    "print('Subjects found: ', len(subjects))\n",
    "print('Valid Subjects: ', len(valid_ids))"
   ]
  },
  {
   "cell_type": "markdown",
   "metadata": {},
   "source": [
    "## Section 2"
   ]
  },
  {
   "cell_type": "code",
   "execution_count": null,
   "metadata": {},
   "outputs": [],
   "source": [
    "# Find Duplicate Subjects\n",
    "unique_subjects = []\n",
    "duplicate_subjects = []\n",
    "for subject in subjects:\n",
    "    if subject.id_ not in unique_subjects:\n",
    "        unique_subjects.append(subject.id_)\n",
    "    else:\n",
    "        duplicate_subjects.append(subject.id_)\n",
    "\n",
    "print(duplicate_subjects)           "
   ]
  },
  {
   "cell_type": "code",
   "execution_count": null,
   "metadata": {},
   "outputs": [],
   "source": [
    "print_subject_paths(subjects)"
   ]
  },
  {
   "cell_type": "code",
   "execution_count": null,
   "metadata": {},
   "outputs": [],
   "source": [
    "print_subject_series('Z619766','/tf/data/Z619766-19070630-Z619766-_')"
   ]
  },
  {
   "cell_type": "code",
   "execution_count": null,
   "metadata": {},
   "outputs": [],
   "source": [
    "imseries = get_subject_series('Z619766','Z619766-SE-1-2.0')\n",
    "print(imseries.orientation,' ' , imseries.slice_thickness)\n",
    "imdata = imseries.pixel_data"
   ]
  },
  {
   "cell_type": "code",
   "execution_count": null,
   "metadata": {
    "scrolled": true
   },
   "outputs": [],
   "source": [
    "%matplotlib inline\n",
    "print(imdata.shape)\n",
    "ImageSliceViewer3D(imdata)"
   ]
  },
  {
   "cell_type": "code",
   "execution_count": null,
   "metadata": {},
   "outputs": [],
   "source": [
    "save_object(subjects, os.path.join(output,'subjects_noduplicates.pkl'))"
   ]
  },
  {
   "cell_type": "markdown",
   "metadata": {},
   "source": [
    "## Section 3"
   ]
  },
  {
   "cell_type": "code",
   "execution_count": null,
   "metadata": {},
   "outputs": [],
   "source": [
    "subjects = load_object(os.path.join(output,'subjects_noduplicates.pkl'))"
   ]
  },
  {
   "cell_type": "code",
   "execution_count": null,
   "metadata": {},
   "outputs": [],
   "source": [
    "%%time\n",
    "from l3finder.ingest import *\n",
    "from multiprocessing import get_context\n",
    "from multiprocessing import set_start_method\n",
    "#set_start_method(\"spawn\")\n",
    "\n",
    "if __name__=='__main__':\n",
    "    # Find series images\n",
    "    print(\"Finding series\")\n",
    "    series = list(flatten(s.find_series() for s in subjects))\n",
    "\n",
    "    # Separate series\n",
    "    print(\"Separating series\")\n",
    "    #sagittal_series, axial_series, excluded_series = separate_series(series)\n",
    "    \n",
    "    excluded_series = []\n",
    "\n",
    "    sag_filter = functools.partial(\n",
    "        same_orientation,\n",
    "        orientation='sagittal',\n",
    "        excluded_series=excluded_series\n",
    "    )\n",
    "    \n",
    "    axial_filter = functools.partial(\n",
    "        same_orientation,\n",
    "        orientation='axial',\n",
    "        excluded_series=excluded_series\n",
    "    )\n",
    "\n",
    "    def pool_filter(pool, func, candidates):\n",
    "        return [\n",
    "            c for c, keep\n",
    "            in zip(candidates, tqdm(pool.imap(func, candidates),total=len(candidates)))\n",
    "            if keep]\n",
    "    \n",
    "    print('Filtering series using ', multiprocessing.cpu_count(), ' cores:')\n",
    "    with get_context(\"spawn\").Pool() as p:\n",
    "        sagittal_series = pool_filter(p, sag_filter, series)\n",
    "        print(\"Processed Sagittals\")\n",
    "        axial_series = pool_filter(p, axial_filter, series)\n",
    "        print(\"Processed Axials\")\n",
    "\n",
    "    \n",
    "    \n",
    "    print(\"Series seperated\")\n",
    "\n",
    "#remove_start_method(\"spawn\")"
   ]
  },
  {
   "cell_type": "code",
   "execution_count": null,
   "metadata": {},
   "outputs": [],
   "source": [
    "print(\"Length of valid pats: \", len(subjects))\n",
    "print(\"Length of sagittal series\", len(sagittal_series))\n",
    "print(\"Length of axial series\", len(axial_series))\n",
    "#print(\"Length of excluded series\", len(excluded_series))\n",
    "#print(\"Length of all series in dataset\", len(series))"
   ]
  },
  {
   "cell_type": "code",
   "execution_count": null,
   "metadata": {},
   "outputs": [],
   "source": [
    "# Save required objects\n",
    "save_object(axial_series, os.path.join(output,'axial_series.pkl'))\n",
    "save_object(sagittal_series, os.path.join(output,'sagittal_series.pkl'))"
   ]
  },
  {
   "cell_type": "markdown",
   "metadata": {},
   "source": [
    "## Section 4 - Create query dataframes before filtering the series"
   ]
  },
  {
   "cell_type": "code",
   "execution_count": null,
   "metadata": {},
   "outputs": [],
   "source": [
    "axial_series = load_object(os.path.join(output,'axial_series.pkl'))\n",
    "sagittal_series = load_object(os.path.join(output,'sagittal_series.pkl'))\n",
    "subjects = load_object(os.path.join(output,'subjects_noduplicates.pkl'))"
   ]
  },
  {
   "cell_type": "code",
   "execution_count": null,
   "metadata": {},
   "outputs": [],
   "source": [
    "df_a = get_summary_dfs(axial_series,sagittal_series,subjects)\n",
    "save_object(df_a, os.path.join(output,'df_a.pkl'))"
   ]
  },
  {
   "cell_type": "code",
   "execution_count": null,
   "metadata": {
    "scrolled": true
   },
   "outputs": [],
   "source": [
    "df_a_axials = get_summary_by_serieslength(axial_series)\n",
    "df_a_sags = get_summary_by_serieslength(sagittal_series)\n",
    "save_object(df_a_axials, os.path.join(output,'df_a_axials.pkl'))\n",
    "save_object(df_a_sags, os.path.join(output,'df_a_sags.pkl'))"
   ]
  },
  {
   "cell_type": "markdown",
   "metadata": {},
   "source": [
    "## Section 5 - Investigate subjects and series"
   ]
  },
  {
   "cell_type": "code",
   "execution_count": null,
   "metadata": {},
   "outputs": [],
   "source": [
    "df_a_axials = load_object(os.path.join(output,'df_a_axials.pkl'))\n",
    "df_a_sags = load_object(os.path.join(output,'df_a_sags.pkl'))\n",
    "df_a = load_object(os.path.join(output,'df_a.pkl'))"
   ]
  },
  {
   "cell_type": "code",
   "execution_count": null,
   "metadata": {},
   "outputs": [],
   "source": [
    "print(\"Length of subjects with atleast 1 axial or sagittal series: \", len(df_a))\n",
    "print(\"Length of subjects with atleast 1 axial series: \", len(df_a_axials['ID'].unique()))\n",
    "print(\"Length of subjects with atleast 1 sagittal series: \", len(df_a_sags['ID'].unique()))"
   ]
  },
  {
   "cell_type": "code",
   "execution_count": null,
   "metadata": {},
   "outputs": [],
   "source": [
    "# Patients without Axial\n",
    "pats = [pat for pat in df_a['ID'].values if pat not in df_a_axials['ID'].values]\n",
    "print(len(pats))\n",
    "print(pats)"
   ]
  },
  {
   "cell_type": "code",
   "execution_count": null,
   "metadata": {},
   "outputs": [],
   "source": [
    "# Patients without Sagittal\n",
    "pats = [pat for pat in df_a['ID'].values if pat not in df_a_sags['ID'].values]\n",
    "print(len(pats))"
   ]
  },
  {
   "cell_type": "code",
   "execution_count": null,
   "metadata": {},
   "outputs": [],
   "source": [
    "imseries = get_subject_series('Z837620','Z837620-SE-6-Vol_Body_Vol._0.5',subjects)\n",
    "print(imseries.orientation,' ' , imseries.slice_thickness)\n",
    "imdata = imseries.pixel_data"
   ]
  },
  {
   "cell_type": "code",
   "execution_count": null,
   "metadata": {},
   "outputs": [],
   "source": [
    "%matplotlib inline\n",
    "print(imdata.shape)\n",
    "ImageSliceViewer3D(imdata)"
   ]
  },
  {
   "cell_type": "code",
   "execution_count": null,
   "metadata": {},
   "outputs": [],
   "source": [
    "print_summary_by_serieslength(df_a_axials)"
   ]
  },
  {
   "cell_type": "code",
   "execution_count": null,
   "metadata": {},
   "outputs": [],
   "source": [
    "print_summary_by_serieslength(df_a_sags)"
   ]
  },
  {
   "cell_type": "markdown",
   "metadata": {},
   "source": [
    "## Section 6"
   ]
  },
  {
   "cell_type": "code",
   "execution_count": null,
   "metadata": {},
   "outputs": [],
   "source": [
    "axial_series = [a_s for a_s in axial_series if a_s.number_of_dicoms > 20]"
   ]
  },
  {
   "cell_type": "code",
   "execution_count": null,
   "metadata": {},
   "outputs": [],
   "source": [
    "len(axial_series)"
   ]
  },
  {
   "cell_type": "code",
   "execution_count": null,
   "metadata": {},
   "outputs": [],
   "source": [
    "save_object(axial_series, os.path.join(output,'axial_series_gt20.pkl'))"
   ]
  },
  {
   "cell_type": "code",
   "execution_count": null,
   "metadata": {},
   "outputs": [],
   "source": [
    "df_b_axials = get_summary_by_serieslength(axial_series)"
   ]
  },
  {
   "cell_type": "code",
   "execution_count": null,
   "metadata": {},
   "outputs": [],
   "source": [
    "print_summary_by_serieslength(df_b_axials)"
   ]
  },
  {
   "cell_type": "markdown",
   "metadata": {},
   "source": [
    "## Section 7"
   ]
  },
  {
   "cell_type": "code",
   "execution_count": 4,
   "metadata": {},
   "outputs": [
    {
     "name": "stderr",
     "output_type": "stream",
     "text": [
      "Using TensorFlow backend.\n"
     ]
    }
   ],
   "source": [
    "from L3_finder import *"
   ]
  },
  {
   "cell_type": "code",
   "execution_count": 5,
   "metadata": {},
   "outputs": [],
   "source": [
    "axial_series = load_object(os.path.join(output,'axial_series_gt20.pkl'))\n",
    "sagittal_series = load_object(os.path.join(output,'sagittal_series.pkl'))\n",
    "subjects = load_object(os.path.join(output,'subjects_noduplicates.pkl'))"
   ]
  },
  {
   "cell_type": "code",
   "execution_count": 6,
   "metadata": {},
   "outputs": [
    {
     "name": "stdout",
     "output_type": "stream",
     "text": [
      "Axial series filtered\n",
      "Sagittal series filtered\n"
     ]
    }
   ],
   "source": [
    "exclusions = []\n",
    "if __name__=='__main__':\n",
    "    axial_series, ax_exclusions = filter_axial_series(axial_series)\n",
    "    print('Axial series filtered')\n",
    "    exclusions.extend(ax_exclusions)\n",
    "    #constructed_sagittals = construct_series_for_subjects_without_sagittals(\n",
    "    #    subjects, sagittal_series, axial_series\n",
    "    #)\n",
    "    #print('Missing Sagittals reconstructed')\n",
    "    #sagittal_series.extend(constructed_sagittals)\n",
    "    sagittal_series, sag_exclusions = filter_sagittal_series(sagittal_series)\n",
    "    print('Sagittal series filtered')\n",
    "    exclusions.extend(sag_exclusions)"
   ]
  },
  {
   "cell_type": "code",
   "execution_count": 7,
   "metadata": {},
   "outputs": [],
   "source": [
    "save_object(axial_series, os.path.join(output,'axial_series_filtered.pkl'))\n",
    "save_object(sagittal_series, os.path.join(output,'sagittal_series_filtered.pkl'))\n",
    "save_object(sag_exclusions, os.path.join(output,'sag_exclusions.pkl'))\n",
    "save_object(ax_exclusions, os.path.join(output,'ax_exclusions.pkl'))"
   ]
  },
  {
   "cell_type": "code",
   "execution_count": 8,
   "metadata": {},
   "outputs": [],
   "source": [
    "df_b = get_summary_dfs(axial_series,sagittal_series,subjects)\n",
    "save_object(df_b, os.path.join(output,'df_b.pkl'))"
   ]
  },
  {
   "cell_type": "code",
   "execution_count": 9,
   "metadata": {},
   "outputs": [],
   "source": [
    "df_b_axials = get_summary_by_serieslength(axial_series)\n",
    "df_b_sags = get_summary_by_serieslength(sagittal_series)\n",
    "save_object(df_b_axials, os.path.join(output,'df_b_axials.pkl'))\n",
    "save_object(df_b_sags, os.path.join(output,'df_b_sags.pkl'))"
   ]
  },
  {
   "cell_type": "markdown",
   "metadata": {},
   "source": [
    "## Section 8 - Investigate "
   ]
  },
  {
   "cell_type": "code",
   "execution_count": 4,
   "metadata": {},
   "outputs": [],
   "source": [
    "df_a_axials = load_object(os.path.join(output,'df_a_axials.pkl'))\n",
    "df_a_sags = load_object(os.path.join(output,'df_a_sags.pkl'))\n",
    "df_a = load_object(os.path.join(output,'df_a.pkl'))\n",
    "\n",
    "df_b_axials = load_object(os.path.join(output,'df_b_axials.pkl'))\n",
    "df_b_sags = load_object(os.path.join(output,'df_b_sags.pkl'))\n",
    "df_b = load_object(os.path.join(output,'df_b.pkl'))"
   ]
  },
  {
   "cell_type": "code",
   "execution_count": 5,
   "metadata": {},
   "outputs": [],
   "source": [
    "subjects = load_object(os.path.join(output,'subjects_noduplicates.pkl'))\n",
    "\n",
    "axial_series = load_object(os.path.join(output,'axial_series_filtered.pkl'))\n",
    "sagittal_series = load_object(os.path.join(output,'sagittal_series_filtered.pkl'))"
   ]
  },
  {
   "cell_type": "code",
   "execution_count": 6,
   "metadata": {},
   "outputs": [
    {
     "data": {
      "application/vnd.jupyter.widget-view+json": {
       "model_id": "59b9f201a81d41dab8cae44783331213",
       "version_major": 2,
       "version_minor": 0
      },
      "text/plain": [
       "interactive(children=(Dropdown(description='ptype', options=('equal', 'equal_greater', 'lesser'), value='equal…"
      ]
     },
     "metadata": {},
     "output_type": "display_data"
    }
   ],
   "source": [
    "print_summary_by_serieslength(df_b_axials)\n",
    "#print_summary_by_serieslength(df_b_sags)"
   ]
  },
  {
   "cell_type": "code",
   "execution_count": 7,
   "metadata": {},
   "outputs": [
    {
     "data": {
      "application/vnd.jupyter.widget-view+json": {
       "model_id": "0322d662cd0a44f1934616b4bb949740",
       "version_major": 2,
       "version_minor": 0
      },
      "text/plain": [
       "interactive(children=(Text(value='Z1243452', description='ID'), Output()), _dom_classes=('widget-interact',))"
      ]
     },
     "metadata": {},
     "output_type": "display_data"
    }
   ],
   "source": [
    "print_subject_paths(subjects)"
   ]
  },
  {
   "cell_type": "code",
   "execution_count": 8,
   "metadata": {},
   "outputs": [
    {
     "data": {
      "application/vnd.jupyter.widget-view+json": {
       "model_id": "c3e12989e6a84708befc674fc103f529",
       "version_major": 2,
       "version_minor": 0
      },
      "text/plain": [
       "interactive(children=(Text(value='Z416634', description='ID'), Text(value='/tf/data/Z416634-19160310-Z416634-C…"
      ]
     },
     "metadata": {},
     "output_type": "display_data"
    }
   ],
   "source": [
    "print_subject_series('Z416634','/tf/data/Z416634-19160310-Z416634-CT_ABDOMEN_PELVIS_W_CONTRAST',subjects,axial_series)"
   ]
  },
  {
   "cell_type": "code",
   "execution_count": 13,
   "metadata": {},
   "outputs": [
    {
     "name": "stdout",
     "output_type": "stream",
     "text": [
      "axial   5.0\n",
      "(70, 512, 512)\n"
     ]
    },
    {
     "data": {
      "application/vnd.jupyter.widget-view+json": {
       "model_id": "b95bc6bbb38749ed8a5ccfb5f5b91500",
       "version_major": 2,
       "version_minor": 0
      },
      "text/plain": [
       "interactive(children=(Output(),), _dom_classes=('widget-interact',))"
      ]
     },
     "metadata": {},
     "output_type": "display_data"
    },
    {
     "data": {
      "text/plain": [
       "<SliceViewer.ImageSliceViewer3D at 0x7f5422762be0>"
      ]
     },
     "execution_count": 13,
     "metadata": {},
     "output_type": "execute_result"
    }
   ],
   "source": [
    "# Visualize\n",
    "imseries = get_subject_series('Z416634','Z416634-SE-4-Axial_Body_5.0',subjects)\n",
    "print(imseries.orientation,' ' , imseries.slice_thickness)\n",
    "imdata = imseries.pixel_data\n",
    "\n",
    "%matplotlib inline\n",
    "print(imdata.shape)\n",
    "ImageSliceViewer3D(imdata)"
   ]
  },
  {
   "cell_type": "code",
   "execution_count": 16,
   "metadata": {},
   "outputs": [],
   "source": [
    "a=  axial_series[0]"
   ]
  },
  {
   "cell_type": "code",
   "execution_count": 18,
   "metadata": {},
   "outputs": [
    {
     "data": {
      "text/plain": [
       "False"
      ]
     },
     "execution_count": 18,
     "metadata": {},
     "output_type": "execute_result"
    }
   ],
   "source": [
    "True if a in axial_series[1:] else False"
   ]
  },
  {
   "cell_type": "code",
   "execution_count": null,
   "metadata": {},
   "outputs": [],
   "source": []
  },
  {
   "cell_type": "code",
   "execution_count": null,
   "metadata": {},
   "outputs": [],
   "source": [
    "len(constructed_sagittals)"
   ]
  },
  {
   "cell_type": "code",
   "execution_count": null,
   "metadata": {},
   "outputs": [],
   "source": [
    "len(df_b)"
   ]
  },
  {
   "cell_type": "code",
   "execution_count": null,
   "metadata": {},
   "outputs": [],
   "source": [
    "print_summary_df(df_b)"
   ]
  },
  {
   "cell_type": "code",
   "execution_count": null,
   "metadata": {},
   "outputs": [],
   "source": [
    "print_summary_counts(df_a)"
   ]
  },
  {
   "cell_type": "code",
   "execution_count": null,
   "metadata": {},
   "outputs": [],
   "source": [
    "print_summary_counts(df_b)"
   ]
  },
  {
   "cell_type": "code",
   "execution_count": null,
   "metadata": {},
   "outputs": [],
   "source": [
    "exclusions[0][0]"
   ]
  },
  {
   "cell_type": "code",
   "execution_count": null,
   "metadata": {},
   "outputs": [],
   "source": [
    "print_summary_exclusions(exclusions)"
   ]
  },
  {
   "cell_type": "code",
   "execution_count": null,
   "metadata": {},
   "outputs": [],
   "source": [
    "# Check if df_a and df_b filters for axial are right\n",
    "l1 = get_patientsbycount(df_a,'Axials',0)\n",
    "l2 = [l for l in get_patientsbycount(df_b,'Axials',0) if l not in l1]"
   ]
  },
  {
   "cell_type": "code",
   "execution_count": null,
   "metadata": {},
   "outputs": [],
   "source": [
    "len(l2)"
   ]
  },
  {
   "cell_type": "code",
   "execution_count": null,
   "metadata": {},
   "outputs": [],
   "source": [
    "print(l2)"
   ]
  },
  {
   "cell_type": "code",
   "execution_count": null,
   "metadata": {},
   "outputs": [],
   "source": [
    "df_e =  get_exclusion_df()"
   ]
  },
  {
   "cell_type": "code",
   "execution_count": null,
   "metadata": {},
   "outputs": [],
   "source": [
    "print_exclusions_subject(df_e,l2)"
   ]
  },
  {
   "cell_type": "code",
   "execution_count": null,
   "metadata": {},
   "outputs": [],
   "source": [
    "exclusions[0][0].series.id_#.slice_thickness"
   ]
  },
  {
   "cell_type": "code",
   "execution_count": null,
   "metadata": {},
   "outputs": [],
   "source": [
    "display(df_e.head(100))"
   ]
  },
  {
   "cell_type": "code",
   "execution_count": null,
   "metadata": {},
   "outputs": [],
   "source": [
    "len(subjects)"
   ]
  },
  {
   "cell_type": "code",
   "execution_count": null,
   "metadata": {},
   "outputs": [],
   "source": [
    "len(set(subjects))"
   ]
  },
  {
   "cell_type": "code",
   "execution_count": null,
   "metadata": {},
   "outputs": [],
   "source": [
    "subjects.index('Z1243452')"
   ]
  },
  {
   "cell_type": "code",
   "execution_count": null,
   "metadata": {},
   "outputs": [],
   "source": [
    "valid_ids.index('Z1243452')"
   ]
  },
  {
   "cell_type": "code",
   "execution_count": null,
   "metadata": {},
   "outputs": [],
   "source": [
    "valid_ids[352]"
   ]
  },
  {
   "cell_type": "code",
   "execution_count": null,
   "metadata": {},
   "outputs": [],
   "source": [
    "valid_ids[353]"
   ]
  },
  {
   "cell_type": "code",
   "execution_count": null,
   "metadata": {},
   "outputs": [],
   "source": [
    "len(valid_ids)"
   ]
  },
  {
   "cell_type": "code",
   "execution_count": null,
   "metadata": {},
   "outputs": [],
   "source": [
    "len(set(valid_ids))"
   ]
  },
  {
   "cell_type": "code",
   "execution_count": null,
   "metadata": {},
   "outputs": [],
   "source": []
  }
 ],
 "metadata": {
  "file_extension": ".py",
  "kernelspec": {
   "display_name": "Python 3",
   "language": "python",
   "name": "python3"
  },
  "language_info": {
   "codemirror_mode": {
    "name": "ipython",
    "version": 3
   },
   "file_extension": ".py",
   "mimetype": "text/x-python",
   "name": "python",
   "nbconvert_exporter": "python",
   "pygments_lexer": "ipython3",
   "version": "3.6.9"
  },
  "mimetype": "text/x-python",
  "name": "python",
  "npconvert_exporter": "python",
  "pygments_lexer": "ipython3",
  "version": 3
 },
 "nbformat": 4,
 "nbformat_minor": 2
}
