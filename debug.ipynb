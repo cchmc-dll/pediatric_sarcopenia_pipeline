{
 "cells": [
  {
   "cell_type": "markdown",
   "metadata": {},
   "source": [
    "# Setup"
   ]
  },
  {
   "cell_type": "code",
   "execution_count": null,
   "metadata": {},
   "outputs": [],
   "source": [
    "from IPython.display import display, HTML"
   ]
  },
  {
   "cell_type": "code",
   "execution_count": null,
   "metadata": {},
   "outputs": [],
   "source": [
    "# from IPython import get_ipython\n",
    "from tqdm.notebook import tqdm\n",
    "import pickle\n",
    "import os\n",
    "\n",
    "\n",
    "# Custom modules\n",
    "from SliceViewer import ImageSliceViewer3D, ImageSliceViewer3D_1view,ImageSliceViewer3D_2views\n",
    "from investigate import *\n",
    "\n",
    "#pd.set_option(\"display.max_rows\", 10)\n",
    "\n",
    "# Custom functions\n",
    "def save_object(obj, filename):\n",
    "    with open(filename, 'wb') as output:  # Overwrites any existing file.\n",
    "        pickle.dump(obj, output, pickle.HIGHEST_PROTOCOL)\n",
    "\n",
    "def load_object(filename):        \n",
    "    with open(filename, 'rb') as input:\n",
    "        return pickle.load(input)"
   ]
  },
  {
   "cell_type": "code",
   "execution_count": null,
   "metadata": {},
   "outputs": [],
   "source": [
    "get_ipython().run_line_magic('tb', '')"
   ]
  },
  {
   "cell_type": "code",
   "execution_count": null,
   "metadata": {},
   "outputs": [],
   "source": [
    "cwd = os.getcwd()\n",
    "data = '/tf/data'\n",
    "output = '/tf/output'"
   ]
  },
  {
   "cell_type": "markdown",
   "metadata": {},
   "source": [
    "## Section 1"
   ]
  },
  {
   "cell_type": "code",
   "execution_count": null,
   "metadata": {
    "scrolled": false
   },
   "outputs": [],
   "source": [
    "# Load valid patient list\n",
    "infile  = 'patlist_with_validBMI.csv'\n",
    "df_P = pd.read_csv(infile, index_col=False)\n",
    "df_P = df_P.loc[:, ~df_P.columns.str.contains('^Unnamed')]\n",
    "df_P = df_P[['GIVEN_MRN','PAT_ID','ACC']]\n",
    "print('Columns of df_P: ', list(df_P))\n",
    "print('Length of df_P: ', len(df_P))\n",
    "display(df_P.head(10))\n",
    "#print('# of Unique patients: ', len(df_P.subject_id.unique()))"
   ]
  },
  {
   "cell_type": "code",
   "execution_count": null,
   "metadata": {},
   "outputs": [],
   "source": [
    "pats = next(os.walk(data))[1]\n",
    "print('Total patient folders in data dir: ',len(pats))"
   ]
  },
  {
   "cell_type": "code",
   "execution_count": null,
   "metadata": {},
   "outputs": [],
   "source": [
    "patids = [pat.split('-')[0] for pat in pats]\n",
    "\n",
    "valid_ids = [valid_id for valid_id,valid_dir in zip(patids,pats) if valid_id in df_P.PAT_ID.values]\n",
    "valid_dirs = [os.path.join(data,valid_dir) for valid_id,valid_dir in zip(patids,pats) if valid_id in df_P.PAT_ID.values]\n",
    "\n",
    "valid_ids = set(valid_ids)\n",
    "valid_dirs = set(valid_dirs)"
   ]
  },
  {
   "cell_type": "code",
   "execution_count": null,
   "metadata": {},
   "outputs": [],
   "source": [
    "print('valid ids: ',len(valid_ids))"
   ]
  },
  {
   "cell_type": "code",
   "execution_count": null,
   "metadata": {
    "scrolled": true
   },
   "outputs": [],
   "source": [
    "# Import modules and config file\n",
    "import json\n",
    "from run_sma_experiment import find_l3_images,output_images\n",
    "import pprint\n",
    "pp = pprint.PrettyPrinter(indent=1)\n",
    "\n",
    "\n",
    "configfile = os.path.join(cwd,'config/debug_ES/series_filter_ds1.json')\n",
    "with open(configfile, \"r\") as f:\n",
    "        config = json.load(f)\n",
    "\n",
    "print('Current config dict: ')\n",
    "pp.pprint(config)"
   ]
  },
  {
   "cell_type": "code",
   "execution_count": null,
   "metadata": {},
   "outputs": [],
   "source": [
    "config = config[\"series_filter\"]\n",
    "config[\"new_tim_dicom_dir_structure\"] = True\n",
    "config[\"valid_ids\"] = valid_ids"
   ]
  },
  {
   "cell_type": "code",
   "execution_count": null,
   "metadata": {},
   "outputs": [],
   "source": [
    "# Debug\n",
    "from L3_finder import *"
   ]
  },
  {
   "cell_type": "code",
   "execution_count": null,
   "metadata": {
    "scrolled": true
   },
   "outputs": [],
   "source": [
    "# Debug\n",
    "print(\"Finding subjects\")\n",
    "\n",
    "subjects = list(\n",
    "    find_subjects(\n",
    "        config[\"dicom_dir\"],\n",
    "        new_tim_dir_structure=config[\"new_tim_dicom_dir_structure\"]\n",
    "    )\n",
    ")\n",
    "\n",
    "print('Subjects found: ', len(subjects))"
   ]
  },
  {
   "cell_type": "code",
   "execution_count": null,
   "metadata": {},
   "outputs": [],
   "source": [
    "subjects = [subject for subject in subjects if subject.id_ in valid_ids]\n",
    "print('Subjects found: ', len(subjects))\n",
    "print('Valid Subjects: ', len(valid_ids))"
   ]
  },
  {
   "cell_type": "markdown",
   "metadata": {},
   "source": [
    "## Section 2"
   ]
  },
  {
   "cell_type": "code",
   "execution_count": null,
   "metadata": {},
   "outputs": [],
   "source": [
    "# Find Duplicate Subjects\n",
    "unique_subjects = []\n",
    "duplicate_subjects = []\n",
    "for subject in subjects:\n",
    "    if subject.id_ not in unique_subjects:\n",
    "        unique_subjects.append(subject.id_)\n",
    "    else:\n",
    "        duplicate_subjects.append(subject.id_)\n",
    "\n",
    "print(duplicate_subjects)           "
   ]
  },
  {
   "cell_type": "code",
   "execution_count": null,
   "metadata": {},
   "outputs": [],
   "source": [
    "print_subject_paths(subjects)"
   ]
  },
  {
   "cell_type": "code",
   "execution_count": null,
   "metadata": {},
   "outputs": [],
   "source": [
    "print_subject_series('Z619766','/tf/data/Z619766-19070630-Z619766-_')"
   ]
  },
  {
   "cell_type": "code",
   "execution_count": null,
   "metadata": {},
   "outputs": [],
   "source": [
    "imseries = get_subject_series('Z619766','Z619766-SE-1-2.0')\n",
    "print(imseries.orientation,' ' , imseries.slice_thickness)\n",
    "imdata = imseries.pixel_data"
   ]
  },
  {
   "cell_type": "code",
   "execution_count": null,
   "metadata": {
    "scrolled": true
   },
   "outputs": [],
   "source": [
    "%matplotlib inline\n",
    "print(imdata.shape)\n",
    "ImageSliceViewer3D(imdata)"
   ]
  },
  {
   "cell_type": "code",
   "execution_count": null,
   "metadata": {},
   "outputs": [],
   "source": [
    "save_object(subjects, os.path.join(output,'subjects_noduplicates.pkl'))"
   ]
  },
  {
   "cell_type": "markdown",
   "metadata": {},
   "source": [
    "## Section 3"
   ]
  },
  {
   "cell_type": "code",
   "execution_count": null,
   "metadata": {},
   "outputs": [],
   "source": [
    "subjects = load_object(os.path.join(output,'subjects_noduplicates.pkl'))"
   ]
  },
  {
   "cell_type": "code",
   "execution_count": null,
   "metadata": {},
   "outputs": [],
   "source": [
    "%%time\n",
    "# Debug\n",
    "from L3_finder import *\n",
    "from l3finder.ingest import *\n",
    "from multiprocessing import get_context\n",
    "from multiprocessing import set_start_method\n",
    "#set_start_method(\"spawn\")\n",
    "\n",
    "if __name__=='__main__':\n",
    "    # Find series images\n",
    "    print(\"Finding series\")\n",
    "    series = list(flatten(s.find_series() for s in subjects))\n",
    "\n",
    "    # Separate series\n",
    "    print(\"Separating series\")\n",
    "    #sagittal_series, axial_series, excluded_series = separate_series(series)\n",
    "    \n",
    "    excluded_series = []\n",
    "\n",
    "    sag_filter = functools.partial(\n",
    "        same_orientation,\n",
    "        orientation='sagittal',\n",
    "        excluded_series=excluded_series\n",
    "    )\n",
    "    \n",
    "    axial_filter = functools.partial(\n",
    "        same_orientation,\n",
    "        orientation='axial',\n",
    "        excluded_series=excluded_series\n",
    "    )\n",
    "\n",
    "    def pool_filter(pool, func, candidates):\n",
    "        return [\n",
    "            c for c, keep\n",
    "            in zip(candidates, tqdm(pool.imap(func, candidates),total=len(candidates)))\n",
    "            if keep]\n",
    "    \n",
    "    print('Filtering series using ', multiprocessing.cpu_count(), ' cores:')\n",
    "    with get_context(\"spawn\").Pool() as p:\n",
    "        sagittal_series = pool_filter(p, sag_filter, series)\n",
    "        print(\"Processed Sagittals\")\n",
    "        axial_series = pool_filter(p, axial_filter, series)\n",
    "        print(\"Processed Axials\")\n",
    "\n",
    "    \n",
    "    \n",
    "    print(\"Series seperated\")\n",
    "\n",
    "#remove_start_method(\"spawn\")"
   ]
  },
  {
   "cell_type": "code",
   "execution_count": null,
   "metadata": {},
   "outputs": [],
   "source": [
    "print(\"Length of valid pats: \", len(subjects))\n",
    "print(\"Length of sagittal series\", len(sagittal_series))\n",
    "print(\"Length of axial series\", len(axial_series))\n",
    "#print(\"Length of excluded series\", len(excluded_series))\n",
    "#print(\"Length of all series in dataset\", len(series))"
   ]
  },
  {
   "cell_type": "code",
   "execution_count": null,
   "metadata": {},
   "outputs": [],
   "source": [
    "# Save required objects\n",
    "save_object(axial_series, os.path.join(output,'axial_series.pkl'))\n",
    "save_object(sagittal_series, os.path.join(output,'sagittal_series.pkl'))"
   ]
  },
  {
   "cell_type": "markdown",
   "metadata": {},
   "source": [
    "## Section 4 - Create query dataframes before filtering the series"
   ]
  },
  {
   "cell_type": "code",
   "execution_count": null,
   "metadata": {},
   "outputs": [],
   "source": [
    "axial_series = load_object(os.path.join(output,'axial_series.pkl'))\n",
    "sagittal_series = load_object(os.path.join(output,'sagittal_series.pkl'))\n",
    "subjects = load_object(os.path.join(output,'subjects_noduplicates.pkl'))"
   ]
  },
  {
   "cell_type": "code",
   "execution_count": null,
   "metadata": {},
   "outputs": [],
   "source": [
    "df_a = get_summary_dfs(axial_series,sagittal_series,subjects)\n",
    "save_object(df_a, os.path.join(output,'df_a.pkl'))"
   ]
  },
  {
   "cell_type": "code",
   "execution_count": null,
   "metadata": {
    "scrolled": true
   },
   "outputs": [],
   "source": [
    "df_a_axials = get_summary_by_serieslength(axial_series)\n",
    "df_a_sags = get_summary_by_serieslength(sagittal_series)\n",
    "save_object(df_a_axials, os.path.join(output,'df_a_axials.pkl'))\n",
    "save_object(df_a_sags, os.path.join(output,'df_a_sags.pkl'))"
   ]
  },
  {
   "cell_type": "markdown",
   "metadata": {},
   "source": [
    "## Section 5 - Investigate subjects and series"
   ]
  },
  {
   "cell_type": "code",
   "execution_count": null,
   "metadata": {},
   "outputs": [],
   "source": [
    "df_a_axials = load_object(os.path.join(output,'df_a_axials.pkl'))\n",
    "df_a_sags = load_object(os.path.join(output,'df_a_sags.pkl'))\n",
    "df_a = load_object(os.path.join(output,'df_a.pkl'))"
   ]
  },
  {
   "cell_type": "code",
   "execution_count": null,
   "metadata": {},
   "outputs": [],
   "source": [
    "print(\"Length of subjects with atleast 1 axial or sagittal series: \", len(df_a))\n",
    "print(\"Length of subjects with atleast 1 axial series: \", len(df_a_axials['ID'].unique()))\n",
    "print(\"Length of subjects with atleast 1 sagittal series: \", len(df_a_sags['ID'].unique()))"
   ]
  },
  {
   "cell_type": "code",
   "execution_count": null,
   "metadata": {},
   "outputs": [],
   "source": [
    "# Patients without Axial\n",
    "pats = [pat for pat in df_a['ID'].values if pat not in df_a_axials['ID'].values]\n",
    "print(len(pats))\n",
    "print(pats)"
   ]
  },
  {
   "cell_type": "code",
   "execution_count": null,
   "metadata": {},
   "outputs": [],
   "source": [
    "# Patients without Sagittal\n",
    "pats = [pat for pat in df_a['ID'].values if pat not in df_a_sags['ID'].values]\n",
    "print(len(pats))"
   ]
  },
  {
   "cell_type": "code",
   "execution_count": null,
   "metadata": {},
   "outputs": [],
   "source": [
    "imseries = get_subject_series('Z837620','Z837620-SE-6-Vol_Body_Vol._0.5',subjects)\n",
    "print(imseries.orientation,' ' , imseries.slice_thickness)\n",
    "imdata = imseries.pixel_data"
   ]
  },
  {
   "cell_type": "code",
   "execution_count": null,
   "metadata": {},
   "outputs": [],
   "source": [
    "%matplotlib inline\n",
    "print(imdata.shape)\n",
    "ImageSliceViewer3D(imdata)"
   ]
  },
  {
   "cell_type": "code",
   "execution_count": null,
   "metadata": {},
   "outputs": [],
   "source": [
    "print_summary_by_serieslength(df_a_axials)"
   ]
  },
  {
   "cell_type": "code",
   "execution_count": null,
   "metadata": {},
   "outputs": [],
   "source": [
    "print_summary_by_serieslength(df_a_sags)"
   ]
  },
  {
   "cell_type": "markdown",
   "metadata": {},
   "source": [
    "## Section 6"
   ]
  },
  {
   "cell_type": "code",
   "execution_count": null,
   "metadata": {},
   "outputs": [],
   "source": [
    "axial_series = [a_s for a_s in axial_series if a_s.number_of_dicoms > 20]"
   ]
  },
  {
   "cell_type": "code",
   "execution_count": null,
   "metadata": {},
   "outputs": [],
   "source": [
    "len(axial_series)"
   ]
  },
  {
   "cell_type": "code",
   "execution_count": null,
   "metadata": {},
   "outputs": [],
   "source": [
    "save_object(axial_series, os.path.join(output,'axial_series_gt20.pkl'))"
   ]
  },
  {
   "cell_type": "code",
   "execution_count": null,
   "metadata": {},
   "outputs": [],
   "source": [
    "df_b_axials = get_summary_by_serieslength(axial_series)"
   ]
  },
  {
   "cell_type": "code",
   "execution_count": null,
   "metadata": {},
   "outputs": [],
   "source": [
    "print_summary_by_serieslength(df_b_axials)"
   ]
  },
  {
   "cell_type": "markdown",
   "metadata": {},
   "source": [
    "## Section 7"
   ]
  },
  {
   "cell_type": "code",
   "execution_count": null,
   "metadata": {},
   "outputs": [],
   "source": [
    "from L3_finder import *"
   ]
  },
  {
   "cell_type": "code",
   "execution_count": null,
   "metadata": {},
   "outputs": [],
   "source": [
    "axial_series = load_object(os.path.join(output,'axial_series_gt20.pkl'))\n",
    "sagittal_series = load_object(os.path.join(output,'sagittal_series.pkl'))\n",
    "subjects = load_object(os.path.join(output,'subjects_noduplicates.pkl'))"
   ]
  },
  {
   "cell_type": "code",
   "execution_count": null,
   "metadata": {},
   "outputs": [],
   "source": [
    "exclusions = []\n",
    "if __name__=='__main__':\n",
    "    axial_series, ax_exclusions = filter_axial_series(axial_series)\n",
    "    print('Axial series filtered')\n",
    "    exclusions.extend(ax_exclusions)\n",
    "    #constructed_sagittals = construct_series_for_subjects_without_sagittals(\n",
    "    #    subjects, sagittal_series, axial_series\n",
    "    #)\n",
    "    #print('Missing Sagittals reconstructed')\n",
    "    #sagittal_series.extend(constructed_sagittals)\n",
    "    sagittal_series, sag_exclusions = filter_sagittal_series(sagittal_series)\n",
    "    print('Sagittal series filtered')\n",
    "    exclusions.extend(sag_exclusions)"
   ]
  },
  {
   "cell_type": "code",
   "execution_count": null,
   "metadata": {},
   "outputs": [],
   "source": [
    "save_object(axial_series, os.path.join(output,'axial_series_filtered.pkl'))\n",
    "save_object(sagittal_series, os.path.join(output,'sagittal_series_filtered.pkl'))\n",
    "save_object(sag_exclusions, os.path.join(output,'sag_exclusions.pkl'))\n",
    "save_object(ax_exclusions, os.path.join(output,'ax_exclusions.pkl'))"
   ]
  },
  {
   "cell_type": "code",
   "execution_count": null,
   "metadata": {},
   "outputs": [],
   "source": [
    "df_b = get_summary_dfs(axial_series,sagittal_series,subjects)\n",
    "save_object(df_b, os.path.join(output,'df_b.pkl'))"
   ]
  },
  {
   "cell_type": "code",
   "execution_count": null,
   "metadata": {},
   "outputs": [],
   "source": [
    "df_b_axials = get_summary_by_serieslength(axial_series)\n",
    "df_b_sags = get_summary_by_serieslength(sagittal_series)\n",
    "save_object(df_b_axials, os.path.join(output,'df_b_axials.pkl'))\n",
    "save_object(df_b_sags, os.path.join(output,'df_b_sags.pkl'))"
   ]
  },
  {
   "cell_type": "markdown",
   "metadata": {},
   "source": [
    "## Section 8 - Create df with best pairvalidity scores to select optimal axial and sagittal series for each subject"
   ]
  },
  {
   "cell_type": "code",
   "execution_count": null,
   "metadata": {},
   "outputs": [],
   "source": [
    "df_a_axials = load_object(os.path.join(output,'df_a_axials.pkl'))\n",
    "df_a_sags = load_object(os.path.join(output,'df_a_sags.pkl'))\n",
    "df_a = load_object(os.path.join(output,'df_a.pkl'))\n",
    "\n",
    "df_b_axials = load_object(os.path.join(output,'df_b_axials.pkl'))\n",
    "df_b_sags = load_object(os.path.join(output,'df_b_sags.pkl'))\n",
    "df_b = load_object(os.path.join(output,'df_b.pkl'))"
   ]
  },
  {
   "cell_type": "code",
   "execution_count": null,
   "metadata": {},
   "outputs": [],
   "source": [
    "subjects = load_object(os.path.join(output,'subjects_noduplicates.pkl'))\n",
    "\n",
    "axial_series = load_object(os.path.join(output,'axial_series_filtered.pkl'))\n",
    "sagittal_series = load_object(os.path.join(output,'sagittal_series_filtered.pkl'))"
   ]
  },
  {
   "cell_type": "code",
   "execution_count": null,
   "metadata": {},
   "outputs": [],
   "source": [
    "ax_exclusions = load_object(os.path.join(output,'ax_exclusions.pkl'))"
   ]
  },
  {
   "cell_type": "code",
   "execution_count": null,
   "metadata": {},
   "outputs": [],
   "source": [
    "print_summary_by_serieslength(df_b_axials)"
   ]
  },
  {
   "cell_type": "code",
   "execution_count": null,
   "metadata": {
    "scrolled": true
   },
   "outputs": [],
   "source": [
    "print_summary_by_subject(df_b_axials)"
   ]
  },
  {
   "cell_type": "code",
   "execution_count": null,
   "metadata": {},
   "outputs": [],
   "source": [
    "print_summary_by_subject(df_b_sags)"
   ]
  },
  {
   "cell_type": "code",
   "execution_count": null,
   "metadata": {},
   "outputs": [],
   "source": [
    "len(df_b_axials['ID'].unique())"
   ]
  },
  {
   "cell_type": "code",
   "execution_count": null,
   "metadata": {},
   "outputs": [],
   "source": [
    "len(df_b_sags['ID'].unique())"
   ]
  },
  {
   "cell_type": "code",
   "execution_count": null,
   "metadata": {},
   "outputs": [],
   "source": [
    "df_pairs = get_finalpairs_df(df_b_axials,df_b_sags,subjects)"
   ]
  },
  {
   "cell_type": "code",
   "execution_count": null,
   "metadata": {},
   "outputs": [],
   "source": [
    "save_object(df_pairs, os.path.join(output,'df_pairs.pkl'))"
   ]
  },
  {
   "cell_type": "markdown",
   "metadata": {},
   "source": [
    "# Section 9 - Save subjects with valid axial, sagittal pairs"
   ]
  },
  {
   "cell_type": "code",
   "execution_count": null,
   "metadata": {},
   "outputs": [],
   "source": [
    "df_pairs = load_object(os.path.join(output,'df_pairs.pkl'))\n",
    "\n",
    "subjects = load_object(os.path.join(output,'subjects_noduplicates.pkl'))"
   ]
  },
  {
   "cell_type": "code",
   "execution_count": null,
   "metadata": {},
   "outputs": [],
   "source": [
    "axial_series = load_object(os.path.join(output,'axial_series_filtered.pkl'))\n",
    "sagittal_series = load_object(os.path.join(output,'sagittal_series_filtered.pkl'))\n",
    "df_b_axials = load_object(os.path.join(output,'df_b_axials.pkl'))\n",
    "df_b_sags = load_object(os.path.join(output,'df_b_sags.pkl'))\n",
    "df_b = load_object(os.path.join(output,'df_b.pkl'))"
   ]
  },
  {
   "cell_type": "code",
   "execution_count": null,
   "metadata": {},
   "outputs": [],
   "source": [
    "print('Length Pairs: ', len(df_pairs))\n",
    "print('Length Subjects: ',len(subjects))"
   ]
  },
  {
   "cell_type": "code",
   "execution_count": null,
   "metadata": {},
   "outputs": [],
   "source": [
    "df_nopairs = df_pairs[(df_pairs['Axial'].isnull()) & (df_pairs['Sagittal'].isnull())]\n",
    "print('Missing axial and sagittals: ',len(df_nopairs))\n",
    "df_noaxials_only = df_pairs[(df_pairs['Axial'].isnull()) & (df_pairs['Sagittal'].notnull()) ]\n",
    "print('Missing axials only :', len(df_noaxials_only))\n",
    "\n",
    "df_nosags_only = df_pairs[(df_pairs['Axial'].notnull()) & (df_pairs['Sagittal'].isnull()) ]\n",
    "print('Missing Sagittals only :',len(df_nosags_only))\n",
    "\n",
    "\n",
    "df_validpairs = df_pairs[(df_pairs['Axial'].notnull()) & (df_pairs['Sagittal'].notnull()) ]\n",
    "print('valid pairs :',len(df_validpairs))"
   ]
  },
  {
   "cell_type": "code",
   "execution_count": null,
   "metadata": {},
   "outputs": [],
   "source": [
    "# incomplete df\n",
    "df_incomp  = df_nopairs\n",
    "df_incomp = df_incomp.append(df_noaxials_only)\n",
    "df_incomp = df_incomp.append(df_nosags_only)\n",
    "print(len(df_incomp))"
   ]
  },
  {
   "cell_type": "code",
   "execution_count": null,
   "metadata": {},
   "outputs": [],
   "source": [
    "# Save valid pairs and throw remaining series\n",
    "save_object(df_validpairs, os.path.join(output,'df_validpairs.pkl'))\n",
    "save_object(df_incomp, os.path.join(output,'df_incomp.pkl'))"
   ]
  },
  {
   "cell_type": "code",
   "execution_count": null,
   "metadata": {},
   "outputs": [],
   "source": [
    "# Save valid subjects\n",
    "valid_subjects = []\n",
    "incomp_subjects = []\n",
    "for s in subjects:\n",
    "    if s.id_ in df_validpairs[['ID']].values:\n",
    "        valid_subjects.append(s)\n",
    "    else:\n",
    "        incomp_subjects.append(s)\n",
    "\n",
    "print('Valid subjects: ', len(valid_subjects))        \n",
    "print('Incomplete subjects: ', len(incomp_subjects))        \n",
    "        \n",
    "save_object(valid_subjects, os.path.join(output,'valid_subjects.pkl'))\n",
    "save_object(incomp_subjects, os.path.join(output,'incomp_subjects.pkl'))"
   ]
  },
  {
   "cell_type": "code",
   "execution_count": null,
   "metadata": {},
   "outputs": [],
   "source": [
    "# Save valid series and incomplete series\n",
    "valid_axials = []\n",
    "valid_sags = []\n",
    "incomp_axials = []\n",
    "incomp_sags = []\n",
    "for a in axial_series:\n",
    "    if a.id_ in df_validpairs[['Axial']].values:\n",
    "        valid_axials.append(a)\n",
    "    else:\n",
    "        incomp_axials.append(a)\n",
    "\n",
    "for s in sagittal_series:\n",
    "    if s.id_ in df_validpairs[['Sagittal']].values:\n",
    "        valid_sags.append(s)\n",
    "    else:\n",
    "        if s.number_of_dicoms > 5:\n",
    "            incomp_sags.append(s)"
   ]
  },
  {
   "cell_type": "code",
   "execution_count": null,
   "metadata": {},
   "outputs": [],
   "source": [
    "print('axial_series: ', len(axial_series))\n",
    "print('valid_axials: ', len(valid_axials))\n",
    "print('incomp_axials: ', len(incomp_axials))"
   ]
  },
  {
   "cell_type": "code",
   "execution_count": null,
   "metadata": {},
   "outputs": [],
   "source": [
    "print('sagittal_series: ', len(sagittal_series))\n",
    "print('valid_sags: ', len(valid_sags))\n",
    "print('incomp_sags: ', len(incomp_sags))"
   ]
  },
  {
   "cell_type": "code",
   "execution_count": null,
   "metadata": {},
   "outputs": [],
   "source": [
    "save_object(valid_axials, os.path.join(output,'valid_axials.pkl'))\n",
    "save_object(valid_sags, os.path.join(output,'valid_sags.pkl'))"
   ]
  },
  {
   "cell_type": "markdown",
   "metadata": {},
   "source": [
    "# Section 10 - Invesitgate incomplete subjects\n"
   ]
  },
  {
   "cell_type": "code",
   "execution_count": null,
   "metadata": {},
   "outputs": [],
   "source": [
    "# Load incomplete subjects\n",
    "df_incomp= load_object(os.path.join(output,'df_incomp.pkl'))\n",
    "subjects = load_object(os.path.join(output,'incomp_subjects.pkl'))"
   ]
  },
  {
   "cell_type": "code",
   "execution_count": null,
   "metadata": {},
   "outputs": [],
   "source": [
    "# Load unfiltered series\n",
    "axial_series = load_object(os.path.join(output,'axial_series.pkl'))\n",
    "sagittal_series = load_object(os.path.join(output,'sagittal_series.pkl'))\n",
    "\n",
    "df_a_axials = load_object(os.path.join(output,'df_a_axials.pkl'))\n",
    "df_a_sags = load_object(os.path.join(output,'df_a_sags.pkl'))"
   ]
  },
  {
   "cell_type": "code",
   "execution_count": null,
   "metadata": {},
   "outputs": [],
   "source": [
    "print(\" No of incomplete subjects: \", len(df_incomp))"
   ]
  },
  {
   "cell_type": "code",
   "execution_count": null,
   "metadata": {},
   "outputs": [],
   "source": [
    "print(len(axial_series))\n",
    "print(len(sagittal_series))"
   ]
  },
  {
   "cell_type": "code",
   "execution_count": null,
   "metadata": {},
   "outputs": [],
   "source": [
    "# select series belonging to incomplete subjects alone\n",
    "axial_series = [series for series in axial_series if series.subject.id_ in df_incomp['ID'].values]\n",
    "sagittal_series = [series for series in sagittal_series if series.subject.id_ in df_incomp['ID'].values]\n",
    "\n",
    "#similary for dfs\n",
    "df_i_axials = df_a_axials.loc[df_a_axials['ID'].isin(df_incomp['ID'].values)]\n",
    "df_i_sags = df_a_sags.loc[df_a_sags['ID'].isin(df_incomp['ID'].values)]"
   ]
  },
  {
   "cell_type": "code",
   "execution_count": null,
   "metadata": {},
   "outputs": [],
   "source": [
    "display(df_i_axials.head(10))"
   ]
  },
  {
   "cell_type": "code",
   "execution_count": null,
   "metadata": {},
   "outputs": [],
   "source": [
    "print(len(axial_series))\n",
    "print(len(sagittal_series))"
   ]
  },
  {
   "cell_type": "code",
   "execution_count": null,
   "metadata": {},
   "outputs": [],
   "source": [
    "df_incomp_pairs = get_finalpairs_df(df_i_axials,df_i_sags,subjects)"
   ]
  },
  {
   "cell_type": "code",
   "execution_count": null,
   "metadata": {},
   "outputs": [],
   "source": [
    "save_object(df_incomp_pairs, os.path.join(output,'df_incomp_pairs.pkl'))\n",
    "\n",
    "save_object(df_i_axials, os.path.join(output,'df_i_axials.pkl'))\n",
    "save_object(df_i_sags, os.path.join(output,'df_i_sags.pkl'))\n",
    "\n",
    "save_object(axial_series, os.path.join(output,'axial_series_i.pkl'))\n",
    "save_object(sagittal_series, os.path.join(output,'sagittal_series_i.pkl'))"
   ]
  },
  {
   "cell_type": "markdown",
   "metadata": {},
   "source": [
    "# Section 11 - Build new filter to handle incomplete subjects"
   ]
  },
  {
   "cell_type": "code",
   "execution_count": null,
   "metadata": {},
   "outputs": [],
   "source": [
    "#Load incomplete subjects\n",
    "subjects = load_object(os.path.join(output,'incomp_subjects.pkl'))"
   ]
  },
  {
   "cell_type": "code",
   "execution_count": null,
   "metadata": {},
   "outputs": [],
   "source": [
    "df_incomp_pairs = load_object(os.path.join(output,'df_incomp_pairs.pkl'))"
   ]
  },
  {
   "cell_type": "code",
   "execution_count": null,
   "metadata": {},
   "outputs": [],
   "source": [
    "len(df_incomp_pairs)"
   ]
  },
  {
   "cell_type": "code",
   "execution_count": null,
   "metadata": {},
   "outputs": [],
   "source": [
    "# Load unfiltered series\n",
    "axial_series = load_object(os.path.join(output,'axial_series_i.pkl'))\n",
    "sagittal_series = load_object(os.path.join(output,'sagittal_series_i.pkl'))\n",
    "\n",
    "df_i_axials = load_object(os.path.join(output,'df_i_axials.pkl'))\n",
    "df_i_sags = load_object(os.path.join(output,'df_i_sags.pkl'))"
   ]
  },
  {
   "cell_type": "code",
   "execution_count": null,
   "metadata": {},
   "outputs": [],
   "source": [
    "df_incomp_pairs.head(10)"
   ]
  },
  {
   "cell_type": "code",
   "execution_count": null,
   "metadata": {},
   "outputs": [],
   "source": [
    "test = filter_finalpairs('Z1000273',df_i_axials,df_i_sags,subjects)\n",
    "print(test)"
   ]
  },
  {
   "cell_type": "code",
   "execution_count": null,
   "metadata": {},
   "outputs": [],
   "source": [
    "axial_series[0].slice_thickness"
   ]
  },
  {
   "cell_type": "code",
   "execution_count": null,
   "metadata": {},
   "outputs": [],
   "source": [
    "%%time\n",
    "# Debuga\n",
    "from L3_finder import *\n",
    "from l3finder.ingest import *\n",
    "from multiprocessing import get_context\n",
    "from multiprocessing import set_start_method\n",
    "#set_start_method(\"spawn\")\n",
    "\n",
    "if __name__=='__main__':\n",
    "    # Find series images\n",
    "    print(\"Finding IDs\")\n",
    "    \n",
    "    IDs = [s.id_ for s in subjects]\n",
    "    \n",
    "    #IDs = IDs[:20]\n",
    "    \n",
    "    pair_filter = functools.partial(\n",
    "        filter_finalpairs,\n",
    "        df_ax=df_i_axials,\n",
    "        df_sag=df_i_sags,\n",
    "        subjects=subjects\n",
    "    )\n",
    "    \n",
    "    def pool_filter(pool, func, candidates):\n",
    "        return [result for result in tqdm(pool.imap_unordered(func, candidates),total=len(candidates))]\n",
    "    \n",
    "    print('Filtering series using ', multiprocessing.cpu_count(), ' cores:')\n",
    "        \n",
    "    with get_context(\"spawn\").Pool(processes=14) as p:\n",
    "        out_params = pool_filter(p, pair_filter, IDs)\n",
    "        p.close()\n",
    "        p.join()\n",
    "    \n",
    "    print('parallel processing over')\n",
    "     # Start from here\n",
    "    df  = pd.DataFrame(columns=['ID','Axial','Sagittal','Overlap','MissingScore','PairValidity', \n",
    "                                'AxSlices','SagSlices','AxThick','SagThick'])\n",
    "    for i,op in enumerate(out_params):\n",
    "        df.loc[i] = op\n",
    "\n",
    "    print(\"Processed\")"
   ]
  },
  {
   "cell_type": "code",
   "execution_count": null,
   "metadata": {},
   "outputs": [],
   "source": [
    "display(df.head(100))"
   ]
  },
  {
   "cell_type": "code",
   "execution_count": null,
   "metadata": {},
   "outputs": [],
   "source": [
    "save_object(df, os.path.join(output,'df_incomp_pairs_gt10filter.pkl'))"
   ]
  },
  {
   "cell_type": "code",
   "execution_count": null,
   "metadata": {},
   "outputs": [],
   "source": [
    "%%time\n",
    "# Single core\n",
    "if __name__=='__main__':\n",
    "    # Find series images\n",
    "    print(\"Finding IDs\")\n",
    "    \n",
    "    IDs = [s.id_ for s in subjects]\n",
    "    \n",
    "    IDs = IDs[:5]\n",
    "\n",
    "    dfs  = pd.DataFrame(columns=['ID','Axial','Sagittal','Overlap','MissingScore','PairValidity','AxSlices','SagSlices'])\n",
    "    for i,ID in tqdm(enumerate(IDs),total=len(IDs)): \n",
    "        dfs.loc[i] = filter_finalpairs(ID,df_i_axials,df_i_sags,subjects)\n",
    "    \n",
    "    display(dfs)"
   ]
  },
  {
   "cell_type": "markdown",
   "metadata": {},
   "source": [
    "# Section 11b - Investigate old filter vs new "
   ]
  },
  {
   "cell_type": "code",
   "execution_count": 5,
   "metadata": {},
   "outputs": [],
   "source": [
    "# Incomplete subjects from old filter\n",
    "df_incomp_1= load_object(os.path.join(output,'df_incomp.pkl'))\n",
    "subjects = load_object(os.path.join(output,'incomp_subjects.pkl'))"
   ]
  },
  {
   "cell_type": "code",
   "execution_count": 6,
   "metadata": {},
   "outputs": [],
   "source": [
    "# Results from new filter\n",
    "df_incomp_2 = load_object(os.path.join(output,'df_incomp_pairs_gt10filter.pkl'))\n",
    "\n",
    "axial_series = load_object(os.path.join(output,'axial_series_i.pkl'))\n",
    "sagittal_series = load_object(os.path.join(output,'sagittal_series_i.pkl'))\n",
    "\n",
    "\n",
    "ex_subjects = []\n",
    "def remove_subjects(ID):\n",
    "    global subjects,ex_subjects,axial_series,sagittal_series\n",
    "    subjects,axial_series,sagittal_series,ex_subjects=exclude_subjects(subjects,\n",
    "                                                                  axial_series,\n",
    "                                                                  sagittal_series,\n",
    "                                                                  ex_subjects,\n",
    "                                                                  ID)\n",
    "    print(ID, ' Removed from subject and series objects')"
   ]
  },
  {
   "cell_type": "code",
   "execution_count": 7,
   "metadata": {},
   "outputs": [
    {
     "name": "stdout",
     "output_type": "stream",
     "text": [
      "Subjects:  905\n",
      "df_incomp_1:  905\n",
      "df_incomp_2:  905\n"
     ]
    }
   ],
   "source": [
    "print('Subjects: ', len(subjects))\n",
    "print('df_incomp_1: ', len(df_incomp_1))\n",
    "print('df_incomp_2: ', len(df_incomp_2))"
   ]
  },
  {
   "cell_type": "code",
   "execution_count": 8,
   "metadata": {},
   "outputs": [],
   "source": [
    "# drop unknown IDs in df2\n",
    "df_incomp_2 = df_incomp_2.dropna(subset=['ID'])"
   ]
  },
  {
   "cell_type": "code",
   "execution_count": 9,
   "metadata": {},
   "outputs": [
    {
     "name": "stdout",
     "output_type": "stream",
     "text": [
      "Missing Sagittals only in df 1: 842\n",
      "Missing Sagittals only in df 2 : 784\n",
      "complete pairs in df 1 : 0\n",
      "complete pairs in df 2 : 119\n",
      "Missing axials only in df 1 : 12\n",
      "Missing axials only in df 2 : 0\n",
      "Missing axials and sags in df 1 : 51\n",
      "Missing axials and sags in df 2 : 0\n"
     ]
    }
   ],
   "source": [
    "# Sagittals only\n",
    "df_ax_nosag_1 = df_incomp_1[(df_incomp_1['Axial'].notnull()) & (df_incomp_1['Sagittal'].isnull()) ]\n",
    "print('Missing Sagittals only in df 1:',len(df_ax_nosag_1))\n",
    "\n",
    "df_ax_nosag_2 = df_incomp_2[(df_incomp_2['Axial'].notnull()) & (df_incomp_2['Sagittal'].isnull()) ]\n",
    "print('Missing Sagittals only in df 2 :',len(df_ax_nosag_2))\n",
    "\n",
    "\n",
    "df_ax_sag_1 = df_incomp_1[(df_incomp_1['Axial'].notnull()) & (df_incomp_1['Sagittal'].notnull()) ]\n",
    "print('complete pairs in df 1 :',len(df_ax_sag_1))\n",
    "\n",
    "df_ax_sag_2 = df_incomp_2[(df_incomp_2['Axial'].notnull()) & (df_incomp_2['Sagittal'].notnull()) ]\n",
    "print('complete pairs in df 2 :',len(df_ax_sag_2))\n",
    "\n",
    "\n",
    "# Axials only\n",
    "df_noax_1 = df_incomp_1[(df_incomp_1['Axial'].isnull()) & (df_incomp_1['Sagittal'].notnull()) ]\n",
    "print('Missing axials only in df 1 :',len(df_noax_1))\n",
    "\n",
    "df_noax_2 = df_incomp_2[(df_incomp_2['Axial'].isnull()) & (df_incomp_2['Sagittal'].notnull()) ]\n",
    "print('Missing axials only in df 2 :',len(df_noax_2))\n",
    "\n",
    "# Both missing\n",
    "df_noax_nosag_1 = df_incomp_1[(df_incomp_1['Axial'].isnull()) & (df_incomp_1['Sagittal'].isnull()) ]\n",
    "print('Missing axials and sags in df 1 :',len(df_noax_nosag_1))\n",
    "\n",
    "df_noax_nosag_2 = df_incomp_2[(df_incomp_2['Axial'].isnull()) & (df_incomp_2['Sagittal'].isnull()) ]\n",
    "print('Missing axials and sags in df 2 :',len(df_noax_nosag_2))"
   ]
  },
  {
   "cell_type": "code",
   "execution_count": 10,
   "metadata": {},
   "outputs": [],
   "source": [
    "# FInal complete valid dataframe, call it df_valid_lq (low quality as the first valid df is higher quality)"
   ]
  },
  {
   "cell_type": "code",
   "execution_count": 11,
   "metadata": {},
   "outputs": [],
   "source": [
    "df_valid_lq = df_incomp_1.copy()"
   ]
  },
  {
   "cell_type": "markdown",
   "metadata": {},
   "source": [
    "### Remove Cases not in df_incomp_2:"
   ]
  },
  {
   "cell_type": "code",
   "execution_count": 12,
   "metadata": {},
   "outputs": [
    {
     "name": "stdout",
     "output_type": "stream",
     "text": [
      "903\n"
     ]
    }
   ],
   "source": [
    "# Remove cases not in df_2\n",
    "missingID = df_incomp_1[~df_incomp_1['ID'].isin(df_incomp_2['ID'].values)]['ID'].values.tolist()\n",
    "df_valid_lq = df_valid_lq[~df_valid_lq['ID'].isin(missingID)]\n",
    "print(len(df_valid_lq))"
   ]
  },
  {
   "cell_type": "markdown",
   "metadata": {},
   "source": [
    "### Keep complete cases from df_incomp_2 when df_incomp_1 does not have axial series types."
   ]
  },
  {
   "cell_type": "code",
   "execution_count": 13,
   "metadata": {},
   "outputs": [
    {
     "data": {
      "text/html": [
       "<div>\n",
       "<style scoped>\n",
       "    .dataframe tbody tr th:only-of-type {\n",
       "        vertical-align: middle;\n",
       "    }\n",
       "\n",
       "    .dataframe tbody tr th {\n",
       "        vertical-align: top;\n",
       "    }\n",
       "\n",
       "    .dataframe thead th {\n",
       "        text-align: right;\n",
       "    }\n",
       "</style>\n",
       "<table border=\"1\" class=\"dataframe\">\n",
       "  <thead>\n",
       "    <tr style=\"text-align: right;\">\n",
       "      <th></th>\n",
       "      <th>ID</th>\n",
       "      <th>Axial</th>\n",
       "      <th>Sagittal</th>\n",
       "      <th>Overlap</th>\n",
       "      <th>MissingScore</th>\n",
       "      <th>PairValidity</th>\n",
       "      <th>AxSlices</th>\n",
       "      <th>SagSlices</th>\n",
       "    </tr>\n",
       "  </thead>\n",
       "  <tbody>\n",
       "    <tr>\n",
       "      <th>65</th>\n",
       "      <td>Z1041413</td>\n",
       "      <td>None</td>\n",
       "      <td>Z1041413-SE-7-Stnd_Pediatric_2.0_CE</td>\n",
       "      <td>None</td>\n",
       "      <td>1.007</td>\n",
       "      <td>None</td>\n",
       "      <td>None</td>\n",
       "      <td>139</td>\n",
       "    </tr>\n",
       "    <tr>\n",
       "      <th>194</th>\n",
       "      <td>Z1140026</td>\n",
       "      <td>None</td>\n",
       "      <td>Z1140026-SE-602-L_Spine_Sagittal_2mmx2mm</td>\n",
       "      <td>None</td>\n",
       "      <td>1.006</td>\n",
       "      <td>None</td>\n",
       "      <td>None</td>\n",
       "      <td>167</td>\n",
       "    </tr>\n",
       "    <tr>\n",
       "      <th>235</th>\n",
       "      <td>Z1174241</td>\n",
       "      <td>None</td>\n",
       "      <td>Z1174241-SE-8-Body_Std._Axial_AIDR_-_H_Sagitta...</td>\n",
       "      <td>None</td>\n",
       "      <td>0.908</td>\n",
       "      <td>None</td>\n",
       "      <td>None</td>\n",
       "      <td>79</td>\n",
       "    </tr>\n",
       "    <tr>\n",
       "      <th>318</th>\n",
       "      <td>Z1224134</td>\n",
       "      <td>None</td>\n",
       "      <td>Z1224134-SE-602-SAG</td>\n",
       "      <td>None</td>\n",
       "      <td>1.013</td>\n",
       "      <td>None</td>\n",
       "      <td>None</td>\n",
       "      <td>160</td>\n",
       "    </tr>\n",
       "    <tr>\n",
       "      <th>437</th>\n",
       "      <td>Z1302641</td>\n",
       "      <td>None</td>\n",
       "      <td>Z1302641-SE-80325-MPR,_SAGITTAL,_Sagittal</td>\n",
       "      <td>None</td>\n",
       "      <td>0.003</td>\n",
       "      <td>None</td>\n",
       "      <td>None</td>\n",
       "      <td>64</td>\n",
       "    </tr>\n",
       "    <tr>\n",
       "      <th>633</th>\n",
       "      <td>Z1687886</td>\n",
       "      <td>None</td>\n",
       "      <td>Z1687886-SE-6-Stnd_Pediatric_3.0_CE</td>\n",
       "      <td>None</td>\n",
       "      <td>1.011</td>\n",
       "      <td>None</td>\n",
       "      <td>None</td>\n",
       "      <td>93</td>\n",
       "    </tr>\n",
       "    <tr>\n",
       "      <th>1055</th>\n",
       "      <td>Z465714</td>\n",
       "      <td>None</td>\n",
       "      <td>Z465714-SE-12-Sagittal_Body_Sagittal_3.000</td>\n",
       "      <td>None</td>\n",
       "      <td>1.925</td>\n",
       "      <td>None</td>\n",
       "      <td>None</td>\n",
       "      <td>102</td>\n",
       "    </tr>\n",
       "    <tr>\n",
       "      <th>1142</th>\n",
       "      <td>Z505334</td>\n",
       "      <td>None</td>\n",
       "      <td>Z505334-SE-602-Sagital_Abdomen</td>\n",
       "      <td>None</td>\n",
       "      <td>0.144</td>\n",
       "      <td>None</td>\n",
       "      <td>None</td>\n",
       "      <td>72</td>\n",
       "    </tr>\n",
       "    <tr>\n",
       "      <th>1456</th>\n",
       "      <td>Z651305</td>\n",
       "      <td>None</td>\n",
       "      <td>Z651305-SE-23-Sagittal_Body_Sagittal_3.000</td>\n",
       "      <td>None</td>\n",
       "      <td>4.581</td>\n",
       "      <td>None</td>\n",
       "      <td>None</td>\n",
       "      <td>47</td>\n",
       "    </tr>\n",
       "    <tr>\n",
       "      <th>1680</th>\n",
       "      <td>Z846542</td>\n",
       "      <td>None</td>\n",
       "      <td>Z846542-SE-602-L_Spine_Sagittal_2mmx2mm</td>\n",
       "      <td>None</td>\n",
       "      <td>1.011</td>\n",
       "      <td>None</td>\n",
       "      <td>None</td>\n",
       "      <td>184</td>\n",
       "    </tr>\n",
       "    <tr>\n",
       "      <th>1729</th>\n",
       "      <td>Z867082</td>\n",
       "      <td>None</td>\n",
       "      <td>Z867082-SE-602-L_Spine_Sagittal_2mmx2mm</td>\n",
       "      <td>None</td>\n",
       "      <td>1.007</td>\n",
       "      <td>None</td>\n",
       "      <td>None</td>\n",
       "      <td>153</td>\n",
       "    </tr>\n",
       "    <tr>\n",
       "      <th>1968</th>\n",
       "      <td>Z942281</td>\n",
       "      <td>None</td>\n",
       "      <td>Z942281-SE-5-Sag-MIP_Body_Sag-MIP_4.0</td>\n",
       "      <td>None</td>\n",
       "      <td>2.026</td>\n",
       "      <td>None</td>\n",
       "      <td>None</td>\n",
       "      <td>134</td>\n",
       "    </tr>\n",
       "  </tbody>\n",
       "</table>\n",
       "</div>"
      ],
      "text/plain": [
       "            ID Axial                                           Sagittal  \\\n",
       "65    Z1041413  None                Z1041413-SE-7-Stnd_Pediatric_2.0_CE   \n",
       "194   Z1140026  None           Z1140026-SE-602-L_Spine_Sagittal_2mmx2mm   \n",
       "235   Z1174241  None  Z1174241-SE-8-Body_Std._Axial_AIDR_-_H_Sagitta...   \n",
       "318   Z1224134  None                                Z1224134-SE-602-SAG   \n",
       "437   Z1302641  None          Z1302641-SE-80325-MPR,_SAGITTAL,_Sagittal   \n",
       "633   Z1687886  None                Z1687886-SE-6-Stnd_Pediatric_3.0_CE   \n",
       "1055   Z465714  None         Z465714-SE-12-Sagittal_Body_Sagittal_3.000   \n",
       "1142   Z505334  None                     Z505334-SE-602-Sagital_Abdomen   \n",
       "1456   Z651305  None         Z651305-SE-23-Sagittal_Body_Sagittal_3.000   \n",
       "1680   Z846542  None            Z846542-SE-602-L_Spine_Sagittal_2mmx2mm   \n",
       "1729   Z867082  None            Z867082-SE-602-L_Spine_Sagittal_2mmx2mm   \n",
       "1968   Z942281  None              Z942281-SE-5-Sag-MIP_Body_Sag-MIP_4.0   \n",
       "\n",
       "     Overlap MissingScore PairValidity AxSlices SagSlices  \n",
       "65      None        1.007         None     None       139  \n",
       "194     None        1.006         None     None       167  \n",
       "235     None        0.908         None     None        79  \n",
       "318     None        1.013         None     None       160  \n",
       "437     None        0.003         None     None        64  \n",
       "633     None        1.011         None     None        93  \n",
       "1055    None        1.925         None     None       102  \n",
       "1142    None        0.144         None     None        72  \n",
       "1456    None        4.581         None     None        47  \n",
       "1680    None        1.011         None     None       184  \n",
       "1729    None        1.007         None     None       153  \n",
       "1968    None        2.026         None     None       134  "
      ]
     },
     "metadata": {},
     "output_type": "display_data"
    }
   ],
   "source": [
    "completeIDs = df_incomp_2[df_incomp_2['Axial'].notnull() & df_incomp_2['Sagittal'].notnull()]['ID'].values.tolist()\n",
    "\n",
    "# Print missing axials in df1\n",
    "display(df_noax_1)"
   ]
  },
  {
   "cell_type": "code",
   "execution_count": 14,
   "metadata": {},
   "outputs": [
    {
     "data": {
      "text/html": [
       "<div>\n",
       "<style scoped>\n",
       "    .dataframe tbody tr th:only-of-type {\n",
       "        vertical-align: middle;\n",
       "    }\n",
       "\n",
       "    .dataframe tbody tr th {\n",
       "        vertical-align: top;\n",
       "    }\n",
       "\n",
       "    .dataframe thead th {\n",
       "        text-align: right;\n",
       "    }\n",
       "</style>\n",
       "<table border=\"1\" class=\"dataframe\">\n",
       "  <thead>\n",
       "    <tr style=\"text-align: right;\">\n",
       "      <th></th>\n",
       "      <th>ID</th>\n",
       "      <th>Axial</th>\n",
       "      <th>Sagittal</th>\n",
       "      <th>Overlap</th>\n",
       "      <th>MissingScore</th>\n",
       "      <th>PairValidity</th>\n",
       "      <th>AxSlices</th>\n",
       "      <th>SagSlices</th>\n",
       "      <th>AxThick</th>\n",
       "      <th>SagThick</th>\n",
       "    </tr>\n",
       "  </thead>\n",
       "  <tbody>\n",
       "    <tr>\n",
       "      <th>34</th>\n",
       "      <td>Z1041413</td>\n",
       "      <td>Z1041413-SE-4-Stnd_Pediatric_2.0_CE</td>\n",
       "      <td>Z1041413-SE-9-Stnd_Pediatric_2.0_CE</td>\n",
       "      <td>0.662</td>\n",
       "      <td>1.000</td>\n",
       "      <td>1.662</td>\n",
       "      <td>213</td>\n",
       "      <td>135</td>\n",
       "      <td>2.0</td>\n",
       "      <td>2</td>\n",
       "    </tr>\n",
       "    <tr>\n",
       "      <th>71</th>\n",
       "      <td>Z1140026</td>\n",
       "      <td>Z1140026-SE-2-ABD_PELVIS</td>\n",
       "      <td>Z1140026-SE-602-L_Spine_Sagittal_2mmx2mm</td>\n",
       "      <td>0</td>\n",
       "      <td>1.000</td>\n",
       "      <td>1</td>\n",
       "      <td>144</td>\n",
       "      <td>167</td>\n",
       "      <td>2.5</td>\n",
       "      <td>2</td>\n",
       "    </tr>\n",
       "    <tr>\n",
       "      <th>114</th>\n",
       "      <td>Z1174241</td>\n",
       "      <td>Z1174241-SE-6-Body_Std._Axial_AIDR_-_H_Vol._0.5</td>\n",
       "      <td>Z1174241-SE-13-Bone_Sharp_Sagittal_3.000</td>\n",
       "      <td>0.993</td>\n",
       "      <td>0.959</td>\n",
       "      <td>1.952</td>\n",
       "      <td>1992</td>\n",
       "      <td>63</td>\n",
       "      <td>0.5</td>\n",
       "      <td>3</td>\n",
       "    </tr>\n",
       "    <tr>\n",
       "      <th>130</th>\n",
       "      <td>Z1224134</td>\n",
       "      <td>Z1224134-SE-2-ABD_PELVIS</td>\n",
       "      <td>Z1224134-SE-602-SAG</td>\n",
       "      <td>0.996</td>\n",
       "      <td>1.000</td>\n",
       "      <td>1.996</td>\n",
       "      <td>195</td>\n",
       "      <td>160</td>\n",
       "      <td>2.5</td>\n",
       "      <td>2</td>\n",
       "    </tr>\n",
       "    <tr>\n",
       "      <th>180</th>\n",
       "      <td>Z1302641</td>\n",
       "      <td>Z1302641-SE-2-2MM_ID_4</td>\n",
       "      <td>Z1302641-SE-80325-MPR,_SAGITTAL,_Sagittal</td>\n",
       "      <td>0.003</td>\n",
       "      <td>0.009</td>\n",
       "      <td>0.012</td>\n",
       "      <td>188</td>\n",
       "      <td>64</td>\n",
       "      <td>2.0</td>\n",
       "      <td>3</td>\n",
       "    </tr>\n",
       "    <tr>\n",
       "      <th>266</th>\n",
       "      <td>Z1687886</td>\n",
       "      <td>Z1687886-SE-4-Stnd_Pediatric_0.5_CE</td>\n",
       "      <td>Z1687886-SE-6-Stnd_Pediatric_3.0_CE</td>\n",
       "      <td>1</td>\n",
       "      <td>1.000</td>\n",
       "      <td>2</td>\n",
       "      <td>1317</td>\n",
       "      <td>93</td>\n",
       "      <td>0.5</td>\n",
       "      <td>3</td>\n",
       "    </tr>\n",
       "    <tr>\n",
       "      <th>411</th>\n",
       "      <td>Z465714</td>\n",
       "      <td>Z465714-SE-4-Axial_Body_2.0</td>\n",
       "      <td>Z465714-SE-12-Sagittal_Body_Sagittal_3.000</td>\n",
       "      <td>0.995</td>\n",
       "      <td>1.000</td>\n",
       "      <td>1.995</td>\n",
       "      <td>200</td>\n",
       "      <td>102</td>\n",
       "      <td>2.0</td>\n",
       "      <td>3</td>\n",
       "    </tr>\n",
       "    <tr>\n",
       "      <th>437</th>\n",
       "      <td>Z505334</td>\n",
       "      <td>Z505334-SE-2-ABD_PELVIS</td>\n",
       "      <td>Z505334-SE-602-Sagital_Abdomen</td>\n",
       "      <td>0</td>\n",
       "      <td>0.616</td>\n",
       "      <td>0.616</td>\n",
       "      <td>175</td>\n",
       "      <td>72</td>\n",
       "      <td>2.5</td>\n",
       "      <td>0.703125</td>\n",
       "    </tr>\n",
       "    <tr>\n",
       "      <th>584</th>\n",
       "      <td>Z651305</td>\n",
       "      <td>Z651305-SE-7-Vol_Body_Vol._0.5</td>\n",
       "      <td>Z651305-SE-9005-Sag-MIP_Body_Sag-MIP_4.000</td>\n",
       "      <td>0.763</td>\n",
       "      <td>1.000</td>\n",
       "      <td>1.763</td>\n",
       "      <td>458</td>\n",
       "      <td>77</td>\n",
       "      <td>0.5</td>\n",
       "      <td>4</td>\n",
       "    </tr>\n",
       "    <tr>\n",
       "      <th>675</th>\n",
       "      <td>Z846542</td>\n",
       "      <td>Z846542-SE-2-ABD_PELVIS</td>\n",
       "      <td>Z846542-SE-602-L_Spine_Sagittal_2mmx2mm</td>\n",
       "      <td>0</td>\n",
       "      <td>1.000</td>\n",
       "      <td>1</td>\n",
       "      <td>168</td>\n",
       "      <td>184</td>\n",
       "      <td>2.5</td>\n",
       "      <td>2</td>\n",
       "    </tr>\n",
       "    <tr>\n",
       "      <th>713</th>\n",
       "      <td>Z867082</td>\n",
       "      <td>Z867082-SE-2-ABD_PELVIS</td>\n",
       "      <td>Z867082-SE-602-L_Spine_Sagittal_2mmx2mm</td>\n",
       "      <td>0</td>\n",
       "      <td>1.000</td>\n",
       "      <td>1</td>\n",
       "      <td>155</td>\n",
       "      <td>153</td>\n",
       "      <td>2.5</td>\n",
       "      <td>2</td>\n",
       "    </tr>\n",
       "    <tr>\n",
       "      <th>871</th>\n",
       "      <td>Z942281</td>\n",
       "      <td>Z942281-SE-2-Axial_Body_2.0</td>\n",
       "      <td>Z942281-SE-5-Sag-MIP_Body_Sag-MIP_4.0</td>\n",
       "      <td>0.883</td>\n",
       "      <td>1.000</td>\n",
       "      <td>1.883</td>\n",
       "      <td>129</td>\n",
       "      <td>134</td>\n",
       "      <td>2.0</td>\n",
       "      <td>4</td>\n",
       "    </tr>\n",
       "  </tbody>\n",
       "</table>\n",
       "</div>"
      ],
      "text/plain": [
       "           ID                                            Axial  \\\n",
       "34   Z1041413              Z1041413-SE-4-Stnd_Pediatric_2.0_CE   \n",
       "71   Z1140026                         Z1140026-SE-2-ABD_PELVIS   \n",
       "114  Z1174241  Z1174241-SE-6-Body_Std._Axial_AIDR_-_H_Vol._0.5   \n",
       "130  Z1224134                         Z1224134-SE-2-ABD_PELVIS   \n",
       "180  Z1302641                           Z1302641-SE-2-2MM_ID_4   \n",
       "266  Z1687886              Z1687886-SE-4-Stnd_Pediatric_0.5_CE   \n",
       "411   Z465714                      Z465714-SE-4-Axial_Body_2.0   \n",
       "437   Z505334                          Z505334-SE-2-ABD_PELVIS   \n",
       "584   Z651305                   Z651305-SE-7-Vol_Body_Vol._0.5   \n",
       "675   Z846542                          Z846542-SE-2-ABD_PELVIS   \n",
       "713   Z867082                          Z867082-SE-2-ABD_PELVIS   \n",
       "871   Z942281                      Z942281-SE-2-Axial_Body_2.0   \n",
       "\n",
       "                                       Sagittal Overlap  MissingScore  \\\n",
       "34          Z1041413-SE-9-Stnd_Pediatric_2.0_CE   0.662         1.000   \n",
       "71     Z1140026-SE-602-L_Spine_Sagittal_2mmx2mm       0         1.000   \n",
       "114    Z1174241-SE-13-Bone_Sharp_Sagittal_3.000   0.993         0.959   \n",
       "130                         Z1224134-SE-602-SAG   0.996         1.000   \n",
       "180   Z1302641-SE-80325-MPR,_SAGITTAL,_Sagittal   0.003         0.009   \n",
       "266         Z1687886-SE-6-Stnd_Pediatric_3.0_CE       1         1.000   \n",
       "411  Z465714-SE-12-Sagittal_Body_Sagittal_3.000   0.995         1.000   \n",
       "437              Z505334-SE-602-Sagital_Abdomen       0         0.616   \n",
       "584  Z651305-SE-9005-Sag-MIP_Body_Sag-MIP_4.000   0.763         1.000   \n",
       "675     Z846542-SE-602-L_Spine_Sagittal_2mmx2mm       0         1.000   \n",
       "713     Z867082-SE-602-L_Spine_Sagittal_2mmx2mm       0         1.000   \n",
       "871       Z942281-SE-5-Sag-MIP_Body_Sag-MIP_4.0   0.883         1.000   \n",
       "\n",
       "    PairValidity AxSlices SagSlices  AxThick  SagThick  \n",
       "34         1.662      213       135      2.0         2  \n",
       "71             1      144       167      2.5         2  \n",
       "114        1.952     1992        63      0.5         3  \n",
       "130        1.996      195       160      2.5         2  \n",
       "180        0.012      188        64      2.0         3  \n",
       "266            2     1317        93      0.5         3  \n",
       "411        1.995      200       102      2.0         3  \n",
       "437        0.616      175        72      2.5  0.703125  \n",
       "584        1.763      458        77      0.5         4  \n",
       "675            1      168       184      2.5         2  \n",
       "713            1      155       153      2.5         2  \n",
       "871        1.883      129       134      2.0         4  "
      ]
     },
     "metadata": {},
     "output_type": "display_data"
    }
   ],
   "source": [
    "# print corresponding df2 pairs\n",
    "df_2_dfnoax1 = df_incomp_2[df_incomp_2['ID'].isin(df_noax_1['ID'].values)]\n",
    "display(df_2_dfnoax1)"
   ]
  },
  {
   "cell_type": "code",
   "execution_count": 15,
   "metadata": {},
   "outputs": [
    {
     "data": {
      "text/html": [
       "<div>\n",
       "<style scoped>\n",
       "    .dataframe tbody tr th:only-of-type {\n",
       "        vertical-align: middle;\n",
       "    }\n",
       "\n",
       "    .dataframe tbody tr th {\n",
       "        vertical-align: top;\n",
       "    }\n",
       "\n",
       "    .dataframe thead th {\n",
       "        text-align: right;\n",
       "    }\n",
       "</style>\n",
       "<table border=\"1\" class=\"dataframe\">\n",
       "  <thead>\n",
       "    <tr style=\"text-align: right;\">\n",
       "      <th></th>\n",
       "      <th>ID</th>\n",
       "      <th>Axial</th>\n",
       "      <th>Sagittal</th>\n",
       "      <th>Overlap</th>\n",
       "      <th>MissingScore</th>\n",
       "      <th>PairValidity</th>\n",
       "      <th>AxSlices</th>\n",
       "      <th>SagSlices</th>\n",
       "    </tr>\n",
       "  </thead>\n",
       "  <tbody>\n",
       "    <tr>\n",
       "      <th>65</th>\n",
       "      <td>Z1041413</td>\n",
       "      <td>Z1041413-SE-4-Stnd_Pediatric_2.0_CE</td>\n",
       "      <td>None</td>\n",
       "      <td>0</td>\n",
       "      <td>1</td>\n",
       "      <td>1.662</td>\n",
       "      <td>213</td>\n",
       "      <td>None</td>\n",
       "    </tr>\n",
       "    <tr>\n",
       "      <th>194</th>\n",
       "      <td>Z1140026</td>\n",
       "      <td>Z1140026-SE-2-ABD_PELVIS</td>\n",
       "      <td>None</td>\n",
       "      <td>0</td>\n",
       "      <td>1</td>\n",
       "      <td>1</td>\n",
       "      <td>144</td>\n",
       "      <td>None</td>\n",
       "    </tr>\n",
       "    <tr>\n",
       "      <th>235</th>\n",
       "      <td>Z1174241</td>\n",
       "      <td>Z1174241-SE-6-Body_Std._Axial_AIDR_-_H_Vol._0.5</td>\n",
       "      <td>Z1174241-SE-13-Bone_Sharp_Sagittal_3.000</td>\n",
       "      <td>0.993</td>\n",
       "      <td>0.959</td>\n",
       "      <td>1.952</td>\n",
       "      <td>1992</td>\n",
       "      <td>63</td>\n",
       "    </tr>\n",
       "    <tr>\n",
       "      <th>318</th>\n",
       "      <td>Z1224134</td>\n",
       "      <td>Z1224134-SE-2-ABD_PELVIS</td>\n",
       "      <td>Z1224134-SE-602-SAG</td>\n",
       "      <td>0.996</td>\n",
       "      <td>1</td>\n",
       "      <td>1.996</td>\n",
       "      <td>195</td>\n",
       "      <td>160</td>\n",
       "    </tr>\n",
       "    <tr>\n",
       "      <th>437</th>\n",
       "      <td>Z1302641</td>\n",
       "      <td>Z1302641-SE-2-2MM_ID_4</td>\n",
       "      <td>None</td>\n",
       "      <td>0</td>\n",
       "      <td>0.009</td>\n",
       "      <td>0.012</td>\n",
       "      <td>188</td>\n",
       "      <td>None</td>\n",
       "    </tr>\n",
       "    <tr>\n",
       "      <th>633</th>\n",
       "      <td>Z1687886</td>\n",
       "      <td>Z1687886-SE-4-Stnd_Pediatric_0.5_CE</td>\n",
       "      <td>Z1687886-SE-6-Stnd_Pediatric_3.0_CE</td>\n",
       "      <td>1</td>\n",
       "      <td>1</td>\n",
       "      <td>2</td>\n",
       "      <td>1317</td>\n",
       "      <td>93</td>\n",
       "    </tr>\n",
       "    <tr>\n",
       "      <th>1055</th>\n",
       "      <td>Z465714</td>\n",
       "      <td>Z465714-SE-4-Axial_Body_2.0</td>\n",
       "      <td>Z465714-SE-12-Sagittal_Body_Sagittal_3.000</td>\n",
       "      <td>0.995</td>\n",
       "      <td>1</td>\n",
       "      <td>1.995</td>\n",
       "      <td>200</td>\n",
       "      <td>102</td>\n",
       "    </tr>\n",
       "    <tr>\n",
       "      <th>1142</th>\n",
       "      <td>Z505334</td>\n",
       "      <td>Z505334-SE-2-ABD_PELVIS</td>\n",
       "      <td>None</td>\n",
       "      <td>0</td>\n",
       "      <td>0.616</td>\n",
       "      <td>0.616</td>\n",
       "      <td>175</td>\n",
       "      <td>None</td>\n",
       "    </tr>\n",
       "    <tr>\n",
       "      <th>1456</th>\n",
       "      <td>Z651305</td>\n",
       "      <td>Z651305-SE-7-Vol_Body_Vol._0.5</td>\n",
       "      <td>Z651305-SE-9005-Sag-MIP_Body_Sag-MIP_4.000</td>\n",
       "      <td>0.763</td>\n",
       "      <td>1</td>\n",
       "      <td>1.763</td>\n",
       "      <td>458</td>\n",
       "      <td>77</td>\n",
       "    </tr>\n",
       "    <tr>\n",
       "      <th>1680</th>\n",
       "      <td>Z846542</td>\n",
       "      <td>Z846542-SE-2-ABD_PELVIS</td>\n",
       "      <td>None</td>\n",
       "      <td>0</td>\n",
       "      <td>1</td>\n",
       "      <td>1</td>\n",
       "      <td>168</td>\n",
       "      <td>None</td>\n",
       "    </tr>\n",
       "    <tr>\n",
       "      <th>1729</th>\n",
       "      <td>Z867082</td>\n",
       "      <td>Z867082-SE-2-ABD_PELVIS</td>\n",
       "      <td>None</td>\n",
       "      <td>0</td>\n",
       "      <td>1</td>\n",
       "      <td>1</td>\n",
       "      <td>155</td>\n",
       "      <td>None</td>\n",
       "    </tr>\n",
       "    <tr>\n",
       "      <th>1968</th>\n",
       "      <td>Z942281</td>\n",
       "      <td>Z942281-SE-2-Axial_Body_2.0</td>\n",
       "      <td>Z942281-SE-5-Sag-MIP_Body_Sag-MIP_4.0</td>\n",
       "      <td>0.883</td>\n",
       "      <td>1</td>\n",
       "      <td>1.883</td>\n",
       "      <td>129</td>\n",
       "      <td>134</td>\n",
       "    </tr>\n",
       "  </tbody>\n",
       "</table>\n",
       "</div>"
      ],
      "text/plain": [
       "            ID                                            Axial  \\\n",
       "65    Z1041413              Z1041413-SE-4-Stnd_Pediatric_2.0_CE   \n",
       "194   Z1140026                         Z1140026-SE-2-ABD_PELVIS   \n",
       "235   Z1174241  Z1174241-SE-6-Body_Std._Axial_AIDR_-_H_Vol._0.5   \n",
       "318   Z1224134                         Z1224134-SE-2-ABD_PELVIS   \n",
       "437   Z1302641                           Z1302641-SE-2-2MM_ID_4   \n",
       "633   Z1687886              Z1687886-SE-4-Stnd_Pediatric_0.5_CE   \n",
       "1055   Z465714                      Z465714-SE-4-Axial_Body_2.0   \n",
       "1142   Z505334                          Z505334-SE-2-ABD_PELVIS   \n",
       "1456   Z651305                   Z651305-SE-7-Vol_Body_Vol._0.5   \n",
       "1680   Z846542                          Z846542-SE-2-ABD_PELVIS   \n",
       "1729   Z867082                          Z867082-SE-2-ABD_PELVIS   \n",
       "1968   Z942281                      Z942281-SE-2-Axial_Body_2.0   \n",
       "\n",
       "                                        Sagittal Overlap MissingScore  \\\n",
       "65                                          None       0            1   \n",
       "194                                         None       0            1   \n",
       "235     Z1174241-SE-13-Bone_Sharp_Sagittal_3.000   0.993        0.959   \n",
       "318                          Z1224134-SE-602-SAG   0.996            1   \n",
       "437                                         None       0        0.009   \n",
       "633          Z1687886-SE-6-Stnd_Pediatric_3.0_CE       1            1   \n",
       "1055  Z465714-SE-12-Sagittal_Body_Sagittal_3.000   0.995            1   \n",
       "1142                                        None       0        0.616   \n",
       "1456  Z651305-SE-9005-Sag-MIP_Body_Sag-MIP_4.000   0.763            1   \n",
       "1680                                        None       0            1   \n",
       "1729                                        None       0            1   \n",
       "1968       Z942281-SE-5-Sag-MIP_Body_Sag-MIP_4.0   0.883            1   \n",
       "\n",
       "     PairValidity AxSlices SagSlices  \n",
       "65          1.662      213      None  \n",
       "194             1      144      None  \n",
       "235         1.952     1992        63  \n",
       "318         1.996      195       160  \n",
       "437         0.012      188      None  \n",
       "633             2     1317        93  \n",
       "1055        1.995      200       102  \n",
       "1142        0.616      175      None  \n",
       "1456        1.763      458        77  \n",
       "1680            1      168      None  \n",
       "1729            1      155      None  \n",
       "1968        1.883      129       134  "
      ]
     },
     "metadata": {},
     "output_type": "display_data"
    }
   ],
   "source": [
    "# Insert axials and sagittals when overlap > 0.7, else insert only axials\n",
    "for ind,row in df_2_dfnoax1.iterrows():\n",
    "    df_valid_lq.loc[df_valid_lq['ID']==row['ID'],'Axial']= row['Axial']\n",
    "    df_valid_lq.loc[df_valid_lq['ID']==row['ID'],'Sagittal']= row['Sagittal']\n",
    "    df_valid_lq.loc[df_valid_lq['ID']==row['ID'],'Overlap']= row['Overlap']\n",
    "    df_valid_lq.loc[df_valid_lq['ID']==row['ID'],'MissingScore']= row['MissingScore']\n",
    "    df_valid_lq.loc[df_valid_lq['ID']==row['ID'],'PairValidity']= row['PairValidity']\n",
    "    df_valid_lq.loc[df_valid_lq['ID']==row['ID'],'AxSlices']= row['AxSlices']\n",
    "    df_valid_lq.loc[df_valid_lq['ID']==row['ID'],'SagSlices']= row['SagSlices']\n",
    "    if row['Overlap'] < 0.7:\n",
    "        df_valid_lq.loc[df_valid_lq['ID']==row['ID'],'Sagittal']= None\n",
    "        df_valid_lq.loc[df_valid_lq['ID']==row['ID'],'SagSlices']= None\n",
    "        df_valid_lq.loc[df_valid_lq['ID']==row['ID'],'Overlap']= 0\n",
    "        \n",
    "display(df_valid_lq[df_valid_lq['ID'].isin(df_noax_1['ID'].values)])"
   ]
  },
  {
   "cell_type": "markdown",
   "metadata": {},
   "source": [
    "### Keep complete cases from df_incomp_2 when df_incomp_1 does not have axials and sagittals"
   ]
  },
  {
   "cell_type": "code",
   "execution_count": null,
   "metadata": {},
   "outputs": [],
   "source": [
    "display(df_noax_nosag_1.head(10))\n",
    "print(len(df_noax_nosag_1))"
   ]
  },
  {
   "cell_type": "code",
   "execution_count": null,
   "metadata": {},
   "outputs": [],
   "source": [
    "# print corresponding df2 pairs\n",
    "df_2_dfnoaxsag1 = df_incomp_2[df_incomp_2['ID'].isin(df_noax_nosag_1['ID'].values)]\n",
    "display(df_2_dfnoaxsag1.head(10))"
   ]
  },
  {
   "cell_type": "code",
   "execution_count": null,
   "metadata": {},
   "outputs": [],
   "source": [
    "for ind,row in df_2_dfnoaxsag1.iterrows():\n",
    "    df_valid_lq.loc[df_valid_lq['ID']==row['ID'],'Axial']= row['Axial']\n",
    "    df_valid_lq.loc[df_valid_lq['ID']==row['ID'],'Sagittal']= row['Sagittal']\n",
    "    df_valid_lq.loc[df_valid_lq['ID']==row['ID'],'Overlap']= row['Overlap']\n",
    "    df_valid_lq.loc[df_valid_lq['ID']==row['ID'],'MissingScore']= row['MissingScore']\n",
    "    df_valid_lq.loc[df_valid_lq['ID']==row['ID'],'PairValidity']= row['PairValidity']\n",
    "    df_valid_lq.loc[df_valid_lq['ID']==row['ID'],'AxSlices']= row['AxSlices']\n",
    "    df_valid_lq.loc[df_valid_lq['ID']==row['ID'],'SagSlices']= row['SagSlices']\n",
    "    if row['Overlap']:\n",
    "        if row['Overlap'] < 0.7:\n",
    "            df_valid_lq.loc[df_valid_lq['ID']==row['ID'],'Sagittal']= None\n",
    "            df_valid_lq.loc[df_valid_lq['ID']==row['ID'],'SagSlices']= None\n",
    "            df_valid_lq.loc[df_valid_lq['ID']==row['ID'],'Overlap']= 0\n",
    "\n",
    "display(df_valid_lq[df_valid_lq['ID'].isin(df_noax_nosag_1['ID'].values)].head(10))"
   ]
  },
  {
   "cell_type": "markdown",
   "metadata": {},
   "source": [
    "### Keep sagittals alone from df_incomp_2 when df_incomp_1 does not have sagittals"
   ]
  },
  {
   "cell_type": "code",
   "execution_count": null,
   "metadata": {},
   "outputs": [],
   "source": [
    "print(len(df_ax_nosag_1))\n",
    "display(df_ax_nosag_1.head(10))"
   ]
  },
  {
   "cell_type": "code",
   "execution_count": null,
   "metadata": {},
   "outputs": [],
   "source": [
    "# print corresponding df2 pairs\n",
    "df_2_dfnosag1 = df_incomp_2[df_incomp_2['ID'].isin(df_ax_nosag_1['ID'].values)]\n",
    "display(df_2_dfnosag1.head(10))"
   ]
  },
  {
   "cell_type": "code",
   "execution_count": null,
   "metadata": {},
   "outputs": [],
   "source": [
    "i = 0\n",
    "for ind,row in df_2_dfnosag1.iterrows():\n",
    "    if row['Overlap']:\n",
    "        if row['Overlap'] > 0.7:    \n",
    "            print('Found Sagittal in df 2, missing in df1: ', i)\n",
    "            i = i+1\n",
    "            df_valid_lq.loc[df_valid_lq['ID']==row['ID'],'Axial']= row['Axial']\n",
    "            df_valid_lq.loc[df_valid_lq['ID']==row['ID'],'Sagittal']= row['Sagittal']\n",
    "            df_valid_lq.loc[df_valid_lq['ID']==row['ID'],'Overlap']= row['Overlap']\n",
    "            df_valid_lq.loc[df_valid_lq['ID']==row['ID'],'MissingScore']= row['MissingScore']\n",
    "            df_valid_lq.loc[df_valid_lq['ID']==row['ID'],'PairValidity']= row['PairValidity']\n",
    "            df_valid_lq.loc[df_valid_lq['ID']==row['ID'],'AxSlices']= row['AxSlices']\n",
    "            df_valid_lq.loc[df_valid_lq['ID']==row['ID'],'SagSlices']= row['SagSlices']\n",
    "\n",
    "display(df_valid_lq[df_valid_lq['ID'].isin(df_ax_nosag_1['ID'].values)].head(10))"
   ]
  },
  {
   "cell_type": "code",
   "execution_count": null,
   "metadata": {},
   "outputs": [],
   "source": [
    "# Take a look at newly added sagittals:\n",
    "df_nsags = df_valid_lq[(df_valid_lq['ID'].isin(df_ax_nosag_1['ID'].values)) & df_valid_lq['Overlap'] > 0.7]\n",
    "display(df_nsags.sort_values(by=['AxSlices'],ascending=[False]))"
   ]
  },
  {
   "cell_type": "code",
   "execution_count": null,
   "metadata": {},
   "outputs": [],
   "source": [
    "# all missing axials in 1 present in 2\n",
    "df_noax_1 = df_incomp_1[(df_incomp_1['Axial'].isnull())]\n",
    "print('All Missing axials in df1: ', len(df_noax_1))\n",
    "\n",
    "df_noax1_ax2 = df_incomp_2[(df_incomp_2['ID'].isin(df_noax_1['ID'].values)) & (df_incomp_2['Axial'].notnull())]\n",
    "print('Missing axials in df1, found in df2: ', len(df_noax1_ax2))"
   ]
  },
  {
   "cell_type": "code",
   "execution_count": null,
   "metadata": {},
   "outputs": [],
   "source": [
    "display(df_noax1_ax2)"
   ]
  },
  {
   "cell_type": "code",
   "execution_count": null,
   "metadata": {},
   "outputs": [],
   "source": [
    "def separate_ID(v):\n",
    "    v = v.split('-')[1:]\n",
    "    return '-'.join(v)\n",
    "\n",
    "df_summary = df_noax1_ax2[['ID','Axial','AxThick','MissingScore']]\n",
    "\n",
    "df_summary['SeriesType'] =  df_summary['Axial'].apply(lambda row: separate_ID(row))"
   ]
  },
  {
   "cell_type": "code",
   "execution_count": null,
   "metadata": {},
   "outputs": [],
   "source": [
    "display(df_summary.head(10))\n",
    "unique_series = df_summary['SeriesType'].unique()"
   ]
  },
  {
   "cell_type": "code",
   "execution_count": null,
   "metadata": {},
   "outputs": [],
   "source": [
    "print('Unique Series picked up by new filter: ', len(unique_series))\n",
    "display(unique_series.tolist())"
   ]
  },
  {
   "cell_type": "code",
   "execution_count": null,
   "metadata": {},
   "outputs": [],
   "source": [
    "ImageSliceViewer3D_2views([s_data,s_loc],[s2_data,s2_loc])"
   ]
  },
  {
   "cell_type": "markdown",
   "metadata": {},
   "source": [
    "### Investigate cases with sagittals found in df2, while missing in df1 "
   ]
  },
  {
   "cell_type": "code",
   "execution_count": null,
   "metadata": {},
   "outputs": [],
   "source": [
    "#- check if picked up axials are same, \n",
    "#- check if picked up sagittals are better than using sagittal reformats\n",
    "\n",
    "df_ax_nosag1_sag2 = df_incomp_2.loc[(df_incomp_2['ID'].isin(df_ax_nosag_1['ID'].values)) \n",
    "                                  & (df_incomp_2['ID'].isin(df_ax_sag_2['ID'].values)) ]\n",
    "\n",
    "print('Sagittals found in 2nd run, for studies with axials: ', len(df_ax_nosag1_sag2))"
   ]
  },
  {
   "cell_type": "code",
   "execution_count": null,
   "metadata": {},
   "outputs": [],
   "source": [
    "display(df_ax_nosag1_sag2)"
   ]
  }
 ],
 "metadata": {
  "file_extension": ".py",
  "kernelspec": {
   "display_name": "Python 3",
   "language": "python",
   "name": "python3"
  },
  "language_info": {
   "codemirror_mode": {
    "name": "ipython",
    "version": 3
   },
   "file_extension": ".py",
   "mimetype": "text/x-python",
   "name": "python",
   "nbconvert_exporter": "python",
   "pygments_lexer": "ipython3",
   "version": "3.6.9"
  },
  "mimetype": "text/x-python",
  "name": "python",
  "npconvert_exporter": "python",
  "pygments_lexer": "ipython3",
  "version": 3
 },
 "nbformat": 4,
 "nbformat_minor": 2
}
