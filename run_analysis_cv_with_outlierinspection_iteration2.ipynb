{
 "cells": [
  {
   "cell_type": "markdown",
   "metadata": {
    "slideshow": {
     "slide_type": "slide"
    }
   },
   "source": [
    "# Data analysis of skeletal muscle area and SMI for normal patients"
   ]
  },
  {
   "cell_type": "code",
   "execution_count": 1,
   "metadata": {
    "slideshow": {
     "slide_type": "skip"
    }
   },
   "outputs": [
    {
     "data": {
      "text/html": [
       "<script>\n",
       "code_show=false; \n",
       "function code_toggle() {\n",
       " if (code_show){\n",
       " $('div.input').hide();\n",
       " } else {\n",
       " $('div.input').show();\n",
       " }\n",
       " code_show = !code_show\n",
       "} \n",
       "$( document ).ready(code_toggle);\n",
       "</script>\n",
       "<form action=\"javascript:code_toggle()\"><input type=\"submit\" value=\"Click here to toggle on/off the raw code.\"></form>"
      ],
      "text/plain": [
       "<IPython.core.display.HTML object>"
      ]
     },
     "execution_count": 1,
     "metadata": {},
     "output_type": "execute_result"
    }
   ],
   "source": [
    "from IPython.display import HTML\n",
    "\n",
    "HTML('''<script>\n",
    "code_show=false; \n",
    "function code_toggle() {\n",
    " if (code_show){\n",
    " $('div.input').hide();\n",
    " } else {\n",
    " $('div.input').show();\n",
    " }\n",
    " code_show = !code_show\n",
    "} \n",
    "$( document ).ready(code_toggle);\n",
    "</script>\n",
    "<form action=\"javascript:code_toggle()\"><input type=\"submit\" value=\"Click here to toggle on/off the raw code.\"></form>''')"
   ]
  },
  {
   "cell_type": "markdown",
   "metadata": {
    "slideshow": {
     "slide_type": "skip"
    }
   },
   "source": [
    "###### Load libraries and directories"
   ]
  },
  {
   "cell_type": "code",
   "execution_count": 2,
   "metadata": {
    "slideshow": {
     "slide_type": "skip"
    }
   },
   "outputs": [],
   "source": [
    "from IPython.display import display, HTML"
   ]
  },
  {
   "cell_type": "code",
   "execution_count": 3,
   "metadata": {
    "slideshow": {
     "slide_type": "skip"
    }
   },
   "outputs": [],
   "source": [
    "# from IPython import get_ipython\n",
    "from tqdm.notebook import tqdm\n",
    "import pickle\n",
    "import os\n",
    "import pprint\n",
    "pp = pprint.PrettyPrinter(indent=1)\n",
    "\n",
    "import pandas as pd\n",
    "import numpy as np\n",
    "\n",
    "import json\n",
    "\n",
    "# Custom functions\n",
    "import pickle\n",
    "def save_object(obj, filename):\n",
    "    with open(filename, 'wb') as output:  # Overwrites any existing file.\n",
    "        pickle.dump(obj, output, pickle.HIGHEST_PROTOCOL)\n",
    "\n",
    "def load_object(filename):        \n",
    "    with open(filename, 'rb') as input:\n",
    "        return pickle.load(input)\n",
    "    "
   ]
  },
  {
   "cell_type": "code",
   "execution_count": 4,
   "metadata": {
    "slideshow": {
     "slide_type": "skip"
    }
   },
   "outputs": [
    {
     "data": {
      "text/plain": [
       "<module 'statsmodels' from '/usr/local/lib/python3.6/dist-packages/statsmodels/__init__.py'>"
      ]
     },
     "execution_count": 4,
     "metadata": {},
     "output_type": "execute_result"
    }
   ],
   "source": [
    "# Install statsmodels if it doesn't exist\n",
    "def import_or_install(package):\n",
    "    try:\n",
    "        return __import__(package)\n",
    "    except ImportError:\n",
    "        pip.main(['install', package]) \n",
    "        \n",
    "package = 'statsmodels'\n",
    "\n",
    "import_or_install(package)"
   ]
  },
  {
   "cell_type": "code",
   "execution_count": 5,
   "metadata": {
    "slideshow": {
     "slide_type": "skip"
    }
   },
   "outputs": [],
   "source": [
    "import statsmodels.api as sm\n",
    "import statsmodels.formula.api as smf\n",
    "import matplotlib.pyplot as plt\n",
    "import matplotlib.image as mpimg\n",
    "import scipy.stats as stats"
   ]
  },
  {
   "cell_type": "code",
   "execution_count": 6,
   "metadata": {
    "slideshow": {
     "slide_type": "skip"
    }
   },
   "outputs": [
    {
     "name": "stderr",
     "output_type": "stream",
     "text": [
      "No traceback available to show.\n"
     ]
    }
   ],
   "source": [
    "get_ipython().run_line_magic('tb', '')"
   ]
  },
  {
   "cell_type": "code",
   "execution_count": 7,
   "metadata": {
    "slideshow": {
     "slide_type": "skip"
    }
   },
   "outputs": [],
   "source": [
    "cwd = os.getcwd()\n",
    "#print(cwd)\n",
    "data = '/tf/data'\n",
    "pickles = '/tf/pickles'\n",
    "models = '/tf/models'"
   ]
  },
  {
   "cell_type": "code",
   "execution_count": 8,
   "metadata": {
    "scrolled": true,
    "slideshow": {
     "slide_type": "skip"
    }
   },
   "outputs": [],
   "source": [
    "# Import modules and config file\n",
    "configfile = os.path.join(cwd,'config/debug_ES/run_prediction_CV_poorl3.json')\n",
    "with open(configfile, \"r\") as f:\n",
    "        config = json.load(f)\n",
    "#pp.pprint(config)"
   ]
  },
  {
   "cell_type": "markdown",
   "metadata": {
    "slideshow": {
     "slide_type": "slide"
    }
   },
   "source": [
    "## Produce data for analysis using prediction results and preprocessing results"
   ]
  },
  {
   "cell_type": "code",
   "execution_count": 9,
   "metadata": {
    "slideshow": {
     "slide_type": "skip"
    }
   },
   "outputs": [],
   "source": [
    "# Load the area csv\n",
    "filename = 'areas-mm2_by_subject_id_manualarea_for_outliers.csv'\n",
    "#filename = 'areas-mm2_by_subject_id.csv'\n",
    "\n",
    "\n",
    "sma_csv = os.path.join(config[\"muscle_segmentor\"][\"output_directory\"],filename)\n",
    "df_sma = pd.read_csv(sma_csv, index_col=False)"
   ]
  },
  {
   "cell_type": "code",
   "execution_count": 10,
   "metadata": {
    "slideshow": {
     "slide_type": "skip"
    }
   },
   "outputs": [
    {
     "data": {
      "text/html": [
       "<div>\n",
       "<style scoped>\n",
       "    .dataframe tbody tr th:only-of-type {\n",
       "        vertical-align: middle;\n",
       "    }\n",
       "\n",
       "    .dataframe tbody tr th {\n",
       "        vertical-align: top;\n",
       "    }\n",
       "\n",
       "    .dataframe thead th {\n",
       "        text-align: right;\n",
       "    }\n",
       "</style>\n",
       "<table border=\"1\" class=\"dataframe\">\n",
       "  <thead>\n",
       "    <tr style=\"text-align: right;\">\n",
       "      <th></th>\n",
       "      <th>subject_id</th>\n",
       "      <th>area_mm2</th>\n",
       "      <th>% auto mask pixels</th>\n",
       "      <th>% manual mask pixels</th>\n",
       "      <th>area_mm2_Elan</th>\n",
       "      <th>sagittal_series</th>\n",
       "      <th>axial_series</th>\n",
       "    </tr>\n",
       "  </thead>\n",
       "  <tbody>\n",
       "    <tr>\n",
       "      <th>0</th>\n",
       "      <td>Z862651</td>\n",
       "      <td>15337.387500</td>\n",
       "      <td>NaN</td>\n",
       "      <td>NaN</td>\n",
       "      <td>NaN</td>\n",
       "      <td>Z862651-SE-10-Bone_Sagittal_Bone_Bone_3.0</td>\n",
       "      <td>Z862651-SE-5-Std_Axial_Body_Std_5.0</td>\n",
       "    </tr>\n",
       "    <tr>\n",
       "      <th>1</th>\n",
       "      <td>Z1310189</td>\n",
       "      <td>5194.947664</td>\n",
       "      <td>NaN</td>\n",
       "      <td>NaN</td>\n",
       "      <td>NaN</td>\n",
       "      <td>recon from: Z1310189-SE-4-Std_Axial_Body_Std_5.0</td>\n",
       "      <td>Z1310189-SE-4-Std_Axial_Body_Std_5.0</td>\n",
       "    </tr>\n",
       "    <tr>\n",
       "      <th>2</th>\n",
       "      <td>Z1452514</td>\n",
       "      <td>10329.928960</td>\n",
       "      <td>NaN</td>\n",
       "      <td>NaN</td>\n",
       "      <td>NaN</td>\n",
       "      <td>Z1452514-SE-9-Bone_Sagittal_Bone_Bone_3.0</td>\n",
       "      <td>Z1452514-SE-4-Std_Axial_Body_Std_5.0</td>\n",
       "    </tr>\n",
       "    <tr>\n",
       "      <th>3</th>\n",
       "      <td>Z1178360</td>\n",
       "      <td>7812.500000</td>\n",
       "      <td>NaN</td>\n",
       "      <td>NaN</td>\n",
       "      <td>NaN</td>\n",
       "      <td>recon from: Z1178360-SE-4-Body_5.0_CE</td>\n",
       "      <td>Z1178360-SE-4-Body_5.0_CE</td>\n",
       "    </tr>\n",
       "    <tr>\n",
       "      <th>4</th>\n",
       "      <td>Z1244498</td>\n",
       "      <td>4626.782208</td>\n",
       "      <td>NaN</td>\n",
       "      <td>NaN</td>\n",
       "      <td>NaN</td>\n",
       "      <td>Z1244498-SE-7-Bone_Sagittal_3.000</td>\n",
       "      <td>Z1244498-SE-2-Body_5.0</td>\n",
       "    </tr>\n",
       "    <tr>\n",
       "      <th>5</th>\n",
       "      <td>Z514679</td>\n",
       "      <td>15866.068320</td>\n",
       "      <td>NaN</td>\n",
       "      <td>NaN</td>\n",
       "      <td>NaN</td>\n",
       "      <td>Z514679-SE-11-Bone_Sagittal_3.000</td>\n",
       "      <td>Z514679-SE-5-Body__5.0</td>\n",
       "    </tr>\n",
       "    <tr>\n",
       "      <th>6</th>\n",
       "      <td>Z617099</td>\n",
       "      <td>10991.944600</td>\n",
       "      <td>NaN</td>\n",
       "      <td>NaN</td>\n",
       "      <td>NaN</td>\n",
       "      <td>recon from: Z617099-SE-3-Body</td>\n",
       "      <td>Z617099-SE-3-Body</td>\n",
       "    </tr>\n",
       "    <tr>\n",
       "      <th>7</th>\n",
       "      <td>Z437139</td>\n",
       "      <td>9915.643712</td>\n",
       "      <td>NaN</td>\n",
       "      <td>NaN</td>\n",
       "      <td>NaN</td>\n",
       "      <td>recon from: Z437139-SE-3-Pediatric_Std_5.0</td>\n",
       "      <td>Z437139-SE-3-Pediatric_Std_5.0</td>\n",
       "    </tr>\n",
       "    <tr>\n",
       "      <th>8</th>\n",
       "      <td>Z597267</td>\n",
       "      <td>6663.738276</td>\n",
       "      <td>NaN</td>\n",
       "      <td>NaN</td>\n",
       "      <td>NaN</td>\n",
       "      <td>recon from: Z597267-SE-4-Std_Axial_Body_Std_5.0</td>\n",
       "      <td>Z597267-SE-4-Std_Axial_Body_Std_5.0</td>\n",
       "    </tr>\n",
       "    <tr>\n",
       "      <th>9</th>\n",
       "      <td>Z1106026</td>\n",
       "      <td>6036.252768</td>\n",
       "      <td>NaN</td>\n",
       "      <td>NaN</td>\n",
       "      <td>NaN</td>\n",
       "      <td>Z1106026-SE-5-Sagittal_Body</td>\n",
       "      <td>Z1106026-SE-1002-Body_Clarity</td>\n",
       "    </tr>\n",
       "  </tbody>\n",
       "</table>\n",
       "</div>"
      ],
      "text/plain": [
       "  subject_id      area_mm2  % auto mask pixels  % manual mask pixels  \\\n",
       "0    Z862651  15337.387500                 NaN                   NaN   \n",
       "1   Z1310189   5194.947664                 NaN                   NaN   \n",
       "2   Z1452514  10329.928960                 NaN                   NaN   \n",
       "3   Z1178360   7812.500000                 NaN                   NaN   \n",
       "4   Z1244498   4626.782208                 NaN                   NaN   \n",
       "5    Z514679  15866.068320                 NaN                   NaN   \n",
       "6    Z617099  10991.944600                 NaN                   NaN   \n",
       "7    Z437139   9915.643712                 NaN                   NaN   \n",
       "8    Z597267   6663.738276                 NaN                   NaN   \n",
       "9   Z1106026   6036.252768                 NaN                   NaN   \n",
       "\n",
       "   area_mm2_Elan                                   sagittal_series  \\\n",
       "0            NaN         Z862651-SE-10-Bone_Sagittal_Bone_Bone_3.0   \n",
       "1            NaN  recon from: Z1310189-SE-4-Std_Axial_Body_Std_5.0   \n",
       "2            NaN         Z1452514-SE-9-Bone_Sagittal_Bone_Bone_3.0   \n",
       "3            NaN             recon from: Z1178360-SE-4-Body_5.0_CE   \n",
       "4            NaN                 Z1244498-SE-7-Bone_Sagittal_3.000   \n",
       "5            NaN                 Z514679-SE-11-Bone_Sagittal_3.000   \n",
       "6            NaN                     recon from: Z617099-SE-3-Body   \n",
       "7            NaN        recon from: Z437139-SE-3-Pediatric_Std_5.0   \n",
       "8            NaN   recon from: Z597267-SE-4-Std_Axial_Body_Std_5.0   \n",
       "9            NaN                       Z1106026-SE-5-Sagittal_Body   \n",
       "\n",
       "                           axial_series  \n",
       "0   Z862651-SE-5-Std_Axial_Body_Std_5.0  \n",
       "1  Z1310189-SE-4-Std_Axial_Body_Std_5.0  \n",
       "2  Z1452514-SE-4-Std_Axial_Body_Std_5.0  \n",
       "3             Z1178360-SE-4-Body_5.0_CE  \n",
       "4                Z1244498-SE-2-Body_5.0  \n",
       "5                Z514679-SE-5-Body__5.0  \n",
       "6                     Z617099-SE-3-Body  \n",
       "7        Z437139-SE-3-Pediatric_Std_5.0  \n",
       "8   Z597267-SE-4-Std_Axial_Body_Std_5.0  \n",
       "9         Z1106026-SE-1002-Body_Clarity  "
      ]
     },
     "metadata": {},
     "output_type": "display_data"
    },
    {
     "name": "stdout",
     "output_type": "stream",
     "text": [
      "Final patients for analysis:  1362\n"
     ]
    }
   ],
   "source": [
    "if 'outliers' in filename: # MOdified area sheet with manual area calculated for outlier patients\n",
    "    display(df_sma.head(10))\n",
    "    df_sma_manuals = df_sma.loc[~df_sma['area_mm2_Elan'].isnull()]\n",
    "    for i,row in df_sma_manuals.iterrows():\n",
    "        df_sma.loc[df_sma['subject_id']==row['subject_id'],'area_mm2'] = row['area_mm2_Elan']\n",
    "    \n",
    "\n",
    "# Manually identified diseases cases [by Andrew]:\n",
    "man_disease = ['Z832424','Z1256768']\n",
    "\n",
    "df_sma= df_sma.loc[~df_sma['subject_id'].isin(man_disease)]\n",
    "df_sma = df_sma[['subject_id','area_mm2','sagittal_series','axial_series']]\n",
    "print('Final patients for analysis: ',len(df_sma))"
   ]
  },
  {
   "cell_type": "code",
   "execution_count": 16,
   "metadata": {},
   "outputs": [],
   "source": [
    "# change subject_id to id\n",
    "df_sma.columns=['ID','area_mm2','sagittals','axials']\n",
    "#display(df_sma.head(2))"
   ]
  },
  {
   "cell_type": "code",
   "execution_count": 17,
   "metadata": {
    "slideshow": {
     "slide_type": "skip"
    }
   },
   "outputs": [],
   "source": [
    "# Load the df_final pickle\n",
    "df_final_d1 = load_object(os.path.join(pickles,'df_final_dump1_processed.pkl'))\n",
    "#print('dump 1 length = ',len(df_final_d1))\n",
    "df_final_d2 = load_object(os.path.join(pickles,'df_final_dump2_processed.pkl'))\n",
    "#print('dump 2 length = ',len(df_final_d2))"
   ]
  },
  {
   "cell_type": "code",
   "execution_count": 18,
   "metadata": {
    "slideshow": {
     "slide_type": "skip"
    }
   },
   "outputs": [],
   "source": [
    "# Merge the  2 dumps\n",
    "df_final = df_final_d1.append(df_final_d2)\n",
    "#print('Total processed final length = ',len(df_final))"
   ]
  },
  {
   "cell_type": "code",
   "execution_count": 19,
   "metadata": {
    "slideshow": {
     "slide_type": "skip"
    }
   },
   "outputs": [],
   "source": [
    "# Create the dataframe for analysis by merging df_sma with df_final\n",
    "# Replace axial and sagittal series in df_final with df_sma that has \n",
    "# pointers to reconstructed sagittals, preserve the other fields.\n",
    "df_final = df_final.drop(columns=['Axial','Sagittal'])\n",
    "#display(df_final.head(10))"
   ]
  },
  {
   "cell_type": "code",
   "execution_count": 20,
   "metadata": {
    "slideshow": {
     "slide_type": "skip"
    }
   },
   "outputs": [],
   "source": [
    "# Make sure both dfs are equal length\n",
    "#print('Sma len: ', len(df_sma))\n",
    "#print('Final len: ', len(df_final))"
   ]
  },
  {
   "cell_type": "code",
   "execution_count": 21,
   "metadata": {
    "slideshow": {
     "slide_type": "slide"
    }
   },
   "outputs": [
    {
     "name": "stdout",
     "output_type": "stream",
     "text": [
      "No of patients processed successfully:  1362\n"
     ]
    }
   ],
   "source": [
    "# 25 cases failed because of L3 level was out of bound, get rid of those for now:\n",
    "df_final = df_final[df_final['ID'].isin(df_sma['ID'].values)]\n",
    "print('No of patients processed successfully: ', len(df_final))"
   ]
  },
  {
   "cell_type": "code",
   "execution_count": 22,
   "metadata": {
    "slideshow": {
     "slide_type": "skip"
    }
   },
   "outputs": [],
   "source": [
    "# Now merge on ID\n",
    "df_analysis = pd.merge(df_sma,df_final, on=\"ID\")\n",
    "#display(df_analysis.head(10))"
   ]
  },
  {
   "cell_type": "code",
   "execution_count": 23,
   "metadata": {
    "slideshow": {
     "slide_type": "skip"
    }
   },
   "outputs": [],
   "source": [
    "# Load age information from patlist csv\n",
    "# Load normal patient list\n",
    "infile  = 'patlist_with_validBMI_corrected.csv'\n",
    "df_P = pd.read_csv(infile, index_col=False)\n",
    "df_P = df_P.loc[:, ~df_P.columns.str.contains('^Unnamed')]\n",
    "# Keep only columns needed\n",
    "df_P = df_P[['PAT_ID','WEIGHT','HEIGHT','BMI_FOR_AGE_PERCENTILE','BMI_CALCULATED','Age',\n",
    " 'Sex',\n",
    " 'Race',\n",
    " 'AgeGroup']]\n",
    "df_P.columns = ['ID','WEIGHT','HEIGHT','BMI_AGE_P','BMI_CALC','Age','Sex','Race','AgeGroup']\n",
    "#display(df_P.head(10))"
   ]
  },
  {
   "cell_type": "code",
   "execution_count": 24,
   "metadata": {
    "slideshow": {
     "slide_type": "slide"
    }
   },
   "outputs": [
    {
     "name": "stdout",
     "output_type": "stream",
     "text": [
      "Total number of normal patients identified 1459\n"
     ]
    }
   ],
   "source": [
    "# Get rid of patients not in df_analysis\n",
    "print(\"Total number of normal patients identified\", len(df_P))\n",
    "df_P = df_P[df_P['ID'].isin(df_analysis['ID'].values)]"
   ]
  },
  {
   "cell_type": "code",
   "execution_count": 25,
   "metadata": {
    "slideshow": {
     "slide_type": "skip"
    }
   },
   "outputs": [],
   "source": [
    "# Merge the patient fields with df_analysis\n",
    "df_analysis = pd.merge(df_P,df_analysis, on=\"ID\")\n",
    "\n",
    "# Redefine AgeGroup be flooring instead of rounding.\n",
    "df_analysis['AgeGroup'] = np.floor(df_analysis['Age'].values)"
   ]
  },
  {
   "cell_type": "code",
   "execution_count": 26,
   "metadata": {
    "slideshow": {
     "slide_type": "slide"
    }
   },
   "outputs": [
    {
     "name": "stdout",
     "output_type": "stream",
     "text": [
      "Patients missing BMI calculated: 152\n",
      "Patients missing BMI age percentile: 0\n",
      "Patients missing Height: 15\n",
      "Patients missing Weight 29\n",
      "Patients missing Age 0\n",
      "Patients missing Race 0\n",
      "Patients missing Sex 0\n"
     ]
    }
   ],
   "source": [
    "# Find missing BMI_CALC\n",
    "print('Patients missing BMI calculated:' ,len(df_analysis[df_analysis['BMI_CALC'].isnull()]))\n",
    "print('Patients missing BMI age percentile:' ,len(df_analysis[df_analysis['BMI_AGE_P'].isnull()]))\n",
    "print('Patients missing Height:' ,len(df_analysis[df_analysis['HEIGHT'].isnull()]))\n",
    "print('Patients missing Weight' ,len(df_analysis[df_analysis['WEIGHT'].isnull()]))\n",
    "print('Patients missing Age' ,len(df_analysis[df_analysis['Age'].isnull()]))\n",
    "print('Patients missing Race' ,len(df_analysis[df_analysis['Race'].isnull()]))\n",
    "print('Patients missing Sex' ,len(df_analysis[df_analysis['Sex'].isnull()]))"
   ]
  },
  {
   "cell_type": "code",
   "execution_count": 27,
   "metadata": {
    "slideshow": {
     "slide_type": "skip"
    }
   },
   "outputs": [],
   "source": [
    "df_analysis = df_analysis.sort_values(by=['AgeGroup'],ascending='False')\n",
    "#print(df_analysis['AgeGroup'].value_counts().sort_values())"
   ]
  },
  {
   "cell_type": "code",
   "execution_count": 28,
   "metadata": {
    "slideshow": {
     "slide_type": "subslide"
    }
   },
   "outputs": [
    {
     "name": "stdout",
     "output_type": "stream",
     "text": [
      "No of Patients > 18 years that are discarded 1\n"
     ]
    }
   ],
   "source": [
    "# Patients > 18\n",
    "print('No of Patients > 18 years that are discarded' ,len(df_analysis[df_analysis['AgeGroup'] > 18]))\n",
    "#print('No of Patients < 2.5 yearas' ,len(df_analysis[df_analysis['Age'] < 2.5]))"
   ]
  },
  {
   "cell_type": "code",
   "execution_count": 31,
   "metadata": {
    "slideshow": {
     "slide_type": "skip"
    }
   },
   "outputs": [],
   "source": [
    "#print('No of boys' ,len(df_analysis[df_analysis['Sex'] == 'Male']))\n",
    "#print('No of girls' ,len(df_analysis[df_analysis['Sex'] == 'Female']))"
   ]
  },
  {
   "cell_type": "code",
   "execution_count": 29,
   "metadata": {
    "slideshow": {
     "slide_type": "slide"
    }
   },
   "outputs": [
    {
     "name": "stdout",
     "output_type": "stream",
     "text": [
      "Length of male df =  666\n",
      "Length of female df =  695\n"
     ]
    }
   ],
   "source": [
    "# Create sex stratified and age filtered dfs\n",
    "\n",
    "df_analysis['area_cm2'] = df_analysis['area_mm2']/100\n",
    "\n",
    "\n",
    "df_analysis['smi'] = df_analysis['area_cm2']/((df_analysis['HEIGHT']/100)**2)\n",
    "\n",
    "df_m = df_analysis[(df_analysis['Sex']=='Male') & (df_analysis['AgeGroup'] <= 18)] #& (df_analysis['Age'] > 3)]\n",
    "print('Length of male df = ',len(df_m))\n",
    "df_f = df_analysis[(df_analysis['Sex']=='Female') & (df_analysis['AgeGroup'] <= 18)] # & (df_analysis['Age'] > 3)]\n",
    "print('Length of female df = ',len(df_f))"
   ]
  },
  {
   "cell_type": "markdown",
   "metadata": {
    "slideshow": {
     "slide_type": "slide"
    }
   },
   "source": [
    "## Population statistics in comparison to CDC/WHO data"
   ]
  },
  {
   "cell_type": "code",
   "execution_count": 30,
   "metadata": {
    "slideshow": {
     "slide_type": "skip"
    }
   },
   "outputs": [],
   "source": [
    "#Step3: Loop over each unique date in the studies dataframe df_F\n",
    "def get_agewise_stats(df_in):\n",
    "    uniqueages = df_in.AgeGroup.unique() \n",
    "    column_names = ['AgeGroup','Age_IQR','median_area_cm2','median_SMI','samplesize']\n",
    "    df_C = pd.DataFrame(columns = column_names)\n",
    "    #display(df_C)\n",
    "    for age in uniqueages:\n",
    "        df_l = df_in[df_in['AgeGroup']==age]\n",
    "        #mean_ar = np.mean(df_l['area_cm2'])\n",
    "        median_ar = np.median(df_l['area_cm2'])\n",
    "        median_SMI = np.nanmedian(df_l['smi'])\n",
    "        q75, q25 = np.percentile(df_l['Age'], [75 ,25])\n",
    "        age_iqr = q75 - q25\n",
    "        samplesize = len(df_l)\n",
    "        #print([age,mean_ar,median_ar,samplesize])\n",
    "        df = pd.DataFrame([[age,age_iqr,median_ar,median_SMI,samplesize]],columns=column_names)\n",
    "        #display(df)\n",
    "        df_C = pd.concat([df_C,df])\n",
    "    return df_C"
   ]
  },
  {
   "cell_type": "code",
   "execution_count": 31,
   "metadata": {
    "scrolled": true,
    "slideshow": {
     "slide_type": "slide"
    }
   },
   "outputs": [
    {
     "name": "stdout",
     "output_type": "stream",
     "text": [
      "Count statistics stratified by gender and age group\n",
      "(M - Male) (F-Female)\n"
     ]
    },
    {
     "data": {
      "text/html": [
       "<div>\n",
       "<style scoped>\n",
       "    .dataframe tbody tr th:only-of-type {\n",
       "        vertical-align: middle;\n",
       "    }\n",
       "\n",
       "    .dataframe tbody tr th {\n",
       "        vertical-align: top;\n",
       "    }\n",
       "\n",
       "    .dataframe thead th {\n",
       "        text-align: right;\n",
       "    }\n",
       "</style>\n",
       "<table border=\"1\" class=\"dataframe\">\n",
       "  <thead>\n",
       "    <tr style=\"text-align: right;\">\n",
       "      <th></th>\n",
       "      <th>AgeGroup_F</th>\n",
       "      <th>Age_IQR_F</th>\n",
       "      <th>median_area_cm2_F</th>\n",
       "      <th>median_SMI_F</th>\n",
       "      <th>samplesize_F</th>\n",
       "      <th>AgeGroup_M</th>\n",
       "      <th>Age_IQR_M</th>\n",
       "      <th>median_area_cm2_M</th>\n",
       "      <th>median_SMI_M</th>\n",
       "      <th>samplesize_M</th>\n",
       "    </tr>\n",
       "  </thead>\n",
       "  <tbody>\n",
       "    <tr>\n",
       "      <th>0</th>\n",
       "      <td>0.0</td>\n",
       "      <td>0.000000</td>\n",
       "      <td>14.640480</td>\n",
       "      <td>39.345553</td>\n",
       "      <td>1</td>\n",
       "      <td>0.0</td>\n",
       "      <td>0.626472</td>\n",
       "      <td>19.765578</td>\n",
       "      <td>52.728610</td>\n",
       "      <td>4</td>\n",
       "    </tr>\n",
       "    <tr>\n",
       "      <th>0</th>\n",
       "      <td>1.0</td>\n",
       "      <td>0.455484</td>\n",
       "      <td>29.197116</td>\n",
       "      <td>41.796652</td>\n",
       "      <td>3</td>\n",
       "      <td>1.0</td>\n",
       "      <td>0.000251</td>\n",
       "      <td>32.781918</td>\n",
       "      <td>47.632223</td>\n",
       "      <td>2</td>\n",
       "    </tr>\n",
       "    <tr>\n",
       "      <th>0</th>\n",
       "      <td>2.0</td>\n",
       "      <td>0.428267</td>\n",
       "      <td>32.976198</td>\n",
       "      <td>39.966734</td>\n",
       "      <td>13</td>\n",
       "      <td>2.0</td>\n",
       "      <td>0.484531</td>\n",
       "      <td>34.897644</td>\n",
       "      <td>41.780362</td>\n",
       "      <td>20</td>\n",
       "    </tr>\n",
       "    <tr>\n",
       "      <th>0</th>\n",
       "      <td>3.0</td>\n",
       "      <td>0.253105</td>\n",
       "      <td>38.898695</td>\n",
       "      <td>38.597684</td>\n",
       "      <td>10</td>\n",
       "      <td>3.0</td>\n",
       "      <td>0.397020</td>\n",
       "      <td>39.956490</td>\n",
       "      <td>40.795016</td>\n",
       "      <td>23</td>\n",
       "    </tr>\n",
       "    <tr>\n",
       "      <th>0</th>\n",
       "      <td>4.0</td>\n",
       "      <td>0.197646</td>\n",
       "      <td>36.271138</td>\n",
       "      <td>35.265092</td>\n",
       "      <td>10</td>\n",
       "      <td>4.0</td>\n",
       "      <td>0.427749</td>\n",
       "      <td>46.676156</td>\n",
       "      <td>38.838462</td>\n",
       "      <td>25</td>\n",
       "    </tr>\n",
       "    <tr>\n",
       "      <th>0</th>\n",
       "      <td>5.0</td>\n",
       "      <td>0.492027</td>\n",
       "      <td>47.491601</td>\n",
       "      <td>37.241887</td>\n",
       "      <td>12</td>\n",
       "      <td>5.0</td>\n",
       "      <td>0.479479</td>\n",
       "      <td>49.485522</td>\n",
       "      <td>38.228499</td>\n",
       "      <td>34</td>\n",
       "    </tr>\n",
       "    <tr>\n",
       "      <th>0</th>\n",
       "      <td>6.0</td>\n",
       "      <td>0.364520</td>\n",
       "      <td>46.258039</td>\n",
       "      <td>32.809869</td>\n",
       "      <td>28</td>\n",
       "      <td>6.0</td>\n",
       "      <td>0.456054</td>\n",
       "      <td>51.296368</td>\n",
       "      <td>37.048667</td>\n",
       "      <td>32</td>\n",
       "    </tr>\n",
       "    <tr>\n",
       "      <th>0</th>\n",
       "      <td>7.0</td>\n",
       "      <td>0.503201</td>\n",
       "      <td>51.041177</td>\n",
       "      <td>32.358297</td>\n",
       "      <td>27</td>\n",
       "      <td>7.0</td>\n",
       "      <td>0.585376</td>\n",
       "      <td>58.223413</td>\n",
       "      <td>36.757267</td>\n",
       "      <td>40</td>\n",
       "    </tr>\n",
       "    <tr>\n",
       "      <th>0</th>\n",
       "      <td>8.0</td>\n",
       "      <td>0.519758</td>\n",
       "      <td>55.980416</td>\n",
       "      <td>33.016537</td>\n",
       "      <td>30</td>\n",
       "      <td>8.0</td>\n",
       "      <td>0.485649</td>\n",
       "      <td>61.582427</td>\n",
       "      <td>35.099803</td>\n",
       "      <td>33</td>\n",
       "    </tr>\n",
       "    <tr>\n",
       "      <th>0</th>\n",
       "      <td>9.0</td>\n",
       "      <td>0.590334</td>\n",
       "      <td>62.074857</td>\n",
       "      <td>33.034537</td>\n",
       "      <td>34</td>\n",
       "      <td>9.0</td>\n",
       "      <td>0.453900</td>\n",
       "      <td>70.679467</td>\n",
       "      <td>35.741694</td>\n",
       "      <td>28</td>\n",
       "    </tr>\n",
       "    <tr>\n",
       "      <th>0</th>\n",
       "      <td>10.0</td>\n",
       "      <td>0.499228</td>\n",
       "      <td>69.077539</td>\n",
       "      <td>32.084072</td>\n",
       "      <td>35</td>\n",
       "      <td>10.0</td>\n",
       "      <td>0.419865</td>\n",
       "      <td>74.246130</td>\n",
       "      <td>37.109052</td>\n",
       "      <td>48</td>\n",
       "    </tr>\n",
       "    <tr>\n",
       "      <th>0</th>\n",
       "      <td>11.0</td>\n",
       "      <td>0.378145</td>\n",
       "      <td>79.228325</td>\n",
       "      <td>35.605985</td>\n",
       "      <td>37</td>\n",
       "      <td>11.0</td>\n",
       "      <td>0.461359</td>\n",
       "      <td>79.077231</td>\n",
       "      <td>36.844557</td>\n",
       "      <td>47</td>\n",
       "    </tr>\n",
       "    <tr>\n",
       "      <th>0</th>\n",
       "      <td>12.0</td>\n",
       "      <td>0.491895</td>\n",
       "      <td>86.729167</td>\n",
       "      <td>35.620861</td>\n",
       "      <td>49</td>\n",
       "      <td>12.0</td>\n",
       "      <td>0.556372</td>\n",
       "      <td>88.475176</td>\n",
       "      <td>38.066397</td>\n",
       "      <td>57</td>\n",
       "    </tr>\n",
       "    <tr>\n",
       "      <th>0</th>\n",
       "      <td>13.0</td>\n",
       "      <td>0.460925</td>\n",
       "      <td>91.408633</td>\n",
       "      <td>35.719970</td>\n",
       "      <td>64</td>\n",
       "      <td>13.0</td>\n",
       "      <td>0.591260</td>\n",
       "      <td>104.764511</td>\n",
       "      <td>38.239457</td>\n",
       "      <td>56</td>\n",
       "    </tr>\n",
       "    <tr>\n",
       "      <th>0</th>\n",
       "      <td>14.0</td>\n",
       "      <td>0.414641</td>\n",
       "      <td>93.690899</td>\n",
       "      <td>36.282229</td>\n",
       "      <td>79</td>\n",
       "      <td>14.0</td>\n",
       "      <td>0.604825</td>\n",
       "      <td>119.968750</td>\n",
       "      <td>39.837959</td>\n",
       "      <td>47</td>\n",
       "    </tr>\n",
       "    <tr>\n",
       "      <th>0</th>\n",
       "      <td>15.0</td>\n",
       "      <td>0.488975</td>\n",
       "      <td>98.275568</td>\n",
       "      <td>36.013753</td>\n",
       "      <td>91</td>\n",
       "      <td>15.0</td>\n",
       "      <td>0.410458</td>\n",
       "      <td>135.469806</td>\n",
       "      <td>44.126831</td>\n",
       "      <td>54</td>\n",
       "    </tr>\n",
       "    <tr>\n",
       "      <th>0</th>\n",
       "      <td>16.0</td>\n",
       "      <td>0.481615</td>\n",
       "      <td>98.438147</td>\n",
       "      <td>37.518501</td>\n",
       "      <td>75</td>\n",
       "      <td>16.0</td>\n",
       "      <td>0.415670</td>\n",
       "      <td>136.709540</td>\n",
       "      <td>43.482741</td>\n",
       "      <td>57</td>\n",
       "    </tr>\n",
       "    <tr>\n",
       "      <th>0</th>\n",
       "      <td>17.0</td>\n",
       "      <td>0.424159</td>\n",
       "      <td>104.113539</td>\n",
       "      <td>38.858535</td>\n",
       "      <td>74</td>\n",
       "      <td>17.0</td>\n",
       "      <td>0.505748</td>\n",
       "      <td>140.332373</td>\n",
       "      <td>43.857097</td>\n",
       "      <td>40</td>\n",
       "    </tr>\n",
       "    <tr>\n",
       "      <th>0</th>\n",
       "      <td>18.0</td>\n",
       "      <td>0.424194</td>\n",
       "      <td>96.589584</td>\n",
       "      <td>35.956138</td>\n",
       "      <td>23</td>\n",
       "      <td>18.0</td>\n",
       "      <td>0.367849</td>\n",
       "      <td>141.514103</td>\n",
       "      <td>46.261542</td>\n",
       "      <td>19</td>\n",
       "    </tr>\n",
       "  </tbody>\n",
       "</table>\n",
       "</div>"
      ],
      "text/plain": [
       "   AgeGroup_F  Age_IQR_F  median_area_cm2_F  median_SMI_F samplesize_F  \\\n",
       "0         0.0   0.000000          14.640480     39.345553            1   \n",
       "0         1.0   0.455484          29.197116     41.796652            3   \n",
       "0         2.0   0.428267          32.976198     39.966734           13   \n",
       "0         3.0   0.253105          38.898695     38.597684           10   \n",
       "0         4.0   0.197646          36.271138     35.265092           10   \n",
       "0         5.0   0.492027          47.491601     37.241887           12   \n",
       "0         6.0   0.364520          46.258039     32.809869           28   \n",
       "0         7.0   0.503201          51.041177     32.358297           27   \n",
       "0         8.0   0.519758          55.980416     33.016537           30   \n",
       "0         9.0   0.590334          62.074857     33.034537           34   \n",
       "0        10.0   0.499228          69.077539     32.084072           35   \n",
       "0        11.0   0.378145          79.228325     35.605985           37   \n",
       "0        12.0   0.491895          86.729167     35.620861           49   \n",
       "0        13.0   0.460925          91.408633     35.719970           64   \n",
       "0        14.0   0.414641          93.690899     36.282229           79   \n",
       "0        15.0   0.488975          98.275568     36.013753           91   \n",
       "0        16.0   0.481615          98.438147     37.518501           75   \n",
       "0        17.0   0.424159         104.113539     38.858535           74   \n",
       "0        18.0   0.424194          96.589584     35.956138           23   \n",
       "\n",
       "   AgeGroup_M  Age_IQR_M  median_area_cm2_M  median_SMI_M samplesize_M  \n",
       "0         0.0   0.626472          19.765578     52.728610            4  \n",
       "0         1.0   0.000251          32.781918     47.632223            2  \n",
       "0         2.0   0.484531          34.897644     41.780362           20  \n",
       "0         3.0   0.397020          39.956490     40.795016           23  \n",
       "0         4.0   0.427749          46.676156     38.838462           25  \n",
       "0         5.0   0.479479          49.485522     38.228499           34  \n",
       "0         6.0   0.456054          51.296368     37.048667           32  \n",
       "0         7.0   0.585376          58.223413     36.757267           40  \n",
       "0         8.0   0.485649          61.582427     35.099803           33  \n",
       "0         9.0   0.453900          70.679467     35.741694           28  \n",
       "0        10.0   0.419865          74.246130     37.109052           48  \n",
       "0        11.0   0.461359          79.077231     36.844557           47  \n",
       "0        12.0   0.556372          88.475176     38.066397           57  \n",
       "0        13.0   0.591260         104.764511     38.239457           56  \n",
       "0        14.0   0.604825         119.968750     39.837959           47  \n",
       "0        15.0   0.410458         135.469806     44.126831           54  \n",
       "0        16.0   0.415670         136.709540     43.482741           57  \n",
       "0        17.0   0.505748         140.332373     43.857097           40  \n",
       "0        18.0   0.367849         141.514103     46.261542           19  "
      ]
     },
     "metadata": {},
     "output_type": "display_data"
    }
   ],
   "source": [
    "print('Count statistics stratified by gender and age group')\n",
    "print('(M - Male) (F-Female)')    \n",
    "df_f_agestats = get_agewise_stats(df_f).add_suffix('_F')\n",
    "df_m_agestats = get_agewise_stats(df_m).add_suffix('_M')\n",
    "\n",
    "display(pd.concat([df_f_agestats,df_m_agestats],axis=1))\n",
    "#df_f_agestats.to_csv(output+'/Female_summary.csv',index=False)"
   ]
  },
  {
   "cell_type": "markdown",
   "metadata": {
    "slideshow": {
     "slide_type": "slide"
    }
   },
   "source": [
    "### Calculate Z-scores for bmi, height and weight w.r.t to age from WHO/CDC data"
   ]
  },
  {
   "cell_type": "code",
   "execution_count": 32,
   "metadata": {
    "slideshow": {
     "slide_type": "skip"
    }
   },
   "outputs": [],
   "source": [
    "#pip install pygrowup\n",
    "from pygrowup import Calculator\n",
    "from pygrowup import helpers\n",
    "\n",
    "calculator = Calculator(include_cdc=True)\n",
    "\n",
    "def percentile_for_zscore(zscore):\n",
    "    return stats.norm.cdf(zscore)\n",
    "\n",
    "def zscore_for_percentile(p):\n",
    "    return stats.norm.ppf(p)\n",
    "\n",
    "def add_Z_scores(row):\n",
    "    try:\n",
    "        global calculator\n",
    "        valid_age = row['Age']*12\n",
    "        valid_gender = helpers.get_good_sex(row['Sex'])\n",
    "        if (np.isnan(row['HEIGHT'])):\n",
    "            row['height_age_Zscore'] = row[\"HEIGHT\"]\n",
    "        else:\n",
    "            row['height_age_Zscore'] = float(calculator.lhfa(row['HEIGHT'],valid_age,valid_gender))\n",
    "        \n",
    "        if (np.isnan(row['WEIGHT'])):\n",
    "            row['weight_age_Zscore'] = row[\"WEIGHT\"]\n",
    "        else:\n",
    "            row['weight_age_Zscore'] = float(calculator.wfa(row['WEIGHT'],valid_age,valid_gender))\n",
    "            \n",
    "        if (np.isnan(row['BMI_AGE_P'])):\n",
    "            row['bmi_age_Zscore'] = row['BMI_AGE_P']\n",
    "        else:\n",
    "            row['bmi_age_Zscore'] = zscore_for_percentile(row['BMI_AGE_P']/100)\n",
    "    except:\n",
    "        print(row)\n",
    "        raise\n",
    "    return row\n",
    "\n",
    "\n",
    "def add_Zpercentile_scores(row):\n",
    "    try:\n",
    "        if (np.isnan(row['weight_age_Zscore'])):\n",
    "            row['weight_age_Zpercentile'] = row[\"weight_age_Zscore\"]\n",
    "        else:\n",
    "            row['weight_age_Zpercentile'] = 100*percentile_for_zscore(row[\"weight_age_Zscore\"])\n",
    "        \n",
    "        if (np.isnan(row['height_age_Zscore'])):\n",
    "            row['height_age_Zpercentile'] = row[\"height_age_Zscore\"]\n",
    "        else:\n",
    "            row['height_age_Zpercentile'] = 100*percentile_for_zscore(row[\"height_age_Zscore\"])\n",
    "    except:\n",
    "        print(row)\n",
    "        raise\n",
    "    return row"
   ]
  },
  {
   "cell_type": "code",
   "execution_count": 33,
   "metadata": {
    "slideshow": {
     "slide_type": "skip"
    }
   },
   "outputs": [],
   "source": [
    "df_m = df_m.apply(add_Z_scores,axis=1)\n",
    "df_m = df_m.rename({'BMI_AGE_P':'bmi_age_Zpercentile'},axis=1)\n",
    "#df_m.weight_age_Zscore = df_m.weight_age_Zscore.astype(float)\n",
    "#df_m.height_age_Zscore = df_m.height_age_Zscore.astype(float)\n",
    "#df_m.bmi_age_Zscore = df_m.bmi_age_Zscore.astype(float)\n",
    "df_m = df_m.apply(add_Zpercentile_scores,axis=1)"
   ]
  },
  {
   "cell_type": "code",
   "execution_count": 34,
   "metadata": {
    "slideshow": {
     "slide_type": "skip"
    }
   },
   "outputs": [],
   "source": [
    "df_f = df_f.apply(add_Z_scores,axis=1)\n",
    "df_f = df_f.rename({'BMI_AGE_P':'bmi_age_Zpercentile'},axis=1)\n",
    "#df_m.weight_age_Zscore = df_m.weight_age_Zscore.astype(float)\n",
    "#df_m.height_age_Zscore = df_m.height_age_Zscore.astype(float)\n",
    "#df_m.bmi_age_Zscore = df_m.bmi_age_Zscore.astype(float)\n",
    "df_f = df_f.apply(add_Zpercentile_scores,axis=1)"
   ]
  },
  {
   "cell_type": "code",
   "execution_count": 35,
   "metadata": {
    "slideshow": {
     "slide_type": "skip"
    }
   },
   "outputs": [],
   "source": [
    "# Compute descriptive statistics on the dataframe\n",
    "def calculate_stats(df):\n",
    "    num_list = ['WEIGHT','HEIGHT','Age','area_cm2','smi','height_age_Zscore','height_age_Zpercentile',\n",
    "                'weight_age_Zscore','weight_age_Zpercentile','bmi_age_Zscore','bmi_age_Zpercentile']\n",
    "    df_num = df[num_list]\n",
    "    df_d = df_num.describe()\n",
    "    df_whites = df.loc[df['Race']=='White',num_list].describe()\n",
    "    df_blacks = df.loc[df['Race']=='Black or African American',num_list].describe()\n",
    "    df_others = df.loc[(df['Race']!='Black or African American') & (df['Race']!='White'),num_list].describe()\n",
    "    \n",
    "    df_whites = df_whites.add_suffix('_W')\n",
    "    df_blacks = df_blacks.add_suffix('_B')\n",
    "    df_others = df_others.add_suffix('_O')\n",
    "    return pd.concat([df_d, df_whites,df_blacks,df_others], axis=1)"
   ]
  },
  {
   "cell_type": "code",
   "execution_count": 36,
   "metadata": {
    "slideshow": {
     "slide_type": "skip"
    }
   },
   "outputs": [],
   "source": [
    "df_m_stats= calculate_stats(df_m).T.round(decimals=2)\n",
    "df_f_stats = calculate_stats(df_f).T.round(decimals=2)"
   ]
  },
  {
   "cell_type": "code",
   "execution_count": 37,
   "metadata": {
    "slideshow": {
     "slide_type": "slide"
    }
   },
   "outputs": [
    {
     "name": "stdout",
     "output_type": "stream",
     "text": [
      "Population Statistics for Male\n"
     ]
    },
    {
     "data": {
      "text/html": [
       "<div>\n",
       "<style scoped>\n",
       "    .dataframe tbody tr th:only-of-type {\n",
       "        vertical-align: middle;\n",
       "    }\n",
       "\n",
       "    .dataframe tbody tr th {\n",
       "        vertical-align: top;\n",
       "    }\n",
       "\n",
       "    .dataframe thead th {\n",
       "        text-align: right;\n",
       "    }\n",
       "</style>\n",
       "<table border=\"1\" class=\"dataframe\">\n",
       "  <thead>\n",
       "    <tr style=\"text-align: right;\">\n",
       "      <th></th>\n",
       "      <th>count</th>\n",
       "      <th>mean</th>\n",
       "      <th>std</th>\n",
       "      <th>min</th>\n",
       "      <th>25%</th>\n",
       "      <th>50%</th>\n",
       "      <th>75%</th>\n",
       "      <th>max</th>\n",
       "    </tr>\n",
       "  </thead>\n",
       "  <tbody>\n",
       "    <tr>\n",
       "      <th>WEIGHT</th>\n",
       "      <td>647.0</td>\n",
       "      <td>44.15</td>\n",
       "      <td>20.60</td>\n",
       "      <td>3.80</td>\n",
       "      <td>26.35</td>\n",
       "      <td>41.30</td>\n",
       "      <td>60.35</td>\n",
       "      <td>99.00</td>\n",
       "    </tr>\n",
       "    <tr>\n",
       "      <th>HEIGHT</th>\n",
       "      <td>659.0</td>\n",
       "      <td>147.10</td>\n",
       "      <td>27.68</td>\n",
       "      <td>49.00</td>\n",
       "      <td>126.50</td>\n",
       "      <td>150.00</td>\n",
       "      <td>170.34</td>\n",
       "      <td>205.74</td>\n",
       "    </tr>\n",
       "    <tr>\n",
       "      <th>Age</th>\n",
       "      <td>666.0</td>\n",
       "      <td>11.26</td>\n",
       "      <td>4.50</td>\n",
       "      <td>0.07</td>\n",
       "      <td>7.70</td>\n",
       "      <td>11.95</td>\n",
       "      <td>15.08</td>\n",
       "      <td>18.78</td>\n",
       "    </tr>\n",
       "    <tr>\n",
       "      <th>area_cm2</th>\n",
       "      <td>666.0</td>\n",
       "      <td>91.10</td>\n",
       "      <td>39.85</td>\n",
       "      <td>17.28</td>\n",
       "      <td>58.32</td>\n",
       "      <td>82.52</td>\n",
       "      <td>121.89</td>\n",
       "      <td>207.83</td>\n",
       "    </tr>\n",
       "    <tr>\n",
       "      <th>smi</th>\n",
       "      <td>659.0</td>\n",
       "      <td>40.13</td>\n",
       "      <td>6.90</td>\n",
       "      <td>15.51</td>\n",
       "      <td>35.47</td>\n",
       "      <td>39.36</td>\n",
       "      <td>44.24</td>\n",
       "      <td>77.50</td>\n",
       "    </tr>\n",
       "    <tr>\n",
       "      <th>height_age_Zscore</th>\n",
       "      <td>659.0</td>\n",
       "      <td>0.30</td>\n",
       "      <td>1.17</td>\n",
       "      <td>-5.62</td>\n",
       "      <td>-0.40</td>\n",
       "      <td>0.34</td>\n",
       "      <td>1.00</td>\n",
       "      <td>4.26</td>\n",
       "    </tr>\n",
       "    <tr>\n",
       "      <th>height_age_Zpercentile</th>\n",
       "      <td>659.0</td>\n",
       "      <td>58.31</td>\n",
       "      <td>30.00</td>\n",
       "      <td>0.00</td>\n",
       "      <td>34.27</td>\n",
       "      <td>63.31</td>\n",
       "      <td>84.13</td>\n",
       "      <td>100.00</td>\n",
       "    </tr>\n",
       "    <tr>\n",
       "      <th>weight_age_Zscore</th>\n",
       "      <td>647.0</td>\n",
       "      <td>0.34</td>\n",
       "      <td>0.96</td>\n",
       "      <td>-7.34</td>\n",
       "      <td>-0.25</td>\n",
       "      <td>0.41</td>\n",
       "      <td>1.03</td>\n",
       "      <td>2.43</td>\n",
       "    </tr>\n",
       "    <tr>\n",
       "      <th>weight_age_Zpercentile</th>\n",
       "      <td>647.0</td>\n",
       "      <td>60.96</td>\n",
       "      <td>27.50</td>\n",
       "      <td>0.00</td>\n",
       "      <td>40.13</td>\n",
       "      <td>65.91</td>\n",
       "      <td>84.85</td>\n",
       "      <td>99.25</td>\n",
       "    </tr>\n",
       "    <tr>\n",
       "      <th>bmi_age_Zscore</th>\n",
       "      <td>666.0</td>\n",
       "      <td>0.33</td>\n",
       "      <td>0.83</td>\n",
       "      <td>-1.62</td>\n",
       "      <td>-0.23</td>\n",
       "      <td>0.44</td>\n",
       "      <td>1.02</td>\n",
       "      <td>1.64</td>\n",
       "    </tr>\n",
       "    <tr>\n",
       "      <th>bmi_age_Zpercentile</th>\n",
       "      <td>666.0</td>\n",
       "      <td>60.65</td>\n",
       "      <td>26.72</td>\n",
       "      <td>5.30</td>\n",
       "      <td>40.74</td>\n",
       "      <td>67.09</td>\n",
       "      <td>84.71</td>\n",
       "      <td>94.99</td>\n",
       "    </tr>\n",
       "  </tbody>\n",
       "</table>\n",
       "</div>"
      ],
      "text/plain": [
       "                        count    mean    std    min     25%     50%     75%  \\\n",
       "WEIGHT                  647.0   44.15  20.60   3.80   26.35   41.30   60.35   \n",
       "HEIGHT                  659.0  147.10  27.68  49.00  126.50  150.00  170.34   \n",
       "Age                     666.0   11.26   4.50   0.07    7.70   11.95   15.08   \n",
       "area_cm2                666.0   91.10  39.85  17.28   58.32   82.52  121.89   \n",
       "smi                     659.0   40.13   6.90  15.51   35.47   39.36   44.24   \n",
       "height_age_Zscore       659.0    0.30   1.17  -5.62   -0.40    0.34    1.00   \n",
       "height_age_Zpercentile  659.0   58.31  30.00   0.00   34.27   63.31   84.13   \n",
       "weight_age_Zscore       647.0    0.34   0.96  -7.34   -0.25    0.41    1.03   \n",
       "weight_age_Zpercentile  647.0   60.96  27.50   0.00   40.13   65.91   84.85   \n",
       "bmi_age_Zscore          666.0    0.33   0.83  -1.62   -0.23    0.44    1.02   \n",
       "bmi_age_Zpercentile     666.0   60.65  26.72   5.30   40.74   67.09   84.71   \n",
       "\n",
       "                           max  \n",
       "WEIGHT                   99.00  \n",
       "HEIGHT                  205.74  \n",
       "Age                      18.78  \n",
       "area_cm2                207.83  \n",
       "smi                      77.50  \n",
       "height_age_Zscore         4.26  \n",
       "height_age_Zpercentile  100.00  \n",
       "weight_age_Zscore         2.43  \n",
       "weight_age_Zpercentile   99.25  \n",
       "bmi_age_Zscore            1.64  \n",
       "bmi_age_Zpercentile      94.99  "
      ]
     },
     "metadata": {},
     "output_type": "display_data"
    }
   ],
   "source": [
    "print(\"Population Statistics for Male\")\n",
    "display(df_m_stats.head(11))"
   ]
  },
  {
   "cell_type": "code",
   "execution_count": 38,
   "metadata": {
    "slideshow": {
     "slide_type": "slide"
    }
   },
   "outputs": [
    {
     "name": "stdout",
     "output_type": "stream",
     "text": [
      "Population Statistics for Female\n"
     ]
    },
    {
     "data": {
      "text/html": [
       "<div>\n",
       "<style scoped>\n",
       "    .dataframe tbody tr th:only-of-type {\n",
       "        vertical-align: middle;\n",
       "    }\n",
       "\n",
       "    .dataframe tbody tr th {\n",
       "        vertical-align: top;\n",
       "    }\n",
       "\n",
       "    .dataframe thead th {\n",
       "        text-align: right;\n",
       "    }\n",
       "</style>\n",
       "<table border=\"1\" class=\"dataframe\">\n",
       "  <thead>\n",
       "    <tr style=\"text-align: right;\">\n",
       "      <th></th>\n",
       "      <th>count</th>\n",
       "      <th>mean</th>\n",
       "      <th>std</th>\n",
       "      <th>min</th>\n",
       "      <th>25%</th>\n",
       "      <th>50%</th>\n",
       "      <th>75%</th>\n",
       "      <th>max</th>\n",
       "    </tr>\n",
       "  </thead>\n",
       "  <tbody>\n",
       "    <tr>\n",
       "      <th>WEIGHT</th>\n",
       "      <td>685.0</td>\n",
       "      <td>48.46</td>\n",
       "      <td>17.52</td>\n",
       "      <td>6.00</td>\n",
       "      <td>34.80</td>\n",
       "      <td>51.30</td>\n",
       "      <td>62.10</td>\n",
       "      <td>89.00</td>\n",
       "    </tr>\n",
       "    <tr>\n",
       "      <th>HEIGHT</th>\n",
       "      <td>687.0</td>\n",
       "      <td>149.91</td>\n",
       "      <td>20.89</td>\n",
       "      <td>61.00</td>\n",
       "      <td>140.35</td>\n",
       "      <td>157.00</td>\n",
       "      <td>164.25</td>\n",
       "      <td>191.00</td>\n",
       "    </tr>\n",
       "    <tr>\n",
       "      <th>Age</th>\n",
       "      <td>695.0</td>\n",
       "      <td>12.86</td>\n",
       "      <td>4.08</td>\n",
       "      <td>0.32</td>\n",
       "      <td>10.07</td>\n",
       "      <td>13.92</td>\n",
       "      <td>15.99</td>\n",
       "      <td>18.94</td>\n",
       "    </tr>\n",
       "    <tr>\n",
       "      <th>area_cm2</th>\n",
       "      <td>695.0</td>\n",
       "      <td>82.99</td>\n",
       "      <td>25.00</td>\n",
       "      <td>14.64</td>\n",
       "      <td>64.11</td>\n",
       "      <td>86.38</td>\n",
       "      <td>102.21</td>\n",
       "      <td>146.42</td>\n",
       "    </tr>\n",
       "    <tr>\n",
       "      <th>smi</th>\n",
       "      <td>687.0</td>\n",
       "      <td>36.23</td>\n",
       "      <td>5.78</td>\n",
       "      <td>13.00</td>\n",
       "      <td>32.66</td>\n",
       "      <td>35.69</td>\n",
       "      <td>39.94</td>\n",
       "      <td>77.72</td>\n",
       "    </tr>\n",
       "    <tr>\n",
       "      <th>height_age_Zscore</th>\n",
       "      <td>687.0</td>\n",
       "      <td>0.11</td>\n",
       "      <td>1.16</td>\n",
       "      <td>-7.65</td>\n",
       "      <td>-0.57</td>\n",
       "      <td>0.12</td>\n",
       "      <td>0.81</td>\n",
       "      <td>5.00</td>\n",
       "    </tr>\n",
       "    <tr>\n",
       "      <th>height_age_Zpercentile</th>\n",
       "      <td>687.0</td>\n",
       "      <td>53.68</td>\n",
       "      <td>29.93</td>\n",
       "      <td>0.00</td>\n",
       "      <td>28.26</td>\n",
       "      <td>54.78</td>\n",
       "      <td>79.10</td>\n",
       "      <td>100.00</td>\n",
       "    </tr>\n",
       "    <tr>\n",
       "      <th>weight_age_Zscore</th>\n",
       "      <td>685.0</td>\n",
       "      <td>0.39</td>\n",
       "      <td>0.91</td>\n",
       "      <td>-3.91</td>\n",
       "      <td>-0.14</td>\n",
       "      <td>0.51</td>\n",
       "      <td>1.05</td>\n",
       "      <td>2.37</td>\n",
       "    </tr>\n",
       "    <tr>\n",
       "      <th>weight_age_Zpercentile</th>\n",
       "      <td>685.0</td>\n",
       "      <td>63.12</td>\n",
       "      <td>26.33</td>\n",
       "      <td>0.00</td>\n",
       "      <td>44.43</td>\n",
       "      <td>69.50</td>\n",
       "      <td>85.31</td>\n",
       "      <td>99.11</td>\n",
       "    </tr>\n",
       "    <tr>\n",
       "      <th>bmi_age_Zscore</th>\n",
       "      <td>695.0</td>\n",
       "      <td>0.42</td>\n",
       "      <td>0.78</td>\n",
       "      <td>-1.64</td>\n",
       "      <td>-0.06</td>\n",
       "      <td>0.48</td>\n",
       "      <td>1.06</td>\n",
       "      <td>1.64</td>\n",
       "    </tr>\n",
       "    <tr>\n",
       "      <th>bmi_age_Zpercentile</th>\n",
       "      <td>695.0</td>\n",
       "      <td>63.65</td>\n",
       "      <td>25.09</td>\n",
       "      <td>5.00</td>\n",
       "      <td>47.80</td>\n",
       "      <td>68.61</td>\n",
       "      <td>85.50</td>\n",
       "      <td>94.99</td>\n",
       "    </tr>\n",
       "  </tbody>\n",
       "</table>\n",
       "</div>"
      ],
      "text/plain": [
       "                        count    mean    std    min     25%     50%     75%  \\\n",
       "WEIGHT                  685.0   48.46  17.52   6.00   34.80   51.30   62.10   \n",
       "HEIGHT                  687.0  149.91  20.89  61.00  140.35  157.00  164.25   \n",
       "Age                     695.0   12.86   4.08   0.32   10.07   13.92   15.99   \n",
       "area_cm2                695.0   82.99  25.00  14.64   64.11   86.38  102.21   \n",
       "smi                     687.0   36.23   5.78  13.00   32.66   35.69   39.94   \n",
       "height_age_Zscore       687.0    0.11   1.16  -7.65   -0.57    0.12    0.81   \n",
       "height_age_Zpercentile  687.0   53.68  29.93   0.00   28.26   54.78   79.10   \n",
       "weight_age_Zscore       685.0    0.39   0.91  -3.91   -0.14    0.51    1.05   \n",
       "weight_age_Zpercentile  685.0   63.12  26.33   0.00   44.43   69.50   85.31   \n",
       "bmi_age_Zscore          695.0    0.42   0.78  -1.64   -0.06    0.48    1.06   \n",
       "bmi_age_Zpercentile     695.0   63.65  25.09   5.00   47.80   68.61   85.50   \n",
       "\n",
       "                           max  \n",
       "WEIGHT                   89.00  \n",
       "HEIGHT                  191.00  \n",
       "Age                      18.94  \n",
       "area_cm2                146.42  \n",
       "smi                      77.72  \n",
       "height_age_Zscore         5.00  \n",
       "height_age_Zpercentile  100.00  \n",
       "weight_age_Zscore         2.37  \n",
       "weight_age_Zpercentile   99.11  \n",
       "bmi_age_Zscore            1.64  \n",
       "bmi_age_Zpercentile      94.99  "
      ]
     },
     "metadata": {},
     "output_type": "display_data"
    }
   ],
   "source": [
    "print(\"Population Statistics for Female\")\n",
    "display(df_f_stats.head(11))"
   ]
  },
  {
   "cell_type": "markdown",
   "metadata": {
    "slideshow": {
     "slide_type": "slide"
    }
   },
   "source": [
    "## Correlation metrics"
   ]
  },
  {
   "cell_type": "code",
   "execution_count": 39,
   "metadata": {
    "slideshow": {
     "slide_type": "skip"
    }
   },
   "outputs": [],
   "source": [
    "from scipy.stats import pearsonr\n",
    "import pandas as pd\n",
    "\n",
    "def calculate_pvalues(df):\n",
    "    # https://stackoverflow.com/questions/25571882/pandas-columns-correlation-with-statistical-significance\n",
    "    df = df.dropna()._get_numeric_data()\n",
    "    dfcols = pd.DataFrame(columns=df.columns)\n",
    "    pvalues = dfcols.transpose().join(dfcols, how='outer')\n",
    "    for r in df.columns:\n",
    "        for c in df.columns:\n",
    "            pvalues[r][c] = round(pearsonr(df[r], df[c])[1], 9)\n",
    "    return pvalues"
   ]
  },
  {
   "cell_type": "code",
   "execution_count": 40,
   "metadata": {
    "slideshow": {
     "slide_type": "slide"
    }
   },
   "outputs": [
    {
     "name": "stdout",
     "output_type": "stream",
     "text": [
      "Correlation Map Male\n"
     ]
    },
    {
     "data": {
      "text/html": [
       "<div>\n",
       "<style scoped>\n",
       "    .dataframe tbody tr th:only-of-type {\n",
       "        vertical-align: middle;\n",
       "    }\n",
       "\n",
       "    .dataframe tbody tr th {\n",
       "        vertical-align: top;\n",
       "    }\n",
       "\n",
       "    .dataframe thead th {\n",
       "        text-align: right;\n",
       "    }\n",
       "</style>\n",
       "<table border=\"1\" class=\"dataframe\">\n",
       "  <thead>\n",
       "    <tr style=\"text-align: right;\">\n",
       "      <th></th>\n",
       "      <th>WEIGHT</th>\n",
       "      <th>HEIGHT</th>\n",
       "      <th>Age</th>\n",
       "      <th>BMI_CALC</th>\n",
       "      <th>area_cm2</th>\n",
       "      <th>smi</th>\n",
       "    </tr>\n",
       "  </thead>\n",
       "  <tbody>\n",
       "    <tr>\n",
       "      <th>WEIGHT</th>\n",
       "      <td>1.000</td>\n",
       "      <td>0.934</td>\n",
       "      <td>0.906</td>\n",
       "      <td>0.848</td>\n",
       "      <td>0.937</td>\n",
       "      <td>0.351</td>\n",
       "    </tr>\n",
       "    <tr>\n",
       "      <th>HEIGHT</th>\n",
       "      <td>0.934</td>\n",
       "      <td>1.000</td>\n",
       "      <td>0.949</td>\n",
       "      <td>0.668</td>\n",
       "      <td>0.899</td>\n",
       "      <td>0.174</td>\n",
       "    </tr>\n",
       "    <tr>\n",
       "      <th>Age</th>\n",
       "      <td>0.906</td>\n",
       "      <td>0.949</td>\n",
       "      <td>1.000</td>\n",
       "      <td>0.686</td>\n",
       "      <td>0.880</td>\n",
       "      <td>0.236</td>\n",
       "    </tr>\n",
       "    <tr>\n",
       "      <th>BMI_CALC</th>\n",
       "      <td>0.848</td>\n",
       "      <td>0.668</td>\n",
       "      <td>0.686</td>\n",
       "      <td>1.000</td>\n",
       "      <td>0.773</td>\n",
       "      <td>0.495</td>\n",
       "    </tr>\n",
       "    <tr>\n",
       "      <th>area_cm2</th>\n",
       "      <td>0.937</td>\n",
       "      <td>0.899</td>\n",
       "      <td>0.880</td>\n",
       "      <td>0.773</td>\n",
       "      <td>1.000</td>\n",
       "      <td>0.562</td>\n",
       "    </tr>\n",
       "    <tr>\n",
       "      <th>smi</th>\n",
       "      <td>0.351</td>\n",
       "      <td>0.174</td>\n",
       "      <td>0.236</td>\n",
       "      <td>0.495</td>\n",
       "      <td>0.562</td>\n",
       "      <td>1.000</td>\n",
       "    </tr>\n",
       "  </tbody>\n",
       "</table>\n",
       "</div>"
      ],
      "text/plain": [
       "          WEIGHT  HEIGHT    Age  BMI_CALC  area_cm2    smi\n",
       "WEIGHT     1.000   0.934  0.906     0.848     0.937  0.351\n",
       "HEIGHT     0.934   1.000  0.949     0.668     0.899  0.174\n",
       "Age        0.906   0.949  1.000     0.686     0.880  0.236\n",
       "BMI_CALC   0.848   0.668  0.686     1.000     0.773  0.495\n",
       "area_cm2   0.937   0.899  0.880     0.773     1.000  0.562\n",
       "smi        0.351   0.174  0.236     0.495     0.562  1.000"
      ]
     },
     "metadata": {},
     "output_type": "display_data"
    }
   ],
   "source": [
    "print('Correlation Map Male')\n",
    "display(df_m[['WEIGHT','HEIGHT','Age','BMI_CALC','area_cm2','smi']].corr().round(3))"
   ]
  },
  {
   "cell_type": "code",
   "execution_count": 41,
   "metadata": {
    "slideshow": {
     "slide_type": "subslide"
    }
   },
   "outputs": [
    {
     "name": "stdout",
     "output_type": "stream",
     "text": [
      "P-values for Correlation map - male, P < 0.05 are statistically significant\n"
     ]
    },
    {
     "data": {
      "text/html": [
       "<div>\n",
       "<style scoped>\n",
       "    .dataframe tbody tr th:only-of-type {\n",
       "        vertical-align: middle;\n",
       "    }\n",
       "\n",
       "    .dataframe tbody tr th {\n",
       "        vertical-align: top;\n",
       "    }\n",
       "\n",
       "    .dataframe thead th {\n",
       "        text-align: right;\n",
       "    }\n",
       "</style>\n",
       "<table border=\"1\" class=\"dataframe\">\n",
       "  <thead>\n",
       "    <tr style=\"text-align: right;\">\n",
       "      <th></th>\n",
       "      <th>WEIGHT</th>\n",
       "      <th>HEIGHT</th>\n",
       "      <th>Age</th>\n",
       "      <th>BMI_CALC</th>\n",
       "      <th>area_cm2</th>\n",
       "      <th>smi</th>\n",
       "    </tr>\n",
       "  </thead>\n",
       "  <tbody>\n",
       "    <tr>\n",
       "      <th>WEIGHT</th>\n",
       "      <td>0</td>\n",
       "      <td>0</td>\n",
       "      <td>0</td>\n",
       "      <td>0</td>\n",
       "      <td>0</td>\n",
       "      <td>0</td>\n",
       "    </tr>\n",
       "    <tr>\n",
       "      <th>HEIGHT</th>\n",
       "      <td>0</td>\n",
       "      <td>0</td>\n",
       "      <td>0</td>\n",
       "      <td>0</td>\n",
       "      <td>0</td>\n",
       "      <td>0.000491153</td>\n",
       "    </tr>\n",
       "    <tr>\n",
       "      <th>Age</th>\n",
       "      <td>0</td>\n",
       "      <td>0</td>\n",
       "      <td>0</td>\n",
       "      <td>0</td>\n",
       "      <td>0</td>\n",
       "      <td>9.1e-07</td>\n",
       "    </tr>\n",
       "    <tr>\n",
       "      <th>BMI_CALC</th>\n",
       "      <td>0</td>\n",
       "      <td>0</td>\n",
       "      <td>0</td>\n",
       "      <td>0</td>\n",
       "      <td>0</td>\n",
       "      <td>0</td>\n",
       "    </tr>\n",
       "    <tr>\n",
       "      <th>area_cm2</th>\n",
       "      <td>0</td>\n",
       "      <td>0</td>\n",
       "      <td>0</td>\n",
       "      <td>0</td>\n",
       "      <td>0</td>\n",
       "      <td>0</td>\n",
       "    </tr>\n",
       "    <tr>\n",
       "      <th>smi</th>\n",
       "      <td>0</td>\n",
       "      <td>0.000491153</td>\n",
       "      <td>9.1e-07</td>\n",
       "      <td>0</td>\n",
       "      <td>0</td>\n",
       "      <td>0</td>\n",
       "    </tr>\n",
       "  </tbody>\n",
       "</table>\n",
       "</div>"
      ],
      "text/plain": [
       "         WEIGHT       HEIGHT      Age BMI_CALC area_cm2          smi\n",
       "WEIGHT        0            0        0        0        0            0\n",
       "HEIGHT        0            0        0        0        0  0.000491153\n",
       "Age           0            0        0        0        0      9.1e-07\n",
       "BMI_CALC      0            0        0        0        0            0\n",
       "area_cm2      0            0        0        0        0            0\n",
       "smi           0  0.000491153  9.1e-07        0        0            0"
      ]
     },
     "metadata": {},
     "output_type": "display_data"
    }
   ],
   "source": [
    "print('P-values for Correlation map - male, P < 0.05 are statistically significant')\n",
    "display(calculate_pvalues(df_m[['WEIGHT','HEIGHT','Age','BMI_CALC','area_cm2','smi']]))"
   ]
  },
  {
   "cell_type": "code",
   "execution_count": 42,
   "metadata": {
    "slideshow": {
     "slide_type": "slide"
    }
   },
   "outputs": [
    {
     "name": "stdout",
     "output_type": "stream",
     "text": [
      "Correlation Map Female\n"
     ]
    },
    {
     "data": {
      "text/html": [
       "<div>\n",
       "<style scoped>\n",
       "    .dataframe tbody tr th:only-of-type {\n",
       "        vertical-align: middle;\n",
       "    }\n",
       "\n",
       "    .dataframe tbody tr th {\n",
       "        vertical-align: top;\n",
       "    }\n",
       "\n",
       "    .dataframe thead th {\n",
       "        text-align: right;\n",
       "    }\n",
       "</style>\n",
       "<table border=\"1\" class=\"dataframe\">\n",
       "  <thead>\n",
       "    <tr style=\"text-align: right;\">\n",
       "      <th></th>\n",
       "      <th>WEIGHT</th>\n",
       "      <th>HEIGHT</th>\n",
       "      <th>Age</th>\n",
       "      <th>BMI_CALC</th>\n",
       "      <th>area_cm2</th>\n",
       "      <th>smi</th>\n",
       "    </tr>\n",
       "  </thead>\n",
       "  <tbody>\n",
       "    <tr>\n",
       "      <th>WEIGHT</th>\n",
       "      <td>1.000</td>\n",
       "      <td>0.891</td>\n",
       "      <td>0.861</td>\n",
       "      <td>0.877</td>\n",
       "      <td>0.886</td>\n",
       "      <td>0.231</td>\n",
       "    </tr>\n",
       "    <tr>\n",
       "      <th>HEIGHT</th>\n",
       "      <td>0.891</td>\n",
       "      <td>1.000</td>\n",
       "      <td>0.891</td>\n",
       "      <td>0.611</td>\n",
       "      <td>0.846</td>\n",
       "      <td>-0.010</td>\n",
       "    </tr>\n",
       "    <tr>\n",
       "      <th>Age</th>\n",
       "      <td>0.861</td>\n",
       "      <td>0.891</td>\n",
       "      <td>1.000</td>\n",
       "      <td>0.671</td>\n",
       "      <td>0.823</td>\n",
       "      <td>0.141</td>\n",
       "    </tr>\n",
       "    <tr>\n",
       "      <th>BMI_CALC</th>\n",
       "      <td>0.877</td>\n",
       "      <td>0.611</td>\n",
       "      <td>0.671</td>\n",
       "      <td>1.000</td>\n",
       "      <td>0.746</td>\n",
       "      <td>0.413</td>\n",
       "    </tr>\n",
       "    <tr>\n",
       "      <th>area_cm2</th>\n",
       "      <td>0.886</td>\n",
       "      <td>0.846</td>\n",
       "      <td>0.823</td>\n",
       "      <td>0.746</td>\n",
       "      <td>1.000</td>\n",
       "      <td>0.503</td>\n",
       "    </tr>\n",
       "    <tr>\n",
       "      <th>smi</th>\n",
       "      <td>0.231</td>\n",
       "      <td>-0.010</td>\n",
       "      <td>0.141</td>\n",
       "      <td>0.413</td>\n",
       "      <td>0.503</td>\n",
       "      <td>1.000</td>\n",
       "    </tr>\n",
       "  </tbody>\n",
       "</table>\n",
       "</div>"
      ],
      "text/plain": [
       "          WEIGHT  HEIGHT    Age  BMI_CALC  area_cm2    smi\n",
       "WEIGHT     1.000   0.891  0.861     0.877     0.886  0.231\n",
       "HEIGHT     0.891   1.000  0.891     0.611     0.846 -0.010\n",
       "Age        0.861   0.891  1.000     0.671     0.823  0.141\n",
       "BMI_CALC   0.877   0.611  0.671     1.000     0.746  0.413\n",
       "area_cm2   0.886   0.846  0.823     0.746     1.000  0.503\n",
       "smi        0.231  -0.010  0.141     0.413     0.503  1.000"
      ]
     },
     "metadata": {},
     "output_type": "display_data"
    }
   ],
   "source": [
    "print('Correlation Map Female')\n",
    "display(df_f[['WEIGHT','HEIGHT','Age','BMI_CALC','area_cm2','smi']].corr().round(3))"
   ]
  },
  {
   "cell_type": "code",
   "execution_count": 43,
   "metadata": {
    "slideshow": {
     "slide_type": "subslide"
    }
   },
   "outputs": [
    {
     "name": "stdout",
     "output_type": "stream",
     "text": [
      "P-values for Correlation map - female, P < 0.05 are statistically significant\n"
     ]
    },
    {
     "data": {
      "text/html": [
       "<div>\n",
       "<style scoped>\n",
       "    .dataframe tbody tr th:only-of-type {\n",
       "        vertical-align: middle;\n",
       "    }\n",
       "\n",
       "    .dataframe tbody tr th {\n",
       "        vertical-align: top;\n",
       "    }\n",
       "\n",
       "    .dataframe thead th {\n",
       "        text-align: right;\n",
       "    }\n",
       "</style>\n",
       "<table border=\"1\" class=\"dataframe\">\n",
       "  <thead>\n",
       "    <tr style=\"text-align: right;\">\n",
       "      <th></th>\n",
       "      <th>WEIGHT</th>\n",
       "      <th>HEIGHT</th>\n",
       "      <th>Age</th>\n",
       "      <th>BMI_CALC</th>\n",
       "      <th>area_cm2</th>\n",
       "      <th>smi</th>\n",
       "    </tr>\n",
       "  </thead>\n",
       "  <tbody>\n",
       "    <tr>\n",
       "      <th>WEIGHT</th>\n",
       "      <td>0</td>\n",
       "      <td>0</td>\n",
       "      <td>0</td>\n",
       "      <td>0</td>\n",
       "      <td>0</td>\n",
       "      <td>5.4e-08</td>\n",
       "    </tr>\n",
       "    <tr>\n",
       "      <th>HEIGHT</th>\n",
       "      <td>0</td>\n",
       "      <td>0</td>\n",
       "      <td>0</td>\n",
       "      <td>0</td>\n",
       "      <td>0</td>\n",
       "      <td>0.457355</td>\n",
       "    </tr>\n",
       "    <tr>\n",
       "      <th>Age</th>\n",
       "      <td>0</td>\n",
       "      <td>0</td>\n",
       "      <td>0</td>\n",
       "      <td>0</td>\n",
       "      <td>0</td>\n",
       "      <td>0.00473745</td>\n",
       "    </tr>\n",
       "    <tr>\n",
       "      <th>BMI_CALC</th>\n",
       "      <td>0</td>\n",
       "      <td>0</td>\n",
       "      <td>0</td>\n",
       "      <td>0</td>\n",
       "      <td>0</td>\n",
       "      <td>0</td>\n",
       "    </tr>\n",
       "    <tr>\n",
       "      <th>area_cm2</th>\n",
       "      <td>0</td>\n",
       "      <td>0</td>\n",
       "      <td>0</td>\n",
       "      <td>0</td>\n",
       "      <td>0</td>\n",
       "      <td>0</td>\n",
       "    </tr>\n",
       "    <tr>\n",
       "      <th>smi</th>\n",
       "      <td>5.4e-08</td>\n",
       "      <td>0.457355</td>\n",
       "      <td>0.00473745</td>\n",
       "      <td>0</td>\n",
       "      <td>0</td>\n",
       "      <td>0</td>\n",
       "    </tr>\n",
       "  </tbody>\n",
       "</table>\n",
       "</div>"
      ],
      "text/plain": [
       "           WEIGHT    HEIGHT         Age BMI_CALC area_cm2         smi\n",
       "WEIGHT          0         0           0        0        0     5.4e-08\n",
       "HEIGHT          0         0           0        0        0    0.457355\n",
       "Age             0         0           0        0        0  0.00473745\n",
       "BMI_CALC        0         0           0        0        0           0\n",
       "area_cm2        0         0           0        0        0           0\n",
       "smi       5.4e-08  0.457355  0.00473745        0        0           0"
      ]
     },
     "metadata": {},
     "output_type": "display_data"
    }
   ],
   "source": [
    "print('P-values for Correlation map - female, P < 0.05 are statistically significant')\n",
    "display(calculate_pvalues(df_f[['WEIGHT','HEIGHT','Age','BMI_CALC','area_cm2','smi']]))"
   ]
  },
  {
   "cell_type": "markdown",
   "metadata": {
    "slideshow": {
     "slide_type": "slide"
    }
   },
   "source": [
    "## Quantile Regression with Splines"
   ]
  },
  {
   "cell_type": "code",
   "execution_count": 44,
   "metadata": {
    "slideshow": {
     "slide_type": "skip"
    }
   },
   "outputs": [],
   "source": [
    "# Get Restricted Cubic splines by transforming independent variable (age)\n",
    "from statsmodels.regression.quantile_regression import QuantReg as QR\n",
    "# Reference: \n",
    "from patsy import dmatrix\n",
    "import statsmodels.api as sm\n",
    "import statsmodels.formula.api as smf\n",
    "from sklearn.metrics import mean_squared_error\n",
    "from math import sqrt"
   ]
  },
  {
   "cell_type": "code",
   "execution_count": 45,
   "metadata": {
    "slideshow": {
     "slide_type": "skip"
    }
   },
   "outputs": [],
   "source": [
    "def calculate_aic(model):\n",
    "    # https://www.scribbr.com/statistics/akaike-information-criterion/\n",
    "    K = model.df_model + 2\n",
    "    L = sum(abs(model.resid))/model.nobs# For q=0.5, this should work! verify later using R\n",
    "    AIC = 2*K - 2*np.log(L)\n",
    "    return AIC,L\n",
    "\n",
    "def get_knots(x,nknots):\n",
    "    # Knot locations are set based on this article\n",
    "    #https://support.sas.com/resources/papers/proceedings16/5621-2016.pdf\n",
    "    if nknots == 3:\n",
    "        return str((x.quantile(0.1),x.quantile(0.5),x.quantile(0.9)))\n",
    "    elif nknots == 4:\n",
    "        return str((x.quantile(0.05),x.quantile(0.35),x.quantile(0.65),x.quantile(0.95)))\n",
    "    elif nknots == 5:\n",
    "        return str((x.quantile(0.05),x.quantile(0.275),x.quantile(0.5),x.quantile(0.725),x.quantile(0.95)))\n",
    "\n",
    "def spline_model_optimizer(df,response_var,predictor_var='Age',degrees=[1,2,3],nknots=[3,4,5]):\n",
    "    # Storage parameters\n",
    "    model_dict = {}\n",
    "    akaike_dict = {}\n",
    "    aic_dict = {}\n",
    "    L_dict = {}\n",
    "    knots_dict = {} \n",
    "    degrees_dict = {}\n",
    "    model_keys = []\n",
    "    \n",
    "    # Knot constraints\n",
    "    min_knot = 3\n",
    "    max_knot = 15 + 1 # [+1 for python]\n",
    "    min_knot_diff = 3\n",
    "    \n",
    "    # Iterate over all knots\n",
    "    model_count = 0\n",
    "    for knot in nknots :\n",
    "        knots = get_knots(np.floor(df[predictor_var]),knot)\n",
    "        # Iterate over all polynomial degrees\n",
    "        for deg in degrees:\n",
    "            # Book-keeping\n",
    "            model_count += 1\n",
    "            mkey = 'm'+ str(model_count)\n",
    "            model_keys.append(mkey)\n",
    "            knots_dict[mkey] = knots\n",
    "            degrees_dict[mkey] = deg\n",
    "            \n",
    "            # Transformed input for splines\n",
    "            transformed_age = dmatrix(\"bs(train, knots=\" + knots + \", degree=\" + str(deg) + \n",
    "                                      \", include_intercept=False)\",\n",
    "                                      {\"train\": df[predictor_var].values},return_type='dataframe')\n",
    "            \n",
    "            # Fit qr model\n",
    "            qr_model = QR(df[response_var].values,transformed_age.values)\n",
    "            fit_qr_mid = qr_model.fit(q=0.50)\n",
    "            \n",
    "            # Fit GLM model\n",
    "            fit_glm = sm.GLM(df[response_var].values,transformed_age.values).fit()\n",
    "            \n",
    "            model_dict[mkey] = qr_model\n",
    "            \n",
    "            # Get AIC\n",
    "            akaike_dict[mkey], L_dict[mkey] = calculate_aic(fit_qr_mid)\n",
    "             \n",
    "            # Get aic of GLM model\n",
    "            aic_dict[mkey] = fit_glm.aic\n",
    "            \n",
    "    # Find best model\n",
    "    best_model = min(akaike_dict, key=akaike_dict.get)\n",
    "    \n",
    "    # for debug\n",
    "    # return model_dict,aic_dict,akaike_dict,L_dict,knots_dict,degrees_dict,model_keys,best_model\n",
    "    return model_dict[best_model],knots_dict[best_model],degrees_dict[best_model]"
   ]
  },
  {
   "cell_type": "code",
   "execution_count": 46,
   "metadata": {
    "slideshow": {
     "slide_type": "skip"
    }
   },
   "outputs": [],
   "source": [
    "def fit_bs_models(model,qlist):\n",
    "    res = [model.fit(q=q) for q in qlist] \n",
    "    return res\n",
    "\n",
    "\n",
    "def get_transformed_x(x,knots,degrees):\n",
    "    transformed_x = dmatrix(\"bs(train, knots=\" + knots +\", degree= \"+ str(degrees) \n",
    "                    +\",include_intercept=False)\", {\"train\": x},return_type='dataframe')\n",
    "    return transformed_x\n",
    "\n",
    "\n",
    "def find_points_above(model,x_data,y_data):\n",
    "    y_m = model.predict(x_data)\n",
    "    points = y_data > y_m\n",
    "    outlier_count = sum(points)\n",
    "    return outlier_count, points\n",
    "\n",
    "def find_points_below(model,x_data,y_data):\n",
    "    y_m = model.predict(x_data)\n",
    "    points = y_data < y_m\n",
    "    outlier_count = sum(points)\n",
    "    return outlier_count, points\n",
    "\n",
    "def plot_bs_qr(dfs,mlist,knots,degrees,sexes=['male','female'],predictor='Age',response='area_cm2'):\n",
    "    x = np.linspace(dfs[0][predictor].values.min(),dfs[0][predictor].values.max(),70)\n",
    "    ymax = max(max(dfs[0][response]),max(dfs[0][response]))\n",
    "    plt.figure(figsize = (14,7),linewidth=2)\n",
    "    \n",
    "        #fig, ax = plt.subplots(figsize=(8, 6))\n",
    "    for n in range(len(mlist)):\n",
    "        df = dfs[n]\n",
    "        models = mlist[n]\n",
    "        \n",
    "        transformed_x = dmatrix(\"bs(train, knots=\" + knots[n] +\", degree= \"+ str(degrees[n]) \n",
    "                                +\",include_intercept=False)\",\n",
    "                                {\"train\": x},return_type='dataframe')\n",
    "        \n",
    "        ax = plt.subplot(1,2,n+1)\n",
    "        for i in range(len(models)):\n",
    "            y = models[i].predict(transformed_x)\n",
    "            ax.plot(x, y, linestyle='dotted',label='q =' + str(round(models[i].q,2)),linewidth=3)\n",
    "          \n",
    "        \n",
    "        # Plot outliers in red\n",
    "        x_data = df[predictor].values\n",
    "        tr_x_data = get_transformed_x(x_data,knots[n],degrees[n])\n",
    "        y_data = df[response].values\n",
    "        _,outliers_above = find_points_above(models[-1],tr_x_data,y_data)\n",
    "        _,outliers_below = find_points_below(models[0],tr_x_data,y_data)\n",
    "        print('Number of outliers > 0.90: ', sum(outliers_above))\n",
    "        print('Number of outliers < 0.10: ', sum(outliers_below))\n",
    "        outliers = outliers_above | outliers_below\n",
    "        print('Total outliers: ', sum(outliers), 'Total points: ', len(outliers))\n",
    "        normals = ~ outliers\n",
    "        ax.scatter(x_data[normals], y_data[normals],facecolor=None, edgecolor = 'k', alpha=.05)\n",
    "        ax.scatter(x_data[outliers], y_data[outliers],facecolor=None, edgecolor = 'r', alpha=.25)\n",
    "        \n",
    "       #ax.scatter(df[predictor], df[response],facecolor=None, edgecolor = 'k', alpha=.1)\n",
    "       # print(np.ceil(max(df[predictor].values)))\n",
    "        ax.set_xlim((0, np.ceil(max(df[predictor].values))),auto=True)\n",
    "        ax.set_ylim(0, ymax,auto=True)\n",
    "        legend = ax.legend()\n",
    "        if np.ceil(max(df[predictor].values)) > 20:\n",
    "            xtick_r = 20\n",
    "        else:\n",
    "            xtick_r = 1\n",
    "        ax.set_xticks(np.arange(0,np.ceil(max(df[predictor].values)),xtick_r))\n",
    "        ax.set_yticks(np.arange(0,ymax,20))\n",
    "        ax.set_xlabel(predictor, fontsize=16)\n",
    "        ax.set_ylabel(response, fontsize=16)\n",
    "        ax.set_title(sexes[n])\n",
    "        \n",
    "        \n",
    "def plot_bs_qr_wcdc(dfs,mlist,knots,degrees,cdc_df,sexes=['male','female'],predictor='Age',response='area_cm2'):\n",
    "    x = np.linspace(dfs[0][predictor].values.min(),dfs[0][predictor].values.max(),70)\n",
    "    ymax = max(max(dfs[0][response]),max(dfs[0][response]))\n",
    "    plt.figure(figsize = (14,7),linewidth=2)\n",
    "    \n",
    "    colors = ['r','g','c','m','b']\n",
    "    #fig, ax = plt.subplots(figsize=(8, 6))\n",
    "    for n in range(len(mlist)):\n",
    "        df = dfs[n]\n",
    "        models = mlist[n]\n",
    "        \n",
    "        cdc_df_sex = cdc_df[cdc_df['Sex']==n+1]\n",
    "        \n",
    "        transformed_x = dmatrix(\"bs(train, knots=\" + knots[n] +\", degree= \"+ str(degrees[n]) \n",
    "                                +\",include_intercept=False)\",\n",
    "                                {\"train\": x},return_type='dataframe')\n",
    "        \n",
    "        ax = plt.subplot(1,2,n+1)\n",
    "        for i in range(len(models)):\n",
    "            y = models[i].predict(transformed_x)\n",
    "            ax.plot(x, y, linestyle='dotted',color=colors[i],label='q =' + str(round(models[i].q,2)),linewidth=3)\n",
    "            ax.plot(cdc_df_sex.iloc[:,1],cdc_df_sex.iloc[:,i+2],color=colors[i],label='cdc, q =' + str(round(models[i].q,2)),linewidth=2)\n",
    "\n",
    "        ax.scatter(df[predictor], df[response],facecolor=None, edgecolor = 'k', alpha=.1)\n",
    "        ax.set_xlim((0, np.ceil(max(df[predictor].values))))\n",
    "        ax.set_ylim(0, ymax,auto=True)\n",
    "        legend = ax.legend()\n",
    "        if np.ceil(max(df[predictor].values)) > 20:\n",
    "            xtick_r = 20\n",
    "        else:\n",
    "            xtick_r = 1\n",
    "        ax.set_xticks(np.arange(0,np.ceil(max(df[predictor].values)),xtick_r))\n",
    "        ax.set_yticks(np.arange(0,ymax,10))\n",
    "        ax.set_xlabel(predictor, fontsize=16)\n",
    "        ax.set_ylabel(response, fontsize=16)\n",
    "        ax.set_title(sexes[n])"
   ]
  },
  {
   "cell_type": "code",
   "execution_count": 47,
   "metadata": {},
   "outputs": [],
   "source": [
    "# Import cdc data\n",
    "# 2 to 20years\n",
    "infile  = '/tf/smipipeline/growth_curves/data/csv/wtage220.csv'\n",
    "df_cdc_wt= pd.read_csv(infile, index_col=False)\n",
    "df_cdc_wt['Age'] = df_cdc_wt['Agemos']/12\n",
    "df_cdc_wt = df_cdc_wt[['Sex','Age','P10','P25','P50','P75','P90']]\n",
    "\n",
    "# infants to 3 years\n",
    "infile2  = '/tf/smipipeline/growth_curves/data/csv/wtageinf.csv'\n",
    "df_cdc_wt2= pd.read_csv(infile2, index_col=False)\n",
    "df_cdc_wt2['Age'] = df_cdc_wt2['Agemos']/12\n",
    "df_cdc_wt2 = df_cdc_wt2[['Sex','Age','P10','P25','P50','P75','P90']]\n",
    "\n",
    "# keep only till 2 years\n",
    "df_cdc_wt2 = df_cdc_wt2[df_cdc_wt2['Age']<2]\n",
    "\n",
    "# Merge\n",
    "df_cdc_wt = pd.concat([df_cdc_wt,df_cdc_wt2],ignore_index=True)\n",
    "df_cdc_wt = df_cdc_wt.sort_values(by=['Age'])\n",
    "\n",
    "response='WEIGHT'\n",
    "cdc_df = df_cdc_wt\n",
    "# Get optimal model config\n",
    "df_m_nonull = df_m.dropna(subset=[response])\n",
    "df_f_nonull = df_f.dropna(subset=[response])\n",
    "model_m,knots_m,degrees_m = spline_model_optimizer(df_m_nonull, response)\n",
    "model_f,knots_f,degrees_f = spline_model_optimizer(df_f_nonull, response)\n",
    "\n",
    "\n",
    "# Fit the model for different quantiles\n",
    "fit_models_m = fit_bs_models(model_m,qlist=[0.10,0.25,0.50,0.75,0.90])\n",
    "fit_models_f = fit_bs_models(model_f,qlist=[0.10,0.25,0.50,0.75,0.90])"
   ]
  },
  {
   "cell_type": "code",
   "execution_count": 48,
   "metadata": {
    "scrolled": true,
    "slideshow": {
     "slide_type": "slide"
    }
   },
   "outputs": [
    {
     "name": "stdout",
     "output_type": "stream",
     "text": [
      "Population comparison to cdc data on WEIGHT using quantile regression\n"
     ]
    },
    {
     "data": {
      "image/png": "[encoded data removed]",
      "text/plain": [
       "<Figure size 1008x504 with 2 Axes>"
      ]
     },
     "metadata": {
      "needs_background": "light"
     },
     "output_type": "display_data"
    }
   ],
   "source": [
    "# Plot the results\n",
    "print('Population comparison to cdc data on ' + response + ' using quantile regression')\n",
    "plot_bs_qr_wcdc([df_m_nonull,df_f_nonull],\n",
    "           [fit_models_m,fit_models_f],\n",
    "           knots=[knots_m,knots_f],\n",
    "           degrees=[degrees_m,degrees_f],\n",
    "           cdc_df = cdc_df,\n",
    "           response=response)"
   ]
  },
  {
   "cell_type": "code",
   "execution_count": 49,
   "metadata": {
    "slideshow": {
     "slide_type": "skip"
    }
   },
   "outputs": [
    {
     "name": "stderr",
     "output_type": "stream",
     "text": [
      "/usr/local/lib/python3.6/dist-packages/statsmodels/regression/quantile_regression.py:191: IterationLimitWarning: Maximum number of iterations (1000) reached.\n",
      "  \") reached.\", IterationLimitWarning)\n"
     ]
    }
   ],
   "source": [
    "# Import cdc data\n",
    "# 2 to 20years\n",
    "infile  = '/tf/smipipeline/growth_curves/data/csv/statage220.csv'\n",
    "df_cdc_wt= pd.read_csv(infile, index_col=False)\n",
    "df_cdc_wt['Age'] = df_cdc_wt['Agemos']/12\n",
    "df_cdc_wt = df_cdc_wt[['Sex','Age','P10','P25','P50','P75','P90']]\n",
    "# infants to 3 years\n",
    "infile2  = '/tf/smipipeline/growth_curves/data/csv/lenageinf.csv'\n",
    "df_cdc_wt2= pd.read_csv(infile2, index_col=False)\n",
    "df_cdc_wt2['Age'] = df_cdc_wt2['Agemos']/12\n",
    "df_cdc_wt2 = df_cdc_wt2[['Sex','Age','P10','P25','P50','P75','P90']]\n",
    "\n",
    "# keep only till 2 years\n",
    "df_cdc_wt2 = df_cdc_wt2[df_cdc_wt2['Age']<2]\n",
    "\n",
    "# Merge\n",
    "df_cdc_wt = pd.concat([df_cdc_wt,df_cdc_wt2],ignore_index=True)\n",
    "df_cdc_wt = df_cdc_wt.sort_values(by=['Age'])\n",
    "\n",
    "response='HEIGHT'\n",
    "cdc_df = df_cdc_wt\n",
    "# Get optimal model config\n",
    "df_m_nonull = df_m.dropna(subset=[response])\n",
    "df_f_nonull = df_f.dropna(subset=[response])\n",
    "model_m,knots_m,degrees_m = spline_model_optimizer(df_m_nonull, response)\n",
    "model_f,knots_f,degrees_f = spline_model_optimizer(df_f_nonull, response)\n",
    "\n",
    "\n",
    "# Fit the model for different quantiles\n",
    "fit_models_m = fit_bs_models(model_m,qlist=[0.10,0.25,0.50,0.75,0.90])\n",
    "fit_models_f = fit_bs_models(model_f,qlist=[0.10,0.25,0.50,0.75,0.90])"
   ]
  },
  {
   "cell_type": "code",
   "execution_count": 50,
   "metadata": {
    "slideshow": {
     "slide_type": "slide"
    }
   },
   "outputs": [
    {
     "name": "stdout",
     "output_type": "stream",
     "text": [
      "Population comparison to cdc data on HEIGHT using quantile regression\n"
     ]
    },
    {
     "data": {
      "image/png": "[encoded data removed]",
      "text/plain": [
       "<Figure size 1008x504 with 2 Axes>"
      ]
     },
     "metadata": {
      "needs_background": "light"
     },
     "output_type": "display_data"
    }
   ],
   "source": [
    "# Plot the results\n",
    "if cdc_df is not None:\n",
    "    print('Population comparison to cdc data on ' + response + ' using quantile regression')\n",
    "    plot_bs_qr_wcdc([df_m_nonull,df_f_nonull],\n",
    "               [fit_models_m,fit_models_f],\n",
    "               knots=[knots_m,knots_f],\n",
    "               degrees=[degrees_m,degrees_f],\n",
    "               cdc_df = cdc_df,\n",
    "               response=response)"
   ]
  },
  {
   "cell_type": "code",
   "execution_count": 51,
   "metadata": {
    "slideshow": {
     "slide_type": "skip"
    }
   },
   "outputs": [
    {
     "name": "stderr",
     "output_type": "stream",
     "text": [
      "/usr/local/lib/python3.6/dist-packages/statsmodels/regression/quantile_regression.py:191: IterationLimitWarning: Maximum number of iterations (1000) reached.\n",
      "  \") reached.\", IterationLimitWarning)\n",
      "/usr/local/lib/python3.6/dist-packages/statsmodels/regression/quantile_regression.py:191: IterationLimitWarning: Maximum number of iterations (1000) reached.\n",
      "  \") reached.\", IterationLimitWarning)\n",
      "/usr/local/lib/python3.6/dist-packages/statsmodels/regression/quantile_regression.py:191: IterationLimitWarning: Maximum number of iterations (1000) reached.\n",
      "  \") reached.\", IterationLimitWarning)\n"
     ]
    }
   ],
   "source": [
    "# Import cdc data\n",
    "# 2 to 20years\n",
    "infile  = '/tf/smipipeline/growth_curves/data/csv/bmiage220.csv'\n",
    "df_cdc_wt= pd.read_csv(infile, index_col=False)\n",
    "df_cdc_wt['Age'] = df_cdc_wt['Agemos']/12\n",
    "df_cdc_wt = df_cdc_wt[['Sex','Age','P10','P25','P50','P75','P90']]\n",
    "\n",
    "response='BMI_CALC'\n",
    "cdc_df = df_cdc_wt\n",
    "# Get optimal model config\n",
    "df_m_nonull = df_m.dropna(subset=[response])\n",
    "df_f_nonull = df_f.dropna(subset=[response])\n",
    "model_m,knots_m,degrees_m = spline_model_optimizer(df_m_nonull, response)\n",
    "model_f,knots_f,degrees_f = spline_model_optimizer(df_f_nonull, response)\n",
    "\n",
    "\n",
    "# Fit the model for different quantiles\n",
    "fit_models_m = fit_bs_models(model_m,qlist=[0.10,0.25,0.50,0.75,0.90])\n",
    "fit_models_f = fit_bs_models(model_f,qlist=[0.10,0.25,0.50,0.75,0.90])"
   ]
  },
  {
   "cell_type": "code",
   "execution_count": 52,
   "metadata": {
    "scrolled": true,
    "slideshow": {
     "slide_type": "slide"
    }
   },
   "outputs": [
    {
     "name": "stdout",
     "output_type": "stream",
     "text": [
      "Population comparison to cdc data on BMI_CALC using quantile regression\n"
     ]
    },
    {
     "data": {
      "image/png": "[encoded data removed]",
      "text/plain": [
       "<Figure size 1008x504 with 2 Axes>"
      ]
     },
     "metadata": {
      "needs_background": "light"
     },
     "output_type": "display_data"
    }
   ],
   "source": [
    "# Plot the results\n",
    "if cdc_df is not None:\n",
    "    print('Population comparison to cdc data on ' + response + ' using quantile regression')\n",
    "    plot_bs_qr_wcdc([df_m_nonull,df_f_nonull],\n",
    "               [fit_models_m,fit_models_f],\n",
    "               knots=[knots_m,knots_f],\n",
    "               degrees=[degrees_m,degrees_f],\n",
    "               cdc_df = cdc_df,\n",
    "               response=response)"
   ]
  },
  {
   "cell_type": "code",
   "execution_count": 53,
   "metadata": {
    "slideshow": {
     "slide_type": "skip"
    }
   },
   "outputs": [
    {
     "name": "stderr",
     "output_type": "stream",
     "text": [
      "/usr/local/lib/python3.6/dist-packages/statsmodels/regression/quantile_regression.py:191: IterationLimitWarning: Maximum number of iterations (1000) reached.\n",
      "  \") reached.\", IterationLimitWarning)\n"
     ]
    }
   ],
   "source": [
    "response='area_cm2'\n",
    "\n",
    "# Get optimal model config\n",
    "model_m,knots_m,degrees_m = spline_model_optimizer(df_m, response)\n",
    "model_f,knots_f,degrees_f = spline_model_optimizer(df_f, response)\n",
    "\n",
    "\n",
    "# Fit the model for different quantiles\n",
    "fit_models_m = fit_bs_models(model_m,qlist=[0.10,0.25,0.50,0.75,0.90])\n",
    "fit_models_f = fit_bs_models(model_f,qlist=[0.10,0.25,0.50,0.75,0.90])"
   ]
  },
  {
   "cell_type": "code",
   "execution_count": 54,
   "metadata": {
    "slideshow": {
     "slide_type": "slide"
    }
   },
   "outputs": [
    {
     "name": "stdout",
     "output_type": "stream",
     "text": [
      "Quantile Regression with Splines for Skeletal Muscle Area (CCHMC data)\n",
      "Number of outliers > 0.90:  68\n",
      "Number of outliers < 0.10:  69\n",
      "Total outliers:  137 Total points:  666\n",
      "Number of outliers > 0.90:  71\n",
      "Number of outliers < 0.10:  72\n",
      "Total outliers:  143 Total points:  695\n"
     ]
    },
    {
     "data": {
      "image/png": "[encoded data removed]",
      "text/plain": [
       "<Figure size 1008x504 with 2 Axes>"
      ]
     },
     "metadata": {
      "needs_background": "light"
     },
     "output_type": "display_data"
    }
   ],
   "source": [
    "# Plot the results\n",
    "print('Quantile Regression with Splines for Skeletal Muscle Area (CCHMC data)')\n",
    "plot_bs_qr([df_m,df_f],\n",
    "           [fit_models_m,fit_models_f],\n",
    "           knots=[knots_m,knots_f],\n",
    "           degrees=[degrees_m,degrees_f],\n",
    "           response=response)"
   ]
  },
  {
   "cell_type": "markdown",
   "metadata": {},
   "source": [
    "## Investigate Outliers"
   ]
  },
  {
   "cell_type": "code",
   "execution_count": 55,
   "metadata": {},
   "outputs": [],
   "source": [
    "def get_outliers(dfs,\n",
    "           mlist,\n",
    "           knots,\n",
    "           degrees,\n",
    "          predictor,\n",
    "          response):\n",
    "    df_out_m = pd.DataFrame()\n",
    "    df_out_f = pd.DataFrame()\n",
    "    for n in range(len(mlist)):\n",
    "        df = dfs[n]\n",
    "        models = mlist[n]    \n",
    "        # Plot outliers in red\n",
    "        x_data = df[predictor].values\n",
    "        tr_x_data = get_transformed_x(x_data,knots[n],degrees[n])\n",
    "        y_data = df[response].values\n",
    "        pat_ids = df['ID'].values\n",
    "        _,outliers_above = find_points_above(models[-1],tr_x_data,y_data)\n",
    "        _,outliers_below = find_points_below(models[0],tr_x_data,y_data)\n",
    "        print('Number of outliers > 0.90: ', sum(outliers_above))\n",
    "        print('Number of outliers < 0.10: ', sum(outliers_below))\n",
    "        outliers = outliers_above | outliers_below\n",
    "        print('Total outliers: ', sum(outliers), 'Total points: ', len(outliers))\n",
    "        #normals = ~ outliers\n",
    "        pat_ids_above = pat_ids[outliers_above]\n",
    "        pat_ids_below = pat_ids[outliers_below]\n",
    "        df_outliers_above = df[df['ID'].isin(pat_ids_above)]\n",
    "        df_outliers_below = df[df['ID'].isin(pat_ids_below)]\n",
    "        df_outliers_above.loc[:,'outlier'] = '>0.90'\n",
    "        df_outliers_below.loc[:,'outlier'] = '<0.10'\n",
    "        if n == 0:\n",
    "            df_out_m = df_outliers_above.append(df_outliers_below, ignore_index=True)\n",
    "        else:\n",
    "            df_out_f = df_outliers_above.append(df_outliers_below, ignore_index=True)\n",
    "        \n",
    "    return df_out_m,df_out_f\n",
    "\n",
    "def get_normals(dfs,\n",
    "           mlist,\n",
    "           knots,\n",
    "           degrees,\n",
    "          predictor,\n",
    "          response):\n",
    "    df_out_m = pd.DataFrame()\n",
    "    df_out_f = pd.DataFrame()\n",
    "    for n in range(len(mlist)):\n",
    "        df = dfs[n]\n",
    "        models = mlist[n]    \n",
    "        # Plot outliers in red\n",
    "        x_data = df[predictor].values\n",
    "        tr_x_data = get_transformed_x(x_data,knots[n],degrees[n])\n",
    "        y_data = df[response].values\n",
    "        pat_ids = df['ID'].values\n",
    "        _,outliers_above = find_points_above(models[-1],tr_x_data,y_data)\n",
    "        _,outliers_below = find_points_below(models[0],tr_x_data,y_data)\n",
    "        print('Number of outliers > 0.90: ', sum(outliers_above))\n",
    "        print('Number of outliers < 0.10: ', sum(outliers_below))\n",
    "        outliers = outliers_above | outliers_below\n",
    "        print('Total outliers: ', sum(outliers), 'Total points: ', len(outliers))\n",
    "        normals = ~ outliers\n",
    "        pat_ids_normals = pat_ids[normals]\n",
    "        \n",
    "        df_normals = df[df['ID'].isin(pat_ids_normals)]\n",
    "        if n == 0:\n",
    "            df_out_m =df_normals\n",
    "        else:\n",
    "            df_out_f = df_normals\n",
    "        \n",
    "    return df_out_m,df_out_f"
   ]
  },
  {
   "cell_type": "code",
   "execution_count": 56,
   "metadata": {},
   "outputs": [
    {
     "name": "stdout",
     "output_type": "stream",
     "text": [
      "Number of outliers > 0.90:  68\n",
      "Number of outliers < 0.10:  69\n",
      "Total outliers:  137 Total points:  666\n"
     ]
    },
    {
     "name": "stderr",
     "output_type": "stream",
     "text": [
      "/usr/local/lib/python3.6/dist-packages/pandas/core/indexing.py:362: SettingWithCopyWarning: \n",
      "A value is trying to be set on a copy of a slice from a DataFrame.\n",
      "Try using .loc[row_indexer,col_indexer] = value instead\n",
      "\n",
      "See the caveats in the documentation: http://pandas.pydata.org/pandas-docs/stable/indexing.html#indexing-view-versus-copy\n",
      "  self.obj[key] = _infer_fill_value(value)\n",
      "/usr/local/lib/python3.6/dist-packages/pandas/core/indexing.py:543: SettingWithCopyWarning: \n",
      "A value is trying to be set on a copy of a slice from a DataFrame.\n",
      "Try using .loc[row_indexer,col_indexer] = value instead\n",
      "\n",
      "See the caveats in the documentation: http://pandas.pydata.org/pandas-docs/stable/indexing.html#indexing-view-versus-copy\n",
      "  self.obj[item] = s\n"
     ]
    },
    {
     "name": "stdout",
     "output_type": "stream",
     "text": [
      "Number of outliers > 0.90:  71\n",
      "Number of outliers < 0.10:  72\n",
      "Total outliers:  143 Total points:  695\n"
     ]
    }
   ],
   "source": [
    "df_out_m, df_out_f = get_outliers([df_m,df_f],\n",
    "           [fit_models_m,fit_models_f],\n",
    "           knots=[knots_m,knots_f],\n",
    "           degrees=[degrees_m,degrees_f],\n",
    "            predictor = 'Age',\n",
    "           response=response)\n",
    "\n",
    "df_out_m = df_out_m.sort_values(by=['area_cm2']).reset_index(drop=True)\n",
    "df_out_f = df_out_f.sort_values(by=['area_cm2']).reset_index(drop=True)"
   ]
  },
  {
   "cell_type": "code",
   "execution_count": 57,
   "metadata": {},
   "outputs": [
    {
     "name": "stdout",
     "output_type": "stream",
     "text": [
      "Number of outliers > 0.90:  68\n",
      "Number of outliers < 0.10:  69\n",
      "Total outliers:  137 Total points:  666\n",
      "Number of outliers > 0.90:  71\n",
      "Number of outliers < 0.10:  72\n",
      "Total outliers:  143 Total points:  695\n"
     ]
    }
   ],
   "source": [
    "df_norm_m, df_norm_f = get_normals([df_m,df_f],\n",
    "           [fit_models_m,fit_models_f],\n",
    "           knots=[knots_m,knots_f],\n",
    "           degrees=[degrees_m,degrees_f],\n",
    "            predictor = 'Age',\n",
    "\n",
    "                                   response=response)"
   ]
  },
  {
   "cell_type": "code",
   "execution_count": 58,
   "metadata": {},
   "outputs": [],
   "source": [
    "from shutil import copyfile\n",
    "def copy_patlist_files(df,indir,outdir,ext='.tif'):\n",
    "    os.makedirs(outdir,exist_ok=True)\n",
    "    infiles = [f for f in os.listdir(indir) if f.endswith(ext)]\n",
    "    \n",
    "    #print(infiles[:5])\n",
    "    for i,row in df.iterrows():\n",
    "        matching = [s for s in infiles if row['ID'] in s]\n",
    "        for match in matching:\n",
    "            infile = os.path.join(indir,match)\n",
    "            outfile = os.path.join(outdir,match)\n",
    "            copyfile(infile,outfile)\n",
    "\n",
    "def copytree(src, dst, symlinks=False, ignore=None):\n",
    "    for item in os.listdir(src):\n",
    "        s = os.path.join(src, item)\n",
    "        d = os.path.join(dst, item)\n",
    "        if os.path.isdir(s):\n",
    "            shutil.copytree(s, d, symlinks, ignore)\n",
    "        else:\n",
    "            shutil.copy2(s, d)\n",
    "            \n",
    "def copy_patlist_axialdcms(df,indir,outdir):\n",
    "    os.makedirs(outdir,exist_ok=True)\n",
    "    for i,row in df.iterrows():\n",
    "        sub_in = os.path.join(indir,row['ID'])\n",
    "        sub_out = os.path.join(outdir,row['ID'])\n",
    "        #print('src: ',sub_in)\n",
    "        #print('dest: ',sub_out)\n",
    "        try:\n",
    "            copytree(sub_in,sub_out)\n",
    "        except:\n",
    "            print('Folder exists for ', row['ID'])"
   ]
  },
  {
   "cell_type": "code",
   "execution_count": 59,
   "metadata": {},
   "outputs": [
    {
     "name": "stdout",
     "output_type": "stream",
     "text": [
      "Outlier Images copied to outdir\n"
     ]
    }
   ],
   "source": [
    "indir = '/tf/output/cv_poorl3/ms'\n",
    "outdir = '/tf/output/cv_poorl3/outliers_tifs_iteration2'\n",
    "\n",
    "df_outliers = df_out_m.append(df_out_f)\n",
    "copy_patlist_files(df_outliers,indir,outdir)\n",
    "print(\"Outlier Images copied to outdir\")"
   ]
  },
  {
   "cell_type": "code",
   "execution_count": 60,
   "metadata": {},
   "outputs": [
    {
     "data": {
      "text/plain": [
       "280"
      ]
     },
     "execution_count": 60,
     "metadata": {},
     "output_type": "execute_result"
    }
   ],
   "source": [
    "len(df_outliers)"
   ]
  },
  {
   "cell_type": "code",
   "execution_count": 61,
   "metadata": {},
   "outputs": [
    {
     "data": {
      "text/html": [
       "<div>\n",
       "<style scoped>\n",
       "    .dataframe tbody tr th:only-of-type {\n",
       "        vertical-align: middle;\n",
       "    }\n",
       "\n",
       "    .dataframe tbody tr th {\n",
       "        vertical-align: top;\n",
       "    }\n",
       "\n",
       "    .dataframe thead th {\n",
       "        text-align: right;\n",
       "    }\n",
       "</style>\n",
       "<table border=\"1\" class=\"dataframe\">\n",
       "  <thead>\n",
       "    <tr style=\"text-align: right;\">\n",
       "      <th></th>\n",
       "      <th>subject_id</th>\n",
       "      <th>area_mm2</th>\n",
       "      <th>% auto mask pixels</th>\n",
       "      <th>% manual mask pixels</th>\n",
       "      <th>area_mm2_Elan</th>\n",
       "      <th>sagittal_series</th>\n",
       "      <th>axial_series</th>\n",
       "    </tr>\n",
       "  </thead>\n",
       "  <tbody>\n",
       "    <tr>\n",
       "      <th>1350</th>\n",
       "      <td>Z1302641</td>\n",
       "      <td>1838.926514</td>\n",
       "      <td>NaN</td>\n",
       "      <td>NaN</td>\n",
       "      <td>4903.0</td>\n",
       "      <td>recon from: Z1302641-SE-2-2MM_ID_4</td>\n",
       "      <td>Z1302641-SE-2-2MM_ID_4</td>\n",
       "    </tr>\n",
       "    <tr>\n",
       "      <th>1351</th>\n",
       "      <td>Z489517</td>\n",
       "      <td>2323.608716</td>\n",
       "      <td>NaN</td>\n",
       "      <td>NaN</td>\n",
       "      <td>11150.0</td>\n",
       "      <td>recon from: Z489517-SE-9-Ax-MIP_Lung_Ax-MIP_8.000</td>\n",
       "      <td>Z489517-SE-9-Ax-MIP_Lung_Ax-MIP_8.000</td>\n",
       "    </tr>\n",
       "    <tr>\n",
       "      <th>1358</th>\n",
       "      <td>Z1332420</td>\n",
       "      <td>5684.375000</td>\n",
       "      <td>NaN</td>\n",
       "      <td>NaN</td>\n",
       "      <td>6792.0</td>\n",
       "      <td>recon from: Z1332420-SE-8-Ax-MIP_Lung_Ax-MIP_8...</td>\n",
       "      <td>Z1332420-SE-8-Ax-MIP_Lung_Ax-MIP_8.000</td>\n",
       "    </tr>\n",
       "    <tr>\n",
       "      <th>1360</th>\n",
       "      <td>Z357478</td>\n",
       "      <td>6321.689712</td>\n",
       "      <td>NaN</td>\n",
       "      <td>NaN</td>\n",
       "      <td>15397.0</td>\n",
       "      <td>recon from: Z357478-SE-8-Ax-MIP_Lung_Ax-MIP_8.000</td>\n",
       "      <td>Z357478-SE-8-Ax-MIP_Lung_Ax-MIP_8.000</td>\n",
       "    </tr>\n",
       "    <tr>\n",
       "      <th>1361</th>\n",
       "      <td>Z486791</td>\n",
       "      <td>3108.333115</td>\n",
       "      <td>NaN</td>\n",
       "      <td>NaN</td>\n",
       "      <td>5903.0</td>\n",
       "      <td>recon from: Z486791-SE-5-Venous_Phase_5.0_B31f</td>\n",
       "      <td>Z486791-SE-5-Venous_Phase_5.0_B31f</td>\n",
       "    </tr>\n",
       "  </tbody>\n",
       "</table>\n",
       "</div>"
      ],
      "text/plain": [
       "     subject_id     area_mm2  % auto mask pixels  % manual mask pixels  \\\n",
       "1350   Z1302641  1838.926514                 NaN                   NaN   \n",
       "1351    Z489517  2323.608716                 NaN                   NaN   \n",
       "1358   Z1332420  5684.375000                 NaN                   NaN   \n",
       "1360    Z357478  6321.689712                 NaN                   NaN   \n",
       "1361    Z486791  3108.333115                 NaN                   NaN   \n",
       "\n",
       "      area_mm2_Elan                                    sagittal_series  \\\n",
       "1350         4903.0                 recon from: Z1302641-SE-2-2MM_ID_4   \n",
       "1351        11150.0  recon from: Z489517-SE-9-Ax-MIP_Lung_Ax-MIP_8.000   \n",
       "1358         6792.0  recon from: Z1332420-SE-8-Ax-MIP_Lung_Ax-MIP_8...   \n",
       "1360        15397.0  recon from: Z357478-SE-8-Ax-MIP_Lung_Ax-MIP_8.000   \n",
       "1361         5903.0     recon from: Z486791-SE-5-Venous_Phase_5.0_B31f   \n",
       "\n",
       "                                axial_series  \n",
       "1350                  Z1302641-SE-2-2MM_ID_4  \n",
       "1351   Z489517-SE-9-Ax-MIP_Lung_Ax-MIP_8.000  \n",
       "1358  Z1332420-SE-8-Ax-MIP_Lung_Ax-MIP_8.000  \n",
       "1360   Z357478-SE-8-Ax-MIP_Lung_Ax-MIP_8.000  \n",
       "1361      Z486791-SE-5-Venous_Phase_5.0_B31f  "
      ]
     },
     "metadata": {},
     "output_type": "display_data"
    }
   ],
   "source": [
    "display(df_sma_manuals)"
   ]
  },
  {
   "cell_type": "code",
   "execution_count": 114,
   "metadata": {},
   "outputs": [],
   "source": [
    "# Manual Poor L3 Inspection list:\n",
    "poor_l3 = ['Z1762020',\n",
    "           'Z1996094',\n",
    "           'Z717870',\n",
    "           'Z705523',\n",
    "           'Z362374',\n",
    "           'Z890238',\n",
    "           'Z1722108',\n",
    "           'Z1256768',\n",
    "           'Z1119985',\n",
    "           'Z418856',\n",
    "           'Z1450371',\n",
    "           'Z678707',\n",
    "           'Z670302',\n",
    "           'Z1302641',\n",
    "           'Z723781',\n",
    "           'Z489517',\n",
    "           'Z1195730',\n",
    "           'Z1286046',\n",
    "           'Z320930',\n",
    "           'Z1263347',\n",
    "           'Z1000800',\n",
    "           'Z1274627',\n",
    "           'Z485332',\n",
    "           'Z1222041',\n",
    "           'Z5745',\n",
    "           'Z876503',\n",
    "           'Z1029886',\n",
    "           'Z1262030',\n",
    "           'Z832424',\n",
    "           'Z1436778',\n",
    "           'Z441830',\n",
    "           'Z1041413',\n",
    "           'Z567376',\n",
    "           'Z1332420',\n",
    "           'Z687529',\n",
    "           'Z1221549',\n",
    "           'Z1256084',\n",
    "           'Z511402',\n",
    "           'Z357478',\n",
    "           'Z1211258',\n",
    "           'Z486791',\n",
    "           'Z936171',\n",
    "           'Z1056292',\n",
    "           'Z837620',\n",
    "           'Z627309']"
   ]
  },
  {
   "cell_type": "code",
   "execution_count": 118,
   "metadata": {},
   "outputs": [
    {
     "name": "stdout",
     "output_type": "stream",
     "text": [
      "poor l3s:  45\n",
      "Length of all poor l3s:  45\n",
      "[]\n"
     ]
    }
   ],
   "source": [
    "print('poor l3s: ', len(poor_l3))\n",
    "df_poorl3 = df_outliers[df_outliers['ID'].isin(poor_l3)].reset_index(drop=True)\n",
    "print('Length of all poor l3s: ', len(df_poorl3['ID']))\n",
    "\n",
    "missing = [p for p in poor_l3 if p not in df_poorl3['ID'].values]\n",
    "print(missing)"
   ]
  },
  {
   "cell_type": "code",
   "execution_count": 125,
   "metadata": {},
   "outputs": [
    {
     "name": "stdout",
     "output_type": "stream",
     "text": [
      "Folder exists for  Z1996094\n",
      "Moved all DICOMS to outdir\n"
     ]
    }
   ],
   "source": [
    "indir = '/tf/data'\n",
    "outdir = '/tf/output/outliers_dcms'\n",
    "copy_patlist_axialdcms(df_poorl3,indir,outdir)\n",
    "print('Moved all DICOMS to outdir')"
   ]
  },
  {
   "cell_type": "code",
   "execution_count": 126,
   "metadata": {},
   "outputs": [],
   "source": [
    "df_poorl3_id = df_poorl3[['ID']]\n",
    "df_poorl3_id.to_csv(os.path.join(outdir,'poorl3.csv'))"
   ]
  },
  {
   "cell_type": "code",
   "execution_count": 54,
   "metadata": {},
   "outputs": [
    {
     "name": "stdout",
     "output_type": "stream",
     "text": [
      "[\"\n",
      "Z422122\", \"Z1109476\", \"Z654902\", \"Z659670\", \"Z933945\", \"Z941630\", \"Z917389\", \"Z5745\", \"Z693521\", \"Z1432145\", \"Z944973\", \"Z377539\", \"Z432563\", \"Z445300\", \"Z1047725\", \"Z423050\", \"Z1108612\", \"Z934752\", \"Z542803\", \"Z1462171\", \"Z878058\", \"Z372476\", \"Z445313\", \"Z540428\", \"Z1003148\", \"Z1015067\", \"Z620944\", \"Z949241\", \"Z842715\", \"Z877689\", \"Z569118\", \"Z842219\", \"Z829322\", \"Z838508\", \"Z983086\", \"Z918026\", \"Z735782\", \"Z578345\", \"Z1272833\", \"Z882601\", \"Z943778\", \"Z934271\", \"Z873213\", \"Z896236\", \"Z666165\", \"Z424181\", \"Z1258216\", \"Z936019\", \"Z937153\", \"Z891398\", \"Z374705\n",
      "\"]\n"
     ]
    }
   ],
   "source": [
    "print(\"[\\\"\")\n",
    "print(*df_out_m.loc[182:,'ID'].values,sep='\", \"')\n",
    "print(\"\\\"]\")\n",
    "\n",
    "#display(df_out_f[['ID','area_cm2','axials']].head(11))"
   ]
  },
  {
   "cell_type": "code",
   "execution_count": 57,
   "metadata": {},
   "outputs": [
    {
     "data": {
      "text/html": [
       "<div>\n",
       "<style scoped>\n",
       "    .dataframe tbody tr th:only-of-type {\n",
       "        vertical-align: middle;\n",
       "    }\n",
       "\n",
       "    .dataframe tbody tr th {\n",
       "        vertical-align: top;\n",
       "    }\n",
       "\n",
       "    .dataframe thead th {\n",
       "        text-align: right;\n",
       "    }\n",
       "</style>\n",
       "<table border=\"1\" class=\"dataframe\">\n",
       "  <thead>\n",
       "    <tr style=\"text-align: right;\">\n",
       "      <th></th>\n",
       "      <th>ID</th>\n",
       "      <th>area_cm2</th>\n",
       "      <th>axials</th>\n",
       "    </tr>\n",
       "  </thead>\n",
       "  <tbody>\n",
       "    <tr>\n",
       "      <th>198</th>\n",
       "      <td>Z1108064</td>\n",
       "      <td>122.546875</td>\n",
       "      <td>Z1108064-SE-7-Std_Pediatric_5.0_CE</td>\n",
       "    </tr>\n",
       "    <tr>\n",
       "      <th>199</th>\n",
       "      <td>Z453391</td>\n",
       "      <td>122.565541</td>\n",
       "      <td>Z453391-SE-4-Axial_Body_5.0</td>\n",
       "    </tr>\n",
       "    <tr>\n",
       "      <th>200</th>\n",
       "      <td>Z850232</td>\n",
       "      <td>122.806621</td>\n",
       "      <td>Z850232-SE-3-Body_5.0</td>\n",
       "    </tr>\n",
       "    <tr>\n",
       "      <th>201</th>\n",
       "      <td>Z535688</td>\n",
       "      <td>122.831697</td>\n",
       "      <td>Z535688-SE-4-Body_Std._Axial_AIDR_-_H_5.0</td>\n",
       "    </tr>\n",
       "    <tr>\n",
       "      <th>202</th>\n",
       "      <td>Z937469</td>\n",
       "      <td>123.024187</td>\n",
       "      <td>Z937469-SE-7-Std_Pediatric_5.0_CE</td>\n",
       "    </tr>\n",
       "    <tr>\n",
       "      <th>203</th>\n",
       "      <td>Z819717</td>\n",
       "      <td>123.060466</td>\n",
       "      <td>Z819717-SE-4-Axial_Std_5.0_CE</td>\n",
       "    </tr>\n",
       "    <tr>\n",
       "      <th>204</th>\n",
       "      <td>Z1207909</td>\n",
       "      <td>123.187500</td>\n",
       "      <td>Z1207909-SE-2-Standard_Axial</td>\n",
       "    </tr>\n",
       "    <tr>\n",
       "      <th>205</th>\n",
       "      <td>Z828131</td>\n",
       "      <td>123.203885</td>\n",
       "      <td>Z828131-SE-4-Standard</td>\n",
       "    </tr>\n",
       "    <tr>\n",
       "      <th>206</th>\n",
       "      <td>Z861912</td>\n",
       "      <td>123.292330</td>\n",
       "      <td>Z861912-SE-1003-Body_Clarity</td>\n",
       "    </tr>\n",
       "    <tr>\n",
       "      <th>207</th>\n",
       "      <td>Z1082737</td>\n",
       "      <td>123.828125</td>\n",
       "      <td>Z1082737-SE-5-Axial_Body_5.0</td>\n",
       "    </tr>\n",
       "    <tr>\n",
       "      <th>208</th>\n",
       "      <td>Z479432</td>\n",
       "      <td>123.851501</td>\n",
       "      <td>Z479432-SE-4-Stnd_Pediatric_5.0_CE</td>\n",
       "    </tr>\n",
       "    <tr>\n",
       "      <th>209</th>\n",
       "      <td>Z522073</td>\n",
       "      <td>124.039394</td>\n",
       "      <td>Z522073-SE-5-Body_Std._Axial_AIDR_-_H_5.0</td>\n",
       "    </tr>\n",
       "    <tr>\n",
       "      <th>210</th>\n",
       "      <td>Z1816335</td>\n",
       "      <td>124.188060</td>\n",
       "      <td>Z1816335-SE-4-Stnd_Pediatric_5.0_CE</td>\n",
       "    </tr>\n",
       "    <tr>\n",
       "      <th>211</th>\n",
       "      <td>Z562330</td>\n",
       "      <td>124.655654</td>\n",
       "      <td>Z562330-SE-5-Axial_Body_5.0</td>\n",
       "    </tr>\n",
       "    <tr>\n",
       "      <th>212</th>\n",
       "      <td>Z955628</td>\n",
       "      <td>124.802490</td>\n",
       "      <td>Z955628-SE-2-SURVEY</td>\n",
       "    </tr>\n",
       "    <tr>\n",
       "      <th>213</th>\n",
       "      <td>Z423855</td>\n",
       "      <td>125.031250</td>\n",
       "      <td>Z423855-SE-2-Stnd_Pediatric_Axial_Stnd</td>\n",
       "    </tr>\n",
       "    <tr>\n",
       "      <th>214</th>\n",
       "      <td>Z510810</td>\n",
       "      <td>125.109375</td>\n",
       "      <td>Z510810-SE-4-Body_Std._Axial_AIDR_-_H_5.0</td>\n",
       "    </tr>\n",
       "    <tr>\n",
       "      <th>215</th>\n",
       "      <td>Z661300</td>\n",
       "      <td>125.496778</td>\n",
       "      <td>Z661300-SE-7-Stnd_Pediatric_Axial_Stnd</td>\n",
       "    </tr>\n",
       "    <tr>\n",
       "      <th>216</th>\n",
       "      <td>Z949881</td>\n",
       "      <td>125.562500</td>\n",
       "      <td>Z949881-SE-4-Axial_Body_5.0</td>\n",
       "    </tr>\n",
       "    <tr>\n",
       "      <th>217</th>\n",
       "      <td>Z935764</td>\n",
       "      <td>125.737879</td>\n",
       "      <td>Z935764-SE-5-Body_Std._Axial_AIDR_-_H_5.0</td>\n",
       "    </tr>\n",
       "    <tr>\n",
       "      <th>218</th>\n",
       "      <td>Z923266</td>\n",
       "      <td>125.837400</td>\n",
       "      <td>Z923266-SE-3-Axial_Std_5.0_CE</td>\n",
       "    </tr>\n",
       "    <tr>\n",
       "      <th>219</th>\n",
       "      <td>Z565901</td>\n",
       "      <td>126.118400</td>\n",
       "      <td>Z565901-SE-5-Venous_Phase_Standard_Axial</td>\n",
       "    </tr>\n",
       "    <tr>\n",
       "      <th>220</th>\n",
       "      <td>Z855275</td>\n",
       "      <td>126.400941</td>\n",
       "      <td>Z855275-SE-4-Axial</td>\n",
       "    </tr>\n",
       "    <tr>\n",
       "      <th>221</th>\n",
       "      <td>Z954850</td>\n",
       "      <td>127.166221</td>\n",
       "      <td>Z954850-SE-2-Stnd_Pediatric_5.0_CE</td>\n",
       "    </tr>\n",
       "    <tr>\n",
       "      <th>222</th>\n",
       "      <td>Z549850</td>\n",
       "      <td>127.737927</td>\n",
       "      <td>Z549850-SE-2-Body_Std._Axial_AIDR_-_H__5.0</td>\n",
       "    </tr>\n",
       "    <tr>\n",
       "      <th>223</th>\n",
       "      <td>Z1224134</td>\n",
       "      <td>127.890625</td>\n",
       "      <td>Z1224134-SE-2-ABD_PELVIS</td>\n",
       "    </tr>\n",
       "    <tr>\n",
       "      <th>224</th>\n",
       "      <td>Z684700</td>\n",
       "      <td>128.750568</td>\n",
       "      <td>Z684700-SE-4-Standard_Axial</td>\n",
       "    </tr>\n",
       "    <tr>\n",
       "      <th>225</th>\n",
       "      <td>Z1161168</td>\n",
       "      <td>129.970490</td>\n",
       "      <td>Z1161168-SE-4-Stnd_Pediatric_5.0_CE</td>\n",
       "    </tr>\n",
       "    <tr>\n",
       "      <th>226</th>\n",
       "      <td>Z900002</td>\n",
       "      <td>130.222248</td>\n",
       "      <td>Z900002-SE-8-Std_Pediatric_5.0_CE</td>\n",
       "    </tr>\n",
       "    <tr>\n",
       "      <th>227</th>\n",
       "      <td>Z903915</td>\n",
       "      <td>130.581156</td>\n",
       "      <td>Z903915-SE-5-Std_Axial_Body_Std_5.0</td>\n",
       "    </tr>\n",
       "    <tr>\n",
       "      <th>228</th>\n",
       "      <td>Z909304</td>\n",
       "      <td>131.076299</td>\n",
       "      <td>Z909304-SE-4-Axial_Std_5.0_CE</td>\n",
       "    </tr>\n",
       "    <tr>\n",
       "      <th>229</th>\n",
       "      <td>Z1776275</td>\n",
       "      <td>131.078125</td>\n",
       "      <td>Z1776275-SE-2-Axial_Body__4.0</td>\n",
       "    </tr>\n",
       "    <tr>\n",
       "      <th>230</th>\n",
       "      <td>Z425271</td>\n",
       "      <td>131.531250</td>\n",
       "      <td>Z425271-SE-7-Std_Pediatric_5.0_CE</td>\n",
       "    </tr>\n",
       "    <tr>\n",
       "      <th>231</th>\n",
       "      <td>Z1395609</td>\n",
       "      <td>132.410334</td>\n",
       "      <td>Z1395609-SE-4-Stnd_Pediatric_Axial_Stnd</td>\n",
       "    </tr>\n",
       "    <tr>\n",
       "      <th>232</th>\n",
       "      <td>Z463826</td>\n",
       "      <td>133.218750</td>\n",
       "      <td>Z463826-SE-4-Axial_Body_5.0</td>\n",
       "    </tr>\n",
       "    <tr>\n",
       "      <th>233</th>\n",
       "      <td>Z1407438</td>\n",
       "      <td>134.223397</td>\n",
       "      <td>Z1407438-SE-201-STANDARD,_iDose</td>\n",
       "    </tr>\n",
       "    <tr>\n",
       "      <th>234</th>\n",
       "      <td>Z895749</td>\n",
       "      <td>135.016634</td>\n",
       "      <td>Z895749-SE-4-Axial_Std_5.0_CE</td>\n",
       "    </tr>\n",
       "    <tr>\n",
       "      <th>235</th>\n",
       "      <td>Z874467</td>\n",
       "      <td>135.293570</td>\n",
       "      <td>Z874467-SE-6-Standard_Axial</td>\n",
       "    </tr>\n",
       "    <tr>\n",
       "      <th>236</th>\n",
       "      <td>Z867447</td>\n",
       "      <td>135.727697</td>\n",
       "      <td>Z867447-SE-3-Axial</td>\n",
       "    </tr>\n",
       "    <tr>\n",
       "      <th>237</th>\n",
       "      <td>Z538768</td>\n",
       "      <td>136.506846</td>\n",
       "      <td>Z538768-SE-1004-Body_5.0_CE_Clarity</td>\n",
       "    </tr>\n",
       "    <tr>\n",
       "      <th>238</th>\n",
       "      <td>Z989304</td>\n",
       "      <td>138.484375</td>\n",
       "      <td>Z989304-SE-4-Body_Std._Axial_AIDR_-_H_5.0</td>\n",
       "    </tr>\n",
       "    <tr>\n",
       "      <th>239</th>\n",
       "      <td>Z911876</td>\n",
       "      <td>139.592168</td>\n",
       "      <td>Z911876-SE-4-Stnd_Pediatric_Axial_Stnd</td>\n",
       "    </tr>\n",
       "    <tr>\n",
       "      <th>240</th>\n",
       "      <td>Z350003</td>\n",
       "      <td>140.578125</td>\n",
       "      <td>Z350003-SE-4-Axial_Body__5.0</td>\n",
       "    </tr>\n",
       "    <tr>\n",
       "      <th>241</th>\n",
       "      <td>Z424772</td>\n",
       "      <td>142.941118</td>\n",
       "      <td>Z424772-SE-5-Std_Axial_Body_Std_5.0</td>\n",
       "    </tr>\n",
       "    <tr>\n",
       "      <th>242</th>\n",
       "      <td>Z430134</td>\n",
       "      <td>144.897664</td>\n",
       "      <td>Z430134-SE-4-Axial_Body_5.0</td>\n",
       "    </tr>\n",
       "    <tr>\n",
       "      <th>243</th>\n",
       "      <td>Z1767513</td>\n",
       "      <td>145.682171</td>\n",
       "      <td>Z1767513-SE-4-Stnd_Pediatric_Axial_Stnd</td>\n",
       "    </tr>\n",
       "    <tr>\n",
       "      <th>244</th>\n",
       "      <td>Z851593</td>\n",
       "      <td>146.461349</td>\n",
       "      <td>Z851593-SE-5-Std_Axial_Body_Std_5.0</td>\n",
       "    </tr>\n",
       "    <tr>\n",
       "      <th>245</th>\n",
       "      <td>Z1000800</td>\n",
       "      <td>150.015625</td>\n",
       "      <td>Z1000800-SE-4-Body_5.0_CE</td>\n",
       "    </tr>\n",
       "    <tr>\n",
       "      <th>246</th>\n",
       "      <td>Z362374</td>\n",
       "      <td>164.435549</td>\n",
       "      <td>Z362374-SE-2-Abd_Pelvis__6.0____ST__B31f</td>\n",
       "    </tr>\n",
       "    <tr>\n",
       "      <th>247</th>\n",
       "      <td>Z567376</td>\n",
       "      <td>164.614106</td>\n",
       "      <td>Z567376-SE-2-Body_Std._Axial_AIDR_-_H__5.0</td>\n",
       "    </tr>\n",
       "  </tbody>\n",
       "</table>\n",
       "</div>"
      ],
      "text/plain": [
       "           ID    area_cm2                                      axials\n",
       "198  Z1108064  122.546875          Z1108064-SE-7-Std_Pediatric_5.0_CE\n",
       "199   Z453391  122.565541                 Z453391-SE-4-Axial_Body_5.0\n",
       "200   Z850232  122.806621                       Z850232-SE-3-Body_5.0\n",
       "201   Z535688  122.831697   Z535688-SE-4-Body_Std._Axial_AIDR_-_H_5.0\n",
       "202   Z937469  123.024187           Z937469-SE-7-Std_Pediatric_5.0_CE\n",
       "203   Z819717  123.060466               Z819717-SE-4-Axial_Std_5.0_CE\n",
       "204  Z1207909  123.187500                Z1207909-SE-2-Standard_Axial\n",
       "205   Z828131  123.203885                       Z828131-SE-4-Standard\n",
       "206   Z861912  123.292330                Z861912-SE-1003-Body_Clarity\n",
       "207  Z1082737  123.828125                Z1082737-SE-5-Axial_Body_5.0\n",
       "208   Z479432  123.851501          Z479432-SE-4-Stnd_Pediatric_5.0_CE\n",
       "209   Z522073  124.039394   Z522073-SE-5-Body_Std._Axial_AIDR_-_H_5.0\n",
       "210  Z1816335  124.188060         Z1816335-SE-4-Stnd_Pediatric_5.0_CE\n",
       "211   Z562330  124.655654                 Z562330-SE-5-Axial_Body_5.0\n",
       "212   Z955628  124.802490                         Z955628-SE-2-SURVEY\n",
       "213   Z423855  125.031250      Z423855-SE-2-Stnd_Pediatric_Axial_Stnd\n",
       "214   Z510810  125.109375   Z510810-SE-4-Body_Std._Axial_AIDR_-_H_5.0\n",
       "215   Z661300  125.496778      Z661300-SE-7-Stnd_Pediatric_Axial_Stnd\n",
       "216   Z949881  125.562500                 Z949881-SE-4-Axial_Body_5.0\n",
       "217   Z935764  125.737879   Z935764-SE-5-Body_Std._Axial_AIDR_-_H_5.0\n",
       "218   Z923266  125.837400               Z923266-SE-3-Axial_Std_5.0_CE\n",
       "219   Z565901  126.118400    Z565901-SE-5-Venous_Phase_Standard_Axial\n",
       "220   Z855275  126.400941                          Z855275-SE-4-Axial\n",
       "221   Z954850  127.166221          Z954850-SE-2-Stnd_Pediatric_5.0_CE\n",
       "222   Z549850  127.737927  Z549850-SE-2-Body_Std._Axial_AIDR_-_H__5.0\n",
       "223  Z1224134  127.890625                    Z1224134-SE-2-ABD_PELVIS\n",
       "224   Z684700  128.750568                 Z684700-SE-4-Standard_Axial\n",
       "225  Z1161168  129.970490         Z1161168-SE-4-Stnd_Pediatric_5.0_CE\n",
       "226   Z900002  130.222248           Z900002-SE-8-Std_Pediatric_5.0_CE\n",
       "227   Z903915  130.581156         Z903915-SE-5-Std_Axial_Body_Std_5.0\n",
       "228   Z909304  131.076299               Z909304-SE-4-Axial_Std_5.0_CE\n",
       "229  Z1776275  131.078125               Z1776275-SE-2-Axial_Body__4.0\n",
       "230   Z425271  131.531250           Z425271-SE-7-Std_Pediatric_5.0_CE\n",
       "231  Z1395609  132.410334     Z1395609-SE-4-Stnd_Pediatric_Axial_Stnd\n",
       "232   Z463826  133.218750                 Z463826-SE-4-Axial_Body_5.0\n",
       "233  Z1407438  134.223397             Z1407438-SE-201-STANDARD,_iDose\n",
       "234   Z895749  135.016634               Z895749-SE-4-Axial_Std_5.0_CE\n",
       "235   Z874467  135.293570                 Z874467-SE-6-Standard_Axial\n",
       "236   Z867447  135.727697                          Z867447-SE-3-Axial\n",
       "237   Z538768  136.506846         Z538768-SE-1004-Body_5.0_CE_Clarity\n",
       "238   Z989304  138.484375   Z989304-SE-4-Body_Std._Axial_AIDR_-_H_5.0\n",
       "239   Z911876  139.592168      Z911876-SE-4-Stnd_Pediatric_Axial_Stnd\n",
       "240   Z350003  140.578125                Z350003-SE-4-Axial_Body__5.0\n",
       "241   Z424772  142.941118         Z424772-SE-5-Std_Axial_Body_Std_5.0\n",
       "242   Z430134  144.897664                 Z430134-SE-4-Axial_Body_5.0\n",
       "243  Z1767513  145.682171     Z1767513-SE-4-Stnd_Pediatric_Axial_Stnd\n",
       "244   Z851593  146.461349         Z851593-SE-5-Std_Axial_Body_Std_5.0\n",
       "245  Z1000800  150.015625                   Z1000800-SE-4-Body_5.0_CE\n",
       "246   Z362374  164.435549    Z362374-SE-2-Abd_Pelvis__6.0____ST__B31f\n",
       "247   Z567376  164.614106  Z567376-SE-2-Body_Std._Axial_AIDR_-_H__5.0"
      ]
     },
     "metadata": {},
     "output_type": "display_data"
    }
   ],
   "source": [
    "display(df_out_f[['ID','area_cm2','axials']].tail(50))"
   ]
  },
  {
   "cell_type": "code",
   "execution_count": null,
   "metadata": {},
   "outputs": [],
   "source": [
    "display(df_norm_f.head(10))"
   ]
  },
  {
   "cell_type": "code",
   "execution_count": null,
   "metadata": {
    "slideshow": {
     "slide_type": "skip"
    }
   },
   "outputs": [],
   "source": [
    "import cv2\n",
    "def show_figures(figlist,titlist):\n",
    "    plt.figure(figsize = (15,8))\n",
    "    for n in range(len(figlist)):\n",
    "        im = cv2.imread(figlist[n])\n",
    "        im_resized = cv2.resize(im, (1024, 1024), interpolation=cv2.INTER_LINEAR)\n",
    "        ax = plt.subplot(1,2,n+1)\n",
    "        ax.imshow(cv2.cvtColor(im_resized, cv2.COLOR_BGR2RGB))\n",
    "        ax.set_title(titlist[n])\n",
    "        ax.axis('off')"
   ]
  },
  {
   "cell_type": "code",
   "execution_count": null,
   "metadata": {
    "slideshow": {
     "slide_type": "slide"
    }
   },
   "outputs": [],
   "source": [
    "print(\"Psoas Muscle Results from Metzger.et.al\")\n",
    "f1  = '/tf/smipipeline/growth_curves/data/PMA Metzger Male.png'\n",
    "f2  = '/tf/smipipeline/growth_curves/data/PMA Metzger Female.png'\n",
    "\n",
    "show_figures([f1,f2],['Male','Female'])"
   ]
  },
  {
   "cell_type": "code",
   "execution_count": null,
   "metadata": {
    "slideshow": {
     "slide_type": "slide"
    }
   },
   "outputs": [],
   "source": [
    "print(\"Psoas Muscle Results from Lurz.et.al\")\n",
    "f1  = '/tf/smipipeline/growth_curves/data/Lurz PMA male.png'\n",
    "f2  = '/tf/smipipeline/growth_curves/data/Lurtz PMA female.png'\n",
    "\n",
    "show_figures([f1,f2],['Male','Female'])"
   ]
  },
  {
   "cell_type": "code",
   "execution_count": null,
   "metadata": {
    "slideshow": {
     "slide_type": "skip"
    }
   },
   "outputs": [],
   "source": [
    "response='smi'\n",
    "\n",
    "\n",
    "df_m_nonull = df_m.dropna(subset=[response])\n",
    "df_f_nonull = df_f.dropna(subset=[response])\n",
    "\n",
    "# Get optimal model config\n",
    "model_m,knots_m,degrees_m = spline_model_optimizer(df_m_nonull, response)\n",
    "model_f,knots_f,degrees_f = spline_model_optimizer(df_f_nonull, response)\n",
    "\n",
    "\n",
    "\n",
    "# Fit the model for different quantiles\n",
    "fit_models_m = fit_bs_models(model_m,qlist=[0.10,0.25,0.50,0.75,0.90])\n",
    "fit_models_f = fit_bs_models(model_f,qlist=[0.10,0.25,0.50,0.75,0.90])"
   ]
  },
  {
   "cell_type": "code",
   "execution_count": null,
   "metadata": {
    "slideshow": {
     "slide_type": "slide"
    }
   },
   "outputs": [],
   "source": [
    "# Plot the results\n",
    "print('Quantile Regression with Splines for Skeletal Muscle Index [CCHMC data]')\n",
    "plot_bs_qr([df_m_nonull,df_f_nonull],\n",
    "           [fit_models_m,fit_models_f],\n",
    "           knots=[knots_m,knots_f],\n",
    "           degrees=[degrees_m,degrees_f],\n",
    "           response=response)"
   ]
  },
  {
   "cell_type": "code",
   "execution_count": null,
   "metadata": {
    "slideshow": {
     "slide_type": "slide"
    }
   },
   "outputs": [],
   "source": [
    "print(\"Psoas Muscle Index Results from Metzger.et.al\")\n",
    "f1  = '/tf/smipipeline/growth_curves/data/Metzger et al pmi male.png'\n",
    "f2  = '/tf/smipipeline/growth_curves/data/Metzger et al pmi female.png'\n",
    "\n",
    "show_figures([f1,f2],['Male','Female'])"
   ]
  },
  {
   "cell_type": "code",
   "execution_count": null,
   "metadata": {
    "slideshow": {
     "slide_type": "skip"
    }
   },
   "outputs": [],
   "source": [
    "response='area_cm2'\n",
    "predictor='WEIGHT'\n",
    "\n",
    "df_m_nonull = df_m.dropna(subset=[response,predictor])\n",
    "df_f_nonull = df_f.dropna(subset=[response,predictor])\n",
    "\n",
    "# Get optimal model config\n",
    "model_m,knots_m,degrees_m = spline_model_optimizer(df_m_nonull, response,predictor_var=predictor)\n",
    "model_f,knots_f,degrees_f = spline_model_optimizer(df_f_nonull, response,predictor_var=predictor)\n",
    "\n",
    "\n",
    "\n",
    "# Fit the model for different quantiles\n",
    "fit_models_m = fit_bs_models(model_m,qlist=[0.10,0.25,0.50,0.75,0.90])\n",
    "fit_models_f = fit_bs_models(model_f,qlist=[0.10,0.25,0.50,0.75,0.90])"
   ]
  },
  {
   "cell_type": "code",
   "execution_count": null,
   "metadata": {
    "slideshow": {
     "slide_type": "slide"
    }
   },
   "outputs": [],
   "source": [
    "# Plot the results\n",
    "print('Quantile Regression with Splines for Skeletal Muscle Area [CCHMC data] vs Weight')\n",
    "plot_bs_qr([df_m_nonull,df_f_nonull],\n",
    "           [fit_models_m,fit_models_f],\n",
    "           knots=[knots_m,knots_f],\n",
    "           degrees=[degrees_m,degrees_f],\n",
    "           response=response,predictor=predictor)"
   ]
  },
  {
   "cell_type": "code",
   "execution_count": null,
   "metadata": {
    "slideshow": {
     "slide_type": "skip"
    }
   },
   "outputs": [],
   "source": [
    "response='smi'\n",
    "predictor='WEIGHT'\n",
    "\n",
    "df_m_nonull = df_m.dropna(subset=[response,predictor])\n",
    "df_f_nonull = df_f.dropna(subset=[response,predictor])\n",
    "\n",
    "# Get optimal model config\n",
    "model_m,knots_m,degrees_m = spline_model_optimizer(df_m_nonull, response,predictor_var=predictor)\n",
    "model_f,knots_f,degrees_f = spline_model_optimizer(df_f_nonull, response,predictor_var=predictor)\n",
    "\n",
    "\n",
    "\n",
    "# Fit the model for different quantiles\n",
    "fit_models_m = fit_bs_models(model_m,qlist=[0.10,0.25,0.50,0.75,0.90])\n",
    "fit_models_f = fit_bs_models(model_f,qlist=[0.10,0.25,0.50,0.75,0.90])"
   ]
  },
  {
   "cell_type": "code",
   "execution_count": null,
   "metadata": {
    "slideshow": {
     "slide_type": "slide"
    }
   },
   "outputs": [],
   "source": [
    "# Plot the results\n",
    "print('Quantile Regression with Splines for Skeletal Muscle Index [CCHMC data] vs Weight')\n",
    "plot_bs_qr([df_m_nonull,df_f_nonull],\n",
    "           [fit_models_m,fit_models_f],\n",
    "           knots=[knots_m,knots_f],\n",
    "           degrees=[degrees_m,degrees_f],\n",
    "           response=response,predictor=predictor)"
   ]
  },
  {
   "cell_type": "code",
   "execution_count": null,
   "metadata": {
    "slideshow": {
     "slide_type": "skip"
    }
   },
   "outputs": [],
   "source": [
    "response='area_cm2'\n",
    "predictor='HEIGHT'\n",
    "\n",
    "df_m_nonull = df_m.dropna(subset=[response,predictor])\n",
    "df_f_nonull = df_f.dropna(subset=[response,predictor])\n",
    "\n",
    "# Get optimal model config\n",
    "model_m,knots_m,degrees_m = spline_model_optimizer(df_m_nonull, response,predictor_var=predictor)\n",
    "model_f,knots_f,degrees_f = spline_model_optimizer(df_f_nonull, response,predictor_var=predictor)\n",
    "\n",
    "\n",
    "\n",
    "# Fit the model for different quantiles\n",
    "fit_models_m = fit_bs_models(model_m,qlist=[0.10,0.25,0.50,0.75,0.90])\n",
    "fit_models_f = fit_bs_models(model_f,qlist=[0.10,0.25,0.50,0.75,0.90])"
   ]
  },
  {
   "cell_type": "code",
   "execution_count": null,
   "metadata": {
    "slideshow": {
     "slide_type": "slide"
    }
   },
   "outputs": [],
   "source": [
    "# Plot the results\n",
    "print('Quantile Regression with Splines for Skeletal Muscle Area [CCHMC data] vs HEIGHT')\n",
    "plot_bs_qr([df_m_nonull,df_f_nonull],\n",
    "           [fit_models_m,fit_models_f],\n",
    "           knots=[knots_m,knots_f],\n",
    "           degrees=[degrees_m,degrees_f],\n",
    "           response=response,predictor=predictor)"
   ]
  },
  {
   "cell_type": "code",
   "execution_count": null,
   "metadata": {
    "slideshow": {
     "slide_type": "skip"
    }
   },
   "outputs": [],
   "source": [
    "response='smi'\n",
    "predictor='HEIGHT'\n",
    "\n",
    "df_m_nonull = df_m.dropna(subset=[response,predictor])\n",
    "df_f_nonull = df_f.dropna(subset=[response,predictor])\n",
    "\n",
    "# Get optimal model config\n",
    "model_m,knots_m,degrees_m = spline_model_optimizer(df_m_nonull, response,predictor_var=predictor)\n",
    "model_f,knots_f,degrees_f = spline_model_optimizer(df_f_nonull, response,predictor_var=predictor)\n",
    "\n",
    "\n",
    "\n",
    "# Fit the model for different quantiles\n",
    "fit_models_m = fit_bs_models(model_m,qlist=[0.10,0.25,0.50,0.75,0.90])\n",
    "fit_models_f = fit_bs_models(model_f,qlist=[0.10,0.25,0.50,0.75,0.90])"
   ]
  },
  {
   "cell_type": "code",
   "execution_count": null,
   "metadata": {
    "slideshow": {
     "slide_type": "slide"
    }
   },
   "outputs": [],
   "source": [
    "# Plot the results\n",
    "print('Quantile Regression with Splines for Skeletal Muscle Index [CCHMC data] vs HEIGHT')\n",
    "plot_bs_qr([df_m_nonull,df_f_nonull],\n",
    "           [fit_models_m,fit_models_f],\n",
    "           knots=[knots_m,knots_f],\n",
    "           degrees=[degrees_m,degrees_f],\n",
    "           response=response,predictor=predictor)"
   ]
  },
  {
   "cell_type": "code",
   "execution_count": null,
   "metadata": {
    "slideshow": {
     "slide_type": "skip"
    }
   },
   "outputs": [],
   "source": [
    "response='area_cm2'\n",
    "predictor='bmi_age_Zpercentile'\n",
    "\n",
    "df_m_nonull = df_m.dropna(subset=[response,predictor])\n",
    "df_f_nonull = df_f.dropna(subset=[response,predictor])\n",
    "\n",
    "# Get optimal model config\n",
    "model_m,knots_m,degrees_m = spline_model_optimizer(df_m_nonull, response,predictor_var=predictor)\n",
    "model_f,knots_f,degrees_f = spline_model_optimizer(df_f_nonull, response,predictor_var=predictor)\n",
    "\n",
    "\n",
    "\n",
    "# Fit the model for different quantiles\n",
    "fit_models_m = fit_bs_models(model_m,qlist=[0.10,0.25,0.50,0.75,0.90])\n",
    "fit_models_f = fit_bs_models(model_f,qlist=[0.10,0.25,0.50,0.75,0.90])"
   ]
  },
  {
   "cell_type": "code",
   "execution_count": null,
   "metadata": {
    "slideshow": {
     "slide_type": "slide"
    }
   },
   "outputs": [],
   "source": [
    "# Plot the results\n",
    "print('Quantile Regression with Splines for Skeletal Muscle Area [CCHMC data] vs BMI percentile')\n",
    "plot_bs_qr([df_m_nonull,df_f_nonull],\n",
    "           [fit_models_m,fit_models_f],\n",
    "           knots=[knots_m,knots_f],\n",
    "           degrees=[degrees_m,degrees_f],\n",
    "           response=response,predictor=predictor)"
   ]
  },
  {
   "cell_type": "code",
   "execution_count": null,
   "metadata": {
    "slideshow": {
     "slide_type": "skip"
    }
   },
   "outputs": [],
   "source": [
    "response='smi'\n",
    "predictor='bmi_age_Zpercentile'\n",
    "\n",
    "df_m_nonull = df_m.dropna(subset=[response,predictor])\n",
    "df_f_nonull = df_f.dropna(subset=[response,predictor])\n",
    "\n",
    "# Get optimal model config\n",
    "model_m,knots_m,degrees_m = spline_model_optimizer(df_m_nonull, response,predictor_var=predictor)\n",
    "model_f,knots_f,degrees_f = spline_model_optimizer(df_f_nonull, response,predictor_var=predictor)\n",
    "\n",
    "\n",
    "\n",
    "# Fit the model for different quantiles\n",
    "fit_models_m = fit_bs_models(model_m,qlist=[0.10,0.25,0.50,0.75,0.90])\n",
    "fit_models_f = fit_bs_models(model_f,qlist=[0.10,0.25,0.50,0.75,0.90])"
   ]
  },
  {
   "cell_type": "code",
   "execution_count": null,
   "metadata": {
    "slideshow": {
     "slide_type": "slide"
    }
   },
   "outputs": [],
   "source": [
    "# Plot the results\n",
    "print('Quantile Regression with Splines for Skeletal Muscle Index [CCHMC data] vs BMI percentile')\n",
    "plot_bs_qr([df_m_nonull,df_f_nonull],\n",
    "           [fit_models_m,fit_models_f],\n",
    "           knots=[knots_m,knots_f],\n",
    "           degrees=[degrees_m,degrees_f],\n",
    "           response=response,predictor=predictor)"
   ]
  }
 ],
 "metadata": {
  "celltoolbar": "Slideshow",
  "file_extension": ".py",
  "kernelspec": {
   "display_name": "Python 3",
   "language": "python",
   "name": "python3"
  },
  "language_info": {
   "codemirror_mode": {
    "name": "ipython",
    "version": 3
   },
   "file_extension": ".py",
   "mimetype": "text/x-python",
   "name": "python",
   "nbconvert_exporter": "python",
   "pygments_lexer": "ipython3",
   "version": "3.6.9"
  },
  "mimetype": "text/x-python",
  "name": "python",
  "npconvert_exporter": "python",
  "pygments_lexer": "ipython3",
  "version": 3
 },
 "nbformat": 4,
 "nbformat_minor": 2
}
