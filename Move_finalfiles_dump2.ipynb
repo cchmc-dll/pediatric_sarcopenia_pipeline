{
 "cells": [
  {
   "cell_type": "markdown",
   "metadata": {},
   "source": [
    "# Notebook to Move final dcm files selected for processing to Project Folder"
   ]
  },
  {
   "cell_type": "code",
   "execution_count": 3,
   "metadata": {},
   "outputs": [],
   "source": [
    "import shutil\n",
    "import pickle\n",
    "import pandas as pd\n",
    "from l3finder.ingest import *\n",
    "import os\n",
    "import multiprocessing\n",
    "from multiprocessing import get_context\n",
    "from multiprocessing import set_start_method\n",
    "from tqdm.notebook import tqdm\n",
    "from investigate import *\n",
    "\n",
    "# Custom functions\n",
    "def save_object(obj, filename):\n",
    "    with open(filename, 'wb') as output:  # Overwrites any existing file.\n",
    "        pickle.dump(obj, output, pickle.HIGHEST_PROTOCOL)\n",
    "\n",
    "def load_object(filename):        \n",
    "    with open(filename, 'rb') as input:\n",
    "        return pickle.load(input)"
   ]
  },
  {
   "cell_type": "code",
   "execution_count": 4,
   "metadata": {},
   "outputs": [],
   "source": [
    "cwd = os.getcwd()\n",
    "output = '/tf/pickles'\n",
    "data = '/tf/data'\n",
    "target = '/tf/output'\n",
    "dump=1"
   ]
  },
  {
   "cell_type": "markdown",
   "metadata": {},
   "source": [
    "### Open final df and reduce it to only the dump you are processing"
   ]
  },
  {
   "cell_type": "code",
   "execution_count": 5,
   "metadata": {},
   "outputs": [],
   "source": [
    "df_final = load_object(os.path.join(output,'df_final.pkl'))\n",
    "subjects = load_object(os.path.join(output,'subjects_final.pkl'))"
   ]
  },
  {
   "cell_type": "code",
   "execution_count": 6,
   "metadata": {},
   "outputs": [
    {
     "name": "stdout",
     "output_type": "stream",
     "text": [
      "Len of df_final for this dump:   1990\n",
      "Len of subjects for this dump:   1990\n"
     ]
    }
   ],
   "source": [
    "df_final = df_final[df_final['dump']==dump]\n",
    "subjects = [s for s in subjects if s.id_ in df_final['ID'].values]\n",
    "\n",
    "print('Len of df_final for this dump:  ', len(df_final))\n",
    "print('Len of subjects for this dump:  ', len(subjects))"
   ]
  },
  {
   "cell_type": "markdown",
   "metadata": {},
   "source": [
    "# File Mover"
   ]
  },
  {
   "cell_type": "code",
   "execution_count": 8,
   "metadata": {},
   "outputs": [],
   "source": [
    "file_mover = functools.partial(\n",
    "        move_subject,\n",
    "        df_final=df_final,\n",
    "        target = target)"
   ]
  },
  {
   "cell_type": "code",
   "execution_count": 9,
   "metadata": {},
   "outputs": [
    {
     "name": "stdout",
     "output_type": "stream",
     "text": [
      "Len of df:  1990\n",
      "Len of sub:  1990\n"
     ]
    }
   ],
   "source": [
    "df_final = df_final[df_final['ID'].isin([s.id_ for s in subjects])]\n",
    "print('Len of df: ', len(df_final))\n",
    "print('Len of sub: ', len(subjects))"
   ]
  },
  {
   "cell_type": "code",
   "execution_count": null,
   "metadata": {},
   "outputs": [
    {
     "name": "stdout",
     "output_type": "stream",
     "text": [
      "Moving valid subjects\n",
      "Filtering series using  10  cores:\n"
     ]
    },
    {
     "data": {
      "application/vnd.jupyter.widget-view+json": {
       "model_id": "cad2a9bae7c14995b483581a32f3f7c8",
       "version_major": 2,
       "version_minor": 0
      },
      "text/plain": [
       "HBox(children=(HTML(value=''), FloatProgress(value=0.0, max=1990.0), HTML(value='')))"
      ]
     },
     "metadata": {},
     "output_type": "display_data"
    }
   ],
   "source": [
    "if __name__=='__main__':\n",
    "    # Find series images\n",
    "    print(\"Moving valid subjects\")\n",
    "    \n",
    "    def pool_mover(pool, func, candidates):\n",
    "        return [a for a in tqdm(pool.imap_unordered(func, candidates),total=len(candidates))]\n",
    "        \n",
    "    print('Filtering series using ', 10, ' cores:')\n",
    "        \n",
    "    with get_context(\"spawn\").Pool(processes=10) as p:\n",
    "        result_list = pool_mover(p, file_mover,subjects)\n",
    "        p.close()\n",
    "        p.join()\n",
    "        \n",
    "    df_final['Processed'] = result_list"
   ]
  },
  {
   "cell_type": "code",
   "execution_count": null,
   "metadata": {},
   "outputs": [],
   "source": [
    "display(df_final.head(10))"
   ]
  },
  {
   "cell_type": "code",
   "execution_count": null,
   "metadata": {},
   "outputs": [],
   "source": [
    "save_object(df_final,os.path.join(output,'df_final_dump1_processed.pkl'))"
   ]
  },
  {
   "cell_type": "code",
   "execution_count": null,
   "metadata": {},
   "outputs": [],
   "source": []
  }
 ],
 "metadata": {
  "kernelspec": {
   "display_name": "Python 3",
   "language": "python",
   "name": "python3"
  },
  "language_info": {
   "codemirror_mode": {
    "name": "ipython",
    "version": 3
   },
   "file_extension": ".py",
   "mimetype": "text/x-python",
   "name": "python",
   "nbconvert_exporter": "python",
   "pygments_lexer": "ipython3",
   "version": "3.6.9"
  }
 },
 "nbformat": 4,
 "nbformat_minor": 2
}
