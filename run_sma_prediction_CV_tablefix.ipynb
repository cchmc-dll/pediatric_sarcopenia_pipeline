{
 "cells": [
  {
   "cell_type": "markdown",
   "metadata": {},
   "source": [
    "###### Load libraries and directories"
   ]
  },
  {
   "cell_type": "code",
   "execution_count": 1,
   "metadata": {},
   "outputs": [],
   "source": [
    "from IPython.display import display, HTML"
   ]
  },
  {
   "cell_type": "code",
   "execution_count": 2,
   "metadata": {},
   "outputs": [
    {
     "name": "stderr",
     "output_type": "stream",
     "text": [
      "Using TensorFlow backend.\n"
     ]
    }
   ],
   "source": [
    "# from IPython import get_ipython\n",
    "from tqdm.notebook import tqdm\n",
    "import pickle\n",
    "import os\n",
    "import math as math\n",
    "from scipy.signal import convolve2d\n",
    "import pprint\n",
    "pp = pprint.PrettyPrinter(indent=1)\n",
    "\n",
    "# Custom modules for debugging\n",
    "from SliceViewer import ImageSliceViewer3D, ImageSliceViewer3D_1view,ImageSliceViewer3D_2views\n",
    "from investigate import *\n",
    "import matplotlib.cm as cm\n",
    "#pd.set_option(\"display.max_rows\", 10)\n",
    "      \n",
    "import json\n",
    "from run_sma_experiment import find_l3_images,output_images\n",
    "import pprint\n",
    "from L3_finder import *\n",
    "\n",
    "# Custom functions\n",
    "import pickle\n",
    "def save_object(obj, filename):\n",
    "    with open(filename, 'wb') as output:  # Overwrites any existing file.\n",
    "        pickle.dump(obj, output, pickle.HIGHEST_PROTOCOL)\n",
    "\n",
    "def load_object(filename):        \n",
    "    with open(filename, 'rb') as input:\n",
    "        return pickle.load(input)"
   ]
  },
  {
   "cell_type": "code",
   "execution_count": 3,
   "metadata": {},
   "outputs": [
    {
     "name": "stderr",
     "output_type": "stream",
     "text": [
      "No traceback available to show.\n"
     ]
    }
   ],
   "source": [
    "get_ipython().run_line_magic('tb', '')"
   ]
  },
  {
   "cell_type": "code",
   "execution_count": 5,
   "metadata": {},
   "outputs": [
    {
     "name": "stdout",
     "output_type": "stream",
     "text": [
      "/tf/smipipeline\n"
     ]
    }
   ],
   "source": [
    "cwd = os.getcwd()\n",
    "print(cwd)\n",
    "data = '/tf/data'\n",
    "pickles = '/tf/pickles'\n",
    "models = '/tf/models'"
   ]
  },
  {
   "cell_type": "code",
   "execution_count": 6,
   "metadata": {
    "scrolled": true
   },
   "outputs": [
    {
     "name": "stdout",
     "output_type": "stream",
     "text": [
      "{'l3_finder': {'cache_dir': '/tf/_cache/',\n",
      "               'cache_intermediate_results': True,\n",
      "               'dicom_dir': '/tf/data',\n",
      "               'model_path_dir': '/tf/models/l3/cv_final',\n",
      "               'new_tim_dicom_dir_structure': True,\n",
      "               'output_directory': '/tf/output/l3/cv',\n",
      "               'overwrite': True,\n",
      "               'save_plots': True,\n",
      "               'show_plots': False},\n",
      " 'muscle_segmentor': {'model_path_dir': '/tf/models/muscle/cv_final',\n",
      "                      'output_directory': '/tf/output/ms/cv'}}\n"
     ]
    }
   ],
   "source": [
    "# Import modules and config file\n",
    "configfile = os.path.join(cwd,'config/debug_ES/run_prediction_CV.json')\n",
    "with open(configfile, \"r\") as f:\n",
    "        config = json.load(f)\n",
    "pp.pprint(config)"
   ]
  },
  {
   "cell_type": "markdown",
   "metadata": {},
   "source": [
    "## Section 1 - Process final images"
   ]
  },
  {
   "cell_type": "markdown",
   "metadata": {},
   "source": [
    "## Section 2 - Load each study into subject object\n",
    "<br>\n",
    "Subject object defined in L3finder.ingest"
   ]
  },
  {
   "cell_type": "code",
   "execution_count": 7,
   "metadata": {},
   "outputs": [
    {
     "data": {
      "text/plain": [
       "True"
      ]
     },
     "execution_count": 7,
     "metadata": {},
     "output_type": "execute_result"
    }
   ],
   "source": [
    "config['l3_finder']['new_tim_dicom_dir_structure']"
   ]
  },
  {
   "cell_type": "code",
   "execution_count": 8,
   "metadata": {
    "scrolled": true
   },
   "outputs": [
    {
     "name": "stdout",
     "output_type": "stream",
     "text": [
      "Finding subjects\n",
      "Subjects found:  2367\n"
     ]
    }
   ],
   "source": [
    "# Debug\n",
    "print(\"Finding subjects\")\n",
    "\n",
    "subjects = list(\n",
    "    find_subjects(\n",
    "        config['l3_finder'][\"dicom_dir\"],\n",
    "        new_tim_dir_structure=config['l3_finder']['new_tim_dicom_dir_structure']\n",
    "    )\n",
    ")\n",
    "\n",
    "print('Subjects found: ', len(subjects))"
   ]
  },
  {
   "cell_type": "markdown",
   "metadata": {},
   "source": [
    "## Section-3 - check if there are subjects with multiple folders (studies)"
   ]
  },
  {
   "cell_type": "code",
   "execution_count": null,
   "metadata": {},
   "outputs": [],
   "source": [
    "%%time\n",
    "# Find series images\n",
    "print(\"Finding series\")\n",
    "series = list(flatten(tqdm((s.find_series() for s in subjects),total=len(subjects))))"
   ]
  },
  {
   "cell_type": "code",
   "execution_count": null,
   "metadata": {},
   "outputs": [],
   "source": [
    "print(\"Total number of series found: \", len(series))"
   ]
  },
  {
   "cell_type": "code",
   "execution_count": null,
   "metadata": {},
   "outputs": [],
   "source": [
    "%%time\n",
    "sagittal_series, axial_series, excluded_series = separate_series(series)"
   ]
  },
  {
   "cell_type": "code",
   "execution_count": null,
   "metadata": {},
   "outputs": [],
   "source": [
    "print(\"Length of valid pats: \", len(subjects))\n",
    "print(\"Length of sagittal series\", len(sagittal_series))\n",
    "print(\"Length of axial series\", len(axial_series))\n",
    "print(\"Length of excluded series\", len(excluded_series))\n",
    "print(\"Length of all series in dataset\", len(series))"
   ]
  },
  {
   "cell_type": "markdown",
   "metadata": {},
   "source": [
    "### Make sure each subject has at the max only 1 axial and 1 sagittal series"
   ]
  },
  {
   "cell_type": "code",
   "execution_count": null,
   "metadata": {},
   "outputs": [],
   "source": [
    "ax_ids = [ax.subject.id_ for ax in axial_series]\n",
    "sag_ids = [sag.subject.id_ for sag in sagittal_series]\n",
    "\n",
    "def find_duplicates(id_list):\n",
    "    uniques = []\n",
    "    duplicates = []\n",
    "    for ids in id_list:\n",
    "        if ids in uniques:\n",
    "            duplicates.append(ids)\n",
    "        else:\n",
    "            uniques.append(ids)\n",
    "            \n",
    "    return uniques,duplicates\n",
    "\n",
    "\n",
    "ax_u,ax_d = find_duplicates(ax_ids)\n",
    "sag_u,sag_d = find_duplicates(sag_ids)\n",
    "\n",
    "print('Ax duplicates: ', ax_d)\n",
    "print('Sag duplicates: ', sag_d)"
   ]
  },
  {
   "cell_type": "code",
   "execution_count": null,
   "metadata": {},
   "outputs": [],
   "source": [
    "# Find the series objects to investigate\n",
    "ax_d_series = [ax for ax in axial_series if ax.subject.id_ in ax_d]\n",
    "sag_d_series = [ax for ax in sagittal_series if ax.subject.id_ in ax_d]"
   ]
  },
  {
   "cell_type": "code",
   "execution_count": null,
   "metadata": {},
   "outputs": [],
   "source": [
    "df_dl= load_object(os.path.join(pickles,'df_final.pkl'))\n",
    "display(df_dl[df_dl['ID']==ax_d[0]])"
   ]
  },
  {
   "cell_type": "markdown",
   "metadata": {},
   "source": [
    "## Reconstruct Missing Sagittals"
   ]
  },
  {
   "cell_type": "code",
   "execution_count": null,
   "metadata": {},
   "outputs": [],
   "source": [
    "# By default code filters 0.5mm slices, but I am letting them pass by setting it to 0\n",
    "constructed_sagittals = construct_series_for_subjects_without_sagittals(\n",
    "        subjects, sagittal_series, axial_series,thickness_filter=0) "
   ]
  },
  {
   "cell_type": "code",
   "execution_count": null,
   "metadata": {},
   "outputs": [],
   "source": [
    "print(\n",
    "        \"Series separated\\n\",\n",
    "        len(sagittal_series), \"sagittal series.\",\n",
    "        len(axial_series), \"axial series.\",\n",
    "        len(excluded_series), \"excluded series.\",\n",
    "        len(constructed_sagittals), \"constructed series.\",\n",
    "    )"
   ]
  },
  {
   "cell_type": "code",
   "execution_count": null,
   "metadata": {},
   "outputs": [],
   "source": [
    "sagittal_series.extend(constructed_sagittals)"
   ]
  },
  {
   "cell_type": "code",
   "execution_count": null,
   "metadata": {},
   "outputs": [],
   "source": [
    "save_object(axial_series,os.path.join(pickles,'axial_curated.pkl'))\n",
    "save_object(sagittal_series,os.path.join(pickles,'sagittal_curated.pkl'))"
   ]
  },
  {
   "cell_type": "markdown",
   "metadata": {},
   "source": [
    "## Create MIPS"
   ]
  },
  {
   "cell_type": "code",
   "execution_count": null,
   "metadata": {},
   "outputs": [],
   "source": [
    "print(\"Creating sagittal MIPS\")\n",
    "mips = create_sagittal_mips_from_series(\n",
    "        many_series=sagittal_series,\n",
    "        cache_dir=config['l3_finder'].get(\"cache_dir\", None),\n",
    "        cache=config['l3_finder'].get(\"cache_intermediate_results\", False),\n",
    "    )"
   ]
  },
  {
   "cell_type": "code",
   "execution_count": null,
   "metadata": {},
   "outputs": [],
   "source": [
    "save_object(mips,os.path.join(pickles,'mips.pkl'))"
   ]
  },
  {
   "cell_type": "markdown",
   "metadata": {},
   "source": [
    "## Find L3"
   ]
  },
  {
   "cell_type": "code",
   "execution_count": null,
   "metadata": {},
   "outputs": [],
   "source": [
    "mips = load_object(os.path.join(pickles,'mips.pkl'))"
   ]
  },
  {
   "cell_type": "code",
   "execution_count": null,
   "metadata": {},
   "outputs": [],
   "source": [
    "print(\"Preprocessing Images\")\n",
    "preprocessed_images = preprocess_images(mips)\n",
    "\n",
    "# Sagittal mip is redundant, get rid just use preprocessed images\n",
    "sagittal_mips = [SagittalMIP(i) for i in preprocessed_images]\n",
    "\n",
    "print(\"Separate heights for better batching\")\n",
    "mips_by_dimension = group_mips_by_dimension(sagittal_mips)\n",
    "print(\"Dimensions in set:\", mips_by_dimension.keys())"
   ]
  },
  {
   "cell_type": "code",
   "execution_count": null,
   "metadata": {},
   "outputs": [],
   "source": [
    "save_object(mips_by_dimension,os.path.join(pickles,'mips_by_dimension.pkl'))"
   ]
  },
  {
   "cell_type": "markdown",
   "metadata": {},
   "source": [
    "## Find L3 - step 2"
   ]
  },
  {
   "cell_type": "code",
   "execution_count": null,
   "metadata": {},
   "outputs": [],
   "source": [
    "mips_by_dimension = load_object(os.path.join(pickles,'mips_by_dimension.pkl'))\n",
    "axial_series = load_object(os.path.join(pickles,'axial_curated.pkl'))\n",
    "sagittal_series = load_object(os.path.join(pickles,'sagittal_curated.pkl'))"
   ]
  },
  {
   "cell_type": "code",
   "execution_count": null,
   "metadata": {},
   "outputs": [],
   "source": [
    "# Get all models in model path dir\n",
    "models_dir = config['l3_finder']['model_path_dir']\n",
    "\n",
    "# Get all models in models dir\n",
    "models_list = sorted([f for f in os.listdir(models_dir) if f.endswith('.h5')])\n",
    "print(models_list)\n",
    "folds = len(models_list)\n",
    "\n",
    "for fold in range(folds):\n",
    "    model_path = os.path.join(models_dir,models_list[fold])\n",
    "    print(model_path)"
   ]
  },
  {
   "cell_type": "code",
   "execution_count": null,
   "metadata": {},
   "outputs": [],
   "source": [
    "runname = 'CV'\n",
    "if __name__ == \"__main__\":\n",
    "    for fold in range(folds):\n",
    "        model_path = os.path.join(models_dir,models_list[fold])\n",
    "        print(\"Making predictions for fold \", fold, 'Path: ', model_path)\n",
    "        prediction_results = []\n",
    "        prediction_errors = []\n",
    "        for dimension, sagittal_mips in mips_by_dimension.items():\n",
    "            dim_group_results,errors = make_predictions_for_sagittal_mips(\n",
    "                sagittal_mips,\n",
    "                model_path=model_path,\n",
    "                shape=dimension\n",
    "            )\n",
    "            prediction_results.extend(dim_group_results)\n",
    "            prediction_errors.extend(errors)\n",
    "\n",
    "        # Save prediction results\n",
    "        pred_results_file = 'prediction_results_' + str(fold) + '_' +  runname + '.pkl'\n",
    "        pred_errors_file = 'prediction_errors_' + str(fold) + '_' +  runname + '.pkl'\n",
    "        save_object(prediction_results,os.path.join(pickles,pred_results_file))\n",
    "        save_object(prediction_errors,os.path.join(pickles,pred_errors_file))"
   ]
  },
  {
   "cell_type": "markdown",
   "metadata": {},
   "source": [
    "### Save l3 prediction results"
   ]
  },
  {
   "cell_type": "code",
   "execution_count": null,
   "metadata": {},
   "outputs": [],
   "source": [
    "axial_series = load_object(os.path.join(pickles,'axial_curated.pkl'))"
   ]
  },
  {
   "cell_type": "code",
   "execution_count": null,
   "metadata": {},
   "outputs": [],
   "source": [
    "len(axial_series)"
   ]
  },
  {
   "cell_type": "code",
   "execution_count": null,
   "metadata": {},
   "outputs": [],
   "source": [
    "# Load prediction_results pickle files\n",
    "runname = 'CV'\n",
    "\n",
    "output_dir = config[\"l3_finder\"][\"output_directory\"]\n",
    "if not os.path.exists(output_dir):\n",
    "    os.makedirs(output_dir)\n",
    "\n",
    "prediction_results_list = sorted([f for f in os.listdir(pickles) if (f.startswith('prediction_results_') and f.endswith(runname+'.pkl'))])\n",
    "folds = len(prediction_results_list)\n",
    "print(folds)\n",
    "\n",
    "if __name__ == \"__main__\":\n",
    "    for fold in range(folds):\n",
    "        pred_file = os.path.join(pickles,prediction_results_list[fold])\n",
    "        prediction_results = load_object(pred_file)\n",
    "        print('Total predictions: ',len(prediction_results))\n",
    "        print('Building L3 images for fold: ', fold)\n",
    "        l3_images = build_l3_images(axial_series, prediction_results)\n",
    "        print('Total images: ',len(l3_images))\n",
    "        # Don't run this unless you have new L3 results\n",
    "        print(\"Outputting L3 images for fold: \", fold)\n",
    "        # Clears pixel data from memory aafter outputting\n",
    "        output_dir = os.path.join(config[\"l3_finder\"][\"output_directory\"],str(fold))\n",
    "        \n",
    "        if not os.path.exists(output_dir):\n",
    "            os.makedirs(output_dir)\n",
    "        \n",
    "        l3_images = output_images(\n",
    "        l3_images,\n",
    "        args=dict(\n",
    "            output_directory=output_dir,\n",
    "            should_plot=config[\"l3_finder\"][\"show_plots\"],\n",
    "            should_overwrite=config[\"l3_finder\"][\"overwrite\"],\n",
    "            should_save_plots=config[\"l3_finder\"][\"save_plots\"]\n",
    "        ))"
   ]
  },
  {
   "cell_type": "markdown",
   "metadata": {},
   "source": [
    "## Find mean L3 prediction"
   ]
  },
  {
   "cell_type": "code",
   "execution_count": 7,
   "metadata": {},
   "outputs": [],
   "source": [
    "import csv\n",
    "import sys\n",
    "from collections import defaultdict\n",
    "from pathlib import Path\n",
    "\n",
    "from L3_finder import L3Image\n",
    "from l3finder import ingest\n",
    "\n",
    "from compare_best_to_manual_l3_and_seg import MinimalPrediction, MinimalResult"
   ]
  },
  {
   "cell_type": "code",
   "execution_count": 8,
   "metadata": {},
   "outputs": [],
   "source": [
    "def load_l3_predictions(l3_prediction_dir,nfolds):\n",
    "    subject_id_col = 0\n",
    "    pred_in_px_col = 1\n",
    "    predictions = defaultdict(list)\n",
    "\n",
    "    for fold_index in range(0, nfolds):\n",
    "        csv_dir = os.path.join(l3_prediction_dir,str(fold_index))\n",
    "        csv_path = Path(csv_dir,'l3_prediction_results.csv')\n",
    "        with open(csv_path) as csvfile:\n",
    "            reader = csv.reader(csvfile)\n",
    "            next(reader)\n",
    "\n",
    "            for row in reader:\n",
    "                subid = row[subject_id_col].split('-')[0]\n",
    "                predictions[subid].append(float(row[pred_in_px_col]))\n",
    "\n",
    "    return predictions\n",
    "\n",
    "def calc_mean_predictions(all_predictions: defaultdict):\n",
    "    result = {}\n",
    "    for subject_id, prediction_list in all_predictions.items():\n",
    "        result[subject_id] = np.mean(prediction_list)\n",
    "    return result\n",
    "\n",
    "def find_subjects_w_preds(predictions, all_subjects):\n",
    "    subject_ids_w_preds = set(predictions.keys())\n",
    "    return [s for s in all_subjects if s.id_ in subject_ids_w_preds]\n",
    "\n",
    "\n",
    "\n",
    "def load_l3_images_from_predictions(mean_predictions, subjects_w_preds,axials,sagittals):\n",
    "    l3_images = []\n",
    "\n",
    "    for subject in subjects_w_preds:\n",
    "        sagittal_series = [s for s in sagittals if s.subject.id_ == subject.id_][0]\n",
    "        axial_series = [a for a in axials if a.subject.id_ == subject.id_][0]\n",
    "        l3_images.append(\n",
    "            L3Image(\n",
    "                axial_series=axial_series,\n",
    "                sagittal_series=sagittal_series,\n",
    "                prediction_result=MinimalResult(\n",
    "                    MinimalPrediction(\n",
    "                        predicted_y_in_px=mean_predictions[subject.id_]\n",
    "                    )\n",
    "                )\n",
    "            )\n",
    "        )\n",
    "    return l3_images"
   ]
  },
  {
   "cell_type": "code",
   "execution_count": 9,
   "metadata": {},
   "outputs": [],
   "source": [
    "axial_series = load_object(os.path.join(pickles,'axial_curated.pkl'))\n",
    "sagittal_series = load_object(os.path.join(pickles,'sagittal_curated.pkl'))"
   ]
  },
  {
   "cell_type": "code",
   "execution_count": 10,
   "metadata": {},
   "outputs": [
    {
     "name": "stdout",
     "output_type": "stream",
     "text": [
      "5\n"
     ]
    }
   ],
   "source": [
    "runname = 'CV'\n",
    "prediction_results_list = sorted([f for f in os.listdir(pickles) if (f.startswith('prediction_results_') and f.endswith(runname+'.pkl'))])\n",
    "folds = len(prediction_results_list)\n",
    "print(folds)"
   ]
  },
  {
   "cell_type": "code",
   "execution_count": 11,
   "metadata": {},
   "outputs": [],
   "source": [
    "if __name__ == \"__main__\":\n",
    "    all_predictions = load_l3_predictions(config[\"l3_finder\"][\"output_directory\"],folds)\n",
    "    mean_predictions = calc_mean_predictions(all_predictions)\n",
    "    subjects_w_preds = find_subjects_w_preds(mean_predictions, list(ingest.find_subjects(config['l3_finder'][\"dicom_dir\"])))\n",
    "    l3_images = load_l3_images_from_predictions(mean_predictions, subjects_w_preds, axial_series, sagittal_series)"
   ]
  },
  {
   "cell_type": "code",
   "execution_count": 12,
   "metadata": {},
   "outputs": [
    {
     "name": "stdout",
     "output_type": "stream",
     "text": [
      "2367\n"
     ]
    }
   ],
   "source": [
    "print(len(l3_images))"
   ]
  },
  {
   "cell_type": "markdown",
   "metadata": {},
   "source": [
    "## Fix Poor Table Removal ISSUE"
   ]
  },
  {
   "cell_type": "code",
   "execution_count": 13,
   "metadata": {},
   "outputs": [],
   "source": [
    "# Investigate L3 images\n",
    "import SimpleITK as sitk\n",
    "from run_sma_experiment import rescale_1024, remove_table, _remove_table, threshold_images, normalize_images\n",
    "def zero_ims(rescaled_images):\n",
    "    zeroed_images = [\n",
    "        rs_im + (rs_im.min() * -1)\n",
    "        for rs_im\n",
    "        in rescaled_images\n",
    "    ]\n",
    "    return zeroed_images\n",
    "\n",
    "def rescale_1024(img):\n",
    "    if np.min(img) == 0 or np.min(img)==1: # Rescale intercept -1024, slope 1 or 0\n",
    "        # Rescale to -1024\n",
    "        img = img.astype('int16')\n",
    "        img = img - 1024 # undo rescale [proper HU]\n",
    "        img[img <= -1020] = -2048  # scale back to match others\n",
    "        return img\n",
    "    elif np.min(img) == -1024:\n",
    "        img = img.astype('int16')\n",
    "        img[img <= -1020] = -2048  # scale back to match others\n",
    "        return img\n",
    "    elif np.min(img) == -2000:\n",
    "        if np.mean(img) <= -500: # Images with rescaleintercept = -1024\n",
    "            img = img.astype('int16')\n",
    "            img[img <= -1020] = -2048  # scale back to match others\n",
    "            return img\n",
    "        else:       # Images with rescaleintercept = 0\n",
    "            img = img.astype('int16')\n",
    "            img = img - 1024 # undo rescale [proper HU]\n",
    "            img[img <= -1020] = -2048  # scale back to match others\n",
    "            return img\n",
    "    elif np.min(img) < -2048: # MIP images\n",
    "        img = img.astype('int16')\n",
    "        img[img <= -1020] = -2048  # scale back to match others\n",
    "        return img\n",
    "    else:\n",
    "        return img\n",
    "\n",
    "def estimate_noise(I):\n",
    "    H, W = I.shape\n",
    "\n",
    "    M = [[1, -2, 1],\n",
    "           [-2, 4, -2],\n",
    "           [1, -2, 1]]\n",
    "\n",
    "    sigma = np.sum(np.sum(np.absolute(convolve2d(I, M))))\n",
    "    sigma = sigma * math.sqrt(0.5 * math.pi) / (6 * (W-2) * (H-2))\n",
    "\n",
    "    return sigma    \n",
    "\n",
    "def smooth_img(input): \n",
    "    CT = sitk.GetImageFromArray(input)\n",
    "    rgsmootherfilter = sitk.SmoothingRecursiveGaussianImageFilter()\n",
    "    rgsmootherfilter.SetSigma(2.0)\n",
    "    rgsmootherfilter.SetNormalizeAcrossScale(True)\n",
    "    rgsmoothedimage  = rgsmootherfilter.Execute(CT)\n",
    "    ctnoise =estimate_noise(input)\n",
    "    output = sitk.GetArrayFromImage(rgsmoothedimage)\n",
    "    smnoise = estimate_noise(output)\n",
    "    #print('Before noise: ',ctnoise, ' After noise: ', smnoise)\n",
    "    return output\n",
    "\n",
    "\n",
    "def _remove_table_mod(CT_nda,l_thresh=1300,h_thresh=3500,seed=[256, 256]):\n",
    "    CT = sitk.GetImageFromArray(CT_nda)\n",
    "    #\n",
    "    # Blur using CurvatureFlowImageFilter\n",
    "    #\n",
    "    blurFilter = sitk.CurvatureFlowImageFilter()\n",
    "    blurFilter.SetNumberOfIterations(5)\n",
    "    blurFilter.SetTimeStep(0.125)\n",
    "    image = blurFilter.Execute(CT)\n",
    "               \n",
    "    #\n",
    "    # Set up ConnectedThresholdImageFilter for segmentation\n",
    "    #\n",
    "    segmentationFilter = sitk.ConnectedThresholdImageFilter()\n",
    "    segmentationFilter.SetLower(float(l_thresh))\n",
    "    segmentationFilter.SetUpper(float(h_thresh))\n",
    "    segmentationFilter.SetReplaceValue(1)\n",
    "    segmentationFilter.AddSeed(seed)\n",
    "    \n",
    "    \n",
    "    \n",
    "\n",
    "    # Run the segmentation filter\n",
    "    image = segmentationFilter.Execute(image)\n",
    "    image[seed] = 1\n",
    "\n",
    "    # Fill holes\n",
    "    image = sitk.BinaryFillhole(image);\n",
    "\n",
    "    # Masking FIlter\n",
    "    maskingFilter = sitk.MaskImageFilter()\n",
    "    CT_noTable = maskingFilter.Execute(CT,image)\n",
    "    CT_noTable = sitk.GetArrayFromImage(CT_noTable)\n",
    "    \n",
    "\n",
    "    # CHeck if the mean HU value is too low, which means CT did not have table and removed body pixels,\n",
    "    # Happens for very young patients with small field of view\n",
    "    if np.mean(CT_noTable) < 100: # if mean HU of final image is too low, return input CT\n",
    "        return CT_nda\n",
    "    else:\n",
    "        return CT_noTable\n",
    "    \n"
   ]
  },
  {
   "cell_type": "code",
   "execution_count": 14,
   "metadata": {},
   "outputs": [],
   "source": [
    "test_subs0 = ['Z876503','Z486791', 'Z913811', 'Z456574', 'Z489517', 'Z1295431', 'Z1056292',\n",
    " 'Z1888427', 'Z370830' ,'Z1196674' ,'Z1033402', 'Z1212421', 'Z797075',\n",
    " 'Z1224134' ,'Z857466', 'Z1239638' ,'Z563801', 'Z1198129', 'Z883781', 'Z1085469',\n",
    " 'Z867082' ,'Z298760' ,'Z921388' ,'Z1976743' ,'Z574459', 'Z1944470' ,'Z1332420',\n",
    " 'Z15992' ,'Z1140026' ,'Z1119985', 'Z1182130', 'Z467063' ,'Z1274627', 'Z1266012',\n",
    " 'Z1279217', 'Z505334' ,'Z846542', 'Z1037763', 'Z1263347', 'Z862381', 'Z857086',\n",
    " 'Z469954' ,'Z1197230', 'Z472264', 'Z1830146', 'Z827107' ,'Z542033' ,'Z538768',\n",
    " 'Z842237' ,'Z568227', 'Z832424', 'Z1683576']\n",
    "\n",
    "\n",
    "test_subs_lf = [\"Z489517\", \"Z456574\", \"Z1056292\", \"Z1888427\", \"Z1295431\", \"Z1212421\", \"Z1332420\", \"Z1317515\",\n",
    "             \"Z1976743\", \"Z1951972\", \"Z1085469\", \"Z1263347\", \"Z1037763\", \"Z1197230\", \"Z1830146\", \"Z542033\",\n",
    "             \"Z631817\", \"Z832424\", \"Z723781\", \"Z1238640\", \"Z1182222\", \"Z1095320\", \"Z1262816\", \"Z1709049\",\n",
    "             \"Z1222041\", \"Z1365961\", \"Z1269771\", \"Z1232902\", \"Z458309\", \"Z1120349\", \"Z1130154\", \"Z1280191\",\n",
    "             \"Z486791\", \"Z1418766\", \"Z508456\", \"Z634845\", \"Z1183847\", \"Z996722\", \"Z708250\", \"Z913811\", \"Z1046920\",\n",
    "             \"Z702930\", \"Z1166481\", \"Z1421847\", \"Z1804059\", \"Z651186\", \"Z1388086\", \"Z546239\", \"Z617704\", \"Z1261562\",\n",
    "             \"Z1084555\"]\n",
    "\n",
    "test_subs_lm = [\"Z1996094\", \"Z1262030\", \"Z705523\", \"Z1762020\", \"Z1286046\", \"Z906949\", \"Z675367\", \"Z1292977\", \n",
    "             \"Z1195730\", \"Z1939610\", \"Z985713\", \"Z485332\", \"Z721220\", \"Z953808\", \"Z918410\", \"Z357478\",\n",
    "             \"Z1947621\", \"Z1952256\", \"Z1800195\", \"Z1771278\", \"Z1815276\", \"Z418856\", \"Z1196354\", \"Z1059511\",\n",
    "             \"Z687529\", \"Z1984313\", \"Z1923333\", \"Z1031396\", \"Z1744045\", \"Z1690945\", \"Z1870060\", \"Z1326208\", \n",
    "             \"Z1109965\", \"Z1782086\", \"Z1225168\", \"Z1320140\", \"Z1376856\", \"Z1070342\", \"Z1256084\", \"Z1360921\",\n",
    "             \"Z704566\", \"Z1477724\", \"Z1436778\", \"Z545367\", \"Z1693547\", \"Z456065\", \"Z1190577\", \"Z1787359\",\n",
    "             \"Z1454933\", \"Z1450371\", \"Z1258508\"]\n",
    "\n",
    "\n",
    "test_subs = [\"Z422122\", \"Z1109476\", \"Z654902\", \"Z659670\", \"Z933945\", \"Z941630\", \"Z917389\", \n",
    "             \"Z5745\", \"Z693521\", \"Z1432145\", \"Z944973\", \"Z377539\", \"Z432563\", \"Z445300\", \n",
    "             \"Z1047725\", \"Z423050\", \"Z1108612\", \"Z934752\", \"Z542803\", \"Z1462171\", \"Z878058\",\n",
    "             \"Z372476\", \"Z445313\", \"Z540428\", \"Z1003148\", \"Z1015067\", \"Z620944\", \"Z949241\", \"Z842715\",\n",
    "             \"Z877689\", \"Z569118\", \"Z842219\", \"Z829322\", \"Z838508\", \"Z983086\", \"Z918026\", \"Z735782\", \n",
    "             \"Z578345\", \"Z1272833\", \"Z882601\", \"Z943778\", \"Z934271\", \"Z873213\", \"Z896236\", \"Z666165\",\n",
    "             \"Z424181\", \"Z1258216\", \"Z936019\", \"Z937153\", \"Z891398\", \"Z374705\"]\n",
    "\n",
    "l3_ids = [l3.subject_id for l3 in l3_images]\n",
    "\n",
    "test_l3s = [l3_images[l3_ids.index(sub)] for sub in test_subs]\n",
    "\n",
    "#test_l3s = [l3 for l3 in l3_images if l3.subject_id in test_subs]"
   ]
  },
  {
   "cell_type": "code",
   "execution_count": 15,
   "metadata": {},
   "outputs": [],
   "source": [
    "def run_diagnostics(test_l3s,ind = 2):\n",
    "    p2_org = test_l3s[ind].pixel_data\n",
    "\n",
    "    p2 = rescale_1024(p2_org)\n",
    "    p2 = np.array(zero_ims([p2])[0])\n",
    "    p2[p2 > 4000] = 4000\n",
    "    \n",
    "    if estimate_noise(p2) > 1:\n",
    "        p2 = smooth_img(p2)\n",
    "    \n",
    "    p2t = _remove_table(p2,l_thresh=1300)\n",
    "\n",
    "    p2tt = threshold_images(p2t)\n",
    "    \n",
    "    if estimate_noise(p2tt) > 1:\n",
    "        p2tt = smooth_img(p2tt)\n",
    "        \n",
    "    p2tn = p2tt\n",
    "\n",
    "    # Modified Flow\n",
    "    q2_org = test_l3s[ind].pixel_data\n",
    "\n",
    "    q2 = rescale_1024(q2_org)\n",
    "\n",
    "    q2 = np.array(zero_ims([q2])[0])\n",
    "\n",
    "    q2t = threshold_images(q2) - 1800\n",
    "\n",
    "    q2tt = _remove_table_mod(q2t,l_thresh=300,h_thresh=500)\n",
    "\n",
    "    q2tn = q2tt+1800\n",
    "    \n",
    "    q2tn = q2tn\n",
    "    \n",
    "    # Diagnostics:\n",
    "    print('Subject: ',test_subs[ind])\n",
    "    print(' \\n Current Flow')\n",
    "    print('Original -  max: ', np.max(p2_org),' min: ', np.min(p2_org),' mean: ', np.round(np.mean(p2_org),2))\n",
    "    print('Normalized -  max: ', np.round(np.max(p2tn),2),' min: ', np.round(np.min(p2tn),2),' mean: ', np.round(np.mean(p2tn),2))\n",
    "    print(' \\n New Flow')\n",
    "    print('Original -  max: ', np.max(q2_org),' min: ', np.min(q2_org),' mean: ', np.round(np.mean(q2_org),2))\n",
    "\n",
    "    print('Threshold -  max: ', np.round(np.max(q2t),2),' min: ', np.round(np.min(q2t),2),' mean: ', np.round(np.mean(q2t),2))\n",
    "\n",
    "    print('Normalized -  max: ', np.round(np.max(q2tn),2),' min: ', np.round(np.min(q2tn),2),' mean: ', np.round(np.mean(q2tn),2))\n",
    "\n",
    "    # Current\n",
    "    _,ax = plt.subplots(1,3, figsize=(10,10))\n",
    "    ax[0].imshow(p2)\n",
    "    ax[1].imshow(p2t,cmap=cm.gray)\n",
    "    ax[2].imshow(p2tn,cmap=cm.gray)\n",
    "    plt.show()\n",
    "\n",
    "\n",
    "    #NEw\n",
    "    _,ax2 = plt.subplots(1,3, figsize=(10,10))\n",
    "    ax2[0].imshow(q2,cmap=cm.gray)\n",
    "    ax2[1].imshow(q2t,cmap=cm.gray)\n",
    "    ax2[2].imshow(q2tn,cmap=cm.gray)\n",
    "    plt.show()"
   ]
  },
  {
   "cell_type": "code",
   "execution_count": 29,
   "metadata": {},
   "outputs": [
    {
     "name": "stdout",
     "output_type": "stream",
     "text": [
      "Subject:  Z943778\n",
      " \n",
      " Current Flow\n",
      "Original -  max:  1257  min:  -2048  mean:  -818.55\n",
      "Normalized -  max:  2300.0  min:  1800.0  mean:  1908.99\n",
      " \n",
      " New Flow\n",
      "Original -  max:  1257  min:  -2048  mean:  -818.55\n",
      "Threshold -  max:  500  min:  0  mean:  113.55\n",
      "Normalized -  max:  2300  min:  1800  mean:  1913.55\n"
     ]
    },
    {
     "data": {
      "image/png": "[encoded data removed]",
      "text/plain": [
       "<Figure size 720x720 with 3 Axes>"
      ]
     },
     "metadata": {
      "needs_background": "light"
     },
     "output_type": "display_data"
    },
    {
     "data": {
      "image/png": "[encoded data removed]",
      "text/plain": [
       "<Figure size 720x720 with 3 Axes>"
      ]
     },
     "metadata": {
      "needs_background": "light"
     },
     "output_type": "display_data"
    }
   ],
   "source": [
    "run_diagnostics(test_l3s,ind=40) #9"
   ]
  },
  {
   "cell_type": "code",
   "execution_count": 101,
   "metadata": {},
   "outputs": [],
   "source": [
    "test = test_l3s[9].pixel_data"
   ]
  },
  {
   "cell_type": "code",
   "execution_count": 102,
   "metadata": {},
   "outputs": [
    {
     "data": {
      "text/plain": [
       "(512, 512)"
      ]
     },
     "execution_count": 102,
     "metadata": {},
     "output_type": "execute_result"
    }
   ],
   "source": [
    "test.shape"
   ]
  },
  {
   "cell_type": "code",
   "execution_count": 113,
   "metadata": {},
   "outputs": [
    {
     "name": "stdout",
     "output_type": "stream",
     "text": [
      "Before noise:  31.08467538944392  After noise:  0.25766625203086835\n"
     ]
    },
    {
     "data": {
      "text/plain": [
       "-3280"
      ]
     },
     "execution_count": 113,
     "metadata": {},
     "output_type": "execute_result"
    }
   ],
   "source": [
    "test2 = smooth_img(test)\n",
    "np.min(test)"
   ]
  },
  {
   "cell_type": "code",
   "execution_count": 105,
   "metadata": {},
   "outputs": [
    {
     "data": {
      "text/plain": [
       "-3280"
      ]
     },
     "execution_count": 105,
     "metadata": {},
     "output_type": "execute_result"
    }
   ],
   "source": [
    "np.min(test)"
   ]
  },
  {
   "cell_type": "code",
   "execution_count": 107,
   "metadata": {},
   "outputs": [
    {
     "data": {
      "text/plain": [
       "(227, 458)"
      ]
     },
     "execution_count": 107,
     "metadata": {},
     "output_type": "execute_result"
    }
   ],
   "source": [
    "ind = np.unravel_index(np.argmin(test, axis=None), test.shape)\n",
    "ind"
   ]
  },
  {
   "cell_type": "code",
   "execution_count": 108,
   "metadata": {},
   "outputs": [
    {
     "data": {
      "text/plain": [
       "-3280"
      ]
     },
     "execution_count": 108,
     "metadata": {},
     "output_type": "execute_result"
    }
   ],
   "source": [
    "test[227,458]"
   ]
  },
  {
   "cell_type": "code",
   "execution_count": 109,
   "metadata": {},
   "outputs": [],
   "source": [
    "tt = test_l3s[9]"
   ]
  },
  {
   "cell_type": "code",
   "execution_count": 110,
   "metadata": {},
   "outputs": [
    {
     "data": {
      "text/plain": [
       "['__attrs_attrs__',\n",
       " '__class__',\n",
       " '__delattr__',\n",
       " '__dict__',\n",
       " '__dir__',\n",
       " '__doc__',\n",
       " '__eq__',\n",
       " '__format__',\n",
       " '__ge__',\n",
       " '__getattribute__',\n",
       " '__gt__',\n",
       " '__hash__',\n",
       " '__init__',\n",
       " '__init_subclass__',\n",
       " '__le__',\n",
       " '__lt__',\n",
       " '__module__',\n",
       " '__ne__',\n",
       " '__new__',\n",
       " '__reduce__',\n",
       " '__reduce_ex__',\n",
       " '__repr__',\n",
       " '__setattr__',\n",
       " '__sizeof__',\n",
       " '__str__',\n",
       " '__subclasshook__',\n",
       " '__weakref__',\n",
       " 'as_csv_row',\n",
       " 'axial_series',\n",
       " 'free_pixel_data',\n",
       " 'height_of_sagittal_image',\n",
       " 'number_of_axial_dicoms',\n",
       " 'pixel_data',\n",
       " 'predicted_y_in_px',\n",
       " 'prediction_index',\n",
       " 'prediction_result',\n",
       " 'sagittal_series',\n",
       " 'subject_id']"
      ]
     },
     "execution_count": 110,
     "metadata": {},
     "output_type": "execute_result"
    }
   ],
   "source": [
    "dir(tt)"
   ]
  },
  {
   "cell_type": "code",
   "execution_count": 111,
   "metadata": {},
   "outputs": [
    {
     "data": {
      "text/plain": [
       "MinimalResult(prediction=MinimalPrediction(predicted_y_in_px=103.8))"
      ]
     },
     "execution_count": 111,
     "metadata": {},
     "output_type": "execute_result"
    }
   ],
   "source": [
    "tt.prediction_result"
   ]
  },
  {
   "cell_type": "code",
   "execution_count": 112,
   "metadata": {},
   "outputs": [
    {
     "data": {
      "text/plain": [
       "(268,\n",
       " L3AxialSliceMetadata(sagittal_start_z_pos=-1023.50751, first_axial_pos=-1024.5, last_axial_pos=-1285.0, l3_axial_image_index=268, axial_image_count=666, predicted_z_position=-1127.30751, l3_axial_image_dcm_path=PosixPath('/tf/data/Z1939610/Z1939610-SE-20-Bone_Stnd_Bone_Sharp_Bone_0.5/1.2.840.113654.2.70.1.245770781970033063742681114790294133997.dcm')))"
      ]
     },
     "execution_count": 112,
     "metadata": {},
     "output_type": "execute_result"
    }
   ],
   "source": [
    "tt.prediction_index"
   ]
  },
  {
   "cell_type": "code",
   "execution_count": null,
   "metadata": {},
   "outputs": [],
   "source": []
  }
 ],
 "metadata": {
  "file_extension": ".py",
  "kernelspec": {
   "display_name": "Python 3",
   "language": "python",
   "name": "python3"
  },
  "language_info": {
   "codemirror_mode": {
    "name": "ipython",
    "version": 3
   },
   "file_extension": ".py",
   "mimetype": "text/x-python",
   "name": "python",
   "nbconvert_exporter": "python",
   "pygments_lexer": "ipython3",
   "version": "3.8.5"
  },
  "mimetype": "text/x-python",
  "name": "python",
  "npconvert_exporter": "python",
  "pygments_lexer": "ipython3",
  "version": 3
 },
 "nbformat": 4,
 "nbformat_minor": 4
}
